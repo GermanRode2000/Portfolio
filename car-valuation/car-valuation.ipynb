{
 "cells": [
  {
   "cell_type": "markdown",
   "metadata": {},
   "source": [
    "# Определение стоимости автомобилей"
   ]
  },
  {
   "cell_type": "markdown",
   "metadata": {},
   "source": [
    "Необходимо разработать сервис для предсказания рыночной стоимости своего автомобиля, а именно построить модель МО для предсказания цена. \n",
    "\n",
    "Имеются данные о технических характеристиках, комплектации и ценах различных автомобилей.\n",
    "\n",
    "Заказчику важны:\n",
    "\n",
    "- качество предсказания;\n",
    "- скорость предсказания;\n",
    "- время обучения."
   ]
  },
  {
   "cell_type": "markdown",
   "metadata": {},
   "source": [
    "## Подготовка данных"
   ]
  },
  {
   "cell_type": "code",
   "execution_count": 1,
   "metadata": {
    "scrolled": true
   },
   "outputs": [
    {
     "name": "stdout",
     "output_type": "stream",
     "text": [
      "Requirement already satisfied: scikit-learn in /opt/conda/lib/python3.9/site-packages (1.4.2)\n",
      "Requirement already satisfied: threadpoolctl>=2.0.0 in /opt/conda/lib/python3.9/site-packages (from scikit-learn) (3.1.0)\n",
      "Requirement already satisfied: joblib>=1.2.0 in /opt/conda/lib/python3.9/site-packages (from scikit-learn) (1.4.0)\n",
      "Requirement already satisfied: numpy>=1.19.5 in /opt/conda/lib/python3.9/site-packages (from scikit-learn) (1.21.1)\n",
      "Requirement already satisfied: scipy>=1.6.0 in /opt/conda/lib/python3.9/site-packages (from scikit-learn) (1.9.1)\n"
     ]
    }
   ],
   "source": [
    "!pip install scikit-learn --upgrade"
   ]
  },
  {
   "cell_type": "code",
   "execution_count": 2,
   "metadata": {},
   "outputs": [],
   "source": [
    "import matplotlib.pyplot as plt\n",
    "import numpy as np\n",
    "import pandas as pd\n",
    "import seaborn as sns\n",
    "from sklearn.model_selection import train_test_split\n",
    "from sklearn.preprocessing import StandardScaler\n",
    "from sklearn.metrics import mean_squared_error\n",
    "from sklearn.preprocessing import OrdinalEncoder, OneHotEncoder\n",
    "from sklearn.linear_model import LinearRegression\n",
    "from sklearn.tree import DecisionTreeRegressor\n",
    "from catboost import Pool, CatBoostRegressor, cv\n",
    "from lightgbm import LGBMRegressor\n",
    "from sklearn.model_selection import RandomizedSearchCV\n",
    "from time import time\n",
    "from sklearn.dummy import DummyRegressor\n",
    "\n",
    "import warnings\n",
    "warnings.filterwarnings(\"ignore\")\n",
    "\n",
    "sns.set(rc={'figure.figsize':(10,7)})"
   ]
  },
  {
   "cell_type": "markdown",
   "metadata": {},
   "source": [
    "### Выгрузка данных"
   ]
  },
  {
   "cell_type": "code",
   "execution_count": 3,
   "metadata": {},
   "outputs": [
    {
     "data": {
      "text/html": [
       "<div>\n",
       "<style scoped>\n",
       "    .dataframe tbody tr th:only-of-type {\n",
       "        vertical-align: middle;\n",
       "    }\n",
       "\n",
       "    .dataframe tbody tr th {\n",
       "        vertical-align: top;\n",
       "    }\n",
       "\n",
       "    .dataframe thead th {\n",
       "        text-align: right;\n",
       "    }\n",
       "</style>\n",
       "<table border=\"1\" class=\"dataframe\">\n",
       "  <thead>\n",
       "    <tr style=\"text-align: right;\">\n",
       "      <th></th>\n",
       "      <th>DateCrawled</th>\n",
       "      <th>Price</th>\n",
       "      <th>VehicleType</th>\n",
       "      <th>RegistrationYear</th>\n",
       "      <th>Gearbox</th>\n",
       "      <th>Power</th>\n",
       "      <th>Model</th>\n",
       "      <th>Kilometer</th>\n",
       "      <th>RegistrationMonth</th>\n",
       "      <th>FuelType</th>\n",
       "      <th>Brand</th>\n",
       "      <th>Repaired</th>\n",
       "      <th>DateCreated</th>\n",
       "      <th>NumberOfPictures</th>\n",
       "      <th>PostalCode</th>\n",
       "      <th>LastSeen</th>\n",
       "    </tr>\n",
       "  </thead>\n",
       "  <tbody>\n",
       "    <tr>\n",
       "      <th>0</th>\n",
       "      <td>2016-03-24 11:52:17</td>\n",
       "      <td>480</td>\n",
       "      <td>NaN</td>\n",
       "      <td>1993</td>\n",
       "      <td>manual</td>\n",
       "      <td>0</td>\n",
       "      <td>golf</td>\n",
       "      <td>150000</td>\n",
       "      <td>0</td>\n",
       "      <td>petrol</td>\n",
       "      <td>volkswagen</td>\n",
       "      <td>NaN</td>\n",
       "      <td>2016-03-24 00:00:00</td>\n",
       "      <td>0</td>\n",
       "      <td>70435</td>\n",
       "      <td>2016-04-07 03:16:57</td>\n",
       "    </tr>\n",
       "    <tr>\n",
       "      <th>1</th>\n",
       "      <td>2016-03-24 10:58:45</td>\n",
       "      <td>18300</td>\n",
       "      <td>coupe</td>\n",
       "      <td>2011</td>\n",
       "      <td>manual</td>\n",
       "      <td>190</td>\n",
       "      <td>NaN</td>\n",
       "      <td>125000</td>\n",
       "      <td>5</td>\n",
       "      <td>gasoline</td>\n",
       "      <td>audi</td>\n",
       "      <td>yes</td>\n",
       "      <td>2016-03-24 00:00:00</td>\n",
       "      <td>0</td>\n",
       "      <td>66954</td>\n",
       "      <td>2016-04-07 01:46:50</td>\n",
       "    </tr>\n",
       "    <tr>\n",
       "      <th>2</th>\n",
       "      <td>2016-03-14 12:52:21</td>\n",
       "      <td>9800</td>\n",
       "      <td>suv</td>\n",
       "      <td>2004</td>\n",
       "      <td>auto</td>\n",
       "      <td>163</td>\n",
       "      <td>grand</td>\n",
       "      <td>125000</td>\n",
       "      <td>8</td>\n",
       "      <td>gasoline</td>\n",
       "      <td>jeep</td>\n",
       "      <td>NaN</td>\n",
       "      <td>2016-03-14 00:00:00</td>\n",
       "      <td>0</td>\n",
       "      <td>90480</td>\n",
       "      <td>2016-04-05 12:47:46</td>\n",
       "    </tr>\n",
       "    <tr>\n",
       "      <th>3</th>\n",
       "      <td>2016-03-17 16:54:04</td>\n",
       "      <td>1500</td>\n",
       "      <td>small</td>\n",
       "      <td>2001</td>\n",
       "      <td>manual</td>\n",
       "      <td>75</td>\n",
       "      <td>golf</td>\n",
       "      <td>150000</td>\n",
       "      <td>6</td>\n",
       "      <td>petrol</td>\n",
       "      <td>volkswagen</td>\n",
       "      <td>no</td>\n",
       "      <td>2016-03-17 00:00:00</td>\n",
       "      <td>0</td>\n",
       "      <td>91074</td>\n",
       "      <td>2016-03-17 17:40:17</td>\n",
       "    </tr>\n",
       "    <tr>\n",
       "      <th>4</th>\n",
       "      <td>2016-03-31 17:25:20</td>\n",
       "      <td>3600</td>\n",
       "      <td>small</td>\n",
       "      <td>2008</td>\n",
       "      <td>manual</td>\n",
       "      <td>69</td>\n",
       "      <td>fabia</td>\n",
       "      <td>90000</td>\n",
       "      <td>7</td>\n",
       "      <td>gasoline</td>\n",
       "      <td>skoda</td>\n",
       "      <td>no</td>\n",
       "      <td>2016-03-31 00:00:00</td>\n",
       "      <td>0</td>\n",
       "      <td>60437</td>\n",
       "      <td>2016-04-06 10:17:21</td>\n",
       "    </tr>\n",
       "    <tr>\n",
       "      <th>5</th>\n",
       "      <td>2016-04-04 17:36:23</td>\n",
       "      <td>650</td>\n",
       "      <td>sedan</td>\n",
       "      <td>1995</td>\n",
       "      <td>manual</td>\n",
       "      <td>102</td>\n",
       "      <td>3er</td>\n",
       "      <td>150000</td>\n",
       "      <td>10</td>\n",
       "      <td>petrol</td>\n",
       "      <td>bmw</td>\n",
       "      <td>yes</td>\n",
       "      <td>2016-04-04 00:00:00</td>\n",
       "      <td>0</td>\n",
       "      <td>33775</td>\n",
       "      <td>2016-04-06 19:17:07</td>\n",
       "    </tr>\n",
       "    <tr>\n",
       "      <th>6</th>\n",
       "      <td>2016-04-01 20:48:51</td>\n",
       "      <td>2200</td>\n",
       "      <td>convertible</td>\n",
       "      <td>2004</td>\n",
       "      <td>manual</td>\n",
       "      <td>109</td>\n",
       "      <td>2_reihe</td>\n",
       "      <td>150000</td>\n",
       "      <td>8</td>\n",
       "      <td>petrol</td>\n",
       "      <td>peugeot</td>\n",
       "      <td>no</td>\n",
       "      <td>2016-04-01 00:00:00</td>\n",
       "      <td>0</td>\n",
       "      <td>67112</td>\n",
       "      <td>2016-04-05 18:18:39</td>\n",
       "    </tr>\n",
       "    <tr>\n",
       "      <th>7</th>\n",
       "      <td>2016-03-21 18:54:38</td>\n",
       "      <td>0</td>\n",
       "      <td>sedan</td>\n",
       "      <td>1980</td>\n",
       "      <td>manual</td>\n",
       "      <td>50</td>\n",
       "      <td>other</td>\n",
       "      <td>40000</td>\n",
       "      <td>7</td>\n",
       "      <td>petrol</td>\n",
       "      <td>volkswagen</td>\n",
       "      <td>no</td>\n",
       "      <td>2016-03-21 00:00:00</td>\n",
       "      <td>0</td>\n",
       "      <td>19348</td>\n",
       "      <td>2016-03-25 16:47:58</td>\n",
       "    </tr>\n",
       "    <tr>\n",
       "      <th>8</th>\n",
       "      <td>2016-04-04 23:42:13</td>\n",
       "      <td>14500</td>\n",
       "      <td>bus</td>\n",
       "      <td>2014</td>\n",
       "      <td>manual</td>\n",
       "      <td>125</td>\n",
       "      <td>c_max</td>\n",
       "      <td>30000</td>\n",
       "      <td>8</td>\n",
       "      <td>petrol</td>\n",
       "      <td>ford</td>\n",
       "      <td>NaN</td>\n",
       "      <td>2016-04-04 00:00:00</td>\n",
       "      <td>0</td>\n",
       "      <td>94505</td>\n",
       "      <td>2016-04-04 23:42:13</td>\n",
       "    </tr>\n",
       "    <tr>\n",
       "      <th>9</th>\n",
       "      <td>2016-03-17 10:53:50</td>\n",
       "      <td>999</td>\n",
       "      <td>small</td>\n",
       "      <td>1998</td>\n",
       "      <td>manual</td>\n",
       "      <td>101</td>\n",
       "      <td>golf</td>\n",
       "      <td>150000</td>\n",
       "      <td>0</td>\n",
       "      <td>NaN</td>\n",
       "      <td>volkswagen</td>\n",
       "      <td>NaN</td>\n",
       "      <td>2016-03-17 00:00:00</td>\n",
       "      <td>0</td>\n",
       "      <td>27472</td>\n",
       "      <td>2016-03-31 17:17:06</td>\n",
       "    </tr>\n",
       "  </tbody>\n",
       "</table>\n",
       "</div>"
      ],
      "text/plain": [
       "           DateCrawled  Price  VehicleType  RegistrationYear Gearbox  Power  \\\n",
       "0  2016-03-24 11:52:17    480          NaN              1993  manual      0   \n",
       "1  2016-03-24 10:58:45  18300        coupe              2011  manual    190   \n",
       "2  2016-03-14 12:52:21   9800          suv              2004    auto    163   \n",
       "3  2016-03-17 16:54:04   1500        small              2001  manual     75   \n",
       "4  2016-03-31 17:25:20   3600        small              2008  manual     69   \n",
       "5  2016-04-04 17:36:23    650        sedan              1995  manual    102   \n",
       "6  2016-04-01 20:48:51   2200  convertible              2004  manual    109   \n",
       "7  2016-03-21 18:54:38      0        sedan              1980  manual     50   \n",
       "8  2016-04-04 23:42:13  14500          bus              2014  manual    125   \n",
       "9  2016-03-17 10:53:50    999        small              1998  manual    101   \n",
       "\n",
       "     Model  Kilometer  RegistrationMonth  FuelType       Brand Repaired  \\\n",
       "0     golf     150000                  0    petrol  volkswagen      NaN   \n",
       "1      NaN     125000                  5  gasoline        audi      yes   \n",
       "2    grand     125000                  8  gasoline        jeep      NaN   \n",
       "3     golf     150000                  6    petrol  volkswagen       no   \n",
       "4    fabia      90000                  7  gasoline       skoda       no   \n",
       "5      3er     150000                 10    petrol         bmw      yes   \n",
       "6  2_reihe     150000                  8    petrol     peugeot       no   \n",
       "7    other      40000                  7    petrol  volkswagen       no   \n",
       "8    c_max      30000                  8    petrol        ford      NaN   \n",
       "9     golf     150000                  0       NaN  volkswagen      NaN   \n",
       "\n",
       "           DateCreated  NumberOfPictures  PostalCode             LastSeen  \n",
       "0  2016-03-24 00:00:00                 0       70435  2016-04-07 03:16:57  \n",
       "1  2016-03-24 00:00:00                 0       66954  2016-04-07 01:46:50  \n",
       "2  2016-03-14 00:00:00                 0       90480  2016-04-05 12:47:46  \n",
       "3  2016-03-17 00:00:00                 0       91074  2016-03-17 17:40:17  \n",
       "4  2016-03-31 00:00:00                 0       60437  2016-04-06 10:17:21  \n",
       "5  2016-04-04 00:00:00                 0       33775  2016-04-06 19:17:07  \n",
       "6  2016-04-01 00:00:00                 0       67112  2016-04-05 18:18:39  \n",
       "7  2016-03-21 00:00:00                 0       19348  2016-03-25 16:47:58  \n",
       "8  2016-04-04 00:00:00                 0       94505  2016-04-04 23:42:13  \n",
       "9  2016-03-17 00:00:00                 0       27472  2016-03-31 17:17:06  "
      ]
     },
     "execution_count": 3,
     "metadata": {},
     "output_type": "execute_result"
    }
   ],
   "source": [
    "df = pd.read_csv('/datasets/autos.csv')\n",
    "\n",
    "df.head(10)"
   ]
  },
  {
   "cell_type": "code",
   "execution_count": 4,
   "metadata": {},
   "outputs": [
    {
     "name": "stdout",
     "output_type": "stream",
     "text": [
      "<class 'pandas.core.frame.DataFrame'>\n",
      "RangeIndex: 354369 entries, 0 to 354368\n",
      "Data columns (total 16 columns):\n",
      " #   Column             Non-Null Count   Dtype \n",
      "---  ------             --------------   ----- \n",
      " 0   DateCrawled        354369 non-null  object\n",
      " 1   Price              354369 non-null  int64 \n",
      " 2   VehicleType        316879 non-null  object\n",
      " 3   RegistrationYear   354369 non-null  int64 \n",
      " 4   Gearbox            334536 non-null  object\n",
      " 5   Power              354369 non-null  int64 \n",
      " 6   Model              334664 non-null  object\n",
      " 7   Kilometer          354369 non-null  int64 \n",
      " 8   RegistrationMonth  354369 non-null  int64 \n",
      " 9   FuelType           321474 non-null  object\n",
      " 10  Brand              354369 non-null  object\n",
      " 11  Repaired           283215 non-null  object\n",
      " 12  DateCreated        354369 non-null  object\n",
      " 13  NumberOfPictures   354369 non-null  int64 \n",
      " 14  PostalCode         354369 non-null  int64 \n",
      " 15  LastSeen           354369 non-null  object\n",
      "dtypes: int64(7), object(9)\n",
      "memory usage: 43.3+ MB\n"
     ]
    }
   ],
   "source": [
    "df.info()"
   ]
  },
  {
   "cell_type": "markdown",
   "metadata": {},
   "source": [
    "### Предобработка данных"
   ]
  },
  {
   "cell_type": "code",
   "execution_count": 5,
   "metadata": {},
   "outputs": [
    {
     "data": {
      "text/plain": [
       "4"
      ]
     },
     "execution_count": 5,
     "metadata": {},
     "output_type": "execute_result"
    }
   ],
   "source": [
    "# посмотрим на дубликаты\n",
    "df.duplicated().sum()"
   ]
  },
  {
   "cell_type": "markdown",
   "metadata": {},
   "source": [
    "Дубликаты есть, но немного - допустим, что это разные автомобили с одинаковыми признаками."
   ]
  },
  {
   "cell_type": "code",
   "execution_count": 6,
   "metadata": {},
   "outputs": [
    {
     "data": {
      "text/plain": [
       "DateCrawled              0\n",
       "Price                    0\n",
       "VehicleType          37490\n",
       "RegistrationYear         0\n",
       "Gearbox              19833\n",
       "Power                    0\n",
       "Model                19705\n",
       "Kilometer                0\n",
       "RegistrationMonth        0\n",
       "FuelType             32895\n",
       "Brand                    0\n",
       "Repaired             71154\n",
       "DateCreated              0\n",
       "NumberOfPictures         0\n",
       "PostalCode               0\n",
       "LastSeen                 0\n",
       "dtype: int64"
      ]
     },
     "execution_count": 6,
     "metadata": {},
     "output_type": "execute_result"
    }
   ],
   "source": [
    "# посмотрим на пропуски\n",
    "df.isna().sum()"
   ]
  },
  {
   "cell_type": "markdown",
   "metadata": {},
   "source": [
    "Пропуски присутствуют, обработаем их."
   ]
  },
  {
   "cell_type": "markdown",
   "metadata": {},
   "source": [
    "В столбце VehicleType проспусков много - около 10% от всех данных. Удалить не получиться, так как потеряем много нужной информации. Заменил на значение \"unknown\"."
   ]
  },
  {
   "cell_type": "code",
   "execution_count": 7,
   "metadata": {},
   "outputs": [],
   "source": [
    "df['VehicleType'] = df['VehicleType'].fillna('unknown')"
   ]
  },
  {
   "cell_type": "markdown",
   "metadata": {},
   "source": [
    "В столбце с типом коробки передач пропуски заменим на 'unknown'."
   ]
  },
  {
   "cell_type": "code",
   "execution_count": 8,
   "metadata": {},
   "outputs": [],
   "source": [
    "df['Gearbox'] = df['Gearbox'].fillna('unknown')"
   ]
  },
  {
   "cell_type": "markdown",
   "metadata": {},
   "source": [
    "Модель машины, к сожалению, восстановить нельзя, но пропуски также не оставить - попробуем заменить заглушкой."
   ]
  },
  {
   "cell_type": "code",
   "execution_count": 9,
   "metadata": {},
   "outputs": [],
   "source": [
    "df['Model'] = df['Model'].fillna('unknown')"
   ]
  },
  {
   "cell_type": "markdown",
   "metadata": {},
   "source": [
    "Пропуски в FuelType заменим также заглушкой."
   ]
  },
  {
   "cell_type": "code",
   "execution_count": 10,
   "metadata": {},
   "outputs": [],
   "source": [
    "df['FuelType'] = df['FuelType'].fillna('unknown')"
   ]
  },
  {
   "cell_type": "markdown",
   "metadata": {},
   "source": [
    "В столбце Repaired пропуски заменим также на unknown."
   ]
  },
  {
   "cell_type": "code",
   "execution_count": 11,
   "metadata": {},
   "outputs": [
    {
     "data": {
      "text/plain": [
       "0         unknown\n",
       "1             yes\n",
       "2         unknown\n",
       "3              no\n",
       "4              no\n",
       "           ...   \n",
       "354364        yes\n",
       "354365    unknown\n",
       "354366         no\n",
       "354367         no\n",
       "354368    unknown\n",
       "Name: Repaired, Length: 354369, dtype: object"
      ]
     },
     "execution_count": 11,
     "metadata": {},
     "output_type": "execute_result"
    }
   ],
   "source": [
    "df['Repaired'].fillna('unknown')"
   ]
  },
  {
   "cell_type": "code",
   "execution_count": 12,
   "metadata": {},
   "outputs": [
    {
     "name": "stdout",
     "output_type": "stream",
     "text": [
      "Уникальные значение в столбце \"Brand\": ['volkswagen' 'audi' 'jeep' 'skoda' 'bmw' 'peugeot' 'ford' 'mazda'\n",
      " 'nissan' 'renault' 'mercedes_benz' 'opel' 'seat' 'citroen' 'honda' 'fiat'\n",
      " 'mini' 'smart' 'hyundai' 'sonstige_autos' 'alfa_romeo' 'subaru' 'volvo'\n",
      " 'mitsubishi' 'kia' 'suzuki' 'lancia' 'toyota' 'chevrolet' 'dacia'\n",
      " 'daihatsu' 'trabant' 'saab' 'chrysler' 'jaguar' 'daewoo' 'porsche'\n",
      " 'rover' 'land_rover' 'lada']\n",
      "\n",
      "\n",
      "Уникальные значение в столбце \"FuelType\": ['petrol' 'gasoline' 'unknown' 'lpg' 'other' 'hybrid' 'cng' 'electric']\n",
      "\n",
      "\n",
      "Уникальные значение в столбце \"Gearbox\": ['manual' 'auto' 'unknown']\n",
      "\n",
      "\n"
     ]
    }
   ],
   "source": [
    "# посмотрим на неявные дубликаты в столбцах brand, fuel type, gearbox\n",
    "for i in df[['Brand', 'FuelType', 'Gearbox']]:\n",
    "        print(f'Уникальные значение в столбце \"{i}\": {df[i].unique()}')\n",
    "        print('\\n')"
   ]
  },
  {
   "cell_type": "markdown",
   "metadata": {},
   "source": [
    "Неявных дублей тоже не обнаружено."
   ]
  },
  {
   "cell_type": "code",
   "execution_count": 13,
   "metadata": {},
   "outputs": [
    {
     "data": {
      "text/html": [
       "<div>\n",
       "<style scoped>\n",
       "    .dataframe tbody tr th:only-of-type {\n",
       "        vertical-align: middle;\n",
       "    }\n",
       "\n",
       "    .dataframe tbody tr th {\n",
       "        vertical-align: top;\n",
       "    }\n",
       "\n",
       "    .dataframe thead th {\n",
       "        text-align: right;\n",
       "    }\n",
       "</style>\n",
       "<table border=\"1\" class=\"dataframe\">\n",
       "  <thead>\n",
       "    <tr style=\"text-align: right;\">\n",
       "      <th></th>\n",
       "      <th>Price</th>\n",
       "      <th>RegistrationYear</th>\n",
       "      <th>Power</th>\n",
       "      <th>Kilometer</th>\n",
       "      <th>RegistrationMonth</th>\n",
       "      <th>NumberOfPictures</th>\n",
       "      <th>PostalCode</th>\n",
       "    </tr>\n",
       "  </thead>\n",
       "  <tbody>\n",
       "    <tr>\n",
       "      <th>count</th>\n",
       "      <td>354369.000000</td>\n",
       "      <td>354369.000000</td>\n",
       "      <td>354369.000000</td>\n",
       "      <td>354369.000000</td>\n",
       "      <td>354369.000000</td>\n",
       "      <td>354369.0</td>\n",
       "      <td>354369.000000</td>\n",
       "    </tr>\n",
       "    <tr>\n",
       "      <th>mean</th>\n",
       "      <td>4416.656776</td>\n",
       "      <td>2004.234448</td>\n",
       "      <td>110.094337</td>\n",
       "      <td>128211.172535</td>\n",
       "      <td>5.714645</td>\n",
       "      <td>0.0</td>\n",
       "      <td>50508.689087</td>\n",
       "    </tr>\n",
       "    <tr>\n",
       "      <th>std</th>\n",
       "      <td>4514.158514</td>\n",
       "      <td>90.227958</td>\n",
       "      <td>189.850405</td>\n",
       "      <td>37905.341530</td>\n",
       "      <td>3.726421</td>\n",
       "      <td>0.0</td>\n",
       "      <td>25783.096248</td>\n",
       "    </tr>\n",
       "    <tr>\n",
       "      <th>min</th>\n",
       "      <td>0.000000</td>\n",
       "      <td>1000.000000</td>\n",
       "      <td>0.000000</td>\n",
       "      <td>5000.000000</td>\n",
       "      <td>0.000000</td>\n",
       "      <td>0.0</td>\n",
       "      <td>1067.000000</td>\n",
       "    </tr>\n",
       "    <tr>\n",
       "      <th>25%</th>\n",
       "      <td>1050.000000</td>\n",
       "      <td>1999.000000</td>\n",
       "      <td>69.000000</td>\n",
       "      <td>125000.000000</td>\n",
       "      <td>3.000000</td>\n",
       "      <td>0.0</td>\n",
       "      <td>30165.000000</td>\n",
       "    </tr>\n",
       "    <tr>\n",
       "      <th>50%</th>\n",
       "      <td>2700.000000</td>\n",
       "      <td>2003.000000</td>\n",
       "      <td>105.000000</td>\n",
       "      <td>150000.000000</td>\n",
       "      <td>6.000000</td>\n",
       "      <td>0.0</td>\n",
       "      <td>49413.000000</td>\n",
       "    </tr>\n",
       "    <tr>\n",
       "      <th>75%</th>\n",
       "      <td>6400.000000</td>\n",
       "      <td>2008.000000</td>\n",
       "      <td>143.000000</td>\n",
       "      <td>150000.000000</td>\n",
       "      <td>9.000000</td>\n",
       "      <td>0.0</td>\n",
       "      <td>71083.000000</td>\n",
       "    </tr>\n",
       "    <tr>\n",
       "      <th>max</th>\n",
       "      <td>20000.000000</td>\n",
       "      <td>9999.000000</td>\n",
       "      <td>20000.000000</td>\n",
       "      <td>150000.000000</td>\n",
       "      <td>12.000000</td>\n",
       "      <td>0.0</td>\n",
       "      <td>99998.000000</td>\n",
       "    </tr>\n",
       "  </tbody>\n",
       "</table>\n",
       "</div>"
      ],
      "text/plain": [
       "               Price  RegistrationYear          Power      Kilometer  \\\n",
       "count  354369.000000     354369.000000  354369.000000  354369.000000   \n",
       "mean     4416.656776       2004.234448     110.094337  128211.172535   \n",
       "std      4514.158514         90.227958     189.850405   37905.341530   \n",
       "min         0.000000       1000.000000       0.000000    5000.000000   \n",
       "25%      1050.000000       1999.000000      69.000000  125000.000000   \n",
       "50%      2700.000000       2003.000000     105.000000  150000.000000   \n",
       "75%      6400.000000       2008.000000     143.000000  150000.000000   \n",
       "max     20000.000000       9999.000000   20000.000000  150000.000000   \n",
       "\n",
       "       RegistrationMonth  NumberOfPictures     PostalCode  \n",
       "count      354369.000000          354369.0  354369.000000  \n",
       "mean            5.714645               0.0   50508.689087  \n",
       "std             3.726421               0.0   25783.096248  \n",
       "min             0.000000               0.0    1067.000000  \n",
       "25%             3.000000               0.0   30165.000000  \n",
       "50%             6.000000               0.0   49413.000000  \n",
       "75%             9.000000               0.0   71083.000000  \n",
       "max            12.000000               0.0   99998.000000  "
      ]
     },
     "execution_count": 13,
     "metadata": {},
     "output_type": "execute_result"
    }
   ],
   "source": [
    "# проведем исследовательский анализ\n",
    "df.describe()"
   ]
  },
  {
   "cell_type": "code",
   "execution_count": 14,
   "metadata": {
    "scrolled": true
   },
   "outputs": [
    {
     "data": {
      "image/png": "[encoded data removed]",
      "text/plain": [
       "<Figure size 576x576 with 1 Axes>"
      ]
     },
     "metadata": {},
     "output_type": "display_data"
    },
    {
     "data": {
      "image/png": "[encoded data removed]",
      "text/plain": [
       "<Figure size 576x576 with 1 Axes>"
      ]
     },
     "metadata": {},
     "output_type": "display_data"
    },
    {
     "data": {
      "image/png": "[encoded data removed]",
      "text/plain": [
       "<Figure size 576x576 with 1 Axes>"
      ]
     },
     "metadata": {},
     "output_type": "display_data"
    },
    {
     "data": {
      "image/png": "[encoded data removed]",
      "text/plain": [
       "<Figure size 576x576 with 1 Axes>"
      ]
     },
     "metadata": {},
     "output_type": "display_data"
    },
    {
     "data": {
      "image/png": "[encoded data removed]",
      "text/plain": [
       "<Figure size 576x576 with 1 Axes>"
      ]
     },
     "metadata": {},
     "output_type": "display_data"
    },
    {
     "data": {
      "image/png": "[encoded data removed]",
      "text/plain": [
       "<Figure size 576x576 with 1 Axes>"
      ]
     },
     "metadata": {},
     "output_type": "display_data"
    }
   ],
   "source": [
    "# построим ящик с усами\n",
    "for i in df[['Price', 'RegistrationYear', 'Power', 'Kilometer', 'RegistrationMonth', 'NumberOfPictures']]:\n",
    "        df.boxplot(column=i, figsize=(8,8))\n",
    "        plt.title(f'График распределения значение столбца {i}')\n",
    "        plt.show()"
   ]
  },
  {
   "cell_type": "markdown",
   "metadata": {},
   "source": [
    "Практические везде присутствуют аномальные значение.\n",
    "Нам следует:\n",
    "- Исключить данные, где стоимость автомобиля менее 500 евро (если цена меньше, то, скорее всего, это ошибка).\n",
    "- Исключить данные, где год регистрации больше 2016 и меньше 1960.\n",
    "- Исключить авто с мощностью более 1600 л/с и менее 50 л/с.\n",
    "\n",
    "\n",
    "Признаки NumberOfPictures, PostalCode, DateCrawled, LastSeen, DateCreated, RegistrationMonth не несут полезной информации, их можно удалить."
   ]
  },
  {
   "cell_type": "code",
   "execution_count": 15,
   "metadata": {},
   "outputs": [],
   "source": [
    "df = df.query('Price > 500 and RegistrationYear > 1950 and RegistrationYear < 2017 and Power < 1600 and Power > 50') \\\n",
    ".drop(['NumberOfPictures', 'PostalCode', 'DateCrawled', 'LastSeen', 'DateCreated', 'RegistrationMonth'], axis=1)"
   ]
  },
  {
   "cell_type": "code",
   "execution_count": 16,
   "metadata": {},
   "outputs": [
    {
     "data": {
      "text/plain": [
       "35450"
      ]
     },
     "execution_count": 16,
     "metadata": {},
     "output_type": "execute_result"
    }
   ],
   "source": [
    "# посмотрим еще раз на наличие явных дублей\n",
    "df.duplicated().sum()"
   ]
  },
  {
   "cell_type": "code",
   "execution_count": 17,
   "metadata": {},
   "outputs": [],
   "source": [
    "# удалим дубли\n",
    "df = df.drop_duplicates()"
   ]
  },
  {
   "cell_type": "code",
   "execution_count": 18,
   "metadata": {
    "scrolled": true
   },
   "outputs": [
    {
     "data": {
      "image/png": "[encoded data removed]",
      "text/plain": [
       "<Figure size 864x864 with 1 Axes>"
      ]
     },
     "metadata": {},
     "output_type": "display_data"
    },
    {
     "data": {
      "image/png": "[encoded data removed]",
      "text/plain": [
       "<Figure size 864x864 with 1 Axes>"
      ]
     },
     "metadata": {},
     "output_type": "display_data"
    },
    {
     "data": {
      "image/png": "[encoded data removed]",
      "text/plain": [
       "<Figure size 864x864 with 1 Axes>"
      ]
     },
     "metadata": {},
     "output_type": "display_data"
    },
    {
     "data": {
      "image/png": "[encoded data removed]",
      "text/plain": [
       "<Figure size 864x864 with 1 Axes>"
      ]
     },
     "metadata": {},
     "output_type": "display_data"
    }
   ],
   "source": [
    "# построим гистограммы\n",
    "for i in df[['Price', 'RegistrationYear', 'Power', 'Kilometer']]:\n",
    "            fig, ax = plt.subplots(figsize=(12, 12))\n",
    "            plt.hist(df[i])\n",
    "            plt.title(f'Гистограмма распределений для столбца {i}')\n",
    "            plt.xlabel(f'{i}')\n",
    "            plt.ylabel('Количество сотрудников')\n",
    "            plt.show()"
   ]
  },
  {
   "cell_type": "markdown",
   "metadata": {},
   "source": [
    "Большинство данных имеют ненормальное распределение."
   ]
  },
  {
   "cell_type": "code",
   "execution_count": 19,
   "metadata": {
    "scrolled": true
   },
   "outputs": [
    {
     "data": {
      "image/png": "[encoded data removed]",
      "text/plain": [
       "<Figure size 576x576 with 1 Axes>"
      ]
     },
     "metadata": {},
     "output_type": "display_data"
    },
    {
     "data": {
      "image/png": "[encoded data removed]",
      "text/plain": [
       "<Figure size 576x576 with 1 Axes>"
      ]
     },
     "metadata": {},
     "output_type": "display_data"
    },
    {
     "data": {
      "image/png": "[encoded data removed]",
      "text/plain": [
       "<Figure size 576x576 with 1 Axes>"
      ]
     },
     "metadata": {},
     "output_type": "display_data"
    }
   ],
   "source": [
    "# построим диаграммы для некоторых качественных переменных\n",
    "for i in df[['VehicleType', 'Gearbox', 'Repaired']]:\n",
    "        df[i].value_counts(normalize=True).plot(\n",
    "            kind='pie', \n",
    "            figsize=(8, 8),\n",
    "            wedgeprops={'linewidth': 3.0, 'edgecolor': 'white'},\n",
    "            textprops={'size': 'x-large'}, \n",
    "            legend=False,)\n",
    "        plt.title(f'Соотношение значений в столбце {i}')\n",
    "        plt.show()"
   ]
  },
  {
   "cell_type": "markdown",
   "metadata": {},
   "source": [
    "Большинство автомобилей:\n",
    "- имеют тип кузова small, sedan или wagon\n",
    "- имеют МКПП\n",
    "- не были в ремонте"
   ]
  },
  {
   "cell_type": "markdown",
   "metadata": {},
   "source": [
    "### Вывод\n",
    "- Произвелась выгрузка данных\n",
    "- Данные были проверены на дубликаты\n",
    "- По возможности данные с пропусками были восстановлены, остальные - удалены."
   ]
  },
  {
   "cell_type": "markdown",
   "metadata": {},
   "source": [
    "## Обучение моделей"
   ]
  },
  {
   "cell_type": "markdown",
   "metadata": {},
   "source": [
    "### Подготовка данных"
   ]
  },
  {
   "cell_type": "code",
   "execution_count": 20,
   "metadata": {},
   "outputs": [],
   "source": [
    "RANDOM_STATE = 74"
   ]
  },
  {
   "cell_type": "code",
   "execution_count": 21,
   "metadata": {},
   "outputs": [],
   "source": [
    "# выделим категориальные признаки\n",
    "cat_cols = ['VehicleType', 'Gearbox', 'Brand', 'Model', 'FuelType', \n",
    "            'Repaired', 'Kilometer', 'RegistrationYear']\n",
    "\n",
    "# определим количественные признаки\n",
    "num_cols = ['Power']"
   ]
  },
  {
   "cell_type": "code",
   "execution_count": 22,
   "metadata": {},
   "outputs": [],
   "source": [
    "# разделим признаки на выходные и целевой\n",
    "X = df.drop('Price', axis= 1)\n",
    "y = df['Price']"
   ]
  },
  {
   "cell_type": "code",
   "execution_count": 23,
   "metadata": {},
   "outputs": [],
   "source": [
    "# разделим данные на тренировочные и тестовые\n",
    "X_train, X_test, y_train, y_test = train_test_split(X, y, random_state=RANDOM_STATE, test_size=0.25)"
   ]
  },
  {
   "cell_type": "code",
   "execution_count": 24,
   "metadata": {},
   "outputs": [],
   "source": [
    "# категориальные признаки закодируем при помощи OrdinalEncoder\n",
    "# чтобы не размножать много признаков\n",
    "encoder = OrdinalEncoder(handle_unknown='use_encoded_value', unknown_value = np.nan)"
   ]
  },
  {
   "cell_type": "code",
   "execution_count": 25,
   "metadata": {},
   "outputs": [],
   "source": [
    "# кодируем качественные признаки\n",
    "X_train_ord = encoder.fit_transform(X_train[cat_cols])\n",
    "X_test_ord = encoder.transform(X_test[cat_cols])\n",
    "\n",
    "X_train_ord = pd.DataFrame(X_train_ord, columns=cat_cols)\n",
    "X_test_ord = pd.DataFrame(X_test_ord, columns=cat_cols)"
   ]
  },
  {
   "cell_type": "code",
   "execution_count": 26,
   "metadata": {},
   "outputs": [],
   "source": [
    "# масштабируем количественные признаки\n",
    "scaler = StandardScaler()\n",
    "\n",
    "X_train_scaled = scaler.fit_transform(X_train[num_cols])\n",
    "X_test_scaled = scaler.transform(X_test[num_cols])\n",
    "\n",
    "X_train_scaled = pd.DataFrame(X_train_scaled, columns=num_cols)\n",
    "X_test_scaled = pd.DataFrame(X_test_scaled, columns=num_cols)"
   ]
  },
  {
   "cell_type": "code",
   "execution_count": 27,
   "metadata": {},
   "outputs": [],
   "source": [
    "# создадим окончательные выборки\n",
    "X_train = pd.concat([X_train_ord, X_train_scaled], axis=1)\n",
    "X_test = pd.concat([X_test_ord, X_test_scaled], axis=1)"
   ]
  },
  {
   "cell_type": "markdown",
   "metadata": {},
   "source": [
    "### DecisionTreeRegressor"
   ]
  },
  {
   "cell_type": "code",
   "execution_count": 28,
   "metadata": {},
   "outputs": [],
   "source": [
    "param_dtr = {\"splitter\":[\"best\",\"random\"],\n",
    "                  \"max_depth\" :range(1, 12),\n",
    "                  \"min_samples_leaf\":range(1,12)}"
   ]
  },
  {
   "cell_type": "code",
   "execution_count": 29,
   "metadata": {},
   "outputs": [],
   "source": [
    "dtr_model = DecisionTreeRegressor(random_state=RANDOM_STATE) "
   ]
  },
  {
   "cell_type": "code",
   "execution_count": 30,
   "metadata": {},
   "outputs": [],
   "source": [
    "rs_dtr = RandomizedSearchCV(\n",
    "         dtr_model,\n",
    "         param_dtr,\n",
    "         scoring='neg_root_mean_squared_error') "
   ]
  },
  {
   "cell_type": "code",
   "execution_count": 31,
   "metadata": {
    "scrolled": false
   },
   "outputs": [
    {
     "data": {
      "text/html": [
       "<style>#sk-container-id-1 {\n",
       "  /* Definition of color scheme common for light and dark mode */\n",
       "  --sklearn-color-text: black;\n",
       "  --sklearn-color-line: gray;\n",
       "  /* Definition of color scheme for unfitted estimators */\n",
       "  --sklearn-color-unfitted-level-0: #fff5e6;\n",
       "  --sklearn-color-unfitted-level-1: #f6e4d2;\n",
       "  --sklearn-color-unfitted-level-2: #ffe0b3;\n",
       "  --sklearn-color-unfitted-level-3: chocolate;\n",
       "  /* Definition of color scheme for fitted estimators */\n",
       "  --sklearn-color-fitted-level-0: #f0f8ff;\n",
       "  --sklearn-color-fitted-level-1: #d4ebff;\n",
       "  --sklearn-color-fitted-level-2: #b3dbfd;\n",
       "  --sklearn-color-fitted-level-3: cornflowerblue;\n",
       "\n",
       "  /* Specific color for light theme */\n",
       "  --sklearn-color-text-on-default-background: var(--sg-text-color, var(--theme-code-foreground, var(--jp-content-font-color1, black)));\n",
       "  --sklearn-color-background: var(--sg-background-color, var(--theme-background, var(--jp-layout-color0, white)));\n",
       "  --sklearn-color-border-box: var(--sg-text-color, var(--theme-code-foreground, var(--jp-content-font-color1, black)));\n",
       "  --sklearn-color-icon: #696969;\n",
       "\n",
       "  @media (prefers-color-scheme: dark) {\n",
       "    /* Redefinition of color scheme for dark theme */\n",
       "    --sklearn-color-text-on-default-background: var(--sg-text-color, var(--theme-code-foreground, var(--jp-content-font-color1, white)));\n",
       "    --sklearn-color-background: var(--sg-background-color, var(--theme-background, var(--jp-layout-color0, #111)));\n",
       "    --sklearn-color-border-box: var(--sg-text-color, var(--theme-code-foreground, var(--jp-content-font-color1, white)));\n",
       "    --sklearn-color-icon: #878787;\n",
       "  }\n",
       "}\n",
       "\n",
       "#sk-container-id-1 {\n",
       "  color: var(--sklearn-color-text);\n",
       "}\n",
       "\n",
       "#sk-container-id-1 pre {\n",
       "  padding: 0;\n",
       "}\n",
       "\n",
       "#sk-container-id-1 input.sk-hidden--visually {\n",
       "  border: 0;\n",
       "  clip: rect(1px 1px 1px 1px);\n",
       "  clip: rect(1px, 1px, 1px, 1px);\n",
       "  height: 1px;\n",
       "  margin: -1px;\n",
       "  overflow: hidden;\n",
       "  padding: 0;\n",
       "  position: absolute;\n",
       "  width: 1px;\n",
       "}\n",
       "\n",
       "#sk-container-id-1 div.sk-dashed-wrapped {\n",
       "  border: 1px dashed var(--sklearn-color-line);\n",
       "  margin: 0 0.4em 0.5em 0.4em;\n",
       "  box-sizing: border-box;\n",
       "  padding-bottom: 0.4em;\n",
       "  background-color: var(--sklearn-color-background);\n",
       "}\n",
       "\n",
       "#sk-container-id-1 div.sk-container {\n",
       "  /* jupyter's `normalize.less` sets `[hidden] { display: none; }`\n",
       "     but bootstrap.min.css set `[hidden] { display: none !important; }`\n",
       "     so we also need the `!important` here to be able to override the\n",
       "     default hidden behavior on the sphinx rendered scikit-learn.org.\n",
       "     See: https://github.com/scikit-learn/scikit-learn/issues/21755 */\n",
       "  display: inline-block !important;\n",
       "  position: relative;\n",
       "}\n",
       "\n",
       "#sk-container-id-1 div.sk-text-repr-fallback {\n",
       "  display: none;\n",
       "}\n",
       "\n",
       "div.sk-parallel-item,\n",
       "div.sk-serial,\n",
       "div.sk-item {\n",
       "  /* draw centered vertical line to link estimators */\n",
       "  background-image: linear-gradient(var(--sklearn-color-text-on-default-background), var(--sklearn-color-text-on-default-background));\n",
       "  background-size: 2px 100%;\n",
       "  background-repeat: no-repeat;\n",
       "  background-position: center center;\n",
       "}\n",
       "\n",
       "/* Parallel-specific style estimator block */\n",
       "\n",
       "#sk-container-id-1 div.sk-parallel-item::after {\n",
       "  content: \"\";\n",
       "  width: 100%;\n",
       "  border-bottom: 2px solid var(--sklearn-color-text-on-default-background);\n",
       "  flex-grow: 1;\n",
       "}\n",
       "\n",
       "#sk-container-id-1 div.sk-parallel {\n",
       "  display: flex;\n",
       "  align-items: stretch;\n",
       "  justify-content: center;\n",
       "  background-color: var(--sklearn-color-background);\n",
       "  position: relative;\n",
       "}\n",
       "\n",
       "#sk-container-id-1 div.sk-parallel-item {\n",
       "  display: flex;\n",
       "  flex-direction: column;\n",
       "}\n",
       "\n",
       "#sk-container-id-1 div.sk-parallel-item:first-child::after {\n",
       "  align-self: flex-end;\n",
       "  width: 50%;\n",
       "}\n",
       "\n",
       "#sk-container-id-1 div.sk-parallel-item:last-child::after {\n",
       "  align-self: flex-start;\n",
       "  width: 50%;\n",
       "}\n",
       "\n",
       "#sk-container-id-1 div.sk-parallel-item:only-child::after {\n",
       "  width: 0;\n",
       "}\n",
       "\n",
       "/* Serial-specific style estimator block */\n",
       "\n",
       "#sk-container-id-1 div.sk-serial {\n",
       "  display: flex;\n",
       "  flex-direction: column;\n",
       "  align-items: center;\n",
       "  background-color: var(--sklearn-color-background);\n",
       "  padding-right: 1em;\n",
       "  padding-left: 1em;\n",
       "}\n",
       "\n",
       "\n",
       "/* Toggleable style: style used for estimator/Pipeline/ColumnTransformer box that is\n",
       "clickable and can be expanded/collapsed.\n",
       "- Pipeline and ColumnTransformer use this feature and define the default style\n",
       "- Estimators will overwrite some part of the style using the `sk-estimator` class\n",
       "*/\n",
       "\n",
       "/* Pipeline and ColumnTransformer style (default) */\n",
       "\n",
       "#sk-container-id-1 div.sk-toggleable {\n",
       "  /* Default theme specific background. It is overwritten whether we have a\n",
       "  specific estimator or a Pipeline/ColumnTransformer */\n",
       "  background-color: var(--sklearn-color-background);\n",
       "}\n",
       "\n",
       "/* Toggleable label */\n",
       "#sk-container-id-1 label.sk-toggleable__label {\n",
       "  cursor: pointer;\n",
       "  display: block;\n",
       "  width: 100%;\n",
       "  margin-bottom: 0;\n",
       "  padding: 0.5em;\n",
       "  box-sizing: border-box;\n",
       "  text-align: center;\n",
       "}\n",
       "\n",
       "#sk-container-id-1 label.sk-toggleable__label-arrow:before {\n",
       "  /* Arrow on the left of the label */\n",
       "  content: \"▸\";\n",
       "  float: left;\n",
       "  margin-right: 0.25em;\n",
       "  color: var(--sklearn-color-icon);\n",
       "}\n",
       "\n",
       "#sk-container-id-1 label.sk-toggleable__label-arrow:hover:before {\n",
       "  color: var(--sklearn-color-text);\n",
       "}\n",
       "\n",
       "/* Toggleable content - dropdown */\n",
       "\n",
       "#sk-container-id-1 div.sk-toggleable__content {\n",
       "  max-height: 0;\n",
       "  max-width: 0;\n",
       "  overflow: hidden;\n",
       "  text-align: left;\n",
       "  /* unfitted */\n",
       "  background-color: var(--sklearn-color-unfitted-level-0);\n",
       "}\n",
       "\n",
       "#sk-container-id-1 div.sk-toggleable__content.fitted {\n",
       "  /* fitted */\n",
       "  background-color: var(--sklearn-color-fitted-level-0);\n",
       "}\n",
       "\n",
       "#sk-container-id-1 div.sk-toggleable__content pre {\n",
       "  margin: 0.2em;\n",
       "  border-radius: 0.25em;\n",
       "  color: var(--sklearn-color-text);\n",
       "  /* unfitted */\n",
       "  background-color: var(--sklearn-color-unfitted-level-0);\n",
       "}\n",
       "\n",
       "#sk-container-id-1 div.sk-toggleable__content.fitted pre {\n",
       "  /* unfitted */\n",
       "  background-color: var(--sklearn-color-fitted-level-0);\n",
       "}\n",
       "\n",
       "#sk-container-id-1 input.sk-toggleable__control:checked~div.sk-toggleable__content {\n",
       "  /* Expand drop-down */\n",
       "  max-height: 200px;\n",
       "  max-width: 100%;\n",
       "  overflow: auto;\n",
       "}\n",
       "\n",
       "#sk-container-id-1 input.sk-toggleable__control:checked~label.sk-toggleable__label-arrow:before {\n",
       "  content: \"▾\";\n",
       "}\n",
       "\n",
       "/* Pipeline/ColumnTransformer-specific style */\n",
       "\n",
       "#sk-container-id-1 div.sk-label input.sk-toggleable__control:checked~label.sk-toggleable__label {\n",
       "  color: var(--sklearn-color-text);\n",
       "  background-color: var(--sklearn-color-unfitted-level-2);\n",
       "}\n",
       "\n",
       "#sk-container-id-1 div.sk-label.fitted input.sk-toggleable__control:checked~label.sk-toggleable__label {\n",
       "  background-color: var(--sklearn-color-fitted-level-2);\n",
       "}\n",
       "\n",
       "/* Estimator-specific style */\n",
       "\n",
       "/* Colorize estimator box */\n",
       "#sk-container-id-1 div.sk-estimator input.sk-toggleable__control:checked~label.sk-toggleable__label {\n",
       "  /* unfitted */\n",
       "  background-color: var(--sklearn-color-unfitted-level-2);\n",
       "}\n",
       "\n",
       "#sk-container-id-1 div.sk-estimator.fitted input.sk-toggleable__control:checked~label.sk-toggleable__label {\n",
       "  /* fitted */\n",
       "  background-color: var(--sklearn-color-fitted-level-2);\n",
       "}\n",
       "\n",
       "#sk-container-id-1 div.sk-label label.sk-toggleable__label,\n",
       "#sk-container-id-1 div.sk-label label {\n",
       "  /* The background is the default theme color */\n",
       "  color: var(--sklearn-color-text-on-default-background);\n",
       "}\n",
       "\n",
       "/* On hover, darken the color of the background */\n",
       "#sk-container-id-1 div.sk-label:hover label.sk-toggleable__label {\n",
       "  color: var(--sklearn-color-text);\n",
       "  background-color: var(--sklearn-color-unfitted-level-2);\n",
       "}\n",
       "\n",
       "/* Label box, darken color on hover, fitted */\n",
       "#sk-container-id-1 div.sk-label.fitted:hover label.sk-toggleable__label.fitted {\n",
       "  color: var(--sklearn-color-text);\n",
       "  background-color: var(--sklearn-color-fitted-level-2);\n",
       "}\n",
       "\n",
       "/* Estimator label */\n",
       "\n",
       "#sk-container-id-1 div.sk-label label {\n",
       "  font-family: monospace;\n",
       "  font-weight: bold;\n",
       "  display: inline-block;\n",
       "  line-height: 1.2em;\n",
       "}\n",
       "\n",
       "#sk-container-id-1 div.sk-label-container {\n",
       "  text-align: center;\n",
       "}\n",
       "\n",
       "/* Estimator-specific */\n",
       "#sk-container-id-1 div.sk-estimator {\n",
       "  font-family: monospace;\n",
       "  border: 1px dotted var(--sklearn-color-border-box);\n",
       "  border-radius: 0.25em;\n",
       "  box-sizing: border-box;\n",
       "  margin-bottom: 0.5em;\n",
       "  /* unfitted */\n",
       "  background-color: var(--sklearn-color-unfitted-level-0);\n",
       "}\n",
       "\n",
       "#sk-container-id-1 div.sk-estimator.fitted {\n",
       "  /* fitted */\n",
       "  background-color: var(--sklearn-color-fitted-level-0);\n",
       "}\n",
       "\n",
       "/* on hover */\n",
       "#sk-container-id-1 div.sk-estimator:hover {\n",
       "  /* unfitted */\n",
       "  background-color: var(--sklearn-color-unfitted-level-2);\n",
       "}\n",
       "\n",
       "#sk-container-id-1 div.sk-estimator.fitted:hover {\n",
       "  /* fitted */\n",
       "  background-color: var(--sklearn-color-fitted-level-2);\n",
       "}\n",
       "\n",
       "/* Specification for estimator info (e.g. \"i\" and \"?\") */\n",
       "\n",
       "/* Common style for \"i\" and \"?\" */\n",
       "\n",
       ".sk-estimator-doc-link,\n",
       "a:link.sk-estimator-doc-link,\n",
       "a:visited.sk-estimator-doc-link {\n",
       "  float: right;\n",
       "  font-size: smaller;\n",
       "  line-height: 1em;\n",
       "  font-family: monospace;\n",
       "  background-color: var(--sklearn-color-background);\n",
       "  border-radius: 1em;\n",
       "  height: 1em;\n",
       "  width: 1em;\n",
       "  text-decoration: none !important;\n",
       "  margin-left: 1ex;\n",
       "  /* unfitted */\n",
       "  border: var(--sklearn-color-unfitted-level-1) 1pt solid;\n",
       "  color: var(--sklearn-color-unfitted-level-1);\n",
       "}\n",
       "\n",
       ".sk-estimator-doc-link.fitted,\n",
       "a:link.sk-estimator-doc-link.fitted,\n",
       "a:visited.sk-estimator-doc-link.fitted {\n",
       "  /* fitted */\n",
       "  border: var(--sklearn-color-fitted-level-1) 1pt solid;\n",
       "  color: var(--sklearn-color-fitted-level-1);\n",
       "}\n",
       "\n",
       "/* On hover */\n",
       "div.sk-estimator:hover .sk-estimator-doc-link:hover,\n",
       ".sk-estimator-doc-link:hover,\n",
       "div.sk-label-container:hover .sk-estimator-doc-link:hover,\n",
       ".sk-estimator-doc-link:hover {\n",
       "  /* unfitted */\n",
       "  background-color: var(--sklearn-color-unfitted-level-3);\n",
       "  color: var(--sklearn-color-background);\n",
       "  text-decoration: none;\n",
       "}\n",
       "\n",
       "div.sk-estimator.fitted:hover .sk-estimator-doc-link.fitted:hover,\n",
       ".sk-estimator-doc-link.fitted:hover,\n",
       "div.sk-label-container:hover .sk-estimator-doc-link.fitted:hover,\n",
       ".sk-estimator-doc-link.fitted:hover {\n",
       "  /* fitted */\n",
       "  background-color: var(--sklearn-color-fitted-level-3);\n",
       "  color: var(--sklearn-color-background);\n",
       "  text-decoration: none;\n",
       "}\n",
       "\n",
       "/* Span, style for the box shown on hovering the info icon */\n",
       ".sk-estimator-doc-link span {\n",
       "  display: none;\n",
       "  z-index: 9999;\n",
       "  position: relative;\n",
       "  font-weight: normal;\n",
       "  right: .2ex;\n",
       "  padding: .5ex;\n",
       "  margin: .5ex;\n",
       "  width: min-content;\n",
       "  min-width: 20ex;\n",
       "  max-width: 50ex;\n",
       "  color: var(--sklearn-color-text);\n",
       "  box-shadow: 2pt 2pt 4pt #999;\n",
       "  /* unfitted */\n",
       "  background: var(--sklearn-color-unfitted-level-0);\n",
       "  border: .5pt solid var(--sklearn-color-unfitted-level-3);\n",
       "}\n",
       "\n",
       ".sk-estimator-doc-link.fitted span {\n",
       "  /* fitted */\n",
       "  background: var(--sklearn-color-fitted-level-0);\n",
       "  border: var(--sklearn-color-fitted-level-3);\n",
       "}\n",
       "\n",
       ".sk-estimator-doc-link:hover span {\n",
       "  display: block;\n",
       "}\n",
       "\n",
       "/* \"?\"-specific style due to the `<a>` HTML tag */\n",
       "\n",
       "#sk-container-id-1 a.estimator_doc_link {\n",
       "  float: right;\n",
       "  font-size: 1rem;\n",
       "  line-height: 1em;\n",
       "  font-family: monospace;\n",
       "  background-color: var(--sklearn-color-background);\n",
       "  border-radius: 1rem;\n",
       "  height: 1rem;\n",
       "  width: 1rem;\n",
       "  text-decoration: none;\n",
       "  /* unfitted */\n",
       "  color: var(--sklearn-color-unfitted-level-1);\n",
       "  border: var(--sklearn-color-unfitted-level-1) 1pt solid;\n",
       "}\n",
       "\n",
       "#sk-container-id-1 a.estimator_doc_link.fitted {\n",
       "  /* fitted */\n",
       "  border: var(--sklearn-color-fitted-level-1) 1pt solid;\n",
       "  color: var(--sklearn-color-fitted-level-1);\n",
       "}\n",
       "\n",
       "/* On hover */\n",
       "#sk-container-id-1 a.estimator_doc_link:hover {\n",
       "  /* unfitted */\n",
       "  background-color: var(--sklearn-color-unfitted-level-3);\n",
       "  color: var(--sklearn-color-background);\n",
       "  text-decoration: none;\n",
       "}\n",
       "\n",
       "#sk-container-id-1 a.estimator_doc_link.fitted:hover {\n",
       "  /* fitted */\n",
       "  background-color: var(--sklearn-color-fitted-level-3);\n",
       "}\n",
       "</style><div id=\"sk-container-id-1\" class=\"sk-top-container\"><div class=\"sk-text-repr-fallback\"><pre>RandomizedSearchCV(estimator=DecisionTreeRegressor(random_state=74),\n",
       "                   param_distributions={&#x27;max_depth&#x27;: range(1, 12),\n",
       "                                        &#x27;min_samples_leaf&#x27;: range(1, 12),\n",
       "                                        &#x27;splitter&#x27;: [&#x27;best&#x27;, &#x27;random&#x27;]},\n",
       "                   scoring=&#x27;neg_root_mean_squared_error&#x27;)</pre><b>In a Jupyter environment, please rerun this cell to show the HTML representation or trust the notebook. <br />On GitHub, the HTML representation is unable to render, please try loading this page with nbviewer.org.</b></div><div class=\"sk-container\" hidden><div class=\"sk-item sk-dashed-wrapped\"><div class=\"sk-label-container\"><div class=\"sk-label fitted sk-toggleable\"><input class=\"sk-toggleable__control sk-hidden--visually\" id=\"sk-estimator-id-1\" type=\"checkbox\" ><label for=\"sk-estimator-id-1\" class=\"sk-toggleable__label fitted sk-toggleable__label-arrow fitted\">&nbsp;&nbsp;RandomizedSearchCV<a class=\"sk-estimator-doc-link fitted\" rel=\"noreferrer\" target=\"_blank\" href=\"https://scikit-learn.org/1.4/modules/generated/sklearn.model_selection.RandomizedSearchCV.html\">?<span>Documentation for RandomizedSearchCV</span></a><span class=\"sk-estimator-doc-link fitted\">i<span>Fitted</span></span></label><div class=\"sk-toggleable__content fitted\"><pre>RandomizedSearchCV(estimator=DecisionTreeRegressor(random_state=74),\n",
       "                   param_distributions={&#x27;max_depth&#x27;: range(1, 12),\n",
       "                                        &#x27;min_samples_leaf&#x27;: range(1, 12),\n",
       "                                        &#x27;splitter&#x27;: [&#x27;best&#x27;, &#x27;random&#x27;]},\n",
       "                   scoring=&#x27;neg_root_mean_squared_error&#x27;)</pre></div> </div></div><div class=\"sk-parallel\"><div class=\"sk-parallel-item\"><div class=\"sk-item\"><div class=\"sk-label-container\"><div class=\"sk-label fitted sk-toggleable\"><input class=\"sk-toggleable__control sk-hidden--visually\" id=\"sk-estimator-id-2\" type=\"checkbox\" ><label for=\"sk-estimator-id-2\" class=\"sk-toggleable__label fitted sk-toggleable__label-arrow fitted\">estimator: DecisionTreeRegressor</label><div class=\"sk-toggleable__content fitted\"><pre>DecisionTreeRegressor(random_state=74)</pre></div> </div></div><div class=\"sk-serial\"><div class=\"sk-item\"><div class=\"sk-estimator fitted sk-toggleable\"><input class=\"sk-toggleable__control sk-hidden--visually\" id=\"sk-estimator-id-3\" type=\"checkbox\" ><label for=\"sk-estimator-id-3\" class=\"sk-toggleable__label fitted sk-toggleable__label-arrow fitted\">&nbsp;DecisionTreeRegressor<a class=\"sk-estimator-doc-link fitted\" rel=\"noreferrer\" target=\"_blank\" href=\"https://scikit-learn.org/1.4/modules/generated/sklearn.tree.DecisionTreeRegressor.html\">?<span>Documentation for DecisionTreeRegressor</span></a></label><div class=\"sk-toggleable__content fitted\"><pre>DecisionTreeRegressor(random_state=74)</pre></div> </div></div></div></div></div></div></div></div></div>"
      ],
      "text/plain": [
       "RandomizedSearchCV(estimator=DecisionTreeRegressor(random_state=74),\n",
       "                   param_distributions={'max_depth': range(1, 12),\n",
       "                                        'min_samples_leaf': range(1, 12),\n",
       "                                        'splitter': ['best', 'random']},\n",
       "                   scoring='neg_root_mean_squared_error')"
      ]
     },
     "execution_count": 31,
     "metadata": {},
     "output_type": "execute_result"
    }
   ],
   "source": [
    "rs_dtr.fit(X_train, y_train)"
   ]
  },
  {
   "cell_type": "code",
   "execution_count": 32,
   "metadata": {},
   "outputs": [],
   "source": [
    "mse_dtr_model = -(rs_dtr.best_score_) #замеряем RMSE на  кросс-валидации"
   ]
  },
  {
   "cell_type": "code",
   "execution_count": 33,
   "metadata": {},
   "outputs": [],
   "source": [
    "# засекаем время обучения\n",
    "start = time()"
   ]
  },
  {
   "cell_type": "code",
   "execution_count": 34,
   "metadata": {},
   "outputs": [],
   "source": [
    "dtr_model = rs_dtr.best_estimator_"
   ]
  },
  {
   "cell_type": "code",
   "execution_count": 35,
   "metadata": {},
   "outputs": [
    {
     "data": {
      "text/html": [
       "<style>#sk-container-id-2 {\n",
       "  /* Definition of color scheme common for light and dark mode */\n",
       "  --sklearn-color-text: black;\n",
       "  --sklearn-color-line: gray;\n",
       "  /* Definition of color scheme for unfitted estimators */\n",
       "  --sklearn-color-unfitted-level-0: #fff5e6;\n",
       "  --sklearn-color-unfitted-level-1: #f6e4d2;\n",
       "  --sklearn-color-unfitted-level-2: #ffe0b3;\n",
       "  --sklearn-color-unfitted-level-3: chocolate;\n",
       "  /* Definition of color scheme for fitted estimators */\n",
       "  --sklearn-color-fitted-level-0: #f0f8ff;\n",
       "  --sklearn-color-fitted-level-1: #d4ebff;\n",
       "  --sklearn-color-fitted-level-2: #b3dbfd;\n",
       "  --sklearn-color-fitted-level-3: cornflowerblue;\n",
       "\n",
       "  /* Specific color for light theme */\n",
       "  --sklearn-color-text-on-default-background: var(--sg-text-color, var(--theme-code-foreground, var(--jp-content-font-color1, black)));\n",
       "  --sklearn-color-background: var(--sg-background-color, var(--theme-background, var(--jp-layout-color0, white)));\n",
       "  --sklearn-color-border-box: var(--sg-text-color, var(--theme-code-foreground, var(--jp-content-font-color1, black)));\n",
       "  --sklearn-color-icon: #696969;\n",
       "\n",
       "  @media (prefers-color-scheme: dark) {\n",
       "    /* Redefinition of color scheme for dark theme */\n",
       "    --sklearn-color-text-on-default-background: var(--sg-text-color, var(--theme-code-foreground, var(--jp-content-font-color1, white)));\n",
       "    --sklearn-color-background: var(--sg-background-color, var(--theme-background, var(--jp-layout-color0, #111)));\n",
       "    --sklearn-color-border-box: var(--sg-text-color, var(--theme-code-foreground, var(--jp-content-font-color1, white)));\n",
       "    --sklearn-color-icon: #878787;\n",
       "  }\n",
       "}\n",
       "\n",
       "#sk-container-id-2 {\n",
       "  color: var(--sklearn-color-text);\n",
       "}\n",
       "\n",
       "#sk-container-id-2 pre {\n",
       "  padding: 0;\n",
       "}\n",
       "\n",
       "#sk-container-id-2 input.sk-hidden--visually {\n",
       "  border: 0;\n",
       "  clip: rect(1px 1px 1px 1px);\n",
       "  clip: rect(1px, 1px, 1px, 1px);\n",
       "  height: 1px;\n",
       "  margin: -1px;\n",
       "  overflow: hidden;\n",
       "  padding: 0;\n",
       "  position: absolute;\n",
       "  width: 1px;\n",
       "}\n",
       "\n",
       "#sk-container-id-2 div.sk-dashed-wrapped {\n",
       "  border: 1px dashed var(--sklearn-color-line);\n",
       "  margin: 0 0.4em 0.5em 0.4em;\n",
       "  box-sizing: border-box;\n",
       "  padding-bottom: 0.4em;\n",
       "  background-color: var(--sklearn-color-background);\n",
       "}\n",
       "\n",
       "#sk-container-id-2 div.sk-container {\n",
       "  /* jupyter's `normalize.less` sets `[hidden] { display: none; }`\n",
       "     but bootstrap.min.css set `[hidden] { display: none !important; }`\n",
       "     so we also need the `!important` here to be able to override the\n",
       "     default hidden behavior on the sphinx rendered scikit-learn.org.\n",
       "     See: https://github.com/scikit-learn/scikit-learn/issues/21755 */\n",
       "  display: inline-block !important;\n",
       "  position: relative;\n",
       "}\n",
       "\n",
       "#sk-container-id-2 div.sk-text-repr-fallback {\n",
       "  display: none;\n",
       "}\n",
       "\n",
       "div.sk-parallel-item,\n",
       "div.sk-serial,\n",
       "div.sk-item {\n",
       "  /* draw centered vertical line to link estimators */\n",
       "  background-image: linear-gradient(var(--sklearn-color-text-on-default-background), var(--sklearn-color-text-on-default-background));\n",
       "  background-size: 2px 100%;\n",
       "  background-repeat: no-repeat;\n",
       "  background-position: center center;\n",
       "}\n",
       "\n",
       "/* Parallel-specific style estimator block */\n",
       "\n",
       "#sk-container-id-2 div.sk-parallel-item::after {\n",
       "  content: \"\";\n",
       "  width: 100%;\n",
       "  border-bottom: 2px solid var(--sklearn-color-text-on-default-background);\n",
       "  flex-grow: 1;\n",
       "}\n",
       "\n",
       "#sk-container-id-2 div.sk-parallel {\n",
       "  display: flex;\n",
       "  align-items: stretch;\n",
       "  justify-content: center;\n",
       "  background-color: var(--sklearn-color-background);\n",
       "  position: relative;\n",
       "}\n",
       "\n",
       "#sk-container-id-2 div.sk-parallel-item {\n",
       "  display: flex;\n",
       "  flex-direction: column;\n",
       "}\n",
       "\n",
       "#sk-container-id-2 div.sk-parallel-item:first-child::after {\n",
       "  align-self: flex-end;\n",
       "  width: 50%;\n",
       "}\n",
       "\n",
       "#sk-container-id-2 div.sk-parallel-item:last-child::after {\n",
       "  align-self: flex-start;\n",
       "  width: 50%;\n",
       "}\n",
       "\n",
       "#sk-container-id-2 div.sk-parallel-item:only-child::after {\n",
       "  width: 0;\n",
       "}\n",
       "\n",
       "/* Serial-specific style estimator block */\n",
       "\n",
       "#sk-container-id-2 div.sk-serial {\n",
       "  display: flex;\n",
       "  flex-direction: column;\n",
       "  align-items: center;\n",
       "  background-color: var(--sklearn-color-background);\n",
       "  padding-right: 1em;\n",
       "  padding-left: 1em;\n",
       "}\n",
       "\n",
       "\n",
       "/* Toggleable style: style used for estimator/Pipeline/ColumnTransformer box that is\n",
       "clickable and can be expanded/collapsed.\n",
       "- Pipeline and ColumnTransformer use this feature and define the default style\n",
       "- Estimators will overwrite some part of the style using the `sk-estimator` class\n",
       "*/\n",
       "\n",
       "/* Pipeline and ColumnTransformer style (default) */\n",
       "\n",
       "#sk-container-id-2 div.sk-toggleable {\n",
       "  /* Default theme specific background. It is overwritten whether we have a\n",
       "  specific estimator or a Pipeline/ColumnTransformer */\n",
       "  background-color: var(--sklearn-color-background);\n",
       "}\n",
       "\n",
       "/* Toggleable label */\n",
       "#sk-container-id-2 label.sk-toggleable__label {\n",
       "  cursor: pointer;\n",
       "  display: block;\n",
       "  width: 100%;\n",
       "  margin-bottom: 0;\n",
       "  padding: 0.5em;\n",
       "  box-sizing: border-box;\n",
       "  text-align: center;\n",
       "}\n",
       "\n",
       "#sk-container-id-2 label.sk-toggleable__label-arrow:before {\n",
       "  /* Arrow on the left of the label */\n",
       "  content: \"▸\";\n",
       "  float: left;\n",
       "  margin-right: 0.25em;\n",
       "  color: var(--sklearn-color-icon);\n",
       "}\n",
       "\n",
       "#sk-container-id-2 label.sk-toggleable__label-arrow:hover:before {\n",
       "  color: var(--sklearn-color-text);\n",
       "}\n",
       "\n",
       "/* Toggleable content - dropdown */\n",
       "\n",
       "#sk-container-id-2 div.sk-toggleable__content {\n",
       "  max-height: 0;\n",
       "  max-width: 0;\n",
       "  overflow: hidden;\n",
       "  text-align: left;\n",
       "  /* unfitted */\n",
       "  background-color: var(--sklearn-color-unfitted-level-0);\n",
       "}\n",
       "\n",
       "#sk-container-id-2 div.sk-toggleable__content.fitted {\n",
       "  /* fitted */\n",
       "  background-color: var(--sklearn-color-fitted-level-0);\n",
       "}\n",
       "\n",
       "#sk-container-id-2 div.sk-toggleable__content pre {\n",
       "  margin: 0.2em;\n",
       "  border-radius: 0.25em;\n",
       "  color: var(--sklearn-color-text);\n",
       "  /* unfitted */\n",
       "  background-color: var(--sklearn-color-unfitted-level-0);\n",
       "}\n",
       "\n",
       "#sk-container-id-2 div.sk-toggleable__content.fitted pre {\n",
       "  /* unfitted */\n",
       "  background-color: var(--sklearn-color-fitted-level-0);\n",
       "}\n",
       "\n",
       "#sk-container-id-2 input.sk-toggleable__control:checked~div.sk-toggleable__content {\n",
       "  /* Expand drop-down */\n",
       "  max-height: 200px;\n",
       "  max-width: 100%;\n",
       "  overflow: auto;\n",
       "}\n",
       "\n",
       "#sk-container-id-2 input.sk-toggleable__control:checked~label.sk-toggleable__label-arrow:before {\n",
       "  content: \"▾\";\n",
       "}\n",
       "\n",
       "/* Pipeline/ColumnTransformer-specific style */\n",
       "\n",
       "#sk-container-id-2 div.sk-label input.sk-toggleable__control:checked~label.sk-toggleable__label {\n",
       "  color: var(--sklearn-color-text);\n",
       "  background-color: var(--sklearn-color-unfitted-level-2);\n",
       "}\n",
       "\n",
       "#sk-container-id-2 div.sk-label.fitted input.sk-toggleable__control:checked~label.sk-toggleable__label {\n",
       "  background-color: var(--sklearn-color-fitted-level-2);\n",
       "}\n",
       "\n",
       "/* Estimator-specific style */\n",
       "\n",
       "/* Colorize estimator box */\n",
       "#sk-container-id-2 div.sk-estimator input.sk-toggleable__control:checked~label.sk-toggleable__label {\n",
       "  /* unfitted */\n",
       "  background-color: var(--sklearn-color-unfitted-level-2);\n",
       "}\n",
       "\n",
       "#sk-container-id-2 div.sk-estimator.fitted input.sk-toggleable__control:checked~label.sk-toggleable__label {\n",
       "  /* fitted */\n",
       "  background-color: var(--sklearn-color-fitted-level-2);\n",
       "}\n",
       "\n",
       "#sk-container-id-2 div.sk-label label.sk-toggleable__label,\n",
       "#sk-container-id-2 div.sk-label label {\n",
       "  /* The background is the default theme color */\n",
       "  color: var(--sklearn-color-text-on-default-background);\n",
       "}\n",
       "\n",
       "/* On hover, darken the color of the background */\n",
       "#sk-container-id-2 div.sk-label:hover label.sk-toggleable__label {\n",
       "  color: var(--sklearn-color-text);\n",
       "  background-color: var(--sklearn-color-unfitted-level-2);\n",
       "}\n",
       "\n",
       "/* Label box, darken color on hover, fitted */\n",
       "#sk-container-id-2 div.sk-label.fitted:hover label.sk-toggleable__label.fitted {\n",
       "  color: var(--sklearn-color-text);\n",
       "  background-color: var(--sklearn-color-fitted-level-2);\n",
       "}\n",
       "\n",
       "/* Estimator label */\n",
       "\n",
       "#sk-container-id-2 div.sk-label label {\n",
       "  font-family: monospace;\n",
       "  font-weight: bold;\n",
       "  display: inline-block;\n",
       "  line-height: 1.2em;\n",
       "}\n",
       "\n",
       "#sk-container-id-2 div.sk-label-container {\n",
       "  text-align: center;\n",
       "}\n",
       "\n",
       "/* Estimator-specific */\n",
       "#sk-container-id-2 div.sk-estimator {\n",
       "  font-family: monospace;\n",
       "  border: 1px dotted var(--sklearn-color-border-box);\n",
       "  border-radius: 0.25em;\n",
       "  box-sizing: border-box;\n",
       "  margin-bottom: 0.5em;\n",
       "  /* unfitted */\n",
       "  background-color: var(--sklearn-color-unfitted-level-0);\n",
       "}\n",
       "\n",
       "#sk-container-id-2 div.sk-estimator.fitted {\n",
       "  /* fitted */\n",
       "  background-color: var(--sklearn-color-fitted-level-0);\n",
       "}\n",
       "\n",
       "/* on hover */\n",
       "#sk-container-id-2 div.sk-estimator:hover {\n",
       "  /* unfitted */\n",
       "  background-color: var(--sklearn-color-unfitted-level-2);\n",
       "}\n",
       "\n",
       "#sk-container-id-2 div.sk-estimator.fitted:hover {\n",
       "  /* fitted */\n",
       "  background-color: var(--sklearn-color-fitted-level-2);\n",
       "}\n",
       "\n",
       "/* Specification for estimator info (e.g. \"i\" and \"?\") */\n",
       "\n",
       "/* Common style for \"i\" and \"?\" */\n",
       "\n",
       ".sk-estimator-doc-link,\n",
       "a:link.sk-estimator-doc-link,\n",
       "a:visited.sk-estimator-doc-link {\n",
       "  float: right;\n",
       "  font-size: smaller;\n",
       "  line-height: 1em;\n",
       "  font-family: monospace;\n",
       "  background-color: var(--sklearn-color-background);\n",
       "  border-radius: 1em;\n",
       "  height: 1em;\n",
       "  width: 1em;\n",
       "  text-decoration: none !important;\n",
       "  margin-left: 1ex;\n",
       "  /* unfitted */\n",
       "  border: var(--sklearn-color-unfitted-level-1) 1pt solid;\n",
       "  color: var(--sklearn-color-unfitted-level-1);\n",
       "}\n",
       "\n",
       ".sk-estimator-doc-link.fitted,\n",
       "a:link.sk-estimator-doc-link.fitted,\n",
       "a:visited.sk-estimator-doc-link.fitted {\n",
       "  /* fitted */\n",
       "  border: var(--sklearn-color-fitted-level-1) 1pt solid;\n",
       "  color: var(--sklearn-color-fitted-level-1);\n",
       "}\n",
       "\n",
       "/* On hover */\n",
       "div.sk-estimator:hover .sk-estimator-doc-link:hover,\n",
       ".sk-estimator-doc-link:hover,\n",
       "div.sk-label-container:hover .sk-estimator-doc-link:hover,\n",
       ".sk-estimator-doc-link:hover {\n",
       "  /* unfitted */\n",
       "  background-color: var(--sklearn-color-unfitted-level-3);\n",
       "  color: var(--sklearn-color-background);\n",
       "  text-decoration: none;\n",
       "}\n",
       "\n",
       "div.sk-estimator.fitted:hover .sk-estimator-doc-link.fitted:hover,\n",
       ".sk-estimator-doc-link.fitted:hover,\n",
       "div.sk-label-container:hover .sk-estimator-doc-link.fitted:hover,\n",
       ".sk-estimator-doc-link.fitted:hover {\n",
       "  /* fitted */\n",
       "  background-color: var(--sklearn-color-fitted-level-3);\n",
       "  color: var(--sklearn-color-background);\n",
       "  text-decoration: none;\n",
       "}\n",
       "\n",
       "/* Span, style for the box shown on hovering the info icon */\n",
       ".sk-estimator-doc-link span {\n",
       "  display: none;\n",
       "  z-index: 9999;\n",
       "  position: relative;\n",
       "  font-weight: normal;\n",
       "  right: .2ex;\n",
       "  padding: .5ex;\n",
       "  margin: .5ex;\n",
       "  width: min-content;\n",
       "  min-width: 20ex;\n",
       "  max-width: 50ex;\n",
       "  color: var(--sklearn-color-text);\n",
       "  box-shadow: 2pt 2pt 4pt #999;\n",
       "  /* unfitted */\n",
       "  background: var(--sklearn-color-unfitted-level-0);\n",
       "  border: .5pt solid var(--sklearn-color-unfitted-level-3);\n",
       "}\n",
       "\n",
       ".sk-estimator-doc-link.fitted span {\n",
       "  /* fitted */\n",
       "  background: var(--sklearn-color-fitted-level-0);\n",
       "  border: var(--sklearn-color-fitted-level-3);\n",
       "}\n",
       "\n",
       ".sk-estimator-doc-link:hover span {\n",
       "  display: block;\n",
       "}\n",
       "\n",
       "/* \"?\"-specific style due to the `<a>` HTML tag */\n",
       "\n",
       "#sk-container-id-2 a.estimator_doc_link {\n",
       "  float: right;\n",
       "  font-size: 1rem;\n",
       "  line-height: 1em;\n",
       "  font-family: monospace;\n",
       "  background-color: var(--sklearn-color-background);\n",
       "  border-radius: 1rem;\n",
       "  height: 1rem;\n",
       "  width: 1rem;\n",
       "  text-decoration: none;\n",
       "  /* unfitted */\n",
       "  color: var(--sklearn-color-unfitted-level-1);\n",
       "  border: var(--sklearn-color-unfitted-level-1) 1pt solid;\n",
       "}\n",
       "\n",
       "#sk-container-id-2 a.estimator_doc_link.fitted {\n",
       "  /* fitted */\n",
       "  border: var(--sklearn-color-fitted-level-1) 1pt solid;\n",
       "  color: var(--sklearn-color-fitted-level-1);\n",
       "}\n",
       "\n",
       "/* On hover */\n",
       "#sk-container-id-2 a.estimator_doc_link:hover {\n",
       "  /* unfitted */\n",
       "  background-color: var(--sklearn-color-unfitted-level-3);\n",
       "  color: var(--sklearn-color-background);\n",
       "  text-decoration: none;\n",
       "}\n",
       "\n",
       "#sk-container-id-2 a.estimator_doc_link.fitted:hover {\n",
       "  /* fitted */\n",
       "  background-color: var(--sklearn-color-fitted-level-3);\n",
       "}\n",
       "</style><div id=\"sk-container-id-2\" class=\"sk-top-container\"><div class=\"sk-text-repr-fallback\"><pre>DecisionTreeRegressor(max_depth=7, min_samples_leaf=4, random_state=74)</pre><b>In a Jupyter environment, please rerun this cell to show the HTML representation or trust the notebook. <br />On GitHub, the HTML representation is unable to render, please try loading this page with nbviewer.org.</b></div><div class=\"sk-container\" hidden><div class=\"sk-item\"><div class=\"sk-estimator fitted sk-toggleable\"><input class=\"sk-toggleable__control sk-hidden--visually\" id=\"sk-estimator-id-4\" type=\"checkbox\" checked><label for=\"sk-estimator-id-4\" class=\"sk-toggleable__label fitted sk-toggleable__label-arrow fitted\">&nbsp;&nbsp;DecisionTreeRegressor<a class=\"sk-estimator-doc-link fitted\" rel=\"noreferrer\" target=\"_blank\" href=\"https://scikit-learn.org/1.4/modules/generated/sklearn.tree.DecisionTreeRegressor.html\">?<span>Documentation for DecisionTreeRegressor</span></a><span class=\"sk-estimator-doc-link fitted\">i<span>Fitted</span></span></label><div class=\"sk-toggleable__content fitted\"><pre>DecisionTreeRegressor(max_depth=7, min_samples_leaf=4, random_state=74)</pre></div> </div></div></div></div>"
      ],
      "text/plain": [
       "DecisionTreeRegressor(max_depth=7, min_samples_leaf=4, random_state=74)"
      ]
     },
     "execution_count": 35,
     "metadata": {},
     "output_type": "execute_result"
    }
   ],
   "source": [
    "dtr_model.fit(X_train, y_train) #замеряем время обучения"
   ]
  },
  {
   "cell_type": "code",
   "execution_count": 36,
   "metadata": {},
   "outputs": [],
   "source": [
    "end = time()\n",
    "\n",
    "dtr_model_time_fit = (end-start)/60 "
   ]
  },
  {
   "cell_type": "code",
   "execution_count": 37,
   "metadata": {},
   "outputs": [],
   "source": [
    "# засекаем время предсказания\n",
    "start = time()"
   ]
  },
  {
   "cell_type": "code",
   "execution_count": 38,
   "metadata": {},
   "outputs": [
    {
     "data": {
      "text/plain": [
       "array([9931.6921944 , 8626.17201166, 3381.54810436, ..., 6143.18851508,\n",
       "       1935.96806775, 8713.46873301])"
      ]
     },
     "execution_count": 38,
     "metadata": {},
     "output_type": "execute_result"
    }
   ],
   "source": [
    "dtr_model.predict(X_train) #замеряем время предсказания"
   ]
  },
  {
   "cell_type": "code",
   "execution_count": 39,
   "metadata": {},
   "outputs": [],
   "source": [
    "end = time()\n",
    "\n",
    "dtr_model_time_pred = (end-start)/60 "
   ]
  },
  {
   "cell_type": "code",
   "execution_count": 40,
   "metadata": {},
   "outputs": [
    {
     "name": "stdout",
     "output_type": "stream",
     "text": [
      "RMSE для DecisionTreeRegressor модели: 2237.46\n"
     ]
    }
   ],
   "source": [
    "print(\"RMSE для DecisionTreeRegressor модели:\", round((mse_dtr_model), 2))"
   ]
  },
  {
   "cell_type": "markdown",
   "metadata": {},
   "source": [
    "### CatBoostRegressor"
   ]
  },
  {
   "cell_type": "code",
   "execution_count": 41,
   "metadata": {},
   "outputs": [],
   "source": [
    "cat_model = CatBoostRegressor(learning_rate = 0.5, random_state=RANDOM_STATE, verbose=False) \n",
    "\n",
    "param_cat = {\"iterations\":range(100, 1000, 100)}"
   ]
  },
  {
   "cell_type": "code",
   "execution_count": 42,
   "metadata": {},
   "outputs": [],
   "source": [
    "rs_cat = RandomizedSearchCV(\n",
    "         cat_model,\n",
    "         param_cat,\n",
    "         scoring='neg_root_mean_squared_error') "
   ]
  },
  {
   "cell_type": "code",
   "execution_count": 43,
   "metadata": {},
   "outputs": [],
   "source": [
    "rs_cat.fit(X_train, y_train)\n",
    "\n",
    "mse_cat_model = -(rs_cat.best_score_) #замеряем RMSE на  кросс-валидации"
   ]
  },
  {
   "cell_type": "code",
   "execution_count": 44,
   "metadata": {},
   "outputs": [],
   "source": [
    "# засекаем время обучения\n",
    "start = time()"
   ]
  },
  {
   "cell_type": "code",
   "execution_count": 45,
   "metadata": {},
   "outputs": [],
   "source": [
    "cat_model = rs_cat.best_estimator_"
   ]
  },
  {
   "cell_type": "code",
   "execution_count": 46,
   "metadata": {},
   "outputs": [
    {
     "data": {
      "text/plain": [
       "<catboost.core.CatBoostRegressor at 0x7f28fca123a0>"
      ]
     },
     "execution_count": 46,
     "metadata": {},
     "output_type": "execute_result"
    }
   ],
   "source": [
    "cat_model.fit(X_train, y_train) #замеряем время обучения"
   ]
  },
  {
   "cell_type": "code",
   "execution_count": 47,
   "metadata": {},
   "outputs": [],
   "source": [
    "end = time()\n",
    "\n",
    "cat_model_time_fit = (end-start)/60 "
   ]
  },
  {
   "cell_type": "code",
   "execution_count": 48,
   "metadata": {},
   "outputs": [],
   "source": [
    "# засекаем время предсказания\n",
    "start = time()"
   ]
  },
  {
   "cell_type": "code",
   "execution_count": 49,
   "metadata": {},
   "outputs": [
    {
     "data": {
      "text/plain": [
       "array([9735.01333759, 8903.98555121, 2964.06196468, ..., 4979.68546365,\n",
       "        792.97380076, 8191.1089013 ])"
      ]
     },
     "execution_count": 49,
     "metadata": {},
     "output_type": "execute_result"
    }
   ],
   "source": [
    "cat_model.predict(X_train) #замеряем время предсказания"
   ]
  },
  {
   "cell_type": "code",
   "execution_count": 50,
   "metadata": {},
   "outputs": [],
   "source": [
    "end = time()\n",
    "\n",
    "cat_model_time_pred = (end-start)/60 "
   ]
  },
  {
   "cell_type": "code",
   "execution_count": 51,
   "metadata": {},
   "outputs": [
    {
     "name": "stdout",
     "output_type": "stream",
     "text": [
      "RMSE для CatBoostRegressor модели: 1612.79\n"
     ]
    }
   ],
   "source": [
    "print(\"RMSE для CatBoostRegressor модели:\", round((mse_cat_model), 2))"
   ]
  },
  {
   "cell_type": "markdown",
   "metadata": {},
   "source": [
    "### LightGBM Regressor"
   ]
  },
  {
   "cell_type": "code",
   "execution_count": 52,
   "metadata": {},
   "outputs": [],
   "source": [
    "lgbm_model = LGBMRegressor(learning_rate=0.1, \n",
    "                           random_state=RANDOM_STATE)\n",
    "\n",
    "param_lgbm = {\"num_leaves\":range(100, 1000, 100),\n",
    "              \"max_depth\" :range(1, 12)}"
   ]
  },
  {
   "cell_type": "code",
   "execution_count": 53,
   "metadata": {},
   "outputs": [],
   "source": [
    "rs_lgbm = RandomizedSearchCV(\n",
    "          lgbm_model,\n",
    "          param_lgbm,\n",
    "          scoring='neg_root_mean_squared_error') "
   ]
  },
  {
   "cell_type": "code",
   "execution_count": 54,
   "metadata": {},
   "outputs": [],
   "source": [
    "rs_lgbm.fit(X_train, y_train)\n",
    "\n",
    "mse_lgbm_model = -(rs_lgbm.best_score_) #замеряем RMSE на  кросс-валидации"
   ]
  },
  {
   "cell_type": "code",
   "execution_count": 55,
   "metadata": {},
   "outputs": [],
   "source": [
    "# засекаем время обучения\n",
    "start = time()"
   ]
  },
  {
   "cell_type": "code",
   "execution_count": 56,
   "metadata": {},
   "outputs": [],
   "source": [
    "lgbm_model = rs_lgbm.best_estimator_"
   ]
  },
  {
   "cell_type": "code",
   "execution_count": 57,
   "metadata": {},
   "outputs": [
    {
     "data": {
      "text/html": [
       "<style>#sk-container-id-3 {\n",
       "  /* Definition of color scheme common for light and dark mode */\n",
       "  --sklearn-color-text: black;\n",
       "  --sklearn-color-line: gray;\n",
       "  /* Definition of color scheme for unfitted estimators */\n",
       "  --sklearn-color-unfitted-level-0: #fff5e6;\n",
       "  --sklearn-color-unfitted-level-1: #f6e4d2;\n",
       "  --sklearn-color-unfitted-level-2: #ffe0b3;\n",
       "  --sklearn-color-unfitted-level-3: chocolate;\n",
       "  /* Definition of color scheme for fitted estimators */\n",
       "  --sklearn-color-fitted-level-0: #f0f8ff;\n",
       "  --sklearn-color-fitted-level-1: #d4ebff;\n",
       "  --sklearn-color-fitted-level-2: #b3dbfd;\n",
       "  --sklearn-color-fitted-level-3: cornflowerblue;\n",
       "\n",
       "  /* Specific color for light theme */\n",
       "  --sklearn-color-text-on-default-background: var(--sg-text-color, var(--theme-code-foreground, var(--jp-content-font-color1, black)));\n",
       "  --sklearn-color-background: var(--sg-background-color, var(--theme-background, var(--jp-layout-color0, white)));\n",
       "  --sklearn-color-border-box: var(--sg-text-color, var(--theme-code-foreground, var(--jp-content-font-color1, black)));\n",
       "  --sklearn-color-icon: #696969;\n",
       "\n",
       "  @media (prefers-color-scheme: dark) {\n",
       "    /* Redefinition of color scheme for dark theme */\n",
       "    --sklearn-color-text-on-default-background: var(--sg-text-color, var(--theme-code-foreground, var(--jp-content-font-color1, white)));\n",
       "    --sklearn-color-background: var(--sg-background-color, var(--theme-background, var(--jp-layout-color0, #111)));\n",
       "    --sklearn-color-border-box: var(--sg-text-color, var(--theme-code-foreground, var(--jp-content-font-color1, white)));\n",
       "    --sklearn-color-icon: #878787;\n",
       "  }\n",
       "}\n",
       "\n",
       "#sk-container-id-3 {\n",
       "  color: var(--sklearn-color-text);\n",
       "}\n",
       "\n",
       "#sk-container-id-3 pre {\n",
       "  padding: 0;\n",
       "}\n",
       "\n",
       "#sk-container-id-3 input.sk-hidden--visually {\n",
       "  border: 0;\n",
       "  clip: rect(1px 1px 1px 1px);\n",
       "  clip: rect(1px, 1px, 1px, 1px);\n",
       "  height: 1px;\n",
       "  margin: -1px;\n",
       "  overflow: hidden;\n",
       "  padding: 0;\n",
       "  position: absolute;\n",
       "  width: 1px;\n",
       "}\n",
       "\n",
       "#sk-container-id-3 div.sk-dashed-wrapped {\n",
       "  border: 1px dashed var(--sklearn-color-line);\n",
       "  margin: 0 0.4em 0.5em 0.4em;\n",
       "  box-sizing: border-box;\n",
       "  padding-bottom: 0.4em;\n",
       "  background-color: var(--sklearn-color-background);\n",
       "}\n",
       "\n",
       "#sk-container-id-3 div.sk-container {\n",
       "  /* jupyter's `normalize.less` sets `[hidden] { display: none; }`\n",
       "     but bootstrap.min.css set `[hidden] { display: none !important; }`\n",
       "     so we also need the `!important` here to be able to override the\n",
       "     default hidden behavior on the sphinx rendered scikit-learn.org.\n",
       "     See: https://github.com/scikit-learn/scikit-learn/issues/21755 */\n",
       "  display: inline-block !important;\n",
       "  position: relative;\n",
       "}\n",
       "\n",
       "#sk-container-id-3 div.sk-text-repr-fallback {\n",
       "  display: none;\n",
       "}\n",
       "\n",
       "div.sk-parallel-item,\n",
       "div.sk-serial,\n",
       "div.sk-item {\n",
       "  /* draw centered vertical line to link estimators */\n",
       "  background-image: linear-gradient(var(--sklearn-color-text-on-default-background), var(--sklearn-color-text-on-default-background));\n",
       "  background-size: 2px 100%;\n",
       "  background-repeat: no-repeat;\n",
       "  background-position: center center;\n",
       "}\n",
       "\n",
       "/* Parallel-specific style estimator block */\n",
       "\n",
       "#sk-container-id-3 div.sk-parallel-item::after {\n",
       "  content: \"\";\n",
       "  width: 100%;\n",
       "  border-bottom: 2px solid var(--sklearn-color-text-on-default-background);\n",
       "  flex-grow: 1;\n",
       "}\n",
       "\n",
       "#sk-container-id-3 div.sk-parallel {\n",
       "  display: flex;\n",
       "  align-items: stretch;\n",
       "  justify-content: center;\n",
       "  background-color: var(--sklearn-color-background);\n",
       "  position: relative;\n",
       "}\n",
       "\n",
       "#sk-container-id-3 div.sk-parallel-item {\n",
       "  display: flex;\n",
       "  flex-direction: column;\n",
       "}\n",
       "\n",
       "#sk-container-id-3 div.sk-parallel-item:first-child::after {\n",
       "  align-self: flex-end;\n",
       "  width: 50%;\n",
       "}\n",
       "\n",
       "#sk-container-id-3 div.sk-parallel-item:last-child::after {\n",
       "  align-self: flex-start;\n",
       "  width: 50%;\n",
       "}\n",
       "\n",
       "#sk-container-id-3 div.sk-parallel-item:only-child::after {\n",
       "  width: 0;\n",
       "}\n",
       "\n",
       "/* Serial-specific style estimator block */\n",
       "\n",
       "#sk-container-id-3 div.sk-serial {\n",
       "  display: flex;\n",
       "  flex-direction: column;\n",
       "  align-items: center;\n",
       "  background-color: var(--sklearn-color-background);\n",
       "  padding-right: 1em;\n",
       "  padding-left: 1em;\n",
       "}\n",
       "\n",
       "\n",
       "/* Toggleable style: style used for estimator/Pipeline/ColumnTransformer box that is\n",
       "clickable and can be expanded/collapsed.\n",
       "- Pipeline and ColumnTransformer use this feature and define the default style\n",
       "- Estimators will overwrite some part of the style using the `sk-estimator` class\n",
       "*/\n",
       "\n",
       "/* Pipeline and ColumnTransformer style (default) */\n",
       "\n",
       "#sk-container-id-3 div.sk-toggleable {\n",
       "  /* Default theme specific background. It is overwritten whether we have a\n",
       "  specific estimator or a Pipeline/ColumnTransformer */\n",
       "  background-color: var(--sklearn-color-background);\n",
       "}\n",
       "\n",
       "/* Toggleable label */\n",
       "#sk-container-id-3 label.sk-toggleable__label {\n",
       "  cursor: pointer;\n",
       "  display: block;\n",
       "  width: 100%;\n",
       "  margin-bottom: 0;\n",
       "  padding: 0.5em;\n",
       "  box-sizing: border-box;\n",
       "  text-align: center;\n",
       "}\n",
       "\n",
       "#sk-container-id-3 label.sk-toggleable__label-arrow:before {\n",
       "  /* Arrow on the left of the label */\n",
       "  content: \"▸\";\n",
       "  float: left;\n",
       "  margin-right: 0.25em;\n",
       "  color: var(--sklearn-color-icon);\n",
       "}\n",
       "\n",
       "#sk-container-id-3 label.sk-toggleable__label-arrow:hover:before {\n",
       "  color: var(--sklearn-color-text);\n",
       "}\n",
       "\n",
       "/* Toggleable content - dropdown */\n",
       "\n",
       "#sk-container-id-3 div.sk-toggleable__content {\n",
       "  max-height: 0;\n",
       "  max-width: 0;\n",
       "  overflow: hidden;\n",
       "  text-align: left;\n",
       "  /* unfitted */\n",
       "  background-color: var(--sklearn-color-unfitted-level-0);\n",
       "}\n",
       "\n",
       "#sk-container-id-3 div.sk-toggleable__content.fitted {\n",
       "  /* fitted */\n",
       "  background-color: var(--sklearn-color-fitted-level-0);\n",
       "}\n",
       "\n",
       "#sk-container-id-3 div.sk-toggleable__content pre {\n",
       "  margin: 0.2em;\n",
       "  border-radius: 0.25em;\n",
       "  color: var(--sklearn-color-text);\n",
       "  /* unfitted */\n",
       "  background-color: var(--sklearn-color-unfitted-level-0);\n",
       "}\n",
       "\n",
       "#sk-container-id-3 div.sk-toggleable__content.fitted pre {\n",
       "  /* unfitted */\n",
       "  background-color: var(--sklearn-color-fitted-level-0);\n",
       "}\n",
       "\n",
       "#sk-container-id-3 input.sk-toggleable__control:checked~div.sk-toggleable__content {\n",
       "  /* Expand drop-down */\n",
       "  max-height: 200px;\n",
       "  max-width: 100%;\n",
       "  overflow: auto;\n",
       "}\n",
       "\n",
       "#sk-container-id-3 input.sk-toggleable__control:checked~label.sk-toggleable__label-arrow:before {\n",
       "  content: \"▾\";\n",
       "}\n",
       "\n",
       "/* Pipeline/ColumnTransformer-specific style */\n",
       "\n",
       "#sk-container-id-3 div.sk-label input.sk-toggleable__control:checked~label.sk-toggleable__label {\n",
       "  color: var(--sklearn-color-text);\n",
       "  background-color: var(--sklearn-color-unfitted-level-2);\n",
       "}\n",
       "\n",
       "#sk-container-id-3 div.sk-label.fitted input.sk-toggleable__control:checked~label.sk-toggleable__label {\n",
       "  background-color: var(--sklearn-color-fitted-level-2);\n",
       "}\n",
       "\n",
       "/* Estimator-specific style */\n",
       "\n",
       "/* Colorize estimator box */\n",
       "#sk-container-id-3 div.sk-estimator input.sk-toggleable__control:checked~label.sk-toggleable__label {\n",
       "  /* unfitted */\n",
       "  background-color: var(--sklearn-color-unfitted-level-2);\n",
       "}\n",
       "\n",
       "#sk-container-id-3 div.sk-estimator.fitted input.sk-toggleable__control:checked~label.sk-toggleable__label {\n",
       "  /* fitted */\n",
       "  background-color: var(--sklearn-color-fitted-level-2);\n",
       "}\n",
       "\n",
       "#sk-container-id-3 div.sk-label label.sk-toggleable__label,\n",
       "#sk-container-id-3 div.sk-label label {\n",
       "  /* The background is the default theme color */\n",
       "  color: var(--sklearn-color-text-on-default-background);\n",
       "}\n",
       "\n",
       "/* On hover, darken the color of the background */\n",
       "#sk-container-id-3 div.sk-label:hover label.sk-toggleable__label {\n",
       "  color: var(--sklearn-color-text);\n",
       "  background-color: var(--sklearn-color-unfitted-level-2);\n",
       "}\n",
       "\n",
       "/* Label box, darken color on hover, fitted */\n",
       "#sk-container-id-3 div.sk-label.fitted:hover label.sk-toggleable__label.fitted {\n",
       "  color: var(--sklearn-color-text);\n",
       "  background-color: var(--sklearn-color-fitted-level-2);\n",
       "}\n",
       "\n",
       "/* Estimator label */\n",
       "\n",
       "#sk-container-id-3 div.sk-label label {\n",
       "  font-family: monospace;\n",
       "  font-weight: bold;\n",
       "  display: inline-block;\n",
       "  line-height: 1.2em;\n",
       "}\n",
       "\n",
       "#sk-container-id-3 div.sk-label-container {\n",
       "  text-align: center;\n",
       "}\n",
       "\n",
       "/* Estimator-specific */\n",
       "#sk-container-id-3 div.sk-estimator {\n",
       "  font-family: monospace;\n",
       "  border: 1px dotted var(--sklearn-color-border-box);\n",
       "  border-radius: 0.25em;\n",
       "  box-sizing: border-box;\n",
       "  margin-bottom: 0.5em;\n",
       "  /* unfitted */\n",
       "  background-color: var(--sklearn-color-unfitted-level-0);\n",
       "}\n",
       "\n",
       "#sk-container-id-3 div.sk-estimator.fitted {\n",
       "  /* fitted */\n",
       "  background-color: var(--sklearn-color-fitted-level-0);\n",
       "}\n",
       "\n",
       "/* on hover */\n",
       "#sk-container-id-3 div.sk-estimator:hover {\n",
       "  /* unfitted */\n",
       "  background-color: var(--sklearn-color-unfitted-level-2);\n",
       "}\n",
       "\n",
       "#sk-container-id-3 div.sk-estimator.fitted:hover {\n",
       "  /* fitted */\n",
       "  background-color: var(--sklearn-color-fitted-level-2);\n",
       "}\n",
       "\n",
       "/* Specification for estimator info (e.g. \"i\" and \"?\") */\n",
       "\n",
       "/* Common style for \"i\" and \"?\" */\n",
       "\n",
       ".sk-estimator-doc-link,\n",
       "a:link.sk-estimator-doc-link,\n",
       "a:visited.sk-estimator-doc-link {\n",
       "  float: right;\n",
       "  font-size: smaller;\n",
       "  line-height: 1em;\n",
       "  font-family: monospace;\n",
       "  background-color: var(--sklearn-color-background);\n",
       "  border-radius: 1em;\n",
       "  height: 1em;\n",
       "  width: 1em;\n",
       "  text-decoration: none !important;\n",
       "  margin-left: 1ex;\n",
       "  /* unfitted */\n",
       "  border: var(--sklearn-color-unfitted-level-1) 1pt solid;\n",
       "  color: var(--sklearn-color-unfitted-level-1);\n",
       "}\n",
       "\n",
       ".sk-estimator-doc-link.fitted,\n",
       "a:link.sk-estimator-doc-link.fitted,\n",
       "a:visited.sk-estimator-doc-link.fitted {\n",
       "  /* fitted */\n",
       "  border: var(--sklearn-color-fitted-level-1) 1pt solid;\n",
       "  color: var(--sklearn-color-fitted-level-1);\n",
       "}\n",
       "\n",
       "/* On hover */\n",
       "div.sk-estimator:hover .sk-estimator-doc-link:hover,\n",
       ".sk-estimator-doc-link:hover,\n",
       "div.sk-label-container:hover .sk-estimator-doc-link:hover,\n",
       ".sk-estimator-doc-link:hover {\n",
       "  /* unfitted */\n",
       "  background-color: var(--sklearn-color-unfitted-level-3);\n",
       "  color: var(--sklearn-color-background);\n",
       "  text-decoration: none;\n",
       "}\n",
       "\n",
       "div.sk-estimator.fitted:hover .sk-estimator-doc-link.fitted:hover,\n",
       ".sk-estimator-doc-link.fitted:hover,\n",
       "div.sk-label-container:hover .sk-estimator-doc-link.fitted:hover,\n",
       ".sk-estimator-doc-link.fitted:hover {\n",
       "  /* fitted */\n",
       "  background-color: var(--sklearn-color-fitted-level-3);\n",
       "  color: var(--sklearn-color-background);\n",
       "  text-decoration: none;\n",
       "}\n",
       "\n",
       "/* Span, style for the box shown on hovering the info icon */\n",
       ".sk-estimator-doc-link span {\n",
       "  display: none;\n",
       "  z-index: 9999;\n",
       "  position: relative;\n",
       "  font-weight: normal;\n",
       "  right: .2ex;\n",
       "  padding: .5ex;\n",
       "  margin: .5ex;\n",
       "  width: min-content;\n",
       "  min-width: 20ex;\n",
       "  max-width: 50ex;\n",
       "  color: var(--sklearn-color-text);\n",
       "  box-shadow: 2pt 2pt 4pt #999;\n",
       "  /* unfitted */\n",
       "  background: var(--sklearn-color-unfitted-level-0);\n",
       "  border: .5pt solid var(--sklearn-color-unfitted-level-3);\n",
       "}\n",
       "\n",
       ".sk-estimator-doc-link.fitted span {\n",
       "  /* fitted */\n",
       "  background: var(--sklearn-color-fitted-level-0);\n",
       "  border: var(--sklearn-color-fitted-level-3);\n",
       "}\n",
       "\n",
       ".sk-estimator-doc-link:hover span {\n",
       "  display: block;\n",
       "}\n",
       "\n",
       "/* \"?\"-specific style due to the `<a>` HTML tag */\n",
       "\n",
       "#sk-container-id-3 a.estimator_doc_link {\n",
       "  float: right;\n",
       "  font-size: 1rem;\n",
       "  line-height: 1em;\n",
       "  font-family: monospace;\n",
       "  background-color: var(--sklearn-color-background);\n",
       "  border-radius: 1rem;\n",
       "  height: 1rem;\n",
       "  width: 1rem;\n",
       "  text-decoration: none;\n",
       "  /* unfitted */\n",
       "  color: var(--sklearn-color-unfitted-level-1);\n",
       "  border: var(--sklearn-color-unfitted-level-1) 1pt solid;\n",
       "}\n",
       "\n",
       "#sk-container-id-3 a.estimator_doc_link.fitted {\n",
       "  /* fitted */\n",
       "  border: var(--sklearn-color-fitted-level-1) 1pt solid;\n",
       "  color: var(--sklearn-color-fitted-level-1);\n",
       "}\n",
       "\n",
       "/* On hover */\n",
       "#sk-container-id-3 a.estimator_doc_link:hover {\n",
       "  /* unfitted */\n",
       "  background-color: var(--sklearn-color-unfitted-level-3);\n",
       "  color: var(--sklearn-color-background);\n",
       "  text-decoration: none;\n",
       "}\n",
       "\n",
       "#sk-container-id-3 a.estimator_doc_link.fitted:hover {\n",
       "  /* fitted */\n",
       "  background-color: var(--sklearn-color-fitted-level-3);\n",
       "}\n",
       "</style><div id=\"sk-container-id-3\" class=\"sk-top-container\"><div class=\"sk-text-repr-fallback\"><pre>LGBMRegressor(max_depth=10, num_leaves=300, random_state=74)</pre><b>In a Jupyter environment, please rerun this cell to show the HTML representation or trust the notebook. <br />On GitHub, the HTML representation is unable to render, please try loading this page with nbviewer.org.</b></div><div class=\"sk-container\" hidden><div class=\"sk-item\"><div class=\"sk-estimator fitted sk-toggleable\"><input class=\"sk-toggleable__control sk-hidden--visually\" id=\"sk-estimator-id-5\" type=\"checkbox\" checked><label for=\"sk-estimator-id-5\" class=\"sk-toggleable__label fitted sk-toggleable__label-arrow fitted\">&nbsp;LGBMRegressor<span class=\"sk-estimator-doc-link fitted\">i<span>Fitted</span></span></label><div class=\"sk-toggleable__content fitted\"><pre>LGBMRegressor(max_depth=10, num_leaves=300, random_state=74)</pre></div> </div></div></div></div>"
      ],
      "text/plain": [
       "LGBMRegressor(max_depth=10, num_leaves=300, random_state=74)"
      ]
     },
     "execution_count": 57,
     "metadata": {},
     "output_type": "execute_result"
    }
   ],
   "source": [
    "lgbm_model.fit(X_train, y_train) #замеряем время обучения"
   ]
  },
  {
   "cell_type": "code",
   "execution_count": 58,
   "metadata": {},
   "outputs": [],
   "source": [
    "end = time()\n",
    "\n",
    "lgbm_model_time_fit = (end-start)/60 "
   ]
  },
  {
   "cell_type": "code",
   "execution_count": 59,
   "metadata": {},
   "outputs": [],
   "source": [
    "# засекаем время предсказания\n",
    "start = time()"
   ]
  },
  {
   "cell_type": "code",
   "execution_count": 60,
   "metadata": {},
   "outputs": [
    {
     "data": {
      "text/plain": [
       "array([10654.01417469,  8659.06256198,  2907.93072034, ...,\n",
       "        4869.90044717,   740.58920708,  8331.35541518])"
      ]
     },
     "execution_count": 60,
     "metadata": {},
     "output_type": "execute_result"
    }
   ],
   "source": [
    "lgbm_model.predict(X_train) #замеряем время предсказания"
   ]
  },
  {
   "cell_type": "code",
   "execution_count": 61,
   "metadata": {},
   "outputs": [],
   "source": [
    "end = time()\n",
    "\n",
    "lgbm_model_time_pred = (end-start)/60 "
   ]
  },
  {
   "cell_type": "code",
   "execution_count": 62,
   "metadata": {},
   "outputs": [
    {
     "name": "stdout",
     "output_type": "stream",
     "text": [
      "RMSE для CatBoostRegressor модели: 1614.97\n"
     ]
    }
   ],
   "source": [
    "print(\"RMSE для CatBoostRegressor модели:\", round((mse_lgbm_model), 2))"
   ]
  },
  {
   "cell_type": "markdown",
   "metadata": {},
   "source": [
    "### Вывод\n",
    "- Были обучены модели и сделаны предсказани с замером времени каждого шага.\n",
    "- Следующий шаг - анализ полученных результатов и проверка лучшей модели на тестовой выборке."
   ]
  },
  {
   "cell_type": "markdown",
   "metadata": {},
   "source": [
    "## Анализ моделей"
   ]
  },
  {
   "cell_type": "code",
   "execution_count": 63,
   "metadata": {},
   "outputs": [],
   "source": [
    "res = [[round((mse_dtr_model), 2), dtr_model_time_fit, dtr_model_time_pred],\n",
    "      [round((mse_cat_model), 2), cat_model_time_fit, cat_model_time_pred],\n",
    "      [round((mse_lgbm_model), 2), lgbm_model_time_fit, lgbm_model_time_pred]]\n",
    "model = [\"DecisionTreeRegressor\", \"CatBoostRegressor\", \"LightGBMRegressor\"]"
   ]
  },
  {
   "cell_type": "code",
   "execution_count": 64,
   "metadata": {},
   "outputs": [
    {
     "data": {
      "text/html": [
       "<div>\n",
       "<style scoped>\n",
       "    .dataframe tbody tr th:only-of-type {\n",
       "        vertical-align: middle;\n",
       "    }\n",
       "\n",
       "    .dataframe tbody tr th {\n",
       "        vertical-align: top;\n",
       "    }\n",
       "\n",
       "    .dataframe thead th {\n",
       "        text-align: right;\n",
       "    }\n",
       "</style>\n",
       "<table border=\"1\" class=\"dataframe\">\n",
       "  <thead>\n",
       "    <tr style=\"text-align: right;\">\n",
       "      <th></th>\n",
       "      <th>RMSE</th>\n",
       "      <th>fit_time</th>\n",
       "      <th>predict_time</th>\n",
       "    </tr>\n",
       "  </thead>\n",
       "  <tbody>\n",
       "    <tr>\n",
       "      <th>DecisionTreeRegressor</th>\n",
       "      <td>2237.46</td>\n",
       "      <td>0.007421</td>\n",
       "      <td>0.001404</td>\n",
       "    </tr>\n",
       "    <tr>\n",
       "      <th>CatBoostRegressor</th>\n",
       "      <td>1612.79</td>\n",
       "      <td>0.314135</td>\n",
       "      <td>0.002461</td>\n",
       "    </tr>\n",
       "    <tr>\n",
       "      <th>LightGBMRegressor</th>\n",
       "      <td>1614.97</td>\n",
       "      <td>0.264827</td>\n",
       "      <td>0.034847</td>\n",
       "    </tr>\n",
       "  </tbody>\n",
       "</table>\n",
       "</div>"
      ],
      "text/plain": [
       "                          RMSE  fit_time  predict_time\n",
       "DecisionTreeRegressor  2237.46  0.007421      0.001404\n",
       "CatBoostRegressor      1612.79  0.314135      0.002461\n",
       "LightGBMRegressor      1614.97  0.264827      0.034847"
      ]
     },
     "execution_count": 64,
     "metadata": {},
     "output_type": "execute_result"
    }
   ],
   "source": [
    "results = pd.DataFrame(data=res, index=model, columns=[ \"RMSE\", \"fit_time\", \"predict_time\"])\n",
    "\n",
    "results"
   ]
  },
  {
   "cell_type": "markdown",
   "metadata": {},
   "source": [
    "- Самое быстро время обучения и предсказания - у DecisionTreeRegressor.\n",
    "- Самая лучшая метрика и время обучения у LightGBM.\n",
    "- Думаю, что лучшей моделью является CatBoostRegressor - метрика на уровне с LGBM, но время предсказания значительно меньше. В, целом, обучаться модель будет один раз, поэтому предпочтения можно отдать CatBoost, а не DecisionTreeRegressor."
   ]
  },
  {
   "cell_type": "code",
   "execution_count": 65,
   "metadata": {},
   "outputs": [
    {
     "name": "stdout",
     "output_type": "stream",
     "text": [
      "RMSE на тестовой выборке для CatBoostRegressor: 1602\n"
     ]
    }
   ],
   "source": [
    "# проверим метрику CatBoost на тестовой выборке\n",
    "pred_cat = rs_cat.best_estimator_.predict(X_test)\n",
    "print(f'RMSE на тестовой выборке для CatBoostRegressor: {round(mean_squared_error(y_test, pred_cat)** 0.5)}')"
   ]
  },
  {
   "cell_type": "markdown",
   "metadata": {},
   "source": [
    "- Модель также себя показала отлично и на тестовой выборке."
   ]
  },
  {
   "cell_type": "markdown",
   "metadata": {},
   "source": [
    "### Проверка на адекватность"
   ]
  },
  {
   "cell_type": "code",
   "execution_count": 66,
   "metadata": {},
   "outputs": [],
   "source": [
    "# инициируем модель, предсказывающий константное значение\n",
    "# в качестве этого значения возьмем среднее\n",
    "model = DummyRegressor(strategy=\"mean\")"
   ]
  },
  {
   "cell_type": "code",
   "execution_count": 67,
   "metadata": {},
   "outputs": [
    {
     "name": "stdout",
     "output_type": "stream",
     "text": [
      "RMSE для Dummy модели: 4663.9\n"
     ]
    }
   ],
   "source": [
    "model.fit(X_train, y_train)\n",
    "\n",
    "pred_dummy = model.predict(X_test)\n",
    "\n",
    "mse_dummy_model = mean_squared_error(y_test, pred_dummy)\n",
    "\n",
    "print(\"RMSE для Dummy модели:\", round((mse_dummy_model) ** 0.5, 2))"
   ]
  },
  {
   "cell_type": "markdown",
   "metadata": {},
   "source": [
    "Видно, что метрика на выбранной нами модели намного лучше. Тест на адекватность пройден."
   ]
  },
  {
   "cell_type": "markdown",
   "metadata": {},
   "source": [
    "## Заключение\n",
    "- Были обучены модели, после чего был произведен анализ скорости обучения, предсказания и метрики RMSE.\n",
    "- Выбрана лучшая модель - CatBoostRegressor.\n",
    "- Модель проверена на адекватность."
   ]
  }
 ],
 "metadata": {
  "ExecuteTimeLog": [
   {
    "duration": 407,
    "start_time": "2024-01-26T08:44:28.878Z"
   },
   {
    "duration": 1104,
    "start_time": "2024-01-26T08:45:20.199Z"
   },
   {
    "duration": 832,
    "start_time": "2024-01-26T08:45:26.603Z"
   },
   {
    "duration": 148,
    "start_time": "2024-01-26T08:46:50.517Z"
   },
   {
    "duration": 9992,
    "start_time": "2024-01-26T08:49:26.830Z"
   },
   {
    "duration": 617,
    "start_time": "2024-01-26T08:50:26.336Z"
   },
   {
    "duration": 177,
    "start_time": "2024-01-26T08:51:34.573Z"
   },
   {
    "duration": 466,
    "start_time": "2024-01-26T08:53:32.764Z"
   },
   {
    "duration": 454,
    "start_time": "2024-01-26T08:53:42.259Z"
   },
   {
    "duration": 119,
    "start_time": "2024-01-26T08:54:22.514Z"
   },
   {
    "duration": 295,
    "start_time": "2024-01-26T08:54:34.143Z"
   },
   {
    "duration": 2051,
    "start_time": "2024-01-26T08:59:02.460Z"
   },
   {
    "duration": 15,
    "start_time": "2024-01-26T08:59:16.888Z"
   },
   {
    "duration": 66,
    "start_time": "2024-01-26T08:59:21.869Z"
   },
   {
    "duration": 83,
    "start_time": "2024-01-26T09:02:21.215Z"
   },
   {
    "duration": 923,
    "start_time": "2024-01-26T09:04:52.261Z"
   },
   {
    "duration": 131,
    "start_time": "2024-01-26T09:05:11.761Z"
   },
   {
    "duration": 2938,
    "start_time": "2024-01-26T09:05:15.630Z"
   },
   {
    "duration": 45,
    "start_time": "2024-01-26T09:05:51.513Z"
   },
   {
    "duration": 2459,
    "start_time": "2024-01-26T09:08:14.031Z"
   },
   {
    "duration": 3296,
    "start_time": "2024-01-26T09:16:49.771Z"
   },
   {
    "duration": 1012,
    "start_time": "2024-01-26T09:17:16.629Z"
   },
   {
    "duration": 547,
    "start_time": "2024-01-26T09:17:26.023Z"
   },
   {
    "duration": 397,
    "start_time": "2024-01-26T09:17:46.771Z"
   },
   {
    "duration": 1136,
    "start_time": "2024-01-26T09:20:22.429Z"
   },
   {
    "duration": 92,
    "start_time": "2024-01-26T09:23:29.111Z"
   },
   {
    "duration": 19,
    "start_time": "2024-01-26T09:23:31.890Z"
   },
   {
    "duration": 987,
    "start_time": "2024-01-26T09:23:39.874Z"
   },
   {
    "duration": 54,
    "start_time": "2024-01-26T09:24:52.828Z"
   },
   {
    "duration": 4,
    "start_time": "2024-01-26T09:25:01.530Z"
   },
   {
    "duration": 878,
    "start_time": "2024-01-26T09:25:01.677Z"
   },
   {
    "duration": 165,
    "start_time": "2024-01-26T09:25:02.557Z"
   },
   {
    "duration": 143,
    "start_time": "2024-01-26T09:25:02.723Z"
   },
   {
    "duration": 425,
    "start_time": "2024-01-26T09:25:02.868Z"
   },
   {
    "duration": 68,
    "start_time": "2024-01-26T09:25:03.295Z"
   },
   {
    "duration": 96,
    "start_time": "2024-01-26T09:25:03.364Z"
   },
   {
    "duration": 2539,
    "start_time": "2024-01-26T09:25:03.462Z"
   },
   {
    "duration": 69,
    "start_time": "2024-01-26T09:25:06.002Z"
   },
   {
    "duration": 1024,
    "start_time": "2024-01-26T09:25:06.073Z"
   },
   {
    "duration": 210184,
    "start_time": "2024-01-26T09:28:29.027Z"
   },
   {
    "duration": 2152,
    "start_time": "2024-01-26T09:37:58.076Z"
   },
   {
    "duration": 1185,
    "start_time": "2024-01-26T09:38:00.230Z"
   },
   {
    "duration": 152,
    "start_time": "2024-01-26T09:38:01.417Z"
   },
   {
    "duration": 160,
    "start_time": "2024-01-26T09:38:01.571Z"
   },
   {
    "duration": 513,
    "start_time": "2024-01-26T09:38:01.733Z"
   },
   {
    "duration": 81,
    "start_time": "2024-01-26T09:38:02.248Z"
   },
   {
    "duration": 104,
    "start_time": "2024-01-26T09:38:02.331Z"
   },
   {
    "duration": 2757,
    "start_time": "2024-01-26T09:38:02.437Z"
   },
   {
    "duration": 103,
    "start_time": "2024-01-26T09:38:05.196Z"
   },
   {
    "duration": 4,
    "start_time": "2024-01-26T09:38:05.301Z"
   },
   {
    "duration": 926,
    "start_time": "2024-01-26T09:38:05.306Z"
   },
   {
    "duration": 163,
    "start_time": "2024-01-26T09:38:06.234Z"
   },
   {
    "duration": 151,
    "start_time": "2024-01-26T09:38:06.399Z"
   },
   {
    "duration": 440,
    "start_time": "2024-01-26T09:38:06.552Z"
   },
   {
    "duration": 76,
    "start_time": "2024-01-26T09:38:08.564Z"
   },
   {
    "duration": 87,
    "start_time": "2024-01-26T09:38:10.330Z"
   },
   {
    "duration": 2633,
    "start_time": "2024-01-26T09:38:13.632Z"
   },
   {
    "duration": 30,
    "start_time": "2024-01-26T09:44:52.750Z"
   },
   {
    "duration": 6,
    "start_time": "2024-01-26T09:45:26.494Z"
   },
   {
    "duration": 15,
    "start_time": "2024-01-26T09:45:59.998Z"
   },
   {
    "duration": 121,
    "start_time": "2024-01-26T09:47:49.179Z"
   },
   {
    "duration": 59,
    "start_time": "2024-01-26T09:47:56.136Z"
   },
   {
    "duration": 182,
    "start_time": "2024-01-26T09:48:22.079Z"
   },
   {
    "duration": 87836,
    "start_time": "2024-01-26T09:48:26.975Z"
   },
   {
    "duration": 419826,
    "start_time": "2024-01-26T09:50:13.287Z"
   },
   {
    "duration": 11,
    "start_time": "2024-01-26T09:57:13.115Z"
   },
   {
    "duration": 54,
    "start_time": "2024-01-26T09:57:13.129Z"
   },
   {
    "duration": 57,
    "start_time": "2024-01-26T09:57:13.185Z"
   },
   {
    "duration": 193,
    "start_time": "2024-01-26T10:00:20.098Z"
   },
   {
    "duration": 144,
    "start_time": "2024-01-26T10:00:25.005Z"
   },
   {
    "duration": 124,
    "start_time": "2024-01-26T10:07:17.458Z"
   },
   {
    "duration": 220649,
    "start_time": "2024-01-26T10:09:35.857Z"
   },
   {
    "duration": 47,
    "start_time": "2024-01-26T10:13:16.508Z"
   },
   {
    "duration": 3,
    "start_time": "2024-01-26T10:13:16.556Z"
   },
   {
    "duration": 7,
    "start_time": "2024-01-26T10:13:16.560Z"
   },
   {
    "duration": 40,
    "start_time": "2024-01-26T10:13:58.752Z"
   },
   {
    "duration": 1080,
    "start_time": "2024-01-26T10:14:01.937Z"
   },
   {
    "duration": 477,
    "start_time": "2024-01-26T10:14:03.019Z"
   },
   {
    "duration": 3,
    "start_time": "2024-01-26T10:14:52.783Z"
   },
   {
    "duration": 28,
    "start_time": "2024-01-26T10:14:53.207Z"
   },
   {
    "duration": 3,
    "start_time": "2024-01-26T10:16:36.968Z"
   },
   {
    "duration": 767,
    "start_time": "2024-01-26T10:17:52.962Z"
   },
   {
    "duration": 106,
    "start_time": "2024-01-26T10:18:06.654Z"
   },
   {
    "duration": 3,
    "start_time": "2024-01-26T10:26:10.946Z"
   },
   {
    "duration": 1312,
    "start_time": "2024-01-26T10:26:50.945Z"
   },
   {
    "duration": 22,
    "start_time": "2024-01-26T10:26:57.987Z"
   },
   {
    "duration": 745,
    "start_time": "2024-01-26T10:27:20.192Z"
   },
   {
    "duration": 727,
    "start_time": "2024-01-26T10:27:28.236Z"
   },
   {
    "duration": 737,
    "start_time": "2024-01-26T10:28:11.534Z"
   },
   {
    "duration": 753,
    "start_time": "2024-01-26T10:29:07.609Z"
   },
   {
    "duration": 743,
    "start_time": "2024-01-26T10:29:53.548Z"
   },
   {
    "duration": 14232,
    "start_time": "2024-01-26T10:31:43.796Z"
   },
   {
    "duration": 2,
    "start_time": "2024-01-26T10:32:30.437Z"
   },
   {
    "duration": 18,
    "start_time": "2024-01-26T10:32:30.870Z"
   },
   {
    "duration": 13927,
    "start_time": "2024-01-26T10:32:31.517Z"
   },
   {
    "duration": 9,
    "start_time": "2024-01-26T10:32:47.906Z"
   },
   {
    "duration": 34,
    "start_time": "2024-01-26T10:32:59.897Z"
   },
   {
    "duration": 25,
    "start_time": "2024-01-26T10:33:04.223Z"
   },
   {
    "duration": 14272,
    "start_time": "2024-01-26T10:33:07.879Z"
   },
   {
    "duration": 1830,
    "start_time": "2024-01-26T10:34:32.722Z"
   },
   {
    "duration": 2666,
    "start_time": "2024-01-26T10:35:18.468Z"
   },
   {
    "duration": 2572,
    "start_time": "2024-01-26T10:35:27.910Z"
   },
   {
    "duration": 2561,
    "start_time": "2024-01-26T10:35:36.467Z"
   },
   {
    "duration": 18,
    "start_time": "2024-01-26T10:42:12.093Z"
   },
   {
    "duration": 18,
    "start_time": "2024-01-26T10:42:29.106Z"
   },
   {
    "duration": 1931,
    "start_time": "2024-01-26T10:44:21.483Z"
   },
   {
    "duration": 21,
    "start_time": "2024-01-26T10:44:23.416Z"
   },
   {
    "duration": 2734,
    "start_time": "2024-01-26T10:44:24.068Z"
   },
   {
    "duration": 59,
    "start_time": "2024-01-26T10:46:45.833Z"
   },
   {
    "duration": 2051,
    "start_time": "2024-01-26T10:46:52.245Z"
   },
   {
    "duration": 1169,
    "start_time": "2024-01-26T10:46:55.736Z"
   },
   {
    "duration": 146,
    "start_time": "2024-01-26T10:46:56.907Z"
   },
   {
    "duration": 155,
    "start_time": "2024-01-26T10:46:57.054Z"
   },
   {
    "duration": 203,
    "start_time": "2024-01-26T10:46:57.211Z"
   },
   {
    "duration": 480,
    "start_time": "2024-01-26T10:46:57.602Z"
   },
   {
    "duration": 177,
    "start_time": "2024-01-26T10:46:58.084Z"
   },
   {
    "duration": 95,
    "start_time": "2024-01-26T10:46:58.263Z"
   },
   {
    "duration": 2648,
    "start_time": "2024-01-26T10:46:58.359Z"
   },
   {
    "duration": 29,
    "start_time": "2024-01-26T10:47:01.009Z"
   },
   {
    "duration": 53,
    "start_time": "2024-01-26T10:47:01.039Z"
   },
   {
    "duration": 44,
    "start_time": "2024-01-26T10:47:01.094Z"
   },
   {
    "duration": 451071,
    "start_time": "2024-01-26T10:47:01.140Z"
   },
   {
    "duration": 10,
    "start_time": "2024-01-26T10:54:32.214Z"
   },
   {
    "duration": 65,
    "start_time": "2024-01-26T10:54:32.225Z"
   },
   {
    "duration": 55,
    "start_time": "2024-01-26T10:54:32.292Z"
   },
   {
    "duration": 36,
    "start_time": "2024-01-26T10:54:32.348Z"
   },
   {
    "duration": 222268,
    "start_time": "2024-01-26T10:54:32.386Z"
   },
   {
    "duration": 54,
    "start_time": "2024-01-26T10:58:14.655Z"
   },
   {
    "duration": 3,
    "start_time": "2024-01-26T10:58:14.710Z"
   },
   {
    "duration": 995,
    "start_time": "2024-01-26T10:58:14.714Z"
   },
   {
    "duration": 461,
    "start_time": "2024-01-26T10:58:15.710Z"
   },
   {
    "duration": 2,
    "start_time": "2024-01-26T10:58:16.173Z"
   },
   {
    "duration": 10,
    "start_time": "2024-01-26T10:58:16.182Z"
   },
   {
    "duration": 32,
    "start_time": "2024-01-26T10:58:16.194Z"
   },
   {
    "duration": 1906,
    "start_time": "2024-01-26T10:58:16.228Z"
   },
   {
    "duration": 22,
    "start_time": "2024-01-26T10:58:18.136Z"
   },
   {
    "duration": 2669,
    "start_time": "2024-01-26T10:58:18.159Z"
   },
   {
    "duration": 1630,
    "start_time": "2024-01-26T10:58:20.829Z"
   },
   {
    "duration": 2,
    "start_time": "2024-01-26T11:00:29.896Z"
   },
   {
    "duration": 81,
    "start_time": "2024-01-26T11:00:37.204Z"
   },
   {
    "duration": 5,
    "start_time": "2024-01-26T11:00:56.556Z"
   },
   {
    "duration": 25,
    "start_time": "2024-01-26T11:01:01.098Z"
   },
   {
    "duration": 12,
    "start_time": "2024-01-26T11:01:52.098Z"
   },
   {
    "duration": 47,
    "start_time": "2024-01-26T11:02:34.077Z"
   },
   {
    "duration": 1942,
    "start_time": "2024-01-26T11:02:46.469Z"
   },
   {
    "duration": 1176,
    "start_time": "2024-01-26T11:02:48.413Z"
   },
   {
    "duration": 154,
    "start_time": "2024-01-26T11:02:49.590Z"
   },
   {
    "duration": 160,
    "start_time": "2024-01-26T11:02:49.746Z"
   },
   {
    "duration": 203,
    "start_time": "2024-01-26T11:02:49.908Z"
   },
   {
    "duration": 476,
    "start_time": "2024-01-26T11:02:50.113Z"
   },
   {
    "duration": 178,
    "start_time": "2024-01-26T11:02:57.494Z"
   },
   {
    "duration": 93,
    "start_time": "2024-01-26T11:02:57.769Z"
   },
   {
    "duration": 2622,
    "start_time": "2024-01-26T11:02:57.900Z"
   },
   {
    "duration": 29,
    "start_time": "2024-01-26T11:03:00.523Z"
   },
   {
    "duration": 15,
    "start_time": "2024-01-26T11:03:00.554Z"
   },
   {
    "duration": 34,
    "start_time": "2024-01-26T11:03:00.571Z"
   },
   {
    "duration": 5482,
    "start_time": "2024-01-26T11:09:28.424Z"
   },
   {
    "duration": 1230,
    "start_time": "2024-01-26T11:09:33.908Z"
   },
   {
    "duration": 896,
    "start_time": "2024-01-26T11:09:35.140Z"
   },
   {
    "duration": 163,
    "start_time": "2024-01-26T11:09:36.038Z"
   },
   {
    "duration": 151,
    "start_time": "2024-01-26T11:09:36.203Z"
   },
   {
    "duration": 212,
    "start_time": "2024-01-26T11:09:36.355Z"
   },
   {
    "duration": 457,
    "start_time": "2024-01-26T11:09:36.569Z"
   },
   {
    "duration": 185,
    "start_time": "2024-01-26T11:09:37.028Z"
   },
   {
    "duration": 95,
    "start_time": "2024-01-26T11:09:37.214Z"
   },
   {
    "duration": 2542,
    "start_time": "2024-01-26T11:09:37.311Z"
   },
   {
    "duration": 36,
    "start_time": "2024-01-26T11:09:39.855Z"
   },
   {
    "duration": 6,
    "start_time": "2024-01-26T11:09:39.892Z"
   },
   {
    "duration": 39,
    "start_time": "2024-01-26T11:09:39.899Z"
   },
   {
    "duration": 449148,
    "start_time": "2024-01-26T11:09:39.940Z"
   },
   {
    "duration": 10,
    "start_time": "2024-01-26T11:17:09.090Z"
   },
   {
    "duration": 82,
    "start_time": "2024-01-26T11:17:09.102Z"
   },
   {
    "duration": 56,
    "start_time": "2024-01-26T11:17:09.186Z"
   },
   {
    "duration": 23,
    "start_time": "2024-01-26T11:17:09.243Z"
   },
   {
    "duration": 225675,
    "start_time": "2024-01-26T11:17:09.268Z"
   },
   {
    "duration": 54,
    "start_time": "2024-01-26T11:20:54.945Z"
   },
   {
    "duration": 3,
    "start_time": "2024-01-26T11:20:55.001Z"
   },
   {
    "duration": 1016,
    "start_time": "2024-01-26T11:20:55.005Z"
   },
   {
    "duration": 449,
    "start_time": "2024-01-26T11:20:56.023Z"
   },
   {
    "duration": 9,
    "start_time": "2024-01-26T11:20:56.473Z"
   },
   {
    "duration": 29,
    "start_time": "2024-01-26T11:20:56.484Z"
   },
   {
    "duration": 46,
    "start_time": "2024-01-26T11:20:56.515Z"
   },
   {
    "duration": 2009,
    "start_time": "2024-01-26T11:20:56.562Z"
   },
   {
    "duration": 26,
    "start_time": "2024-01-26T11:20:58.574Z"
   },
   {
    "duration": 3261,
    "start_time": "2024-01-26T11:20:58.601Z"
   },
   {
    "duration": 1747,
    "start_time": "2024-01-26T11:21:01.864Z"
   },
   {
    "duration": 49,
    "start_time": "2024-01-26T11:22:37.748Z"
   },
   {
    "duration": 2049,
    "start_time": "2024-01-26T11:24:11.668Z"
   },
   {
    "duration": 1191,
    "start_time": "2024-01-26T11:24:13.719Z"
   },
   {
    "duration": 152,
    "start_time": "2024-01-26T11:24:14.911Z"
   },
   {
    "duration": 168,
    "start_time": "2024-01-26T11:24:15.065Z"
   },
   {
    "duration": 214,
    "start_time": "2024-01-26T11:24:15.235Z"
   },
   {
    "duration": 459,
    "start_time": "2024-01-26T11:24:15.450Z"
   },
   {
    "duration": 224,
    "start_time": "2024-01-26T11:24:15.910Z"
   },
   {
    "duration": 115,
    "start_time": "2024-01-26T11:24:16.297Z"
   },
   {
    "duration": 2720,
    "start_time": "2024-01-26T11:24:18.449Z"
   },
   {
    "duration": 106,
    "start_time": "2024-01-26T11:26:02.529Z"
   },
   {
    "duration": 1006,
    "start_time": "2024-01-26T11:26:12.352Z"
   },
   {
    "duration": 448,
    "start_time": "2024-01-26T11:26:14.196Z"
   },
   {
    "duration": 3,
    "start_time": "2024-01-26T11:26:20.884Z"
   },
   {
    "duration": 3,
    "start_time": "2024-01-26T11:26:21.085Z"
   },
   {
    "duration": 25,
    "start_time": "2024-01-26T11:26:21.274Z"
   },
   {
    "duration": 1948,
    "start_time": "2024-01-26T11:26:21.435Z"
   },
   {
    "duration": 21,
    "start_time": "2024-01-26T11:26:23.385Z"
   },
   {
    "duration": 3218,
    "start_time": "2024-01-26T11:26:23.407Z"
   },
   {
    "duration": 1623,
    "start_time": "2024-01-26T11:26:26.627Z"
   },
   {
    "duration": 50,
    "start_time": "2024-01-26T11:32:09.773Z"
   },
   {
    "duration": 1975,
    "start_time": "2024-01-26T11:36:47.719Z"
   },
   {
    "duration": 1174,
    "start_time": "2024-01-26T11:36:49.696Z"
   },
   {
    "duration": 169,
    "start_time": "2024-01-26T11:36:50.872Z"
   },
   {
    "duration": 180,
    "start_time": "2024-01-26T11:36:51.044Z"
   },
   {
    "duration": 204,
    "start_time": "2024-01-26T11:36:51.225Z"
   },
   {
    "duration": 494,
    "start_time": "2024-01-26T11:36:51.430Z"
   },
   {
    "duration": 197,
    "start_time": "2024-01-26T11:36:51.925Z"
   },
   {
    "duration": 105,
    "start_time": "2024-01-26T11:36:52.124Z"
   },
   {
    "duration": 2785,
    "start_time": "2024-01-26T11:36:52.230Z"
   },
   {
    "duration": 115,
    "start_time": "2024-01-26T11:36:55.018Z"
   },
   {
    "duration": 4,
    "start_time": "2024-01-26T11:36:58.420Z"
   },
   {
    "duration": 3,
    "start_time": "2024-01-26T11:36:58.808Z"
   },
   {
    "duration": 27,
    "start_time": "2024-01-26T11:36:59.229Z"
   },
   {
    "duration": 1988,
    "start_time": "2024-01-26T11:37:02.116Z"
   },
   {
    "duration": 23,
    "start_time": "2024-01-26T11:37:04.106Z"
   },
   {
    "duration": 3242,
    "start_time": "2024-01-26T11:37:04.131Z"
   },
   {
    "duration": 1679,
    "start_time": "2024-01-26T11:37:07.375Z"
   },
   {
    "duration": 87,
    "start_time": "2024-01-26T11:37:15.863Z"
   },
   {
    "duration": 10445,
    "start_time": "2024-01-27T13:58:40.961Z"
   },
   {
    "duration": 1608,
    "start_time": "2024-01-27T13:58:51.409Z"
   },
   {
    "duration": 2897,
    "start_time": "2024-01-27T13:58:53.019Z"
   },
   {
    "duration": 147,
    "start_time": "2024-01-27T13:58:55.918Z"
   },
   {
    "duration": 152,
    "start_time": "2024-01-27T13:58:56.067Z"
   },
   {
    "duration": 207,
    "start_time": "2024-01-27T13:58:56.221Z"
   },
   {
    "duration": 523,
    "start_time": "2024-01-27T13:58:56.430Z"
   },
   {
    "duration": 188,
    "start_time": "2024-01-27T13:58:56.955Z"
   },
   {
    "duration": 101,
    "start_time": "2024-01-27T13:58:57.144Z"
   },
   {
    "duration": 2689,
    "start_time": "2024-01-27T13:58:57.247Z"
   },
   {
    "duration": 28,
    "start_time": "2024-01-27T13:59:00.358Z"
   },
   {
    "duration": 5,
    "start_time": "2024-01-27T13:59:00.878Z"
   },
   {
    "duration": 15,
    "start_time": "2024-01-27T13:59:01.302Z"
   },
   {
    "duration": 5810,
    "start_time": "2024-01-27T14:06:32.563Z"
   },
   {
    "duration": 5,
    "start_time": "2024-01-27T14:06:38.419Z"
   },
   {
    "duration": 852,
    "start_time": "2024-01-27T14:10:28.799Z"
   },
   {
    "duration": 148,
    "start_time": "2024-01-27T14:10:29.699Z"
   },
   {
    "duration": 160,
    "start_time": "2024-01-27T14:10:29.868Z"
   },
   {
    "duration": 182,
    "start_time": "2024-01-27T14:10:31.083Z"
   },
   {
    "duration": 383,
    "start_time": "2024-01-27T14:10:31.798Z"
   },
   {
    "duration": 69,
    "start_time": "2024-01-27T14:10:37.734Z"
   },
   {
    "duration": 111,
    "start_time": "2024-01-27T14:10:37.812Z"
   },
   {
    "duration": 2666,
    "start_time": "2024-01-27T14:10:38.844Z"
   },
   {
    "duration": 33,
    "start_time": "2024-01-27T14:10:41.664Z"
   },
   {
    "duration": 6,
    "start_time": "2024-01-27T14:10:41.851Z"
   },
   {
    "duration": 16,
    "start_time": "2024-01-27T14:10:42.036Z"
   },
   {
    "duration": 416079,
    "start_time": "2024-01-27T14:10:42.479Z"
   },
   {
    "duration": 10,
    "start_time": "2024-01-27T14:17:38.637Z"
   },
   {
    "duration": 43,
    "start_time": "2024-01-27T14:17:38.770Z"
   },
   {
    "duration": 43,
    "start_time": "2024-01-27T14:17:41.410Z"
   },
   {
    "duration": 43,
    "start_time": "2024-01-27T14:17:41.498Z"
   },
   {
    "duration": 216645,
    "start_time": "2024-01-27T14:17:41.549Z"
   },
   {
    "duration": 44,
    "start_time": "2024-01-27T14:21:18.209Z"
   },
   {
    "duration": 2,
    "start_time": "2024-01-27T14:21:38.059Z"
   },
   {
    "duration": 1104,
    "start_time": "2024-01-27T14:21:38.083Z"
   },
   {
    "duration": 466,
    "start_time": "2024-01-27T14:21:39.230Z"
   },
   {
    "duration": 3,
    "start_time": "2024-01-27T14:21:39.745Z"
   },
   {
    "duration": 2,
    "start_time": "2024-01-27T14:21:39.781Z"
   },
   {
    "duration": 22,
    "start_time": "2024-01-27T14:21:39.795Z"
   },
   {
    "duration": 1887,
    "start_time": "2024-01-27T14:21:39.844Z"
   },
   {
    "duration": 0,
    "start_time": "2024-01-27T14:21:41.851Z"
   },
   {
    "duration": 0,
    "start_time": "2024-01-27T14:21:41.853Z"
   },
   {
    "duration": 0,
    "start_time": "2024-01-27T14:21:41.855Z"
   },
   {
    "duration": 24,
    "start_time": "2024-01-27T14:24:10.718Z"
   },
   {
    "duration": 3306,
    "start_time": "2024-01-27T14:24:11.036Z"
   },
   {
    "duration": 9945,
    "start_time": "2024-01-30T17:46:10.897Z"
   },
   {
    "duration": 1560,
    "start_time": "2024-01-30T17:46:20.844Z"
   },
   {
    "duration": 0,
    "start_time": "2024-01-30T17:46:22.407Z"
   },
   {
    "duration": 0,
    "start_time": "2024-01-30T17:46:22.408Z"
   },
   {
    "duration": 0,
    "start_time": "2024-01-30T17:46:22.410Z"
   },
   {
    "duration": 0,
    "start_time": "2024-01-30T17:46:22.410Z"
   },
   {
    "duration": 0,
    "start_time": "2024-01-30T17:46:22.412Z"
   },
   {
    "duration": 0,
    "start_time": "2024-01-30T17:46:22.413Z"
   },
   {
    "duration": 0,
    "start_time": "2024-01-30T17:46:22.414Z"
   },
   {
    "duration": 0,
    "start_time": "2024-01-30T17:46:22.415Z"
   },
   {
    "duration": 0,
    "start_time": "2024-01-30T17:46:22.417Z"
   },
   {
    "duration": 0,
    "start_time": "2024-01-30T17:46:22.418Z"
   },
   {
    "duration": 0,
    "start_time": "2024-01-30T17:46:22.419Z"
   },
   {
    "duration": 0,
    "start_time": "2024-01-30T17:46:22.420Z"
   },
   {
    "duration": 0,
    "start_time": "2024-01-30T17:46:22.421Z"
   },
   {
    "duration": 0,
    "start_time": "2024-01-30T17:46:22.423Z"
   },
   {
    "duration": 0,
    "start_time": "2024-01-30T17:46:22.424Z"
   },
   {
    "duration": 0,
    "start_time": "2024-01-30T17:46:22.425Z"
   },
   {
    "duration": 0,
    "start_time": "2024-01-30T17:46:22.426Z"
   },
   {
    "duration": 0,
    "start_time": "2024-01-30T17:46:22.427Z"
   },
   {
    "duration": 0,
    "start_time": "2024-01-30T17:46:22.428Z"
   },
   {
    "duration": 0,
    "start_time": "2024-01-30T17:46:22.430Z"
   },
   {
    "duration": 0,
    "start_time": "2024-01-30T17:46:22.431Z"
   },
   {
    "duration": 11,
    "start_time": "2024-01-30T17:48:40.425Z"
   },
   {
    "duration": 80,
    "start_time": "2024-01-30T17:48:45.417Z"
   },
   {
    "duration": 2944,
    "start_time": "2024-01-30T17:48:48.835Z"
   },
   {
    "duration": 147,
    "start_time": "2024-01-30T17:48:51.781Z"
   },
   {
    "duration": 149,
    "start_time": "2024-01-30T17:48:51.929Z"
   },
   {
    "duration": 207,
    "start_time": "2024-01-30T17:48:52.080Z"
   },
   {
    "duration": 446,
    "start_time": "2024-01-30T17:48:52.289Z"
   },
   {
    "duration": 173,
    "start_time": "2024-01-30T17:48:55.070Z"
   },
   {
    "duration": 89,
    "start_time": "2024-01-30T17:48:55.359Z"
   },
   {
    "duration": 2620,
    "start_time": "2024-01-30T17:48:57.703Z"
   },
   {
    "duration": 28,
    "start_time": "2024-01-30T17:49:01.401Z"
   },
   {
    "duration": 8,
    "start_time": "2024-01-30T17:49:02.470Z"
   },
   {
    "duration": 16,
    "start_time": "2024-01-30T17:49:04.398Z"
   },
   {
    "duration": 457000,
    "start_time": "2024-01-30T17:49:27.530Z"
   },
   {
    "duration": 10,
    "start_time": "2024-01-30T17:57:04.532Z"
   },
   {
    "duration": 74,
    "start_time": "2024-01-30T17:57:04.543Z"
   },
   {
    "duration": 65,
    "start_time": "2024-01-30T17:57:04.620Z"
   },
   {
    "duration": 22,
    "start_time": "2024-01-30T17:57:04.686Z"
   },
   {
    "duration": 226919,
    "start_time": "2024-01-30T17:57:04.709Z"
   },
   {
    "duration": 58,
    "start_time": "2024-01-30T18:00:51.629Z"
   },
   {
    "duration": 2,
    "start_time": "2024-01-30T18:00:51.689Z"
   },
   {
    "duration": 990,
    "start_time": "2024-01-30T18:00:51.693Z"
   },
   {
    "duration": 469,
    "start_time": "2024-01-30T18:00:52.685Z"
   },
   {
    "duration": 2,
    "start_time": "2024-01-30T18:02:51.256Z"
   },
   {
    "duration": 3,
    "start_time": "2024-01-30T18:02:51.443Z"
   },
   {
    "duration": 24,
    "start_time": "2024-01-30T18:02:51.670Z"
   },
   {
    "duration": 1880,
    "start_time": "2024-01-30T18:02:52.299Z"
   },
   {
    "duration": 22,
    "start_time": "2024-01-30T18:02:57.570Z"
   },
   {
    "duration": 2402,
    "start_time": "2024-01-30T18:02:59.630Z"
   },
   {
    "duration": 2687,
    "start_time": "2024-01-30T18:03:02.034Z"
   },
   {
    "duration": 5675,
    "start_time": "2024-01-30T18:03:29.439Z"
   },
   {
    "duration": 1833,
    "start_time": "2024-01-30T18:03:35.117Z"
   },
   {
    "duration": 2965,
    "start_time": "2024-01-30T18:03:36.952Z"
   },
   {
    "duration": 157,
    "start_time": "2024-01-30T18:03:39.919Z"
   },
   {
    "duration": 179,
    "start_time": "2024-01-30T18:03:40.078Z"
   },
   {
    "duration": 202,
    "start_time": "2024-01-30T18:03:40.258Z"
   },
   {
    "duration": 461,
    "start_time": "2024-01-30T18:03:40.461Z"
   },
   {
    "duration": 186,
    "start_time": "2024-01-30T18:03:40.924Z"
   },
   {
    "duration": 96,
    "start_time": "2024-01-30T18:03:41.112Z"
   },
   {
    "duration": 2653,
    "start_time": "2024-01-30T18:03:41.210Z"
   },
   {
    "duration": 28,
    "start_time": "2024-01-30T18:03:43.872Z"
   },
   {
    "duration": 5,
    "start_time": "2024-01-30T18:03:43.902Z"
   },
   {
    "duration": 22,
    "start_time": "2024-01-30T18:03:43.909Z"
   },
   {
    "duration": 455058,
    "start_time": "2024-01-30T18:03:43.933Z"
   },
   {
    "duration": 11,
    "start_time": "2024-01-30T18:11:18.993Z"
   },
   {
    "duration": 71,
    "start_time": "2024-01-30T18:11:19.005Z"
   },
   {
    "duration": 60,
    "start_time": "2024-01-30T18:11:19.078Z"
   },
   {
    "duration": 37,
    "start_time": "2024-01-30T18:11:19.140Z"
   },
   {
    "duration": 227677,
    "start_time": "2024-01-30T18:11:19.179Z"
   },
   {
    "duration": 59,
    "start_time": "2024-01-30T18:15:06.858Z"
   },
   {
    "duration": 3,
    "start_time": "2024-01-30T18:15:06.918Z"
   },
   {
    "duration": 1018,
    "start_time": "2024-01-30T18:15:06.923Z"
   },
   {
    "duration": 464,
    "start_time": "2024-01-30T18:15:07.943Z"
   },
   {
    "duration": 2,
    "start_time": "2024-01-30T18:15:08.408Z"
   },
   {
    "duration": 5,
    "start_time": "2024-01-30T18:15:08.412Z"
   },
   {
    "duration": 37,
    "start_time": "2024-01-30T18:15:08.418Z"
   },
   {
    "duration": 2000,
    "start_time": "2024-01-30T18:15:08.457Z"
   },
   {
    "duration": 26,
    "start_time": "2024-01-30T18:15:10.461Z"
   },
   {
    "duration": 2609,
    "start_time": "2024-01-30T18:15:10.489Z"
   },
   {
    "duration": 1733,
    "start_time": "2024-01-30T18:15:13.100Z"
   },
   {
    "duration": 116,
    "start_time": "2024-01-30T18:16:42.946Z"
   },
   {
    "duration": 8,
    "start_time": "2024-01-30T18:16:47.598Z"
   },
   {
    "duration": 4,
    "start_time": "2024-01-30T18:16:50.355Z"
   },
   {
    "duration": 5,
    "start_time": "2024-01-30T20:55:46.581Z"
   },
   {
    "duration": 60,
    "start_time": "2024-01-30T20:55:50.061Z"
   },
   {
    "duration": 0,
    "start_time": "2024-01-30T20:55:50.123Z"
   },
   {
    "duration": 0,
    "start_time": "2024-01-30T20:55:50.125Z"
   },
   {
    "duration": 0,
    "start_time": "2024-01-30T20:55:50.126Z"
   },
   {
    "duration": 0,
    "start_time": "2024-01-30T20:55:50.127Z"
   },
   {
    "duration": 2930,
    "start_time": "2024-01-30T20:56:59.539Z"
   },
   {
    "duration": 5539,
    "start_time": "2024-01-30T20:57:54.539Z"
   },
   {
    "duration": 5,
    "start_time": "2024-01-30T20:58:00.081Z"
   },
   {
    "duration": 993,
    "start_time": "2024-01-30T20:58:00.087Z"
   },
   {
    "duration": 152,
    "start_time": "2024-01-30T20:58:01.082Z"
   },
   {
    "duration": 191,
    "start_time": "2024-01-30T20:58:01.235Z"
   },
   {
    "duration": 218,
    "start_time": "2024-01-30T20:58:01.428Z"
   },
   {
    "duration": 474,
    "start_time": "2024-01-30T20:58:01.648Z"
   },
   {
    "duration": 189,
    "start_time": "2024-01-30T20:58:02.124Z"
   },
   {
    "duration": 98,
    "start_time": "2024-01-30T20:58:04.647Z"
   },
   {
    "duration": 2683,
    "start_time": "2024-01-30T20:58:04.911Z"
   },
   {
    "duration": 104,
    "start_time": "2024-01-30T20:58:08.806Z"
   },
   {
    "duration": 956,
    "start_time": "2024-01-30T20:58:09.018Z"
   },
   {
    "duration": 448,
    "start_time": "2024-01-30T20:58:30.125Z"
   },
   {
    "duration": 1620,
    "start_time": "2024-01-31T13:21:42.400Z"
   },
   {
    "duration": 8826,
    "start_time": "2024-01-31T13:21:46.161Z"
   },
   {
    "duration": 5,
    "start_time": "2024-01-31T13:21:54.989Z"
   },
   {
    "duration": 1078,
    "start_time": "2024-01-31T13:22:03.374Z"
   },
   {
    "duration": 158,
    "start_time": "2024-01-31T13:22:09.683Z"
   },
   {
    "duration": 429,
    "start_time": "2024-01-31T13:22:35.763Z"
   },
   {
    "duration": 134,
    "start_time": "2024-01-31T13:24:04.711Z"
   },
   {
    "duration": 26,
    "start_time": "2024-01-31T13:33:23.585Z"
   },
   {
    "duration": 21,
    "start_time": "2024-01-31T13:35:12.613Z"
   },
   {
    "duration": 50,
    "start_time": "2024-01-31T13:36:13.809Z"
   },
   {
    "duration": 66,
    "start_time": "2024-01-31T13:39:37.176Z"
   },
   {
    "duration": 118,
    "start_time": "2024-01-31T13:40:50.501Z"
   },
   {
    "duration": 281,
    "start_time": "2024-01-31T13:41:37.750Z"
   },
   {
    "duration": 19,
    "start_time": "2024-01-31T13:47:52.300Z"
   },
   {
    "duration": 76,
    "start_time": "2024-01-31T13:48:12.870Z"
   },
   {
    "duration": 396,
    "start_time": "2024-01-31T13:48:32.302Z"
   },
   {
    "duration": 134,
    "start_time": "2024-01-31T13:48:32.700Z"
   },
   {
    "duration": 20,
    "start_time": "2024-01-31T13:48:36.324Z"
   },
   {
    "duration": 44,
    "start_time": "2024-01-31T13:48:44.318Z"
   },
   {
    "duration": 142,
    "start_time": "2024-01-31T13:48:48.115Z"
   },
   {
    "duration": 44,
    "start_time": "2024-01-31T13:49:10.771Z"
   },
   {
    "duration": 122,
    "start_time": "2024-01-31T13:49:13.465Z"
   },
   {
    "duration": 4,
    "start_time": "2024-01-31T13:49:19.485Z"
   },
   {
    "duration": 29,
    "start_time": "2024-01-31T13:49:35.875Z"
   },
   {
    "duration": 35,
    "start_time": "2024-01-31T13:49:46.104Z"
   },
   {
    "duration": 4,
    "start_time": "2024-01-31T13:49:53.387Z"
   },
   {
    "duration": 65,
    "start_time": "2024-01-31T13:49:57.263Z"
   },
   {
    "duration": 279,
    "start_time": "2024-01-31T13:49:57.532Z"
   },
   {
    "duration": 29,
    "start_time": "2024-01-31T13:49:57.879Z"
   },
   {
    "duration": 60,
    "start_time": "2024-01-31T13:49:58.050Z"
   },
   {
    "duration": 57,
    "start_time": "2024-01-31T13:50:02.059Z"
   },
   {
    "duration": 37,
    "start_time": "2024-01-31T13:50:16.080Z"
   },
   {
    "duration": 54,
    "start_time": "2024-01-31T13:50:19.966Z"
   },
   {
    "duration": 79,
    "start_time": "2024-01-31T13:50:48.436Z"
   },
   {
    "duration": 2300,
    "start_time": "2024-01-31T13:50:54.350Z"
   },
   {
    "duration": 56,
    "start_time": "2024-01-31T13:54:58.507Z"
   },
   {
    "duration": 87,
    "start_time": "2024-01-31T13:55:06.450Z"
   },
   {
    "duration": 890,
    "start_time": "2024-01-31T13:55:07.695Z"
   },
   {
    "duration": 393,
    "start_time": "2024-01-31T13:56:00.402Z"
   },
   {
    "duration": 2,
    "start_time": "2024-01-31T14:00:05.384Z"
   },
   {
    "duration": 30,
    "start_time": "2024-01-31T14:00:10.782Z"
   },
   {
    "duration": 654,
    "start_time": "2024-01-31T14:07:32.531Z"
   },
   {
    "duration": 11,
    "start_time": "2024-01-31T14:09:55.861Z"
   },
   {
    "duration": 15,
    "start_time": "2024-01-31T14:10:50.495Z"
   },
   {
    "duration": 12,
    "start_time": "2024-01-31T14:11:07.827Z"
   },
   {
    "duration": 4,
    "start_time": "2024-01-31T14:11:59.053Z"
   },
   {
    "duration": 839,
    "start_time": "2024-01-31T14:11:59.346Z"
   },
   {
    "duration": 146,
    "start_time": "2024-01-31T14:12:00.187Z"
   },
   {
    "duration": 479,
    "start_time": "2024-01-31T14:12:00.335Z"
   },
   {
    "duration": 134,
    "start_time": "2024-01-31T14:12:00.816Z"
   },
   {
    "duration": 43,
    "start_time": "2024-01-31T14:12:00.951Z"
   },
   {
    "duration": 67,
    "start_time": "2024-01-31T14:12:00.996Z"
   },
   {
    "duration": 61,
    "start_time": "2024-01-31T14:12:01.065Z"
   },
   {
    "duration": 261,
    "start_time": "2024-01-31T14:12:01.128Z"
   },
   {
    "duration": 19,
    "start_time": "2024-01-31T14:12:01.391Z"
   },
   {
    "duration": 59,
    "start_time": "2024-01-31T14:12:01.461Z"
   },
   {
    "duration": 86,
    "start_time": "2024-01-31T14:12:01.706Z"
   },
   {
    "duration": 2361,
    "start_time": "2024-01-31T14:12:01.836Z"
   },
   {
    "duration": 89,
    "start_time": "2024-01-31T14:12:04.199Z"
   },
   {
    "duration": 883,
    "start_time": "2024-01-31T14:12:04.290Z"
   },
   {
    "duration": 413,
    "start_time": "2024-01-31T14:12:05.175Z"
   },
   {
    "duration": 13,
    "start_time": "2024-01-31T14:12:05.589Z"
   },
   {
    "duration": 653,
    "start_time": "2024-01-31T14:12:05.603Z"
   },
   {
    "duration": 11,
    "start_time": "2024-01-31T14:12:06.258Z"
   },
   {
    "duration": 26,
    "start_time": "2024-01-31T14:12:06.270Z"
   },
   {
    "duration": 5214,
    "start_time": "2024-01-31T14:12:09.219Z"
   },
   {
    "duration": 5,
    "start_time": "2024-01-31T14:12:14.435Z"
   },
   {
    "duration": 831,
    "start_time": "2024-01-31T14:12:14.441Z"
   },
   {
    "duration": 131,
    "start_time": "2024-01-31T14:12:15.273Z"
   },
   {
    "duration": 395,
    "start_time": "2024-01-31T14:12:15.405Z"
   },
   {
    "duration": 136,
    "start_time": "2024-01-31T14:12:15.802Z"
   },
   {
    "duration": 44,
    "start_time": "2024-01-31T14:12:15.940Z"
   },
   {
    "duration": 67,
    "start_time": "2024-01-31T14:12:15.986Z"
   },
   {
    "duration": 81,
    "start_time": "2024-01-31T14:12:16.055Z"
   },
   {
    "duration": 238,
    "start_time": "2024-01-31T14:12:16.139Z"
   },
   {
    "duration": 18,
    "start_time": "2024-01-31T14:12:16.379Z"
   },
   {
    "duration": 94,
    "start_time": "2024-01-31T14:12:16.398Z"
   },
   {
    "duration": 86,
    "start_time": "2024-01-31T14:12:16.494Z"
   },
   {
    "duration": 2431,
    "start_time": "2024-01-31T14:12:16.582Z"
   },
   {
    "duration": 76,
    "start_time": "2024-01-31T14:12:19.015Z"
   },
   {
    "duration": 890,
    "start_time": "2024-01-31T14:12:19.092Z"
   },
   {
    "duration": 439,
    "start_time": "2024-01-31T14:12:19.983Z"
   },
   {
    "duration": 11,
    "start_time": "2024-01-31T14:13:10.412Z"
   },
   {
    "duration": 21,
    "start_time": "2024-01-31T14:22:58.771Z"
   },
   {
    "duration": 2,
    "start_time": "2024-01-31T14:23:32.929Z"
   },
   {
    "duration": 505,
    "start_time": "2024-01-31T14:24:32.012Z"
   },
   {
    "duration": 505,
    "start_time": "2024-01-31T14:24:37.355Z"
   },
   {
    "duration": 506,
    "start_time": "2024-01-31T14:25:28.944Z"
   },
   {
    "duration": 87,
    "start_time": "2024-01-31T14:25:37.676Z"
   },
   {
    "duration": 499,
    "start_time": "2024-01-31T14:25:39.849Z"
   },
   {
    "duration": 12,
    "start_time": "2024-01-31T14:25:44.223Z"
   },
   {
    "duration": 22,
    "start_time": "2024-01-31T14:28:50.834Z"
   },
   {
    "duration": 24,
    "start_time": "2024-01-31T14:29:57.743Z"
   },
   {
    "duration": 7,
    "start_time": "2024-01-31T14:30:50.566Z"
   },
   {
    "duration": 3,
    "start_time": "2024-01-31T14:31:28.042Z"
   },
   {
    "duration": 63,
    "start_time": "2024-01-31T14:31:40.410Z"
   },
   {
    "duration": 170,
    "start_time": "2024-01-31T14:32:43.982Z"
   },
   {
    "duration": 4,
    "start_time": "2024-01-31T14:32:53.008Z"
   },
   {
    "duration": 11,
    "start_time": "2024-01-31T14:33:29.401Z"
   },
   {
    "duration": 5,
    "start_time": "2024-01-31T14:34:14.008Z"
   },
   {
    "duration": 3,
    "start_time": "2024-01-31T14:35:04.309Z"
   },
   {
    "duration": 519,
    "start_time": "2024-01-31T14:41:49.379Z"
   },
   {
    "duration": 12,
    "start_time": "2024-01-31T14:42:19.165Z"
   },
   {
    "duration": 4,
    "start_time": "2024-01-31T14:43:19.552Z"
   },
   {
    "duration": 554,
    "start_time": "2024-01-31T14:43:31.998Z"
   },
   {
    "duration": 14,
    "start_time": "2024-01-31T14:43:32.553Z"
   },
   {
    "duration": 5,
    "start_time": "2024-01-31T14:43:32.568Z"
   },
   {
    "duration": 739,
    "start_time": "2024-01-31T14:43:37.246Z"
   },
   {
    "duration": 19,
    "start_time": "2024-01-31T14:43:39.151Z"
   },
   {
    "duration": 4,
    "start_time": "2024-01-31T14:43:39.315Z"
   },
   {
    "duration": 670,
    "start_time": "2024-01-31T14:43:42.516Z"
   },
   {
    "duration": 16,
    "start_time": "2024-01-31T14:43:43.588Z"
   },
   {
    "duration": 5,
    "start_time": "2024-01-31T14:43:43.750Z"
   },
   {
    "duration": 608,
    "start_time": "2024-01-31T14:43:46.903Z"
   },
   {
    "duration": 22,
    "start_time": "2024-01-31T14:43:47.512Z"
   },
   {
    "duration": 4,
    "start_time": "2024-01-31T14:43:47.535Z"
   },
   {
    "duration": 596,
    "start_time": "2024-01-31T14:43:51.527Z"
   },
   {
    "duration": 19,
    "start_time": "2024-01-31T14:43:52.124Z"
   },
   {
    "duration": 24,
    "start_time": "2024-01-31T14:43:52.144Z"
   },
   {
    "duration": 4,
    "start_time": "2024-01-31T14:44:58.364Z"
   },
   {
    "duration": 2478,
    "start_time": "2024-01-31T14:48:06.080Z"
   },
   {
    "duration": 2473,
    "start_time": "2024-01-31T14:48:17.622Z"
   },
   {
    "duration": 4786,
    "start_time": "2024-01-31T14:48:39.690Z"
   },
   {
    "duration": 5,
    "start_time": "2024-01-31T14:49:19.682Z"
   },
   {
    "duration": 30946,
    "start_time": "2024-01-31T14:51:28.119Z"
   },
   {
    "duration": 87,
    "start_time": "2024-01-31T14:53:40.112Z"
   },
   {
    "duration": 81,
    "start_time": "2024-01-31T14:53:56.047Z"
   },
   {
    "duration": 4,
    "start_time": "2024-01-31T14:54:49.738Z"
   },
   {
    "duration": 13,
    "start_time": "2024-01-31T14:58:21.316Z"
   },
   {
    "duration": 150,
    "start_time": "2024-01-31T14:58:39.191Z"
   },
   {
    "duration": 134,
    "start_time": "2024-01-31T15:00:36.287Z"
   },
   {
    "duration": 953,
    "start_time": "2024-01-31T15:00:56.594Z"
   },
   {
    "duration": 1030,
    "start_time": "2024-01-31T15:01:33.933Z"
   },
   {
    "duration": 14,
    "start_time": "2024-01-31T15:01:52.269Z"
   },
   {
    "duration": 15,
    "start_time": "2024-01-31T15:01:54.748Z"
   },
   {
    "duration": 28,
    "start_time": "2024-01-31T15:02:34.007Z"
   },
   {
    "duration": 13,
    "start_time": "2024-01-31T15:02:55.741Z"
   },
   {
    "duration": 74,
    "start_time": "2024-01-31T15:03:25.279Z"
   },
   {
    "duration": 205899,
    "start_time": "2024-01-31T15:03:26.523Z"
   },
   {
    "duration": 663,
    "start_time": "2024-01-31T15:06:52.424Z"
   },
   {
    "duration": 4,
    "start_time": "2024-01-31T15:06:53.089Z"
   },
   {
    "duration": 82,
    "start_time": "2024-01-31T15:08:00.434Z"
   },
   {
    "duration": 128,
    "start_time": "2024-01-31T15:08:06.439Z"
   },
   {
    "duration": 10999,
    "start_time": "2024-01-31T15:08:15.844Z"
   },
   {
    "duration": 12645,
    "start_time": "2024-01-31T15:08:31.601Z"
   },
   {
    "duration": 657,
    "start_time": "2024-01-31T15:08:51.391Z"
   },
   {
    "duration": 4,
    "start_time": "2024-01-31T15:09:28.708Z"
   },
   {
    "duration": 6,
    "start_time": "2024-01-31T15:17:06.323Z"
   },
   {
    "duration": 4,
    "start_time": "2024-01-31T15:17:54.841Z"
   },
   {
    "duration": 10,
    "start_time": "2024-01-31T15:18:06.429Z"
   },
   {
    "duration": 4,
    "start_time": "2024-01-31T15:18:16.457Z"
   },
   {
    "duration": 9,
    "start_time": "2024-01-31T15:18:16.638Z"
   },
   {
    "duration": 3,
    "start_time": "2024-01-31T15:19:25.153Z"
   },
   {
    "duration": 9,
    "start_time": "2024-01-31T15:19:25.318Z"
   },
   {
    "duration": 5165,
    "start_time": "2024-01-31T15:27:04.171Z"
   },
   {
    "duration": 1249,
    "start_time": "2024-01-31T15:27:09.339Z"
   },
   {
    "duration": 860,
    "start_time": "2024-01-31T15:27:10.590Z"
   },
   {
    "duration": 139,
    "start_time": "2024-01-31T15:27:11.452Z"
   },
   {
    "duration": 491,
    "start_time": "2024-01-31T15:27:11.594Z"
   },
   {
    "duration": 137,
    "start_time": "2024-01-31T15:27:12.087Z"
   },
   {
    "duration": 26,
    "start_time": "2024-01-31T15:27:12.226Z"
   },
   {
    "duration": 41,
    "start_time": "2024-01-31T15:27:12.254Z"
   },
   {
    "duration": 79,
    "start_time": "2024-01-31T15:27:12.297Z"
   },
   {
    "duration": 266,
    "start_time": "2024-01-31T15:27:12.378Z"
   },
   {
    "duration": 19,
    "start_time": "2024-01-31T15:27:12.645Z"
   },
   {
    "duration": 68,
    "start_time": "2024-01-31T15:27:12.665Z"
   },
   {
    "duration": 98,
    "start_time": "2024-01-31T15:27:12.735Z"
   },
   {
    "duration": 2394,
    "start_time": "2024-01-31T15:27:12.837Z"
   },
   {
    "duration": 85,
    "start_time": "2024-01-31T15:27:15.233Z"
   },
   {
    "duration": 936,
    "start_time": "2024-01-31T15:27:15.320Z"
   },
   {
    "duration": 395,
    "start_time": "2024-01-31T15:27:16.258Z"
   },
   {
    "duration": 2,
    "start_time": "2024-01-31T15:27:16.654Z"
   },
   {
    "duration": 32,
    "start_time": "2024-01-31T15:27:16.657Z"
   },
   {
    "duration": 2,
    "start_time": "2024-01-31T15:27:16.691Z"
   },
   {
    "duration": 507,
    "start_time": "2024-01-31T15:27:16.694Z"
   },
   {
    "duration": 18,
    "start_time": "2024-01-31T15:27:17.203Z"
   },
   {
    "duration": 23,
    "start_time": "2024-01-31T15:27:17.222Z"
   },
   {
    "duration": 3,
    "start_time": "2024-01-31T15:27:17.246Z"
   },
   {
    "duration": 92,
    "start_time": "2024-01-31T15:27:17.250Z"
   },
   {
    "duration": 94,
    "start_time": "2024-01-31T15:27:17.343Z"
   },
   {
    "duration": 9,
    "start_time": "2024-01-31T15:27:17.438Z"
   },
   {
    "duration": 101,
    "start_time": "2024-01-31T15:27:17.533Z"
   },
   {
    "duration": 184,
    "start_time": "2024-01-31T15:27:17.635Z"
   },
   {
    "duration": 80,
    "start_time": "2024-01-31T15:27:17.820Z"
   },
   {
    "duration": 9,
    "start_time": "2024-01-31T15:27:17.901Z"
   },
   {
    "duration": 0,
    "start_time": "2024-01-31T15:27:17.911Z"
   },
   {
    "duration": 0,
    "start_time": "2024-01-31T15:27:17.912Z"
   },
   {
    "duration": 0,
    "start_time": "2024-01-31T15:27:17.913Z"
   },
   {
    "duration": 0,
    "start_time": "2024-01-31T15:27:17.915Z"
   },
   {
    "duration": 0,
    "start_time": "2024-01-31T15:27:17.916Z"
   },
   {
    "duration": 0,
    "start_time": "2024-01-31T15:27:17.916Z"
   },
   {
    "duration": 0,
    "start_time": "2024-01-31T15:27:17.917Z"
   },
   {
    "duration": 0,
    "start_time": "2024-01-31T15:27:17.918Z"
   },
   {
    "duration": 0,
    "start_time": "2024-01-31T15:27:17.919Z"
   },
   {
    "duration": 0,
    "start_time": "2024-01-31T15:27:17.921Z"
   },
   {
    "duration": 0,
    "start_time": "2024-01-31T15:27:17.922Z"
   },
   {
    "duration": 0,
    "start_time": "2024-01-31T15:27:17.923Z"
   },
   {
    "duration": 0,
    "start_time": "2024-01-31T15:27:17.924Z"
   },
   {
    "duration": 0,
    "start_time": "2024-01-31T15:27:17.925Z"
   },
   {
    "duration": 0,
    "start_time": "2024-01-31T15:27:17.926Z"
   },
   {
    "duration": 92,
    "start_time": "2024-01-31T15:30:19.921Z"
   },
   {
    "duration": 479,
    "start_time": "2024-01-31T15:30:27.697Z"
   },
   {
    "duration": 6697,
    "start_time": "2024-01-31T15:30:30.596Z"
   },
   {
    "duration": 4,
    "start_time": "2024-01-31T15:30:37.295Z"
   },
   {
    "duration": 606,
    "start_time": "2024-01-31T15:31:04.043Z"
   },
   {
    "duration": 14,
    "start_time": "2024-01-31T15:31:05.638Z"
   },
   {
    "duration": 5,
    "start_time": "2024-01-31T15:31:06.196Z"
   },
   {
    "duration": 5079,
    "start_time": "2024-01-31T15:31:13.508Z"
   },
   {
    "duration": 1184,
    "start_time": "2024-01-31T15:31:18.589Z"
   },
   {
    "duration": 870,
    "start_time": "2024-01-31T15:31:19.775Z"
   },
   {
    "duration": 145,
    "start_time": "2024-01-31T15:31:20.647Z"
   },
   {
    "duration": 521,
    "start_time": "2024-01-31T15:31:20.795Z"
   },
   {
    "duration": 133,
    "start_time": "2024-01-31T15:31:21.317Z"
   },
   {
    "duration": 43,
    "start_time": "2024-01-31T15:31:21.451Z"
   },
   {
    "duration": 42,
    "start_time": "2024-01-31T15:31:21.495Z"
   },
   {
    "duration": 83,
    "start_time": "2024-01-31T15:31:21.538Z"
   },
   {
    "duration": 268,
    "start_time": "2024-01-31T15:31:21.623Z"
   },
   {
    "duration": 18,
    "start_time": "2024-01-31T15:31:21.892Z"
   },
   {
    "duration": 84,
    "start_time": "2024-01-31T15:31:21.911Z"
   },
   {
    "duration": 86,
    "start_time": "2024-01-31T15:31:21.997Z"
   },
   {
    "duration": 2305,
    "start_time": "2024-01-31T15:31:22.086Z"
   },
   {
    "duration": 91,
    "start_time": "2024-01-31T15:31:24.392Z"
   },
   {
    "duration": 871,
    "start_time": "2024-01-31T15:31:24.485Z"
   },
   {
    "duration": 408,
    "start_time": "2024-01-31T15:31:25.357Z"
   },
   {
    "duration": 2,
    "start_time": "2024-01-31T15:31:25.767Z"
   },
   {
    "duration": 45,
    "start_time": "2024-01-31T15:31:25.771Z"
   },
   {
    "duration": 3,
    "start_time": "2024-01-31T15:31:25.818Z"
   },
   {
    "duration": 493,
    "start_time": "2024-01-31T15:31:25.822Z"
   },
   {
    "duration": 23,
    "start_time": "2024-01-31T15:31:26.316Z"
   },
   {
    "duration": 25,
    "start_time": "2024-01-31T15:31:26.341Z"
   },
   {
    "duration": 3,
    "start_time": "2024-01-31T15:31:26.367Z"
   },
   {
    "duration": 87,
    "start_time": "2024-01-31T15:31:26.371Z"
   },
   {
    "duration": 96,
    "start_time": "2024-01-31T15:31:26.459Z"
   },
   {
    "duration": 176,
    "start_time": "2024-01-31T15:31:26.557Z"
   },
   {
    "duration": 4,
    "start_time": "2024-01-31T15:31:26.735Z"
   },
   {
    "duration": 569,
    "start_time": "2024-01-31T15:31:26.741Z"
   },
   {
    "duration": 22,
    "start_time": "2024-01-31T15:31:27.312Z"
   },
   {
    "duration": 5,
    "start_time": "2024-01-31T15:31:27.335Z"
   },
   {
    "duration": 463,
    "start_time": "2024-01-31T15:31:27.342Z"
   },
   {
    "duration": 6002,
    "start_time": "2024-01-31T15:31:27.807Z"
   },
   {
    "duration": 5,
    "start_time": "2024-01-31T15:31:33.810Z"
   },
   {
    "duration": 30743,
    "start_time": "2024-01-31T15:31:33.817Z"
   },
   {
    "duration": 85,
    "start_time": "2024-01-31T15:32:04.561Z"
   },
   {
    "duration": 5,
    "start_time": "2024-01-31T15:32:04.648Z"
   },
   {
    "duration": 85,
    "start_time": "2024-01-31T15:32:04.654Z"
   },
   {
    "duration": 208976,
    "start_time": "2024-01-31T15:32:04.741Z"
   },
   {
    "duration": 620,
    "start_time": "2024-01-31T15:35:33.719Z"
   },
   {
    "duration": 6,
    "start_time": "2024-01-31T15:35:34.343Z"
   },
   {
    "duration": 10184,
    "start_time": "2024-02-02T15:48:56.647Z"
   },
   {
    "duration": 1414,
    "start_time": "2024-02-02T15:49:06.834Z"
   },
   {
    "duration": 2861,
    "start_time": "2024-02-02T15:49:08.250Z"
   },
   {
    "duration": 160,
    "start_time": "2024-02-02T15:49:11.113Z"
   },
   {
    "duration": 471,
    "start_time": "2024-02-02T15:49:11.275Z"
   },
   {
    "duration": 151,
    "start_time": "2024-02-02T15:49:11.748Z"
   },
   {
    "duration": 29,
    "start_time": "2024-02-02T15:49:11.900Z"
   },
   {
    "duration": 45,
    "start_time": "2024-02-02T15:49:11.979Z"
   },
   {
    "duration": 26,
    "start_time": "2024-02-02T15:55:10.032Z"
   },
   {
    "duration": 914,
    "start_time": "2024-02-02T16:01:08.007Z"
   },
   {
    "duration": 152,
    "start_time": "2024-02-02T16:01:08.922Z"
   },
   {
    "duration": 483,
    "start_time": "2024-02-02T16:01:09.076Z"
   },
   {
    "duration": 148,
    "start_time": "2024-02-02T16:01:09.561Z"
   },
   {
    "duration": 24,
    "start_time": "2024-02-02T16:01:09.711Z"
   },
   {
    "duration": 23,
    "start_time": "2024-02-02T16:01:09.747Z"
   },
   {
    "duration": 72,
    "start_time": "2024-02-02T16:01:10.017Z"
   },
   {
    "duration": 287,
    "start_time": "2024-02-02T16:01:10.299Z"
   },
   {
    "duration": 23,
    "start_time": "2024-02-02T16:01:10.861Z"
   },
   {
    "duration": 64,
    "start_time": "2024-02-02T16:01:14.242Z"
   },
   {
    "duration": 91,
    "start_time": "2024-02-02T16:01:14.557Z"
   },
   {
    "duration": 2518,
    "start_time": "2024-02-02T16:01:14.911Z"
   },
   {
    "duration": 87,
    "start_time": "2024-02-02T16:01:17.488Z"
   },
   {
    "duration": 784,
    "start_time": "2024-02-02T16:59:32.246Z"
   },
   {
    "duration": 134,
    "start_time": "2024-02-02T16:59:33.032Z"
   },
   {
    "duration": 361,
    "start_time": "2024-02-02T16:59:33.168Z"
   },
   {
    "duration": 131,
    "start_time": "2024-02-02T16:59:33.531Z"
   },
   {
    "duration": 21,
    "start_time": "2024-02-02T16:59:33.746Z"
   },
   {
    "duration": 20,
    "start_time": "2024-02-02T16:59:34.136Z"
   },
   {
    "duration": 58,
    "start_time": "2024-02-02T16:59:34.420Z"
   },
   {
    "duration": 244,
    "start_time": "2024-02-02T16:59:34.677Z"
   },
   {
    "duration": 19,
    "start_time": "2024-02-02T16:59:35.407Z"
   },
   {
    "duration": 57,
    "start_time": "2024-02-02T16:59:35.563Z"
   },
   {
    "duration": 74,
    "start_time": "2024-02-02T16:59:36.027Z"
   },
   {
    "duration": 2165,
    "start_time": "2024-02-02T16:59:36.654Z"
   },
   {
    "duration": 349,
    "start_time": "2024-02-02T16:59:53.593Z"
   },
   {
    "duration": 869,
    "start_time": "2024-02-02T17:00:12.831Z"
   },
   {
    "duration": 489,
    "start_time": "2024-02-02T17:00:13.702Z"
   },
   {
    "duration": 5,
    "start_time": "2024-02-02T17:00:59.264Z"
   },
   {
    "duration": 8,
    "start_time": "2024-02-02T17:01:03.293Z"
   },
   {
    "duration": 5,
    "start_time": "2024-02-02T17:01:05.924Z"
   },
   {
    "duration": 3,
    "start_time": "2024-02-02T17:11:39.396Z"
   },
   {
    "duration": 3,
    "start_time": "2024-02-02T17:51:39.695Z"
   },
   {
    "duration": 109,
    "start_time": "2024-02-02T17:51:41.350Z"
   },
   {
    "duration": 8,
    "start_time": "2024-02-02T17:51:57.160Z"
   },
   {
    "duration": 3,
    "start_time": "2024-02-02T17:52:04.010Z"
   },
   {
    "duration": 8,
    "start_time": "2024-02-02T17:52:05.748Z"
   },
   {
    "duration": 2,
    "start_time": "2024-02-02T17:52:11.527Z"
   },
   {
    "duration": 23,
    "start_time": "2024-02-02T17:52:11.814Z"
   },
   {
    "duration": 3,
    "start_time": "2024-02-02T17:52:12.231Z"
   },
   {
    "duration": 3,
    "start_time": "2024-02-02T17:52:13.230Z"
   },
   {
    "duration": 151,
    "start_time": "2024-02-02T17:52:13.764Z"
   },
   {
    "duration": 9619,
    "start_time": "2024-02-03T09:11:32.019Z"
   },
   {
    "duration": 1442,
    "start_time": "2024-02-03T09:11:41.640Z"
   },
   {
    "duration": 1072,
    "start_time": "2024-02-03T09:11:43.083Z"
   },
   {
    "duration": 142,
    "start_time": "2024-02-03T09:11:44.157Z"
   },
   {
    "duration": 441,
    "start_time": "2024-02-03T09:11:44.301Z"
   },
   {
    "duration": 136,
    "start_time": "2024-02-03T09:11:44.743Z"
   },
   {
    "duration": 21,
    "start_time": "2024-02-03T09:11:44.880Z"
   },
   {
    "duration": 21,
    "start_time": "2024-02-03T09:11:44.903Z"
   },
   {
    "duration": 76,
    "start_time": "2024-02-03T09:11:44.925Z"
   },
   {
    "duration": 324,
    "start_time": "2024-02-03T09:11:45.004Z"
   },
   {
    "duration": 28,
    "start_time": "2024-02-03T09:11:45.329Z"
   },
   {
    "duration": 100,
    "start_time": "2024-02-03T09:11:45.358Z"
   },
   {
    "duration": 83,
    "start_time": "2024-02-03T09:11:45.460Z"
   },
   {
    "duration": 2312,
    "start_time": "2024-02-03T09:11:45.545Z"
   },
   {
    "duration": 70,
    "start_time": "2024-02-03T09:11:47.859Z"
   },
   {
    "duration": 130,
    "start_time": "2024-02-03T09:11:47.930Z"
   },
   {
    "duration": 112,
    "start_time": "2024-02-03T09:11:50.186Z"
   },
   {
    "duration": 416,
    "start_time": "2024-02-03T09:11:50.738Z"
   },
   {
    "duration": 3,
    "start_time": "2024-02-03T09:13:04.243Z"
   },
   {
    "duration": 8,
    "start_time": "2024-02-03T09:13:04.498Z"
   },
   {
    "duration": 2,
    "start_time": "2024-02-03T09:13:05.129Z"
   },
   {
    "duration": 2,
    "start_time": "2024-02-03T09:13:08.952Z"
   },
   {
    "duration": 53,
    "start_time": "2024-02-03T09:13:23.174Z"
   },
   {
    "duration": 3,
    "start_time": "2024-02-03T09:13:23.606Z"
   },
   {
    "duration": 17748,
    "start_time": "2024-02-03T10:03:21.472Z"
   },
   {
    "duration": 4,
    "start_time": "2024-02-03T10:03:58.157Z"
   },
   {
    "duration": 2778,
    "start_time": "2024-02-03T10:06:02.396Z"
   },
   {
    "duration": 5,
    "start_time": "2024-02-03T10:06:05.177Z"
   },
   {
    "duration": 848,
    "start_time": "2024-02-03T10:06:05.183Z"
   },
   {
    "duration": 136,
    "start_time": "2024-02-03T10:06:06.033Z"
   },
   {
    "duration": 417,
    "start_time": "2024-02-03T10:06:06.171Z"
   },
   {
    "duration": 130,
    "start_time": "2024-02-03T10:06:06.590Z"
   },
   {
    "duration": 32,
    "start_time": "2024-02-03T10:06:06.721Z"
   },
   {
    "duration": 20,
    "start_time": "2024-02-03T10:06:06.755Z"
   },
   {
    "duration": 44,
    "start_time": "2024-02-03T10:06:06.777Z"
   },
   {
    "duration": 261,
    "start_time": "2024-02-03T10:06:06.823Z"
   },
   {
    "duration": 20,
    "start_time": "2024-02-03T10:06:07.085Z"
   },
   {
    "duration": 73,
    "start_time": "2024-02-03T10:06:07.107Z"
   },
   {
    "duration": 93,
    "start_time": "2024-02-03T10:06:07.182Z"
   },
   {
    "duration": 2256,
    "start_time": "2024-02-03T10:06:07.277Z"
   },
   {
    "duration": 71,
    "start_time": "2024-02-03T10:06:09.535Z"
   },
   {
    "duration": 119,
    "start_time": "2024-02-03T10:06:09.607Z"
   },
   {
    "duration": 20,
    "start_time": "2024-02-03T10:06:28.059Z"
   },
   {
    "duration": 2701,
    "start_time": "2024-02-03T10:06:48.200Z"
   },
   {
    "duration": 4,
    "start_time": "2024-02-03T10:06:51.756Z"
   },
   {
    "duration": 800,
    "start_time": "2024-02-03T10:06:52.722Z"
   },
   {
    "duration": 144,
    "start_time": "2024-02-03T10:06:53.526Z"
   },
   {
    "duration": 376,
    "start_time": "2024-02-03T10:06:53.909Z"
   },
   {
    "duration": 144,
    "start_time": "2024-02-03T10:06:54.488Z"
   },
   {
    "duration": 21,
    "start_time": "2024-02-03T10:06:55.435Z"
   },
   {
    "duration": 32,
    "start_time": "2024-02-03T10:06:56.849Z"
   },
   {
    "duration": 47,
    "start_time": "2024-02-03T10:06:57.561Z"
   },
   {
    "duration": 292,
    "start_time": "2024-02-03T10:06:58.207Z"
   },
   {
    "duration": 22,
    "start_time": "2024-02-03T10:07:00.046Z"
   },
   {
    "duration": 61,
    "start_time": "2024-02-03T10:07:00.267Z"
   },
   {
    "duration": 102,
    "start_time": "2024-02-03T10:07:01.106Z"
   },
   {
    "duration": 2354,
    "start_time": "2024-02-03T10:07:01.771Z"
   },
   {
    "duration": 62,
    "start_time": "2024-02-03T10:07:04.138Z"
   },
   {
    "duration": 113,
    "start_time": "2024-02-03T10:07:04.618Z"
   },
   {
    "duration": 67,
    "start_time": "2024-02-03T10:07:13.891Z"
   },
   {
    "duration": 705,
    "start_time": "2024-02-03T10:07:30.728Z"
   },
   {
    "duration": 421,
    "start_time": "2024-02-03T10:07:36.760Z"
   },
   {
    "duration": 3,
    "start_time": "2024-02-03T10:07:54.844Z"
   },
   {
    "duration": 10,
    "start_time": "2024-02-03T10:07:56.697Z"
   },
   {
    "duration": 3,
    "start_time": "2024-02-03T10:08:06.858Z"
   },
   {
    "duration": 5,
    "start_time": "2024-02-03T10:08:15.822Z"
   },
   {
    "duration": 3,
    "start_time": "2024-02-03T10:10:00.215Z"
   },
   {
    "duration": 2,
    "start_time": "2024-02-03T10:33:57.663Z"
   },
   {
    "duration": 2,
    "start_time": "2024-02-03T10:33:58.460Z"
   },
   {
    "duration": 48,
    "start_time": "2024-02-03T10:34:02.654Z"
   },
   {
    "duration": 2,
    "start_time": "2024-02-03T10:34:02.839Z"
   },
   {
    "duration": 22,
    "start_time": "2024-02-03T10:34:06.173Z"
   },
   {
    "duration": 3,
    "start_time": "2024-02-03T10:34:55.820Z"
   },
   {
    "duration": 409,
    "start_time": "2024-02-03T10:34:57.098Z"
   },
   {
    "duration": 14,
    "start_time": "2024-02-03T10:40:55.384Z"
   },
   {
    "duration": 9,
    "start_time": "2024-02-03T10:44:36.702Z"
   },
   {
    "duration": 1401,
    "start_time": "2024-02-03T10:45:07.582Z"
   },
   {
    "duration": 1428,
    "start_time": "2024-02-03T10:45:16.561Z"
   },
   {
    "duration": 15,
    "start_time": "2024-02-03T10:46:18.480Z"
   },
   {
    "duration": 1311,
    "start_time": "2024-02-03T10:46:57.184Z"
   },
   {
    "duration": 33329,
    "start_time": "2024-02-03T11:00:43.125Z"
   },
   {
    "duration": 248,
    "start_time": "2024-02-03T11:01:27.214Z"
   },
   {
    "duration": 5,
    "start_time": "2024-02-03T11:01:35.071Z"
   },
   {
    "duration": 4,
    "start_time": "2024-02-03T11:10:08.878Z"
   },
   {
    "duration": 4,
    "start_time": "2024-02-03T11:10:21.391Z"
   },
   {
    "duration": 2,
    "start_time": "2024-02-03T11:13:55.920Z"
   },
   {
    "duration": 2,
    "start_time": "2024-02-03T11:14:39.972Z"
   },
   {
    "duration": 24759,
    "start_time": "2024-02-03T11:14:46.703Z"
   },
   {
    "duration": 289,
    "start_time": "2024-02-03T11:15:11.464Z"
   },
   {
    "duration": 92,
    "start_time": "2024-02-03T11:15:11.760Z"
   },
   {
    "duration": 6,
    "start_time": "2024-02-03T11:15:11.854Z"
   },
   {
    "duration": 4,
    "start_time": "2024-02-03T11:15:31.016Z"
   },
   {
    "duration": 4,
    "start_time": "2024-02-03T11:23:04.962Z"
   },
   {
    "duration": 3,
    "start_time": "2024-02-03T11:23:10.968Z"
   },
   {
    "duration": 2,
    "start_time": "2024-02-03T11:23:20.179Z"
   },
   {
    "duration": 3,
    "start_time": "2024-02-03T11:43:08.983Z"
   },
   {
    "duration": 3,
    "start_time": "2024-02-03T11:44:46.067Z"
   },
   {
    "duration": 2,
    "start_time": "2024-02-03T11:44:48.645Z"
   },
   {
    "duration": 3,
    "start_time": "2024-02-03T11:48:48.127Z"
   },
   {
    "duration": 25,
    "start_time": "2024-02-03T11:49:17.251Z"
   },
   {
    "duration": 3,
    "start_time": "2024-02-03T11:49:30.714Z"
   },
   {
    "duration": 2,
    "start_time": "2024-02-03T11:49:31.104Z"
   },
   {
    "duration": 2,
    "start_time": "2024-02-03T11:49:31.422Z"
   },
   {
    "duration": 1261,
    "start_time": "2024-02-03T11:49:32.068Z"
   },
   {
    "duration": 4,
    "start_time": "2024-02-03T12:33:10.461Z"
   },
   {
    "duration": 4,
    "start_time": "2024-02-03T12:35:27.392Z"
   },
   {
    "duration": 2,
    "start_time": "2024-02-03T12:35:35.904Z"
   },
   {
    "duration": 3,
    "start_time": "2024-02-03T12:35:36.092Z"
   },
   {
    "duration": 3,
    "start_time": "2024-02-03T12:35:36.329Z"
   },
   {
    "duration": 1341,
    "start_time": "2024-02-03T12:35:36.833Z"
   },
   {
    "duration": 4,
    "start_time": "2024-02-03T12:35:39.880Z"
   },
   {
    "duration": 11,
    "start_time": "2024-02-03T12:37:20.810Z"
   },
   {
    "duration": 99,
    "start_time": "2024-02-03T12:37:25.768Z"
   },
   {
    "duration": 98,
    "start_time": "2024-02-03T12:38:12.881Z"
   },
   {
    "duration": 5,
    "start_time": "2024-02-03T12:38:19.609Z"
   },
   {
    "duration": 9,
    "start_time": "2024-02-03T12:39:17.418Z"
   },
   {
    "duration": 96,
    "start_time": "2024-02-03T12:39:20.498Z"
   },
   {
    "duration": 13,
    "start_time": "2024-02-03T12:39:20.640Z"
   },
   {
    "duration": 3,
    "start_time": "2024-02-03T12:40:39.726Z"
   },
   {
    "duration": 22672,
    "start_time": "2024-02-03T12:40:39.882Z"
   },
   {
    "duration": 296,
    "start_time": "2024-02-03T12:41:02.556Z"
   },
   {
    "duration": 3,
    "start_time": "2024-02-03T12:41:02.854Z"
   },
   {
    "duration": 104,
    "start_time": "2024-02-03T12:41:02.858Z"
   },
   {
    "duration": 5,
    "start_time": "2024-02-03T12:41:24.704Z"
   },
   {
    "duration": 3,
    "start_time": "2024-02-03T12:41:32.450Z"
   },
   {
    "duration": 2,
    "start_time": "2024-02-03T12:41:33.127Z"
   },
   {
    "duration": 2,
    "start_time": "2024-02-03T12:41:33.331Z"
   },
   {
    "duration": 1340,
    "start_time": "2024-02-03T12:41:35.238Z"
   },
   {
    "duration": 3,
    "start_time": "2024-02-03T12:41:40.917Z"
   },
   {
    "duration": 3,
    "start_time": "2024-02-03T12:41:48.713Z"
   },
   {
    "duration": 3,
    "start_time": "2024-02-03T12:41:48.895Z"
   },
   {
    "duration": 3,
    "start_time": "2024-02-03T12:41:49.063Z"
   },
   {
    "duration": 1765,
    "start_time": "2024-02-03T12:41:49.411Z"
   },
   {
    "duration": 4,
    "start_time": "2024-02-03T12:41:51.178Z"
   },
   {
    "duration": 2,
    "start_time": "2024-02-03T12:53:58.543Z"
   },
   {
    "duration": 21350,
    "start_time": "2024-02-03T12:53:58.704Z"
   },
   {
    "duration": 117,
    "start_time": "2024-02-03T12:54:20.056Z"
   },
   {
    "duration": 3,
    "start_time": "2024-02-03T12:54:20.254Z"
   },
   {
    "duration": 100,
    "start_time": "2024-02-03T12:54:20.260Z"
   },
   {
    "duration": 77,
    "start_time": "2024-02-03T12:54:32.919Z"
   },
   {
    "duration": 6,
    "start_time": "2024-02-03T12:54:37.075Z"
   },
   {
    "duration": 2,
    "start_time": "2024-02-03T12:54:40.653Z"
   },
   {
    "duration": 2,
    "start_time": "2024-02-03T12:54:40.868Z"
   },
   {
    "duration": 3,
    "start_time": "2024-02-03T12:54:41.097Z"
   },
   {
    "duration": 1658,
    "start_time": "2024-02-03T12:54:41.339Z"
   },
   {
    "duration": 4,
    "start_time": "2024-02-03T12:54:42.999Z"
   },
   {
    "duration": 124,
    "start_time": "2024-02-03T12:54:43.004Z"
   },
   {
    "duration": 3,
    "start_time": "2024-02-03T12:55:10.386Z"
   },
   {
    "duration": 3,
    "start_time": "2024-02-03T12:55:10.522Z"
   },
   {
    "duration": 2,
    "start_time": "2024-02-03T12:55:10.675Z"
   },
   {
    "duration": 1659,
    "start_time": "2024-02-03T12:55:10.819Z"
   },
   {
    "duration": 3,
    "start_time": "2024-02-03T12:55:18.759Z"
   },
   {
    "duration": 113,
    "start_time": "2024-02-03T12:55:27.550Z"
   },
   {
    "duration": 3,
    "start_time": "2024-02-03T12:58:17.152Z"
   },
   {
    "duration": 2,
    "start_time": "2024-02-03T12:58:35.250Z"
   },
   {
    "duration": 3,
    "start_time": "2024-02-03T12:59:00.581Z"
   },
   {
    "duration": 581,
    "start_time": "2024-02-03T12:59:11.361Z"
   },
   {
    "duration": 3,
    "start_time": "2024-02-03T12:59:26.714Z"
   },
   {
    "duration": 575,
    "start_time": "2024-02-03T12:59:28.514Z"
   },
   {
    "duration": 3,
    "start_time": "2024-02-03T12:59:34.648Z"
   },
   {
    "duration": 605,
    "start_time": "2024-02-03T12:59:34.994Z"
   },
   {
    "duration": 8,
    "start_time": "2024-02-03T13:00:00.587Z"
   },
   {
    "duration": 9,
    "start_time": "2024-02-03T13:00:03.980Z"
   },
   {
    "duration": 2,
    "start_time": "2024-02-03T13:00:09.401Z"
   },
   {
    "duration": 3,
    "start_time": "2024-02-03T13:00:10.001Z"
   },
   {
    "duration": 579,
    "start_time": "2024-02-03T13:00:11.158Z"
   },
   {
    "duration": 2,
    "start_time": "2024-02-03T13:00:18.491Z"
   },
   {
    "duration": 3,
    "start_time": "2024-02-03T13:00:18.655Z"
   },
   {
    "duration": 2,
    "start_time": "2024-02-03T13:00:19.044Z"
   },
   {
    "duration": 616,
    "start_time": "2024-02-03T13:00:19.597Z"
   },
   {
    "duration": 3,
    "start_time": "2024-02-03T13:00:26.526Z"
   },
   {
    "duration": 36,
    "start_time": "2024-02-03T13:00:26.720Z"
   },
   {
    "duration": 4,
    "start_time": "2024-02-03T13:03:00.237Z"
   },
   {
    "duration": 654,
    "start_time": "2024-02-03T13:03:01.095Z"
   },
   {
    "duration": 2,
    "start_time": "2024-02-03T13:03:29.612Z"
   },
   {
    "duration": 607,
    "start_time": "2024-02-03T13:03:30.099Z"
   },
   {
    "duration": 2,
    "start_time": "2024-02-03T13:04:20.172Z"
   },
   {
    "duration": 561,
    "start_time": "2024-02-03T13:04:21.806Z"
   },
   {
    "duration": 3,
    "start_time": "2024-02-03T13:05:56.634Z"
   },
   {
    "duration": 11,
    "start_time": "2024-02-03T13:05:56.786Z"
   },
   {
    "duration": 2,
    "start_time": "2024-02-03T13:05:56.934Z"
   },
   {
    "duration": 2,
    "start_time": "2024-02-03T13:05:57.210Z"
   },
   {
    "duration": 52,
    "start_time": "2024-02-03T13:05:57.363Z"
   },
   {
    "duration": 2,
    "start_time": "2024-02-03T13:05:57.718Z"
   },
   {
    "duration": 60,
    "start_time": "2024-02-03T13:05:58.492Z"
   },
   {
    "duration": 12,
    "start_time": "2024-02-03T13:05:58.633Z"
   },
   {
    "duration": 15,
    "start_time": "2024-02-03T13:05:58.796Z"
   },
   {
    "duration": 1330,
    "start_time": "2024-02-03T13:05:58.960Z"
   },
   {
    "duration": 2145,
    "start_time": "2024-02-03T13:06:00.292Z"
   },
   {
    "duration": 2,
    "start_time": "2024-02-03T13:06:02.439Z"
   },
   {
    "duration": 22011,
    "start_time": "2024-02-03T13:06:02.442Z"
   },
   {
    "duration": 299,
    "start_time": "2024-02-03T13:06:24.455Z"
   },
   {
    "duration": 4,
    "start_time": "2024-02-03T13:06:24.756Z"
   },
   {
    "duration": 97,
    "start_time": "2024-02-03T13:06:24.762Z"
   },
   {
    "duration": 3,
    "start_time": "2024-02-03T13:06:24.861Z"
   },
   {
    "duration": 3,
    "start_time": "2024-02-03T13:06:24.952Z"
   },
   {
    "duration": 4,
    "start_time": "2024-02-03T13:06:24.956Z"
   },
   {
    "duration": 1688,
    "start_time": "2024-02-03T13:06:24.961Z"
   },
   {
    "duration": 4,
    "start_time": "2024-02-03T13:06:27.141Z"
   },
   {
    "duration": 101,
    "start_time": "2024-02-03T13:06:27.366Z"
   },
   {
    "duration": 3,
    "start_time": "2024-02-03T13:06:29.291Z"
   },
   {
    "duration": 2,
    "start_time": "2024-02-03T13:06:29.510Z"
   },
   {
    "duration": 3,
    "start_time": "2024-02-03T13:06:29.836Z"
   },
   {
    "duration": 602,
    "start_time": "2024-02-03T13:06:30.399Z"
   },
   {
    "duration": 3,
    "start_time": "2024-02-03T13:06:48.382Z"
   },
   {
    "duration": 193,
    "start_time": "2024-02-03T13:06:49.094Z"
   },
   {
    "duration": 11,
    "start_time": "2024-02-03T13:06:49.289Z"
   },
   {
    "duration": 12,
    "start_time": "2024-02-03T13:06:49.406Z"
   },
   {
    "duration": 1314,
    "start_time": "2024-02-03T13:06:49.553Z"
   },
   {
    "duration": 1373,
    "start_time": "2024-02-03T13:06:50.869Z"
   },
   {
    "duration": 3,
    "start_time": "2024-02-03T13:12:33.285Z"
   },
   {
    "duration": 594,
    "start_time": "2024-02-03T13:12:33.727Z"
   },
   {
    "duration": 3,
    "start_time": "2024-02-03T13:13:13.652Z"
   },
   {
    "duration": 2,
    "start_time": "2024-02-03T13:13:16.318Z"
   },
   {
    "duration": 3,
    "start_time": "2024-02-03T13:13:16.462Z"
   },
   {
    "duration": 3,
    "start_time": "2024-02-03T13:13:16.603Z"
   },
   {
    "duration": 2253,
    "start_time": "2024-02-03T13:13:16.760Z"
   },
   {
    "duration": 3,
    "start_time": "2024-02-03T13:13:19.015Z"
   },
   {
    "duration": 102,
    "start_time": "2024-02-03T13:13:19.687Z"
   },
   {
    "duration": 3,
    "start_time": "2024-02-03T13:13:42.305Z"
   },
   {
    "duration": 3,
    "start_time": "2024-02-03T13:13:42.988Z"
   },
   {
    "duration": 2,
    "start_time": "2024-02-03T13:13:43.143Z"
   },
   {
    "duration": 2290,
    "start_time": "2024-02-03T13:13:55.012Z"
   },
   {
    "duration": 3,
    "start_time": "2024-02-03T13:14:42.452Z"
   },
   {
    "duration": 22864,
    "start_time": "2024-02-03T13:14:42.598Z"
   },
   {
    "duration": 312,
    "start_time": "2024-02-03T13:15:05.552Z"
   },
   {
    "duration": 4,
    "start_time": "2024-02-03T13:15:05.953Z"
   },
   {
    "duration": 94,
    "start_time": "2024-02-03T13:15:05.959Z"
   },
   {
    "duration": 4,
    "start_time": "2024-02-03T13:15:06.055Z"
   },
   {
    "duration": 4,
    "start_time": "2024-02-03T13:15:06.060Z"
   },
   {
    "duration": 4,
    "start_time": "2024-02-03T13:15:06.066Z"
   },
   {
    "duration": 2535,
    "start_time": "2024-02-03T13:15:06.071Z"
   },
   {
    "duration": 4,
    "start_time": "2024-02-03T13:15:08.607Z"
   },
   {
    "duration": 107,
    "start_time": "2024-02-03T13:15:08.613Z"
   },
   {
    "duration": 7,
    "start_time": "2024-02-03T13:15:08.721Z"
   },
   {
    "duration": 24662,
    "start_time": "2024-02-03T13:33:38.760Z"
   },
   {
    "duration": 65,
    "start_time": "2024-02-03T13:34:03.424Z"
   },
   {
    "duration": 11,
    "start_time": "2024-02-03T13:34:03.491Z"
   },
   {
    "duration": 43,
    "start_time": "2024-02-03T13:34:04.086Z"
   },
   {
    "duration": 5,
    "start_time": "2024-02-03T13:34:10.068Z"
   },
   {
    "duration": 46,
    "start_time": "2024-02-03T13:34:15.811Z"
   },
   {
    "duration": 2449,
    "start_time": "2024-02-03T13:34:16.079Z"
   },
   {
    "duration": 42,
    "start_time": "2024-02-03T13:34:59.039Z"
   },
   {
    "duration": 2891,
    "start_time": "2024-02-03T13:34:59.213Z"
   },
   {
    "duration": 45,
    "start_time": "2024-02-03T13:35:28.918Z"
   },
   {
    "duration": 128,
    "start_time": "2024-02-03T13:35:45.554Z"
   },
   {
    "duration": 2507,
    "start_time": "2024-02-03T13:35:46.677Z"
   },
   {
    "duration": 76,
    "start_time": "2024-02-03T13:35:57.527Z"
   },
   {
    "duration": 2587,
    "start_time": "2024-02-03T13:35:58.152Z"
   },
   {
    "duration": 51,
    "start_time": "2024-02-03T13:36:10.501Z"
   },
   {
    "duration": 2645,
    "start_time": "2024-02-03T13:36:12.714Z"
   },
   {
    "duration": 368,
    "start_time": "2024-02-03T13:51:20.120Z"
   },
   {
    "duration": 9,
    "start_time": "2024-02-03T13:51:21.846Z"
   },
   {
    "duration": 2736,
    "start_time": "2024-02-03T13:51:29.838Z"
   },
   {
    "duration": 89,
    "start_time": "2024-02-03T13:51:54.900Z"
   },
   {
    "duration": 29660,
    "start_time": "2024-02-03T13:56:55.512Z"
   },
   {
    "duration": 24089,
    "start_time": "2024-02-03T13:57:25.175Z"
   },
   {
    "duration": 61,
    "start_time": "2024-02-03T13:57:49.266Z"
   },
   {
    "duration": 5,
    "start_time": "2024-02-03T13:57:49.329Z"
   },
   {
    "duration": 565,
    "start_time": "2024-02-03T13:58:01.994Z"
   },
   {
    "duration": 5,
    "start_time": "2024-02-03T13:58:03.898Z"
   },
   {
    "duration": 4,
    "start_time": "2024-02-03T14:19:37.500Z"
   },
   {
    "duration": 8,
    "start_time": "2024-02-03T14:19:38.209Z"
   },
   {
    "duration": 11,
    "start_time": "2024-02-03T14:20:05.405Z"
   },
   {
    "duration": 4,
    "start_time": "2024-02-03T14:36:04.198Z"
   },
   {
    "duration": 8,
    "start_time": "2024-02-03T14:36:04.767Z"
   },
   {
    "duration": 5,
    "start_time": "2024-02-03T14:38:09.350Z"
   },
   {
    "duration": 2,
    "start_time": "2024-02-03T14:38:28.425Z"
   },
   {
    "duration": 2,
    "start_time": "2024-02-03T14:39:42.856Z"
   },
   {
    "duration": 2,
    "start_time": "2024-02-03T14:40:22.521Z"
   },
   {
    "duration": 12,
    "start_time": "2024-02-03T14:41:38.024Z"
   },
   {
    "duration": 5,
    "start_time": "2024-02-03T14:41:42.476Z"
   },
   {
    "duration": 4,
    "start_time": "2024-02-03T15:05:28.389Z"
   },
   {
    "duration": 3,
    "start_time": "2024-02-03T15:05:28.612Z"
   },
   {
    "duration": 3,
    "start_time": "2024-02-03T15:05:28.820Z"
   },
   {
    "duration": 1818,
    "start_time": "2024-02-03T15:05:29.028Z"
   },
   {
    "duration": 5,
    "start_time": "2024-02-03T15:05:30.848Z"
   },
   {
    "duration": 3,
    "start_time": "2024-02-03T15:05:37.908Z"
   },
   {
    "duration": 3,
    "start_time": "2024-02-03T15:05:38.249Z"
   },
   {
    "duration": 2,
    "start_time": "2024-02-03T15:05:38.540Z"
   },
   {
    "duration": 2588,
    "start_time": "2024-02-03T15:05:48.753Z"
   },
   {
    "duration": 3,
    "start_time": "2024-02-03T15:05:51.343Z"
   },
   {
    "duration": 102,
    "start_time": "2024-02-03T15:06:03.141Z"
   },
   {
    "duration": 24350,
    "start_time": "2024-02-03T15:06:03.492Z"
   },
   {
    "duration": 65,
    "start_time": "2024-02-03T15:06:27.844Z"
   },
   {
    "duration": 4,
    "start_time": "2024-02-03T15:06:27.911Z"
   },
   {
    "duration": 10245,
    "start_time": "2024-02-03T15:06:27.917Z"
   },
   {
    "duration": 147,
    "start_time": "2024-02-03T15:06:38.163Z"
   },
   {
    "duration": 4,
    "start_time": "2024-02-03T15:07:21.548Z"
   },
   {
    "duration": 4,
    "start_time": "2024-02-03T15:07:37.463Z"
   },
   {
    "duration": 7,
    "start_time": "2024-02-03T15:07:38.557Z"
   },
   {
    "duration": 2703,
    "start_time": "2024-02-03T15:09:45.003Z"
   },
   {
    "duration": 5,
    "start_time": "2024-02-03T15:09:47.708Z"
   },
   {
    "duration": 719,
    "start_time": "2024-02-03T15:09:47.714Z"
   },
   {
    "duration": 137,
    "start_time": "2024-02-03T15:09:48.434Z"
   },
   {
    "duration": 387,
    "start_time": "2024-02-03T15:09:48.573Z"
   },
   {
    "duration": 147,
    "start_time": "2024-02-03T15:09:48.961Z"
   },
   {
    "duration": 21,
    "start_time": "2024-02-03T15:09:49.110Z"
   },
   {
    "duration": 35,
    "start_time": "2024-02-03T15:09:49.133Z"
   },
   {
    "duration": 55,
    "start_time": "2024-02-03T15:09:49.170Z"
   },
   {
    "duration": 282,
    "start_time": "2024-02-03T15:09:49.228Z"
   },
   {
    "duration": 18,
    "start_time": "2024-02-03T15:09:49.512Z"
   },
   {
    "duration": 67,
    "start_time": "2024-02-03T15:09:49.532Z"
   },
   {
    "duration": 87,
    "start_time": "2024-02-03T15:09:49.601Z"
   },
   {
    "duration": 2348,
    "start_time": "2024-02-03T15:09:49.689Z"
   },
   {
    "duration": 68,
    "start_time": "2024-02-03T15:09:52.038Z"
   },
   {
    "duration": 119,
    "start_time": "2024-02-03T15:09:52.108Z"
   },
   {
    "duration": 663,
    "start_time": "2024-02-03T15:10:36.130Z"
   },
   {
    "duration": 406,
    "start_time": "2024-02-03T15:10:36.794Z"
   },
   {
    "duration": 3,
    "start_time": "2024-02-03T15:10:37.653Z"
   },
   {
    "duration": 3,
    "start_time": "2024-02-03T15:10:37.849Z"
   },
   {
    "duration": 6,
    "start_time": "2024-02-03T15:10:39.832Z"
   },
   {
    "duration": 50,
    "start_time": "2024-02-03T15:10:40.007Z"
   },
   {
    "duration": 2,
    "start_time": "2024-02-03T15:10:40.167Z"
   },
   {
    "duration": 370,
    "start_time": "2024-02-03T15:10:40.659Z"
   },
   {
    "duration": 21,
    "start_time": "2024-02-03T15:10:41.031Z"
   },
   {
    "duration": 14,
    "start_time": "2024-02-03T15:10:41.053Z"
   },
   {
    "duration": 1292,
    "start_time": "2024-02-03T15:10:41.144Z"
   },
   {
    "duration": 1420,
    "start_time": "2024-02-03T15:10:42.438Z"
   },
   {
    "duration": 3,
    "start_time": "2024-02-03T15:10:43.859Z"
   },
   {
    "duration": 22694,
    "start_time": "2024-02-03T15:10:43.864Z"
   },
   {
    "duration": 298,
    "start_time": "2024-02-03T15:11:06.560Z"
   },
   {
    "duration": 3,
    "start_time": "2024-02-03T15:11:06.860Z"
   },
   {
    "duration": 93,
    "start_time": "2024-02-03T15:11:06.864Z"
   },
   {
    "duration": 91,
    "start_time": "2024-02-03T15:11:06.961Z"
   },
   {
    "duration": 3,
    "start_time": "2024-02-03T15:11:07.054Z"
   },
   {
    "duration": 3,
    "start_time": "2024-02-03T15:11:07.059Z"
   },
   {
    "duration": 1778,
    "start_time": "2024-02-03T15:11:07.064Z"
   },
   {
    "duration": 9,
    "start_time": "2024-02-03T15:11:08.843Z"
   },
   {
    "duration": 101,
    "start_time": "2024-02-03T15:11:08.853Z"
   },
   {
    "duration": 4,
    "start_time": "2024-02-03T15:11:08.955Z"
   },
   {
    "duration": 24414,
    "start_time": "2024-02-03T15:11:08.961Z"
   },
   {
    "duration": 65,
    "start_time": "2024-02-03T15:11:33.377Z"
   },
   {
    "duration": 4,
    "start_time": "2024-02-03T15:11:33.443Z"
   },
   {
    "duration": 9207,
    "start_time": "2024-02-03T15:11:33.449Z"
   },
   {
    "duration": 612,
    "start_time": "2024-02-03T15:11:42.657Z"
   },
   {
    "duration": 4,
    "start_time": "2024-02-03T15:11:43.270Z"
   },
   {
    "duration": 5,
    "start_time": "2024-02-03T15:11:43.276Z"
   },
   {
    "duration": 71,
    "start_time": "2024-02-03T15:11:43.282Z"
   },
   {
    "duration": 3,
    "start_time": "2024-02-03T15:11:43.354Z"
   },
   {
    "duration": 7,
    "start_time": "2024-02-03T15:11:43.358Z"
   },
   {
    "duration": 2801,
    "start_time": "2024-02-03T15:15:22.484Z"
   },
   {
    "duration": 1212,
    "start_time": "2024-02-03T15:15:25.287Z"
   },
   {
    "duration": 849,
    "start_time": "2024-02-03T15:15:26.500Z"
   },
   {
    "duration": 148,
    "start_time": "2024-02-03T15:15:27.352Z"
   },
   {
    "duration": 428,
    "start_time": "2024-02-03T15:15:27.502Z"
   },
   {
    "duration": 131,
    "start_time": "2024-02-03T15:15:27.932Z"
   },
   {
    "duration": 20,
    "start_time": "2024-02-03T15:15:28.065Z"
   },
   {
    "duration": 28,
    "start_time": "2024-02-03T15:15:28.087Z"
   },
   {
    "duration": 70,
    "start_time": "2024-02-03T15:15:28.117Z"
   },
   {
    "duration": 282,
    "start_time": "2024-02-03T15:15:28.188Z"
   },
   {
    "duration": 22,
    "start_time": "2024-02-03T15:15:28.472Z"
   },
   {
    "duration": 74,
    "start_time": "2024-02-03T15:15:28.496Z"
   },
   {
    "duration": 99,
    "start_time": "2024-02-03T15:15:28.572Z"
   },
   {
    "duration": 2496,
    "start_time": "2024-02-03T15:15:28.674Z"
   },
   {
    "duration": 96,
    "start_time": "2024-02-03T15:15:31.171Z"
   },
   {
    "duration": 134,
    "start_time": "2024-02-03T15:15:31.269Z"
   },
   {
    "duration": 754,
    "start_time": "2024-02-03T15:15:31.405Z"
   },
   {
    "duration": 425,
    "start_time": "2024-02-03T15:15:32.160Z"
   },
   {
    "duration": 2,
    "start_time": "2024-02-03T15:15:32.587Z"
   },
   {
    "duration": 3,
    "start_time": "2024-02-03T15:15:32.591Z"
   },
   {
    "duration": 5,
    "start_time": "2024-02-03T15:15:32.596Z"
   },
   {
    "duration": 81,
    "start_time": "2024-02-03T15:15:32.603Z"
   },
   {
    "duration": 3,
    "start_time": "2024-02-03T15:15:32.686Z"
   },
   {
    "duration": 438,
    "start_time": "2024-02-03T15:15:32.691Z"
   },
   {
    "duration": 22,
    "start_time": "2024-02-03T15:15:33.131Z"
   },
   {
    "duration": 15,
    "start_time": "2024-02-03T15:15:33.155Z"
   },
   {
    "duration": 1407,
    "start_time": "2024-02-03T15:15:33.171Z"
   },
   {
    "duration": 2227,
    "start_time": "2024-02-03T15:15:34.580Z"
   },
   {
    "duration": 2,
    "start_time": "2024-02-03T15:15:36.809Z"
   },
   {
    "duration": 25140,
    "start_time": "2024-02-03T15:15:36.812Z"
   },
   {
    "duration": 303,
    "start_time": "2024-02-03T15:16:01.954Z"
   },
   {
    "duration": 96,
    "start_time": "2024-02-03T15:16:02.260Z"
   },
   {
    "duration": 97,
    "start_time": "2024-02-03T15:16:02.358Z"
   },
   {
    "duration": 5,
    "start_time": "2024-02-03T15:16:02.457Z"
   },
   {
    "duration": 17,
    "start_time": "2024-02-03T15:16:02.464Z"
   },
   {
    "duration": 3,
    "start_time": "2024-02-03T15:16:02.483Z"
   },
   {
    "duration": 3050,
    "start_time": "2024-02-03T15:16:02.487Z"
   },
   {
    "duration": 3,
    "start_time": "2024-02-03T15:16:05.539Z"
   },
   {
    "duration": 111,
    "start_time": "2024-02-03T15:16:05.551Z"
   },
   {
    "duration": 5,
    "start_time": "2024-02-03T15:16:05.664Z"
   },
   {
    "duration": 24095,
    "start_time": "2024-02-03T15:16:05.673Z"
   },
   {
    "duration": 68,
    "start_time": "2024-02-03T15:16:29.769Z"
   },
   {
    "duration": 6,
    "start_time": "2024-02-03T15:16:29.839Z"
   },
   {
    "duration": 9006,
    "start_time": "2024-02-03T15:16:29.847Z"
   },
   {
    "duration": 606,
    "start_time": "2024-02-03T15:16:38.854Z"
   },
   {
    "duration": 5,
    "start_time": "2024-02-03T15:16:39.461Z"
   },
   {
    "duration": 22,
    "start_time": "2024-02-03T15:16:39.467Z"
   },
   {
    "duration": 31,
    "start_time": "2024-02-03T15:16:39.491Z"
   },
   {
    "duration": 13,
    "start_time": "2024-02-03T15:16:39.524Z"
   },
   {
    "duration": 32,
    "start_time": "2024-02-03T15:16:39.538Z"
   },
   {
    "duration": 3013,
    "start_time": "2024-02-04T08:56:46.428Z"
   },
   {
    "duration": 2557,
    "start_time": "2024-02-04T08:56:49.443Z"
   },
   {
    "duration": 1253,
    "start_time": "2024-02-04T08:56:52.001Z"
   },
   {
    "duration": 161,
    "start_time": "2024-02-04T08:56:53.256Z"
   },
   {
    "duration": 496,
    "start_time": "2024-02-04T08:56:53.419Z"
   },
   {
    "duration": 170,
    "start_time": "2024-02-04T08:56:53.918Z"
   },
   {
    "duration": 27,
    "start_time": "2024-02-04T08:56:54.090Z"
   },
   {
    "duration": 25,
    "start_time": "2024-02-04T08:56:54.119Z"
   },
   {
    "duration": 99,
    "start_time": "2024-02-04T08:56:54.146Z"
   },
   {
    "duration": 306,
    "start_time": "2024-02-04T08:56:54.247Z"
   },
   {
    "duration": 31,
    "start_time": "2024-02-04T08:56:54.555Z"
   },
   {
    "duration": 92,
    "start_time": "2024-02-04T08:56:54.588Z"
   },
   {
    "duration": 103,
    "start_time": "2024-02-04T08:56:54.683Z"
   },
   {
    "duration": 2823,
    "start_time": "2024-02-04T08:56:54.789Z"
   },
   {
    "duration": 88,
    "start_time": "2024-02-04T08:56:57.614Z"
   },
   {
    "duration": 146,
    "start_time": "2024-02-04T08:56:57.703Z"
   },
   {
    "duration": 1258,
    "start_time": "2024-02-04T08:56:57.850Z"
   },
   {
    "duration": 528,
    "start_time": "2024-02-04T08:56:59.110Z"
   },
   {
    "duration": 2,
    "start_time": "2024-02-04T08:56:59.640Z"
   },
   {
    "duration": 6,
    "start_time": "2024-02-04T08:56:59.643Z"
   },
   {
    "duration": 9,
    "start_time": "2024-02-04T08:56:59.651Z"
   },
   {
    "duration": 66,
    "start_time": "2024-02-04T08:56:59.665Z"
   },
   {
    "duration": 106,
    "start_time": "2024-02-04T08:57:55.480Z"
   },
   {
    "duration": 16,
    "start_time": "2024-02-04T08:57:59.131Z"
   },
   {
    "duration": 6929,
    "start_time": "2024-02-20T08:07:28.408Z"
   },
   {
    "duration": 1504,
    "start_time": "2024-02-20T08:07:35.339Z"
   },
   {
    "duration": 1207,
    "start_time": "2024-02-20T08:07:36.845Z"
   },
   {
    "duration": 148,
    "start_time": "2024-02-20T08:07:40.729Z"
   },
   {
    "duration": 474,
    "start_time": "2024-02-20T08:07:44.054Z"
   },
   {
    "duration": 153,
    "start_time": "2024-02-20T08:07:44.531Z"
   },
   {
    "duration": 23,
    "start_time": "2024-02-20T08:07:46.249Z"
   },
   {
    "duration": 23,
    "start_time": "2024-02-20T08:07:50.303Z"
   },
   {
    "duration": 65,
    "start_time": "2024-02-20T08:07:51.447Z"
   },
   {
    "duration": 279,
    "start_time": "2024-02-20T08:07:52.522Z"
   },
   {
    "duration": 966,
    "start_time": "2024-02-20T08:08:16.342Z"
   },
   {
    "duration": 157,
    "start_time": "2024-02-20T08:08:17.310Z"
   },
   {
    "duration": 463,
    "start_time": "2024-02-20T08:08:17.468Z"
   },
   {
    "duration": 141,
    "start_time": "2024-02-20T08:08:18.019Z"
   },
   {
    "duration": 24,
    "start_time": "2024-02-20T08:08:23.404Z"
   },
   {
    "duration": 21,
    "start_time": "2024-02-20T08:09:04.509Z"
   },
   {
    "duration": 117,
    "start_time": "2024-02-20T08:09:51.834Z"
   },
   {
    "duration": 3135,
    "start_time": "2024-02-20T08:10:07.314Z"
   },
   {
    "duration": 7,
    "start_time": "2024-02-20T08:10:10.452Z"
   },
   {
    "duration": 1068,
    "start_time": "2024-02-20T08:10:10.461Z"
   },
   {
    "duration": 157,
    "start_time": "2024-02-20T08:10:11.531Z"
   },
   {
    "duration": 460,
    "start_time": "2024-02-20T08:10:11.690Z"
   },
   {
    "duration": 174,
    "start_time": "2024-02-20T08:10:12.151Z"
   },
   {
    "duration": 22,
    "start_time": "2024-02-20T08:10:14.051Z"
   },
   {
    "duration": 23,
    "start_time": "2024-02-20T08:10:15.056Z"
   },
   {
    "duration": 20,
    "start_time": "2024-02-20T08:10:15.886Z"
   },
   {
    "duration": 20,
    "start_time": "2024-02-20T08:10:16.906Z"
   },
   {
    "duration": 14,
    "start_time": "2024-02-20T08:10:49.579Z"
   },
   {
    "duration": 12,
    "start_time": "2024-02-20T08:13:20.808Z"
   },
   {
    "duration": 12,
    "start_time": "2024-02-20T08:13:42.603Z"
   },
   {
    "duration": 973,
    "start_time": "2024-02-20T08:14:39.947Z"
   },
   {
    "duration": 150,
    "start_time": "2024-02-20T08:14:42.897Z"
   },
   {
    "duration": 461,
    "start_time": "2024-02-20T08:14:50.828Z"
   },
   {
    "duration": 142,
    "start_time": "2024-02-20T08:14:51.450Z"
   },
   {
    "duration": 22,
    "start_time": "2024-02-20T08:14:55.406Z"
   },
   {
    "duration": 25,
    "start_time": "2024-02-20T08:14:59.200Z"
   },
   {
    "duration": 23,
    "start_time": "2024-02-20T08:16:15.412Z"
   },
   {
    "duration": 23,
    "start_time": "2024-02-20T08:16:19.336Z"
   },
   {
    "duration": 68,
    "start_time": "2024-02-20T08:16:20.762Z"
   },
   {
    "duration": 104,
    "start_time": "2024-02-20T08:16:26.482Z"
   },
   {
    "duration": 2685,
    "start_time": "2024-02-20T08:16:27.084Z"
   },
   {
    "duration": 55,
    "start_time": "2024-02-20T08:16:29.810Z"
   },
   {
    "duration": 129,
    "start_time": "2024-02-20T08:16:30.213Z"
   },
   {
    "duration": 808,
    "start_time": "2024-02-20T08:16:46.418Z"
   },
   {
    "duration": 423,
    "start_time": "2024-02-20T08:16:49.313Z"
   },
   {
    "duration": 2,
    "start_time": "2024-02-20T08:16:58.862Z"
   },
   {
    "duration": 11,
    "start_time": "2024-02-20T08:17:14.937Z"
   },
   {
    "duration": 3,
    "start_time": "2024-02-20T08:17:18.242Z"
   },
   {
    "duration": 8,
    "start_time": "2024-02-20T08:17:19.557Z"
   },
   {
    "duration": 73,
    "start_time": "2024-02-20T08:17:28.401Z"
   },
   {
    "duration": 92,
    "start_time": "2024-02-20T08:17:35.329Z"
   },
   {
    "duration": 141,
    "start_time": "2024-02-20T08:17:45.581Z"
   },
   {
    "duration": 91,
    "start_time": "2024-02-20T08:18:03.828Z"
   },
   {
    "duration": 12,
    "start_time": "2024-02-20T08:20:27.912Z"
   },
   {
    "duration": 47,
    "start_time": "2024-02-20T08:21:09.378Z"
   },
   {
    "duration": 3,
    "start_time": "2024-02-20T08:21:09.666Z"
   },
   {
    "duration": 441,
    "start_time": "2024-02-20T08:21:13.583Z"
   },
   {
    "duration": 14,
    "start_time": "2024-02-20T08:21:16.049Z"
   },
   {
    "duration": 14,
    "start_time": "2024-02-20T08:21:16.343Z"
   },
   {
    "duration": 1510,
    "start_time": "2024-02-20T08:21:16.546Z"
   },
   {
    "duration": 2165,
    "start_time": "2024-02-20T08:21:18.058Z"
   },
   {
    "duration": 3,
    "start_time": "2024-02-20T08:28:15.711Z"
   },
   {
    "duration": 38345,
    "start_time": "2024-02-20T08:28:24.330Z"
   },
   {
    "duration": 3,
    "start_time": "2024-02-20T08:51:24.773Z"
   },
   {
    "duration": 11,
    "start_time": "2024-02-20T08:51:38.487Z"
   },
   {
    "duration": 12,
    "start_time": "2024-02-20T08:56:42.094Z"
   },
   {
    "duration": 8,
    "start_time": "2024-02-20T08:56:49.942Z"
   },
   {
    "duration": 2,
    "start_time": "2024-02-20T09:04:11.994Z"
   },
   {
    "duration": 3,
    "start_time": "2024-02-20T09:09:22.938Z"
   },
   {
    "duration": 3,
    "start_time": "2024-02-20T09:10:27.200Z"
   },
   {
    "duration": 10,
    "start_time": "2024-02-20T09:11:08.389Z"
   },
   {
    "duration": 3,
    "start_time": "2024-02-20T09:11:16.395Z"
   },
   {
    "duration": 3,
    "start_time": "2024-02-20T09:11:16.874Z"
   },
   {
    "duration": 3,
    "start_time": "2024-02-20T09:11:17.372Z"
   },
   {
    "duration": 123693,
    "start_time": "2024-02-20T09:11:17.867Z"
   },
   {
    "duration": 4,
    "start_time": "2024-02-20T09:13:54.836Z"
   },
   {
    "duration": 3,
    "start_time": "2024-02-20T09:14:36.520Z"
   },
   {
    "duration": 3,
    "start_time": "2024-02-20T09:14:46.569Z"
   },
   {
    "duration": 3,
    "start_time": "2024-02-20T09:14:47.147Z"
   },
   {
    "duration": 3,
    "start_time": "2024-02-20T09:24:33.469Z"
   },
   {
    "duration": 4,
    "start_time": "2024-02-20T09:24:37.789Z"
   },
   {
    "duration": 3,
    "start_time": "2024-02-20T09:24:40.896Z"
   },
   {
    "duration": 2,
    "start_time": "2024-02-20T09:24:41.047Z"
   },
   {
    "duration": 4,
    "start_time": "2024-02-20T09:24:41.214Z"
   },
   {
    "duration": 166394,
    "start_time": "2024-02-20T09:24:41.372Z"
   },
   {
    "duration": 90,
    "start_time": "2024-02-20T09:27:27.769Z"
   },
   {
    "duration": 3,
    "start_time": "2024-02-20T09:29:53.360Z"
   },
   {
    "duration": 5,
    "start_time": "2024-02-20T09:29:54.891Z"
   },
   {
    "duration": 2,
    "start_time": "2024-02-20T09:32:56.707Z"
   },
   {
    "duration": 3,
    "start_time": "2024-02-20T09:32:58.043Z"
   },
   {
    "duration": 3,
    "start_time": "2024-02-20T09:32:58.296Z"
   },
   {
    "duration": 3,
    "start_time": "2024-02-20T09:32:58.722Z"
   },
   {
    "duration": 3505,
    "start_time": "2024-02-20T09:32:59.431Z"
   },
   {
    "duration": 3,
    "start_time": "2024-02-20T09:33:02.938Z"
   },
   {
    "duration": 44,
    "start_time": "2024-02-20T09:33:02.942Z"
   },
   {
    "duration": 5,
    "start_time": "2024-02-20T09:33:09.626Z"
   },
   {
    "duration": 4,
    "start_time": "2024-02-20T09:33:33.859Z"
   },
   {
    "duration": 3,
    "start_time": "2024-02-20T09:33:41.543Z"
   },
   {
    "duration": 84,
    "start_time": "2024-02-20T10:27:54.713Z"
   },
   {
    "duration": 12,
    "start_time": "2024-02-20T10:28:03.480Z"
   },
   {
    "duration": 14,
    "start_time": "2024-02-20T10:28:49.285Z"
   },
   {
    "duration": 10,
    "start_time": "2024-02-20T10:29:05.203Z"
   },
   {
    "duration": 5,
    "start_time": "2024-02-20T10:29:40.184Z"
   },
   {
    "duration": 3,
    "start_time": "2024-02-20T10:30:15.595Z"
   },
   {
    "duration": 4,
    "start_time": "2024-02-20T10:38:17.875Z"
   },
   {
    "duration": 2,
    "start_time": "2024-02-20T10:38:20.959Z"
   },
   {
    "duration": 9,
    "start_time": "2024-02-20T10:44:22.474Z"
   },
   {
    "duration": 4,
    "start_time": "2024-02-20T10:44:37.507Z"
   },
   {
    "duration": 3,
    "start_time": "2024-02-20T10:44:37.694Z"
   },
   {
    "duration": 8,
    "start_time": "2024-02-20T10:44:37.925Z"
   },
   {
    "duration": 4,
    "start_time": "2024-02-20T10:46:47.070Z"
   },
   {
    "duration": 3,
    "start_time": "2024-02-20T10:46:47.315Z"
   },
   {
    "duration": 7,
    "start_time": "2024-02-20T10:46:47.863Z"
   },
   {
    "duration": 3,
    "start_time": "2024-02-20T10:46:48.554Z"
   },
   {
    "duration": 7309,
    "start_time": "2024-02-20T10:46:49.049Z"
   },
   {
    "duration": 3,
    "start_time": "2024-02-20T10:47:01.108Z"
   },
   {
    "duration": 4,
    "start_time": "2024-02-20T10:47:02.525Z"
   },
   {
    "duration": 4,
    "start_time": "2024-02-20T10:47:02.844Z"
   },
   {
    "duration": 3,
    "start_time": "2024-02-20T10:47:06.227Z"
   },
   {
    "duration": 3,
    "start_time": "2024-02-20T10:47:06.654Z"
   },
   {
    "duration": 11,
    "start_time": "2024-02-20T10:47:08.469Z"
   },
   {
    "duration": 616628,
    "start_time": "2024-02-20T10:47:30.842Z"
   },
   {
    "duration": 3,
    "start_time": "2024-02-20T10:57:47.472Z"
   },
   {
    "duration": 52,
    "start_time": "2024-02-20T10:57:47.476Z"
   },
   {
    "duration": 4,
    "start_time": "2024-02-20T11:26:57.136Z"
   },
   {
    "duration": 3,
    "start_time": "2024-02-20T11:26:57.325Z"
   },
   {
    "duration": 562660,
    "start_time": "2024-02-20T11:26:57.500Z"
   },
   {
    "duration": 3,
    "start_time": "2024-02-20T11:36:20.162Z"
   },
   {
    "duration": 8,
    "start_time": "2024-02-20T11:36:20.167Z"
   },
   {
    "duration": 15,
    "start_time": "2024-02-20T11:36:20.177Z"
   },
   {
    "duration": 38,
    "start_time": "2024-02-20T11:36:20.194Z"
   },
   {
    "duration": 0,
    "start_time": "2024-02-20T11:36:20.235Z"
   },
   {
    "duration": 0,
    "start_time": "2024-02-20T11:36:20.236Z"
   },
   {
    "duration": 3,
    "start_time": "2024-02-20T11:44:19.556Z"
   },
   {
    "duration": 3,
    "start_time": "2024-02-20T11:48:34.467Z"
   },
   {
    "duration": 14,
    "start_time": "2024-02-20T11:48:34.471Z"
   },
   {
    "duration": 430583,
    "start_time": "2024-02-20T11:48:34.488Z"
   },
   {
    "duration": 3,
    "start_time": "2024-02-20T11:55:45.073Z"
   },
   {
    "duration": 81,
    "start_time": "2024-02-20T11:55:45.078Z"
   },
   {
    "duration": 5,
    "start_time": "2024-02-20T11:55:48.760Z"
   },
   {
    "duration": 8,
    "start_time": "2024-02-20T11:55:48.818Z"
   },
   {
    "duration": 5,
    "start_time": "2024-02-20T11:59:54.780Z"
   },
   {
    "duration": 10,
    "start_time": "2024-02-20T12:00:28.946Z"
   },
   {
    "duration": 5,
    "start_time": "2024-02-20T12:00:32.513Z"
   },
   {
    "duration": 11,
    "start_time": "2024-02-20T12:11:27.344Z"
   },
   {
    "duration": 2,
    "start_time": "2024-02-20T12:11:30.166Z"
   },
   {
    "duration": 2,
    "start_time": "2024-02-20T12:12:08.976Z"
   },
   {
    "duration": 2,
    "start_time": "2024-02-20T12:12:09.179Z"
   },
   {
    "duration": 125399,
    "start_time": "2024-02-20T12:12:09.362Z"
   },
   {
    "duration": 4,
    "start_time": "2024-02-20T12:14:14.763Z"
   },
   {
    "duration": 15,
    "start_time": "2024-02-20T12:14:14.859Z"
   },
   {
    "duration": 5,
    "start_time": "2024-02-20T12:14:14.876Z"
   },
   {
    "duration": 10,
    "start_time": "2024-02-20T12:14:14.882Z"
   },
   {
    "duration": 0,
    "start_time": "2024-02-20T12:14:14.894Z"
   },
   {
    "duration": 0,
    "start_time": "2024-02-20T12:14:14.895Z"
   },
   {
    "duration": 2,
    "start_time": "2024-02-20T12:14:34.159Z"
   },
   {
    "duration": 2,
    "start_time": "2024-02-20T12:14:34.509Z"
   },
   {
    "duration": 29661,
    "start_time": "2024-02-20T12:14:34.899Z"
   },
   {
    "duration": 3,
    "start_time": "2024-02-20T12:15:04.563Z"
   },
   {
    "duration": 93,
    "start_time": "2024-02-20T12:15:04.567Z"
   },
   {
    "duration": 13,
    "start_time": "2024-02-20T12:15:04.663Z"
   },
   {
    "duration": 10,
    "start_time": "2024-02-20T12:15:04.678Z"
   },
   {
    "duration": 10,
    "start_time": "2024-02-20T12:15:04.690Z"
   },
   {
    "duration": 8942,
    "start_time": "2024-02-20T12:15:04.703Z"
   },
   {
    "duration": 3,
    "start_time": "2024-02-20T12:15:13.647Z"
   },
   {
    "duration": 27,
    "start_time": "2024-02-20T12:15:13.658Z"
   },
   {
    "duration": 27,
    "start_time": "2024-02-20T12:15:13.687Z"
   },
   {
    "duration": 556,
    "start_time": "2024-02-20T12:15:13.716Z"
   },
   {
    "duration": 3,
    "start_time": "2024-02-20T12:15:14.274Z"
   },
   {
    "duration": 3,
    "start_time": "2024-02-20T12:15:41.141Z"
   },
   {
    "duration": 3,
    "start_time": "2024-02-20T12:15:44.043Z"
   },
   {
    "duration": 3,
    "start_time": "2024-02-20T12:15:45.070Z"
   },
   {
    "duration": 577415,
    "start_time": "2024-02-20T12:15:46.720Z"
   },
   {
    "duration": 3,
    "start_time": "2024-02-20T12:25:24.137Z"
   },
   {
    "duration": 15,
    "start_time": "2024-02-20T12:25:24.142Z"
   },
   {
    "duration": 28164,
    "start_time": "2024-02-20T12:25:24.159Z"
   },
   {
    "duration": 3,
    "start_time": "2024-02-20T12:25:52.325Z"
   },
   {
    "duration": 13,
    "start_time": "2024-02-20T12:25:52.329Z"
   },
   {
    "duration": 4,
    "start_time": "2024-02-20T12:25:52.344Z"
   },
   {
    "duration": 17,
    "start_time": "2024-02-20T12:25:52.349Z"
   },
   {
    "duration": 658990,
    "start_time": "2024-02-20T12:25:52.373Z"
   },
   {
    "duration": 3,
    "start_time": "2024-02-20T12:36:51.365Z"
   },
   {
    "duration": 6,
    "start_time": "2024-02-20T12:36:51.369Z"
   },
   {
    "duration": 33206,
    "start_time": "2024-02-20T12:36:51.377Z"
   },
   {
    "duration": 2,
    "start_time": "2024-02-20T12:37:24.585Z"
   },
   {
    "duration": 13,
    "start_time": "2024-02-20T12:37:24.589Z"
   },
   {
    "duration": 12,
    "start_time": "2024-02-20T12:37:24.604Z"
   },
   {
    "duration": 18,
    "start_time": "2024-02-20T12:37:24.618Z"
   },
   {
    "duration": 14,
    "start_time": "2024-02-20T13:00:41.097Z"
   },
   {
    "duration": 4,
    "start_time": "2024-02-20T13:00:47.393Z"
   },
   {
    "duration": 69,
    "start_time": "2024-02-20T13:06:47.891Z"
   },
   {
    "duration": 67,
    "start_time": "2024-02-20T13:06:56.545Z"
   },
   {
    "duration": 67,
    "start_time": "2024-02-20T13:07:06.287Z"
   },
   {
    "duration": 15,
    "start_time": "2024-02-20T13:08:21.229Z"
   },
   {
    "duration": 3,
    "start_time": "2024-02-20T13:09:26.932Z"
   },
   {
    "duration": 6,
    "start_time": "2024-02-20T13:09:29.645Z"
   },
   {
    "duration": 6211,
    "start_time": "2024-02-25T07:45:23.899Z"
   },
   {
    "duration": 1422,
    "start_time": "2024-02-25T07:45:30.113Z"
   },
   {
    "duration": 1081,
    "start_time": "2024-02-25T07:45:31.537Z"
   },
   {
    "duration": 156,
    "start_time": "2024-02-25T07:45:32.620Z"
   },
   {
    "duration": 427,
    "start_time": "2024-02-25T07:45:32.778Z"
   },
   {
    "duration": 132,
    "start_time": "2024-02-25T07:45:33.207Z"
   },
   {
    "duration": 31,
    "start_time": "2024-02-25T07:45:33.340Z"
   },
   {
    "duration": 43,
    "start_time": "2024-02-25T07:45:33.373Z"
   },
   {
    "duration": 33,
    "start_time": "2024-02-25T07:45:33.418Z"
   },
   {
    "duration": 117,
    "start_time": "2024-02-25T07:45:33.453Z"
   },
   {
    "duration": 0,
    "start_time": "2024-02-25T07:45:33.572Z"
   },
   {
    "duration": 0,
    "start_time": "2024-02-25T07:45:33.573Z"
   },
   {
    "duration": 55,
    "start_time": "2024-02-25T07:45:33.724Z"
   },
   {
    "duration": 67,
    "start_time": "2024-02-25T07:45:33.945Z"
   },
   {
    "duration": 3039,
    "start_time": "2024-02-25T07:45:59.541Z"
   },
   {
    "duration": 4,
    "start_time": "2024-02-25T07:46:06.656Z"
   },
   {
    "duration": 893,
    "start_time": "2024-02-25T07:46:08.478Z"
   },
   {
    "duration": 131,
    "start_time": "2024-02-25T07:46:13.946Z"
   },
   {
    "duration": 428,
    "start_time": "2024-02-25T07:46:16.624Z"
   },
   {
    "duration": 147,
    "start_time": "2024-02-25T07:46:18.840Z"
   },
   {
    "duration": 20,
    "start_time": "2024-02-25T07:46:22.805Z"
   },
   {
    "duration": 24,
    "start_time": "2024-02-25T07:46:27.832Z"
   },
   {
    "duration": 17,
    "start_time": "2024-02-25T07:46:28.820Z"
   },
   {
    "duration": 16,
    "start_time": "2024-02-25T07:46:30.273Z"
   },
   {
    "duration": 10,
    "start_time": "2024-02-25T07:47:07.285Z"
   },
   {
    "duration": 2884,
    "start_time": "2024-02-25T07:47:28.891Z"
   },
   {
    "duration": 5,
    "start_time": "2024-02-25T07:47:46.213Z"
   },
   {
    "duration": 2884,
    "start_time": "2024-02-25T07:47:57.427Z"
   },
   {
    "duration": 1283,
    "start_time": "2024-02-25T07:48:19.680Z"
   },
   {
    "duration": 821,
    "start_time": "2024-02-25T07:48:24.717Z"
   },
   {
    "duration": 179,
    "start_time": "2024-02-25T07:48:28.903Z"
   },
   {
    "duration": 474,
    "start_time": "2024-02-25T07:48:31.438Z"
   },
   {
    "duration": 127,
    "start_time": "2024-02-25T07:48:34.491Z"
   },
   {
    "duration": 29,
    "start_time": "2024-02-25T07:48:36.818Z"
   },
   {
    "duration": 23,
    "start_time": "2024-02-25T07:48:42.165Z"
   },
   {
    "duration": 17,
    "start_time": "2024-02-25T07:48:44.107Z"
   },
   {
    "duration": 103,
    "start_time": "2024-02-25T07:48:45.205Z"
   },
   {
    "duration": 809,
    "start_time": "2024-02-25T07:49:24.962Z"
   },
   {
    "duration": 139,
    "start_time": "2024-02-25T07:49:25.773Z"
   },
   {
    "duration": 436,
    "start_time": "2024-02-25T07:49:25.914Z"
   },
   {
    "duration": 134,
    "start_time": "2024-02-25T07:49:26.352Z"
   },
   {
    "duration": 21,
    "start_time": "2024-02-25T07:49:27.554Z"
   },
   {
    "duration": 21,
    "start_time": "2024-02-25T07:49:28.551Z"
   },
   {
    "duration": 20,
    "start_time": "2024-02-25T07:49:30.012Z"
   },
   {
    "duration": 6,
    "start_time": "2024-02-25T07:49:32.869Z"
   },
   {
    "duration": 22,
    "start_time": "2024-02-25T07:49:37.666Z"
   },
   {
    "duration": 21,
    "start_time": "2024-02-25T07:49:44.992Z"
   },
   {
    "duration": 67,
    "start_time": "2024-02-25T07:49:49.810Z"
   },
   {
    "duration": 89,
    "start_time": "2024-02-25T07:49:51.143Z"
   },
   {
    "duration": 2427,
    "start_time": "2024-02-25T07:49:51.753Z"
   },
   {
    "duration": 63,
    "start_time": "2024-02-25T07:49:54.182Z"
   },
   {
    "duration": 126,
    "start_time": "2024-02-25T07:49:54.247Z"
   },
   {
    "duration": 135,
    "start_time": "2024-02-25T07:49:54.375Z"
   },
   {
    "duration": 124,
    "start_time": "2024-02-25T07:49:56.810Z"
   },
   {
    "duration": 139,
    "start_time": "2024-02-25T07:50:01.603Z"
   },
   {
    "duration": 114,
    "start_time": "2024-02-25T07:50:02.310Z"
   },
   {
    "duration": 729,
    "start_time": "2024-02-25T07:50:20.253Z"
   },
   {
    "duration": 370,
    "start_time": "2024-02-25T07:50:21.093Z"
   },
   {
    "duration": 3,
    "start_time": "2024-02-25T07:50:26.520Z"
   },
   {
    "duration": 4,
    "start_time": "2024-02-25T07:50:27.384Z"
   },
   {
    "duration": 10,
    "start_time": "2024-02-25T07:50:35.405Z"
   },
   {
    "duration": 46,
    "start_time": "2024-02-25T07:50:37.881Z"
   },
   {
    "duration": 3,
    "start_time": "2024-02-25T07:50:40.481Z"
   },
   {
    "duration": 357,
    "start_time": "2024-02-25T07:50:42.629Z"
   },
   {
    "duration": 13,
    "start_time": "2024-02-25T07:50:42.987Z"
   },
   {
    "duration": 14,
    "start_time": "2024-02-25T07:50:43.016Z"
   },
   {
    "duration": 1220,
    "start_time": "2024-02-25T07:50:43.527Z"
   },
   {
    "duration": 1464,
    "start_time": "2024-02-25T07:50:44.749Z"
   },
   {
    "duration": 3,
    "start_time": "2024-02-25T07:51:56.145Z"
   },
   {
    "duration": 3,
    "start_time": "2024-02-25T07:51:56.709Z"
   },
   {
    "duration": 99059,
    "start_time": "2024-02-25T07:51:57.518Z"
   },
   {
    "duration": 3,
    "start_time": "2024-02-25T07:53:36.667Z"
   },
   {
    "duration": 94,
    "start_time": "2024-02-25T07:53:36.672Z"
   },
   {
    "duration": 6,
    "start_time": "2024-02-25T07:53:36.768Z"
   },
   {
    "duration": 20191,
    "start_time": "2024-02-25T07:53:36.776Z"
   },
   {
    "duration": 3,
    "start_time": "2024-02-25T07:53:56.970Z"
   },
   {
    "duration": 12,
    "start_time": "2024-02-25T07:53:57.065Z"
   },
   {
    "duration": 188,
    "start_time": "2024-02-25T07:53:57.078Z"
   },
   {
    "duration": 3,
    "start_time": "2024-02-25T07:53:57.268Z"
   },
   {
    "duration": 92,
    "start_time": "2024-02-25T07:53:57.274Z"
   },
   {
    "duration": 8,
    "start_time": "2024-02-25T07:53:57.368Z"
   },
   {
    "duration": 3,
    "start_time": "2024-02-25T07:53:57.377Z"
   },
   {
    "duration": 4,
    "start_time": "2024-02-25T07:53:57.381Z"
   },
   {
    "duration": 2384,
    "start_time": "2024-02-25T07:53:57.386Z"
   },
   {
    "duration": 2,
    "start_time": "2024-02-25T07:53:59.771Z"
   },
   {
    "duration": 5,
    "start_time": "2024-02-25T07:53:59.775Z"
   },
   {
    "duration": 4,
    "start_time": "2024-02-25T07:53:59.781Z"
   },
   {
    "duration": 231,
    "start_time": "2024-02-25T07:53:59.786Z"
   },
   {
    "duration": 3,
    "start_time": "2024-02-25T07:54:00.019Z"
   },
   {
    "duration": 48,
    "start_time": "2024-02-25T07:54:00.023Z"
   },
   {
    "duration": 37,
    "start_time": "2024-02-25T07:54:00.073Z"
   },
   {
    "duration": 32,
    "start_time": "2024-02-25T07:54:00.112Z"
   },
   {
    "duration": 30,
    "start_time": "2024-02-25T07:54:00.146Z"
   },
   {
    "duration": 33,
    "start_time": "2024-02-25T07:54:00.178Z"
   },
   {
    "duration": 43,
    "start_time": "2024-02-25T07:54:00.212Z"
   },
   {
    "duration": 438723,
    "start_time": "2024-02-25T07:54:00.257Z"
   },
   {
    "duration": 2,
    "start_time": "2024-02-25T08:01:18.983Z"
   },
   {
    "duration": 12,
    "start_time": "2024-02-25T08:01:18.987Z"
   },
   {
    "duration": 20411,
    "start_time": "2024-02-25T08:01:19.000Z"
   },
   {
    "duration": 3,
    "start_time": "2024-02-25T08:01:39.412Z"
   },
   {
    "duration": 7,
    "start_time": "2024-02-25T08:01:39.416Z"
   },
   {
    "duration": 162,
    "start_time": "2024-02-25T08:01:39.425Z"
   },
   {
    "duration": 3,
    "start_time": "2024-02-25T08:01:39.588Z"
   },
   {
    "duration": 17,
    "start_time": "2024-02-25T08:01:39.592Z"
   },
   {
    "duration": 12,
    "start_time": "2024-02-25T08:01:39.611Z"
   },
   {
    "duration": 4,
    "start_time": "2024-02-25T08:01:39.624Z"
   },
   {
    "duration": 484849,
    "start_time": "2024-02-25T08:01:39.630Z"
   },
   {
    "duration": 3,
    "start_time": "2024-02-25T08:09:44.480Z"
   },
   {
    "duration": 81,
    "start_time": "2024-02-25T08:09:44.484Z"
   },
   {
    "duration": 27409,
    "start_time": "2024-02-25T08:09:44.567Z"
   },
   {
    "duration": 3,
    "start_time": "2024-02-25T08:10:11.977Z"
   },
   {
    "duration": 4,
    "start_time": "2024-02-25T08:10:11.981Z"
   },
   {
    "duration": 2691,
    "start_time": "2024-02-25T08:10:11.986Z"
   },
   {
    "duration": 3,
    "start_time": "2024-02-25T08:10:14.678Z"
   },
   {
    "duration": 10,
    "start_time": "2024-02-25T08:10:14.682Z"
   },
   {
    "duration": 4,
    "start_time": "2024-02-25T08:10:14.693Z"
   },
   {
    "duration": 9,
    "start_time": "2024-02-25T08:10:14.699Z"
   },
   {
    "duration": 55,
    "start_time": "2024-02-25T11:07:10.282Z"
   },
   {
    "duration": 10,
    "start_time": "2024-02-25T11:07:10.586Z"
   },
   {
    "duration": 3,
    "start_time": "2024-02-25T11:07:57.033Z"
   },
   {
    "duration": 7,
    "start_time": "2024-02-25T11:07:57.226Z"
   },
   {
    "duration": 2891,
    "start_time": "2024-04-14T14:24:34.775Z"
   },
   {
    "duration": 1160,
    "start_time": "2024-04-14T14:24:37.668Z"
   },
   {
    "duration": 0,
    "start_time": "2024-04-14T14:24:38.832Z"
   },
   {
    "duration": 0,
    "start_time": "2024-04-14T14:24:38.834Z"
   },
   {
    "duration": 0,
    "start_time": "2024-04-14T14:24:38.835Z"
   },
   {
    "duration": 0,
    "start_time": "2024-04-14T14:24:38.836Z"
   },
   {
    "duration": 0,
    "start_time": "2024-04-14T14:24:38.837Z"
   },
   {
    "duration": 0,
    "start_time": "2024-04-14T14:24:38.837Z"
   },
   {
    "duration": 0,
    "start_time": "2024-04-14T14:24:38.839Z"
   },
   {
    "duration": 0,
    "start_time": "2024-04-14T14:24:38.839Z"
   },
   {
    "duration": 0,
    "start_time": "2024-04-14T14:24:38.841Z"
   },
   {
    "duration": 0,
    "start_time": "2024-04-14T14:24:38.842Z"
   },
   {
    "duration": 0,
    "start_time": "2024-04-14T14:24:38.842Z"
   },
   {
    "duration": 0,
    "start_time": "2024-04-14T14:24:38.843Z"
   },
   {
    "duration": 0,
    "start_time": "2024-04-14T14:24:38.844Z"
   },
   {
    "duration": 0,
    "start_time": "2024-04-14T14:24:38.845Z"
   },
   {
    "duration": 0,
    "start_time": "2024-04-14T14:24:38.846Z"
   },
   {
    "duration": 0,
    "start_time": "2024-04-14T14:24:38.847Z"
   },
   {
    "duration": 0,
    "start_time": "2024-04-14T14:24:38.848Z"
   },
   {
    "duration": 0,
    "start_time": "2024-04-14T14:24:38.848Z"
   },
   {
    "duration": 0,
    "start_time": "2024-04-14T14:24:38.849Z"
   },
   {
    "duration": 0,
    "start_time": "2024-04-14T14:24:38.850Z"
   },
   {
    "duration": 0,
    "start_time": "2024-04-14T14:24:38.851Z"
   },
   {
    "duration": 0,
    "start_time": "2024-04-14T14:24:38.852Z"
   },
   {
    "duration": 0,
    "start_time": "2024-04-14T14:24:38.889Z"
   },
   {
    "duration": 0,
    "start_time": "2024-04-14T14:24:38.889Z"
   },
   {
    "duration": 0,
    "start_time": "2024-04-14T14:24:38.890Z"
   },
   {
    "duration": 0,
    "start_time": "2024-04-14T14:24:38.891Z"
   },
   {
    "duration": 0,
    "start_time": "2024-04-14T14:24:38.891Z"
   },
   {
    "duration": 0,
    "start_time": "2024-04-14T14:24:38.893Z"
   },
   {
    "duration": 0,
    "start_time": "2024-04-14T14:24:38.894Z"
   },
   {
    "duration": 0,
    "start_time": "2024-04-14T14:24:38.895Z"
   },
   {
    "duration": 0,
    "start_time": "2024-04-14T14:24:38.895Z"
   },
   {
    "duration": 0,
    "start_time": "2024-04-14T14:24:38.896Z"
   },
   {
    "duration": 0,
    "start_time": "2024-04-14T14:24:38.896Z"
   },
   {
    "duration": 0,
    "start_time": "2024-04-14T14:24:38.897Z"
   },
   {
    "duration": 0,
    "start_time": "2024-04-14T14:24:38.900Z"
   },
   {
    "duration": 0,
    "start_time": "2024-04-14T14:24:38.901Z"
   },
   {
    "duration": 0,
    "start_time": "2024-04-14T14:24:38.902Z"
   },
   {
    "duration": 0,
    "start_time": "2024-04-14T14:24:38.902Z"
   },
   {
    "duration": 0,
    "start_time": "2024-04-14T14:24:38.903Z"
   },
   {
    "duration": 0,
    "start_time": "2024-04-14T14:24:38.904Z"
   },
   {
    "duration": 0,
    "start_time": "2024-04-14T14:24:38.905Z"
   },
   {
    "duration": 0,
    "start_time": "2024-04-14T14:24:38.906Z"
   },
   {
    "duration": 0,
    "start_time": "2024-04-14T14:24:38.907Z"
   },
   {
    "duration": 0,
    "start_time": "2024-04-14T14:24:38.907Z"
   },
   {
    "duration": 0,
    "start_time": "2024-04-14T14:24:38.908Z"
   },
   {
    "duration": 0,
    "start_time": "2024-04-14T14:24:38.909Z"
   },
   {
    "duration": 0,
    "start_time": "2024-04-14T14:24:38.910Z"
   },
   {
    "duration": 0,
    "start_time": "2024-04-14T14:24:38.911Z"
   },
   {
    "duration": 0,
    "start_time": "2024-04-14T14:24:38.911Z"
   },
   {
    "duration": 0,
    "start_time": "2024-04-14T14:24:38.912Z"
   },
   {
    "duration": 0,
    "start_time": "2024-04-14T14:24:38.913Z"
   },
   {
    "duration": 0,
    "start_time": "2024-04-14T14:24:38.914Z"
   },
   {
    "duration": 0,
    "start_time": "2024-04-14T14:24:38.915Z"
   },
   {
    "duration": 0,
    "start_time": "2024-04-14T14:24:38.915Z"
   },
   {
    "duration": 0,
    "start_time": "2024-04-14T14:24:38.916Z"
   },
   {
    "duration": 0,
    "start_time": "2024-04-14T14:24:38.917Z"
   },
   {
    "duration": 0,
    "start_time": "2024-04-14T14:24:38.918Z"
   },
   {
    "duration": 0,
    "start_time": "2024-04-14T14:24:38.919Z"
   },
   {
    "duration": 0,
    "start_time": "2024-04-14T14:24:38.919Z"
   },
   {
    "duration": 0,
    "start_time": "2024-04-14T14:24:38.920Z"
   },
   {
    "duration": 0,
    "start_time": "2024-04-14T14:24:38.921Z"
   },
   {
    "duration": 0,
    "start_time": "2024-04-14T14:24:38.921Z"
   },
   {
    "duration": 0,
    "start_time": "2024-04-14T14:24:38.922Z"
   },
   {
    "duration": 0,
    "start_time": "2024-04-14T14:24:38.923Z"
   },
   {
    "duration": 0,
    "start_time": "2024-04-14T14:24:38.924Z"
   },
   {
    "duration": 0,
    "start_time": "2024-04-14T14:24:38.924Z"
   },
   {
    "duration": 0,
    "start_time": "2024-04-14T14:24:38.925Z"
   },
   {
    "duration": 0,
    "start_time": "2024-04-14T14:24:38.926Z"
   },
   {
    "duration": 0,
    "start_time": "2024-04-14T14:24:38.992Z"
   },
   {
    "duration": 0,
    "start_time": "2024-04-14T14:24:38.993Z"
   },
   {
    "duration": 0,
    "start_time": "2024-04-14T14:24:38.993Z"
   },
   {
    "duration": 0,
    "start_time": "2024-04-14T14:24:38.994Z"
   },
   {
    "duration": 0,
    "start_time": "2024-04-14T14:24:38.994Z"
   },
   {
    "duration": 0,
    "start_time": "2024-04-14T14:24:38.995Z"
   },
   {
    "duration": 0,
    "start_time": "2024-04-14T14:24:38.995Z"
   },
   {
    "duration": 0,
    "start_time": "2024-04-14T14:24:38.996Z"
   },
   {
    "duration": 0,
    "start_time": "2024-04-14T14:24:38.996Z"
   },
   {
    "duration": 0,
    "start_time": "2024-04-14T14:24:38.997Z"
   },
   {
    "duration": 0,
    "start_time": "2024-04-14T14:24:38.997Z"
   },
   {
    "duration": 2955,
    "start_time": "2024-04-14T14:25:52.345Z"
   },
   {
    "duration": 1129,
    "start_time": "2024-04-14T14:25:55.303Z"
   },
   {
    "duration": 1079,
    "start_time": "2024-04-14T14:25:56.434Z"
   },
   {
    "duration": 108,
    "start_time": "2024-04-14T14:25:57.515Z"
   },
   {
    "duration": 341,
    "start_time": "2024-04-14T14:25:57.624Z"
   },
   {
    "duration": 104,
    "start_time": "2024-04-14T14:25:57.966Z"
   },
   {
    "duration": 36,
    "start_time": "2024-04-14T14:25:58.071Z"
   },
   {
    "duration": 18,
    "start_time": "2024-04-14T14:25:58.108Z"
   },
   {
    "duration": 18,
    "start_time": "2024-04-14T14:25:58.128Z"
   },
   {
    "duration": 18,
    "start_time": "2024-04-14T14:25:58.149Z"
   },
   {
    "duration": 34,
    "start_time": "2024-04-14T14:25:58.169Z"
   },
   {
    "duration": 62,
    "start_time": "2024-04-14T14:25:58.204Z"
   },
   {
    "duration": 97,
    "start_time": "2024-04-14T14:25:58.268Z"
   },
   {
    "duration": 2070,
    "start_time": "2024-04-14T14:25:58.366Z"
   },
   {
    "duration": 70,
    "start_time": "2024-04-14T14:26:00.437Z"
   },
   {
    "duration": 197,
    "start_time": "2024-04-14T14:26:00.508Z"
   },
   {
    "duration": 155,
    "start_time": "2024-04-14T14:26:00.707Z"
   },
   {
    "duration": 751,
    "start_time": "2024-04-14T14:26:00.863Z"
   },
   {
    "duration": 338,
    "start_time": "2024-04-14T14:26:01.615Z"
   },
   {
    "duration": 2,
    "start_time": "2024-04-14T14:26:01.955Z"
   },
   {
    "duration": 66,
    "start_time": "2024-04-14T14:26:01.958Z"
   },
   {
    "duration": 76,
    "start_time": "2024-04-14T14:26:02.025Z"
   },
   {
    "duration": 40,
    "start_time": "2024-04-14T14:26:02.104Z"
   },
   {
    "duration": 2,
    "start_time": "2024-04-14T14:26:02.146Z"
   },
   {
    "duration": 393,
    "start_time": "2024-04-14T14:26:02.150Z"
   },
   {
    "duration": 10,
    "start_time": "2024-04-14T14:26:02.545Z"
   },
   {
    "duration": 44,
    "start_time": "2024-04-14T14:26:02.556Z"
   },
   {
    "duration": 1032,
    "start_time": "2024-04-14T14:26:02.607Z"
   },
   {
    "duration": 1290,
    "start_time": "2024-04-14T14:26:03.641Z"
   },
   {
    "duration": 2,
    "start_time": "2024-04-14T14:26:04.933Z"
   },
   {
    "duration": 18,
    "start_time": "2024-04-14T14:26:04.937Z"
   },
   {
    "duration": 3053,
    "start_time": "2024-04-14T14:26:42.302Z"
   },
   {
    "duration": 1682,
    "start_time": "2024-04-14T14:26:45.357Z"
   },
   {
    "duration": 1061,
    "start_time": "2024-04-14T14:26:47.040Z"
   },
   {
    "duration": 111,
    "start_time": "2024-04-14T14:26:48.103Z"
   },
   {
    "duration": 351,
    "start_time": "2024-04-14T14:26:48.215Z"
   },
   {
    "duration": 100,
    "start_time": "2024-04-14T14:26:48.568Z"
   },
   {
    "duration": 33,
    "start_time": "2024-04-14T14:26:48.669Z"
   },
   {
    "duration": 23,
    "start_time": "2024-04-14T14:26:48.703Z"
   },
   {
    "duration": 16,
    "start_time": "2024-04-14T14:26:48.727Z"
   },
   {
    "duration": 28,
    "start_time": "2024-04-14T14:26:48.745Z"
   },
   {
    "duration": 21,
    "start_time": "2024-04-14T14:26:48.790Z"
   },
   {
    "duration": 84,
    "start_time": "2024-04-14T14:26:48.812Z"
   },
   {
    "duration": 76,
    "start_time": "2024-04-14T14:26:48.897Z"
   },
   {
    "duration": 2175,
    "start_time": "2024-04-14T14:26:48.975Z"
   },
   {
    "duration": 66,
    "start_time": "2024-04-14T14:26:51.151Z"
   },
   {
    "duration": 110,
    "start_time": "2024-04-14T14:26:51.219Z"
   },
   {
    "duration": 129,
    "start_time": "2024-04-14T14:26:51.330Z"
   },
   {
    "duration": 758,
    "start_time": "2024-04-14T14:26:51.461Z"
   },
   {
    "duration": 328,
    "start_time": "2024-04-14T14:26:52.220Z"
   },
   {
    "duration": 3,
    "start_time": "2024-04-14T14:26:52.550Z"
   },
   {
    "duration": 11,
    "start_time": "2024-04-14T14:26:52.554Z"
   },
   {
    "duration": 26,
    "start_time": "2024-04-14T14:26:52.566Z"
   },
   {
    "duration": 52,
    "start_time": "2024-04-14T14:26:52.598Z"
   },
   {
    "duration": 3,
    "start_time": "2024-04-14T14:26:52.651Z"
   },
   {
    "duration": 352,
    "start_time": "2024-04-14T14:26:52.655Z"
   },
   {
    "duration": 10,
    "start_time": "2024-04-14T14:26:53.008Z"
   },
   {
    "duration": 18,
    "start_time": "2024-04-14T14:26:53.019Z"
   },
   {
    "duration": 988,
    "start_time": "2024-04-14T14:26:53.041Z"
   },
   {
    "duration": 1021,
    "start_time": "2024-04-14T14:26:54.030Z"
   },
   {
    "duration": 2,
    "start_time": "2024-04-14T14:26:55.053Z"
   },
   {
    "duration": 3,
    "start_time": "2024-04-14T14:26:55.066Z"
   },
   {
    "duration": 2885,
    "start_time": "2024-04-14T14:31:41.375Z"
   },
   {
    "duration": 1709,
    "start_time": "2024-04-14T14:31:44.263Z"
   },
   {
    "duration": 1022,
    "start_time": "2024-04-14T14:31:45.973Z"
   },
   {
    "duration": 105,
    "start_time": "2024-04-14T14:31:46.997Z"
   },
   {
    "duration": 348,
    "start_time": "2024-04-14T14:31:47.103Z"
   },
   {
    "duration": 104,
    "start_time": "2024-04-14T14:31:47.452Z"
   },
   {
    "duration": 35,
    "start_time": "2024-04-14T14:31:47.557Z"
   },
   {
    "duration": 24,
    "start_time": "2024-04-14T14:31:47.593Z"
   },
   {
    "duration": 21,
    "start_time": "2024-04-14T14:31:47.618Z"
   },
   {
    "duration": 18,
    "start_time": "2024-04-14T14:31:47.640Z"
   },
   {
    "duration": 16,
    "start_time": "2024-04-14T14:31:47.660Z"
   },
   {
    "duration": 78,
    "start_time": "2024-04-14T14:31:47.677Z"
   },
   {
    "duration": 86,
    "start_time": "2024-04-14T14:31:47.756Z"
   },
   {
    "duration": 1974,
    "start_time": "2024-04-14T14:31:47.843Z"
   },
   {
    "duration": 71,
    "start_time": "2024-04-14T14:31:49.819Z"
   },
   {
    "duration": 105,
    "start_time": "2024-04-14T14:31:49.891Z"
   },
   {
    "duration": 109,
    "start_time": "2024-04-14T14:31:50.000Z"
   },
   {
    "duration": 743,
    "start_time": "2024-04-14T14:31:50.111Z"
   },
   {
    "duration": 324,
    "start_time": "2024-04-14T14:31:50.856Z"
   },
   {
    "duration": 2,
    "start_time": "2024-04-14T14:31:56.238Z"
   },
   {
    "duration": 4,
    "start_time": "2024-04-14T14:31:56.397Z"
   },
   {
    "duration": 9,
    "start_time": "2024-04-14T14:31:56.528Z"
   },
   {
    "duration": 44,
    "start_time": "2024-04-14T14:31:56.675Z"
   },
   {
    "duration": 2,
    "start_time": "2024-04-14T14:31:56.829Z"
   },
   {
    "duration": 335,
    "start_time": "2024-04-14T14:31:56.980Z"
   },
   {
    "duration": 9,
    "start_time": "2024-04-14T14:31:57.317Z"
   },
   {
    "duration": 11,
    "start_time": "2024-04-14T14:31:57.327Z"
   },
   {
    "duration": 999,
    "start_time": "2024-04-14T14:31:57.417Z"
   },
   {
    "duration": 856,
    "start_time": "2024-04-14T14:31:58.417Z"
   },
   {
    "duration": 2,
    "start_time": "2024-04-14T14:32:00.833Z"
   },
   {
    "duration": 3,
    "start_time": "2024-04-14T14:32:01.448Z"
   },
   {
    "duration": 2,
    "start_time": "2024-04-14T14:32:02.062Z"
   },
   {
    "duration": 4620,
    "start_time": "2024-04-14T14:32:02.829Z"
   },
   {
    "duration": 2,
    "start_time": "2024-04-14T14:32:10.006Z"
   },
   {
    "duration": 3,
    "start_time": "2024-04-14T14:32:10.279Z"
   },
   {
    "duration": 2,
    "start_time": "2024-04-14T14:32:10.701Z"
   },
   {
    "duration": 298,
    "start_time": "2024-04-14T14:32:11.152Z"
   },
   {
    "duration": 2,
    "start_time": "2024-04-14T14:32:11.451Z"
   },
   {
    "duration": 2,
    "start_time": "2024-04-14T14:32:11.738Z"
   },
   {
    "duration": 24,
    "start_time": "2024-04-14T14:32:12.531Z"
   },
   {
    "duration": 3,
    "start_time": "2024-04-14T14:32:12.832Z"
   },
   {
    "duration": 2,
    "start_time": "2024-04-14T14:32:14.004Z"
   },
   {
    "duration": 2,
    "start_time": "2024-04-14T14:32:16.909Z"
   },
   {
    "duration": 3,
    "start_time": "2024-04-14T14:32:17.204Z"
   },
   {
    "duration": 2895,
    "start_time": "2024-04-14T14:37:18.015Z"
   },
   {
    "duration": 1119,
    "start_time": "2024-04-14T14:37:20.912Z"
   },
   {
    "duration": 781,
    "start_time": "2024-04-14T14:37:22.032Z"
   },
   {
    "duration": 110,
    "start_time": "2024-04-14T14:37:22.816Z"
   },
   {
    "duration": 397,
    "start_time": "2024-04-14T14:37:22.927Z"
   },
   {
    "duration": 125,
    "start_time": "2024-04-14T14:37:23.325Z"
   },
   {
    "duration": 39,
    "start_time": "2024-04-14T14:37:23.451Z"
   },
   {
    "duration": 28,
    "start_time": "2024-04-14T14:37:23.491Z"
   },
   {
    "duration": 32,
    "start_time": "2024-04-14T14:37:23.520Z"
   },
   {
    "duration": 52,
    "start_time": "2024-04-14T14:37:23.554Z"
   },
   {
    "duration": 17,
    "start_time": "2024-04-14T14:37:23.608Z"
   },
   {
    "duration": 93,
    "start_time": "2024-04-14T14:37:23.627Z"
   },
   {
    "duration": 88,
    "start_time": "2024-04-14T14:37:23.722Z"
   },
   {
    "duration": 2221,
    "start_time": "2024-04-14T14:37:23.812Z"
   },
   {
    "duration": 81,
    "start_time": "2024-04-14T14:37:26.035Z"
   },
   {
    "duration": 115,
    "start_time": "2024-04-14T14:37:26.118Z"
   },
   {
    "duration": 137,
    "start_time": "2024-04-14T14:37:26.234Z"
   },
   {
    "duration": 831,
    "start_time": "2024-04-14T14:37:26.372Z"
   },
   {
    "duration": 330,
    "start_time": "2024-04-14T14:37:27.205Z"
   },
   {
    "duration": 2,
    "start_time": "2024-04-14T14:37:27.537Z"
   },
   {
    "duration": 4,
    "start_time": "2024-04-14T14:37:27.540Z"
   },
   {
    "duration": 10,
    "start_time": "2024-04-14T14:37:27.545Z"
   },
   {
    "duration": 64,
    "start_time": "2024-04-14T14:37:27.556Z"
   },
   {
    "duration": 2,
    "start_time": "2024-04-14T14:37:27.622Z"
   },
   {
    "duration": 346,
    "start_time": "2024-04-14T14:37:27.625Z"
   },
   {
    "duration": 20,
    "start_time": "2024-04-14T14:37:27.972Z"
   },
   {
    "duration": 11,
    "start_time": "2024-04-14T14:37:27.993Z"
   },
   {
    "duration": 6,
    "start_time": "2024-04-14T14:37:28.008Z"
   },
   {
    "duration": 4,
    "start_time": "2024-04-14T14:37:28.015Z"
   },
   {
    "duration": 4,
    "start_time": "2024-04-14T14:37:28.021Z"
   },
   {
    "duration": 3419,
    "start_time": "2024-04-14T14:37:28.026Z"
   },
   {
    "duration": 3,
    "start_time": "2024-04-14T14:37:31.447Z"
   },
   {
    "duration": 110,
    "start_time": "2024-04-14T14:37:31.451Z"
   },
   {
    "duration": 72,
    "start_time": "2024-04-14T14:37:31.562Z"
   },
   {
    "duration": 367,
    "start_time": "2024-04-14T14:37:31.636Z"
   },
   {
    "duration": 3,
    "start_time": "2024-04-14T14:37:32.004Z"
   },
   {
    "duration": 35,
    "start_time": "2024-04-14T14:37:32.008Z"
   },
   {
    "duration": 46,
    "start_time": "2024-04-14T14:37:32.044Z"
   },
   {
    "duration": 26,
    "start_time": "2024-04-14T14:37:32.101Z"
   },
   {
    "duration": 41,
    "start_time": "2024-04-14T14:37:32.129Z"
   },
   {
    "duration": 54,
    "start_time": "2024-04-14T14:37:32.172Z"
   },
   {
    "duration": 72,
    "start_time": "2024-04-14T14:37:32.228Z"
   },
   {
    "duration": 468808,
    "start_time": "2024-04-14T14:37:32.301Z"
   },
   {
    "duration": 2,
    "start_time": "2024-04-14T14:45:21.110Z"
   },
   {
    "duration": 6,
    "start_time": "2024-04-14T14:45:21.114Z"
   },
   {
    "duration": 18834,
    "start_time": "2024-04-14T14:45:21.122Z"
   },
   {
    "duration": 2,
    "start_time": "2024-04-14T14:45:39.958Z"
   },
   {
    "duration": 9,
    "start_time": "2024-04-14T14:45:39.961Z"
   },
   {
    "duration": 144,
    "start_time": "2024-04-14T14:45:39.971Z"
   },
   {
    "duration": 2,
    "start_time": "2024-04-14T14:45:40.116Z"
   },
   {
    "duration": 19,
    "start_time": "2024-04-14T14:45:40.119Z"
   },
   {
    "duration": 4,
    "start_time": "2024-04-14T14:45:40.139Z"
   },
   {
    "duration": 4,
    "start_time": "2024-04-14T14:45:40.144Z"
   },
   {
    "duration": 5369543,
    "start_time": "2024-04-14T14:45:40.149Z"
   },
   {
    "duration": 85,
    "start_time": "2024-04-14T16:15:09.700Z"
   },
   {
    "duration": 7,
    "start_time": "2024-04-14T16:15:09.786Z"
   },
   {
    "duration": 15794,
    "start_time": "2024-04-14T16:15:09.794Z"
   },
   {
    "duration": 2,
    "start_time": "2024-04-14T16:15:25.589Z"
   },
   {
    "duration": 8,
    "start_time": "2024-04-14T16:15:25.593Z"
   },
   {
    "duration": 2086,
    "start_time": "2024-04-14T16:15:25.602Z"
   },
   {
    "duration": 2,
    "start_time": "2024-04-14T16:15:27.690Z"
   },
   {
    "duration": 5,
    "start_time": "2024-04-14T16:15:27.693Z"
   },
   {
    "duration": 13,
    "start_time": "2024-04-14T16:15:27.699Z"
   },
   {
    "duration": 10,
    "start_time": "2024-04-14T16:15:27.713Z"
   },
   {
    "duration": 93,
    "start_time": "2024-04-14T16:15:27.724Z"
   },
   {
    "duration": 2,
    "start_time": "2024-04-14T16:15:27.819Z"
   },
   {
    "duration": 7,
    "start_time": "2024-04-14T16:15:27.822Z"
   }
  ],
  "kernelspec": {
   "display_name": "Python 3 (ipykernel)",
   "language": "python",
   "name": "python3"
  },
  "language_info": {
   "codemirror_mode": {
    "name": "ipython",
    "version": 3
   },
   "file_extension": ".py",
   "mimetype": "text/x-python",
   "name": "python",
   "nbconvert_exporter": "python",
   "pygments_lexer": "ipython3",
   "version": "3.9.5"
  },
  "toc": {
   "base_numbering": 1,
   "nav_menu": {},
   "number_sections": true,
   "sideBar": true,
   "skip_h1_title": true,
   "title_cell": "Table of Contents",
   "title_sidebar": "Contents",
   "toc_cell": false,
   "toc_position": {},
   "toc_section_display": true,
   "toc_window_display": false
  }
 },
 "nbformat": 4,
 "nbformat_minor": 2
}
