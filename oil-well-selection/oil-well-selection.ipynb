{
 "cells": [
  {
   "cell_type": "markdown",
   "metadata": {},
   "source": [
    "# Выбор локации для скважины"
   ]
  },
  {
   "cell_type": "markdown",
   "metadata": {},
   "source": [
    "# Описание проекта\n",
    "Предоставлены пробы нефти в трёх регионах. Характеристики для каждой скважины в регионе уже известны. Необходимо построить модель для определения региона, где добыча принесёт наибольшую прибыль."
   ]
  },
  {
   "cell_type": "code",
   "execution_count": 1,
   "metadata": {},
   "outputs": [
    {
     "name": "stdout",
     "output_type": "stream",
     "text": [
      "Requirement already satisfied: phik in /opt/conda/lib/python3.9/site-packages (0.12.4)\n",
      "Requirement already satisfied: numpy>=1.18.0 in /opt/conda/lib/python3.9/site-packages (from phik) (1.21.1)\n",
      "Requirement already satisfied: matplotlib>=2.2.3 in /opt/conda/lib/python3.9/site-packages (from phik) (3.3.4)\n",
      "Requirement already satisfied: scipy>=1.5.2 in /opt/conda/lib/python3.9/site-packages (from phik) (1.9.1)\n",
      "Requirement already satisfied: pandas>=0.25.1 in /opt/conda/lib/python3.9/site-packages (from phik) (1.2.4)\n",
      "Requirement already satisfied: joblib>=0.14.1 in /opt/conda/lib/python3.9/site-packages (from phik) (1.4.0)\n",
      "Requirement already satisfied: cycler>=0.10 in /opt/conda/lib/python3.9/site-packages (from matplotlib>=2.2.3->phik) (0.11.0)\n",
      "Requirement already satisfied: pillow>=6.2.0 in /opt/conda/lib/python3.9/site-packages (from matplotlib>=2.2.3->phik) (8.4.0)\n",
      "Requirement already satisfied: kiwisolver>=1.0.1 in /opt/conda/lib/python3.9/site-packages (from matplotlib>=2.2.3->phik) (1.4.4)\n",
      "Requirement already satisfied: python-dateutil>=2.1 in /opt/conda/lib/python3.9/site-packages (from matplotlib>=2.2.3->phik) (2.8.1)\n",
      "Requirement already satisfied: pyparsing!=2.0.4,!=2.1.2,!=2.1.6,>=2.0.3 in /opt/conda/lib/python3.9/site-packages (from matplotlib>=2.2.3->phik) (2.4.7)\n",
      "Requirement already satisfied: pytz>=2017.3 in /opt/conda/lib/python3.9/site-packages (from pandas>=0.25.1->phik) (2021.1)\n",
      "Requirement already satisfied: six>=1.5 in /opt/conda/lib/python3.9/site-packages (from python-dateutil>=2.1->matplotlib>=2.2.3->phik) (1.16.0)\n",
      "Requirement already satisfied: scikit-learn in /opt/conda/lib/python3.9/site-packages (1.4.2)\n",
      "Requirement already satisfied: joblib>=1.2.0 in /opt/conda/lib/python3.9/site-packages (from scikit-learn) (1.4.0)\n",
      "Requirement already satisfied: threadpoolctl>=2.0.0 in /opt/conda/lib/python3.9/site-packages (from scikit-learn) (3.1.0)\n",
      "Requirement already satisfied: numpy>=1.19.5 in /opt/conda/lib/python3.9/site-packages (from scikit-learn) (1.21.1)\n",
      "Requirement already satisfied: scipy>=1.6.0 in /opt/conda/lib/python3.9/site-packages (from scikit-learn) (1.9.1)\n"
     ]
    }
   ],
   "source": [
    "!pip install phik\n",
    "!pip install scikit-learn --upgrade"
   ]
  },
  {
   "cell_type": "code",
   "execution_count": 2,
   "metadata": {},
   "outputs": [],
   "source": [
    "import pandas as pd\n",
    "import matplotlib.pyplot as plt\n",
    "import phik\n",
    "import seaborn as sns\n",
    "import numpy as np\n",
    "from sklearn.model_selection import train_test_split\n",
    "from sklearn.preprocessing import StandardScaler, OrdinalEncoder\n",
    "from sklearn.linear_model import LinearRegression\n",
    "from sklearn.metrics import mean_squared_error\n",
    "from tqdm.notebook import tqdm\n",
    "from scipy import stats as st\n",
    "\n",
    "sns.set(rc={'figure.figsize':(10,7)})"
   ]
  },
  {
   "cell_type": "markdown",
   "metadata": {},
   "source": [
    "## Загрузка и подготовка данных"
   ]
  },
  {
   "cell_type": "code",
   "execution_count": 3,
   "metadata": {},
   "outputs": [],
   "source": [
    "# выгрузим данные\n",
    "geo_1 = pd.read_csv('/datasets/geo_data_0.csv') "
   ]
  },
  {
   "cell_type": "code",
   "execution_count": 4,
   "metadata": {},
   "outputs": [
    {
     "data": {
      "text/html": [
       "<div>\n",
       "<style scoped>\n",
       "    .dataframe tbody tr th:only-of-type {\n",
       "        vertical-align: middle;\n",
       "    }\n",
       "\n",
       "    .dataframe tbody tr th {\n",
       "        vertical-align: top;\n",
       "    }\n",
       "\n",
       "    .dataframe thead th {\n",
       "        text-align: right;\n",
       "    }\n",
       "</style>\n",
       "<table border=\"1\" class=\"dataframe\">\n",
       "  <thead>\n",
       "    <tr style=\"text-align: right;\">\n",
       "      <th></th>\n",
       "      <th>id</th>\n",
       "      <th>f0</th>\n",
       "      <th>f1</th>\n",
       "      <th>f2</th>\n",
       "      <th>product</th>\n",
       "    </tr>\n",
       "  </thead>\n",
       "  <tbody>\n",
       "    <tr>\n",
       "      <th>0</th>\n",
       "      <td>txEyH</td>\n",
       "      <td>0.705745</td>\n",
       "      <td>-0.497823</td>\n",
       "      <td>1.221170</td>\n",
       "      <td>105.280062</td>\n",
       "    </tr>\n",
       "    <tr>\n",
       "      <th>1</th>\n",
       "      <td>2acmU</td>\n",
       "      <td>1.334711</td>\n",
       "      <td>-0.340164</td>\n",
       "      <td>4.365080</td>\n",
       "      <td>73.037750</td>\n",
       "    </tr>\n",
       "    <tr>\n",
       "      <th>2</th>\n",
       "      <td>409Wp</td>\n",
       "      <td>1.022732</td>\n",
       "      <td>0.151990</td>\n",
       "      <td>1.419926</td>\n",
       "      <td>85.265647</td>\n",
       "    </tr>\n",
       "    <tr>\n",
       "      <th>3</th>\n",
       "      <td>iJLyR</td>\n",
       "      <td>-0.032172</td>\n",
       "      <td>0.139033</td>\n",
       "      <td>2.978566</td>\n",
       "      <td>168.620776</td>\n",
       "    </tr>\n",
       "    <tr>\n",
       "      <th>4</th>\n",
       "      <td>Xdl7t</td>\n",
       "      <td>1.988431</td>\n",
       "      <td>0.155413</td>\n",
       "      <td>4.751769</td>\n",
       "      <td>154.036647</td>\n",
       "    </tr>\n",
       "  </tbody>\n",
       "</table>\n",
       "</div>"
      ],
      "text/plain": [
       "      id        f0        f1        f2     product\n",
       "0  txEyH  0.705745 -0.497823  1.221170  105.280062\n",
       "1  2acmU  1.334711 -0.340164  4.365080   73.037750\n",
       "2  409Wp  1.022732  0.151990  1.419926   85.265647\n",
       "3  iJLyR -0.032172  0.139033  2.978566  168.620776\n",
       "4  Xdl7t  1.988431  0.155413  4.751769  154.036647"
      ]
     },
     "execution_count": 4,
     "metadata": {},
     "output_type": "execute_result"
    }
   ],
   "source": [
    "geo_1.head()"
   ]
  },
  {
   "cell_type": "code",
   "execution_count": 5,
   "metadata": {},
   "outputs": [],
   "source": [
    "# выгрузим данные\n",
    "geo_2 = pd.read_csv('/datasets/geo_data_1.csv') "
   ]
  },
  {
   "cell_type": "code",
   "execution_count": 6,
   "metadata": {},
   "outputs": [
    {
     "data": {
      "text/html": [
       "<div>\n",
       "<style scoped>\n",
       "    .dataframe tbody tr th:only-of-type {\n",
       "        vertical-align: middle;\n",
       "    }\n",
       "\n",
       "    .dataframe tbody tr th {\n",
       "        vertical-align: top;\n",
       "    }\n",
       "\n",
       "    .dataframe thead th {\n",
       "        text-align: right;\n",
       "    }\n",
       "</style>\n",
       "<table border=\"1\" class=\"dataframe\">\n",
       "  <thead>\n",
       "    <tr style=\"text-align: right;\">\n",
       "      <th></th>\n",
       "      <th>id</th>\n",
       "      <th>f0</th>\n",
       "      <th>f1</th>\n",
       "      <th>f2</th>\n",
       "      <th>product</th>\n",
       "    </tr>\n",
       "  </thead>\n",
       "  <tbody>\n",
       "    <tr>\n",
       "      <th>0</th>\n",
       "      <td>kBEdx</td>\n",
       "      <td>-15.001348</td>\n",
       "      <td>-8.276000</td>\n",
       "      <td>-0.005876</td>\n",
       "      <td>3.179103</td>\n",
       "    </tr>\n",
       "    <tr>\n",
       "      <th>1</th>\n",
       "      <td>62mP7</td>\n",
       "      <td>14.272088</td>\n",
       "      <td>-3.475083</td>\n",
       "      <td>0.999183</td>\n",
       "      <td>26.953261</td>\n",
       "    </tr>\n",
       "    <tr>\n",
       "      <th>2</th>\n",
       "      <td>vyE1P</td>\n",
       "      <td>6.263187</td>\n",
       "      <td>-5.948386</td>\n",
       "      <td>5.001160</td>\n",
       "      <td>134.766305</td>\n",
       "    </tr>\n",
       "    <tr>\n",
       "      <th>3</th>\n",
       "      <td>KcrkZ</td>\n",
       "      <td>-13.081196</td>\n",
       "      <td>-11.506057</td>\n",
       "      <td>4.999415</td>\n",
       "      <td>137.945408</td>\n",
       "    </tr>\n",
       "    <tr>\n",
       "      <th>4</th>\n",
       "      <td>AHL4O</td>\n",
       "      <td>12.702195</td>\n",
       "      <td>-8.147433</td>\n",
       "      <td>5.004363</td>\n",
       "      <td>134.766305</td>\n",
       "    </tr>\n",
       "  </tbody>\n",
       "</table>\n",
       "</div>"
      ],
      "text/plain": [
       "      id         f0         f1        f2     product\n",
       "0  kBEdx -15.001348  -8.276000 -0.005876    3.179103\n",
       "1  62mP7  14.272088  -3.475083  0.999183   26.953261\n",
       "2  vyE1P   6.263187  -5.948386  5.001160  134.766305\n",
       "3  KcrkZ -13.081196 -11.506057  4.999415  137.945408\n",
       "4  AHL4O  12.702195  -8.147433  5.004363  134.766305"
      ]
     },
     "execution_count": 6,
     "metadata": {},
     "output_type": "execute_result"
    }
   ],
   "source": [
    "geo_2.head()"
   ]
  },
  {
   "cell_type": "code",
   "execution_count": 7,
   "metadata": {},
   "outputs": [],
   "source": [
    "# выгрузим данные\n",
    "geo_3 = pd.read_csv('/datasets/geo_data_2.csv') "
   ]
  },
  {
   "cell_type": "code",
   "execution_count": 8,
   "metadata": {},
   "outputs": [
    {
     "data": {
      "text/html": [
       "<div>\n",
       "<style scoped>\n",
       "    .dataframe tbody tr th:only-of-type {\n",
       "        vertical-align: middle;\n",
       "    }\n",
       "\n",
       "    .dataframe tbody tr th {\n",
       "        vertical-align: top;\n",
       "    }\n",
       "\n",
       "    .dataframe thead th {\n",
       "        text-align: right;\n",
       "    }\n",
       "</style>\n",
       "<table border=\"1\" class=\"dataframe\">\n",
       "  <thead>\n",
       "    <tr style=\"text-align: right;\">\n",
       "      <th></th>\n",
       "      <th>id</th>\n",
       "      <th>f0</th>\n",
       "      <th>f1</th>\n",
       "      <th>f2</th>\n",
       "      <th>product</th>\n",
       "    </tr>\n",
       "  </thead>\n",
       "  <tbody>\n",
       "    <tr>\n",
       "      <th>0</th>\n",
       "      <td>fwXo0</td>\n",
       "      <td>-1.146987</td>\n",
       "      <td>0.963328</td>\n",
       "      <td>-0.828965</td>\n",
       "      <td>27.758673</td>\n",
       "    </tr>\n",
       "    <tr>\n",
       "      <th>1</th>\n",
       "      <td>WJtFt</td>\n",
       "      <td>0.262778</td>\n",
       "      <td>0.269839</td>\n",
       "      <td>-2.530187</td>\n",
       "      <td>56.069697</td>\n",
       "    </tr>\n",
       "    <tr>\n",
       "      <th>2</th>\n",
       "      <td>ovLUW</td>\n",
       "      <td>0.194587</td>\n",
       "      <td>0.289035</td>\n",
       "      <td>-5.586433</td>\n",
       "      <td>62.871910</td>\n",
       "    </tr>\n",
       "    <tr>\n",
       "      <th>3</th>\n",
       "      <td>q6cA6</td>\n",
       "      <td>2.236060</td>\n",
       "      <td>-0.553760</td>\n",
       "      <td>0.930038</td>\n",
       "      <td>114.572842</td>\n",
       "    </tr>\n",
       "    <tr>\n",
       "      <th>4</th>\n",
       "      <td>WPMUX</td>\n",
       "      <td>-0.515993</td>\n",
       "      <td>1.716266</td>\n",
       "      <td>5.899011</td>\n",
       "      <td>149.600746</td>\n",
       "    </tr>\n",
       "  </tbody>\n",
       "</table>\n",
       "</div>"
      ],
      "text/plain": [
       "      id        f0        f1        f2     product\n",
       "0  fwXo0 -1.146987  0.963328 -0.828965   27.758673\n",
       "1  WJtFt  0.262778  0.269839 -2.530187   56.069697\n",
       "2  ovLUW  0.194587  0.289035 -5.586433   62.871910\n",
       "3  q6cA6  2.236060 -0.553760  0.930038  114.572842\n",
       "4  WPMUX -0.515993  1.716266  5.899011  149.600746"
      ]
     },
     "execution_count": 8,
     "metadata": {},
     "output_type": "execute_result"
    }
   ],
   "source": [
    "geo_3.head()"
   ]
  },
  {
   "cell_type": "code",
   "execution_count": 9,
   "metadata": {},
   "outputs": [],
   "source": [
    "# проверим на наличие пропусков и дубликатов\n",
    "# создадим функцию для просмотра основной информации, проверки на наличие пропусков и дубликатов\n",
    "def pred(data):\n",
    "    print(data.info())\n",
    "    print('\\n')\n",
    "    print('Количество пропусков:')\n",
    "    print(data.isna().sum())\n",
    "    print('\\n')\n",
    "    print(f'Количество дубликатов: {data.duplicated().sum()}')"
   ]
  },
  {
   "cell_type": "code",
   "execution_count": 10,
   "metadata": {},
   "outputs": [
    {
     "name": "stdout",
     "output_type": "stream",
     "text": [
      "<class 'pandas.core.frame.DataFrame'>\n",
      "RangeIndex: 100000 entries, 0 to 99999\n",
      "Data columns (total 5 columns):\n",
      " #   Column   Non-Null Count   Dtype  \n",
      "---  ------   --------------   -----  \n",
      " 0   id       100000 non-null  object \n",
      " 1   f0       100000 non-null  float64\n",
      " 2   f1       100000 non-null  float64\n",
      " 3   f2       100000 non-null  float64\n",
      " 4   product  100000 non-null  float64\n",
      "dtypes: float64(4), object(1)\n",
      "memory usage: 3.8+ MB\n",
      "None\n",
      "\n",
      "\n",
      "Количество пропусков:\n",
      "id         0\n",
      "f0         0\n",
      "f1         0\n",
      "f2         0\n",
      "product    0\n",
      "dtype: int64\n",
      "\n",
      "\n",
      "Количество дубликатов: 0\n"
     ]
    }
   ],
   "source": [
    "# применим функцию на наших данных\n",
    "pred(geo_1)"
   ]
  },
  {
   "cell_type": "code",
   "execution_count": 11,
   "metadata": {},
   "outputs": [
    {
     "name": "stdout",
     "output_type": "stream",
     "text": [
      "<class 'pandas.core.frame.DataFrame'>\n",
      "RangeIndex: 100000 entries, 0 to 99999\n",
      "Data columns (total 5 columns):\n",
      " #   Column   Non-Null Count   Dtype  \n",
      "---  ------   --------------   -----  \n",
      " 0   id       100000 non-null  object \n",
      " 1   f0       100000 non-null  float64\n",
      " 2   f1       100000 non-null  float64\n",
      " 3   f2       100000 non-null  float64\n",
      " 4   product  100000 non-null  float64\n",
      "dtypes: float64(4), object(1)\n",
      "memory usage: 3.8+ MB\n",
      "None\n",
      "\n",
      "\n",
      "Количество пропусков:\n",
      "id         0\n",
      "f0         0\n",
      "f1         0\n",
      "f2         0\n",
      "product    0\n",
      "dtype: int64\n",
      "\n",
      "\n",
      "Количество дубликатов: 0\n"
     ]
    }
   ],
   "source": [
    "pred(geo_2)"
   ]
  },
  {
   "cell_type": "code",
   "execution_count": 12,
   "metadata": {},
   "outputs": [
    {
     "name": "stdout",
     "output_type": "stream",
     "text": [
      "<class 'pandas.core.frame.DataFrame'>\n",
      "RangeIndex: 100000 entries, 0 to 99999\n",
      "Data columns (total 5 columns):\n",
      " #   Column   Non-Null Count   Dtype  \n",
      "---  ------   --------------   -----  \n",
      " 0   id       100000 non-null  object \n",
      " 1   f0       100000 non-null  float64\n",
      " 2   f1       100000 non-null  float64\n",
      " 3   f2       100000 non-null  float64\n",
      " 4   product  100000 non-null  float64\n",
      "dtypes: float64(4), object(1)\n",
      "memory usage: 3.8+ MB\n",
      "None\n",
      "\n",
      "\n",
      "Количество пропусков:\n",
      "id         0\n",
      "f0         0\n",
      "f1         0\n",
      "f2         0\n",
      "product    0\n",
      "dtype: int64\n",
      "\n",
      "\n",
      "Количество дубликатов: 0\n"
     ]
    }
   ],
   "source": [
    "pred(geo_3)"
   ]
  },
  {
   "cell_type": "code",
   "execution_count": 13,
   "metadata": {
    "scrolled": true
   },
   "outputs": [
    {
     "data": {
      "text/plain": [
       "10"
      ]
     },
     "execution_count": 13,
     "metadata": {},
     "output_type": "execute_result"
    }
   ],
   "source": [
    "# проверим данные на количество дубликатов\n",
    "geo_1['id'].duplicated().sum()"
   ]
  },
  {
   "cell_type": "code",
   "execution_count": 14,
   "metadata": {},
   "outputs": [
    {
     "data": {
      "text/plain": [
       "4"
      ]
     },
     "execution_count": 14,
     "metadata": {},
     "output_type": "execute_result"
    }
   ],
   "source": [
    "geo_2['id'].duplicated().sum()"
   ]
  },
  {
   "cell_type": "code",
   "execution_count": 15,
   "metadata": {},
   "outputs": [
    {
     "data": {
      "text/plain": [
       "4"
      ]
     },
     "execution_count": 15,
     "metadata": {},
     "output_type": "execute_result"
    }
   ],
   "source": [
    "geo_3['id'].duplicated().sum()"
   ]
  },
  {
   "cell_type": "code",
   "execution_count": 16,
   "metadata": {},
   "outputs": [],
   "source": [
    "# проведём исследовательский анализ данных\n",
    "# создадим функцию для построения boxplot (для количественных переменные)\n",
    "def graph_box(data):\n",
    "    for i in data.columns:\n",
    "        data.boxplot(column=i, figsize=(8,8))\n",
    "        plt.title(f'График распределения значение столбца {i}')\n",
    "        plt.show()\n",
    "        \n",
    "# создадим функцию для построения гистограмм (также количественные переменные)\n",
    "def graph_hist(data):\n",
    "    for i in data.columns.unique():\n",
    "        if i == 'salary' or i == 'job_satisfaction_rate':\n",
    "            fig, ax = plt.subplots(figsize=(12, 12))\n",
    "            plt.hist(data[i])\n",
    "            plt.title(f'Гистограмма распределений для столбца {i}')\n",
    "            plt.xlabel(f'{i}')\n",
    "            plt.ylabel('Количество сотрудников')\n",
    "            plt.show()\n",
    "            \n",
    "# создадим функцию для количественных переменных\n",
    "def graph_num(data):\n",
    "    graph_box(data)\n",
    "    graph_hist(data)"
   ]
  },
  {
   "cell_type": "code",
   "execution_count": 17,
   "metadata": {},
   "outputs": [
    {
     "data": {
      "image/png": "[encoded data removed]",
      "text/plain": [
       "<Figure size 576x576 with 1 Axes>"
      ]
     },
     "metadata": {},
     "output_type": "display_data"
    },
    {
     "data": {
      "image/png": "[encoded data removed]",
      "text/plain": [
       "<Figure size 576x576 with 1 Axes>"
      ]
     },
     "metadata": {},
     "output_type": "display_data"
    },
    {
     "data": {
      "image/png": "[encoded data removed]",
      "text/plain": [
       "<Figure size 576x576 with 1 Axes>"
      ]
     },
     "metadata": {},
     "output_type": "display_data"
    },
    {
     "data": {
      "image/png": "[encoded data removed]",
      "text/plain": [
       "<Figure size 576x576 with 1 Axes>"
      ]
     },
     "metadata": {},
     "output_type": "display_data"
    }
   ],
   "source": [
    "# строим графики\n",
    "graph_num(geo_1.drop('id', axis=1))"
   ]
  },
  {
   "cell_type": "code",
   "execution_count": 18,
   "metadata": {},
   "outputs": [
    {
     "data": {
      "image/png": "[encoded data removed]",
      "text/plain": [
       "<Figure size 576x576 with 1 Axes>"
      ]
     },
     "metadata": {},
     "output_type": "display_data"
    },
    {
     "data": {
      "image/png": "[encoded data removed]",
      "text/plain": [
       "<Figure size 576x576 with 1 Axes>"
      ]
     },
     "metadata": {},
     "output_type": "display_data"
    },
    {
     "data": {
      "image/png": "[encoded data removed]",
      "text/plain": [
       "<Figure size 576x576 with 1 Axes>"
      ]
     },
     "metadata": {},
     "output_type": "display_data"
    },
    {
     "data": {
      "image/png": "[encoded data removed]",
      "text/plain": [
       "<Figure size 576x576 with 1 Axes>"
      ]
     },
     "metadata": {},
     "output_type": "display_data"
    }
   ],
   "source": [
    "graph_num(geo_2.drop('id', axis=1))"
   ]
  },
  {
   "cell_type": "code",
   "execution_count": 19,
   "metadata": {},
   "outputs": [
    {
     "data": {
      "image/png": "[encoded data removed]",
      "text/plain": [
       "<Figure size 576x576 with 1 Axes>"
      ]
     },
     "metadata": {},
     "output_type": "display_data"
    },
    {
     "data": {
      "image/png": "[encoded data removed]",
      "text/plain": [
       "<Figure size 576x576 with 1 Axes>"
      ]
     },
     "metadata": {},
     "output_type": "display_data"
    },
    {
     "data": {
      "image/png": "[encoded data removed]",
      "text/plain": [
       "<Figure size 576x576 with 1 Axes>"
      ]
     },
     "metadata": {},
     "output_type": "display_data"
    },
    {
     "data": {
      "image/png": "[encoded data removed]",
      "text/plain": [
       "<Figure size 576x576 with 1 Axes>"
      ]
     },
     "metadata": {},
     "output_type": "display_data"
    }
   ],
   "source": [
    "graph_num(geo_3.drop('id', axis=1))"
   ]
  },
  {
   "cell_type": "code",
   "execution_count": 20,
   "metadata": {},
   "outputs": [
    {
     "data": {
      "text/html": [
       "<div>\n",
       "<style scoped>\n",
       "    .dataframe tbody tr th:only-of-type {\n",
       "        vertical-align: middle;\n",
       "    }\n",
       "\n",
       "    .dataframe tbody tr th {\n",
       "        vertical-align: top;\n",
       "    }\n",
       "\n",
       "    .dataframe thead th {\n",
       "        text-align: right;\n",
       "    }\n",
       "</style>\n",
       "<table border=\"1\" class=\"dataframe\">\n",
       "  <thead>\n",
       "    <tr style=\"text-align: right;\">\n",
       "      <th></th>\n",
       "      <th>f0</th>\n",
       "      <th>f1</th>\n",
       "      <th>f2</th>\n",
       "      <th>product</th>\n",
       "    </tr>\n",
       "  </thead>\n",
       "  <tbody>\n",
       "    <tr>\n",
       "      <th>f0</th>\n",
       "      <td>1.000000</td>\n",
       "      <td>-0.440723</td>\n",
       "      <td>-0.003153</td>\n",
       "      <td>0.143536</td>\n",
       "    </tr>\n",
       "    <tr>\n",
       "      <th>f1</th>\n",
       "      <td>-0.440723</td>\n",
       "      <td>1.000000</td>\n",
       "      <td>0.001724</td>\n",
       "      <td>-0.192356</td>\n",
       "    </tr>\n",
       "    <tr>\n",
       "      <th>f2</th>\n",
       "      <td>-0.003153</td>\n",
       "      <td>0.001724</td>\n",
       "      <td>1.000000</td>\n",
       "      <td>0.483663</td>\n",
       "    </tr>\n",
       "    <tr>\n",
       "      <th>product</th>\n",
       "      <td>0.143536</td>\n",
       "      <td>-0.192356</td>\n",
       "      <td>0.483663</td>\n",
       "      <td>1.000000</td>\n",
       "    </tr>\n",
       "  </tbody>\n",
       "</table>\n",
       "</div>"
      ],
      "text/plain": [
       "               f0        f1        f2   product\n",
       "f0       1.000000 -0.440723 -0.003153  0.143536\n",
       "f1      -0.440723  1.000000  0.001724 -0.192356\n",
       "f2      -0.003153  0.001724  1.000000  0.483663\n",
       "product  0.143536 -0.192356  0.483663  1.000000"
      ]
     },
     "execution_count": 20,
     "metadata": {},
     "output_type": "execute_result"
    }
   ],
   "source": [
    "# проведём корреляционный анализ\n",
    "# выведем корреляционную матрицу для первого региона\n",
    "geo_1.drop('id', axis=1).corr() "
   ]
  },
  {
   "cell_type": "code",
   "execution_count": 21,
   "metadata": {},
   "outputs": [
    {
     "data": {
      "image/png": "[encoded data removed]",
      "text/plain": [
       "<Figure size 1080x1080 with 2 Axes>"
      ]
     },
     "metadata": {},
     "output_type": "display_data"
    }
   ],
   "source": [
    "# для наглядности построим тепловую карту\n",
    "fig, ax = plt.subplots(figsize=(15, 15))\n",
    "sns.heatmap(geo_1.drop('id', axis=1).corr(), annot=True, fmt='.2f', cmap='coolwarm', center=0); "
   ]
  },
  {
   "cell_type": "code",
   "execution_count": 22,
   "metadata": {},
   "outputs": [
    {
     "data": {
      "text/html": [
       "<div>\n",
       "<style scoped>\n",
       "    .dataframe tbody tr th:only-of-type {\n",
       "        vertical-align: middle;\n",
       "    }\n",
       "\n",
       "    .dataframe tbody tr th {\n",
       "        vertical-align: top;\n",
       "    }\n",
       "\n",
       "    .dataframe thead th {\n",
       "        text-align: right;\n",
       "    }\n",
       "</style>\n",
       "<table border=\"1\" class=\"dataframe\">\n",
       "  <thead>\n",
       "    <tr style=\"text-align: right;\">\n",
       "      <th></th>\n",
       "      <th>f0</th>\n",
       "      <th>f1</th>\n",
       "      <th>f2</th>\n",
       "      <th>product</th>\n",
       "    </tr>\n",
       "  </thead>\n",
       "  <tbody>\n",
       "    <tr>\n",
       "      <th>f0</th>\n",
       "      <td>1.000000</td>\n",
       "      <td>0.182287</td>\n",
       "      <td>-0.001777</td>\n",
       "      <td>-0.030491</td>\n",
       "    </tr>\n",
       "    <tr>\n",
       "      <th>f1</th>\n",
       "      <td>0.182287</td>\n",
       "      <td>1.000000</td>\n",
       "      <td>-0.002595</td>\n",
       "      <td>-0.010155</td>\n",
       "    </tr>\n",
       "    <tr>\n",
       "      <th>f2</th>\n",
       "      <td>-0.001777</td>\n",
       "      <td>-0.002595</td>\n",
       "      <td>1.000000</td>\n",
       "      <td>0.999397</td>\n",
       "    </tr>\n",
       "    <tr>\n",
       "      <th>product</th>\n",
       "      <td>-0.030491</td>\n",
       "      <td>-0.010155</td>\n",
       "      <td>0.999397</td>\n",
       "      <td>1.000000</td>\n",
       "    </tr>\n",
       "  </tbody>\n",
       "</table>\n",
       "</div>"
      ],
      "text/plain": [
       "               f0        f1        f2   product\n",
       "f0       1.000000  0.182287 -0.001777 -0.030491\n",
       "f1       0.182287  1.000000 -0.002595 -0.010155\n",
       "f2      -0.001777 -0.002595  1.000000  0.999397\n",
       "product -0.030491 -0.010155  0.999397  1.000000"
      ]
     },
     "execution_count": 22,
     "metadata": {},
     "output_type": "execute_result"
    }
   ],
   "source": [
    "# выведем корреляционную матрицу для второго региона\n",
    "geo_2.drop('id', axis=1).corr() "
   ]
  },
  {
   "cell_type": "code",
   "execution_count": 23,
   "metadata": {},
   "outputs": [
    {
     "data": {
      "image/png": "[encoded data removed]",
      "text/plain": [
       "<Figure size 1080x1080 with 2 Axes>"
      ]
     },
     "metadata": {},
     "output_type": "display_data"
    }
   ],
   "source": [
    "# для наглядности построим тепловую карту\n",
    "fig, ax = plt.subplots(figsize=(15, 15))\n",
    "sns.heatmap(geo_2.drop('id', axis=1).corr(), annot=True, fmt='.2f', cmap='coolwarm', center=0); "
   ]
  },
  {
   "cell_type": "code",
   "execution_count": 24,
   "metadata": {},
   "outputs": [
    {
     "data": {
      "text/html": [
       "<div>\n",
       "<style scoped>\n",
       "    .dataframe tbody tr th:only-of-type {\n",
       "        vertical-align: middle;\n",
       "    }\n",
       "\n",
       "    .dataframe tbody tr th {\n",
       "        vertical-align: top;\n",
       "    }\n",
       "\n",
       "    .dataframe thead th {\n",
       "        text-align: right;\n",
       "    }\n",
       "</style>\n",
       "<table border=\"1\" class=\"dataframe\">\n",
       "  <thead>\n",
       "    <tr style=\"text-align: right;\">\n",
       "      <th></th>\n",
       "      <th>f0</th>\n",
       "      <th>f1</th>\n",
       "      <th>f2</th>\n",
       "      <th>product</th>\n",
       "    </tr>\n",
       "  </thead>\n",
       "  <tbody>\n",
       "    <tr>\n",
       "      <th>f0</th>\n",
       "      <td>1.000000</td>\n",
       "      <td>0.000528</td>\n",
       "      <td>-0.000448</td>\n",
       "      <td>-0.001987</td>\n",
       "    </tr>\n",
       "    <tr>\n",
       "      <th>f1</th>\n",
       "      <td>0.000528</td>\n",
       "      <td>1.000000</td>\n",
       "      <td>0.000779</td>\n",
       "      <td>-0.001012</td>\n",
       "    </tr>\n",
       "    <tr>\n",
       "      <th>f2</th>\n",
       "      <td>-0.000448</td>\n",
       "      <td>0.000779</td>\n",
       "      <td>1.000000</td>\n",
       "      <td>0.445871</td>\n",
       "    </tr>\n",
       "    <tr>\n",
       "      <th>product</th>\n",
       "      <td>-0.001987</td>\n",
       "      <td>-0.001012</td>\n",
       "      <td>0.445871</td>\n",
       "      <td>1.000000</td>\n",
       "    </tr>\n",
       "  </tbody>\n",
       "</table>\n",
       "</div>"
      ],
      "text/plain": [
       "               f0        f1        f2   product\n",
       "f0       1.000000  0.000528 -0.000448 -0.001987\n",
       "f1       0.000528  1.000000  0.000779 -0.001012\n",
       "f2      -0.000448  0.000779  1.000000  0.445871\n",
       "product -0.001987 -0.001012  0.445871  1.000000"
      ]
     },
     "execution_count": 24,
     "metadata": {},
     "output_type": "execute_result"
    }
   ],
   "source": [
    "# выведем корреляционную матрицу для третьего региона\n",
    "geo_3.drop('id', axis=1).corr() "
   ]
  },
  {
   "cell_type": "code",
   "execution_count": 25,
   "metadata": {
    "scrolled": false
   },
   "outputs": [
    {
     "data": {
      "image/png": "[encoded data removed]",
      "text/plain": [
       "<Figure size 1080x1080 with 2 Axes>"
      ]
     },
     "metadata": {},
     "output_type": "display_data"
    }
   ],
   "source": [
    "# для наглядности построим тепловую карту\n",
    "fig, ax = plt.subplots(figsize=(15, 15))\n",
    "sns.heatmap(geo_3.drop('id', axis=1).corr(), annot=True, fmt='.2f', cmap='coolwarm', center=0); "
   ]
  },
  {
   "cell_type": "markdown",
   "metadata": {},
   "source": [
    "### Вывод\n",
    "- Данные загружены и не требуют дополнительной предобработки\n",
    "- Выбросов, аномальных значений не обнаружено\n",
    "- Сильнее всего целевой признак коррелирует с признаком f2 (во всех регионах)"
   ]
  },
  {
   "cell_type": "markdown",
   "metadata": {},
   "source": [
    "## Обучение и проверка модели"
   ]
  },
  {
   "cell_type": "code",
   "execution_count": 26,
   "metadata": {},
   "outputs": [],
   "source": [
    "# зафиксируем константы\n",
    "RANDOM_STATE = 42\n",
    "test_size = 0.25"
   ]
  },
  {
   "cell_type": "code",
   "execution_count": 27,
   "metadata": {},
   "outputs": [],
   "source": [
    "# разделим данные на тренировочный и валидационные для первого региона \n",
    "X = geo_1.drop(['product', 'id'], axis=1)\n",
    "y = geo_1['product']"
   ]
  },
  {
   "cell_type": "code",
   "execution_count": 28,
   "metadata": {},
   "outputs": [],
   "source": [
    "# делим данные\n",
    "X_train, X_valid, y_train, y_valid_1 = train_test_split(X, y, random_state=RANDOM_STATE, test_size=test_size)"
   ]
  },
  {
   "cell_type": "code",
   "execution_count": 29,
   "metadata": {},
   "outputs": [],
   "source": [
    "# нормируем данные\n",
    "scaler = StandardScaler()\n",
    "X_train_scaled = scaler. fit_transform(X_train)\n",
    "X_valid_scaled = scaler.transform(X_valid)\n",
    "\n",
    "X_train_1 = pd.DataFrame(X_train_scaled, columns=X_train.columns)\n",
    "X_valid_1 = pd.DataFrame(X_valid_scaled, columns=X_valid.columns)"
   ]
  },
  {
   "cell_type": "code",
   "execution_count": 30,
   "metadata": {},
   "outputs": [],
   "source": [
    "# создадим модель МО\n",
    "model_1  = LinearRegression()\n",
    "\n",
    "# обучим её\n",
    "model_1.fit(X_train_1, y_train)\n",
    "\n",
    "# получим предсказания на валидационной выборке\n",
    "predictions_1 = model_1.predict(X_valid_1)"
   ]
  },
  {
   "cell_type": "code",
   "execution_count": 31,
   "metadata": {},
   "outputs": [],
   "source": [
    "pred_1 = pd.DataFrame(predictions_1, columns = ['product_pred_1'])"
   ]
  },
  {
   "cell_type": "code",
   "execution_count": 32,
   "metadata": {},
   "outputs": [
    {
     "data": {
      "text/html": [
       "<div>\n",
       "<style scoped>\n",
       "    .dataframe tbody tr th:only-of-type {\n",
       "        vertical-align: middle;\n",
       "    }\n",
       "\n",
       "    .dataframe tbody tr th {\n",
       "        vertical-align: top;\n",
       "    }\n",
       "\n",
       "    .dataframe thead th {\n",
       "        text-align: right;\n",
       "    }\n",
       "</style>\n",
       "<table border=\"1\" class=\"dataframe\">\n",
       "  <thead>\n",
       "    <tr style=\"text-align: right;\">\n",
       "      <th></th>\n",
       "      <th>product_pred_1</th>\n",
       "    </tr>\n",
       "  </thead>\n",
       "  <tbody>\n",
       "    <tr>\n",
       "      <th>0</th>\n",
       "      <td>101.901017</td>\n",
       "    </tr>\n",
       "    <tr>\n",
       "      <th>1</th>\n",
       "      <td>78.217774</td>\n",
       "    </tr>\n",
       "    <tr>\n",
       "      <th>2</th>\n",
       "      <td>115.266901</td>\n",
       "    </tr>\n",
       "    <tr>\n",
       "      <th>3</th>\n",
       "      <td>105.618618</td>\n",
       "    </tr>\n",
       "    <tr>\n",
       "      <th>4</th>\n",
       "      <td>97.980185</td>\n",
       "    </tr>\n",
       "  </tbody>\n",
       "</table>\n",
       "</div>"
      ],
      "text/plain": [
       "   product_pred_1\n",
       "0      101.901017\n",
       "1       78.217774\n",
       "2      115.266901\n",
       "3      105.618618\n",
       "4       97.980185"
      ]
     },
     "execution_count": 32,
     "metadata": {},
     "output_type": "execute_result"
    }
   ],
   "source": [
    "pred_1.head()"
   ]
  },
  {
   "cell_type": "code",
   "execution_count": 33,
   "metadata": {},
   "outputs": [
    {
     "name": "stdout",
     "output_type": "stream",
     "text": [
      "Средний запас предсказанного сырья равен 92.39879990657768\n"
     ]
    }
   ],
   "source": [
    "print('Средний запас предсказанного сырья равен', pred_1['product_pred_1'].mean())"
   ]
  },
  {
   "cell_type": "code",
   "execution_count": 34,
   "metadata": {
    "scrolled": true
   },
   "outputs": [
    {
     "name": "stdout",
     "output_type": "stream",
     "text": [
      "RMSE равно 37.75660035026169\n"
     ]
    },
    {
     "name": "stderr",
     "output_type": "stream",
     "text": [
      "/opt/conda/lib/python3.9/site-packages/sklearn/metrics/_regression.py:483: FutureWarning: 'squared' is deprecated in version 1.4 and will be removed in 1.6. To calculate the root mean squared error, use the function'root_mean_squared_error'.\n",
      "  warnings.warn(\n"
     ]
    }
   ],
   "source": [
    "rmse_1 = mean_squared_error(y_valid_1, predictions_1, squared=False)\n",
    "\n",
    "print('RMSE равно', rmse_1)"
   ]
  },
  {
   "cell_type": "code",
   "execution_count": 35,
   "metadata": {},
   "outputs": [],
   "source": [
    "# то же самое сделаем и для второго региона\n",
    "# разделим данные на тренировочный и валидационные для второго региона \n",
    "X = geo_2.drop(['product', 'id'], axis=1)\n",
    "y = geo_2['product']"
   ]
  },
  {
   "cell_type": "code",
   "execution_count": 36,
   "metadata": {},
   "outputs": [],
   "source": [
    "X_train, X_valid, y_train, y_valid_2 = train_test_split(X, y, random_state=RANDOM_STATE, test_size=test_size)"
   ]
  },
  {
   "cell_type": "code",
   "execution_count": 37,
   "metadata": {},
   "outputs": [],
   "source": [
    "scaler = StandardScaler()\n",
    "X_train_scaled = scaler. fit_transform(X_train)\n",
    "X_valid_scaled = scaler.transform(X_valid)\n",
    "\n",
    "X_train_2 = pd.DataFrame(X_train_scaled, columns=X_train.columns)\n",
    "X_valid_2 = pd.DataFrame(X_valid_scaled, columns=X_valid.columns)"
   ]
  },
  {
   "cell_type": "code",
   "execution_count": 38,
   "metadata": {},
   "outputs": [],
   "source": [
    "# создадим модель МО\n",
    "model_2  = LinearRegression()\n",
    "\n",
    "# обучим её\n",
    "model_2.fit(X_train_2, y_train)\n",
    "\n",
    "# получим предсказания на валидационной выборке\n",
    "predictions_2 = model_2.predict(X_valid_2)"
   ]
  },
  {
   "cell_type": "code",
   "execution_count": 39,
   "metadata": {},
   "outputs": [],
   "source": [
    "pred_2 = pd.DataFrame(predictions_2, columns = ['product_pred_2'])"
   ]
  },
  {
   "cell_type": "code",
   "execution_count": 40,
   "metadata": {},
   "outputs": [
    {
     "data": {
      "text/html": [
       "<div>\n",
       "<style scoped>\n",
       "    .dataframe tbody tr th:only-of-type {\n",
       "        vertical-align: middle;\n",
       "    }\n",
       "\n",
       "    .dataframe tbody tr th {\n",
       "        vertical-align: top;\n",
       "    }\n",
       "\n",
       "    .dataframe thead th {\n",
       "        text-align: right;\n",
       "    }\n",
       "</style>\n",
       "<table border=\"1\" class=\"dataframe\">\n",
       "  <thead>\n",
       "    <tr style=\"text-align: right;\">\n",
       "      <th></th>\n",
       "      <th>product_pred_2</th>\n",
       "    </tr>\n",
       "  </thead>\n",
       "  <tbody>\n",
       "    <tr>\n",
       "      <th>0</th>\n",
       "      <td>0.844738</td>\n",
       "    </tr>\n",
       "    <tr>\n",
       "      <th>1</th>\n",
       "      <td>52.921612</td>\n",
       "    </tr>\n",
       "    <tr>\n",
       "      <th>2</th>\n",
       "      <td>135.110385</td>\n",
       "    </tr>\n",
       "    <tr>\n",
       "      <th>3</th>\n",
       "      <td>109.494863</td>\n",
       "    </tr>\n",
       "    <tr>\n",
       "      <th>4</th>\n",
       "      <td>-0.047292</td>\n",
       "    </tr>\n",
       "  </tbody>\n",
       "</table>\n",
       "</div>"
      ],
      "text/plain": [
       "   product_pred_2\n",
       "0        0.844738\n",
       "1       52.921612\n",
       "2      135.110385\n",
       "3      109.494863\n",
       "4       -0.047292"
      ]
     },
     "execution_count": 40,
     "metadata": {},
     "output_type": "execute_result"
    }
   ],
   "source": [
    "pred_2.head()"
   ]
  },
  {
   "cell_type": "code",
   "execution_count": 41,
   "metadata": {},
   "outputs": [
    {
     "name": "stdout",
     "output_type": "stream",
     "text": [
      "Средний запас предсказанного сырья равен 68.7128780391376\n"
     ]
    }
   ],
   "source": [
    "print('Средний запас предсказанного сырья равен', pred_2['product_pred_2'].mean())"
   ]
  },
  {
   "cell_type": "code",
   "execution_count": 42,
   "metadata": {},
   "outputs": [
    {
     "name": "stdout",
     "output_type": "stream",
     "text": [
      "RMSE равно 0.8902801001028846\n"
     ]
    },
    {
     "name": "stderr",
     "output_type": "stream",
     "text": [
      "/opt/conda/lib/python3.9/site-packages/sklearn/metrics/_regression.py:483: FutureWarning: 'squared' is deprecated in version 1.4 and will be removed in 1.6. To calculate the root mean squared error, use the function'root_mean_squared_error'.\n",
      "  warnings.warn(\n"
     ]
    }
   ],
   "source": [
    "rmse_2 = mean_squared_error(y_valid_2, predictions_2, squared=False)\n",
    "\n",
    "print('RMSE равно', rmse_2)"
   ]
  },
  {
   "cell_type": "code",
   "execution_count": 43,
   "metadata": {},
   "outputs": [],
   "source": [
    "# и для третьего\n",
    "# разделим данные на тренировочный и валидационные для третьего региона \n",
    "X = geo_3.drop(['product', 'id'], axis=1)\n",
    "y = geo_3['product']"
   ]
  },
  {
   "cell_type": "code",
   "execution_count": 44,
   "metadata": {},
   "outputs": [],
   "source": [
    "X_train, X_valid, y_train, y_valid_3 = train_test_split(X, y, random_state=RANDOM_STATE, test_size=test_size)"
   ]
  },
  {
   "cell_type": "code",
   "execution_count": 45,
   "metadata": {},
   "outputs": [],
   "source": [
    "scaler = StandardScaler()\n",
    "X_train_scaled = scaler. fit_transform(X_train)\n",
    "X_valid_scaled = scaler.transform(X_valid)\n",
    "\n",
    "X_train_3 = pd.DataFrame(X_train_scaled, columns=X_train.columns)\n",
    "X_valid_3 = pd.DataFrame(X_valid_scaled, columns=X_valid.columns)"
   ]
  },
  {
   "cell_type": "code",
   "execution_count": 46,
   "metadata": {},
   "outputs": [],
   "source": [
    "# создадим модель МО\n",
    "model_3  = LinearRegression()\n",
    "\n",
    "# обучим её\n",
    "model_3.fit(X_train_3, y_train)\n",
    "\n",
    "# получим предсказания на валидационной выборке\n",
    "predictions_3 = model_3.predict(X_valid_3)"
   ]
  },
  {
   "cell_type": "code",
   "execution_count": 47,
   "metadata": {},
   "outputs": [],
   "source": [
    "pred_3 = pd.DataFrame(predictions_3, columns = ['product_pred_3'])"
   ]
  },
  {
   "cell_type": "code",
   "execution_count": 48,
   "metadata": {},
   "outputs": [
    {
     "data": {
      "text/html": [
       "<div>\n",
       "<style scoped>\n",
       "    .dataframe tbody tr th:only-of-type {\n",
       "        vertical-align: middle;\n",
       "    }\n",
       "\n",
       "    .dataframe tbody tr th {\n",
       "        vertical-align: top;\n",
       "    }\n",
       "\n",
       "    .dataframe thead th {\n",
       "        text-align: right;\n",
       "    }\n",
       "</style>\n",
       "<table border=\"1\" class=\"dataframe\">\n",
       "  <thead>\n",
       "    <tr style=\"text-align: right;\">\n",
       "      <th></th>\n",
       "      <th>product_pred_3</th>\n",
       "    </tr>\n",
       "  </thead>\n",
       "  <tbody>\n",
       "    <tr>\n",
       "      <th>0</th>\n",
       "      <td>98.301916</td>\n",
       "    </tr>\n",
       "    <tr>\n",
       "      <th>1</th>\n",
       "      <td>101.592461</td>\n",
       "    </tr>\n",
       "    <tr>\n",
       "      <th>2</th>\n",
       "      <td>52.449099</td>\n",
       "    </tr>\n",
       "    <tr>\n",
       "      <th>3</th>\n",
       "      <td>109.922127</td>\n",
       "    </tr>\n",
       "    <tr>\n",
       "      <th>4</th>\n",
       "      <td>72.411847</td>\n",
       "    </tr>\n",
       "  </tbody>\n",
       "</table>\n",
       "</div>"
      ],
      "text/plain": [
       "   product_pred_3\n",
       "0       98.301916\n",
       "1      101.592461\n",
       "2       52.449099\n",
       "3      109.922127\n",
       "4       72.411847"
      ]
     },
     "execution_count": 48,
     "metadata": {},
     "output_type": "execute_result"
    }
   ],
   "source": [
    "pred_3.head()"
   ]
  },
  {
   "cell_type": "code",
   "execution_count": 49,
   "metadata": {},
   "outputs": [
    {
     "name": "stdout",
     "output_type": "stream",
     "text": [
      "Средний запас предсказанного сырья равен 94.77102387765939\n"
     ]
    }
   ],
   "source": [
    "print('Средний запас предсказанного сырья равен', pred_3['product_pred_3'].mean())"
   ]
  },
  {
   "cell_type": "code",
   "execution_count": 50,
   "metadata": {},
   "outputs": [
    {
     "name": "stdout",
     "output_type": "stream",
     "text": [
      "RMSE равно 40.145872311342174\n"
     ]
    },
    {
     "name": "stderr",
     "output_type": "stream",
     "text": [
      "/opt/conda/lib/python3.9/site-packages/sklearn/metrics/_regression.py:483: FutureWarning: 'squared' is deprecated in version 1.4 and will be removed in 1.6. To calculate the root mean squared error, use the function'root_mean_squared_error'.\n",
      "  warnings.warn(\n"
     ]
    }
   ],
   "source": [
    "rmse_3 = mean_squared_error(y_valid_3, predictions_3, squared=False)\n",
    "\n",
    "print('RMSE равно', rmse_3)"
   ]
  },
  {
   "cell_type": "code",
   "execution_count": 51,
   "metadata": {},
   "outputs": [
    {
     "name": "stdout",
     "output_type": "stream",
     "text": [
      "1 регион:\n",
      "- предсказания модели: \"pred_1\"\n",
      "- правильные ответы: \"y_valid_1\"\n",
      "\n",
      "2 регион:\n",
      "- предсказания модели: \"pred_2\"\n",
      "- правильные ответы: \"y_valid_2\"\n",
      "\n",
      "3 регион:\n",
      "- предсказания модели: \"pred_3\"\n",
      "- правильные ответы: \"y_valid_3\"\n"
     ]
    }
   ],
   "source": [
    "# предсказания и правильные ответы\n",
    "print('1 регион:\\n- предсказания модели: \"pred_1\"\\n- правильные ответы: \"y_valid_1\"')\n",
    "print()\n",
    "print('2 регион:\\n- предсказания модели: \"pred_2\"\\n- правильные ответы: \"y_valid_2\"')\n",
    "print()\n",
    "print('3 регион:\\n- предсказания модели: \"pred_3\"\\n- правильные ответы: \"y_valid_3\"')"
   ]
  },
  {
   "cell_type": "markdown",
   "metadata": {},
   "source": [
    "### Вывод\n",
    "- Были построены модели для предсказания целевого признака для каждого региона\n",
    "- Также был предсказан средний запас предсказанного сырья и рассчитана RMSE\n",
    "- Наилучший показатель RMSE у 2-го региона - 0.89\n",
    "- Наибольший средний запас предсказанного сырья у 3 региона - 94.7"
   ]
  },
  {
   "cell_type": "markdown",
   "metadata": {},
   "source": [
    "### Вывод"
   ]
  },
  {
   "cell_type": "markdown",
   "metadata": {},
   "source": [
    "## Подготовка к расчёту прибыли"
   ]
  },
  {
   "cell_type": "code",
   "execution_count": 52,
   "metadata": {},
   "outputs": [],
   "source": [
    "# зафиксируем константы\n",
    "PRICE_ONE_PIECE = 450 # тыс рублей за 1 тыс баррелей\n",
    "\n",
    "PRICE_NEW_WELL = 10_000_000 # тыс рублей на разработку новых скважин\n",
    "\n",
    "PROBABILITY_LOSSES = 2.5/100 # вероятность убытков\n",
    "\n",
    "product_mean_1 = geo_1['product'].mean()\n",
    "product_mean_2 = geo_2['product'].mean()\n",
    "product_mean_3 = geo_3['product'].mean()"
   ]
  },
  {
   "cell_type": "code",
   "execution_count": 53,
   "metadata": {},
   "outputs": [
    {
     "name": "stdout",
     "output_type": "stream",
     "text": [
      "Cредний запас сырья в 1 регионе: 92.50 млн.баррелей\n",
      "Cредний запас сырья в 2 регионе: 68.83 млн.баррелей\n",
      "Cредний запас сырья в 3 регионе: 95.00 млн.баррелей\n"
     ]
    }
   ],
   "source": [
    "print('Cредний запас сырья в 1 регионе: %.2f млн.баррелей'%product_mean_1)\n",
    "print('Cредний запас сырья в 2 регионе: %.2f млн.баррелей'%product_mean_2)\n",
    "print('Cредний запас сырья в 3 регионе: %.2f млн.баррелей'%product_mean_3)"
   ]
  },
  {
   "cell_type": "code",
   "execution_count": 54,
   "metadata": {},
   "outputs": [
    {
     "name": "stdout",
     "output_type": "stream",
     "text": [
      "Бюджет на разработку одной скважины: 50.0 млн.руб\n"
     ]
    }
   ],
   "source": [
    "budget_1_point = (PRICE_NEW_WELL / 200)# тыс.руб\n",
    "print('Бюджет на разработку одной скважины:', budget_1_point/1000,'млн.руб')"
   ]
  },
  {
   "cell_type": "code",
   "execution_count": 55,
   "metadata": {},
   "outputs": [
    {
     "name": "stdout",
     "output_type": "stream",
     "text": [
      "Объём каждой скважины для безубыточной разработки должен составлять не менее: 111.11 тыс.баррелей\n"
     ]
    }
   ],
   "source": [
    "# рассчитаем достаточный объём сырья для безубыточной разработки новой скважины\n",
    "vol_prod = budget_1_point / PRICE_ONE_PIECE\n",
    "print('Объём каждой скважины для безубыточной разработки должен составлять не менее: %.2f'%vol_prod,'тыс.баррелей')"
   ]
  },
  {
   "cell_type": "code",
   "execution_count": 56,
   "metadata": {},
   "outputs": [
    {
     "data": {
      "text/html": [
       "<div>\n",
       "<style scoped>\n",
       "    .dataframe tbody tr th:only-of-type {\n",
       "        vertical-align: middle;\n",
       "    }\n",
       "\n",
       "    .dataframe tbody tr th {\n",
       "        vertical-align: top;\n",
       "    }\n",
       "\n",
       "    .dataframe thead th {\n",
       "        text-align: right;\n",
       "    }\n",
       "</style>\n",
       "<table border=\"1\" class=\"dataframe\">\n",
       "  <thead>\n",
       "    <tr style=\"text-align: right;\">\n",
       "      <th></th>\n",
       "      <th>id</th>\n",
       "      <th>f0</th>\n",
       "      <th>f1</th>\n",
       "      <th>f2</th>\n",
       "      <th>product</th>\n",
       "      <th>profit</th>\n",
       "    </tr>\n",
       "  </thead>\n",
       "  <tbody>\n",
       "    <tr>\n",
       "      <th>0</th>\n",
       "      <td>txEyH</td>\n",
       "      <td>0.705745</td>\n",
       "      <td>-0.497823</td>\n",
       "      <td>1.221170</td>\n",
       "      <td>105.280062</td>\n",
       "      <td>47376.03</td>\n",
       "    </tr>\n",
       "    <tr>\n",
       "      <th>1</th>\n",
       "      <td>2acmU</td>\n",
       "      <td>1.334711</td>\n",
       "      <td>-0.340164</td>\n",
       "      <td>4.365080</td>\n",
       "      <td>73.037750</td>\n",
       "      <td>32866.99</td>\n",
       "    </tr>\n",
       "    <tr>\n",
       "      <th>2</th>\n",
       "      <td>409Wp</td>\n",
       "      <td>1.022732</td>\n",
       "      <td>0.151990</td>\n",
       "      <td>1.419926</td>\n",
       "      <td>85.265647</td>\n",
       "      <td>38369.54</td>\n",
       "    </tr>\n",
       "    <tr>\n",
       "      <th>3</th>\n",
       "      <td>iJLyR</td>\n",
       "      <td>-0.032172</td>\n",
       "      <td>0.139033</td>\n",
       "      <td>2.978566</td>\n",
       "      <td>168.620776</td>\n",
       "      <td>75879.35</td>\n",
       "    </tr>\n",
       "    <tr>\n",
       "      <th>4</th>\n",
       "      <td>Xdl7t</td>\n",
       "      <td>1.988431</td>\n",
       "      <td>0.155413</td>\n",
       "      <td>4.751769</td>\n",
       "      <td>154.036647</td>\n",
       "      <td>69316.49</td>\n",
       "    </tr>\n",
       "  </tbody>\n",
       "</table>\n",
       "</div>"
      ],
      "text/plain": [
       "      id        f0        f1        f2     product    profit\n",
       "0  txEyH  0.705745 -0.497823  1.221170  105.280062  47376.03\n",
       "1  2acmU  1.334711 -0.340164  4.365080   73.037750  32866.99\n",
       "2  409Wp  1.022732  0.151990  1.419926   85.265647  38369.54\n",
       "3  iJLyR -0.032172  0.139033  2.978566  168.620776  75879.35\n",
       "4  Xdl7t  1.988431  0.155413  4.751769  154.036647  69316.49"
      ]
     },
     "execution_count": 56,
     "metadata": {},
     "output_type": "execute_result"
    }
   ],
   "source": [
    "# сравним полученный объём сырья со средним запасом в каждом регионе\n",
    "\n",
    "# 1 регион\n",
    "geo_1['profit'] = (geo_1['product'] * (PRICE_ONE_PIECE)).round(2) # profit, тыс.руб\n",
    "geo_1.head()"
   ]
  },
  {
   "cell_type": "code",
   "execution_count": 57,
   "metadata": {},
   "outputs": [
    {
     "data": {
      "text/html": [
       "<div>\n",
       "<style scoped>\n",
       "    .dataframe tbody tr th:only-of-type {\n",
       "        vertical-align: middle;\n",
       "    }\n",
       "\n",
       "    .dataframe tbody tr th {\n",
       "        vertical-align: top;\n",
       "    }\n",
       "\n",
       "    .dataframe thead th {\n",
       "        text-align: right;\n",
       "    }\n",
       "</style>\n",
       "<table border=\"1\" class=\"dataframe\">\n",
       "  <thead>\n",
       "    <tr style=\"text-align: right;\">\n",
       "      <th></th>\n",
       "      <th>id</th>\n",
       "      <th>f0</th>\n",
       "      <th>f1</th>\n",
       "      <th>f2</th>\n",
       "      <th>product</th>\n",
       "      <th>profit</th>\n",
       "      <th>roi_%</th>\n",
       "    </tr>\n",
       "  </thead>\n",
       "  <tbody>\n",
       "    <tr>\n",
       "      <th>0</th>\n",
       "      <td>txEyH</td>\n",
       "      <td>0.705745</td>\n",
       "      <td>-0.497823</td>\n",
       "      <td>1.221170</td>\n",
       "      <td>105.280062</td>\n",
       "      <td>47376.03</td>\n",
       "      <td>-5.25</td>\n",
       "    </tr>\n",
       "    <tr>\n",
       "      <th>1</th>\n",
       "      <td>2acmU</td>\n",
       "      <td>1.334711</td>\n",
       "      <td>-0.340164</td>\n",
       "      <td>4.365080</td>\n",
       "      <td>73.037750</td>\n",
       "      <td>32866.99</td>\n",
       "      <td>-34.27</td>\n",
       "    </tr>\n",
       "    <tr>\n",
       "      <th>2</th>\n",
       "      <td>409Wp</td>\n",
       "      <td>1.022732</td>\n",
       "      <td>0.151990</td>\n",
       "      <td>1.419926</td>\n",
       "      <td>85.265647</td>\n",
       "      <td>38369.54</td>\n",
       "      <td>-23.26</td>\n",
       "    </tr>\n",
       "    <tr>\n",
       "      <th>3</th>\n",
       "      <td>iJLyR</td>\n",
       "      <td>-0.032172</td>\n",
       "      <td>0.139033</td>\n",
       "      <td>2.978566</td>\n",
       "      <td>168.620776</td>\n",
       "      <td>75879.35</td>\n",
       "      <td>51.76</td>\n",
       "    </tr>\n",
       "    <tr>\n",
       "      <th>4</th>\n",
       "      <td>Xdl7t</td>\n",
       "      <td>1.988431</td>\n",
       "      <td>0.155413</td>\n",
       "      <td>4.751769</td>\n",
       "      <td>154.036647</td>\n",
       "      <td>69316.49</td>\n",
       "      <td>38.63</td>\n",
       "    </tr>\n",
       "  </tbody>\n",
       "</table>\n",
       "</div>"
      ],
      "text/plain": [
       "      id        f0        f1        f2     product    profit  roi_%\n",
       "0  txEyH  0.705745 -0.497823  1.221170  105.280062  47376.03  -5.25\n",
       "1  2acmU  1.334711 -0.340164  4.365080   73.037750  32866.99 -34.27\n",
       "2  409Wp  1.022732  0.151990  1.419926   85.265647  38369.54 -23.26\n",
       "3  iJLyR -0.032172  0.139033  2.978566  168.620776  75879.35  51.76\n",
       "4  Xdl7t  1.988431  0.155413  4.751769  154.036647  69316.49  38.63"
      ]
     },
     "execution_count": 57,
     "metadata": {},
     "output_type": "execute_result"
    }
   ],
   "source": [
    "# определим ROI (окупаемость)\n",
    "geo_1['roi_%'] = ((geo_1['profit'] - budget_1_point) / budget_1_point * 100).round(2)\n",
    "geo_1.head()"
   ]
  },
  {
   "cell_type": "code",
   "execution_count": 58,
   "metadata": {},
   "outputs": [
    {
     "name": "stdout",
     "output_type": "stream",
     "text": [
      "Разница объёма сырья для безубыточной разработки скважины относительно среднего значения по 1 региону составляет: -16.75%\n",
      "Или 18.61 тыс.баррелей\n"
     ]
    }
   ],
   "source": [
    "print('Разница объёма сырья для безубыточной разработки скважины относительно среднего значения по 1 региону составляет: {:.2%}'.format(product_mean_1 / vol_prod-1))\n",
    "print('Или {:.2f} тыс.баррелей'.format(vol_prod - product_mean_1))"
   ]
  },
  {
   "cell_type": "code",
   "execution_count": 59,
   "metadata": {},
   "outputs": [
    {
     "data": {
      "text/html": [
       "<div>\n",
       "<style scoped>\n",
       "    .dataframe tbody tr th:only-of-type {\n",
       "        vertical-align: middle;\n",
       "    }\n",
       "\n",
       "    .dataframe tbody tr th {\n",
       "        vertical-align: top;\n",
       "    }\n",
       "\n",
       "    .dataframe thead th {\n",
       "        text-align: right;\n",
       "    }\n",
       "</style>\n",
       "<table border=\"1\" class=\"dataframe\">\n",
       "  <thead>\n",
       "    <tr style=\"text-align: right;\">\n",
       "      <th></th>\n",
       "      <th>id</th>\n",
       "      <th>f0</th>\n",
       "      <th>f1</th>\n",
       "      <th>f2</th>\n",
       "      <th>product</th>\n",
       "      <th>profit</th>\n",
       "    </tr>\n",
       "  </thead>\n",
       "  <tbody>\n",
       "    <tr>\n",
       "      <th>0</th>\n",
       "      <td>kBEdx</td>\n",
       "      <td>-15.001348</td>\n",
       "      <td>-8.276000</td>\n",
       "      <td>-0.005876</td>\n",
       "      <td>3.179103</td>\n",
       "      <td>1430.60</td>\n",
       "    </tr>\n",
       "    <tr>\n",
       "      <th>1</th>\n",
       "      <td>62mP7</td>\n",
       "      <td>14.272088</td>\n",
       "      <td>-3.475083</td>\n",
       "      <td>0.999183</td>\n",
       "      <td>26.953261</td>\n",
       "      <td>12128.97</td>\n",
       "    </tr>\n",
       "    <tr>\n",
       "      <th>2</th>\n",
       "      <td>vyE1P</td>\n",
       "      <td>6.263187</td>\n",
       "      <td>-5.948386</td>\n",
       "      <td>5.001160</td>\n",
       "      <td>134.766305</td>\n",
       "      <td>60644.84</td>\n",
       "    </tr>\n",
       "    <tr>\n",
       "      <th>3</th>\n",
       "      <td>KcrkZ</td>\n",
       "      <td>-13.081196</td>\n",
       "      <td>-11.506057</td>\n",
       "      <td>4.999415</td>\n",
       "      <td>137.945408</td>\n",
       "      <td>62075.43</td>\n",
       "    </tr>\n",
       "    <tr>\n",
       "      <th>4</th>\n",
       "      <td>AHL4O</td>\n",
       "      <td>12.702195</td>\n",
       "      <td>-8.147433</td>\n",
       "      <td>5.004363</td>\n",
       "      <td>134.766305</td>\n",
       "      <td>60644.84</td>\n",
       "    </tr>\n",
       "  </tbody>\n",
       "</table>\n",
       "</div>"
      ],
      "text/plain": [
       "      id         f0         f1        f2     product    profit\n",
       "0  kBEdx -15.001348  -8.276000 -0.005876    3.179103   1430.60\n",
       "1  62mP7  14.272088  -3.475083  0.999183   26.953261  12128.97\n",
       "2  vyE1P   6.263187  -5.948386  5.001160  134.766305  60644.84\n",
       "3  KcrkZ -13.081196 -11.506057  4.999415  137.945408  62075.43\n",
       "4  AHL4O  12.702195  -8.147433  5.004363  134.766305  60644.84"
      ]
     },
     "execution_count": 59,
     "metadata": {},
     "output_type": "execute_result"
    }
   ],
   "source": [
    "# 2 регион\n",
    "geo_2['profit'] = (geo_2['product'] * (PRICE_ONE_PIECE)).round(2) # profit, тыс.руб\n",
    "geo_2.head()"
   ]
  },
  {
   "cell_type": "code",
   "execution_count": 60,
   "metadata": {},
   "outputs": [
    {
     "data": {
      "text/html": [
       "<div>\n",
       "<style scoped>\n",
       "    .dataframe tbody tr th:only-of-type {\n",
       "        vertical-align: middle;\n",
       "    }\n",
       "\n",
       "    .dataframe tbody tr th {\n",
       "        vertical-align: top;\n",
       "    }\n",
       "\n",
       "    .dataframe thead th {\n",
       "        text-align: right;\n",
       "    }\n",
       "</style>\n",
       "<table border=\"1\" class=\"dataframe\">\n",
       "  <thead>\n",
       "    <tr style=\"text-align: right;\">\n",
       "      <th></th>\n",
       "      <th>id</th>\n",
       "      <th>f0</th>\n",
       "      <th>f1</th>\n",
       "      <th>f2</th>\n",
       "      <th>product</th>\n",
       "      <th>profit</th>\n",
       "      <th>roi_%</th>\n",
       "    </tr>\n",
       "  </thead>\n",
       "  <tbody>\n",
       "    <tr>\n",
       "      <th>0</th>\n",
       "      <td>kBEdx</td>\n",
       "      <td>-15.001348</td>\n",
       "      <td>-8.276000</td>\n",
       "      <td>-0.005876</td>\n",
       "      <td>3.179103</td>\n",
       "      <td>1430.60</td>\n",
       "      <td>-97.14</td>\n",
       "    </tr>\n",
       "    <tr>\n",
       "      <th>1</th>\n",
       "      <td>62mP7</td>\n",
       "      <td>14.272088</td>\n",
       "      <td>-3.475083</td>\n",
       "      <td>0.999183</td>\n",
       "      <td>26.953261</td>\n",
       "      <td>12128.97</td>\n",
       "      <td>-75.74</td>\n",
       "    </tr>\n",
       "    <tr>\n",
       "      <th>2</th>\n",
       "      <td>vyE1P</td>\n",
       "      <td>6.263187</td>\n",
       "      <td>-5.948386</td>\n",
       "      <td>5.001160</td>\n",
       "      <td>134.766305</td>\n",
       "      <td>60644.84</td>\n",
       "      <td>21.29</td>\n",
       "    </tr>\n",
       "    <tr>\n",
       "      <th>3</th>\n",
       "      <td>KcrkZ</td>\n",
       "      <td>-13.081196</td>\n",
       "      <td>-11.506057</td>\n",
       "      <td>4.999415</td>\n",
       "      <td>137.945408</td>\n",
       "      <td>62075.43</td>\n",
       "      <td>24.15</td>\n",
       "    </tr>\n",
       "    <tr>\n",
       "      <th>4</th>\n",
       "      <td>AHL4O</td>\n",
       "      <td>12.702195</td>\n",
       "      <td>-8.147433</td>\n",
       "      <td>5.004363</td>\n",
       "      <td>134.766305</td>\n",
       "      <td>60644.84</td>\n",
       "      <td>21.29</td>\n",
       "    </tr>\n",
       "  </tbody>\n",
       "</table>\n",
       "</div>"
      ],
      "text/plain": [
       "      id         f0         f1        f2     product    profit  roi_%\n",
       "0  kBEdx -15.001348  -8.276000 -0.005876    3.179103   1430.60 -97.14\n",
       "1  62mP7  14.272088  -3.475083  0.999183   26.953261  12128.97 -75.74\n",
       "2  vyE1P   6.263187  -5.948386  5.001160  134.766305  60644.84  21.29\n",
       "3  KcrkZ -13.081196 -11.506057  4.999415  137.945408  62075.43  24.15\n",
       "4  AHL4O  12.702195  -8.147433  5.004363  134.766305  60644.84  21.29"
      ]
     },
     "execution_count": 60,
     "metadata": {},
     "output_type": "execute_result"
    }
   ],
   "source": [
    "# определим ROI (окупаемость)\n",
    "geo_2['roi_%'] = ((geo_2['profit'] - budget_1_point) / budget_1_point * 100).round(2)\n",
    "geo_2.head()"
   ]
  },
  {
   "cell_type": "code",
   "execution_count": 61,
   "metadata": {},
   "outputs": [
    {
     "name": "stdout",
     "output_type": "stream",
     "text": [
      "Разница объёма сырья для безубыточной разработки скважины относительно среднего значения по 2 региону составляет: -38.06%\n",
      "Или 42.29 тыс.баррелей\n"
     ]
    }
   ],
   "source": [
    "print('Разница объёма сырья для безубыточной разработки скважины относительно среднего значения по 2 региону составляет: {:.2%}'.format(product_mean_2 / vol_prod-1))\n",
    "print('Или {:.2f} тыс.баррелей'.format(vol_prod - product_mean_2))"
   ]
  },
  {
   "cell_type": "code",
   "execution_count": 62,
   "metadata": {},
   "outputs": [
    {
     "data": {
      "text/html": [
       "<div>\n",
       "<style scoped>\n",
       "    .dataframe tbody tr th:only-of-type {\n",
       "        vertical-align: middle;\n",
       "    }\n",
       "\n",
       "    .dataframe tbody tr th {\n",
       "        vertical-align: top;\n",
       "    }\n",
       "\n",
       "    .dataframe thead th {\n",
       "        text-align: right;\n",
       "    }\n",
       "</style>\n",
       "<table border=\"1\" class=\"dataframe\">\n",
       "  <thead>\n",
       "    <tr style=\"text-align: right;\">\n",
       "      <th></th>\n",
       "      <th>id</th>\n",
       "      <th>f0</th>\n",
       "      <th>f1</th>\n",
       "      <th>f2</th>\n",
       "      <th>product</th>\n",
       "      <th>profit</th>\n",
       "    </tr>\n",
       "  </thead>\n",
       "  <tbody>\n",
       "    <tr>\n",
       "      <th>0</th>\n",
       "      <td>fwXo0</td>\n",
       "      <td>-1.146987</td>\n",
       "      <td>0.963328</td>\n",
       "      <td>-0.828965</td>\n",
       "      <td>27.758673</td>\n",
       "      <td>12491.40</td>\n",
       "    </tr>\n",
       "    <tr>\n",
       "      <th>1</th>\n",
       "      <td>WJtFt</td>\n",
       "      <td>0.262778</td>\n",
       "      <td>0.269839</td>\n",
       "      <td>-2.530187</td>\n",
       "      <td>56.069697</td>\n",
       "      <td>25231.36</td>\n",
       "    </tr>\n",
       "    <tr>\n",
       "      <th>2</th>\n",
       "      <td>ovLUW</td>\n",
       "      <td>0.194587</td>\n",
       "      <td>0.289035</td>\n",
       "      <td>-5.586433</td>\n",
       "      <td>62.871910</td>\n",
       "      <td>28292.36</td>\n",
       "    </tr>\n",
       "    <tr>\n",
       "      <th>3</th>\n",
       "      <td>q6cA6</td>\n",
       "      <td>2.236060</td>\n",
       "      <td>-0.553760</td>\n",
       "      <td>0.930038</td>\n",
       "      <td>114.572842</td>\n",
       "      <td>51557.78</td>\n",
       "    </tr>\n",
       "    <tr>\n",
       "      <th>4</th>\n",
       "      <td>WPMUX</td>\n",
       "      <td>-0.515993</td>\n",
       "      <td>1.716266</td>\n",
       "      <td>5.899011</td>\n",
       "      <td>149.600746</td>\n",
       "      <td>67320.34</td>\n",
       "    </tr>\n",
       "  </tbody>\n",
       "</table>\n",
       "</div>"
      ],
      "text/plain": [
       "      id        f0        f1        f2     product    profit\n",
       "0  fwXo0 -1.146987  0.963328 -0.828965   27.758673  12491.40\n",
       "1  WJtFt  0.262778  0.269839 -2.530187   56.069697  25231.36\n",
       "2  ovLUW  0.194587  0.289035 -5.586433   62.871910  28292.36\n",
       "3  q6cA6  2.236060 -0.553760  0.930038  114.572842  51557.78\n",
       "4  WPMUX -0.515993  1.716266  5.899011  149.600746  67320.34"
      ]
     },
     "execution_count": 62,
     "metadata": {},
     "output_type": "execute_result"
    }
   ],
   "source": [
    "# 3 регион\n",
    "geo_3['profit'] = (geo_3['product'] * (PRICE_ONE_PIECE)).round(2) # profit, тыс.руб\n",
    "geo_3.head()"
   ]
  },
  {
   "cell_type": "code",
   "execution_count": 63,
   "metadata": {},
   "outputs": [
    {
     "data": {
      "text/html": [
       "<div>\n",
       "<style scoped>\n",
       "    .dataframe tbody tr th:only-of-type {\n",
       "        vertical-align: middle;\n",
       "    }\n",
       "\n",
       "    .dataframe tbody tr th {\n",
       "        vertical-align: top;\n",
       "    }\n",
       "\n",
       "    .dataframe thead th {\n",
       "        text-align: right;\n",
       "    }\n",
       "</style>\n",
       "<table border=\"1\" class=\"dataframe\">\n",
       "  <thead>\n",
       "    <tr style=\"text-align: right;\">\n",
       "      <th></th>\n",
       "      <th>id</th>\n",
       "      <th>f0</th>\n",
       "      <th>f1</th>\n",
       "      <th>f2</th>\n",
       "      <th>product</th>\n",
       "      <th>profit</th>\n",
       "      <th>roi_%</th>\n",
       "    </tr>\n",
       "  </thead>\n",
       "  <tbody>\n",
       "    <tr>\n",
       "      <th>0</th>\n",
       "      <td>fwXo0</td>\n",
       "      <td>-1.146987</td>\n",
       "      <td>0.963328</td>\n",
       "      <td>-0.828965</td>\n",
       "      <td>27.758673</td>\n",
       "      <td>12491.40</td>\n",
       "      <td>-75.02</td>\n",
       "    </tr>\n",
       "    <tr>\n",
       "      <th>1</th>\n",
       "      <td>WJtFt</td>\n",
       "      <td>0.262778</td>\n",
       "      <td>0.269839</td>\n",
       "      <td>-2.530187</td>\n",
       "      <td>56.069697</td>\n",
       "      <td>25231.36</td>\n",
       "      <td>-49.54</td>\n",
       "    </tr>\n",
       "    <tr>\n",
       "      <th>2</th>\n",
       "      <td>ovLUW</td>\n",
       "      <td>0.194587</td>\n",
       "      <td>0.289035</td>\n",
       "      <td>-5.586433</td>\n",
       "      <td>62.871910</td>\n",
       "      <td>28292.36</td>\n",
       "      <td>-43.42</td>\n",
       "    </tr>\n",
       "    <tr>\n",
       "      <th>3</th>\n",
       "      <td>q6cA6</td>\n",
       "      <td>2.236060</td>\n",
       "      <td>-0.553760</td>\n",
       "      <td>0.930038</td>\n",
       "      <td>114.572842</td>\n",
       "      <td>51557.78</td>\n",
       "      <td>3.12</td>\n",
       "    </tr>\n",
       "    <tr>\n",
       "      <th>4</th>\n",
       "      <td>WPMUX</td>\n",
       "      <td>-0.515993</td>\n",
       "      <td>1.716266</td>\n",
       "      <td>5.899011</td>\n",
       "      <td>149.600746</td>\n",
       "      <td>67320.34</td>\n",
       "      <td>34.64</td>\n",
       "    </tr>\n",
       "  </tbody>\n",
       "</table>\n",
       "</div>"
      ],
      "text/plain": [
       "      id        f0        f1        f2     product    profit  roi_%\n",
       "0  fwXo0 -1.146987  0.963328 -0.828965   27.758673  12491.40 -75.02\n",
       "1  WJtFt  0.262778  0.269839 -2.530187   56.069697  25231.36 -49.54\n",
       "2  ovLUW  0.194587  0.289035 -5.586433   62.871910  28292.36 -43.42\n",
       "3  q6cA6  2.236060 -0.553760  0.930038  114.572842  51557.78   3.12\n",
       "4  WPMUX -0.515993  1.716266  5.899011  149.600746  67320.34  34.64"
      ]
     },
     "execution_count": 63,
     "metadata": {},
     "output_type": "execute_result"
    }
   ],
   "source": [
    "# определим ROI (окупаемость)\n",
    "geo_3['roi_%'] = ((geo_3['profit'] - budget_1_point) / budget_1_point * 100).round(2)\n",
    "geo_3.head()"
   ]
  },
  {
   "cell_type": "code",
   "execution_count": 64,
   "metadata": {},
   "outputs": [
    {
     "name": "stdout",
     "output_type": "stream",
     "text": [
      "Разница объёма сырья для безубыточной разработки скважины относительно среднего значения по 3 региону составляет: -14.50%\n",
      "Или 16.11 тыс.баррелей\n"
     ]
    }
   ],
   "source": [
    "print('Разница объёма сырья для безубыточной разработки скважины относительно среднего значения по 3 региону составляет: {:.2%}'.format(product_mean_3 / vol_prod-1))\n",
    "print('Или {:.2f} тыс.баррелей'.format(vol_prod - product_mean_3))"
   ]
  },
  {
   "cell_type": "code",
   "execution_count": 65,
   "metadata": {},
   "outputs": [],
   "source": [
    "# создадим функция для подсчета прибыли\n",
    "def profit_for_vp(predict,col,count):\n",
    "    pred_sorted = predict.sort_values(by=col ,ascending=False)\n",
    "    selected_max = pred_sorted[:count].sum()\n",
    "    profit_pred=(selected_max*PRICE_ONE_PIECE) - PRICE_NEW_WELL \n",
    "    print('Суммарный запас сырья в 200 лучших скважинах составит: %.2f тыс.баррелей'%selected_max)\n",
    "    print('Прибыль для полученного объёма сырья составит %.2f млн.рублей'%(profit_pred/1000))"
   ]
  },
  {
   "cell_type": "code",
   "execution_count": 66,
   "metadata": {},
   "outputs": [
    {
     "name": "stdout",
     "output_type": "stream",
     "text": [
      "Суммарный запас сырья в 200 лучших скважинах составит: 30881.46 тыс.баррелей\n",
      "Прибыль для полученного объёма сырья составит 3896.66 млн.рублей\n"
     ]
    }
   ],
   "source": [
    "# профит 1 региона\n",
    "profit_for_vp(pred_1,['product_pred_1'],200)"
   ]
  },
  {
   "cell_type": "code",
   "execution_count": 67,
   "metadata": {},
   "outputs": [
    {
     "name": "stdout",
     "output_type": "stream",
     "text": [
      "Суммарный запас сырья в 200 лучших скважинах составит: 27748.75 тыс.баррелей\n",
      "Прибыль для полученного объёма сырья составит 2486.94 млн.рублей\n"
     ]
    }
   ],
   "source": [
    "# профит 2 региона\n",
    "profit_for_vp(pred_2,['product_pred_2'],200)"
   ]
  },
  {
   "cell_type": "code",
   "execution_count": 68,
   "metadata": {},
   "outputs": [
    {
     "name": "stdout",
     "output_type": "stream",
     "text": [
      "Суммарный запас сырья в 200 лучших скважинах составит: 29728.85 тыс.баррелей\n",
      "Прибыль для полученного объёма сырья составит 3377.98 млн.рублей\n"
     ]
    }
   ],
   "source": [
    "# профит 1 региона\n",
    "profit_for_vp(pred_3,['product_pred_3'],200)"
   ]
  },
  {
   "cell_type": "markdown",
   "metadata": {},
   "source": [
    "### Вывод\n",
    "- Судя по рассчётам, все три региона достаточно прибыльные\n",
    "- Необходим подсчитать вероятность риска убыточного вложения"
   ]
  },
  {
   "cell_type": "markdown",
   "metadata": {},
   "source": [
    "## Расчёт прибыли и рисков "
   ]
  },
  {
   "cell_type": "code",
   "execution_count": 69,
   "metadata": {},
   "outputs": [],
   "source": [
    "# применим технику Bootstrap с 1000 выборок, чтобы найти распределение прибыли\n",
    "\n",
    "def profit_for_vp2(predict,target,count):\n",
    "    probs_sorted = pd.Series(predict).sort_values(ascending=False)\n",
    "    selected_points = target[probs_sorted.index][:count]\n",
    "    product = selected_points.sum()\n",
    "    revenue = product * PRICE_ONE_PIECE \n",
    "    return revenue - PRICE_NEW_WELL\n",
    "\n",
    "\n",
    "def bootstap(target,predict):\n",
    "    values = []\n",
    "    count=0\n",
    "    state = np.random.RandomState(12345)\n",
    "    predict_e = pd.Series(predict, index=target.index)\n",
    "    \n",
    "    for i in tqdm(range(1000)):\n",
    "        target_subsample = target.sample(n=500,replace=True, random_state=state)\n",
    "        probs_subsample = predict_e[target_subsample.index]\n",
    "        values.append(profit_for_vp2(probs_subsample,target_subsample, 200))  \n",
    "        \n",
    "    for i in values:\n",
    "        if i < 0:\n",
    "            count +=1\n",
    "            \n",
    "    values = pd.Series(values)\n",
    "    mean = values.mean()\n",
    "    confidence_interval = st.t.interval(0.95, len(values)-1, values.mean(), values.sem())\n",
    "    \n",
    "    plt.title('Распределение прибыли')\n",
    "    values.plot(kind=\"hist\", grid=True, figsize=(8,5))\n",
    "    plt.xlabel('Прибыль, млрд.руб')\n",
    "    plt.ylabel('Количество')\n",
    "    plt.show()\n",
    "    \n",
    "    low_95 = values.quantile(0.025)\n",
    "    high_95 = values.quantile(0.975)\n",
    "    \n",
    "    print(\"Средняя прибыль: {:.2f} млн.руб\".format(mean/1000))\n",
    "    print('С вероятностью 95% прибыль в данном регионе будет составлять от: {:.2f} млн.руб до: {:.2f} млн.руб'.format((low_95/1000),(high_95/1000)))\n",
    "    print(\"95%-ый доверительный интервал: от {:.2f} млн.руб до {:.2f} млн.руб\". format((confidence_interval[0]/1000),(confidence_interval[1]/1000)))\n",
    "    print ('Процент вероятности убытка в данном регионе составит {:.1%}'.format(count/1000))"
   ]
  },
  {
   "cell_type": "code",
   "execution_count": 70,
   "metadata": {},
   "outputs": [
    {
     "data": {
      "application/vnd.jupyter.widget-view+json": {
       "model_id": "374820a3c4614550902027e8dec60366",
       "version_major": 2,
       "version_minor": 0
      },
      "text/plain": [
       "  0%|          | 0/1000 [00:00<?, ?it/s]"
      ]
     },
     "metadata": {},
     "output_type": "display_data"
    },
    {
     "data": {
      "image/png": "[encoded data removed]",
      "text/plain": [
       "<Figure size 576x360 with 1 Axes>"
      ]
     },
     "metadata": {},
     "output_type": "display_data"
    },
    {
     "name": "stdout",
     "output_type": "stream",
     "text": [
      "Средняя прибыль: 435.93 млн.руб\n",
      "С вероятностью 95% прибыль в данном регионе будет составлять от: -116.23 млн.руб до: 966.50 млн.руб\n",
      "95%-ый доверительный интервал: от 418.76 млн.руб до 453.11 млн.руб\n",
      "Процент вероятности убытка в данном регионе составит 6.1%\n"
     ]
    }
   ],
   "source": [
    "# распределение прибыли 1 региона\n",
    "bootstap(y_valid_1,predictions_1)"
   ]
  },
  {
   "cell_type": "code",
   "execution_count": 71,
   "metadata": {},
   "outputs": [
    {
     "data": {
      "application/vnd.jupyter.widget-view+json": {
       "model_id": "91e189b7ceff4ce180d9782a3b590806",
       "version_major": 2,
       "version_minor": 0
      },
      "text/plain": [
       "  0%|          | 0/1000 [00:00<?, ?it/s]"
      ]
     },
     "metadata": {},
     "output_type": "display_data"
    },
    {
     "data": {
      "image/png": "[encoded data removed]",
      "text/plain": [
       "<Figure size 576x360 with 1 Axes>"
      ]
     },
     "metadata": {},
     "output_type": "display_data"
    },
    {
     "name": "stdout",
     "output_type": "stream",
     "text": [
      "Средняя прибыль: 489.66 млн.руб\n",
      "С вероятностью 95% прибыль в данном регионе будет составлять от: 55.12 млн.руб до: 905.76 млн.руб\n",
      "95%-ый доверительный интервал: от 476.23 млн.руб до 503.09 млн.руб\n",
      "Процент вероятности убытка в данном регионе составит 1.1%\n"
     ]
    }
   ],
   "source": [
    "# распределение прибыли 2 региона\n",
    "bootstap(y_valid_2,predictions_2)"
   ]
  },
  {
   "cell_type": "code",
   "execution_count": 72,
   "metadata": {},
   "outputs": [
    {
     "data": {
      "application/vnd.jupyter.widget-view+json": {
       "model_id": "097963087b5c44a5929e3fc8b358f481",
       "version_major": 2,
       "version_minor": 0
      },
      "text/plain": [
       "  0%|          | 0/1000 [00:00<?, ?it/s]"
      ]
     },
     "metadata": {},
     "output_type": "display_data"
    },
    {
     "data": {
      "image/png": "[encoded data removed]",
      "text/plain": [
       "<Figure size 576x360 with 1 Axes>"
      ]
     },
     "metadata": {},
     "output_type": "display_data"
    },
    {
     "name": "stdout",
     "output_type": "stream",
     "text": [
      "Средняя прибыль: 403.69 млн.руб\n",
      "С вероятностью 95% прибыль в данном регионе будет составлять от: -153.12 млн.руб до: 952.89 млн.руб\n",
      "95%-ый доверительный интервал: от 386.21 млн.руб до 421.17 млн.руб\n",
      "Процент вероятности убытка в данном регионе составит 7.1%\n"
     ]
    }
   ],
   "source": [
    "# распределение прибыли 3 региона\n",
    "bootstap(y_valid_3,predictions_3)"
   ]
  },
  {
   "cell_type": "markdown",
   "metadata": {},
   "source": [
    "### Вывод\n",
    "- Самым прибыльным оказался 2 регион, остальные два региона имеют процент убытка больше 2,5%\n",
    "- Средняя прибыль в этом регионе составит 489.66 млн рублей\n",
    "- 95% доверительный интервал для прибыли находится в диапазоне от 476.23 млн.руб до 503.09 млн.руб"
   ]
  },
  {
   "cell_type": "markdown",
   "metadata": {},
   "source": [
    "## Заключение\n",
    "- Были исследованы данные по запасах нефти в трёх регионах\n",
    "- Были обучены модели для подсчета запасов сырья в каждой скважине в каждом регионе\n",
    "- Далее при помощи техники bootstap предсказанния были разделены на 1000 выборок и подсчитан риск убытка \n",
    "- В результате был определён доверительный интревал получения прибыли в 95%, ограничив вероятность убытка величиной менее 2,5% \n",
    "- На основе этих данных был выбран наиболее перспективный регион для разработки скважин\n",
    "- **Наиболее перпективный регион - второй**, 95% доверительный интервал для прибыли находится в диапазоне от 476.23 млн.руб до 503.09 млн.руб, а вероятность убытка равна 1.1%"
   ]
  }
 ],
 "metadata": {
  "ExecuteTimeLog": [
   {
    "duration": 357,
    "start_time": "2023-12-11T11:50:39.126Z"
   },
   {
    "duration": 372,
    "start_time": "2023-12-11T11:50:56.147Z"
   },
   {
    "duration": 207,
    "start_time": "2023-12-11T11:51:09.444Z"
   },
   {
    "duration": 209,
    "start_time": "2023-12-11T11:51:16.312Z"
   },
   {
    "duration": 15,
    "start_time": "2023-12-11T11:51:26.622Z"
   },
   {
    "duration": 10,
    "start_time": "2023-12-11T11:51:56.205Z"
   },
   {
    "duration": 62,
    "start_time": "2023-12-11T11:52:03.847Z"
   },
   {
    "duration": 9,
    "start_time": "2023-12-11T11:52:07.766Z"
   },
   {
    "duration": 364,
    "start_time": "2023-12-13T08:45:16.197Z"
   },
   {
    "duration": 372,
    "start_time": "2023-12-13T08:45:16.563Z"
   },
   {
    "duration": 15,
    "start_time": "2023-12-13T08:45:16.937Z"
   },
   {
    "duration": 195,
    "start_time": "2023-12-13T08:45:16.953Z"
   },
   {
    "duration": 8,
    "start_time": "2023-12-13T08:45:17.150Z"
   },
   {
    "duration": 194,
    "start_time": "2023-12-13T08:45:17.159Z"
   },
   {
    "duration": 9,
    "start_time": "2023-12-13T08:45:17.354Z"
   },
   {
    "duration": 3,
    "start_time": "2023-12-13T08:47:26.226Z"
   },
   {
    "duration": 61,
    "start_time": "2023-12-13T08:47:42.331Z"
   },
   {
    "duration": 56,
    "start_time": "2023-12-13T08:47:50.352Z"
   },
   {
    "duration": 59,
    "start_time": "2023-12-13T08:47:55.450Z"
   },
   {
    "duration": 18,
    "start_time": "2023-12-13T08:48:42.989Z"
   },
   {
    "duration": 18,
    "start_time": "2023-12-13T08:48:55.202Z"
   },
   {
    "duration": 17,
    "start_time": "2023-12-13T08:48:59.281Z"
   },
   {
    "duration": 5,
    "start_time": "2023-12-13T08:53:12.764Z"
   },
   {
    "duration": 450,
    "start_time": "2023-12-13T08:53:30.409Z"
   },
   {
    "duration": 12625,
    "start_time": "2023-12-13T08:53:40.810Z"
   },
   {
    "duration": 1683,
    "start_time": "2023-12-13T08:54:38.543Z"
   },
   {
    "duration": 727,
    "start_time": "2023-12-13T08:55:34.471Z"
   },
   {
    "duration": 644,
    "start_time": "2023-12-13T08:55:49.012Z"
   },
   {
    "duration": 687,
    "start_time": "2023-12-13T08:56:01.433Z"
   },
   {
    "duration": 17,
    "start_time": "2023-12-13T08:57:42.974Z"
   },
   {
    "duration": 434,
    "start_time": "2023-12-13T08:58:21.926Z"
   },
   {
    "duration": 17,
    "start_time": "2023-12-13T08:58:57.891Z"
   },
   {
    "duration": 342,
    "start_time": "2023-12-13T08:59:06.177Z"
   },
   {
    "duration": 15,
    "start_time": "2023-12-13T09:00:05.313Z"
   },
   {
    "duration": 483,
    "start_time": "2023-12-13T09:00:13.427Z"
   },
   {
    "duration": 5,
    "start_time": "2023-12-13T09:16:21.813Z"
   },
   {
    "duration": 2,
    "start_time": "2023-12-13T09:17:07.447Z"
   },
   {
    "duration": 4,
    "start_time": "2023-12-13T09:17:07.710Z"
   },
   {
    "duration": 103,
    "start_time": "2023-12-13T09:17:08.039Z"
   },
   {
    "duration": 10,
    "start_time": "2023-12-13T09:17:12.220Z"
   },
   {
    "duration": 104,
    "start_time": "2023-12-13T09:18:48.344Z"
   },
   {
    "duration": 19,
    "start_time": "2023-12-13T09:19:03.658Z"
   },
   {
    "duration": 10,
    "start_time": "2023-12-13T09:19:08.504Z"
   },
   {
    "duration": 15,
    "start_time": "2023-12-13T09:19:45.455Z"
   },
   {
    "duration": 14,
    "start_time": "2023-12-13T09:19:54.530Z"
   },
   {
    "duration": 5,
    "start_time": "2023-12-13T09:24:28.382Z"
   },
   {
    "duration": 13,
    "start_time": "2023-12-13T09:24:57.116Z"
   },
   {
    "duration": 4,
    "start_time": "2023-12-13T09:24:57.546Z"
   },
   {
    "duration": 4,
    "start_time": "2023-12-13T09:25:19.057Z"
   },
   {
    "duration": 11,
    "start_time": "2023-12-13T09:31:42.751Z"
   },
   {
    "duration": 3,
    "start_time": "2023-12-13T09:32:04.504Z"
   },
   {
    "duration": 6,
    "start_time": "2023-12-13T09:32:13.264Z"
   },
   {
    "duration": 10,
    "start_time": "2023-12-13T09:32:35.105Z"
   },
   {
    "duration": 3,
    "start_time": "2023-12-13T09:32:41.433Z"
   },
   {
    "duration": 6,
    "start_time": "2023-12-13T09:32:42.071Z"
   },
   {
    "duration": 2,
    "start_time": "2023-12-13T09:32:45.967Z"
   },
   {
    "duration": 7,
    "start_time": "2023-12-13T09:32:47.250Z"
   },
   {
    "duration": 4,
    "start_time": "2023-12-13T09:33:23.784Z"
   },
   {
    "duration": 3,
    "start_time": "2023-12-13T09:33:50.658Z"
   },
   {
    "duration": 4,
    "start_time": "2023-12-13T09:34:56.705Z"
   },
   {
    "duration": 10,
    "start_time": "2023-12-13T09:35:11.694Z"
   },
   {
    "duration": 7281,
    "start_time": "2023-12-13T20:18:52.696Z"
   },
   {
    "duration": 2290,
    "start_time": "2023-12-13T20:18:59.979Z"
   },
   {
    "duration": 141,
    "start_time": "2023-12-13T20:19:02.271Z"
   },
   {
    "duration": 12,
    "start_time": "2023-12-13T20:19:02.414Z"
   },
   {
    "duration": 166,
    "start_time": "2023-12-13T20:19:02.428Z"
   },
   {
    "duration": 9,
    "start_time": "2023-12-13T20:19:02.595Z"
   },
   {
    "duration": 162,
    "start_time": "2023-12-13T20:19:02.605Z"
   },
   {
    "duration": 9,
    "start_time": "2023-12-13T20:19:02.768Z"
   },
   {
    "duration": 25,
    "start_time": "2023-12-13T20:19:02.778Z"
   },
   {
    "duration": 86,
    "start_time": "2023-12-13T20:19:02.806Z"
   },
   {
    "duration": 55,
    "start_time": "2023-12-13T20:19:02.894Z"
   },
   {
    "duration": 70,
    "start_time": "2023-12-13T20:19:02.951Z"
   },
   {
    "duration": 15,
    "start_time": "2023-12-13T20:19:03.023Z"
   },
   {
    "duration": 43,
    "start_time": "2023-12-13T20:19:03.040Z"
   },
   {
    "duration": 24,
    "start_time": "2023-12-13T20:19:03.084Z"
   },
   {
    "duration": 22,
    "start_time": "2023-12-13T20:19:03.110Z"
   },
   {
    "duration": 741,
    "start_time": "2023-12-13T20:19:03.133Z"
   },
   {
    "duration": 662,
    "start_time": "2023-12-13T20:19:03.876Z"
   },
   {
    "duration": 713,
    "start_time": "2023-12-13T20:19:04.539Z"
   },
   {
    "duration": 20,
    "start_time": "2023-12-13T20:19:05.253Z"
   },
   {
    "duration": 347,
    "start_time": "2023-12-13T20:19:05.275Z"
   },
   {
    "duration": 16,
    "start_time": "2023-12-13T20:19:05.623Z"
   },
   {
    "duration": 394,
    "start_time": "2023-12-13T20:19:05.641Z"
   },
   {
    "duration": 15,
    "start_time": "2023-12-13T20:19:06.037Z"
   },
   {
    "duration": 356,
    "start_time": "2023-12-13T20:19:06.053Z"
   },
   {
    "duration": 3,
    "start_time": "2023-12-13T20:19:06.410Z"
   },
   {
    "duration": 29,
    "start_time": "2023-12-13T20:19:06.414Z"
   },
   {
    "duration": 31,
    "start_time": "2023-12-13T20:19:06.446Z"
   },
   {
    "duration": 15,
    "start_time": "2023-12-13T20:19:06.479Z"
   },
   {
    "duration": 19,
    "start_time": "2023-12-13T20:19:06.495Z"
   },
   {
    "duration": 52,
    "start_time": "2023-12-13T20:19:06.516Z"
   },
   {
    "duration": 125,
    "start_time": "2023-12-13T20:19:06.570Z"
   },
   {
    "duration": 28,
    "start_time": "2023-12-13T20:19:06.696Z"
   },
   {
    "duration": 26,
    "start_time": "2023-12-13T20:19:06.725Z"
   },
   {
    "duration": 28,
    "start_time": "2023-12-13T20:19:06.753Z"
   },
   {
    "duration": 39,
    "start_time": "2023-12-13T20:19:06.783Z"
   },
   {
    "duration": 11,
    "start_time": "2023-12-13T20:21:40.585Z"
   },
   {
    "duration": 10,
    "start_time": "2023-12-13T20:21:49.391Z"
   },
   {
    "duration": 3,
    "start_time": "2023-12-13T20:22:24.891Z"
   },
   {
    "duration": 6,
    "start_time": "2023-12-13T20:22:25.216Z"
   },
   {
    "duration": 10,
    "start_time": "2023-12-13T20:22:25.761Z"
   },
   {
    "duration": 10,
    "start_time": "2023-12-13T20:22:25.792Z"
   },
   {
    "duration": 12,
    "start_time": "2023-12-13T20:22:26.309Z"
   },
   {
    "duration": 3,
    "start_time": "2023-12-13T20:22:27.021Z"
   },
   {
    "duration": 6,
    "start_time": "2023-12-13T20:22:27.486Z"
   },
   {
    "duration": 4,
    "start_time": "2023-12-13T20:22:28.639Z"
   },
   {
    "duration": 4,
    "start_time": "2023-12-13T20:22:29.620Z"
   },
   {
    "duration": 2,
    "start_time": "2023-12-13T20:23:23.937Z"
   },
   {
    "duration": 4,
    "start_time": "2023-12-13T20:23:24.105Z"
   },
   {
    "duration": 9,
    "start_time": "2023-12-13T20:23:24.497Z"
   },
   {
    "duration": 13,
    "start_time": "2023-12-13T20:23:24.904Z"
   },
   {
    "duration": 12,
    "start_time": "2023-12-13T20:23:28.839Z"
   },
   {
    "duration": 3,
    "start_time": "2023-12-13T20:23:35.081Z"
   },
   {
    "duration": 6,
    "start_time": "2023-12-13T20:23:35.376Z"
   },
   {
    "duration": 4,
    "start_time": "2023-12-13T20:23:38.194Z"
   },
   {
    "duration": 4,
    "start_time": "2023-12-13T20:23:48.332Z"
   },
   {
    "duration": 4,
    "start_time": "2023-12-13T20:23:52.642Z"
   },
   {
    "duration": 9,
    "start_time": "2023-12-13T20:23:52.833Z"
   },
   {
    "duration": 10,
    "start_time": "2023-12-13T20:23:53.222Z"
   },
   {
    "duration": 12,
    "start_time": "2023-12-13T20:23:53.729Z"
   },
   {
    "duration": 3,
    "start_time": "2023-12-13T20:24:08.548Z"
   },
   {
    "duration": 8,
    "start_time": "2023-12-13T20:24:15.888Z"
   },
   {
    "duration": 4,
    "start_time": "2023-12-13T20:24:27.922Z"
   },
   {
    "duration": 5,
    "start_time": "2023-12-13T20:24:42.431Z"
   },
   {
    "duration": 4,
    "start_time": "2023-12-13T20:30:26.592Z"
   },
   {
    "duration": 10,
    "start_time": "2023-12-13T20:30:34.207Z"
   },
   {
    "duration": 10,
    "start_time": "2023-12-13T20:30:52.530Z"
   },
   {
    "duration": 12,
    "start_time": "2023-12-13T20:31:31.636Z"
   },
   {
    "duration": 3,
    "start_time": "2023-12-13T20:31:44.974Z"
   },
   {
    "duration": 6,
    "start_time": "2023-12-13T20:31:53.120Z"
   },
   {
    "duration": 4,
    "start_time": "2023-12-13T20:32:07.771Z"
   },
   {
    "duration": 6,
    "start_time": "2023-12-13T20:32:08.002Z"
   },
   {
    "duration": 4,
    "start_time": "2023-12-13T20:32:08.383Z"
   },
   {
    "duration": 4,
    "start_time": "2023-12-13T20:32:30.883Z"
   },
   {
    "duration": 2,
    "start_time": "2023-12-13T20:37:07.791Z"
   },
   {
    "duration": 2,
    "start_time": "2023-12-13T20:38:14.356Z"
   },
   {
    "duration": 3,
    "start_time": "2023-12-13T20:38:49.161Z"
   },
   {
    "duration": 13449,
    "start_time": "2023-12-28T20:40:51.586Z"
   },
   {
    "duration": 2528,
    "start_time": "2023-12-28T20:41:05.037Z"
   },
   {
    "duration": 376,
    "start_time": "2023-12-28T20:41:07.567Z"
   },
   {
    "duration": 13,
    "start_time": "2023-12-28T20:41:07.945Z"
   },
   {
    "duration": 200,
    "start_time": "2023-12-28T20:41:07.960Z"
   },
   {
    "duration": 9,
    "start_time": "2023-12-28T20:41:08.161Z"
   },
   {
    "duration": 256,
    "start_time": "2023-12-28T20:41:08.171Z"
   },
   {
    "duration": 8,
    "start_time": "2023-12-28T20:41:08.429Z"
   },
   {
    "duration": 19,
    "start_time": "2023-12-28T20:41:08.438Z"
   },
   {
    "duration": 74,
    "start_time": "2023-12-28T20:41:08.459Z"
   },
   {
    "duration": 55,
    "start_time": "2023-12-28T20:41:08.534Z"
   },
   {
    "duration": 68,
    "start_time": "2023-12-28T20:41:08.591Z"
   },
   {
    "duration": 17,
    "start_time": "2023-12-28T20:41:08.661Z"
   },
   {
    "duration": 24,
    "start_time": "2023-12-28T20:41:08.682Z"
   },
   {
    "duration": 33,
    "start_time": "2023-12-28T20:41:08.708Z"
   },
   {
    "duration": 18,
    "start_time": "2023-12-28T20:41:08.743Z"
   },
   {
    "duration": 754,
    "start_time": "2023-12-28T20:41:08.763Z"
   },
   {
    "duration": 698,
    "start_time": "2023-12-28T20:41:09.521Z"
   },
   {
    "duration": 750,
    "start_time": "2023-12-28T20:41:10.222Z"
   },
   {
    "duration": 18,
    "start_time": "2023-12-28T20:41:10.974Z"
   },
   {
    "duration": 447,
    "start_time": "2023-12-28T20:41:10.993Z"
   },
   {
    "duration": 18,
    "start_time": "2023-12-28T20:41:11.441Z"
   },
   {
    "duration": 362,
    "start_time": "2023-12-28T20:41:11.460Z"
   },
   {
    "duration": 17,
    "start_time": "2023-12-28T20:41:11.823Z"
   },
   {
    "duration": 345,
    "start_time": "2023-12-28T20:41:11.841Z"
   },
   {
    "duration": 2,
    "start_time": "2023-12-28T20:41:12.188Z"
   },
   {
    "duration": 6,
    "start_time": "2023-12-28T20:41:12.192Z"
   },
   {
    "duration": 22,
    "start_time": "2023-12-28T20:41:12.200Z"
   },
   {
    "duration": 11,
    "start_time": "2023-12-28T20:41:12.224Z"
   },
   {
    "duration": 179,
    "start_time": "2023-12-28T20:41:12.237Z"
   },
   {
    "duration": 0,
    "start_time": "2023-12-28T20:41:12.422Z"
   },
   {
    "duration": 0,
    "start_time": "2023-12-28T20:41:12.423Z"
   },
   {
    "duration": 0,
    "start_time": "2023-12-28T20:41:12.557Z"
   },
   {
    "duration": 0,
    "start_time": "2023-12-28T20:41:12.559Z"
   },
   {
    "duration": 0,
    "start_time": "2023-12-28T20:41:12.560Z"
   },
   {
    "duration": 0,
    "start_time": "2023-12-28T20:41:12.561Z"
   },
   {
    "duration": 0,
    "start_time": "2023-12-28T20:41:12.562Z"
   },
   {
    "duration": 0,
    "start_time": "2023-12-28T20:41:12.563Z"
   },
   {
    "duration": 0,
    "start_time": "2023-12-28T20:41:12.564Z"
   },
   {
    "duration": 0,
    "start_time": "2023-12-28T20:41:12.565Z"
   },
   {
    "duration": 0,
    "start_time": "2023-12-28T20:41:12.566Z"
   },
   {
    "duration": 0,
    "start_time": "2023-12-28T20:41:12.568Z"
   },
   {
    "duration": 0,
    "start_time": "2023-12-28T20:41:12.569Z"
   },
   {
    "duration": 0,
    "start_time": "2023-12-28T20:41:12.570Z"
   },
   {
    "duration": 0,
    "start_time": "2023-12-28T20:41:12.572Z"
   },
   {
    "duration": 0,
    "start_time": "2023-12-28T20:41:12.573Z"
   },
   {
    "duration": 0,
    "start_time": "2023-12-28T20:41:12.574Z"
   },
   {
    "duration": 0,
    "start_time": "2023-12-28T20:41:12.575Z"
   },
   {
    "duration": 0,
    "start_time": "2023-12-28T20:41:12.576Z"
   },
   {
    "duration": 0,
    "start_time": "2023-12-28T20:41:12.577Z"
   },
   {
    "duration": 0,
    "start_time": "2023-12-28T20:41:12.578Z"
   },
   {
    "duration": 0,
    "start_time": "2023-12-28T20:41:12.579Z"
   },
   {
    "duration": 14,
    "start_time": "2023-12-28T20:42:51.283Z"
   },
   {
    "duration": 3,
    "start_time": "2023-12-28T20:43:03.242Z"
   },
   {
    "duration": 6,
    "start_time": "2023-12-28T20:43:04.473Z"
   },
   {
    "duration": 5,
    "start_time": "2023-12-28T20:43:05.342Z"
   },
   {
    "duration": 5,
    "start_time": "2023-12-28T20:43:05.896Z"
   },
   {
    "duration": 4,
    "start_time": "2023-12-28T20:43:17.805Z"
   },
   {
    "duration": 10,
    "start_time": "2023-12-28T20:43:18.668Z"
   },
   {
    "duration": 11,
    "start_time": "2023-12-28T20:43:19.042Z"
   },
   {
    "duration": 20,
    "start_time": "2023-12-28T20:43:20.369Z"
   },
   {
    "duration": 3,
    "start_time": "2023-12-28T20:43:21.009Z"
   },
   {
    "duration": 7,
    "start_time": "2023-12-28T20:43:21.295Z"
   },
   {
    "duration": 4,
    "start_time": "2023-12-28T20:43:21.577Z"
   },
   {
    "duration": 5,
    "start_time": "2023-12-28T20:43:32.675Z"
   },
   {
    "duration": 5,
    "start_time": "2023-12-28T20:43:33.090Z"
   },
   {
    "duration": 11,
    "start_time": "2023-12-28T20:43:33.503Z"
   },
   {
    "duration": 10,
    "start_time": "2023-12-28T20:43:34.194Z"
   },
   {
    "duration": 13,
    "start_time": "2023-12-28T20:43:34.620Z"
   },
   {
    "duration": 3,
    "start_time": "2023-12-28T20:43:34.871Z"
   },
   {
    "duration": 8,
    "start_time": "2023-12-28T20:43:35.391Z"
   },
   {
    "duration": 4,
    "start_time": "2023-12-28T20:43:35.430Z"
   },
   {
    "duration": 5,
    "start_time": "2023-12-28T20:43:37.786Z"
   },
   {
    "duration": 12,
    "start_time": "2023-12-28T20:48:08.818Z"
   },
   {
    "duration": 16,
    "start_time": "2023-12-28T20:48:32.749Z"
   },
   {
    "duration": 14,
    "start_time": "2023-12-28T20:49:27.999Z"
   },
   {
    "duration": 17,
    "start_time": "2023-12-28T20:50:17.623Z"
   },
   {
    "duration": 5,
    "start_time": "2023-12-28T20:52:43.974Z"
   },
   {
    "duration": 4,
    "start_time": "2023-12-28T20:52:58.938Z"
   },
   {
    "duration": 3,
    "start_time": "2023-12-28T20:53:50.977Z"
   },
   {
    "duration": 12,
    "start_time": "2023-12-28T20:55:13.976Z"
   },
   {
    "duration": 4,
    "start_time": "2023-12-28T20:55:16.918Z"
   },
   {
    "duration": 14,
    "start_time": "2023-12-28T20:58:10.019Z"
   },
   {
    "duration": 5,
    "start_time": "2023-12-28T20:58:41.912Z"
   },
   {
    "duration": 3,
    "start_time": "2023-12-28T20:58:42.392Z"
   },
   {
    "duration": 3,
    "start_time": "2023-12-28T20:58:42.832Z"
   },
   {
    "duration": 3,
    "start_time": "2023-12-28T20:58:44.177Z"
   },
   {
    "duration": 12,
    "start_time": "2023-12-28T20:58:46.554Z"
   },
   {
    "duration": 12,
    "start_time": "2023-12-28T20:58:58.571Z"
   },
   {
    "duration": 15,
    "start_time": "2023-12-28T21:03:00.364Z"
   },
   {
    "duration": 13,
    "start_time": "2023-12-28T21:12:17.585Z"
   },
   {
    "duration": 3,
    "start_time": "2023-12-28T21:12:29.993Z"
   },
   {
    "duration": 12,
    "start_time": "2023-12-28T21:12:55.441Z"
   },
   {
    "duration": 18,
    "start_time": "2023-12-28T21:13:18.824Z"
   },
   {
    "duration": 4,
    "start_time": "2023-12-28T21:13:41.940Z"
   },
   {
    "duration": 11,
    "start_time": "2023-12-28T21:18:52.991Z"
   },
   {
    "duration": 12,
    "start_time": "2023-12-28T21:19:05.291Z"
   },
   {
    "duration": 4,
    "start_time": "2023-12-28T21:20:07.185Z"
   },
   {
    "duration": 8,
    "start_time": "2023-12-28T21:21:12.420Z"
   },
   {
    "duration": 147,
    "start_time": "2023-12-28T21:21:12.725Z"
   },
   {
    "duration": 8,
    "start_time": "2023-12-28T21:21:12.874Z"
   },
   {
    "duration": 149,
    "start_time": "2023-12-28T21:21:13.382Z"
   },
   {
    "duration": 9,
    "start_time": "2023-12-28T21:21:13.535Z"
   },
   {
    "duration": 152,
    "start_time": "2023-12-28T21:21:13.545Z"
   },
   {
    "duration": 9,
    "start_time": "2023-12-28T21:21:13.699Z"
   },
   {
    "duration": 14,
    "start_time": "2023-12-28T21:21:13.709Z"
   },
   {
    "duration": 75,
    "start_time": "2023-12-28T21:21:13.725Z"
   },
   {
    "duration": 81,
    "start_time": "2023-12-28T21:21:13.802Z"
   },
   {
    "duration": 82,
    "start_time": "2023-12-28T21:21:13.885Z"
   },
   {
    "duration": 17,
    "start_time": "2023-12-28T21:21:13.969Z"
   },
   {
    "duration": 35,
    "start_time": "2023-12-28T21:21:13.988Z"
   },
   {
    "duration": 26,
    "start_time": "2023-12-28T21:21:14.026Z"
   },
   {
    "duration": 11,
    "start_time": "2023-12-28T21:21:14.054Z"
   },
   {
    "duration": 811,
    "start_time": "2023-12-28T21:21:14.066Z"
   },
   {
    "duration": 798,
    "start_time": "2023-12-28T21:21:14.879Z"
   },
   {
    "duration": 804,
    "start_time": "2023-12-28T21:21:15.679Z"
   },
   {
    "duration": 17,
    "start_time": "2023-12-28T21:21:16.486Z"
   },
   {
    "duration": 393,
    "start_time": "2023-12-28T21:21:16.505Z"
   },
   {
    "duration": 16,
    "start_time": "2023-12-28T21:21:16.899Z"
   },
   {
    "duration": 379,
    "start_time": "2023-12-28T21:21:16.916Z"
   },
   {
    "duration": 17,
    "start_time": "2023-12-28T21:21:17.297Z"
   },
   {
    "duration": 386,
    "start_time": "2023-12-28T21:21:17.323Z"
   },
   {
    "duration": 3,
    "start_time": "2023-12-28T21:21:17.710Z"
   },
   {
    "duration": 20,
    "start_time": "2023-12-28T21:21:17.714Z"
   },
   {
    "duration": 21,
    "start_time": "2023-12-28T21:21:17.736Z"
   },
   {
    "duration": 14,
    "start_time": "2023-12-28T21:21:17.759Z"
   },
   {
    "duration": 11,
    "start_time": "2023-12-28T21:21:17.775Z"
   },
   {
    "duration": 5,
    "start_time": "2023-12-28T21:21:17.827Z"
   },
   {
    "duration": 6,
    "start_time": "2023-12-28T21:21:31.787Z"
   },
   {
    "duration": 15,
    "start_time": "2023-12-28T21:21:48.550Z"
   },
   {
    "duration": 16,
    "start_time": "2023-12-28T21:21:54.662Z"
   },
   {
    "duration": 4,
    "start_time": "2023-12-28T21:22:14.383Z"
   },
   {
    "duration": 4,
    "start_time": "2023-12-28T21:22:20.354Z"
   },
   {
    "duration": 6,
    "start_time": "2023-12-28T21:23:45.383Z"
   },
   {
    "duration": 4,
    "start_time": "2023-12-28T21:23:45.794Z"
   },
   {
    "duration": 16,
    "start_time": "2023-12-28T21:25:23.073Z"
   },
   {
    "duration": 8,
    "start_time": "2023-12-28T21:25:26.353Z"
   },
   {
    "duration": 4,
    "start_time": "2023-12-28T21:25:26.542Z"
   },
   {
    "duration": 5,
    "start_time": "2023-12-28T21:25:26.718Z"
   },
   {
    "duration": 5,
    "start_time": "2023-12-28T21:25:26.913Z"
   },
   {
    "duration": 11,
    "start_time": "2023-12-28T21:25:27.070Z"
   },
   {
    "duration": 11,
    "start_time": "2023-12-28T21:25:27.580Z"
   },
   {
    "duration": 14,
    "start_time": "2023-12-28T21:25:27.607Z"
   },
   {
    "duration": 5,
    "start_time": "2023-12-28T21:25:27.640Z"
   },
   {
    "duration": 9,
    "start_time": "2023-12-28T21:25:27.726Z"
   },
   {
    "duration": 5,
    "start_time": "2023-12-28T21:25:27.738Z"
   },
   {
    "duration": 12,
    "start_time": "2023-12-28T21:25:27.823Z"
   },
   {
    "duration": 5,
    "start_time": "2023-12-28T21:25:27.839Z"
   },
   {
    "duration": 34,
    "start_time": "2023-12-28T21:25:27.845Z"
   },
   {
    "duration": 15,
    "start_time": "2023-12-28T21:25:27.880Z"
   },
   {
    "duration": 11,
    "start_time": "2023-12-28T21:25:27.897Z"
   },
   {
    "duration": 7,
    "start_time": "2023-12-28T21:25:27.923Z"
   },
   {
    "duration": 11,
    "start_time": "2023-12-28T21:25:27.932Z"
   },
   {
    "duration": 4,
    "start_time": "2023-12-28T21:25:28.103Z"
   },
   {
    "duration": 5,
    "start_time": "2023-12-28T21:25:28.266Z"
   },
   {
    "duration": 6,
    "start_time": "2023-12-28T21:25:28.573Z"
   },
   {
    "duration": 3,
    "start_time": "2023-12-28T21:25:28.716Z"
   },
   {
    "duration": 3,
    "start_time": "2023-12-28T21:25:28.856Z"
   },
   {
    "duration": 3,
    "start_time": "2023-12-28T21:25:29.001Z"
   },
   {
    "duration": 12,
    "start_time": "2023-12-28T21:25:29.142Z"
   },
   {
    "duration": 13,
    "start_time": "2023-12-28T21:25:29.280Z"
   },
   {
    "duration": 3,
    "start_time": "2023-12-28T21:25:29.437Z"
   },
   {
    "duration": 11,
    "start_time": "2023-12-28T21:25:29.568Z"
   },
   {
    "duration": 12,
    "start_time": "2023-12-28T21:25:29.796Z"
   },
   {
    "duration": 3,
    "start_time": "2023-12-28T21:25:29.939Z"
   },
   {
    "duration": 11,
    "start_time": "2023-12-28T21:25:30.101Z"
   },
   {
    "duration": 13,
    "start_time": "2023-12-28T21:25:30.250Z"
   },
   {
    "duration": 4,
    "start_time": "2023-12-28T21:25:30.393Z"
   },
   {
    "duration": 3,
    "start_time": "2023-12-28T21:30:30.208Z"
   },
   {
    "duration": 14,
    "start_time": "2023-12-28T21:30:30.496Z"
   },
   {
    "duration": 14,
    "start_time": "2023-12-28T21:30:30.808Z"
   },
   {
    "duration": 19,
    "start_time": "2023-12-28T21:30:32.029Z"
   },
   {
    "duration": 18,
    "start_time": "2023-12-28T21:30:32.479Z"
   },
   {
    "duration": 4,
    "start_time": "2023-12-28T21:30:35.084Z"
   },
   {
    "duration": 13,
    "start_time": "2023-12-28T21:30:56.980Z"
   },
   {
    "duration": 15,
    "start_time": "2023-12-28T21:31:57.878Z"
   },
   {
    "duration": 12,
    "start_time": "2023-12-28T21:32:10.820Z"
   },
   {
    "duration": 19,
    "start_time": "2023-12-28T21:32:33.823Z"
   },
   {
    "duration": 3,
    "start_time": "2023-12-28T21:32:54.170Z"
   },
   {
    "duration": 2,
    "start_time": "2023-12-28T21:33:33.037Z"
   },
   {
    "duration": 5,
    "start_time": "2023-12-28T21:33:33.478Z"
   },
   {
    "duration": 12,
    "start_time": "2023-12-28T21:33:34.688Z"
   },
   {
    "duration": 17,
    "start_time": "2023-12-28T21:33:52.940Z"
   },
   {
    "duration": 15,
    "start_time": "2023-12-28T21:33:58.641Z"
   },
   {
    "duration": 4,
    "start_time": "2023-12-28T21:34:05.207Z"
   },
   {
    "duration": 7,
    "start_time": "2023-12-28T21:34:05.751Z"
   },
   {
    "duration": 4,
    "start_time": "2023-12-28T21:34:08.506Z"
   },
   {
    "duration": 5,
    "start_time": "2023-12-28T21:34:09.773Z"
   },
   {
    "duration": 4,
    "start_time": "2023-12-28T21:34:19.709Z"
   },
   {
    "duration": 13,
    "start_time": "2023-12-28T21:34:48.237Z"
   },
   {
    "duration": 5,
    "start_time": "2023-12-28T21:34:50.705Z"
   },
   {
    "duration": 11,
    "start_time": "2023-12-28T21:34:50.899Z"
   },
   {
    "duration": 14,
    "start_time": "2023-12-28T21:34:51.115Z"
   },
   {
    "duration": 16,
    "start_time": "2023-12-28T21:34:51.635Z"
   },
   {
    "duration": 3,
    "start_time": "2023-12-28T21:34:57.498Z"
   },
   {
    "duration": 7,
    "start_time": "2023-12-28T21:34:57.816Z"
   },
   {
    "duration": 4,
    "start_time": "2023-12-28T21:34:59.585Z"
   },
   {
    "duration": 6,
    "start_time": "2023-12-28T21:35:00.635Z"
   },
   {
    "duration": 4,
    "start_time": "2023-12-28T21:35:28.225Z"
   },
   {
    "duration": 11,
    "start_time": "2023-12-28T21:35:30.021Z"
   },
   {
    "duration": 15,
    "start_time": "2023-12-28T21:35:48.556Z"
   },
   {
    "duration": 16,
    "start_time": "2023-12-28T21:35:54.379Z"
   },
   {
    "duration": 3,
    "start_time": "2023-12-28T21:35:55.053Z"
   },
   {
    "duration": 8,
    "start_time": "2023-12-28T21:35:55.599Z"
   },
   {
    "duration": 5,
    "start_time": "2023-12-28T21:35:56.647Z"
   },
   {
    "duration": 5,
    "start_time": "2023-12-28T21:36:02.021Z"
   },
   {
    "duration": 159,
    "start_time": "2023-12-28T21:36:02.319Z"
   },
   {
    "duration": 9,
    "start_time": "2023-12-28T21:36:02.480Z"
   },
   {
    "duration": 132,
    "start_time": "2023-12-28T21:36:02.596Z"
   },
   {
    "duration": 10,
    "start_time": "2023-12-28T21:36:02.742Z"
   },
   {
    "duration": 144,
    "start_time": "2023-12-28T21:36:02.873Z"
   },
   {
    "duration": 11,
    "start_time": "2023-12-28T21:36:03.018Z"
   },
   {
    "duration": 3,
    "start_time": "2023-12-28T21:36:03.146Z"
   },
   {
    "duration": 62,
    "start_time": "2023-12-28T21:36:03.278Z"
   },
   {
    "duration": 55,
    "start_time": "2023-12-28T21:36:03.408Z"
   },
   {
    "duration": 57,
    "start_time": "2023-12-28T21:36:03.552Z"
   },
   {
    "duration": 20,
    "start_time": "2023-12-28T21:36:03.693Z"
   },
   {
    "duration": 21,
    "start_time": "2023-12-28T21:36:03.829Z"
   },
   {
    "duration": 18,
    "start_time": "2023-12-28T21:36:03.973Z"
   },
   {
    "duration": 5,
    "start_time": "2023-12-28T21:36:04.109Z"
   },
   {
    "duration": 906,
    "start_time": "2023-12-28T21:36:04.248Z"
   },
   {
    "duration": 738,
    "start_time": "2023-12-28T21:36:05.156Z"
   },
   {
    "duration": 748,
    "start_time": "2023-12-28T21:36:05.896Z"
   },
   {
    "duration": 15,
    "start_time": "2023-12-28T21:36:06.646Z"
   },
   {
    "duration": 375,
    "start_time": "2023-12-28T21:36:06.663Z"
   },
   {
    "duration": 15,
    "start_time": "2023-12-28T21:36:07.093Z"
   },
   {
    "duration": 365,
    "start_time": "2023-12-28T21:36:07.337Z"
   },
   {
    "duration": 15,
    "start_time": "2023-12-28T21:36:07.716Z"
   },
   {
    "duration": 366,
    "start_time": "2023-12-28T21:36:08.163Z"
   },
   {
    "duration": 3,
    "start_time": "2023-12-28T21:36:09.379Z"
   },
   {
    "duration": 5,
    "start_time": "2023-12-28T21:36:09.666Z"
   },
   {
    "duration": 10,
    "start_time": "2023-12-28T21:36:09.968Z"
   },
   {
    "duration": 10,
    "start_time": "2023-12-28T21:36:10.276Z"
   },
   {
    "duration": 15,
    "start_time": "2023-12-28T21:36:10.886Z"
   },
   {
    "duration": 3,
    "start_time": "2023-12-28T21:36:11.289Z"
   },
   {
    "duration": 6,
    "start_time": "2023-12-28T21:36:12.012Z"
   },
   {
    "duration": 4,
    "start_time": "2023-12-28T21:36:13.982Z"
   },
   {
    "duration": 5,
    "start_time": "2023-12-28T21:36:16.613Z"
   },
   {
    "duration": 4,
    "start_time": "2023-12-28T21:36:18.998Z"
   },
   {
    "duration": 10,
    "start_time": "2023-12-28T21:36:22.479Z"
   },
   {
    "duration": 11,
    "start_time": "2023-12-28T21:36:23.516Z"
   },
   {
    "duration": 14,
    "start_time": "2023-12-28T21:36:26.783Z"
   },
   {
    "duration": 3,
    "start_time": "2023-12-28T21:36:28.101Z"
   },
   {
    "duration": 6,
    "start_time": "2023-12-28T21:36:28.534Z"
   },
   {
    "duration": 4,
    "start_time": "2023-12-28T21:36:35.209Z"
   },
   {
    "duration": 5,
    "start_time": "2023-12-28T21:36:38.662Z"
   },
   {
    "duration": 5,
    "start_time": "2023-12-28T21:36:39.443Z"
   },
   {
    "duration": 10,
    "start_time": "2023-12-28T21:36:39.697Z"
   },
   {
    "duration": 9,
    "start_time": "2023-12-28T21:36:42.798Z"
   },
   {
    "duration": 10,
    "start_time": "2023-12-28T21:36:43.336Z"
   },
   {
    "duration": 16,
    "start_time": "2023-12-28T21:36:44.129Z"
   },
   {
    "duration": 3,
    "start_time": "2023-12-28T21:36:45.116Z"
   },
   {
    "duration": 7,
    "start_time": "2023-12-28T21:36:53.121Z"
   },
   {
    "duration": 6,
    "start_time": "2023-12-28T21:36:53.617Z"
   },
   {
    "duration": 4,
    "start_time": "2023-12-28T21:36:57.766Z"
   },
   {
    "duration": 4,
    "start_time": "2023-12-28T21:38:20.853Z"
   },
   {
    "duration": 5,
    "start_time": "2023-12-28T21:38:34.389Z"
   },
   {
    "duration": 3,
    "start_time": "2023-12-28T21:38:34.570Z"
   },
   {
    "duration": 4,
    "start_time": "2023-12-28T21:38:34.716Z"
   },
   {
    "duration": 4,
    "start_time": "2023-12-28T21:38:34.882Z"
   },
   {
    "duration": 12,
    "start_time": "2023-12-28T21:38:35.026Z"
   },
   {
    "duration": 12,
    "start_time": "2023-12-28T21:38:35.180Z"
   },
   {
    "duration": 3,
    "start_time": "2023-12-28T21:38:35.366Z"
   },
   {
    "duration": 11,
    "start_time": "2023-12-28T21:38:36.021Z"
   },
   {
    "duration": 13,
    "start_time": "2023-12-28T21:38:36.203Z"
   },
   {
    "duration": 3,
    "start_time": "2023-12-28T21:38:36.360Z"
   },
   {
    "duration": 11,
    "start_time": "2023-12-28T21:38:36.720Z"
   },
   {
    "duration": 11,
    "start_time": "2023-12-28T21:38:36.892Z"
   },
   {
    "duration": 3,
    "start_time": "2023-12-28T21:38:37.312Z"
   },
   {
    "duration": 14,
    "start_time": "2023-12-28T21:38:53.109Z"
   },
   {
    "duration": 146,
    "start_time": "2023-12-28T21:41:19.332Z"
   },
   {
    "duration": 10,
    "start_time": "2023-12-28T21:41:19.479Z"
   },
   {
    "duration": 126,
    "start_time": "2023-12-28T21:41:19.602Z"
   },
   {
    "duration": 8,
    "start_time": "2023-12-28T21:41:19.732Z"
   },
   {
    "duration": 129,
    "start_time": "2023-12-28T21:41:19.865Z"
   },
   {
    "duration": 9,
    "start_time": "2023-12-28T21:41:19.998Z"
   },
   {
    "duration": 3,
    "start_time": "2023-12-28T21:41:20.130Z"
   },
   {
    "duration": 56,
    "start_time": "2023-12-28T21:41:20.269Z"
   },
   {
    "duration": 58,
    "start_time": "2023-12-28T21:41:20.399Z"
   },
   {
    "duration": 62,
    "start_time": "2023-12-28T21:41:20.529Z"
   },
   {
    "duration": 19,
    "start_time": "2023-12-28T21:41:20.656Z"
   },
   {
    "duration": 17,
    "start_time": "2023-12-28T21:41:20.777Z"
   },
   {
    "duration": 17,
    "start_time": "2023-12-28T21:41:20.887Z"
   },
   {
    "duration": 4,
    "start_time": "2023-12-28T21:41:21.036Z"
   },
   {
    "duration": 712,
    "start_time": "2023-12-28T21:41:21.166Z"
   },
   {
    "duration": 844,
    "start_time": "2023-12-28T21:41:21.880Z"
   },
   {
    "duration": 734,
    "start_time": "2023-12-28T21:41:22.725Z"
   },
   {
    "duration": 17,
    "start_time": "2023-12-28T21:41:23.461Z"
   },
   {
    "duration": 399,
    "start_time": "2023-12-28T21:41:23.480Z"
   },
   {
    "duration": 16,
    "start_time": "2023-12-28T21:41:23.880Z"
   },
   {
    "duration": 366,
    "start_time": "2023-12-28T21:41:23.898Z"
   },
   {
    "duration": 16,
    "start_time": "2023-12-28T21:41:24.265Z"
   },
   {
    "duration": 380,
    "start_time": "2023-12-28T21:41:24.282Z"
   },
   {
    "duration": 967,
    "start_time": "2023-12-28T21:41:24.664Z"
   },
   {
    "duration": 928,
    "start_time": "2023-12-28T21:41:32.045Z"
   },
   {
    "duration": 926,
    "start_time": "2023-12-28T21:41:37.292Z"
   },
   {
    "duration": 635,
    "start_time": "2023-12-28T21:41:41.226Z"
   },
   {
    "duration": 867,
    "start_time": "2023-12-28T21:42:34.639Z"
   },
   {
    "duration": 951,
    "start_time": "2023-12-28T21:42:38.759Z"
   },
   {
    "duration": 3,
    "start_time": "2023-12-28T21:44:23.071Z"
   },
   {
    "duration": 5,
    "start_time": "2023-12-28T21:44:23.328Z"
   },
   {
    "duration": 12,
    "start_time": "2023-12-28T21:44:23.935Z"
   },
   {
    "duration": 13,
    "start_time": "2023-12-28T21:44:24.160Z"
   },
   {
    "duration": 18,
    "start_time": "2023-12-28T21:44:24.375Z"
   },
   {
    "duration": 3,
    "start_time": "2023-12-28T21:44:25.629Z"
   },
   {
    "duration": 8,
    "start_time": "2023-12-28T21:44:26.026Z"
   },
   {
    "duration": 4,
    "start_time": "2023-12-28T21:44:26.616Z"
   },
   {
    "duration": 4,
    "start_time": "2023-12-28T21:44:27.681Z"
   },
   {
    "duration": 4,
    "start_time": "2023-12-28T21:44:33.338Z"
   },
   {
    "duration": 11,
    "start_time": "2023-12-28T21:44:33.831Z"
   },
   {
    "duration": 13,
    "start_time": "2023-12-28T21:44:34.028Z"
   },
   {
    "duration": 14,
    "start_time": "2023-12-28T21:44:34.220Z"
   },
   {
    "duration": 5,
    "start_time": "2023-12-28T21:44:34.679Z"
   },
   {
    "duration": 7,
    "start_time": "2023-12-28T21:44:36.387Z"
   },
   {
    "duration": 4,
    "start_time": "2023-12-28T21:44:37.236Z"
   },
   {
    "duration": 5,
    "start_time": "2023-12-28T21:44:38.124Z"
   },
   {
    "duration": 6,
    "start_time": "2023-12-28T21:44:42.640Z"
   },
   {
    "duration": 12,
    "start_time": "2023-12-28T21:44:42.892Z"
   },
   {
    "duration": 13,
    "start_time": "2023-12-28T21:44:43.100Z"
   },
   {
    "duration": 22,
    "start_time": "2023-12-28T21:44:43.280Z"
   },
   {
    "duration": 65,
    "start_time": "2023-12-28T21:44:43.432Z"
   },
   {
    "duration": 68,
    "start_time": "2023-12-28T21:44:43.597Z"
   },
   {
    "duration": 158,
    "start_time": "2023-12-28T21:44:43.756Z"
   },
   {
    "duration": 200,
    "start_time": "2023-12-28T21:44:43.917Z"
   },
   {
    "duration": 207,
    "start_time": "2023-12-28T21:44:44.119Z"
   },
   {
    "duration": 31,
    "start_time": "2023-12-28T21:44:44.525Z"
   },
   {
    "duration": 4,
    "start_time": "2023-12-28T21:44:44.674Z"
   },
   {
    "duration": 4,
    "start_time": "2023-12-28T21:44:44.830Z"
   },
   {
    "duration": 4,
    "start_time": "2023-12-28T21:44:44.970Z"
   },
   {
    "duration": 11,
    "start_time": "2023-12-28T21:44:45.119Z"
   },
   {
    "duration": 12,
    "start_time": "2023-12-28T21:44:45.267Z"
   },
   {
    "duration": 3,
    "start_time": "2023-12-28T21:44:45.413Z"
   },
   {
    "duration": 10,
    "start_time": "2023-12-28T21:44:45.571Z"
   },
   {
    "duration": 12,
    "start_time": "2023-12-28T21:44:46.054Z"
   },
   {
    "duration": 4,
    "start_time": "2023-12-28T21:44:46.209Z"
   },
   {
    "duration": 11,
    "start_time": "2023-12-28T21:44:46.362Z"
   },
   {
    "duration": 12,
    "start_time": "2023-12-28T21:44:46.518Z"
   },
   {
    "duration": 3,
    "start_time": "2023-12-28T21:44:46.666Z"
   },
   {
    "duration": 13,
    "start_time": "2023-12-28T21:44:47.638Z"
   },
   {
    "duration": 10,
    "start_time": "2023-12-28T21:47:29.245Z"
   },
   {
    "duration": 6,
    "start_time": "2023-12-28T21:48:01.761Z"
   },
   {
    "duration": 8,
    "start_time": "2023-12-28T21:48:10.811Z"
   },
   {
    "duration": 8,
    "start_time": "2023-12-28T21:48:14.040Z"
   },
   {
    "duration": 11,
    "start_time": "2023-12-28T21:48:26.994Z"
   },
   {
    "duration": 10,
    "start_time": "2023-12-28T21:48:37.817Z"
   },
   {
    "duration": 8,
    "start_time": "2023-12-28T21:50:07.531Z"
   },
   {
    "duration": 9,
    "start_time": "2023-12-28T21:50:34.920Z"
   },
   {
    "duration": 9,
    "start_time": "2023-12-28T21:50:43.595Z"
   },
   {
    "duration": 8,
    "start_time": "2023-12-28T21:51:18.862Z"
   },
   {
    "duration": 5,
    "start_time": "2023-12-28T21:51:19.719Z"
   },
   {
    "duration": 3,
    "start_time": "2023-12-28T21:52:14.692Z"
   },
   {
    "duration": 3,
    "start_time": "2023-12-28T21:53:58.101Z"
   },
   {
    "duration": 18,
    "start_time": "2023-12-28T21:54:22.750Z"
   },
   {
    "duration": 3,
    "start_time": "2023-12-28T21:57:15.298Z"
   },
   {
    "duration": 6,
    "start_time": "2023-12-28T21:57:29.800Z"
   },
   {
    "duration": 7,
    "start_time": "2023-12-28T21:57:41.786Z"
   },
   {
    "duration": 6,
    "start_time": "2023-12-28T21:58:14.613Z"
   },
   {
    "duration": 6,
    "start_time": "2023-12-28T22:02:17.777Z"
   },
   {
    "duration": 8,
    "start_time": "2023-12-28T22:02:44.584Z"
   },
   {
    "duration": 12,
    "start_time": "2023-12-28T22:03:42.422Z"
   },
   {
    "duration": 18,
    "start_time": "2023-12-28T22:03:48.903Z"
   },
   {
    "duration": 5,
    "start_time": "2023-12-28T22:04:32.114Z"
   },
   {
    "duration": 7,
    "start_time": "2023-12-28T22:04:36.764Z"
   },
   {
    "duration": 18,
    "start_time": "2023-12-28T22:04:36.972Z"
   },
   {
    "duration": 18,
    "start_time": "2023-12-28T22:05:04.798Z"
   },
   {
    "duration": 14,
    "start_time": "2023-12-28T22:05:52.163Z"
   },
   {
    "duration": 2,
    "start_time": "2023-12-28T22:06:09.323Z"
   },
   {
    "duration": 12,
    "start_time": "2023-12-28T22:06:09.607Z"
   },
   {
    "duration": 15,
    "start_time": "2023-12-28T22:06:09.845Z"
   },
   {
    "duration": 19,
    "start_time": "2023-12-28T22:06:10.097Z"
   },
   {
    "duration": 27,
    "start_time": "2023-12-28T22:06:10.644Z"
   },
   {
    "duration": 14,
    "start_time": "2023-12-28T22:06:23.922Z"
   },
   {
    "duration": 25,
    "start_time": "2023-12-28T22:06:34.374Z"
   },
   {
    "duration": 25,
    "start_time": "2023-12-28T22:07:01.044Z"
   },
   {
    "duration": 5,
    "start_time": "2023-12-28T22:07:15.120Z"
   },
   {
    "duration": 4,
    "start_time": "2023-12-28T22:07:41.822Z"
   },
   {
    "duration": 5,
    "start_time": "2023-12-28T22:07:56.396Z"
   },
   {
    "duration": 1437,
    "start_time": "2023-12-28T22:08:32.109Z"
   },
   {
    "duration": 5,
    "start_time": "2023-12-28T22:09:05.908Z"
   },
   {
    "duration": 1551,
    "start_time": "2023-12-28T22:09:10.362Z"
   },
   {
    "duration": 1540,
    "start_time": "2023-12-28T22:09:25.361Z"
   },
   {
    "duration": 1650,
    "start_time": "2023-12-28T22:09:26.903Z"
   },
   {
    "duration": 1582,
    "start_time": "2023-12-28T22:09:34.472Z"
   },
   {
    "duration": 12,
    "start_time": "2023-12-28T22:33:29.962Z"
   },
   {
    "duration": 1667,
    "start_time": "2023-12-28T22:33:30.288Z"
   },
   {
    "duration": 1644,
    "start_time": "2023-12-28T22:33:31.957Z"
   },
   {
    "duration": 1852,
    "start_time": "2023-12-28T22:33:33.602Z"
   },
   {
    "duration": 7,
    "start_time": "2023-12-28T22:33:37.707Z"
   },
   {
    "duration": 1705,
    "start_time": "2023-12-28T22:33:37.874Z"
   },
   {
    "duration": 1697,
    "start_time": "2023-12-28T22:33:39.581Z"
   },
   {
    "duration": 1677,
    "start_time": "2023-12-28T22:33:41.280Z"
   },
   {
    "duration": 5295,
    "start_time": "2023-12-28T22:51:03.462Z"
   },
   {
    "duration": 1175,
    "start_time": "2023-12-28T22:51:08.759Z"
   },
   {
    "duration": 150,
    "start_time": "2023-12-28T22:51:09.935Z"
   },
   {
    "duration": 12,
    "start_time": "2023-12-28T22:51:10.087Z"
   },
   {
    "duration": 136,
    "start_time": "2023-12-28T22:51:10.101Z"
   },
   {
    "duration": 9,
    "start_time": "2023-12-28T22:51:10.238Z"
   },
   {
    "duration": 134,
    "start_time": "2023-12-28T22:51:10.249Z"
   },
   {
    "duration": 9,
    "start_time": "2023-12-28T22:51:10.384Z"
   },
   {
    "duration": 3,
    "start_time": "2023-12-28T22:51:10.395Z"
   },
   {
    "duration": 75,
    "start_time": "2023-12-28T22:51:10.400Z"
   },
   {
    "duration": 65,
    "start_time": "2023-12-28T22:51:10.477Z"
   },
   {
    "duration": 61,
    "start_time": "2023-12-28T22:51:10.544Z"
   },
   {
    "duration": 27,
    "start_time": "2023-12-28T22:51:10.606Z"
   },
   {
    "duration": 26,
    "start_time": "2023-12-28T22:51:10.636Z"
   },
   {
    "duration": 21,
    "start_time": "2023-12-28T22:51:10.664Z"
   },
   {
    "duration": 5,
    "start_time": "2023-12-28T22:51:10.687Z"
   },
   {
    "duration": 784,
    "start_time": "2023-12-28T22:51:10.694Z"
   },
   {
    "duration": 767,
    "start_time": "2023-12-28T22:51:11.480Z"
   },
   {
    "duration": 719,
    "start_time": "2023-12-28T22:51:12.248Z"
   },
   {
    "duration": 17,
    "start_time": "2023-12-28T22:51:12.968Z"
   },
   {
    "duration": 386,
    "start_time": "2023-12-28T22:51:12.987Z"
   },
   {
    "duration": 17,
    "start_time": "2023-12-28T22:51:13.375Z"
   },
   {
    "duration": 388,
    "start_time": "2023-12-28T22:51:13.394Z"
   },
   {
    "duration": 16,
    "start_time": "2023-12-28T22:51:13.784Z"
   },
   {
    "duration": 368,
    "start_time": "2023-12-28T22:51:13.801Z"
   },
   {
    "duration": 1000,
    "start_time": "2023-12-28T22:51:14.171Z"
   },
   {
    "duration": 844,
    "start_time": "2023-12-28T22:51:15.173Z"
   },
   {
    "duration": 964,
    "start_time": "2023-12-28T22:51:16.021Z"
   },
   {
    "duration": 2,
    "start_time": "2023-12-28T22:51:16.987Z"
   },
   {
    "duration": 14,
    "start_time": "2023-12-28T22:51:16.991Z"
   },
   {
    "duration": 23,
    "start_time": "2023-12-28T22:51:17.007Z"
   },
   {
    "duration": 16,
    "start_time": "2023-12-28T22:51:17.031Z"
   },
   {
    "duration": 16,
    "start_time": "2023-12-28T22:51:17.049Z"
   },
   {
    "duration": 57,
    "start_time": "2023-12-28T22:51:17.067Z"
   },
   {
    "duration": 96,
    "start_time": "2023-12-28T22:51:17.126Z"
   },
   {
    "duration": 6,
    "start_time": "2023-12-28T22:51:17.224Z"
   },
   {
    "duration": 115,
    "start_time": "2023-12-28T22:51:17.231Z"
   },
   {
    "duration": 0,
    "start_time": "2023-12-28T22:51:17.348Z"
   },
   {
    "duration": 0,
    "start_time": "2023-12-28T22:51:17.350Z"
   },
   {
    "duration": 0,
    "start_time": "2023-12-28T22:51:17.351Z"
   },
   {
    "duration": 0,
    "start_time": "2023-12-28T22:51:17.352Z"
   },
   {
    "duration": 0,
    "start_time": "2023-12-28T22:51:17.353Z"
   },
   {
    "duration": 0,
    "start_time": "2023-12-28T22:51:17.354Z"
   },
   {
    "duration": 0,
    "start_time": "2023-12-28T22:51:17.355Z"
   },
   {
    "duration": 0,
    "start_time": "2023-12-28T22:51:17.356Z"
   },
   {
    "duration": 0,
    "start_time": "2023-12-28T22:51:17.357Z"
   },
   {
    "duration": 0,
    "start_time": "2023-12-28T22:51:17.358Z"
   },
   {
    "duration": 0,
    "start_time": "2023-12-28T22:51:17.359Z"
   },
   {
    "duration": 0,
    "start_time": "2023-12-28T22:51:17.360Z"
   },
   {
    "duration": 0,
    "start_time": "2023-12-28T22:51:17.361Z"
   },
   {
    "duration": 0,
    "start_time": "2023-12-28T22:51:17.362Z"
   },
   {
    "duration": 0,
    "start_time": "2023-12-28T22:51:17.364Z"
   },
   {
    "duration": 0,
    "start_time": "2023-12-28T22:51:17.365Z"
   },
   {
    "duration": 0,
    "start_time": "2023-12-28T22:51:17.366Z"
   },
   {
    "duration": 0,
    "start_time": "2023-12-28T22:51:17.367Z"
   },
   {
    "duration": 0,
    "start_time": "2023-12-28T22:51:17.368Z"
   },
   {
    "duration": 0,
    "start_time": "2023-12-28T22:51:17.369Z"
   },
   {
    "duration": 0,
    "start_time": "2023-12-28T22:51:17.370Z"
   },
   {
    "duration": 0,
    "start_time": "2023-12-28T22:51:17.372Z"
   },
   {
    "duration": 0,
    "start_time": "2023-12-28T22:51:17.373Z"
   },
   {
    "duration": 0,
    "start_time": "2023-12-28T22:51:17.374Z"
   },
   {
    "duration": 0,
    "start_time": "2023-12-28T22:51:17.375Z"
   },
   {
    "duration": 0,
    "start_time": "2023-12-28T22:51:17.376Z"
   },
   {
    "duration": 0,
    "start_time": "2023-12-28T22:51:17.423Z"
   },
   {
    "duration": 0,
    "start_time": "2023-12-28T22:51:17.424Z"
   },
   {
    "duration": 0,
    "start_time": "2023-12-28T22:51:17.425Z"
   },
   {
    "duration": 0,
    "start_time": "2023-12-28T22:51:17.426Z"
   },
   {
    "duration": 0,
    "start_time": "2023-12-28T22:51:17.428Z"
   },
   {
    "duration": 0,
    "start_time": "2023-12-28T22:51:17.429Z"
   },
   {
    "duration": 0,
    "start_time": "2023-12-28T22:51:17.430Z"
   },
   {
    "duration": 0,
    "start_time": "2023-12-28T22:51:17.431Z"
   },
   {
    "duration": 0,
    "start_time": "2023-12-28T22:51:17.432Z"
   },
   {
    "duration": 0,
    "start_time": "2023-12-28T22:51:17.433Z"
   },
   {
    "duration": 0,
    "start_time": "2023-12-28T22:51:17.435Z"
   },
   {
    "duration": 0,
    "start_time": "2023-12-28T22:51:17.436Z"
   },
   {
    "duration": 11,
    "start_time": "2023-12-28T22:51:36.410Z"
   },
   {
    "duration": 20,
    "start_time": "2023-12-28T22:51:36.858Z"
   },
   {
    "duration": 13,
    "start_time": "2023-12-28T22:51:37.258Z"
   },
   {
    "duration": 3,
    "start_time": "2023-12-28T22:51:37.685Z"
   },
   {
    "duration": 7,
    "start_time": "2023-12-28T22:51:38.343Z"
   },
   {
    "duration": 4,
    "start_time": "2023-12-28T22:51:42.068Z"
   },
   {
    "duration": 5,
    "start_time": "2023-12-28T22:51:42.586Z"
   },
   {
    "duration": 4,
    "start_time": "2023-12-28T22:51:45.018Z"
   },
   {
    "duration": 12,
    "start_time": "2023-12-28T22:51:45.248Z"
   },
   {
    "duration": 13,
    "start_time": "2023-12-28T22:51:45.429Z"
   },
   {
    "duration": 15,
    "start_time": "2023-12-28T22:51:45.600Z"
   },
   {
    "duration": 3,
    "start_time": "2023-12-28T22:51:45.822Z"
   },
   {
    "duration": 6,
    "start_time": "2023-12-28T22:51:45.943Z"
   },
   {
    "duration": 4,
    "start_time": "2023-12-28T22:51:46.096Z"
   },
   {
    "duration": 5,
    "start_time": "2023-12-28T22:51:46.244Z"
   },
   {
    "duration": 4,
    "start_time": "2023-12-28T22:51:46.422Z"
   },
   {
    "duration": 13,
    "start_time": "2023-12-28T22:51:46.716Z"
   },
   {
    "duration": 15,
    "start_time": "2023-12-28T22:51:46.875Z"
   },
   {
    "duration": 14,
    "start_time": "2023-12-28T22:51:47.036Z"
   },
   {
    "duration": 3,
    "start_time": "2023-12-28T22:51:47.222Z"
   },
   {
    "duration": 7,
    "start_time": "2023-12-28T22:51:47.361Z"
   },
   {
    "duration": 4,
    "start_time": "2023-12-28T22:51:47.520Z"
   },
   {
    "duration": 4,
    "start_time": "2023-12-28T22:51:47.673Z"
   },
   {
    "duration": 3,
    "start_time": "2023-12-28T22:51:47.848Z"
   },
   {
    "duration": 4,
    "start_time": "2023-12-28T22:51:49.367Z"
   },
   {
    "duration": 4,
    "start_time": "2023-12-28T22:51:49.532Z"
   },
   {
    "duration": 3,
    "start_time": "2023-12-28T22:51:49.723Z"
   },
   {
    "duration": 4,
    "start_time": "2023-12-28T22:51:49.884Z"
   },
   {
    "duration": 13,
    "start_time": "2023-12-28T22:51:50.052Z"
   },
   {
    "duration": 12,
    "start_time": "2023-12-28T22:51:50.209Z"
   },
   {
    "duration": 4,
    "start_time": "2023-12-28T22:51:50.375Z"
   },
   {
    "duration": 10,
    "start_time": "2023-12-28T22:51:50.535Z"
   },
   {
    "duration": 14,
    "start_time": "2023-12-28T22:51:50.706Z"
   },
   {
    "duration": 4,
    "start_time": "2023-12-28T22:51:50.869Z"
   },
   {
    "duration": 11,
    "start_time": "2023-12-28T22:51:51.256Z"
   },
   {
    "duration": 13,
    "start_time": "2023-12-28T22:51:51.422Z"
   },
   {
    "duration": 4,
    "start_time": "2023-12-28T22:51:51.600Z"
   },
   {
    "duration": 3,
    "start_time": "2023-12-28T22:51:51.775Z"
   },
   {
    "duration": 8,
    "start_time": "2023-12-28T22:51:52.140Z"
   },
   {
    "duration": 7,
    "start_time": "2023-12-28T22:51:52.309Z"
   },
   {
    "duration": 8,
    "start_time": "2023-12-28T22:51:52.638Z"
   },
   {
    "duration": 8,
    "start_time": "2023-12-28T22:51:53.994Z"
   },
   {
    "duration": 1656,
    "start_time": "2023-12-28T22:51:54.420Z"
   },
   {
    "duration": 1688,
    "start_time": "2023-12-28T22:51:56.077Z"
   },
   {
    "duration": 1667,
    "start_time": "2023-12-28T22:51:57.766Z"
   },
   {
    "duration": 8728,
    "start_time": "2024-01-06T16:34:13.701Z"
   },
   {
    "duration": 1442,
    "start_time": "2024-01-06T16:34:31.742Z"
   },
   {
    "duration": 375,
    "start_time": "2024-01-06T16:34:34.602Z"
   },
   {
    "duration": 13,
    "start_time": "2024-01-06T16:34:34.978Z"
   },
   {
    "duration": 188,
    "start_time": "2024-01-06T16:34:35.153Z"
   },
   {
    "duration": 8,
    "start_time": "2024-01-06T16:34:35.460Z"
   },
   {
    "duration": 194,
    "start_time": "2024-01-06T16:34:35.527Z"
   },
   {
    "duration": 8,
    "start_time": "2024-01-06T16:34:35.767Z"
   },
   {
    "duration": 3,
    "start_time": "2024-01-06T16:34:36.013Z"
   },
   {
    "duration": 58,
    "start_time": "2024-01-06T16:34:36.125Z"
   },
   {
    "duration": 53,
    "start_time": "2024-01-06T16:34:36.277Z"
   },
   {
    "duration": 55,
    "start_time": "2024-01-06T16:34:36.583Z"
   },
   {
    "duration": 16,
    "start_time": "2024-01-06T16:34:36.640Z"
   },
   {
    "duration": 16,
    "start_time": "2024-01-06T16:34:36.825Z"
   },
   {
    "duration": 16,
    "start_time": "2024-01-06T16:34:37.084Z"
   },
   {
    "duration": 4,
    "start_time": "2024-01-06T16:34:37.402Z"
   },
   {
    "duration": 733,
    "start_time": "2024-01-06T16:34:37.408Z"
   },
   {
    "duration": 760,
    "start_time": "2024-01-06T16:34:38.142Z"
   },
   {
    "duration": 763,
    "start_time": "2024-01-06T16:34:38.904Z"
   },
   {
    "duration": 16,
    "start_time": "2024-01-06T16:34:39.669Z"
   },
   {
    "duration": 387,
    "start_time": "2024-01-06T16:34:39.686Z"
   },
   {
    "duration": 17,
    "start_time": "2024-01-06T16:34:40.074Z"
   },
   {
    "duration": 354,
    "start_time": "2024-01-06T16:34:40.092Z"
   },
   {
    "duration": 16,
    "start_time": "2024-01-06T16:34:41.200Z"
   },
   {
    "duration": 359,
    "start_time": "2024-01-06T16:34:41.581Z"
   },
   {
    "duration": 2,
    "start_time": "2024-01-06T16:34:44.425Z"
   },
   {
    "duration": 5,
    "start_time": "2024-01-06T16:34:45.012Z"
   },
   {
    "duration": 10,
    "start_time": "2024-01-06T16:34:45.505Z"
   },
   {
    "duration": 12,
    "start_time": "2024-01-06T16:34:45.993Z"
   },
   {
    "duration": 14,
    "start_time": "2024-01-06T16:34:46.325Z"
   },
   {
    "duration": 4,
    "start_time": "2024-01-06T16:34:46.639Z"
   },
   {
    "duration": 6,
    "start_time": "2024-01-06T16:34:46.953Z"
   },
   {
    "duration": 4,
    "start_time": "2024-01-06T16:34:47.613Z"
   },
   {
    "duration": 4,
    "start_time": "2024-01-06T16:34:48.405Z"
   },
   {
    "duration": 4,
    "start_time": "2024-01-06T16:34:50.065Z"
   },
   {
    "duration": 10,
    "start_time": "2024-01-06T16:34:50.345Z"
   },
   {
    "duration": 10,
    "start_time": "2024-01-06T16:34:50.803Z"
   },
   {
    "duration": 13,
    "start_time": "2024-01-06T16:34:51.552Z"
   },
   {
    "duration": 3,
    "start_time": "2024-01-06T16:34:55.205Z"
   },
   {
    "duration": 6,
    "start_time": "2024-01-06T16:34:55.564Z"
   },
   {
    "duration": 4,
    "start_time": "2024-01-06T16:34:57.112Z"
   },
   {
    "duration": 4,
    "start_time": "2024-01-06T16:34:57.585Z"
   },
   {
    "duration": 4,
    "start_time": "2024-01-06T16:34:58.433Z"
   },
   {
    "duration": 11,
    "start_time": "2024-01-06T16:34:59.144Z"
   },
   {
    "duration": 10,
    "start_time": "2024-01-06T16:34:59.421Z"
   },
   {
    "duration": 12,
    "start_time": "2024-01-06T16:34:59.665Z"
   },
   {
    "duration": 3,
    "start_time": "2024-01-06T16:35:00.805Z"
   },
   {
    "duration": 85,
    "start_time": "2024-01-06T16:35:01.072Z"
   },
   {
    "duration": 4,
    "start_time": "2024-01-06T16:35:01.768Z"
   },
   {
    "duration": 4,
    "start_time": "2024-01-06T16:35:02.024Z"
   },
   {
    "duration": 4,
    "start_time": "2024-01-06T16:35:02.519Z"
   },
   {
    "duration": 5,
    "start_time": "2024-01-06T16:35:21.432Z"
   },
   {
    "duration": 5,
    "start_time": "2024-01-06T16:37:09.759Z"
   },
   {
    "duration": 3,
    "start_time": "2024-01-06T16:37:10.653Z"
   },
   {
    "duration": 3,
    "start_time": "2024-01-06T16:37:20.913Z"
   },
   {
    "duration": 4,
    "start_time": "2024-01-06T16:37:48.353Z"
   },
   {
    "duration": 12,
    "start_time": "2024-01-06T16:37:54.673Z"
   },
   {
    "duration": 16,
    "start_time": "2024-01-06T16:38:18.035Z"
   },
   {
    "duration": 3,
    "start_time": "2024-01-06T16:38:59.751Z"
   },
   {
    "duration": 11,
    "start_time": "2024-01-06T16:39:03.692Z"
   },
   {
    "duration": 12,
    "start_time": "2024-01-06T16:39:04.285Z"
   },
   {
    "duration": 3,
    "start_time": "2024-01-06T16:39:04.812Z"
   },
   {
    "duration": 11,
    "start_time": "2024-01-06T16:39:08.213Z"
   },
   {
    "duration": 18,
    "start_time": "2024-01-06T16:39:12.033Z"
   },
   {
    "duration": 3,
    "start_time": "2024-01-06T16:39:13.789Z"
   },
   {
    "duration": 3,
    "start_time": "2024-01-06T16:39:34.706Z"
   },
   {
    "duration": 3,
    "start_time": "2024-01-06T16:39:39.956Z"
   },
   {
    "duration": 4,
    "start_time": "2024-01-06T16:39:57.765Z"
   },
   {
    "duration": 4,
    "start_time": "2024-01-06T16:40:19.072Z"
   },
   {
    "duration": 8,
    "start_time": "2024-01-06T16:40:21.492Z"
   },
   {
    "duration": 7,
    "start_time": "2024-01-06T16:40:23.534Z"
   },
   {
    "duration": 7,
    "start_time": "2024-01-06T16:40:27.089Z"
   },
   {
    "duration": 8,
    "start_time": "2024-01-06T16:42:02.732Z"
   },
   {
    "duration": 1531,
    "start_time": "2024-01-06T16:42:03.554Z"
   },
   {
    "duration": 1555,
    "start_time": "2024-01-06T16:42:05.087Z"
   },
   {
    "duration": 1529,
    "start_time": "2024-01-06T16:42:06.643Z"
   },
   {
    "duration": 5347,
    "start_time": "2024-04-14T12:53:34.074Z"
   },
   {
    "duration": 1029,
    "start_time": "2024-04-14T12:53:39.422Z"
   },
   {
    "duration": 580,
    "start_time": "2024-04-14T12:53:40.453Z"
   },
   {
    "duration": 10,
    "start_time": "2024-04-14T12:53:41.035Z"
   },
   {
    "duration": 506,
    "start_time": "2024-04-14T12:53:41.046Z"
   },
   {
    "duration": 7,
    "start_time": "2024-04-14T12:53:41.553Z"
   },
   {
    "duration": 517,
    "start_time": "2024-04-14T12:53:41.561Z"
   },
   {
    "duration": 15,
    "start_time": "2024-04-14T12:53:42.080Z"
   },
   {
    "duration": 11,
    "start_time": "2024-04-14T12:53:42.096Z"
   },
   {
    "duration": 50,
    "start_time": "2024-04-14T12:53:42.109Z"
   },
   {
    "duration": 59,
    "start_time": "2024-04-14T12:53:42.161Z"
   },
   {
    "duration": 51,
    "start_time": "2024-04-14T12:53:42.221Z"
   },
   {
    "duration": 26,
    "start_time": "2024-04-14T12:53:42.273Z"
   },
   {
    "duration": 13,
    "start_time": "2024-04-14T12:53:42.300Z"
   },
   {
    "duration": 19,
    "start_time": "2024-04-14T12:53:42.314Z"
   },
   {
    "duration": 4,
    "start_time": "2024-04-14T12:53:42.334Z"
   },
   {
    "duration": 660,
    "start_time": "2024-04-14T12:53:42.339Z"
   },
   {
    "duration": 629,
    "start_time": "2024-04-14T12:53:43.000Z"
   },
   {
    "duration": 619,
    "start_time": "2024-04-14T12:53:43.630Z"
   },
   {
    "duration": 14,
    "start_time": "2024-04-14T12:53:44.251Z"
   },
   {
    "duration": 336,
    "start_time": "2024-04-14T12:53:44.266Z"
   },
   {
    "duration": 16,
    "start_time": "2024-04-14T12:53:44.603Z"
   },
   {
    "duration": 306,
    "start_time": "2024-04-14T12:53:44.620Z"
   },
   {
    "duration": 13,
    "start_time": "2024-04-14T12:53:44.927Z"
   },
   {
    "duration": 354,
    "start_time": "2024-04-14T12:53:44.941Z"
   },
   {
    "duration": 3,
    "start_time": "2024-04-14T12:53:45.296Z"
   },
   {
    "duration": 46,
    "start_time": "2024-04-14T12:53:45.300Z"
   },
   {
    "duration": 52,
    "start_time": "2024-04-14T12:53:45.350Z"
   },
   {
    "duration": 35,
    "start_time": "2024-04-14T12:53:45.403Z"
   },
   {
    "duration": 49,
    "start_time": "2024-04-14T12:53:45.440Z"
   },
   {
    "duration": 2,
    "start_time": "2024-04-14T12:53:45.490Z"
   },
   {
    "duration": 99,
    "start_time": "2024-04-14T12:53:45.493Z"
   },
   {
    "duration": 8,
    "start_time": "2024-04-14T12:53:45.593Z"
   },
   {
    "duration": 21,
    "start_time": "2024-04-14T12:53:45.602Z"
   },
   {
    "duration": 7,
    "start_time": "2024-04-14T12:53:45.624Z"
   },
   {
    "duration": 10,
    "start_time": "2024-04-14T12:53:45.632Z"
   },
   {
    "duration": 17,
    "start_time": "2024-04-14T12:53:45.643Z"
   },
   {
    "duration": 11,
    "start_time": "2024-04-14T12:53:45.661Z"
   },
   {
    "duration": 17,
    "start_time": "2024-04-14T12:53:45.673Z"
   },
   {
    "duration": 12,
    "start_time": "2024-04-14T12:53:45.691Z"
   },
   {
    "duration": 80,
    "start_time": "2024-04-14T12:53:45.705Z"
   },
   {
    "duration": 8,
    "start_time": "2024-04-14T12:53:45.787Z"
   },
   {
    "duration": 6,
    "start_time": "2024-04-14T12:53:45.797Z"
   },
   {
    "duration": 20,
    "start_time": "2024-04-14T12:53:45.804Z"
   },
   {
    "duration": 67,
    "start_time": "2024-04-14T12:53:45.825Z"
   },
   {
    "duration": 11,
    "start_time": "2024-04-14T12:53:45.894Z"
   },
   {
    "duration": 7,
    "start_time": "2024-04-14T12:53:45.906Z"
   },
   {
    "duration": 7,
    "start_time": "2024-04-14T12:53:45.997Z"
   },
   {
    "duration": 15,
    "start_time": "2024-04-14T12:53:46.084Z"
   },
   {
    "duration": 4,
    "start_time": "2024-04-14T12:53:46.101Z"
   },
   {
    "duration": 4,
    "start_time": "2024-04-14T12:53:46.106Z"
   },
   {
    "duration": 5,
    "start_time": "2024-04-14T12:53:46.111Z"
   },
   {
    "duration": 3,
    "start_time": "2024-04-14T12:53:46.118Z"
   },
   {
    "duration": 13,
    "start_time": "2024-04-14T12:53:46.122Z"
   },
   {
    "duration": 9,
    "start_time": "2024-04-14T12:53:46.136Z"
   },
   {
    "duration": 11,
    "start_time": "2024-04-14T12:53:46.146Z"
   },
   {
    "duration": 10,
    "start_time": "2024-04-14T12:53:46.158Z"
   },
   {
    "duration": 24,
    "start_time": "2024-04-14T12:53:46.169Z"
   },
   {
    "duration": 10,
    "start_time": "2024-04-14T12:53:46.194Z"
   },
   {
    "duration": 9,
    "start_time": "2024-04-14T12:53:46.205Z"
   },
   {
    "duration": 3,
    "start_time": "2024-04-14T12:53:46.215Z"
   },
   {
    "duration": 8,
    "start_time": "2024-04-14T12:53:46.219Z"
   },
   {
    "duration": 9,
    "start_time": "2024-04-14T12:53:46.229Z"
   },
   {
    "duration": 3,
    "start_time": "2024-04-14T12:53:46.239Z"
   },
   {
    "duration": 4,
    "start_time": "2024-04-14T12:53:46.243Z"
   },
   {
    "duration": 18,
    "start_time": "2024-04-14T12:53:46.248Z"
   },
   {
    "duration": 28,
    "start_time": "2024-04-14T12:53:46.267Z"
   },
   {
    "duration": 7,
    "start_time": "2024-04-14T12:53:46.296Z"
   },
   {
    "duration": 6,
    "start_time": "2024-04-14T12:53:46.304Z"
   },
   {
    "duration": 144,
    "start_time": "2024-04-14T12:53:46.311Z"
   },
   {
    "duration": 0,
    "start_time": "2024-04-14T12:53:46.457Z"
   },
   {
    "duration": 0,
    "start_time": "2024-04-14T12:53:46.457Z"
   },
   {
    "duration": 5273,
    "start_time": "2024-04-14T13:03:29.728Z"
   },
   {
    "duration": 1118,
    "start_time": "2024-04-14T13:03:35.003Z"
   },
   {
    "duration": 117,
    "start_time": "2024-04-14T13:03:36.122Z"
   },
   {
    "duration": 10,
    "start_time": "2024-04-14T13:03:36.241Z"
   },
   {
    "duration": 101,
    "start_time": "2024-04-14T13:03:36.252Z"
   },
   {
    "duration": 7,
    "start_time": "2024-04-14T13:03:36.354Z"
   },
   {
    "duration": 103,
    "start_time": "2024-04-14T13:03:36.362Z"
   },
   {
    "duration": 7,
    "start_time": "2024-04-14T13:03:36.466Z"
   },
   {
    "duration": 6,
    "start_time": "2024-04-14T13:03:36.474Z"
   },
   {
    "duration": 51,
    "start_time": "2024-04-14T13:03:36.488Z"
   },
   {
    "duration": 54,
    "start_time": "2024-04-14T13:03:36.540Z"
   },
   {
    "duration": 47,
    "start_time": "2024-04-14T13:03:36.596Z"
   },
   {
    "duration": 11,
    "start_time": "2024-04-14T13:03:36.644Z"
   },
   {
    "duration": 11,
    "start_time": "2024-04-14T13:03:36.657Z"
   },
   {
    "duration": 31,
    "start_time": "2024-04-14T13:03:36.669Z"
   },
   {
    "duration": 4,
    "start_time": "2024-04-14T13:03:36.702Z"
   },
   {
    "duration": 628,
    "start_time": "2024-04-14T13:03:36.707Z"
   },
   {
    "duration": 658,
    "start_time": "2024-04-14T13:03:37.336Z"
   },
   {
    "duration": 626,
    "start_time": "2024-04-14T13:03:37.996Z"
   },
   {
    "duration": 14,
    "start_time": "2024-04-14T13:03:38.623Z"
   },
   {
    "duration": 375,
    "start_time": "2024-04-14T13:03:38.638Z"
   },
   {
    "duration": 15,
    "start_time": "2024-04-14T13:03:39.015Z"
   },
   {
    "duration": 316,
    "start_time": "2024-04-14T13:03:39.031Z"
   },
   {
    "duration": 13,
    "start_time": "2024-04-14T13:03:39.348Z"
   },
   {
    "duration": 347,
    "start_time": "2024-04-14T13:03:39.362Z"
   },
   {
    "duration": 3,
    "start_time": "2024-04-14T13:03:39.710Z"
   },
   {
    "duration": 10,
    "start_time": "2024-04-14T13:03:39.714Z"
   },
   {
    "duration": 8,
    "start_time": "2024-04-14T13:03:39.728Z"
   },
   {
    "duration": 11,
    "start_time": "2024-04-14T13:03:39.737Z"
   },
   {
    "duration": 44,
    "start_time": "2024-04-14T13:03:39.749Z"
   },
   {
    "duration": 3,
    "start_time": "2024-04-14T13:03:39.794Z"
   },
   {
    "duration": 86,
    "start_time": "2024-04-14T13:03:39.799Z"
   },
   {
    "duration": 13,
    "start_time": "2024-04-14T13:03:39.886Z"
   },
   {
    "duration": 6,
    "start_time": "2024-04-14T13:03:39.901Z"
   },
   {
    "duration": 4,
    "start_time": "2024-04-14T13:03:39.908Z"
   },
   {
    "duration": 11,
    "start_time": "2024-04-14T13:03:39.913Z"
   },
   {
    "duration": 8,
    "start_time": "2024-04-14T13:03:39.925Z"
   },
   {
    "duration": 63,
    "start_time": "2024-04-14T13:03:39.934Z"
   },
   {
    "duration": 7,
    "start_time": "2024-04-14T13:03:39.998Z"
   },
   {
    "duration": 19,
    "start_time": "2024-04-14T13:03:40.089Z"
   },
   {
    "duration": 5,
    "start_time": "2024-04-14T13:03:40.109Z"
   },
   {
    "duration": 6,
    "start_time": "2024-04-14T13:03:40.115Z"
   },
   {
    "duration": 10,
    "start_time": "2024-04-14T13:03:40.122Z"
   },
   {
    "duration": 10,
    "start_time": "2024-04-14T13:03:40.133Z"
   },
   {
    "duration": 7,
    "start_time": "2024-04-14T13:03:40.145Z"
   },
   {
    "duration": 9,
    "start_time": "2024-04-14T13:03:40.153Z"
   },
   {
    "duration": 36,
    "start_time": "2024-04-14T13:03:40.164Z"
   },
   {
    "duration": 84,
    "start_time": "2024-04-14T13:03:40.202Z"
   },
   {
    "duration": 13,
    "start_time": "2024-04-14T13:03:40.288Z"
   },
   {
    "duration": 5,
    "start_time": "2024-04-14T13:03:40.302Z"
   },
   {
    "duration": 5,
    "start_time": "2024-04-14T13:03:40.308Z"
   },
   {
    "duration": 11,
    "start_time": "2024-04-14T13:03:40.314Z"
   },
   {
    "duration": 12,
    "start_time": "2024-04-14T13:03:40.326Z"
   },
   {
    "duration": 5,
    "start_time": "2024-04-14T13:03:40.339Z"
   },
   {
    "duration": 2,
    "start_time": "2024-04-14T13:03:40.345Z"
   },
   {
    "duration": 20,
    "start_time": "2024-04-14T13:03:40.349Z"
   },
   {
    "duration": 27,
    "start_time": "2024-04-14T13:03:40.370Z"
   },
   {
    "duration": 4,
    "start_time": "2024-04-14T13:03:40.398Z"
   },
   {
    "duration": 13,
    "start_time": "2024-04-14T13:03:40.403Z"
   },
   {
    "duration": 18,
    "start_time": "2024-04-14T13:03:40.417Z"
   },
   {
    "duration": 10,
    "start_time": "2024-04-14T13:03:40.436Z"
   },
   {
    "duration": 16,
    "start_time": "2024-04-14T13:03:40.447Z"
   },
   {
    "duration": 18,
    "start_time": "2024-04-14T13:03:40.465Z"
   },
   {
    "duration": 17,
    "start_time": "2024-04-14T13:03:40.489Z"
   },
   {
    "duration": 15,
    "start_time": "2024-04-14T13:03:40.507Z"
   },
   {
    "duration": 10,
    "start_time": "2024-04-14T13:03:40.523Z"
   },
   {
    "duration": 7,
    "start_time": "2024-04-14T13:03:40.535Z"
   },
   {
    "duration": 18,
    "start_time": "2024-04-14T13:03:40.544Z"
   },
   {
    "duration": 7,
    "start_time": "2024-04-14T13:03:40.564Z"
   },
   {
    "duration": 1272,
    "start_time": "2024-04-14T13:03:40.573Z"
   },
   {
    "duration": 1223,
    "start_time": "2024-04-14T13:03:41.846Z"
   },
   {
    "duration": 1218,
    "start_time": "2024-04-14T13:03:43.070Z"
   },
   {
    "duration": 5258,
    "start_time": "2024-04-14T13:06:00.843Z"
   },
   {
    "duration": 1089,
    "start_time": "2024-04-14T13:06:06.102Z"
   },
   {
    "duration": 116,
    "start_time": "2024-04-14T13:06:07.192Z"
   },
   {
    "duration": 10,
    "start_time": "2024-04-14T13:06:07.309Z"
   },
   {
    "duration": 100,
    "start_time": "2024-04-14T13:06:07.320Z"
   },
   {
    "duration": 8,
    "start_time": "2024-04-14T13:06:07.421Z"
   },
   {
    "duration": 108,
    "start_time": "2024-04-14T13:06:07.430Z"
   },
   {
    "duration": 7,
    "start_time": "2024-04-14T13:06:07.539Z"
   },
   {
    "duration": 10,
    "start_time": "2024-04-14T13:06:07.547Z"
   },
   {
    "duration": 54,
    "start_time": "2024-04-14T13:06:07.559Z"
   },
   {
    "duration": 44,
    "start_time": "2024-04-14T13:06:07.615Z"
   },
   {
    "duration": 55,
    "start_time": "2024-04-14T13:06:07.661Z"
   },
   {
    "duration": 12,
    "start_time": "2024-04-14T13:06:07.717Z"
   },
   {
    "duration": 14,
    "start_time": "2024-04-14T13:06:07.730Z"
   },
   {
    "duration": 13,
    "start_time": "2024-04-14T13:06:07.745Z"
   },
   {
    "duration": 4,
    "start_time": "2024-04-14T13:06:07.759Z"
   },
   {
    "duration": 631,
    "start_time": "2024-04-14T13:06:07.764Z"
   },
   {
    "duration": 632,
    "start_time": "2024-04-14T13:06:08.397Z"
   },
   {
    "duration": 612,
    "start_time": "2024-04-14T13:06:09.030Z"
   },
   {
    "duration": 14,
    "start_time": "2024-04-14T13:06:09.643Z"
   },
   {
    "duration": 359,
    "start_time": "2024-04-14T13:06:09.659Z"
   },
   {
    "duration": 15,
    "start_time": "2024-04-14T13:06:10.019Z"
   },
   {
    "duration": 349,
    "start_time": "2024-04-14T13:06:10.035Z"
   },
   {
    "duration": 13,
    "start_time": "2024-04-14T13:06:10.386Z"
   },
   {
    "duration": 344,
    "start_time": "2024-04-14T13:06:10.400Z"
   },
   {
    "duration": 2,
    "start_time": "2024-04-14T13:06:10.745Z"
   },
   {
    "duration": 10,
    "start_time": "2024-04-14T13:06:10.748Z"
   },
   {
    "duration": 8,
    "start_time": "2024-04-14T13:06:10.761Z"
   },
   {
    "duration": 20,
    "start_time": "2024-04-14T13:06:10.770Z"
   },
   {
    "duration": 18,
    "start_time": "2024-04-14T13:06:10.791Z"
   },
   {
    "duration": 2,
    "start_time": "2024-04-14T13:06:10.810Z"
   },
   {
    "duration": 6,
    "start_time": "2024-04-14T13:06:10.885Z"
   },
   {
    "duration": 92,
    "start_time": "2024-04-14T13:06:10.893Z"
   },
   {
    "duration": 11,
    "start_time": "2024-04-14T13:06:10.986Z"
   },
   {
    "duration": 5,
    "start_time": "2024-04-14T13:06:10.998Z"
   },
   {
    "duration": 17,
    "start_time": "2024-04-14T13:06:11.004Z"
   },
   {
    "duration": 7,
    "start_time": "2024-04-14T13:06:11.022Z"
   },
   {
    "duration": 18,
    "start_time": "2024-04-14T13:06:11.031Z"
   },
   {
    "duration": 36,
    "start_time": "2024-04-14T13:06:11.050Z"
   },
   {
    "duration": 101,
    "start_time": "2024-04-14T13:06:11.087Z"
   },
   {
    "duration": 4,
    "start_time": "2024-04-14T13:06:11.189Z"
   },
   {
    "duration": 8,
    "start_time": "2024-04-14T13:06:11.194Z"
   },
   {
    "duration": 4,
    "start_time": "2024-04-14T13:06:11.203Z"
   },
   {
    "duration": 14,
    "start_time": "2024-04-14T13:06:11.208Z"
   },
   {
    "duration": 8,
    "start_time": "2024-04-14T13:06:11.223Z"
   },
   {
    "duration": 54,
    "start_time": "2024-04-14T13:06:11.233Z"
   },
   {
    "duration": 5,
    "start_time": "2024-04-14T13:06:11.288Z"
   },
   {
    "duration": 90,
    "start_time": "2024-04-14T13:06:11.295Z"
   },
   {
    "duration": 3,
    "start_time": "2024-04-14T13:06:11.387Z"
   },
   {
    "duration": 3,
    "start_time": "2024-04-14T13:06:11.392Z"
   },
   {
    "duration": 4,
    "start_time": "2024-04-14T13:06:11.396Z"
   },
   {
    "duration": 4,
    "start_time": "2024-04-14T13:06:11.401Z"
   },
   {
    "duration": 4,
    "start_time": "2024-04-14T13:06:11.406Z"
   },
   {
    "duration": 3,
    "start_time": "2024-04-14T13:06:11.411Z"
   },
   {
    "duration": 3,
    "start_time": "2024-04-14T13:06:11.415Z"
   },
   {
    "duration": 12,
    "start_time": "2024-04-14T13:06:11.419Z"
   },
   {
    "duration": 9,
    "start_time": "2024-04-14T13:06:11.433Z"
   },
   {
    "duration": 43,
    "start_time": "2024-04-14T13:06:11.443Z"
   },
   {
    "duration": 14,
    "start_time": "2024-04-14T13:06:11.487Z"
   },
   {
    "duration": 10,
    "start_time": "2024-04-14T13:06:11.502Z"
   },
   {
    "duration": 3,
    "start_time": "2024-04-14T13:06:11.513Z"
   },
   {
    "duration": 13,
    "start_time": "2024-04-14T13:06:11.517Z"
   },
   {
    "duration": 10,
    "start_time": "2024-04-14T13:06:11.531Z"
   },
   {
    "duration": 2,
    "start_time": "2024-04-14T13:06:11.542Z"
   },
   {
    "duration": 5,
    "start_time": "2024-04-14T13:06:11.545Z"
   },
   {
    "duration": 8,
    "start_time": "2024-04-14T13:06:11.551Z"
   },
   {
    "duration": 30,
    "start_time": "2024-04-14T13:06:11.560Z"
   },
   {
    "duration": 6,
    "start_time": "2024-04-14T13:06:11.591Z"
   },
   {
    "duration": 6,
    "start_time": "2024-04-14T13:06:11.598Z"
   },
   {
    "duration": 1320,
    "start_time": "2024-04-14T13:06:11.605Z"
   },
   {
    "duration": 1196,
    "start_time": "2024-04-14T13:06:12.926Z"
   },
   {
    "duration": 1214,
    "start_time": "2024-04-14T13:06:14.123Z"
   },
   {
    "duration": 7,
    "start_time": "2024-04-14T13:13:54.598Z"
   },
   {
    "duration": 1196,
    "start_time": "2024-04-14T13:13:54.761Z"
   },
   {
    "duration": 1213,
    "start_time": "2024-04-14T13:13:55.959Z"
   },
   {
    "duration": 1220,
    "start_time": "2024-04-14T13:13:57.173Z"
   },
   {
    "duration": 8,
    "start_time": "2024-04-14T13:18:16.313Z"
   },
   {
    "duration": 1164,
    "start_time": "2024-04-14T13:18:16.689Z"
   },
   {
    "duration": 1164,
    "start_time": "2024-04-14T13:18:22.835Z"
   },
   {
    "duration": 1165,
    "start_time": "2024-04-14T13:18:24.248Z"
   },
   {
    "duration": 6,
    "start_time": "2024-04-14T13:18:38.730Z"
   },
   {
    "duration": 1172,
    "start_time": "2024-04-14T13:18:38.948Z"
   },
   {
    "duration": 1201,
    "start_time": "2024-04-14T13:18:40.122Z"
   },
   {
    "duration": 1209,
    "start_time": "2024-04-14T13:18:41.324Z"
   },
   {
    "duration": 5,
    "start_time": "2024-04-14T13:53:41.910Z"
   },
   {
    "duration": 68,
    "start_time": "2024-04-14T13:54:18.865Z"
   },
   {
    "duration": 117,
    "start_time": "2024-04-14T13:54:19.226Z"
   },
   {
    "duration": 7,
    "start_time": "2024-04-14T13:55:02.639Z"
   },
   {
    "duration": 12,
    "start_time": "2024-04-14T13:55:12.811Z"
   },
   {
    "duration": 29,
    "start_time": "2024-04-14T13:55:25.141Z"
   },
   {
    "duration": 6,
    "start_time": "2024-04-14T13:55:36.165Z"
   },
   {
    "duration": 17,
    "start_time": "2024-04-14T13:55:36.731Z"
   },
   {
    "duration": 6,
    "start_time": "2024-04-14T13:58:08.411Z"
   },
   {
    "duration": 18,
    "start_time": "2024-04-14T13:58:08.871Z"
   },
   {
    "duration": 1229,
    "start_time": "2024-04-14T13:58:13.662Z"
   },
   {
    "duration": 1217,
    "start_time": "2024-04-14T13:58:17.588Z"
   },
   {
    "duration": 1237,
    "start_time": "2024-04-14T13:58:18.807Z"
   },
   {
    "duration": 5256,
    "start_time": "2024-04-14T13:58:59.003Z"
   },
   {
    "duration": 1132,
    "start_time": "2024-04-14T13:59:04.261Z"
   },
   {
    "duration": 119,
    "start_time": "2024-04-14T13:59:05.394Z"
   },
   {
    "duration": 12,
    "start_time": "2024-04-14T13:59:05.515Z"
   },
   {
    "duration": 100,
    "start_time": "2024-04-14T13:59:05.528Z"
   },
   {
    "duration": 7,
    "start_time": "2024-04-14T13:59:05.630Z"
   },
   {
    "duration": 100,
    "start_time": "2024-04-14T13:59:05.638Z"
   },
   {
    "duration": 7,
    "start_time": "2024-04-14T13:59:05.739Z"
   },
   {
    "duration": 29,
    "start_time": "2024-04-14T13:59:05.748Z"
   },
   {
    "duration": 63,
    "start_time": "2024-04-14T13:59:05.779Z"
   },
   {
    "duration": 45,
    "start_time": "2024-04-14T13:59:05.843Z"
   },
   {
    "duration": 47,
    "start_time": "2024-04-14T13:59:05.889Z"
   },
   {
    "duration": 12,
    "start_time": "2024-04-14T13:59:05.938Z"
   },
   {
    "duration": 14,
    "start_time": "2024-04-14T13:59:05.951Z"
   },
   {
    "duration": 30,
    "start_time": "2024-04-14T13:59:05.966Z"
   },
   {
    "duration": 6,
    "start_time": "2024-04-14T13:59:05.997Z"
   },
   {
    "duration": 614,
    "start_time": "2024-04-14T13:59:06.004Z"
   },
   {
    "duration": 645,
    "start_time": "2024-04-14T13:59:06.620Z"
   },
   {
    "duration": 602,
    "start_time": "2024-04-14T13:59:07.267Z"
   },
   {
    "duration": 22,
    "start_time": "2024-04-14T13:59:07.870Z"
   },
   {
    "duration": 334,
    "start_time": "2024-04-14T13:59:07.893Z"
   },
   {
    "duration": 15,
    "start_time": "2024-04-14T13:59:08.229Z"
   },
   {
    "duration": 356,
    "start_time": "2024-04-14T13:59:08.245Z"
   },
   {
    "duration": 14,
    "start_time": "2024-04-14T13:59:08.602Z"
   },
   {
    "duration": 351,
    "start_time": "2024-04-14T13:59:08.617Z"
   },
   {
    "duration": 2,
    "start_time": "2024-04-14T13:59:08.969Z"
   },
   {
    "duration": 14,
    "start_time": "2024-04-14T13:59:08.973Z"
   },
   {
    "duration": 8,
    "start_time": "2024-04-14T13:59:08.991Z"
   },
   {
    "duration": 10,
    "start_time": "2024-04-14T13:59:09.000Z"
   },
   {
    "duration": 12,
    "start_time": "2024-04-14T13:59:09.011Z"
   },
   {
    "duration": 3,
    "start_time": "2024-04-14T13:59:09.024Z"
   },
   {
    "duration": 6,
    "start_time": "2024-04-14T13:59:09.090Z"
   },
   {
    "duration": 89,
    "start_time": "2024-04-14T13:59:09.097Z"
   },
   {
    "duration": 11,
    "start_time": "2024-04-14T13:59:09.188Z"
   },
   {
    "duration": 14,
    "start_time": "2024-04-14T13:59:09.201Z"
   },
   {
    "duration": 16,
    "start_time": "2024-04-14T13:59:09.216Z"
   },
   {
    "duration": 9,
    "start_time": "2024-04-14T13:59:09.234Z"
   },
   {
    "duration": 12,
    "start_time": "2024-04-14T13:59:09.244Z"
   },
   {
    "duration": 11,
    "start_time": "2024-04-14T13:59:09.286Z"
   },
   {
    "duration": 101,
    "start_time": "2024-04-14T13:59:09.298Z"
   },
   {
    "duration": 21,
    "start_time": "2024-04-14T13:59:09.400Z"
   },
   {
    "duration": 8,
    "start_time": "2024-04-14T13:59:09.422Z"
   },
   {
    "duration": 15,
    "start_time": "2024-04-14T13:59:09.432Z"
   },
   {
    "duration": 17,
    "start_time": "2024-04-14T13:59:09.448Z"
   },
   {
    "duration": 8,
    "start_time": "2024-04-14T13:59:09.466Z"
   },
   {
    "duration": 12,
    "start_time": "2024-04-14T13:59:09.476Z"
   },
   {
    "duration": 2,
    "start_time": "2024-04-14T13:59:09.490Z"
   },
   {
    "duration": 191,
    "start_time": "2024-04-14T13:59:09.493Z"
   },
   {
    "duration": 4,
    "start_time": "2024-04-14T13:59:09.686Z"
   },
   {
    "duration": 4,
    "start_time": "2024-04-14T13:59:09.692Z"
   },
   {
    "duration": 3,
    "start_time": "2024-04-14T13:59:09.698Z"
   },
   {
    "duration": 5,
    "start_time": "2024-04-14T13:59:09.703Z"
   },
   {
    "duration": 4,
    "start_time": "2024-04-14T13:59:09.709Z"
   },
   {
    "duration": 5,
    "start_time": "2024-04-14T13:59:09.714Z"
   },
   {
    "duration": 15,
    "start_time": "2024-04-14T13:59:09.720Z"
   },
   {
    "duration": 15,
    "start_time": "2024-04-14T13:59:09.736Z"
   },
   {
    "duration": 34,
    "start_time": "2024-04-14T13:59:09.752Z"
   },
   {
    "duration": 5,
    "start_time": "2024-04-14T13:59:09.787Z"
   },
   {
    "duration": 10,
    "start_time": "2024-04-14T13:59:09.794Z"
   },
   {
    "duration": 10,
    "start_time": "2024-04-14T13:59:09.805Z"
   },
   {
    "duration": 3,
    "start_time": "2024-04-14T13:59:09.816Z"
   },
   {
    "duration": 10,
    "start_time": "2024-04-14T13:59:09.820Z"
   },
   {
    "duration": 10,
    "start_time": "2024-04-14T13:59:09.831Z"
   },
   {
    "duration": 4,
    "start_time": "2024-04-14T13:59:09.842Z"
   },
   {
    "duration": 3,
    "start_time": "2024-04-14T13:59:09.847Z"
   },
   {
    "duration": 7,
    "start_time": "2024-04-14T13:59:09.884Z"
   },
   {
    "duration": 29,
    "start_time": "2024-04-14T13:59:09.892Z"
   },
   {
    "duration": 7,
    "start_time": "2024-04-14T13:59:09.923Z"
   },
   {
    "duration": 7,
    "start_time": "2024-04-14T13:59:09.931Z"
   },
   {
    "duration": 1248,
    "start_time": "2024-04-14T13:59:09.939Z"
   },
   {
    "duration": 1219,
    "start_time": "2024-04-14T13:59:11.189Z"
   },
   {
    "duration": 1229,
    "start_time": "2024-04-14T13:59:12.410Z"
   }
  ],
  "kernelspec": {
   "display_name": "Python 3 (ipykernel)",
   "language": "python",
   "name": "python3"
  },
  "language_info": {
   "codemirror_mode": {
    "name": "ipython",
    "version": 3
   },
   "file_extension": ".py",
   "mimetype": "text/x-python",
   "name": "python",
   "nbconvert_exporter": "python",
   "pygments_lexer": "ipython3",
   "version": "3.9.5"
  },
  "toc": {
   "base_numbering": 1,
   "nav_menu": {},
   "number_sections": true,
   "sideBar": true,
   "skip_h1_title": true,
   "title_cell": "Table of Contents",
   "title_sidebar": "Contents",
   "toc_cell": false,
   "toc_position": {},
   "toc_section_display": true,
   "toc_window_display": false
  }
 },
 "nbformat": 4,
 "nbformat_minor": 2
}
