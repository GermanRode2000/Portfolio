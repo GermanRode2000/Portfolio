{
 "cells": [
  {
   "cell_type": "markdown",
   "metadata": {},
   "source": [
    "# Классификация комментариев"
   ]
  },
  {
   "cell_type": "markdown",
   "metadata": {},
   "source": [
    "У интернет-магазина «Викишоп» новый сервис - пользователи могут редактировать и дополнять описания товаров. Клиенты предлагают свои правки и комментируют изменения других. \n",
    "\n",
    "\n",
    "Необходим построить модель, которая будет классифицировать комментарии на позитивные и негативные (определять токсичность),а затем отправлять их на модерацию. \n",
    "\n",
    "В распоряжении набор данных с разметкой о токсичности правок.\n",
    "\n",
    "**Требование:**\n",
    "* Метрика качества *F1* >= 0.75. "
   ]
  },
  {
   "cell_type": "markdown",
   "metadata": {
    "toc": true
   },
   "source": [
    "<h1>Содержание<span class=\"tocSkip\"></span></h1>\n",
    "<div class=\"toc\"><ul class=\"toc-item\"><li><span><a href=\"#Выгрузка-данных\" data-toc-modified-id=\"Выгрузка-данных-1\"><span class=\"toc-item-num\">1&nbsp;&nbsp;</span>Выгрузка данных</a></span><ul class=\"toc-item\"><li><span><a href=\"#Вывод:\" data-toc-modified-id=\"Вывод:-1.1\"><span class=\"toc-item-num\">1.1&nbsp;&nbsp;</span>Вывод:</a></span></li></ul></li><li><span><a href=\"#Подготовка-данных\" data-toc-modified-id=\"Подготовка-данных-2\"><span class=\"toc-item-num\">2&nbsp;&nbsp;</span>Подготовка данных</a></span><ul class=\"toc-item\"><li><span><a href=\"#Вывод:\" data-toc-modified-id=\"Вывод:-2.1\"><span class=\"toc-item-num\">2.1&nbsp;&nbsp;</span>Вывод:</a></span></li></ul></li><li><span><a href=\"#Обучение\" data-toc-modified-id=\"Обучение-3\"><span class=\"toc-item-num\">3&nbsp;&nbsp;</span>Обучение</a></span><ul class=\"toc-item\"><li><span><a href=\"#LogisticRegression\" data-toc-modified-id=\"LogisticRegression-3.1\"><span class=\"toc-item-num\">3.1&nbsp;&nbsp;</span>LogisticRegression</a></span></li><li><span><a href=\"#RandomForestClassifier\" data-toc-modified-id=\"RandomForestClassifier-3.2\"><span class=\"toc-item-num\">3.2&nbsp;&nbsp;</span>RandomForestClassifier</a></span></li><li><span><a href=\"#CatBoostClassifier\" data-toc-modified-id=\"CatBoostClassifier-3.3\"><span class=\"toc-item-num\">3.3&nbsp;&nbsp;</span>CatBoostClassifier</a></span></li><li><span><a href=\"#Анализ-результатов-моделей\" data-toc-modified-id=\"Анализ-результатов-моделей-3.4\"><span class=\"toc-item-num\">3.4&nbsp;&nbsp;</span>Анализ результатов моделей</a></span></li><li><span><a href=\"#Вывод:\" data-toc-modified-id=\"Вывод:-3.5\"><span class=\"toc-item-num\">3.5&nbsp;&nbsp;</span>Вывод:</a></span></li></ul></li><li><span><a href=\"#Проверка-модели\" data-toc-modified-id=\"Проверка-модели-4\"><span class=\"toc-item-num\">4&nbsp;&nbsp;</span>Проверка модели</a></span><ul class=\"toc-item\"><li><span><a href=\"#Проверка-модели-на-тестовых-данных\" data-toc-modified-id=\"Проверка-модели-на-тестовых-данных-4.1\"><span class=\"toc-item-num\">4.1&nbsp;&nbsp;</span>Проверка модели на тестовых данных</a></span></li><li><span><a href=\"#Проверка-на-адекватность\" data-toc-modified-id=\"Проверка-на-адекватность-4.2\"><span class=\"toc-item-num\">4.2&nbsp;&nbsp;</span>Проверка на адекватность</a></span></li><li><span><a href=\"#Вывод:\" data-toc-modified-id=\"Вывод:-4.3\"><span class=\"toc-item-num\">4.3&nbsp;&nbsp;</span>Вывод:</a></span></li></ul></li><li><span><a href=\"#Заключение\" data-toc-modified-id=\"Заключение-5\"><span class=\"toc-item-num\">5&nbsp;&nbsp;</span>Заключение</a></span></li></ul></div>"
   ]
  },
  {
   "cell_type": "code",
   "execution_count": 1,
   "metadata": {
    "scrolled": true
   },
   "outputs": [
    {
     "name": "stdout",
     "output_type": "stream",
     "text": [
      "Requirement already satisfied: imblearn in /opt/conda/lib/python3.9/site-packages (0.0)\n",
      "Requirement already satisfied: imbalanced-learn in /opt/conda/lib/python3.9/site-packages (from imblearn) (0.12.2)\n",
      "Requirement already satisfied: scipy>=1.5.0 in /opt/conda/lib/python3.9/site-packages (from imbalanced-learn->imblearn) (1.9.1)\n",
      "Requirement already satisfied: numpy>=1.17.3 in /opt/conda/lib/python3.9/site-packages (from imbalanced-learn->imblearn) (1.21.1)\n",
      "Requirement already satisfied: scikit-learn>=1.0.2 in /opt/conda/lib/python3.9/site-packages (from imbalanced-learn->imblearn) (1.4.2)\n",
      "Requirement already satisfied: joblib>=1.1.1 in /opt/conda/lib/python3.9/site-packages (from imbalanced-learn->imblearn) (1.4.0)\n",
      "Requirement already satisfied: threadpoolctl>=2.0.0 in /opt/conda/lib/python3.9/site-packages (from imbalanced-learn->imblearn) (3.1.0)\n",
      "Note: you may need to restart the kernel to use updated packages.\n"
     ]
    }
   ],
   "source": [
    "pip install imblearn"
   ]
  },
  {
   "cell_type": "code",
   "execution_count": 2,
   "metadata": {},
   "outputs": [
    {
     "name": "stderr",
     "output_type": "stream",
     "text": [
      "[nltk_data] Downloading package averaged_perceptron_tagger to\n",
      "[nltk_data]     /home/jovyan/nltk_data...\n",
      "[nltk_data]   Package averaged_perceptron_tagger is already up-to-\n",
      "[nltk_data]       date!\n"
     ]
    }
   ],
   "source": [
    "import numpy as np\n",
    "import pandas as pd\n",
    "from tqdm import notebook\n",
    "from sklearn.linear_model import LogisticRegression\n",
    "from sklearn.ensemble import RandomForestClassifier\n",
    "from catboost import CatBoostClassifier\n",
    "from sklearn.metrics import f1_score\n",
    "from sklearn.model_selection import train_test_split, GridSearchCV\n",
    "from sklearn.dummy import DummyClassifier\n",
    "import nltk \n",
    "from nltk.stem import WordNetLemmatizer \n",
    "from nltk.corpus import stopwords \n",
    "from nltk.corpus import wordnet\n",
    "from sklearn.feature_extraction.text import TfidfVectorizer \n",
    "import re \n",
    "import matplotlib.pyplot as plt \n",
    "import seaborn as sns \n",
    "from time import time\n",
    "from imblearn.over_sampling import SMOTE\n",
    "from imblearn.pipeline import Pipeline, make_pipeline\n",
    "from sklearn.utils import shuffle\n",
    "from sklearn.model_selection import StratifiedKFold, RepeatedStratifiedKFold\n",
    "from lightgbm import LGBMClassifier\n",
    "nltk.download('averaged_perceptron_tagger')\n",
    "import warnings\n",
    "warnings.filterwarnings(\"ignore\")"
   ]
  },
  {
   "cell_type": "markdown",
   "metadata": {},
   "source": [
    "## Выгрузка данных"
   ]
  },
  {
   "cell_type": "code",
   "execution_count": 3,
   "metadata": {},
   "outputs": [],
   "source": [
    "df = pd.read_csv('/datasets/toxic_comments.csv', index_col=0)"
   ]
  },
  {
   "cell_type": "code",
   "execution_count": 4,
   "metadata": {},
   "outputs": [
    {
     "name": "stdout",
     "output_type": "stream",
     "text": [
      "<class 'pandas.core.frame.DataFrame'>\n",
      "Int64Index: 159292 entries, 0 to 159450\n",
      "Data columns (total 2 columns):\n",
      " #   Column  Non-Null Count   Dtype \n",
      "---  ------  --------------   ----- \n",
      " 0   text    159292 non-null  object\n",
      " 1   toxic   159292 non-null  int64 \n",
      "dtypes: int64(1), object(1)\n",
      "memory usage: 3.6+ MB\n"
     ]
    }
   ],
   "source": [
    "# посмотрим на основную информацию\n",
    "df.info()"
   ]
  },
  {
   "cell_type": "code",
   "execution_count": 5,
   "metadata": {},
   "outputs": [
    {
     "data": {
      "text/html": [
       "<div>\n",
       "<style scoped>\n",
       "    .dataframe tbody tr th:only-of-type {\n",
       "        vertical-align: middle;\n",
       "    }\n",
       "\n",
       "    .dataframe tbody tr th {\n",
       "        vertical-align: top;\n",
       "    }\n",
       "\n",
       "    .dataframe thead th {\n",
       "        text-align: right;\n",
       "    }\n",
       "</style>\n",
       "<table border=\"1\" class=\"dataframe\">\n",
       "  <thead>\n",
       "    <tr style=\"text-align: right;\">\n",
       "      <th></th>\n",
       "      <th>text</th>\n",
       "      <th>toxic</th>\n",
       "    </tr>\n",
       "  </thead>\n",
       "  <tbody>\n",
       "    <tr>\n",
       "      <th>0</th>\n",
       "      <td>Explanation\\nWhy the edits made under my usern...</td>\n",
       "      <td>0</td>\n",
       "    </tr>\n",
       "    <tr>\n",
       "      <th>1</th>\n",
       "      <td>D'aww! He matches this background colour I'm s...</td>\n",
       "      <td>0</td>\n",
       "    </tr>\n",
       "    <tr>\n",
       "      <th>2</th>\n",
       "      <td>Hey man, I'm really not trying to edit war. It...</td>\n",
       "      <td>0</td>\n",
       "    </tr>\n",
       "    <tr>\n",
       "      <th>3</th>\n",
       "      <td>\"\\nMore\\nI can't make any real suggestions on ...</td>\n",
       "      <td>0</td>\n",
       "    </tr>\n",
       "    <tr>\n",
       "      <th>4</th>\n",
       "      <td>You, sir, are my hero. Any chance you remember...</td>\n",
       "      <td>0</td>\n",
       "    </tr>\n",
       "  </tbody>\n",
       "</table>\n",
       "</div>"
      ],
      "text/plain": [
       "                                                text  toxic\n",
       "0  Explanation\\nWhy the edits made under my usern...      0\n",
       "1  D'aww! He matches this background colour I'm s...      0\n",
       "2  Hey man, I'm really not trying to edit war. It...      0\n",
       "3  \"\\nMore\\nI can't make any real suggestions on ...      0\n",
       "4  You, sir, are my hero. Any chance you remember...      0"
      ]
     },
     "execution_count": 5,
     "metadata": {},
     "output_type": "execute_result"
    }
   ],
   "source": [
    "df.head()"
   ]
  },
  {
   "cell_type": "code",
   "execution_count": 6,
   "metadata": {},
   "outputs": [
    {
     "data": {
      "text/plain": [
       "text     0\n",
       "toxic    0\n",
       "dtype: int64"
      ]
     },
     "execution_count": 6,
     "metadata": {},
     "output_type": "execute_result"
    }
   ],
   "source": [
    "# проверим на пропуски\n",
    "df.isna().sum()"
   ]
  },
  {
   "cell_type": "code",
   "execution_count": 7,
   "metadata": {},
   "outputs": [
    {
     "data": {
      "text/plain": [
       "0"
      ]
     },
     "execution_count": 7,
     "metadata": {},
     "output_type": "execute_result"
    }
   ],
   "source": [
    "# также проверим на дубликаты\n",
    "df.duplicated().sum()"
   ]
  },
  {
   "cell_type": "code",
   "execution_count": 8,
   "metadata": {},
   "outputs": [
    {
     "data": {
      "text/plain": [
       "array([0, 1])"
      ]
     },
     "execution_count": 8,
     "metadata": {},
     "output_type": "execute_result"
    }
   ],
   "source": [
    "# проверим, нет ли каких-то аномальных значений в столбце с целевым признаком\n",
    "df['toxic'].unique()"
   ]
  },
  {
   "cell_type": "code",
   "execution_count": 9,
   "metadata": {},
   "outputs": [
    {
     "name": "stdout",
     "output_type": "stream",
     "text": [
      "Соотношения классов:\n",
      "0    0.898388\n",
      "1    0.101612\n",
      "Name: toxic, dtype: float64\n"
     ]
    }
   ],
   "source": [
    "# посмотрим на соотношение классов\n",
    "print('Соотношения классов:')\n",
    "print(df['toxic'].value_counts(normalize=True))"
   ]
  },
  {
   "cell_type": "markdown",
   "metadata": {},
   "source": [
    "### Вывод:\n",
    "- Данные были выгружены\n",
    "- Типы данных соответствуют заявленных\n",
    "- Дубликатов и пропусков не обнаружено\n",
    "- Наблюдается дисбаланс классов"
   ]
  },
  {
   "cell_type": "markdown",
   "metadata": {},
   "source": [
    "## Подготовка данных"
   ]
  },
  {
   "cell_type": "code",
   "execution_count": 10,
   "metadata": {},
   "outputs": [],
   "source": [
    "RANDOM_STATE = 74"
   ]
  },
  {
   "cell_type": "code",
   "execution_count": 11,
   "metadata": {},
   "outputs": [],
   "source": [
    "lemmatizer = WordNetLemmatizer()"
   ]
  },
  {
   "cell_type": "code",
   "execution_count": 12,
   "metadata": {},
   "outputs": [],
   "source": [
    "def get_wordnet_pos(word):\n",
    "    tag = nltk.pos_tag([word])[0][1][0].upper()\n",
    "    tag_dict = {\"J\": wordnet.ADJ,\n",
    "                \"N\": wordnet.NOUN,\n",
    "                \"V\": wordnet.VERB,\n",
    "                \"R\": wordnet.ADV}\n",
    "    return tag_dict.get(tag, wordnet.NOUN)\n",
    "\n",
    "def preproc_text(text):\n",
    "    text = text.lower()\n",
    "    lemm_text = \" \".join(lemmatizer.lemmatize(w, get_wordnet_pos(w)) for w in nltk.word_tokenize(text))\n",
    "    cleared_text = re.sub(r'[^a-zA-Z]', ' ', lemm_text) \n",
    "    return \" \".join(cleared_text.split())"
   ]
  },
  {
   "cell_type": "code",
   "execution_count": 13,
   "metadata": {},
   "outputs": [],
   "source": [
    "# применим функцию к нашим данным\n",
    "df['lemm_text'] = df['text'].apply(preproc_text)"
   ]
  },
  {
   "cell_type": "code",
   "execution_count": 14,
   "metadata": {},
   "outputs": [],
   "source": [
    "# разделим выборки на фичи и таргет\n",
    "X = df.drop(['toxic', 'text'], axis = 1)\n",
    "y = df['toxic']"
   ]
  },
  {
   "cell_type": "code",
   "execution_count": 15,
   "metadata": {},
   "outputs": [],
   "source": [
    "X_train, X_test, y_train, y_test = train_test_split(X, y,\n",
    "                                                    test_size=0.2, \n",
    "                                                    random_state=RANDOM_STATE,  \n",
    "                                                    stratify=y)"
   ]
  },
  {
   "cell_type": "code",
   "execution_count": 16,
   "metadata": {},
   "outputs": [
    {
     "name": "stderr",
     "output_type": "stream",
     "text": [
      "[nltk_data] Downloading package stopwords to /home/jovyan/nltk_data...\n",
      "[nltk_data]   Package stopwords is already up-to-date!\n"
     ]
    }
   ],
   "source": [
    "# удалим стоп-слова и векторизуем строки\n",
    "nltk.download('stopwords')\n",
    "stopwords = list(stopwords.words('english'))\n",
    "\n",
    "count_tf_idf = TfidfVectorizer(stop_words=stopwords)"
   ]
  },
  {
   "cell_type": "code",
   "execution_count": 17,
   "metadata": {},
   "outputs": [],
   "source": [
    "X_train = count_tf_idf.fit_transform(X_train['lemm_text'])\n",
    "X_test = count_tf_idf.transform(X_test['lemm_text'])"
   ]
  },
  {
   "cell_type": "markdown",
   "metadata": {},
   "source": [
    "### Вывод:\n",
    "Произвелась подготовка данных:\n",
    "- Был устранен дисбаланс классов\n",
    "- Произведена лемматизация строк, а также выделение стоп-слов\n",
    "- данные были разделены на тренировочную и тестовую выборки"
   ]
  },
  {
   "cell_type": "markdown",
   "metadata": {},
   "source": [
    "## Обучение"
   ]
  },
  {
   "cell_type": "markdown",
   "metadata": {},
   "source": [
    "### LogisticRegression"
   ]
  },
  {
   "cell_type": "code",
   "execution_count": 19,
   "metadata": {},
   "outputs": [],
   "source": [
    "# объявим модель и гиперпараметры\n",
    "log_model = LogisticRegression()\n",
    "\n",
    "param_lr = [{'C':[1,5,10],\n",
    "             'class_weight':['balanced']}]"
   ]
  },
  {
   "cell_type": "code",
   "execution_count": 20,
   "metadata": {},
   "outputs": [],
   "source": [
    "# применим cv \n",
    "gs_lr = GridSearchCV(log_model, \n",
    "                     param_lr, \n",
    "                     cv=3, \n",
    "                     scoring='f1') "
   ]
  },
  {
   "cell_type": "code",
   "execution_count": 21,
   "metadata": {},
   "outputs": [],
   "source": [
    "# проведем кросс-валидацию для текста без лемматизации и засекем время обучения\n",
    "start = time()\n",
    "\n",
    "gs_lr.fit(X_train, y_train)\n",
    "\n",
    "end = time()\n",
    "\n",
    "lr_time = (end-start)/60 "
   ]
  },
  {
   "cell_type": "code",
   "execution_count": 22,
   "metadata": {},
   "outputs": [],
   "source": [
    "# замеряем F1 на  кросс-валидации\n",
    "score_log_model = (gs_lr.best_score_)"
   ]
  },
  {
   "cell_type": "code",
   "execution_count": 23,
   "metadata": {},
   "outputs": [
    {
     "name": "stdout",
     "output_type": "stream",
     "text": [
      "F1 для LogisticRegression модели: 0.76\n"
     ]
    }
   ],
   "source": [
    "print(\"F1 для LogisticRegression модели:\", round(score_log_model,2))"
   ]
  },
  {
   "cell_type": "markdown",
   "metadata": {},
   "source": [
    "### RandomForestClassifier"
   ]
  },
  {
   "cell_type": "code",
   "execution_count": 25,
   "metadata": {},
   "outputs": [],
   "source": [
    "# инициализируем модель\n",
    "rf_model = RandomForestClassifier(random_state=RANDOM_STATE, class_weight='balanced_subsample') \n",
    "\n",
    "# укажем гиперпараметры для перебора\n",
    "param_rf = {'n_estimators': [50, 100],\n",
    "            'max_depth': [10, 12],\n",
    "            'criterion':['gini', 'entropy', 'log_loss']}"
   ]
  },
  {
   "cell_type": "code",
   "execution_count": 26,
   "metadata": {},
   "outputs": [],
   "source": [
    "# применим cv без лемматизации\n",
    "gs_rf = GridSearchCV(\n",
    "             rf_model, \n",
    "             param_rf, \n",
    "             cv=3, \n",
    "             scoring='f1',\n",
    "             n_jobs=-1) "
   ]
  },
  {
   "cell_type": "code",
   "execution_count": 27,
   "metadata": {},
   "outputs": [],
   "source": [
    "# обучим модель на данных без лемматизации и засекем время\n",
    "start = time()\n",
    "\n",
    "gs_rf.fit(X_train, y_train)\n",
    "\n",
    "end = time()\n",
    "\n",
    "rf_time = (end-start)/60 "
   ]
  },
  {
   "cell_type": "code",
   "execution_count": 28,
   "metadata": {},
   "outputs": [],
   "source": [
    "# замеряем F1 на  кросс-валидации\n",
    "score_rf_model = (gs_rf.best_score_)"
   ]
  },
  {
   "cell_type": "code",
   "execution_count": 29,
   "metadata": {},
   "outputs": [
    {
     "name": "stdout",
     "output_type": "stream",
     "text": [
      "F1 для RandomForestClassifier модели: 0.38\n"
     ]
    }
   ],
   "source": [
    "print(\"F1 для RandomForestClassifier модели:\", round((score_rf_model), 2))"
   ]
  },
  {
   "cell_type": "markdown",
   "metadata": {},
   "source": [
    "### CatBoostClassifier"
   ]
  },
  {
   "cell_type": "code",
   "execution_count": 30,
   "metadata": {},
   "outputs": [],
   "source": [
    "# инициализируем модель\n",
    "cat_model = CatBoostClassifier(random_state=RANDOM_STATE, verbose=False) \n",
    "\n",
    "# укажем гиперпараметры для перебора\n",
    "param_cat = {'iterations':[100],\n",
    "             'depth':[10],\n",
    "             'learning_rate':[0.1]}"
   ]
  },
  {
   "cell_type": "code",
   "execution_count": 31,
   "metadata": {},
   "outputs": [],
   "source": [
    "# применим cv без лемматизации\n",
    "gs_cat = GridSearchCV(\n",
    "              cat_model, \n",
    "              param_cat, \n",
    "              cv=3, \n",
    "              scoring='f1',\n",
    "              n_jobs=-1)"
   ]
  },
  {
   "cell_type": "code",
   "execution_count": 32,
   "metadata": {},
   "outputs": [],
   "source": [
    "# обучим модель на данных без лемматизации и засекем время\n",
    "start = time()\n",
    "\n",
    "gs_cat.fit(X_train, y_train)\n",
    "\n",
    "end = time()\n",
    "\n",
    "cat_time = (end-start)/60 "
   ]
  },
  {
   "cell_type": "code",
   "execution_count": 33,
   "metadata": {},
   "outputs": [],
   "source": [
    "# замеряем F1 на  кросс-валидации\n",
    "score_cat_model = (gs_cat.best_score_)"
   ]
  },
  {
   "cell_type": "code",
   "execution_count": 34,
   "metadata": {},
   "outputs": [
    {
     "name": "stdout",
     "output_type": "stream",
     "text": [
      "F1 для CatBoostClassifier модели: 0.68\n"
     ]
    }
   ],
   "source": [
    "print(\"F1 для CatBoostClassifier модели:\", round((score_cat_model), 2))"
   ]
  },
  {
   "cell_type": "markdown",
   "metadata": {},
   "source": [
    "### Анализ результатов моделей"
   ]
  },
  {
   "cell_type": "code",
   "execution_count": 35,
   "metadata": {},
   "outputs": [],
   "source": [
    "# оформляем результаты в таблицу\n",
    "res = [[round((score_log_model), 2), lr_time],\n",
    "       [round((score_rf_model), 2), rf_time],\n",
    "       [round((score_cat_model), 2), cat_time]]\n",
    "\n",
    "model = [\"LogisticRegression\", \"RandomForestClassifier\", \"CatBoostClassifier\"]"
   ]
  },
  {
   "cell_type": "code",
   "execution_count": 36,
   "metadata": {},
   "outputs": [
    {
     "data": {
      "text/html": [
       "<div>\n",
       "<style scoped>\n",
       "    .dataframe tbody tr th:only-of-type {\n",
       "        vertical-align: middle;\n",
       "    }\n",
       "\n",
       "    .dataframe tbody tr th {\n",
       "        vertical-align: top;\n",
       "    }\n",
       "\n",
       "    .dataframe thead th {\n",
       "        text-align: right;\n",
       "    }\n",
       "</style>\n",
       "<table border=\"1\" class=\"dataframe\">\n",
       "  <thead>\n",
       "    <tr style=\"text-align: right;\">\n",
       "      <th></th>\n",
       "      <th>F1_score</th>\n",
       "      <th>fit_time</th>\n",
       "    </tr>\n",
       "  </thead>\n",
       "  <tbody>\n",
       "    <tr>\n",
       "      <th>LogisticRegression</th>\n",
       "      <td>0.76</td>\n",
       "      <td>3.266108</td>\n",
       "    </tr>\n",
       "    <tr>\n",
       "      <th>RandomForestClassifier</th>\n",
       "      <td>0.38</td>\n",
       "      <td>12.067446</td>\n",
       "    </tr>\n",
       "    <tr>\n",
       "      <th>CatBoostClassifier</th>\n",
       "      <td>0.68</td>\n",
       "      <td>109.005903</td>\n",
       "    </tr>\n",
       "  </tbody>\n",
       "</table>\n",
       "</div>"
      ],
      "text/plain": [
       "                        F1_score    fit_time\n",
       "LogisticRegression          0.76    3.266108\n",
       "RandomForestClassifier      0.38   12.067446\n",
       "CatBoostClassifier          0.68  109.005903"
      ]
     },
     "execution_count": 36,
     "metadata": {},
     "output_type": "execute_result"
    }
   ],
   "source": [
    "results = pd.DataFrame(data=res, index=model, columns=[ \"F1_score\", 'fit_time'])\n",
    "\n",
    "results"
   ]
  },
  {
   "cell_type": "markdown",
   "metadata": {},
   "source": [
    "### Вывод:\n",
    "- Были обучены три модели классификации.\n",
    "- Лучше всего справилась модель LogisticRegression."
   ]
  },
  {
   "cell_type": "markdown",
   "metadata": {},
   "source": [
    "## Проверка модели"
   ]
  },
  {
   "cell_type": "markdown",
   "metadata": {},
   "source": [
    "### Проверка модели на тестовых данных"
   ]
  },
  {
   "cell_type": "code",
   "execution_count": 38,
   "metadata": {},
   "outputs": [
    {
     "name": "stdout",
     "output_type": "stream",
     "text": [
      "F1 на тестовой выборке для LogisticRegression: 0.76\n"
     ]
    }
   ],
   "source": [
    "# теперь проверим модель на тестовых данных\n",
    "pred_lr = gs_lr.best_estimator_.predict(X_test)\n",
    "print(f'F1 на тестовой выборке для LogisticRegression: {round(f1_score(y_test, pred_lr), 2)}')"
   ]
  },
  {
   "cell_type": "markdown",
   "metadata": {},
   "source": [
    "- Условие выполено: метрика f1 > 0.75"
   ]
  },
  {
   "cell_type": "markdown",
   "metadata": {},
   "source": [
    "### Проверка на адекватность"
   ]
  },
  {
   "cell_type": "code",
   "execution_count": 39,
   "metadata": {},
   "outputs": [],
   "source": [
    "# инициируем модель, предсказывающий константное значение\n",
    "dummy_model = DummyClassifier(strategy='stratified')"
   ]
  },
  {
   "cell_type": "code",
   "execution_count": 40,
   "metadata": {},
   "outputs": [
    {
     "name": "stdout",
     "output_type": "stream",
     "text": [
      "F1 для Dummy модели: 0.1016949152542373\n"
     ]
    }
   ],
   "source": [
    "# обучим модель и сделаем предсказание\n",
    "dummy_model.fit(X_train, y_train)\n",
    "\n",
    "pred_dummy = dummy_model.predict(X_test)\n",
    "\n",
    "score_dummy_model = f1_score(y_test, pred_dummy)\n",
    "\n",
    "print(\"F1 для Dummy модели:\", score_dummy_model)"
   ]
  },
  {
   "cell_type": "markdown",
   "metadata": {},
   "source": [
    "- Dummy модель с поставленной задачей не справилась\n",
    "- Проверка на адекватность пройдена"
   ]
  },
  {
   "cell_type": "markdown",
   "metadata": {},
   "source": [
    "### Вывод:\n",
    "- Проверили модель на тестовых данных \n",
    "- Метрика F1 больше ожидаемой\n",
    "- Модель прошла тест на адекватность"
   ]
  },
  {
   "cell_type": "markdown",
   "metadata": {},
   "source": [
    "## Заключение"
   ]
  },
  {
   "cell_type": "markdown",
   "metadata": {},
   "source": [
    "В ходе выполненй работы были произведены:\n",
    "- Выгрузка и подготовка данных\n",
    "- Обучение моделей и поиск лучшей\n",
    "- Проверка модели на тестовой выборке, а также проверка модели на адекватность \n",
    "- Лучшей моделью оказалась LogisticRegression"
   ]
  }
 ],
 "metadata": {
  "ExecuteTimeLog": [
   {
    "duration": 2007,
    "start_time": "2024-03-21T05:44:15.385Z"
   },
   {
    "duration": 3340,
    "start_time": "2024-03-21T05:44:34.415Z"
   },
   {
    "duration": 31,
    "start_time": "2024-03-21T05:44:43.551Z"
   },
   {
    "duration": 12,
    "start_time": "2024-03-21T05:44:49.286Z"
   },
   {
    "duration": 27,
    "start_time": "2024-03-21T05:44:55.075Z"
   },
   {
    "duration": 227,
    "start_time": "2024-03-21T05:45:00.835Z"
   },
   {
    "duration": 7,
    "start_time": "2024-03-21T05:45:24.607Z"
   },
   {
    "duration": 5,
    "start_time": "2024-03-21T05:45:34.617Z"
   },
   {
    "duration": 3,
    "start_time": "2024-03-21T05:46:02.662Z"
   },
   {
    "duration": 7889,
    "start_time": "2024-03-21T05:46:09.480Z"
   },
   {
    "duration": 271,
    "start_time": "2024-03-21T05:54:46.517Z"
   },
   {
    "duration": 5,
    "start_time": "2024-03-21T05:55:28.142Z"
   },
   {
    "duration": 18,
    "start_time": "2024-03-21T05:56:37.331Z"
   },
   {
    "duration": 12,
    "start_time": "2024-03-21T05:58:08.639Z"
   },
   {
    "duration": 11,
    "start_time": "2024-03-21T05:58:09.656Z"
   },
   {
    "duration": 1697,
    "start_time": "2024-03-21T05:58:20.554Z"
   },
   {
    "duration": 898,
    "start_time": "2024-03-21T05:58:22.253Z"
   },
   {
    "duration": 34,
    "start_time": "2024-03-21T05:58:23.153Z"
   },
   {
    "duration": 19,
    "start_time": "2024-03-21T05:58:23.189Z"
   },
   {
    "duration": 43,
    "start_time": "2024-03-21T05:58:23.210Z"
   },
   {
    "duration": 217,
    "start_time": "2024-03-21T05:58:23.255Z"
   },
   {
    "duration": 4,
    "start_time": "2024-03-21T05:58:23.474Z"
   },
   {
    "duration": 18,
    "start_time": "2024-03-21T05:58:23.480Z"
   },
   {
    "duration": 3,
    "start_time": "2024-03-21T05:58:25.768Z"
   },
   {
    "duration": 7573,
    "start_time": "2024-03-21T05:58:26.512Z"
   },
   {
    "duration": 8,
    "start_time": "2024-03-21T05:58:34.087Z"
   },
   {
    "duration": 158,
    "start_time": "2024-03-21T05:58:34.097Z"
   },
   {
    "duration": 12252,
    "start_time": "2024-03-21T05:59:17.472Z"
   },
   {
    "duration": 3,
    "start_time": "2024-03-21T06:00:57.196Z"
   },
   {
    "duration": 39,
    "start_time": "2024-03-21T06:03:03.783Z"
   },
   {
    "duration": 38,
    "start_time": "2024-03-21T07:03:23.286Z"
   },
   {
    "duration": 133,
    "start_time": "2024-03-21T07:17:39.601Z"
   },
   {
    "duration": 20,
    "start_time": "2024-03-21T07:18:00.076Z"
   },
   {
    "duration": 926,
    "start_time": "2024-03-21T07:18:15.071Z"
   },
   {
    "duration": 27,
    "start_time": "2024-03-21T07:18:15.999Z"
   },
   {
    "duration": 11,
    "start_time": "2024-03-21T07:18:16.027Z"
   },
   {
    "duration": 32,
    "start_time": "2024-03-21T07:18:16.040Z"
   },
   {
    "duration": 223,
    "start_time": "2024-03-21T07:18:16.073Z"
   },
   {
    "duration": 4,
    "start_time": "2024-03-21T07:18:16.298Z"
   },
   {
    "duration": 23,
    "start_time": "2024-03-21T07:18:16.304Z"
   },
   {
    "duration": 3,
    "start_time": "2024-03-21T07:18:16.513Z"
   },
   {
    "duration": 3,
    "start_time": "2024-03-21T07:18:16.704Z"
   },
   {
    "duration": 6335,
    "start_time": "2024-03-21T07:18:17.167Z"
   },
   {
    "duration": 8,
    "start_time": "2024-03-21T07:18:23.504Z"
   },
   {
    "duration": 150,
    "start_time": "2024-03-21T07:18:23.514Z"
   },
   {
    "duration": 0,
    "start_time": "2024-03-21T07:18:23.665Z"
   },
   {
    "duration": 0,
    "start_time": "2024-03-21T07:18:23.667Z"
   },
   {
    "duration": 1669,
    "start_time": "2024-03-21T07:18:36.190Z"
   },
   {
    "duration": 900,
    "start_time": "2024-03-21T07:18:39.832Z"
   },
   {
    "duration": 25,
    "start_time": "2024-03-21T07:18:40.734Z"
   },
   {
    "duration": 10,
    "start_time": "2024-03-21T07:18:40.761Z"
   },
   {
    "duration": 41,
    "start_time": "2024-03-21T07:18:40.773Z"
   },
   {
    "duration": 226,
    "start_time": "2024-03-21T07:18:40.815Z"
   },
   {
    "duration": 4,
    "start_time": "2024-03-21T07:18:41.043Z"
   },
   {
    "duration": 7,
    "start_time": "2024-03-21T07:18:41.048Z"
   },
   {
    "duration": 4,
    "start_time": "2024-03-21T07:18:41.057Z"
   },
   {
    "duration": 4,
    "start_time": "2024-03-21T07:18:41.153Z"
   },
   {
    "duration": 7537,
    "start_time": "2024-03-21T07:18:41.295Z"
   },
   {
    "duration": 8,
    "start_time": "2024-03-21T07:18:48.834Z"
   },
   {
    "duration": 214,
    "start_time": "2024-03-21T07:18:48.843Z"
   },
   {
    "duration": 12417,
    "start_time": "2024-03-21T07:18:49.059Z"
   },
   {
    "duration": 46,
    "start_time": "2024-03-21T07:19:01.478Z"
   },
   {
    "duration": 207,
    "start_time": "2024-03-21T07:19:01.526Z"
   },
   {
    "duration": 6,
    "start_time": "2024-03-21T07:26:46.856Z"
   },
   {
    "duration": 4,
    "start_time": "2024-03-21T07:27:00.160Z"
   },
   {
    "duration": 11,
    "start_time": "2024-03-21T07:27:15.718Z"
   },
   {
    "duration": 4,
    "start_time": "2024-03-21T07:27:20.312Z"
   },
   {
    "duration": 30,
    "start_time": "2024-03-21T07:27:32.733Z"
   },
   {
    "duration": 3,
    "start_time": "2024-03-21T07:27:43.051Z"
   },
   {
    "duration": 4,
    "start_time": "2024-03-21T07:27:48.924Z"
   },
   {
    "duration": 5,
    "start_time": "2024-03-21T07:31:13.984Z"
   },
   {
    "duration": 21,
    "start_time": "2024-03-21T07:35:20.659Z"
   },
   {
    "duration": 30,
    "start_time": "2024-03-21T07:35:41.297Z"
   },
   {
    "duration": 43,
    "start_time": "2024-03-21T07:36:01.678Z"
   },
   {
    "duration": 18,
    "start_time": "2024-03-21T07:44:53.263Z"
   },
   {
    "duration": 1962,
    "start_time": "2024-03-23T06:46:14.055Z"
   },
   {
    "duration": 2405,
    "start_time": "2024-03-23T06:46:16.019Z"
   },
   {
    "duration": 29,
    "start_time": "2024-03-23T06:46:18.426Z"
   },
   {
    "duration": 10,
    "start_time": "2024-03-23T06:46:18.457Z"
   },
   {
    "duration": 27,
    "start_time": "2024-03-23T06:46:18.468Z"
   },
   {
    "duration": 229,
    "start_time": "2024-03-23T06:46:18.496Z"
   },
   {
    "duration": 4,
    "start_time": "2024-03-23T06:46:18.727Z"
   },
   {
    "duration": 7,
    "start_time": "2024-03-23T06:46:23.167Z"
   },
   {
    "duration": 3,
    "start_time": "2024-03-23T06:46:23.930Z"
   },
   {
    "duration": 4,
    "start_time": "2024-03-23T06:46:24.285Z"
   },
   {
    "duration": 7606,
    "start_time": "2024-03-23T06:46:24.609Z"
   },
   {
    "duration": 7,
    "start_time": "2024-03-23T06:46:32.217Z"
   },
   {
    "duration": 150,
    "start_time": "2024-03-23T06:46:32.226Z"
   },
   {
    "duration": 12461,
    "start_time": "2024-03-23T06:46:32.378Z"
   },
   {
    "duration": 38,
    "start_time": "2024-03-23T06:46:44.841Z"
   },
   {
    "duration": 905,
    "start_time": "2024-03-23T06:47:01.042Z"
   },
   {
    "duration": 32,
    "start_time": "2024-03-23T06:47:01.949Z"
   },
   {
    "duration": 41,
    "start_time": "2024-03-23T06:47:01.983Z"
   },
   {
    "duration": 51,
    "start_time": "2024-03-23T06:47:02.027Z"
   },
   {
    "duration": 253,
    "start_time": "2024-03-23T06:47:02.080Z"
   },
   {
    "duration": 6,
    "start_time": "2024-03-23T06:47:02.334Z"
   },
   {
    "duration": 13,
    "start_time": "2024-03-23T06:47:02.342Z"
   },
   {
    "duration": 3,
    "start_time": "2024-03-23T06:47:04.283Z"
   },
   {
    "duration": 3,
    "start_time": "2024-03-23T06:47:06.260Z"
   },
   {
    "duration": 6445,
    "start_time": "2024-03-23T06:47:06.425Z"
   },
   {
    "duration": 16,
    "start_time": "2024-03-23T06:47:12.872Z"
   },
   {
    "duration": 173,
    "start_time": "2024-03-23T06:47:12.890Z"
   },
   {
    "duration": 1734,
    "start_time": "2024-03-23T06:47:24.542Z"
   },
   {
    "duration": 878,
    "start_time": "2024-03-23T06:47:26.277Z"
   },
   {
    "duration": 28,
    "start_time": "2024-03-23T06:47:27.156Z"
   },
   {
    "duration": 9,
    "start_time": "2024-03-23T06:47:27.186Z"
   },
   {
    "duration": 43,
    "start_time": "2024-03-23T06:47:27.196Z"
   },
   {
    "duration": 237,
    "start_time": "2024-03-23T06:47:27.240Z"
   },
   {
    "duration": 5,
    "start_time": "2024-03-23T06:47:27.958Z"
   },
   {
    "duration": 7,
    "start_time": "2024-03-23T06:47:29.647Z"
   },
   {
    "duration": 7009,
    "start_time": "2024-03-23T06:49:39.597Z"
   },
   {
    "duration": 152,
    "start_time": "2024-03-23T06:50:49.539Z"
   },
   {
    "duration": 25,
    "start_time": "2024-03-23T06:51:33.516Z"
   },
   {
    "duration": 2532,
    "start_time": "2024-03-23T06:51:47.901Z"
   },
   {
    "duration": 26,
    "start_time": "2024-03-23T06:51:59.801Z"
   },
   {
    "duration": 6,
    "start_time": "2024-03-23T06:52:30.400Z"
   },
   {
    "duration": 46,
    "start_time": "2024-03-23T06:53:10.289Z"
   },
   {
    "duration": 13,
    "start_time": "2024-03-23T06:54:03.696Z"
   },
   {
    "duration": 4,
    "start_time": "2024-03-23T06:54:09.962Z"
   },
   {
    "duration": 6,
    "start_time": "2024-03-23T06:54:16.880Z"
   },
   {
    "duration": 6,
    "start_time": "2024-03-23T06:54:19.936Z"
   },
   {
    "duration": 52,
    "start_time": "2024-03-23T06:55:54.944Z"
   },
   {
    "duration": 49,
    "start_time": "2024-03-23T06:59:09.808Z"
   },
   {
    "duration": 7,
    "start_time": "2024-03-23T06:59:26.786Z"
   },
   {
    "duration": 6,
    "start_time": "2024-03-23T06:59:39.354Z"
   },
   {
    "duration": 49,
    "start_time": "2024-03-23T06:59:58.940Z"
   },
   {
    "duration": 52,
    "start_time": "2024-03-23T07:00:04.810Z"
   },
   {
    "duration": 50,
    "start_time": "2024-03-23T07:00:14.302Z"
   },
   {
    "duration": 12,
    "start_time": "2024-03-23T07:12:33.818Z"
   },
   {
    "duration": 10,
    "start_time": "2024-03-23T07:12:36.886Z"
   },
   {
    "duration": 12,
    "start_time": "2024-03-23T07:12:42.916Z"
   },
   {
    "duration": 22,
    "start_time": "2024-03-23T07:18:43.641Z"
   },
   {
    "duration": 18,
    "start_time": "2024-03-23T07:19:04.095Z"
   },
   {
    "duration": 31,
    "start_time": "2024-03-23T07:34:29.713Z"
   },
   {
    "duration": 4,
    "start_time": "2024-03-23T07:36:12.799Z"
   },
   {
    "duration": 19,
    "start_time": "2024-03-23T07:37:40.797Z"
   },
   {
    "duration": 12,
    "start_time": "2024-03-23T07:37:49.606Z"
   },
   {
    "duration": 15,
    "start_time": "2024-03-23T07:38:05.123Z"
   },
   {
    "duration": 8,
    "start_time": "2024-03-23T07:38:13.212Z"
   },
   {
    "duration": 6,
    "start_time": "2024-03-23T07:40:20.164Z"
   },
   {
    "duration": 2,
    "start_time": "2024-03-23T07:50:45.152Z"
   },
   {
    "duration": 4,
    "start_time": "2024-03-23T07:50:46.145Z"
   },
   {
    "duration": 2420,
    "start_time": "2024-03-23T07:50:48.133Z"
   },
   {
    "duration": 4,
    "start_time": "2024-03-23T07:50:50.555Z"
   },
   {
    "duration": 143,
    "start_time": "2024-03-23T07:50:53.033Z"
   },
   {
    "duration": 2421,
    "start_time": "2024-03-23T07:51:01.954Z"
   },
   {
    "duration": 10,
    "start_time": "2024-03-23T07:51:04.377Z"
   },
   {
    "duration": 4,
    "start_time": "2024-03-23T07:51:19.054Z"
   },
   {
    "duration": 9,
    "start_time": "2024-03-23T07:51:24.690Z"
   },
   {
    "duration": 13,
    "start_time": "2024-03-23T07:51:31.299Z"
   },
   {
    "duration": 3,
    "start_time": "2024-03-23T07:51:32.413Z"
   },
   {
    "duration": 4,
    "start_time": "2024-03-23T07:51:47.310Z"
   },
   {
    "duration": 4,
    "start_time": "2024-03-23T07:52:46.967Z"
   },
   {
    "duration": 3,
    "start_time": "2024-03-23T07:52:51.552Z"
   },
   {
    "duration": 1522,
    "start_time": "2024-03-23T07:53:06.761Z"
   },
   {
    "duration": 903,
    "start_time": "2024-03-23T07:53:08.285Z"
   },
   {
    "duration": 36,
    "start_time": "2024-03-23T07:53:09.190Z"
   },
   {
    "duration": 10,
    "start_time": "2024-03-23T07:53:09.228Z"
   },
   {
    "duration": 27,
    "start_time": "2024-03-23T07:53:09.240Z"
   },
   {
    "duration": 249,
    "start_time": "2024-03-23T07:53:09.269Z"
   },
   {
    "duration": 4,
    "start_time": "2024-03-23T07:53:09.520Z"
   },
   {
    "duration": 8,
    "start_time": "2024-03-23T07:53:09.526Z"
   },
   {
    "duration": 28,
    "start_time": "2024-03-23T07:53:09.536Z"
   },
   {
    "duration": 6,
    "start_time": "2024-03-23T07:53:09.567Z"
   },
   {
    "duration": 40,
    "start_time": "2024-03-23T07:53:09.575Z"
   },
   {
    "duration": 5,
    "start_time": "2024-03-23T07:53:09.617Z"
   },
   {
    "duration": 2391,
    "start_time": "2024-03-23T07:53:09.624Z"
   },
   {
    "duration": 4,
    "start_time": "2024-03-23T07:53:12.017Z"
   },
   {
    "duration": 215,
    "start_time": "2024-03-23T07:53:12.022Z"
   },
   {
    "duration": 593,
    "start_time": "2024-03-23T07:53:12.238Z"
   },
   {
    "duration": 0,
    "start_time": "2024-03-23T07:53:12.833Z"
   },
   {
    "duration": 1602,
    "start_time": "2024-03-23T07:53:40.715Z"
   },
   {
    "duration": 898,
    "start_time": "2024-03-23T07:53:42.320Z"
   },
   {
    "duration": 32,
    "start_time": "2024-03-23T07:53:43.220Z"
   },
   {
    "duration": 10,
    "start_time": "2024-03-23T07:53:43.254Z"
   },
   {
    "duration": 26,
    "start_time": "2024-03-23T07:53:43.266Z"
   },
   {
    "duration": 249,
    "start_time": "2024-03-23T07:53:43.293Z"
   },
   {
    "duration": 4,
    "start_time": "2024-03-23T07:53:43.544Z"
   },
   {
    "duration": 7,
    "start_time": "2024-03-23T07:53:43.550Z"
   },
   {
    "duration": 25,
    "start_time": "2024-03-23T07:53:43.558Z"
   },
   {
    "duration": 5,
    "start_time": "2024-03-23T07:53:43.584Z"
   },
   {
    "duration": 2,
    "start_time": "2024-03-23T07:53:43.615Z"
   },
   {
    "duration": 4,
    "start_time": "2024-03-23T07:53:43.619Z"
   },
   {
    "duration": 2433,
    "start_time": "2024-03-23T07:53:43.624Z"
   },
   {
    "duration": 4,
    "start_time": "2024-03-23T07:53:46.059Z"
   },
   {
    "duration": 210,
    "start_time": "2024-03-23T07:53:46.065Z"
   },
   {
    "duration": 564,
    "start_time": "2024-03-23T07:53:46.277Z"
   },
   {
    "duration": 0,
    "start_time": "2024-03-23T07:53:46.843Z"
   },
   {
    "duration": 7,
    "start_time": "2024-03-23T07:53:58.697Z"
   },
   {
    "duration": 1620,
    "start_time": "2024-03-23T07:59:07.448Z"
   },
   {
    "duration": 905,
    "start_time": "2024-03-23T07:59:09.070Z"
   },
   {
    "duration": 32,
    "start_time": "2024-03-23T07:59:09.976Z"
   },
   {
    "duration": 13,
    "start_time": "2024-03-23T07:59:10.014Z"
   },
   {
    "duration": 37,
    "start_time": "2024-03-23T07:59:10.029Z"
   },
   {
    "duration": 239,
    "start_time": "2024-03-23T07:59:10.068Z"
   },
   {
    "duration": 9,
    "start_time": "2024-03-23T07:59:10.308Z"
   },
   {
    "duration": 8,
    "start_time": "2024-03-23T07:59:10.318Z"
   },
   {
    "duration": 25,
    "start_time": "2024-03-23T07:59:10.328Z"
   },
   {
    "duration": 5,
    "start_time": "2024-03-23T07:59:10.355Z"
   },
   {
    "duration": 6,
    "start_time": "2024-03-23T07:59:10.361Z"
   },
   {
    "duration": 5,
    "start_time": "2024-03-23T07:59:10.368Z"
   },
   {
    "duration": 2451,
    "start_time": "2024-03-23T07:59:10.374Z"
   },
   {
    "duration": 4,
    "start_time": "2024-03-23T07:59:12.828Z"
   },
   {
    "duration": 227,
    "start_time": "2024-03-23T07:59:12.835Z"
   },
   {
    "duration": 2445,
    "start_time": "2024-03-23T07:59:13.064Z"
   },
   {
    "duration": 13,
    "start_time": "2024-03-23T07:59:15.511Z"
   },
   {
    "duration": 4,
    "start_time": "2024-03-23T07:59:23.741Z"
   },
   {
    "duration": 4,
    "start_time": "2024-03-23T07:59:29.462Z"
   },
   {
    "duration": 7,
    "start_time": "2024-03-23T08:00:05.674Z"
   },
   {
    "duration": 2,
    "start_time": "2024-03-23T08:13:02.136Z"
   },
   {
    "duration": 3,
    "start_time": "2024-03-23T08:13:04.563Z"
   },
   {
    "duration": 29237,
    "start_time": "2024-03-23T08:13:10.280Z"
   },
   {
    "duration": 2,
    "start_time": "2024-03-23T08:14:13.059Z"
   },
   {
    "duration": 3,
    "start_time": "2024-03-23T08:14:21.969Z"
   },
   {
    "duration": 3,
    "start_time": "2024-03-23T08:17:45.846Z"
   },
   {
    "duration": 3,
    "start_time": "2024-03-23T08:18:09.836Z"
   },
   {
    "duration": 147,
    "start_time": "2024-03-23T08:18:25.403Z"
   },
   {
    "duration": 766526,
    "start_time": "2024-03-23T08:18:30.132Z"
   },
   {
    "duration": 2,
    "start_time": "2024-03-23T08:31:16.660Z"
   },
   {
    "duration": 23,
    "start_time": "2024-03-23T08:31:16.663Z"
   },
   {
    "duration": 16,
    "start_time": "2024-03-23T08:31:16.688Z"
   },
   {
    "duration": 3,
    "start_time": "2024-03-23T08:31:16.706Z"
   },
   {
    "duration": 8239913,
    "start_time": "2024-03-23T08:31:16.710Z"
   },
   {
    "duration": 3,
    "start_time": "2024-03-23T10:48:36.625Z"
   },
   {
    "duration": 11,
    "start_time": "2024-03-23T10:48:36.629Z"
   },
   {
    "duration": 5,
    "start_time": "2024-03-23T10:48:36.660Z"
   },
   {
    "duration": 9,
    "start_time": "2024-03-23T10:48:36.666Z"
   },
   {
    "duration": 10617860,
    "start_time": "2024-03-23T10:48:36.677Z"
   },
   {
    "duration": 0,
    "start_time": "2024-03-23T13:45:34.538Z"
   },
   {
    "duration": 0,
    "start_time": "2024-03-23T13:45:34.539Z"
   },
   {
    "duration": 9,
    "start_time": "2024-03-23T13:45:59.912Z"
   },
   {
    "duration": 3,
    "start_time": "2024-03-23T13:46:03.549Z"
   },
   {
    "duration": 3,
    "start_time": "2024-03-23T13:46:03.722Z"
   },
   {
    "duration": 30506,
    "start_time": "2024-03-23T13:46:03.909Z"
   },
   {
    "duration": 3,
    "start_time": "2024-03-23T13:46:34.417Z"
   },
   {
    "duration": 6,
    "start_time": "2024-03-23T13:46:34.422Z"
   },
   {
    "duration": 4,
    "start_time": "2024-03-23T13:48:06.466Z"
   },
   {
    "duration": 52,
    "start_time": "2024-03-23T13:48:30.931Z"
   },
   {
    "duration": 4,
    "start_time": "2024-03-23T13:48:38.013Z"
   },
   {
    "duration": 8,
    "start_time": "2024-03-23T13:48:42.417Z"
   },
   {
    "duration": 241,
    "start_time": "2024-03-23T13:52:04.256Z"
   },
   {
    "duration": 13,
    "start_time": "2024-03-23T13:52:21.519Z"
   },
   {
    "duration": 209,
    "start_time": "2024-03-23T13:52:26.201Z"
   },
   {
    "duration": 14,
    "start_time": "2024-03-23T13:53:12.027Z"
   },
   {
    "duration": 25,
    "start_time": "2024-03-23T13:53:15.397Z"
   },
   {
    "duration": 233,
    "start_time": "2024-03-23T13:53:24.606Z"
   },
   {
    "duration": 9,
    "start_time": "2024-03-23T13:53:35.305Z"
   },
   {
    "duration": 8,
    "start_time": "2024-03-23T13:53:49.727Z"
   },
   {
    "duration": 3,
    "start_time": "2024-03-23T13:53:54.084Z"
   },
   {
    "duration": 13,
    "start_time": "2024-03-23T13:53:56.092Z"
   },
   {
    "duration": 12,
    "start_time": "2024-03-23T13:55:35.625Z"
   },
   {
    "duration": 7,
    "start_time": "2024-03-23T13:57:18.917Z"
   },
   {
    "duration": 6,
    "start_time": "2024-03-23T13:57:21.351Z"
   },
   {
    "duration": 10,
    "start_time": "2024-03-23T14:00:41.516Z"
   },
   {
    "duration": 1611,
    "start_time": "2024-03-23T14:00:47.865Z"
   },
   {
    "duration": 928,
    "start_time": "2024-03-23T14:00:49.478Z"
   },
   {
    "duration": 37,
    "start_time": "2024-03-23T14:00:50.408Z"
   },
   {
    "duration": 11,
    "start_time": "2024-03-23T14:00:50.447Z"
   },
   {
    "duration": 43,
    "start_time": "2024-03-23T14:00:50.460Z"
   },
   {
    "duration": 229,
    "start_time": "2024-03-23T14:00:50.504Z"
   },
   {
    "duration": 5,
    "start_time": "2024-03-23T14:00:50.735Z"
   },
   {
    "duration": 15,
    "start_time": "2024-03-23T14:00:50.741Z"
   },
   {
    "duration": 39,
    "start_time": "2024-03-23T14:00:50.758Z"
   },
   {
    "duration": 20,
    "start_time": "2024-03-23T14:00:50.798Z"
   },
   {
    "duration": 7,
    "start_time": "2024-03-23T14:00:50.820Z"
   },
   {
    "duration": 6,
    "start_time": "2024-03-23T14:00:50.829Z"
   },
   {
    "duration": 2444,
    "start_time": "2024-03-23T14:00:50.836Z"
   },
   {
    "duration": 5,
    "start_time": "2024-03-23T14:00:53.284Z"
   },
   {
    "duration": 211,
    "start_time": "2024-03-23T14:00:53.292Z"
   },
   {
    "duration": 2544,
    "start_time": "2024-03-23T14:00:53.505Z"
   },
   {
    "duration": 11,
    "start_time": "2024-03-23T14:00:56.050Z"
   },
   {
    "duration": 3,
    "start_time": "2024-03-23T14:00:56.063Z"
   },
   {
    "duration": 6,
    "start_time": "2024-03-23T14:00:56.068Z"
   },
   {
    "duration": 32044,
    "start_time": "2024-03-23T14:00:56.076Z"
   },
   {
    "duration": 2,
    "start_time": "2024-03-23T14:01:28.122Z"
   },
   {
    "duration": 91,
    "start_time": "2024-03-23T14:01:28.126Z"
   },
   {
    "duration": 13,
    "start_time": "2024-03-23T14:01:28.219Z"
   },
   {
    "duration": 13,
    "start_time": "2024-03-23T14:01:28.234Z"
   },
   {
    "duration": 782323,
    "start_time": "2024-03-23T14:01:28.249Z"
   },
   {
    "duration": 3,
    "start_time": "2024-03-23T14:14:30.573Z"
   },
   {
    "duration": 52,
    "start_time": "2024-03-23T14:14:30.578Z"
   },
   {
    "duration": 32,
    "start_time": "2024-03-23T14:14:30.632Z"
   },
   {
    "duration": 44,
    "start_time": "2024-03-23T14:14:30.665Z"
   },
   {
    "duration": 6783010,
    "start_time": "2024-03-23T14:14:30.712Z"
   },
   {
    "duration": 0,
    "start_time": "2024-03-23T16:07:33.724Z"
   },
   {
    "duration": 0,
    "start_time": "2024-03-23T16:07:33.725Z"
   },
   {
    "duration": 0,
    "start_time": "2024-03-23T16:07:33.726Z"
   },
   {
    "duration": 0,
    "start_time": "2024-03-23T16:07:33.728Z"
   },
   {
    "duration": 0,
    "start_time": "2024-03-23T16:07:33.729Z"
   },
   {
    "duration": 0,
    "start_time": "2024-03-23T16:07:33.730Z"
   },
   {
    "duration": 0,
    "start_time": "2024-03-23T16:07:33.731Z"
   },
   {
    "duration": 0,
    "start_time": "2024-03-23T16:07:33.732Z"
   },
   {
    "duration": 11,
    "start_time": "2024-03-23T16:07:55.983Z"
   },
   {
    "duration": 1669,
    "start_time": "2024-03-23T16:11:02.832Z"
   },
   {
    "duration": 980,
    "start_time": "2024-03-23T16:11:04.503Z"
   },
   {
    "duration": 35,
    "start_time": "2024-03-23T16:11:05.486Z"
   },
   {
    "duration": 14,
    "start_time": "2024-03-23T16:11:05.523Z"
   },
   {
    "duration": 34,
    "start_time": "2024-03-23T16:11:05.540Z"
   },
   {
    "duration": 292,
    "start_time": "2024-03-23T16:11:05.576Z"
   },
   {
    "duration": 5,
    "start_time": "2024-03-23T16:11:05.869Z"
   },
   {
    "duration": 14,
    "start_time": "2024-03-23T16:11:05.875Z"
   },
   {
    "duration": 44,
    "start_time": "2024-03-23T16:11:05.891Z"
   },
   {
    "duration": 7,
    "start_time": "2024-03-23T16:11:05.937Z"
   },
   {
    "duration": 6,
    "start_time": "2024-03-23T16:11:05.945Z"
   },
   {
    "duration": 5,
    "start_time": "2024-03-23T16:11:05.952Z"
   },
   {
    "duration": 2554,
    "start_time": "2024-03-23T16:11:05.958Z"
   },
   {
    "duration": 6,
    "start_time": "2024-03-23T16:11:08.516Z"
   },
   {
    "duration": 287,
    "start_time": "2024-03-23T16:11:08.524Z"
   },
   {
    "duration": 2479,
    "start_time": "2024-03-23T16:11:08.824Z"
   },
   {
    "duration": 17,
    "start_time": "2024-03-23T16:11:11.305Z"
   },
   {
    "duration": 7,
    "start_time": "2024-03-23T16:11:11.324Z"
   },
   {
    "duration": 4,
    "start_time": "2024-03-23T16:11:11.333Z"
   },
   {
    "duration": 30985,
    "start_time": "2024-03-23T16:11:11.339Z"
   },
   {
    "duration": 89,
    "start_time": "2024-03-23T16:11:42.327Z"
   },
   {
    "duration": 12,
    "start_time": "2024-03-23T16:11:42.418Z"
   },
   {
    "duration": 5,
    "start_time": "2024-03-23T16:11:42.432Z"
   },
   {
    "duration": 6,
    "start_time": "2024-03-23T16:11:42.438Z"
   },
   {
    "duration": 763443,
    "start_time": "2024-03-23T16:11:42.446Z"
   },
   {
    "duration": 2,
    "start_time": "2024-03-23T16:24:25.891Z"
   },
   {
    "duration": 7,
    "start_time": "2024-03-23T16:24:25.894Z"
   },
   {
    "duration": 14,
    "start_time": "2024-03-23T16:24:25.903Z"
   },
   {
    "duration": 10,
    "start_time": "2024-03-23T16:24:25.919Z"
   },
   {
    "duration": 1901853,
    "start_time": "2024-03-23T16:24:25.931Z"
   },
   {
    "duration": 3,
    "start_time": "2024-03-23T16:56:07.786Z"
   },
   {
    "duration": 6,
    "start_time": "2024-03-23T16:56:07.790Z"
   },
   {
    "duration": 4,
    "start_time": "2024-03-23T16:56:07.797Z"
   },
   {
    "duration": 14,
    "start_time": "2024-03-23T16:56:07.802Z"
   },
   {
    "duration": 135,
    "start_time": "2024-03-23T16:56:07.817Z"
   },
   {
    "duration": 0,
    "start_time": "2024-03-23T16:56:07.954Z"
   },
   {
    "duration": 1,
    "start_time": "2024-03-23T16:56:07.955Z"
   },
   {
    "duration": 14,
    "start_time": "2024-03-23T17:35:46.129Z"
   },
   {
    "duration": 6,
    "start_time": "2024-03-23T17:36:33.758Z"
   },
   {
    "duration": 3,
    "start_time": "2024-03-23T17:36:41.294Z"
   },
   {
    "duration": 3,
    "start_time": "2024-03-23T17:36:54.299Z"
   },
   {
    "duration": 13,
    "start_time": "2024-03-23T17:36:55.584Z"
   },
   {
    "duration": 1742,
    "start_time": "2024-03-26T12:07:00.044Z"
   },
   {
    "duration": 2203,
    "start_time": "2024-03-26T12:07:08.333Z"
   },
   {
    "duration": 31,
    "start_time": "2024-03-26T12:07:10.538Z"
   },
   {
    "duration": 24,
    "start_time": "2024-03-26T12:07:10.571Z"
   },
   {
    "duration": 58,
    "start_time": "2024-03-26T12:07:10.597Z"
   },
   {
    "duration": 199,
    "start_time": "2024-03-26T12:07:10.829Z"
   },
   {
    "duration": 5,
    "start_time": "2024-03-26T12:07:11.430Z"
   },
   {
    "duration": 7,
    "start_time": "2024-03-26T12:07:11.816Z"
   },
   {
    "duration": 46,
    "start_time": "2024-03-26T12:11:53.664Z"
   },
   {
    "duration": 2,
    "start_time": "2024-03-26T12:12:49.978Z"
   },
   {
    "duration": 5,
    "start_time": "2024-03-26T12:13:33.573Z"
   },
   {
    "duration": 1998,
    "start_time": "2024-03-27T08:43:36.701Z"
   },
   {
    "duration": 3425,
    "start_time": "2024-03-27T08:43:46.133Z"
   },
   {
    "duration": 33,
    "start_time": "2024-03-27T08:43:49.560Z"
   },
   {
    "duration": 36,
    "start_time": "2024-03-27T08:43:49.595Z"
   },
   {
    "duration": 39,
    "start_time": "2024-03-27T08:43:49.633Z"
   },
   {
    "duration": 230,
    "start_time": "2024-03-27T08:43:49.674Z"
   },
   {
    "duration": 5,
    "start_time": "2024-03-27T08:43:49.905Z"
   },
   {
    "duration": 34,
    "start_time": "2024-03-27T08:43:49.911Z"
   },
   {
    "duration": 2,
    "start_time": "2024-03-27T08:44:30.532Z"
   },
   {
    "duration": 2881,
    "start_time": "2024-03-27T09:14:32.054Z"
   },
   {
    "duration": 394,
    "start_time": "2024-03-27T09:29:26.132Z"
   },
   {
    "duration": 11170,
    "start_time": "2024-03-27T09:36:01.585Z"
   },
   {
    "duration": 10,
    "start_time": "2024-03-27T09:36:15.339Z"
   },
   {
    "duration": 895,
    "start_time": "2024-03-27T09:36:21.824Z"
   },
   {
    "duration": 32,
    "start_time": "2024-03-27T09:36:22.721Z"
   },
   {
    "duration": 9,
    "start_time": "2024-03-27T09:36:22.755Z"
   },
   {
    "duration": 53,
    "start_time": "2024-03-27T09:36:22.765Z"
   },
   {
    "duration": 225,
    "start_time": "2024-03-27T09:36:22.820Z"
   },
   {
    "duration": 4,
    "start_time": "2024-03-27T09:36:23.047Z"
   },
   {
    "duration": 19,
    "start_time": "2024-03-27T09:36:23.052Z"
   },
   {
    "duration": 2,
    "start_time": "2024-03-27T09:36:24.034Z"
   },
   {
    "duration": 102,
    "start_time": "2024-03-27T09:36:25.361Z"
   },
   {
    "duration": 72,
    "start_time": "2024-03-27T09:37:53.857Z"
   },
   {
    "duration": 189,
    "start_time": "2024-03-27T09:44:06.058Z"
   },
   {
    "duration": 3,
    "start_time": "2024-03-27T09:46:40.111Z"
   },
   {
    "duration": 442,
    "start_time": "2024-03-27T09:46:44.527Z"
   },
   {
    "duration": 3,
    "start_time": "2024-03-27T09:51:43.009Z"
   },
   {
    "duration": 3,
    "start_time": "2024-03-27T09:51:43.463Z"
   },
   {
    "duration": 438,
    "start_time": "2024-03-27T09:51:44.804Z"
   },
   {
    "duration": 10,
    "start_time": "2024-03-27T09:51:53.814Z"
   },
   {
    "duration": 881,
    "start_time": "2024-03-27T09:51:54.330Z"
   },
   {
    "duration": 29,
    "start_time": "2024-03-27T09:51:55.213Z"
   },
   {
    "duration": 7,
    "start_time": "2024-03-27T09:51:55.244Z"
   },
   {
    "duration": 46,
    "start_time": "2024-03-27T09:51:55.253Z"
   },
   {
    "duration": 239,
    "start_time": "2024-03-27T09:51:55.301Z"
   },
   {
    "duration": 6,
    "start_time": "2024-03-27T09:51:55.542Z"
   },
   {
    "duration": 9,
    "start_time": "2024-03-27T09:51:55.550Z"
   },
   {
    "duration": 2,
    "start_time": "2024-03-27T09:51:56.179Z"
   },
   {
    "duration": 2,
    "start_time": "2024-03-27T09:51:56.495Z"
   },
   {
    "duration": 3,
    "start_time": "2024-03-27T09:51:56.813Z"
   },
   {
    "duration": 416,
    "start_time": "2024-03-27T09:51:58.003Z"
   },
   {
    "duration": 3,
    "start_time": "2024-03-27T09:52:52.910Z"
   },
   {
    "duration": 7768,
    "start_time": "2024-03-27T09:52:53.681Z"
   },
   {
    "duration": 4,
    "start_time": "2024-03-27T09:55:26.159Z"
   },
   {
    "duration": 5,
    "start_time": "2024-03-27T09:57:44.561Z"
   },
   {
    "duration": 4,
    "start_time": "2024-03-27T09:58:08.150Z"
   },
   {
    "duration": 1461,
    "start_time": "2024-03-27T09:58:09.715Z"
   },
   {
    "duration": 914,
    "start_time": "2024-03-27T09:58:23.688Z"
   },
   {
    "duration": 31,
    "start_time": "2024-03-27T09:58:24.604Z"
   },
   {
    "duration": 15,
    "start_time": "2024-03-27T09:58:24.636Z"
   },
   {
    "duration": 43,
    "start_time": "2024-03-27T09:58:24.653Z"
   },
   {
    "duration": 231,
    "start_time": "2024-03-27T09:58:24.698Z"
   },
   {
    "duration": 5,
    "start_time": "2024-03-27T09:58:24.930Z"
   },
   {
    "duration": 61,
    "start_time": "2024-03-27T09:58:24.937Z"
   },
   {
    "duration": 3,
    "start_time": "2024-03-27T09:58:25.581Z"
   },
   {
    "duration": 2,
    "start_time": "2024-03-27T09:58:25.911Z"
   },
   {
    "duration": 3,
    "start_time": "2024-03-27T09:58:26.128Z"
   },
   {
    "duration": 3,
    "start_time": "2024-03-27T09:58:26.378Z"
   },
   {
    "duration": 451,
    "start_time": "2024-03-27T09:58:27.944Z"
   },
   {
    "duration": 2216,
    "start_time": "2024-03-27T10:13:57.196Z"
   },
   {
    "duration": 859,
    "start_time": "2024-03-27T10:14:06.390Z"
   },
   {
    "duration": 27,
    "start_time": "2024-03-27T10:14:07.251Z"
   },
   {
    "duration": 73,
    "start_time": "2024-03-27T10:14:07.280Z"
   },
   {
    "duration": 58,
    "start_time": "2024-03-27T10:14:07.355Z"
   },
   {
    "duration": 259,
    "start_time": "2024-03-27T10:14:07.415Z"
   },
   {
    "duration": 4,
    "start_time": "2024-03-27T10:14:07.675Z"
   },
   {
    "duration": 15,
    "start_time": "2024-03-27T10:14:07.681Z"
   },
   {
    "duration": 2,
    "start_time": "2024-03-27T10:14:08.408Z"
   },
   {
    "duration": 3,
    "start_time": "2024-03-27T10:14:08.718Z"
   },
   {
    "duration": 4,
    "start_time": "2024-03-27T10:14:08.984Z"
   },
   {
    "duration": 4,
    "start_time": "2024-03-27T10:14:09.415Z"
   },
   {
    "duration": 2030,
    "start_time": "2024-03-27T10:19:31.897Z"
   },
   {
    "duration": 893,
    "start_time": "2024-03-27T10:19:41.559Z"
   },
   {
    "duration": 29,
    "start_time": "2024-03-27T10:19:42.454Z"
   },
   {
    "duration": 11,
    "start_time": "2024-03-27T10:19:42.494Z"
   },
   {
    "duration": 46,
    "start_time": "2024-03-27T10:19:42.506Z"
   },
   {
    "duration": 280,
    "start_time": "2024-03-27T10:19:42.554Z"
   },
   {
    "duration": 6,
    "start_time": "2024-03-27T10:19:42.836Z"
   },
   {
    "duration": 43,
    "start_time": "2024-03-27T10:19:42.844Z"
   },
   {
    "duration": 8,
    "start_time": "2024-03-27T10:19:44.358Z"
   },
   {
    "duration": 3,
    "start_time": "2024-03-27T10:19:44.812Z"
   },
   {
    "duration": 3,
    "start_time": "2024-03-27T10:19:45.248Z"
   },
   {
    "duration": 13,
    "start_time": "2024-03-27T10:19:45.432Z"
   },
   {
    "duration": 3,
    "start_time": "2024-03-27T10:19:45.644Z"
   },
   {
    "duration": 81101,
    "start_time": "2024-03-27T10:19:47.047Z"
   },
   {
    "duration": 4,
    "start_time": "2024-03-27T10:22:07.265Z"
   },
   {
    "duration": 6,
    "start_time": "2024-03-27T10:22:08.495Z"
   },
   {
    "duration": 5,
    "start_time": "2024-03-27T10:22:15.997Z"
   },
   {
    "duration": 199,
    "start_time": "2024-03-27T10:24:22.954Z"
   },
   {
    "duration": 3,
    "start_time": "2024-03-27T10:25:44.569Z"
   },
   {
    "duration": 3,
    "start_time": "2024-03-27T10:25:45.005Z"
   },
   {
    "duration": 24523,
    "start_time": "2024-03-27T10:25:45.379Z"
   },
   {
    "duration": 93,
    "start_time": "2024-03-27T10:26:09.904Z"
   },
   {
    "duration": 97,
    "start_time": "2024-03-27T10:26:09.999Z"
   },
   {
    "duration": 4,
    "start_time": "2024-03-27T10:26:24.478Z"
   },
   {
    "duration": 3,
    "start_time": "2024-03-27T10:27:32.719Z"
   },
   {
    "duration": 3,
    "start_time": "2024-03-27T10:27:55.109Z"
   },
   {
    "duration": 3,
    "start_time": "2024-03-27T10:30:53.998Z"
   },
   {
    "duration": 3,
    "start_time": "2024-03-27T10:31:04.512Z"
   },
   {
    "duration": 3,
    "start_time": "2024-03-27T10:31:25.644Z"
   },
   {
    "duration": 3,
    "start_time": "2024-03-27T10:33:05.462Z"
   },
   {
    "duration": 4,
    "start_time": "2024-03-27T10:33:11.471Z"
   },
   {
    "duration": 4,
    "start_time": "2024-03-27T10:33:15.184Z"
   },
   {
    "duration": 4,
    "start_time": "2024-03-27T10:33:20.509Z"
   },
   {
    "duration": 3,
    "start_time": "2024-03-27T10:33:26.409Z"
   },
   {
    "duration": 3,
    "start_time": "2024-03-27T10:33:29.354Z"
   },
   {
    "duration": 4,
    "start_time": "2024-03-27T10:35:16.540Z"
   },
   {
    "duration": 4,
    "start_time": "2024-03-27T10:35:28.701Z"
   },
   {
    "duration": 4,
    "start_time": "2024-03-27T10:35:29.797Z"
   },
   {
    "duration": 895,
    "start_time": "2024-03-27T10:36:37.449Z"
   },
   {
    "duration": 30,
    "start_time": "2024-03-27T10:36:38.346Z"
   },
   {
    "duration": 20,
    "start_time": "2024-03-27T10:36:38.378Z"
   },
   {
    "duration": 38,
    "start_time": "2024-03-27T10:36:38.400Z"
   },
   {
    "duration": 210,
    "start_time": "2024-03-27T10:36:38.440Z"
   },
   {
    "duration": 6,
    "start_time": "2024-03-27T10:36:38.652Z"
   },
   {
    "duration": 10,
    "start_time": "2024-03-27T10:36:38.659Z"
   },
   {
    "duration": 9,
    "start_time": "2024-03-27T10:36:39.728Z"
   },
   {
    "duration": 3,
    "start_time": "2024-03-27T10:36:39.871Z"
   },
   {
    "duration": 3,
    "start_time": "2024-03-27T10:36:40.002Z"
   },
   {
    "duration": 4,
    "start_time": "2024-03-27T10:36:40.149Z"
   },
   {
    "duration": 3,
    "start_time": "2024-03-27T10:36:40.290Z"
   },
   {
    "duration": 491,
    "start_time": "2024-03-27T10:36:41.491Z"
   },
   {
    "duration": 4,
    "start_time": "2024-03-27T10:37:01.504Z"
   },
   {
    "duration": 22,
    "start_time": "2024-03-27T10:37:01.650Z"
   },
   {
    "duration": 83161,
    "start_time": "2024-03-27T10:37:01.961Z"
   },
   {
    "duration": 5,
    "start_time": "2024-03-27T10:39:08.491Z"
   },
   {
    "duration": 5,
    "start_time": "2024-03-27T10:39:08.846Z"
   },
   {
    "duration": 11,
    "start_time": "2024-03-27T10:39:09.151Z"
   },
   {
    "duration": 238,
    "start_time": "2024-03-27T10:39:09.991Z"
   },
   {
    "duration": 1840,
    "start_time": "2024-03-27T10:51:12.060Z"
   },
   {
    "duration": 876,
    "start_time": "2024-03-27T10:51:16.129Z"
   },
   {
    "duration": 30,
    "start_time": "2024-03-27T10:51:17.007Z"
   },
   {
    "duration": 24,
    "start_time": "2024-03-27T10:51:17.039Z"
   },
   {
    "duration": 31,
    "start_time": "2024-03-27T10:51:17.065Z"
   },
   {
    "duration": 243,
    "start_time": "2024-03-27T10:51:17.098Z"
   },
   {
    "duration": 5,
    "start_time": "2024-03-27T10:51:17.342Z"
   },
   {
    "duration": 14,
    "start_time": "2024-03-27T10:51:17.348Z"
   },
   {
    "duration": 10,
    "start_time": "2024-03-27T10:51:38.874Z"
   },
   {
    "duration": 3,
    "start_time": "2024-03-27T10:51:39.713Z"
   },
   {
    "duration": 2,
    "start_time": "2024-03-27T10:51:40.192Z"
   },
   {
    "duration": 3,
    "start_time": "2024-03-27T10:51:41.238Z"
   },
   {
    "duration": 3,
    "start_time": "2024-03-27T10:51:41.499Z"
   },
   {
    "duration": 165423,
    "start_time": "2024-03-27T10:51:42.848Z"
   },
   {
    "duration": 5,
    "start_time": "2024-03-27T10:54:28.273Z"
   },
   {
    "duration": 23,
    "start_time": "2024-03-27T10:54:28.279Z"
   },
   {
    "duration": 17,
    "start_time": "2024-03-27T10:54:28.304Z"
   },
   {
    "duration": 499,
    "start_time": "2024-03-27T10:54:28.323Z"
   },
   {
    "duration": 2,
    "start_time": "2024-03-27T10:54:36.032Z"
   },
   {
    "duration": 2,
    "start_time": "2024-03-27T10:54:36.648Z"
   },
   {
    "duration": 37924,
    "start_time": "2024-03-27T10:54:37.978Z"
   },
   {
    "duration": 3,
    "start_time": "2024-03-27T10:55:15.995Z"
   },
   {
    "duration": 18,
    "start_time": "2024-03-27T10:55:15.999Z"
   },
   {
    "duration": 4,
    "start_time": "2024-03-27T10:55:32.564Z"
   },
   {
    "duration": 3,
    "start_time": "2024-03-27T10:55:32.780Z"
   },
   {
    "duration": 911316,
    "start_time": "2024-03-27T10:55:32.925Z"
   },
   {
    "duration": 3,
    "start_time": "2024-03-27T11:10:44.242Z"
   },
   {
    "duration": 11,
    "start_time": "2024-03-27T11:10:44.246Z"
   },
   {
    "duration": 1807,
    "start_time": "2024-03-27T11:12:09.731Z"
   },
   {
    "duration": 898,
    "start_time": "2024-03-27T11:12:11.540Z"
   },
   {
    "duration": 29,
    "start_time": "2024-03-27T11:12:12.440Z"
   },
   {
    "duration": 24,
    "start_time": "2024-03-27T11:12:12.471Z"
   },
   {
    "duration": 35,
    "start_time": "2024-03-27T11:12:12.496Z"
   },
   {
    "duration": 270,
    "start_time": "2024-03-27T11:12:12.533Z"
   },
   {
    "duration": 5,
    "start_time": "2024-03-27T11:12:12.804Z"
   },
   {
    "duration": 35,
    "start_time": "2024-03-27T11:12:12.810Z"
   },
   {
    "duration": 8,
    "start_time": "2024-03-27T11:12:13.567Z"
   },
   {
    "duration": 3,
    "start_time": "2024-03-27T11:12:14.266Z"
   },
   {
    "duration": 2,
    "start_time": "2024-03-27T11:12:14.434Z"
   },
   {
    "duration": 4,
    "start_time": "2024-03-27T11:12:15.417Z"
   },
   {
    "duration": 3,
    "start_time": "2024-03-27T11:13:26.602Z"
   },
   {
    "duration": 1972,
    "start_time": "2024-03-27T11:13:30.132Z"
   },
   {
    "duration": 4,
    "start_time": "2024-03-27T11:13:32.105Z"
   },
   {
    "duration": 7,
    "start_time": "2024-03-27T11:13:35.143Z"
   },
   {
    "duration": 5,
    "start_time": "2024-03-27T11:13:35.341Z"
   },
   {
    "duration": 914,
    "start_time": "2024-03-27T11:13:36.077Z"
   },
   {
    "duration": 3,
    "start_time": "2024-03-27T11:13:39.530Z"
   },
   {
    "duration": 2,
    "start_time": "2024-03-27T11:13:39.699Z"
   },
   {
    "duration": 38753,
    "start_time": "2024-03-27T11:13:39.845Z"
   },
   {
    "duration": 93,
    "start_time": "2024-03-27T11:14:18.601Z"
   },
   {
    "duration": 5,
    "start_time": "2024-03-27T11:14:18.696Z"
   },
   {
    "duration": 124,
    "start_time": "2024-03-27T11:23:55.506Z"
   },
   {
    "duration": 7601,
    "start_time": "2024-03-27T11:24:25.035Z"
   },
   {
    "duration": 34,
    "start_time": "2024-03-27T11:24:34.645Z"
   },
   {
    "duration": 2416,
    "start_time": "2024-03-27T11:24:56.358Z"
   },
   {
    "duration": 1764,
    "start_time": "2024-03-27T11:24:58.776Z"
   },
   {
    "duration": 900,
    "start_time": "2024-03-27T11:25:16.412Z"
   },
   {
    "duration": 30,
    "start_time": "2024-03-27T11:25:17.314Z"
   },
   {
    "duration": 32,
    "start_time": "2024-03-27T11:25:17.346Z"
   },
   {
    "duration": 74,
    "start_time": "2024-03-27T11:25:17.380Z"
   },
   {
    "duration": 214,
    "start_time": "2024-03-27T11:25:17.456Z"
   },
   {
    "duration": 4,
    "start_time": "2024-03-27T11:25:17.671Z"
   },
   {
    "duration": 17,
    "start_time": "2024-03-27T11:25:17.677Z"
   },
   {
    "duration": 16,
    "start_time": "2024-03-27T11:25:29.677Z"
   },
   {
    "duration": 3,
    "start_time": "2024-03-27T11:25:30.403Z"
   },
   {
    "duration": 2,
    "start_time": "2024-03-27T11:25:31.121Z"
   },
   {
    "duration": 3,
    "start_time": "2024-03-27T11:25:31.366Z"
   },
   {
    "duration": 5086,
    "start_time": "2024-03-27T11:25:35.326Z"
   },
   {
    "duration": 7,
    "start_time": "2024-03-27T11:25:40.414Z"
   },
   {
    "duration": 111,
    "start_time": "2024-03-27T11:25:40.423Z"
   },
   {
    "duration": 5,
    "start_time": "2024-03-27T11:25:40.536Z"
   },
   {
    "duration": 4301,
    "start_time": "2024-03-27T11:25:40.543Z"
   },
   {
    "duration": 10,
    "start_time": "2024-03-27T11:29:01.170Z"
   },
   {
    "duration": 144,
    "start_time": "2024-03-27T11:29:35.360Z"
   },
   {
    "duration": 10,
    "start_time": "2024-03-27T11:34:01.437Z"
   },
   {
    "duration": 12,
    "start_time": "2024-03-27T11:34:06.349Z"
   },
   {
    "duration": 2,
    "start_time": "2024-03-27T11:36:12.642Z"
   },
   {
    "duration": 3,
    "start_time": "2024-03-27T11:36:32.868Z"
   },
   {
    "duration": 50664,
    "start_time": "2024-03-27T11:37:03.439Z"
   },
   {
    "duration": 4,
    "start_time": "2024-03-27T11:37:54.194Z"
   },
   {
    "duration": 10,
    "start_time": "2024-03-27T11:39:42.338Z"
   },
   {
    "duration": 9,
    "start_time": "2024-03-27T11:39:51.071Z"
   },
   {
    "duration": 10,
    "start_time": "2024-03-27T11:39:56.445Z"
   },
   {
    "duration": 897,
    "start_time": "2024-03-27T11:42:32.786Z"
   },
   {
    "duration": 3,
    "start_time": "2024-03-27T11:42:52.004Z"
   },
   {
    "duration": 3,
    "start_time": "2024-03-27T11:42:53.274Z"
   },
   {
    "duration": 11,
    "start_time": "2024-03-27T11:45:23.783Z"
   },
   {
    "duration": 2,
    "start_time": "2024-03-27T11:45:30.118Z"
   },
   {
    "duration": 58849,
    "start_time": "2024-03-27T11:46:00.252Z"
   },
   {
    "duration": 91,
    "start_time": "2024-03-27T11:46:59.104Z"
   },
   {
    "duration": 22,
    "start_time": "2024-03-27T11:46:59.196Z"
   },
   {
    "duration": 12,
    "start_time": "2024-03-27T12:04:16.492Z"
   },
   {
    "duration": 2,
    "start_time": "2024-03-27T12:05:00.358Z"
   },
   {
    "duration": 9,
    "start_time": "2024-03-27T12:07:40.195Z"
   },
   {
    "duration": 3,
    "start_time": "2024-03-27T12:08:35.611Z"
   },
   {
    "duration": 2,
    "start_time": "2024-03-27T12:08:36.175Z"
   },
   {
    "duration": 498400,
    "start_time": "2024-03-27T12:08:38.212Z"
   },
   {
    "duration": 3,
    "start_time": "2024-03-27T12:16:56.614Z"
   },
   {
    "duration": 8,
    "start_time": "2024-03-27T12:16:56.618Z"
   },
   {
    "duration": 3,
    "start_time": "2024-03-27T12:27:06.148Z"
   },
   {
    "duration": 3,
    "start_time": "2024-03-27T12:27:06.511Z"
   },
   {
    "duration": 5748861,
    "start_time": "2024-03-27T12:27:07.043Z"
   },
   {
    "duration": 2,
    "start_time": "2024-03-27T14:02:55.906Z"
   },
   {
    "duration": 41,
    "start_time": "2024-03-27T14:02:55.909Z"
   },
   {
    "duration": 3,
    "start_time": "2024-03-27T14:07:16.019Z"
   },
   {
    "duration": 8,
    "start_time": "2024-03-27T14:07:16.209Z"
   },
   {
    "duration": 588,
    "start_time": "2024-03-27T14:07:42.669Z"
   },
   {
    "duration": 23,
    "start_time": "2024-03-27T14:07:56.078Z"
   },
   {
    "duration": 172,
    "start_time": "2024-03-27T14:08:00.379Z"
   },
   {
    "duration": 555,
    "start_time": "2024-03-27T14:08:06.282Z"
   },
   {
    "duration": 3,
    "start_time": "2024-03-27T14:08:09.082Z"
   },
   {
    "duration": 20,
    "start_time": "2024-03-27T14:08:09.262Z"
   },
   {
    "duration": 15,
    "start_time": "2024-03-27T14:11:56.869Z"
   },
   {
    "duration": 2380,
    "start_time": "2024-03-27T14:13:34.869Z"
   },
   {
    "duration": 1620,
    "start_time": "2024-03-27T14:13:37.251Z"
   },
   {
    "duration": 882,
    "start_time": "2024-03-27T14:15:16.396Z"
   },
   {
    "duration": 30,
    "start_time": "2024-03-27T14:15:17.280Z"
   },
   {
    "duration": 8,
    "start_time": "2024-03-27T14:15:17.926Z"
   },
   {
    "duration": 25,
    "start_time": "2024-03-27T14:15:18.185Z"
   },
   {
    "duration": 226,
    "start_time": "2024-03-27T14:15:18.401Z"
   },
   {
    "duration": 5,
    "start_time": "2024-03-27T14:15:18.628Z"
   },
   {
    "duration": 7,
    "start_time": "2024-03-27T14:15:18.808Z"
   },
   {
    "duration": 12,
    "start_time": "2024-03-27T14:15:23.502Z"
   },
   {
    "duration": 3,
    "start_time": "2024-03-27T14:15:23.814Z"
   },
   {
    "duration": 3,
    "start_time": "2024-03-27T14:15:24.151Z"
   },
   {
    "duration": 9,
    "start_time": "2024-03-27T14:15:54.730Z"
   },
   {
    "duration": 3,
    "start_time": "2024-03-27T14:15:55.127Z"
   },
   {
    "duration": 4,
    "start_time": "2024-03-27T14:15:55.855Z"
   },
   {
    "duration": 4,
    "start_time": "2024-03-27T14:15:56.104Z"
   },
   {
    "duration": 3052,
    "start_time": "2024-03-27T14:15:57.180Z"
   },
   {
    "duration": 4,
    "start_time": "2024-03-27T14:16:00.233Z"
   },
   {
    "duration": 69,
    "start_time": "2024-03-27T14:16:00.239Z"
   },
   {
    "duration": 40,
    "start_time": "2024-03-27T14:16:00.310Z"
   },
   {
    "duration": 2091,
    "start_time": "2024-03-27T14:16:08.649Z"
   },
   {
    "duration": 284,
    "start_time": "2024-03-27T14:16:10.742Z"
   },
   {
    "duration": 3,
    "start_time": "2024-03-27T14:16:15.516Z"
   },
   {
    "duration": 2,
    "start_time": "2024-03-27T14:16:16.187Z"
   },
   {
    "duration": 3,
    "start_time": "2024-03-27T14:16:16.408Z"
   },
   {
    "duration": 24106,
    "start_time": "2024-03-27T14:16:16.688Z"
   },
   {
    "duration": 3,
    "start_time": "2024-03-27T14:16:40.797Z"
   },
   {
    "duration": 112,
    "start_time": "2024-03-27T14:16:40.802Z"
   },
   {
    "duration": 3,
    "start_time": "2024-03-27T14:16:58.084Z"
   },
   {
    "duration": 2,
    "start_time": "2024-03-27T14:16:58.299Z"
   },
   {
    "duration": 1604979,
    "start_time": "2024-03-27T14:16:58.485Z"
   },
   {
    "duration": 2,
    "start_time": "2024-03-27T14:43:43.466Z"
   },
   {
    "duration": 38,
    "start_time": "2024-03-27T14:43:43.470Z"
   },
   {
    "duration": 54,
    "start_time": "2024-03-27T14:43:43.510Z"
   },
   {
    "duration": 55,
    "start_time": "2024-03-27T14:43:43.566Z"
   },
   {
    "duration": 4718394,
    "start_time": "2024-03-27T14:43:43.623Z"
   },
   {
    "duration": 2,
    "start_time": "2024-03-27T16:02:22.019Z"
   },
   {
    "duration": 20,
    "start_time": "2024-03-27T16:02:22.023Z"
   },
   {
    "duration": 23,
    "start_time": "2024-03-27T16:02:22.044Z"
   },
   {
    "duration": 17,
    "start_time": "2024-03-27T16:02:22.069Z"
   },
   {
    "duration": 7432,
    "start_time": "2024-03-28T08:14:00.216Z"
   },
   {
    "duration": 2378,
    "start_time": "2024-03-28T08:14:07.650Z"
   },
   {
    "duration": 15,
    "start_time": "2024-03-28T08:15:39.700Z"
   },
   {
    "duration": 2339,
    "start_time": "2024-03-28T08:16:02.164Z"
   },
   {
    "duration": 31,
    "start_time": "2024-03-28T08:16:04.505Z"
   },
   {
    "duration": 23,
    "start_time": "2024-03-28T08:16:04.538Z"
   },
   {
    "duration": 36,
    "start_time": "2024-03-28T08:16:04.563Z"
   },
   {
    "duration": 262,
    "start_time": "2024-03-28T08:16:04.601Z"
   },
   {
    "duration": 5,
    "start_time": "2024-03-28T08:16:04.865Z"
   },
   {
    "duration": 27,
    "start_time": "2024-03-28T08:16:04.872Z"
   },
   {
    "duration": 14,
    "start_time": "2024-03-28T08:16:04.901Z"
   },
   {
    "duration": 7,
    "start_time": "2024-03-28T08:16:04.917Z"
   },
   {
    "duration": 3,
    "start_time": "2024-03-28T08:16:04.926Z"
   },
   {
    "duration": 4,
    "start_time": "2024-03-28T08:16:04.931Z"
   },
   {
    "duration": 3371,
    "start_time": "2024-03-28T08:16:07.135Z"
   },
   {
    "duration": 5,
    "start_time": "2024-03-28T08:16:10.508Z"
   },
   {
    "duration": 15,
    "start_time": "2024-03-28T08:16:10.514Z"
   },
   {
    "duration": 5,
    "start_time": "2024-03-28T08:16:10.531Z"
   },
   {
    "duration": 2315,
    "start_time": "2024-03-28T08:16:10.538Z"
   },
   {
    "duration": 273,
    "start_time": "2024-03-28T08:16:12.855Z"
   },
   {
    "duration": 2571,
    "start_time": "2024-03-28T08:16:27.837Z"
   },
   {
    "duration": 1800,
    "start_time": "2024-03-28T08:16:30.410Z"
   },
   {
    "duration": 952,
    "start_time": "2024-03-28T08:16:42.980Z"
   },
   {
    "duration": 31,
    "start_time": "2024-03-28T08:16:43.934Z"
   },
   {
    "duration": 32,
    "start_time": "2024-03-28T08:16:43.966Z"
   },
   {
    "duration": 26,
    "start_time": "2024-03-28T08:16:44.000Z"
   },
   {
    "duration": 234,
    "start_time": "2024-03-28T08:16:44.144Z"
   },
   {
    "duration": 6,
    "start_time": "2024-03-28T08:16:44.532Z"
   },
   {
    "duration": 12,
    "start_time": "2024-03-28T08:16:45.082Z"
   },
   {
    "duration": 17,
    "start_time": "2024-03-28T08:16:48.589Z"
   },
   {
    "duration": 3,
    "start_time": "2024-03-28T08:16:48.732Z"
   },
   {
    "duration": 2,
    "start_time": "2024-03-28T08:16:52.598Z"
   },
   {
    "duration": 3,
    "start_time": "2024-03-28T08:16:52.766Z"
   },
   {
    "duration": 3386,
    "start_time": "2024-03-28T08:16:54.410Z"
   },
   {
    "duration": 5,
    "start_time": "2024-03-28T08:16:57.798Z"
   },
   {
    "duration": 15,
    "start_time": "2024-03-28T08:16:57.804Z"
   },
   {
    "duration": 5,
    "start_time": "2024-03-28T08:16:57.821Z"
   },
   {
    "duration": 2339,
    "start_time": "2024-03-28T08:16:58.439Z"
   },
   {
    "duration": 13,
    "start_time": "2024-03-28T08:17:56.516Z"
   },
   {
    "duration": 3,
    "start_time": "2024-03-28T08:18:03.241Z"
   },
   {
    "duration": 3,
    "start_time": "2024-03-28T08:18:04.114Z"
   },
   {
    "duration": 3,
    "start_time": "2024-03-28T08:18:05.002Z"
   },
   {
    "duration": 21504,
    "start_time": "2024-03-28T08:18:05.797Z"
   },
   {
    "duration": 79,
    "start_time": "2024-03-28T08:18:27.304Z"
   },
   {
    "duration": 5,
    "start_time": "2024-03-28T08:18:27.395Z"
   },
   {
    "duration": 2,
    "start_time": "2024-03-28T08:20:22.739Z"
   },
   {
    "duration": 2,
    "start_time": "2024-03-28T08:20:23.034Z"
   },
   {
    "duration": 184925,
    "start_time": "2024-03-28T08:20:23.241Z"
   },
   {
    "duration": 2,
    "start_time": "2024-03-28T08:23:28.169Z"
   },
   {
    "duration": 10,
    "start_time": "2024-03-28T08:23:28.181Z"
   },
   {
    "duration": 5,
    "start_time": "2024-03-28T08:23:28.194Z"
   },
   {
    "duration": 15,
    "start_time": "2024-03-28T08:23:28.200Z"
   },
   {
    "duration": 911400,
    "start_time": "2024-03-28T08:23:28.217Z"
   },
   {
    "duration": 3,
    "start_time": "2024-03-28T08:38:39.618Z"
   },
   {
    "duration": 8,
    "start_time": "2024-03-28T08:38:39.622Z"
   },
   {
    "duration": 3,
    "start_time": "2024-03-28T08:38:42.971Z"
   },
   {
    "duration": 8,
    "start_time": "2024-03-28T08:38:43.638Z"
   },
   {
    "duration": 15,
    "start_time": "2024-03-28T08:39:15.424Z"
   },
   {
    "duration": 309,
    "start_time": "2024-03-28T08:39:21.026Z"
   },
   {
    "duration": 23,
    "start_time": "2024-03-28T08:39:29.210Z"
   },
   {
    "duration": 2576,
    "start_time": "2024-03-28T08:40:48.672Z"
   },
   {
    "duration": 1932,
    "start_time": "2024-03-28T08:40:51.250Z"
   },
   {
    "duration": 939,
    "start_time": "2024-03-28T08:40:53.184Z"
   },
   {
    "duration": 30,
    "start_time": "2024-03-28T08:40:54.125Z"
   },
   {
    "duration": 9,
    "start_time": "2024-03-28T08:40:54.156Z"
   },
   {
    "duration": 44,
    "start_time": "2024-03-28T08:40:54.166Z"
   },
   {
    "duration": 241,
    "start_time": "2024-03-28T08:40:54.211Z"
   },
   {
    "duration": 5,
    "start_time": "2024-03-28T08:40:54.453Z"
   },
   {
    "duration": 9,
    "start_time": "2024-03-28T08:40:54.459Z"
   },
   {
    "duration": 11,
    "start_time": "2024-03-28T08:40:54.484Z"
   },
   {
    "duration": 2,
    "start_time": "2024-03-28T08:40:54.497Z"
   },
   {
    "duration": 4,
    "start_time": "2024-03-28T08:40:54.501Z"
   },
   {
    "duration": 7985,
    "start_time": "2024-03-28T08:40:54.506Z"
   },
   {
    "duration": 13,
    "start_time": "2024-03-28T08:41:02.492Z"
   },
   {
    "duration": 48,
    "start_time": "2024-03-28T08:41:02.506Z"
   },
   {
    "duration": 6,
    "start_time": "2024-03-28T08:41:02.557Z"
   },
   {
    "duration": 7663,
    "start_time": "2024-03-28T08:41:02.565Z"
   },
   {
    "duration": 24,
    "start_time": "2024-03-28T08:41:10.230Z"
   },
   {
    "duration": 2,
    "start_time": "2024-03-28T08:41:10.257Z"
   },
   {
    "duration": 16,
    "start_time": "2024-03-28T08:41:10.260Z"
   },
   {
    "duration": 7,
    "start_time": "2024-03-28T08:41:10.288Z"
   },
   {
    "duration": 33191,
    "start_time": "2024-03-28T08:41:10.296Z"
   },
   {
    "duration": 4,
    "start_time": "2024-03-28T08:41:43.489Z"
   },
   {
    "duration": 5,
    "start_time": "2024-03-28T08:41:43.496Z"
   },
   {
    "duration": 37,
    "start_time": "2024-03-28T08:42:57.421Z"
   },
   {
    "duration": 2526,
    "start_time": "2024-03-28T08:43:59.669Z"
   },
   {
    "duration": 1838,
    "start_time": "2024-03-28T08:44:02.197Z"
   },
   {
    "duration": 960,
    "start_time": "2024-03-28T08:44:04.036Z"
   },
   {
    "duration": 30,
    "start_time": "2024-03-28T08:44:04.999Z"
   },
   {
    "duration": 12,
    "start_time": "2024-03-28T08:44:05.030Z"
   },
   {
    "duration": 39,
    "start_time": "2024-03-28T08:44:05.044Z"
   },
   {
    "duration": 242,
    "start_time": "2024-03-28T08:44:05.085Z"
   },
   {
    "duration": 5,
    "start_time": "2024-03-28T08:44:05.328Z"
   },
   {
    "duration": 8,
    "start_time": "2024-03-28T08:44:05.334Z"
   },
   {
    "duration": 3,
    "start_time": "2024-03-28T08:44:13.063Z"
   },
   {
    "duration": 2,
    "start_time": "2024-03-28T08:44:13.315Z"
   },
   {
    "duration": 3,
    "start_time": "2024-03-28T08:44:13.776Z"
   },
   {
    "duration": 7830,
    "start_time": "2024-03-28T08:44:14.374Z"
   },
   {
    "duration": 8,
    "start_time": "2024-03-28T08:44:22.205Z"
   },
   {
    "duration": 25,
    "start_time": "2024-03-28T08:44:22.214Z"
   },
   {
    "duration": 4,
    "start_time": "2024-03-28T08:44:22.241Z"
   },
   {
    "duration": 7550,
    "start_time": "2024-03-28T08:44:22.247Z"
   },
   {
    "duration": 38,
    "start_time": "2024-03-28T08:44:29.799Z"
   },
   {
    "duration": 3,
    "start_time": "2024-03-28T08:44:29.839Z"
   },
   {
    "duration": 10,
    "start_time": "2024-03-28T08:44:29.844Z"
   },
   {
    "duration": 6,
    "start_time": "2024-03-28T08:44:29.856Z"
   },
   {
    "duration": 42824,
    "start_time": "2024-03-28T08:44:29.865Z"
   },
   {
    "duration": 8,
    "start_time": "2024-03-28T08:45:12.691Z"
   },
   {
    "duration": 98,
    "start_time": "2024-03-28T08:45:12.701Z"
   },
   {
    "duration": 30,
    "start_time": "2024-03-28T08:45:30.362Z"
   },
   {
    "duration": 2553,
    "start_time": "2024-03-28T08:49:13.748Z"
   },
   {
    "duration": 1834,
    "start_time": "2024-03-28T08:49:16.303Z"
   },
   {
    "duration": 922,
    "start_time": "2024-03-28T08:49:18.139Z"
   },
   {
    "duration": 41,
    "start_time": "2024-03-28T08:49:19.064Z"
   },
   {
    "duration": 8,
    "start_time": "2024-03-28T08:49:19.106Z"
   },
   {
    "duration": 47,
    "start_time": "2024-03-28T08:49:19.116Z"
   },
   {
    "duration": 260,
    "start_time": "2024-03-28T08:49:19.164Z"
   },
   {
    "duration": 4,
    "start_time": "2024-03-28T08:49:19.426Z"
   },
   {
    "duration": 7,
    "start_time": "2024-03-28T08:49:19.432Z"
   },
   {
    "duration": 25,
    "start_time": "2024-03-28T08:49:56.524Z"
   },
   {
    "duration": 2,
    "start_time": "2024-03-28T08:50:33.313Z"
   },
   {
    "duration": 3,
    "start_time": "2024-03-28T08:50:35.215Z"
   },
   {
    "duration": 2,
    "start_time": "2024-03-28T08:50:51.463Z"
   },
   {
    "duration": 6272,
    "start_time": "2024-03-28T08:50:54.879Z"
   },
   {
    "duration": 11,
    "start_time": "2024-03-28T08:51:01.153Z"
   },
   {
    "duration": 110,
    "start_time": "2024-03-28T08:51:01.166Z"
   },
   {
    "duration": 29,
    "start_time": "2024-03-28T08:51:05.269Z"
   },
   {
    "duration": 7,
    "start_time": "2024-03-28T08:51:06.513Z"
   },
   {
    "duration": 4727,
    "start_time": "2024-03-28T08:51:07.105Z"
   },
   {
    "duration": 970,
    "start_time": "2024-03-28T08:51:17.259Z"
   },
   {
    "duration": 3,
    "start_time": "2024-03-28T08:51:21.193Z"
   },
   {
    "duration": 3,
    "start_time": "2024-03-28T08:51:21.525Z"
   },
   {
    "duration": 6,
    "start_time": "2024-03-28T08:51:21.683Z"
   },
   {
    "duration": 67155,
    "start_time": "2024-03-28T08:51:21.842Z"
   },
   {
    "duration": 3,
    "start_time": "2024-03-28T08:52:29.001Z"
   },
   {
    "duration": 16,
    "start_time": "2024-03-28T08:52:29.083Z"
   },
   {
    "duration": 84,
    "start_time": "2024-03-28T08:52:29.102Z"
   },
   {
    "duration": 5,
    "start_time": "2024-03-28T08:52:29.188Z"
   },
   {
    "duration": 2575,
    "start_time": "2024-03-28T09:54:39.181Z"
   },
   {
    "duration": 1873,
    "start_time": "2024-03-28T09:54:41.759Z"
   },
   {
    "duration": 973,
    "start_time": "2024-03-28T09:54:43.634Z"
   },
   {
    "duration": 33,
    "start_time": "2024-03-28T09:54:44.608Z"
   },
   {
    "duration": 9,
    "start_time": "2024-03-28T09:54:44.643Z"
   },
   {
    "duration": 47,
    "start_time": "2024-03-28T09:54:44.653Z"
   },
   {
    "duration": 240,
    "start_time": "2024-03-28T09:54:44.702Z"
   },
   {
    "duration": 4,
    "start_time": "2024-03-28T09:54:44.944Z"
   },
   {
    "duration": 7,
    "start_time": "2024-03-28T09:54:44.950Z"
   },
   {
    "duration": 41,
    "start_time": "2024-03-28T09:54:44.958Z"
   },
   {
    "duration": 3,
    "start_time": "2024-03-28T09:54:45.000Z"
   },
   {
    "duration": 29,
    "start_time": "2024-03-28T09:54:45.004Z"
   },
   {
    "duration": 13,
    "start_time": "2024-03-28T09:54:45.034Z"
   },
   {
    "duration": 5525,
    "start_time": "2024-03-28T09:54:45.050Z"
   },
   {
    "duration": 9,
    "start_time": "2024-03-28T09:54:50.577Z"
   },
   {
    "duration": 23,
    "start_time": "2024-03-28T09:54:50.589Z"
   },
   {
    "duration": 14,
    "start_time": "2024-03-28T09:54:50.614Z"
   },
   {
    "duration": 4617,
    "start_time": "2024-03-28T09:54:50.630Z"
   },
   {
    "duration": 1024,
    "start_time": "2024-03-28T09:54:55.248Z"
   },
   {
    "duration": 3,
    "start_time": "2024-03-28T09:54:56.273Z"
   },
   {
    "duration": 19,
    "start_time": "2024-03-28T09:54:56.277Z"
   },
   {
    "duration": 22,
    "start_time": "2024-03-28T09:54:56.297Z"
   },
   {
    "duration": 45166,
    "start_time": "2024-03-28T09:54:56.320Z"
   },
   {
    "duration": 14,
    "start_time": "2024-03-28T09:55:41.488Z"
   },
   {
    "duration": 17,
    "start_time": "2024-03-28T09:55:41.503Z"
   },
   {
    "duration": 5,
    "start_time": "2024-03-28T09:55:41.522Z"
   },
   {
    "duration": 3,
    "start_time": "2024-03-28T09:55:41.529Z"
   },
   {
    "duration": 4496900,
    "start_time": "2024-03-28T09:55:41.585Z"
   },
   {
    "duration": 3,
    "start_time": "2024-03-28T11:10:38.486Z"
   },
   {
    "duration": 23,
    "start_time": "2024-03-28T11:10:38.491Z"
   },
   {
    "duration": 27,
    "start_time": "2024-03-28T11:10:38.515Z"
   },
   {
    "duration": 3,
    "start_time": "2024-03-28T11:10:38.544Z"
   },
   {
    "duration": 8919432,
    "start_time": "2024-03-28T11:10:38.548Z"
   },
   {
    "duration": 11,
    "start_time": "2024-03-28T13:39:17.982Z"
   },
   {
    "duration": 18,
    "start_time": "2024-03-28T13:39:17.996Z"
   },
   {
    "duration": 5,
    "start_time": "2024-03-28T13:39:18.015Z"
   },
   {
    "duration": 18,
    "start_time": "2024-03-28T13:39:18.021Z"
   },
   {
    "duration": 33,
    "start_time": "2024-03-28T13:39:18.041Z"
   },
   {
    "duration": 2,
    "start_time": "2024-03-28T13:39:18.076Z"
   },
   {
    "duration": 35,
    "start_time": "2024-03-28T13:39:18.080Z"
   },
   {
    "duration": 7650,
    "start_time": "2024-03-28T15:39:22.725Z"
   },
   {
    "duration": 2324,
    "start_time": "2024-03-28T15:39:30.378Z"
   },
   {
    "duration": 2352,
    "start_time": "2024-03-28T15:39:32.704Z"
   },
   {
    "duration": 37,
    "start_time": "2024-03-28T15:39:35.058Z"
   },
   {
    "duration": 8,
    "start_time": "2024-03-28T15:39:35.097Z"
   },
   {
    "duration": 26,
    "start_time": "2024-03-28T15:39:35.106Z"
   },
   {
    "duration": 261,
    "start_time": "2024-03-28T15:39:35.134Z"
   },
   {
    "duration": 5,
    "start_time": "2024-03-28T15:39:35.396Z"
   },
   {
    "duration": 37,
    "start_time": "2024-03-28T15:39:35.402Z"
   },
   {
    "duration": 41,
    "start_time": "2024-03-28T15:39:35.441Z"
   },
   {
    "duration": 2,
    "start_time": "2024-03-28T15:39:35.484Z"
   },
   {
    "duration": 19,
    "start_time": "2024-03-28T15:39:35.488Z"
   },
   {
    "duration": 25,
    "start_time": "2024-03-28T15:39:35.508Z"
   },
   {
    "duration": 5486,
    "start_time": "2024-03-28T15:39:35.534Z"
   },
   {
    "duration": 8,
    "start_time": "2024-03-28T15:39:41.022Z"
   },
   {
    "duration": 22,
    "start_time": "2024-03-28T15:39:41.032Z"
   },
   {
    "duration": 14,
    "start_time": "2024-03-28T15:39:41.056Z"
   },
   {
    "duration": 4523,
    "start_time": "2024-03-28T15:39:41.073Z"
   },
   {
    "duration": 1014,
    "start_time": "2024-03-28T15:39:45.598Z"
   },
   {
    "duration": 2,
    "start_time": "2024-03-28T15:39:46.614Z"
   },
   {
    "duration": 17,
    "start_time": "2024-03-28T15:39:46.618Z"
   },
   {
    "duration": 24,
    "start_time": "2024-03-28T15:39:46.637Z"
   },
   {
    "duration": 45210,
    "start_time": "2024-03-28T15:39:46.664Z"
   },
   {
    "duration": 6,
    "start_time": "2024-03-28T15:40:31.879Z"
   },
   {
    "duration": 20,
    "start_time": "2024-03-28T15:40:31.887Z"
   },
   {
    "duration": 56,
    "start_time": "2024-03-28T15:40:31.910Z"
   },
   {
    "duration": 31,
    "start_time": "2024-03-28T15:40:31.968Z"
   },
   {
    "duration": 4565172,
    "start_time": "2024-03-28T15:40:32.003Z"
   },
   {
    "duration": 4,
    "start_time": "2024-03-28T16:56:37.178Z"
   },
   {
    "duration": 6,
    "start_time": "2024-03-28T16:56:37.184Z"
   },
   {
    "duration": 4,
    "start_time": "2024-03-28T16:56:37.192Z"
   },
   {
    "duration": 4,
    "start_time": "2024-03-28T16:56:37.197Z"
   },
   {
    "duration": 8671499,
    "start_time": "2024-03-28T16:56:37.202Z"
   },
   {
    "duration": 2,
    "start_time": "2024-03-28T19:21:08.703Z"
   },
   {
    "duration": 5,
    "start_time": "2024-03-28T19:21:08.707Z"
   },
   {
    "duration": 8,
    "start_time": "2024-03-28T19:21:08.713Z"
   },
   {
    "duration": 11,
    "start_time": "2024-03-28T19:21:08.722Z"
   },
   {
    "duration": 48,
    "start_time": "2024-03-28T19:21:08.734Z"
   },
   {
    "duration": 3,
    "start_time": "2024-03-28T19:21:08.784Z"
   },
   {
    "duration": 25,
    "start_time": "2024-03-28T19:21:08.789Z"
   },
   {
    "duration": 24,
    "start_time": "2024-03-28T19:39:56.387Z"
   },
   {
    "duration": 632,
    "start_time": "2024-03-28T19:40:09.512Z"
   },
   {
    "duration": 23,
    "start_time": "2024-03-28T19:40:15.432Z"
   },
   {
    "duration": 3,
    "start_time": "2024-03-28T19:40:50.041Z"
   },
   {
    "duration": 21,
    "start_time": "2024-03-28T19:40:50.283Z"
   },
   {
    "duration": 3,
    "start_time": "2024-03-28T19:41:06.316Z"
   },
   {
    "duration": 22,
    "start_time": "2024-03-28T19:41:07.065Z"
   },
   {
    "duration": 20,
    "start_time": "2024-03-28T19:41:54.923Z"
   },
   {
    "duration": 149,
    "start_time": "2024-03-28T19:42:46.717Z"
   },
   {
    "duration": 21,
    "start_time": "2024-03-28T19:43:14.806Z"
   },
   {
    "duration": 2,
    "start_time": "2024-03-28T19:43:24.161Z"
   },
   {
    "duration": 21,
    "start_time": "2024-03-28T19:43:24.594Z"
   },
   {
    "duration": 4,
    "start_time": "2024-03-28T19:43:37.663Z"
   },
   {
    "duration": 20,
    "start_time": "2024-03-28T19:43:40.741Z"
   },
   {
    "duration": 3,
    "start_time": "2024-03-28T19:45:03.740Z"
   },
   {
    "duration": 11,
    "start_time": "2024-03-28T19:45:04.108Z"
   },
   {
    "duration": 3,
    "start_time": "2024-03-28T19:45:29.002Z"
   },
   {
    "duration": 15,
    "start_time": "2024-03-28T19:45:29.587Z"
   },
   {
    "duration": 3,
    "start_time": "2024-03-28T19:45:35.847Z"
   },
   {
    "duration": 21,
    "start_time": "2024-03-28T19:45:36.448Z"
   },
   {
    "duration": 3,
    "start_time": "2024-03-28T19:45:52.191Z"
   },
   {
    "duration": 26,
    "start_time": "2024-03-28T19:45:52.495Z"
   },
   {
    "duration": 41,
    "start_time": "2024-03-28T19:46:42.497Z"
   },
   {
    "duration": 24,
    "start_time": "2024-03-28T19:46:46.585Z"
   },
   {
    "duration": 7467,
    "start_time": "2024-03-30T05:13:46.023Z"
   },
   {
    "duration": 2469,
    "start_time": "2024-03-30T05:13:53.492Z"
   },
   {
    "duration": 3170,
    "start_time": "2024-03-30T05:13:55.963Z"
   },
   {
    "duration": 30,
    "start_time": "2024-03-30T05:13:59.135Z"
   },
   {
    "duration": 21,
    "start_time": "2024-03-30T05:13:59.166Z"
   },
   {
    "duration": 31,
    "start_time": "2024-03-30T05:13:59.189Z"
   },
   {
    "duration": 269,
    "start_time": "2024-03-30T05:13:59.222Z"
   },
   {
    "duration": 7,
    "start_time": "2024-03-30T05:13:59.494Z"
   },
   {
    "duration": 27,
    "start_time": "2024-03-30T05:13:59.502Z"
   },
   {
    "duration": 78,
    "start_time": "2024-03-30T05:25:49.309Z"
   },
   {
    "duration": 5,
    "start_time": "2024-03-30T05:26:11.909Z"
   },
   {
    "duration": 526,
    "start_time": "2024-03-30T05:26:40.198Z"
   },
   {
    "duration": 3,
    "start_time": "2024-03-30T05:26:52.298Z"
   },
   {
    "duration": 4,
    "start_time": "2024-03-30T05:26:52.584Z"
   },
   {
    "duration": 1264432,
    "start_time": "2024-03-30T05:26:55.191Z"
   },
   {
    "duration": 6,
    "start_time": "2024-03-30T05:50:11.390Z"
   },
   {
    "duration": 917,
    "start_time": "2024-03-30T05:51:13.902Z"
   },
   {
    "duration": 23,
    "start_time": "2024-03-30T05:51:14.821Z"
   },
   {
    "duration": 6,
    "start_time": "2024-03-30T05:51:14.845Z"
   },
   {
    "duration": 41,
    "start_time": "2024-03-30T05:51:14.853Z"
   },
   {
    "duration": 237,
    "start_time": "2024-03-30T05:51:14.895Z"
   },
   {
    "duration": 4,
    "start_time": "2024-03-30T05:51:15.134Z"
   },
   {
    "duration": 121,
    "start_time": "2024-03-30T05:51:15.139Z"
   },
   {
    "duration": 18,
    "start_time": "2024-03-30T05:51:16.160Z"
   },
   {
    "duration": 2,
    "start_time": "2024-03-30T05:51:16.341Z"
   },
   {
    "duration": 2,
    "start_time": "2024-03-30T05:51:16.522Z"
   },
   {
    "duration": 8,
    "start_time": "2024-03-30T05:51:16.898Z"
   },
   {
    "duration": 808187,
    "start_time": "2024-03-30T05:51:22.730Z"
   },
   {
    "duration": 5,
    "start_time": "2024-03-30T06:04:50.919Z"
   },
   {
    "duration": 8,
    "start_time": "2024-03-30T06:16:09.171Z"
   },
   {
    "duration": 14,
    "start_time": "2024-03-30T06:16:09.377Z"
   },
   {
    "duration": 144,
    "start_time": "2024-03-30T06:16:09.558Z"
   },
   {
    "duration": 4057,
    "start_time": "2024-03-30T06:16:09.741Z"
   },
   {
    "duration": 973,
    "start_time": "2024-03-30T06:16:13.799Z"
   },
   {
    "duration": 13,
    "start_time": "2024-03-30T06:25:06.843Z"
   },
   {
    "duration": 12,
    "start_time": "2024-03-30T06:28:54.976Z"
   },
   {
    "duration": 2,
    "start_time": "2024-03-30T06:29:01.035Z"
   },
   {
    "duration": 3,
    "start_time": "2024-03-30T06:29:01.689Z"
   },
   {
    "duration": 3,
    "start_time": "2024-03-30T06:29:02.516Z"
   },
   {
    "duration": 3,
    "start_time": "2024-03-30T06:29:42.222Z"
   },
   {
    "duration": 297358,
    "start_time": "2024-03-30T06:29:42.443Z"
   },
   {
    "duration": 4,
    "start_time": "2024-03-30T06:34:39.805Z"
   },
   {
    "duration": 185,
    "start_time": "2024-03-30T06:34:39.811Z"
   },
   {
    "duration": 24,
    "start_time": "2024-03-30T06:37:43.369Z"
   },
   {
    "duration": 8,
    "start_time": "2024-03-30T06:45:51.967Z"
   },
   {
    "duration": 3,
    "start_time": "2024-03-30T06:45:58.762Z"
   },
   {
    "duration": 3,
    "start_time": "2024-03-30T06:45:59.316Z"
   },
   {
    "duration": 455683,
    "start_time": "2024-03-30T06:46:02.097Z"
   },
   {
    "duration": 0,
    "start_time": "2024-03-30T06:53:37.796Z"
   },
   {
    "duration": 0,
    "start_time": "2024-03-30T06:53:37.797Z"
   },
   {
    "duration": 3,
    "start_time": "2024-03-30T06:53:52.861Z"
   },
   {
    "duration": 3,
    "start_time": "2024-03-30T06:53:53.804Z"
   },
   {
    "duration": 2,
    "start_time": "2024-03-30T06:53:55.358Z"
   },
   {
    "duration": 2,
    "start_time": "2024-03-30T06:53:56.446Z"
   },
   {
    "duration": 6847,
    "start_time": "2024-03-30T06:53:56.668Z"
   },
   {
    "duration": 0,
    "start_time": "2024-03-30T06:54:03.517Z"
   },
   {
    "duration": 2,
    "start_time": "2024-03-30T06:54:48.343Z"
   },
   {
    "duration": 3,
    "start_time": "2024-03-30T06:54:49.253Z"
   },
   {
    "duration": 3,
    "start_time": "2024-03-30T06:56:10.067Z"
   },
   {
    "duration": 45528,
    "start_time": "2024-03-30T06:56:11.473Z"
   },
   {
    "duration": 92,
    "start_time": "2024-03-30T06:56:57.003Z"
   },
   {
    "duration": 10,
    "start_time": "2024-03-30T06:56:57.097Z"
   },
   {
    "duration": 24,
    "start_time": "2024-03-30T07:07:38.240Z"
   },
   {
    "duration": 2413,
    "start_time": "2024-03-30T07:08:03.317Z"
   },
   {
    "duration": 1761,
    "start_time": "2024-03-30T07:08:05.732Z"
   },
   {
    "duration": 906,
    "start_time": "2024-03-30T07:08:07.495Z"
   },
   {
    "duration": 30,
    "start_time": "2024-03-30T07:08:08.403Z"
   },
   {
    "duration": 13,
    "start_time": "2024-03-30T07:08:08.434Z"
   },
   {
    "duration": 35,
    "start_time": "2024-03-30T07:08:08.448Z"
   },
   {
    "duration": 247,
    "start_time": "2024-03-30T07:08:08.484Z"
   },
   {
    "duration": 4,
    "start_time": "2024-03-30T07:08:08.732Z"
   },
   {
    "duration": 31,
    "start_time": "2024-03-30T07:08:08.738Z"
   },
   {
    "duration": 15,
    "start_time": "2024-03-30T07:08:08.772Z"
   },
   {
    "duration": 12,
    "start_time": "2024-03-30T07:08:08.789Z"
   },
   {
    "duration": 5,
    "start_time": "2024-03-30T07:08:08.802Z"
   },
   {
    "duration": 8,
    "start_time": "2024-03-30T07:08:08.809Z"
   },
   {
    "duration": 812806,
    "start_time": "2024-03-30T07:08:08.819Z"
   },
   {
    "duration": 10,
    "start_time": "2024-03-30T07:21:41.628Z"
   },
   {
    "duration": 33,
    "start_time": "2024-03-30T07:21:41.640Z"
   },
   {
    "duration": 7,
    "start_time": "2024-03-30T07:21:41.675Z"
   },
   {
    "duration": 4241,
    "start_time": "2024-03-30T07:21:41.684Z"
   },
   {
    "duration": 926,
    "start_time": "2024-03-30T07:21:45.927Z"
   },
   {
    "duration": 3,
    "start_time": "2024-03-30T07:21:46.855Z"
   },
   {
    "duration": 62,
    "start_time": "2024-03-30T07:21:46.859Z"
   },
   {
    "duration": 31,
    "start_time": "2024-03-30T07:21:46.923Z"
   },
   {
    "duration": 44538,
    "start_time": "2024-03-30T07:21:46.956Z"
   },
   {
    "duration": 7,
    "start_time": "2024-03-30T07:22:31.500Z"
   },
   {
    "duration": 115,
    "start_time": "2024-03-30T07:22:31.594Z"
   },
   {
    "duration": 25,
    "start_time": "2024-03-30T07:26:18.872Z"
   },
   {
    "duration": 8,
    "start_time": "2024-03-30T07:28:08.949Z"
   },
   {
    "duration": 3,
    "start_time": "2024-03-30T07:30:07.422Z"
   },
   {
    "duration": 2,
    "start_time": "2024-03-30T07:30:08.813Z"
   },
   {
    "duration": 3,
    "start_time": "2024-03-30T07:30:09.426Z"
   },
   {
    "duration": 30632,
    "start_time": "2024-03-30T07:30:14.966Z"
   },
   {
    "duration": 3,
    "start_time": "2024-03-30T07:30:45.600Z"
   },
   {
    "duration": 49,
    "start_time": "2024-03-30T07:30:45.604Z"
   },
   {
    "duration": 23,
    "start_time": "2024-03-30T07:32:34.129Z"
   },
   {
    "duration": 3,
    "start_time": "2024-03-30T07:34:29.487Z"
   },
   {
    "duration": 8,
    "start_time": "2024-03-30T07:34:57.579Z"
   },
   {
    "duration": 3,
    "start_time": "2024-03-30T07:45:29.038Z"
   },
   {
    "duration": 3,
    "start_time": "2024-03-30T07:45:30.778Z"
   },
   {
    "duration": 31637,
    "start_time": "2024-03-30T07:45:32.763Z"
   },
   {
    "duration": 3,
    "start_time": "2024-03-30T07:46:04.403Z"
   },
   {
    "duration": 107,
    "start_time": "2024-03-30T07:46:04.407Z"
   },
   {
    "duration": 23,
    "start_time": "2024-03-30T07:47:59.540Z"
   },
   {
    "duration": 2441,
    "start_time": "2024-03-30T07:49:27.667Z"
   },
   {
    "duration": 1911,
    "start_time": "2024-03-30T07:49:30.110Z"
   },
   {
    "duration": 903,
    "start_time": "2024-03-30T07:49:32.022Z"
   },
   {
    "duration": 28,
    "start_time": "2024-03-30T07:49:32.927Z"
   },
   {
    "duration": 79,
    "start_time": "2024-03-30T07:49:32.957Z"
   },
   {
    "duration": 53,
    "start_time": "2024-03-30T07:49:33.038Z"
   },
   {
    "duration": 222,
    "start_time": "2024-03-30T07:49:33.092Z"
   },
   {
    "duration": 5,
    "start_time": "2024-03-30T07:49:33.316Z"
   },
   {
    "duration": 13,
    "start_time": "2024-03-30T07:49:33.322Z"
   },
   {
    "duration": 19,
    "start_time": "2024-03-30T07:49:33.337Z"
   },
   {
    "duration": 10,
    "start_time": "2024-03-30T07:49:33.357Z"
   },
   {
    "duration": 46,
    "start_time": "2024-03-30T07:49:33.368Z"
   },
   {
    "duration": 26,
    "start_time": "2024-03-30T07:49:33.416Z"
   },
   {
    "duration": 586943,
    "start_time": "2024-03-30T07:49:33.444Z"
   },
   {
    "duration": 0,
    "start_time": "2024-03-30T07:59:20.390Z"
   },
   {
    "duration": 0,
    "start_time": "2024-03-30T07:59:20.391Z"
   },
   {
    "duration": 0,
    "start_time": "2024-03-30T07:59:20.392Z"
   },
   {
    "duration": 0,
    "start_time": "2024-03-30T07:59:20.393Z"
   },
   {
    "duration": 0,
    "start_time": "2024-03-30T07:59:20.395Z"
   },
   {
    "duration": 0,
    "start_time": "2024-03-30T07:59:20.396Z"
   },
   {
    "duration": 0,
    "start_time": "2024-03-30T07:59:20.397Z"
   },
   {
    "duration": 0,
    "start_time": "2024-03-30T07:59:20.398Z"
   },
   {
    "duration": 0,
    "start_time": "2024-03-30T07:59:20.399Z"
   },
   {
    "duration": 0,
    "start_time": "2024-03-30T07:59:20.400Z"
   },
   {
    "duration": 0,
    "start_time": "2024-03-30T07:59:20.401Z"
   },
   {
    "duration": 0,
    "start_time": "2024-03-30T07:59:20.403Z"
   },
   {
    "duration": 0,
    "start_time": "2024-03-30T07:59:20.404Z"
   },
   {
    "duration": 0,
    "start_time": "2024-03-30T07:59:20.405Z"
   },
   {
    "duration": 0,
    "start_time": "2024-03-30T07:59:20.406Z"
   },
   {
    "duration": 0,
    "start_time": "2024-03-30T07:59:20.408Z"
   },
   {
    "duration": 0,
    "start_time": "2024-03-30T07:59:20.409Z"
   },
   {
    "duration": 0,
    "start_time": "2024-03-30T07:59:20.411Z"
   },
   {
    "duration": 0,
    "start_time": "2024-03-30T07:59:20.412Z"
   },
   {
    "duration": 0,
    "start_time": "2024-03-30T07:59:20.418Z"
   },
   {
    "duration": 0,
    "start_time": "2024-03-30T07:59:20.419Z"
   },
   {
    "duration": 0,
    "start_time": "2024-03-30T07:59:20.420Z"
   },
   {
    "duration": 0,
    "start_time": "2024-03-30T07:59:20.421Z"
   },
   {
    "duration": 0,
    "start_time": "2024-03-30T07:59:20.422Z"
   },
   {
    "duration": 0,
    "start_time": "2024-03-30T07:59:20.423Z"
   },
   {
    "duration": 2513,
    "start_time": "2024-03-30T07:59:50.813Z"
   },
   {
    "duration": 1716,
    "start_time": "2024-03-30T07:59:53.328Z"
   },
   {
    "duration": 898,
    "start_time": "2024-03-30T07:59:55.045Z"
   },
   {
    "duration": 29,
    "start_time": "2024-03-30T07:59:55.945Z"
   },
   {
    "duration": 34,
    "start_time": "2024-03-30T07:59:55.975Z"
   },
   {
    "duration": 70,
    "start_time": "2024-03-30T07:59:56.010Z"
   },
   {
    "duration": 249,
    "start_time": "2024-03-30T07:59:56.082Z"
   },
   {
    "duration": 5,
    "start_time": "2024-03-30T07:59:56.333Z"
   },
   {
    "duration": 36,
    "start_time": "2024-03-30T07:59:56.339Z"
   },
   {
    "duration": 20,
    "start_time": "2024-03-30T07:59:56.377Z"
   },
   {
    "duration": 2,
    "start_time": "2024-03-30T07:59:56.399Z"
   },
   {
    "duration": 14,
    "start_time": "2024-03-30T07:59:56.403Z"
   },
   {
    "duration": 7,
    "start_time": "2024-03-30T07:59:56.419Z"
   },
   {
    "duration": 820090,
    "start_time": "2024-03-30T07:59:56.428Z"
   },
   {
    "duration": 6,
    "start_time": "2024-03-30T08:13:36.520Z"
   },
   {
    "duration": 38,
    "start_time": "2024-03-30T08:13:36.528Z"
   },
   {
    "duration": 13,
    "start_time": "2024-03-30T08:13:36.567Z"
   },
   {
    "duration": 4153,
    "start_time": "2024-03-30T08:13:36.582Z"
   },
   {
    "duration": 3,
    "start_time": "2024-03-30T08:13:40.737Z"
   },
   {
    "duration": 8,
    "start_time": "2024-03-30T08:13:40.741Z"
   },
   {
    "duration": 12,
    "start_time": "2024-03-30T08:13:40.751Z"
   },
   {
    "duration": 7,
    "start_time": "2024-03-30T08:13:40.764Z"
   },
   {
    "duration": 64826,
    "start_time": "2024-03-30T08:13:40.772Z"
   },
   {
    "duration": 3,
    "start_time": "2024-03-30T08:14:45.600Z"
   },
   {
    "duration": 10,
    "start_time": "2024-03-30T08:14:45.605Z"
   },
   {
    "duration": 8,
    "start_time": "2024-03-30T08:14:45.616Z"
   },
   {
    "duration": 9,
    "start_time": "2024-03-30T08:14:45.626Z"
   },
   {
    "duration": 3,
    "start_time": "2024-03-30T08:14:45.693Z"
   },
   {
    "duration": 166,
    "start_time": "2024-03-30T08:14:45.698Z"
   },
   {
    "duration": 0,
    "start_time": "2024-03-30T08:14:45.866Z"
   },
   {
    "duration": 0,
    "start_time": "2024-03-30T08:14:45.867Z"
   },
   {
    "duration": 0,
    "start_time": "2024-03-30T08:14:45.868Z"
   },
   {
    "duration": 0,
    "start_time": "2024-03-30T08:14:45.869Z"
   },
   {
    "duration": 0,
    "start_time": "2024-03-30T08:14:45.870Z"
   },
   {
    "duration": 0,
    "start_time": "2024-03-30T08:14:45.871Z"
   },
   {
    "duration": 0,
    "start_time": "2024-03-30T08:14:45.872Z"
   },
   {
    "duration": 0,
    "start_time": "2024-03-30T08:14:45.873Z"
   },
   {
    "duration": 0,
    "start_time": "2024-03-30T08:14:45.874Z"
   },
   {
    "duration": 0,
    "start_time": "2024-03-30T08:14:45.875Z"
   },
   {
    "duration": 2131,
    "start_time": "2024-03-31T05:40:41.991Z"
   },
   {
    "duration": 0,
    "start_time": "2024-03-31T05:40:44.124Z"
   },
   {
    "duration": 0,
    "start_time": "2024-03-31T05:40:44.125Z"
   },
   {
    "duration": 0,
    "start_time": "2024-03-31T05:40:44.126Z"
   },
   {
    "duration": 0,
    "start_time": "2024-03-31T05:40:44.127Z"
   },
   {
    "duration": 0,
    "start_time": "2024-03-31T05:40:44.128Z"
   },
   {
    "duration": 0,
    "start_time": "2024-03-31T05:40:44.129Z"
   },
   {
    "duration": 0,
    "start_time": "2024-03-31T05:40:44.130Z"
   },
   {
    "duration": 9,
    "start_time": "2024-03-31T05:40:45.094Z"
   },
   {
    "duration": 2,
    "start_time": "2024-03-31T05:40:45.365Z"
   },
   {
    "duration": 3,
    "start_time": "2024-03-31T05:40:45.559Z"
   },
   {
    "duration": 5,
    "start_time": "2024-03-31T05:40:45.764Z"
   },
   {
    "duration": 7222,
    "start_time": "2024-03-31T05:40:54.178Z"
   },
   {
    "duration": 43,
    "start_time": "2024-03-31T05:41:01.403Z"
   },
   {
    "duration": 0,
    "start_time": "2024-03-31T05:41:01.447Z"
   },
   {
    "duration": 0,
    "start_time": "2024-03-31T05:41:01.449Z"
   },
   {
    "duration": 0,
    "start_time": "2024-03-31T05:41:01.450Z"
   },
   {
    "duration": 10,
    "start_time": "2024-03-31T05:41:01.532Z"
   },
   {
    "duration": 2596,
    "start_time": "2024-03-31T05:41:23.432Z"
   },
   {
    "duration": 2591,
    "start_time": "2024-03-31T05:41:29.641Z"
   },
   {
    "duration": 2764,
    "start_time": "2024-03-31T05:41:42.502Z"
   },
   {
    "duration": 2301,
    "start_time": "2024-03-31T05:41:46.591Z"
   },
   {
    "duration": 2379,
    "start_time": "2024-03-31T05:41:48.895Z"
   },
   {
    "duration": 31,
    "start_time": "2024-03-31T05:41:51.276Z"
   },
   {
    "duration": 15,
    "start_time": "2024-03-31T05:41:51.309Z"
   },
   {
    "duration": 25,
    "start_time": "2024-03-31T05:41:51.326Z"
   },
   {
    "duration": 227,
    "start_time": "2024-03-31T05:41:51.352Z"
   },
   {
    "duration": 6,
    "start_time": "2024-03-31T05:41:51.582Z"
   },
   {
    "duration": 8,
    "start_time": "2024-03-31T05:41:52.003Z"
   },
   {
    "duration": 17,
    "start_time": "2024-03-31T05:41:53.973Z"
   },
   {
    "duration": 3,
    "start_time": "2024-03-31T05:41:54.434Z"
   },
   {
    "duration": 2,
    "start_time": "2024-03-31T05:41:54.781Z"
   },
   {
    "duration": 5,
    "start_time": "2024-03-31T05:41:55.083Z"
   },
   {
    "duration": 867577,
    "start_time": "2024-03-31T05:41:55.435Z"
   },
   {
    "duration": 8,
    "start_time": "2024-03-31T05:56:23.014Z"
   },
   {
    "duration": 24,
    "start_time": "2024-03-31T05:56:23.024Z"
   },
   {
    "duration": 7,
    "start_time": "2024-03-31T05:56:23.051Z"
   },
   {
    "duration": 4446,
    "start_time": "2024-03-31T05:56:23.060Z"
   },
   {
    "duration": 3,
    "start_time": "2024-03-31T05:56:27.508Z"
   },
   {
    "duration": 5,
    "start_time": "2024-03-31T05:56:27.513Z"
   },
   {
    "duration": 8,
    "start_time": "2024-03-31T05:56:27.520Z"
   },
   {
    "duration": 34192,
    "start_time": "2024-03-31T05:56:27.529Z"
   },
   {
    "duration": 89,
    "start_time": "2024-03-31T05:57:01.725Z"
   },
   {
    "duration": 26,
    "start_time": "2024-03-31T05:57:01.816Z"
   },
   {
    "duration": 25,
    "start_time": "2024-03-31T06:07:24.426Z"
   },
   {
    "duration": 3,
    "start_time": "2024-03-31T06:07:35.943Z"
   },
   {
    "duration": 3,
    "start_time": "2024-03-31T06:07:36.149Z"
   },
   {
    "duration": 3,
    "start_time": "2024-03-31T06:07:36.329Z"
   },
   {
    "duration": 32278,
    "start_time": "2024-03-31T06:07:36.541Z"
   },
   {
    "duration": 17,
    "start_time": "2024-03-31T06:08:08.821Z"
   },
   {
    "duration": 6,
    "start_time": "2024-03-31T06:08:08.840Z"
   },
   {
    "duration": 4,
    "start_time": "2024-03-31T06:17:40.880Z"
   },
   {
    "duration": 3,
    "start_time": "2024-03-31T06:18:05.585Z"
   },
   {
    "duration": 4,
    "start_time": "2024-03-31T06:19:17.754Z"
   },
   {
    "duration": 3,
    "start_time": "2024-03-31T06:19:19.308Z"
   },
   {
    "duration": 3,
    "start_time": "2024-03-31T06:19:20.106Z"
   },
   {
    "duration": 562244,
    "start_time": "2024-03-31T06:19:20.692Z"
   },
   {
    "duration": 3,
    "start_time": "2024-03-31T06:28:42.938Z"
   },
   {
    "duration": 5,
    "start_time": "2024-03-31T06:28:42.942Z"
   },
   {
    "duration": 3,
    "start_time": "2024-03-31T06:29:28.481Z"
   },
   {
    "duration": 4,
    "start_time": "2024-03-31T06:29:28.648Z"
   },
   {
    "duration": 7,
    "start_time": "2024-03-31T06:29:28.825Z"
   },
   {
    "duration": 4922844,
    "start_time": "2024-03-31T06:29:28.960Z"
   },
   {
    "duration": 2,
    "start_time": "2024-03-31T07:51:31.806Z"
   },
   {
    "duration": 21,
    "start_time": "2024-03-31T07:51:31.810Z"
   },
   {
    "duration": 5,
    "start_time": "2024-03-31T08:51:08.215Z"
   },
   {
    "duration": 10,
    "start_time": "2024-03-31T08:51:08.523Z"
   },
   {
    "duration": 24,
    "start_time": "2024-03-31T08:51:19.651Z"
   },
   {
    "duration": 373,
    "start_time": "2024-03-31T08:51:25.123Z"
   },
   {
    "duration": 1068,
    "start_time": "2024-03-31T08:51:31.037Z"
   },
   {
    "duration": 3,
    "start_time": "2024-03-31T08:54:45.804Z"
   },
   {
    "duration": 3,
    "start_time": "2024-03-31T08:54:45.975Z"
   },
   {
    "duration": 4,
    "start_time": "2024-03-31T08:54:46.105Z"
   },
   {
    "duration": 1523593,
    "start_time": "2024-03-31T08:54:46.247Z"
   },
   {
    "duration": 3,
    "start_time": "2024-03-31T09:20:09.842Z"
   },
   {
    "duration": 13,
    "start_time": "2024-03-31T09:20:09.847Z"
   },
   {
    "duration": 15,
    "start_time": "2024-03-31T09:44:17.637Z"
   },
   {
    "duration": 20,
    "start_time": "2024-03-31T09:45:32.938Z"
   },
   {
    "duration": 177,
    "start_time": "2024-03-31T09:55:33.352Z"
   },
   {
    "duration": 46,
    "start_time": "2024-03-31T09:55:42.499Z"
   },
   {
    "duration": 8,
    "start_time": "2024-03-31T09:55:54.737Z"
   },
   {
    "duration": 48,
    "start_time": "2024-03-31T09:55:55.060Z"
   },
   {
    "duration": 42,
    "start_time": "2024-03-31T09:56:17.629Z"
   },
   {
    "duration": 59,
    "start_time": "2024-03-31T09:56:58.823Z"
   },
   {
    "duration": 9,
    "start_time": "2024-03-31T09:57:19.071Z"
   },
   {
    "duration": 50,
    "start_time": "2024-03-31T09:57:23.266Z"
   },
   {
    "duration": 4331,
    "start_time": "2024-03-31T09:59:45.606Z"
   },
   {
    "duration": 10,
    "start_time": "2024-03-31T10:00:52.866Z"
   },
   {
    "duration": 223,
    "start_time": "2024-03-31T10:01:52.485Z"
   },
   {
    "duration": 1425,
    "start_time": "2024-03-31T10:02:08.768Z"
   },
   {
    "duration": 1452,
    "start_time": "2024-03-31T10:04:46.867Z"
   },
   {
    "duration": 3,
    "start_time": "2024-03-31T10:13:39.468Z"
   },
   {
    "duration": 3,
    "start_time": "2024-03-31T10:13:40.273Z"
   },
   {
    "duration": 49,
    "start_time": "2024-03-31T10:29:11.248Z"
   },
   {
    "duration": 8,
    "start_time": "2024-03-31T10:29:14.472Z"
   },
   {
    "duration": 2,
    "start_time": "2024-03-31T10:29:19.888Z"
   },
   {
    "duration": 3,
    "start_time": "2024-03-31T10:29:24.779Z"
   },
   {
    "duration": 3,
    "start_time": "2024-03-31T10:29:46.559Z"
   },
   {
    "duration": 4,
    "start_time": "2024-03-31T10:29:50.633Z"
   },
   {
    "duration": 73979,
    "start_time": "2024-03-31T10:29:52.235Z"
   },
   {
    "duration": 6,
    "start_time": "2024-03-31T10:31:06.217Z"
   },
   {
    "duration": 6,
    "start_time": "2024-03-31T10:31:06.314Z"
   },
   {
    "duration": 15,
    "start_time": "2024-03-31T10:31:55.007Z"
   },
   {
    "duration": 2523,
    "start_time": "2024-03-31T10:43:31.245Z"
   },
   {
    "duration": 1835,
    "start_time": "2024-03-31T10:43:33.770Z"
   },
   {
    "duration": 920,
    "start_time": "2024-03-31T10:43:35.607Z"
   },
   {
    "duration": 29,
    "start_time": "2024-03-31T10:43:36.529Z"
   },
   {
    "duration": 18,
    "start_time": "2024-03-31T10:43:36.559Z"
   },
   {
    "duration": 26,
    "start_time": "2024-03-31T10:43:36.579Z"
   },
   {
    "duration": 227,
    "start_time": "2024-03-31T10:43:36.615Z"
   },
   {
    "duration": 5,
    "start_time": "2024-03-31T10:43:36.843Z"
   },
   {
    "duration": 15,
    "start_time": "2024-03-31T10:43:36.850Z"
   },
   {
    "duration": 2,
    "start_time": "2024-03-31T10:43:42.295Z"
   },
   {
    "duration": 3,
    "start_time": "2024-03-31T10:43:42.555Z"
   },
   {
    "duration": 4,
    "start_time": "2024-03-31T10:43:42.743Z"
   },
   {
    "duration": 1188843,
    "start_time": "2024-03-31T10:43:43.644Z"
   },
   {
    "duration": 0,
    "start_time": "2024-03-31T11:03:32.489Z"
   },
   {
    "duration": 0,
    "start_time": "2024-03-31T11:03:32.491Z"
   },
   {
    "duration": 0,
    "start_time": "2024-03-31T11:03:32.492Z"
   },
   {
    "duration": 0,
    "start_time": "2024-03-31T11:03:32.493Z"
   },
   {
    "duration": 0,
    "start_time": "2024-03-31T11:03:32.494Z"
   },
   {
    "duration": 0,
    "start_time": "2024-03-31T11:03:32.495Z"
   },
   {
    "duration": 0,
    "start_time": "2024-03-31T11:03:32.496Z"
   },
   {
    "duration": 0,
    "start_time": "2024-03-31T11:03:32.497Z"
   },
   {
    "duration": 0,
    "start_time": "2024-03-31T11:03:32.498Z"
   },
   {
    "duration": 2703,
    "start_time": "2024-03-31T11:03:42.405Z"
   },
   {
    "duration": 15,
    "start_time": "2024-03-31T11:03:45.111Z"
   },
   {
    "duration": 954,
    "start_time": "2024-03-31T11:03:45.127Z"
   },
   {
    "duration": 39,
    "start_time": "2024-03-31T11:03:46.084Z"
   },
   {
    "duration": 10,
    "start_time": "2024-03-31T11:03:46.125Z"
   },
   {
    "duration": 36,
    "start_time": "2024-03-31T11:03:46.136Z"
   },
   {
    "duration": 227,
    "start_time": "2024-03-31T11:03:46.173Z"
   },
   {
    "duration": 20,
    "start_time": "2024-03-31T11:03:46.401Z"
   },
   {
    "duration": 6,
    "start_time": "2024-03-31T11:03:46.426Z"
   },
   {
    "duration": 18,
    "start_time": "2024-03-31T11:03:51.464Z"
   },
   {
    "duration": 5,
    "start_time": "2024-03-31T11:03:56.700Z"
   },
   {
    "duration": 3,
    "start_time": "2024-03-31T11:04:03.726Z"
   },
   {
    "duration": 2,
    "start_time": "2024-03-31T11:04:05.884Z"
   },
   {
    "duration": 6,
    "start_time": "2024-03-31T11:04:07.428Z"
   },
   {
    "duration": 889141,
    "start_time": "2024-03-31T11:04:11.298Z"
   },
   {
    "duration": 6,
    "start_time": "2024-03-31T11:19:00.441Z"
   },
   {
    "duration": 105,
    "start_time": "2024-03-31T11:19:00.449Z"
   },
   {
    "duration": 18,
    "start_time": "2024-03-31T11:19:00.556Z"
   },
   {
    "duration": 4612,
    "start_time": "2024-03-31T11:19:00.576Z"
   },
   {
    "duration": 3,
    "start_time": "2024-03-31T11:19:05.190Z"
   },
   {
    "duration": 20,
    "start_time": "2024-03-31T11:19:05.194Z"
   },
   {
    "duration": 8,
    "start_time": "2024-03-31T11:19:05.223Z"
   },
   {
    "duration": 82199,
    "start_time": "2024-03-31T11:19:05.233Z"
   },
   {
    "duration": 6,
    "start_time": "2024-03-31T11:20:27.436Z"
   },
   {
    "duration": 77,
    "start_time": "2024-03-31T11:20:27.444Z"
   },
   {
    "duration": 7,
    "start_time": "2024-03-31T11:25:07.039Z"
   },
   {
    "duration": 2037,
    "start_time": "2024-03-31T11:25:14.098Z"
   },
   {
    "duration": 2758,
    "start_time": "2024-03-31T11:25:16.804Z"
   },
   {
    "duration": 2576,
    "start_time": "2024-03-31T11:25:23.972Z"
   },
   {
    "duration": 1844,
    "start_time": "2024-03-31T11:25:26.550Z"
   },
   {
    "duration": 1014,
    "start_time": "2024-03-31T11:25:28.396Z"
   },
   {
    "duration": 42,
    "start_time": "2024-03-31T11:25:29.412Z"
   },
   {
    "duration": 9,
    "start_time": "2024-03-31T11:25:29.455Z"
   },
   {
    "duration": 27,
    "start_time": "2024-03-31T11:25:29.465Z"
   },
   {
    "duration": 259,
    "start_time": "2024-03-31T11:25:29.494Z"
   },
   {
    "duration": 4,
    "start_time": "2024-03-31T11:25:29.755Z"
   },
   {
    "duration": 9,
    "start_time": "2024-03-31T11:25:29.761Z"
   },
   {
    "duration": 22,
    "start_time": "2024-03-31T11:25:29.772Z"
   },
   {
    "duration": 3,
    "start_time": "2024-03-31T11:25:29.795Z"
   },
   {
    "duration": 7,
    "start_time": "2024-03-31T11:25:29.814Z"
   },
   {
    "duration": 8,
    "start_time": "2024-03-31T11:25:29.825Z"
   },
   {
    "duration": 905551,
    "start_time": "2024-03-31T11:25:29.836Z"
   },
   {
    "duration": 7,
    "start_time": "2024-03-31T11:40:35.389Z"
   },
   {
    "duration": 54,
    "start_time": "2024-03-31T11:40:35.397Z"
   },
   {
    "duration": 5,
    "start_time": "2024-03-31T11:40:35.454Z"
   },
   {
    "duration": 4493,
    "start_time": "2024-03-31T11:40:35.461Z"
   },
   {
    "duration": 0,
    "start_time": "2024-03-31T11:40:40.154Z"
   },
   {
    "duration": 0,
    "start_time": "2024-03-31T11:40:40.155Z"
   },
   {
    "duration": 0,
    "start_time": "2024-03-31T11:40:40.156Z"
   },
   {
    "duration": 0,
    "start_time": "2024-03-31T11:40:40.157Z"
   },
   {
    "duration": 0,
    "start_time": "2024-03-31T11:40:40.158Z"
   },
   {
    "duration": 0,
    "start_time": "2024-03-31T11:40:40.159Z"
   },
   {
    "duration": 0,
    "start_time": "2024-03-31T11:40:40.160Z"
   },
   {
    "duration": 0,
    "start_time": "2024-03-31T11:40:40.161Z"
   },
   {
    "duration": 0,
    "start_time": "2024-03-31T11:40:40.162Z"
   },
   {
    "duration": 0,
    "start_time": "2024-03-31T11:40:40.163Z"
   },
   {
    "duration": 0,
    "start_time": "2024-03-31T11:40:40.164Z"
   },
   {
    "duration": 0,
    "start_time": "2024-03-31T11:40:40.165Z"
   },
   {
    "duration": 0,
    "start_time": "2024-03-31T11:40:40.167Z"
   },
   {
    "duration": 0,
    "start_time": "2024-03-31T11:40:40.167Z"
   },
   {
    "duration": 1,
    "start_time": "2024-03-31T11:40:40.168Z"
   },
   {
    "duration": 0,
    "start_time": "2024-03-31T11:40:40.170Z"
   },
   {
    "duration": 0,
    "start_time": "2024-03-31T11:40:40.217Z"
   },
   {
    "duration": 0,
    "start_time": "2024-03-31T11:40:40.219Z"
   },
   {
    "duration": 0,
    "start_time": "2024-03-31T11:40:40.220Z"
   },
   {
    "duration": 0,
    "start_time": "2024-03-31T11:40:40.222Z"
   },
   {
    "duration": 0,
    "start_time": "2024-03-31T11:40:40.224Z"
   },
   {
    "duration": 4,
    "start_time": "2024-03-31T11:42:28.419Z"
   },
   {
    "duration": 3,
    "start_time": "2024-03-31T11:43:40.602Z"
   },
   {
    "duration": 3,
    "start_time": "2024-03-31T11:43:41.494Z"
   },
   {
    "duration": 3,
    "start_time": "2024-03-31T11:43:42.334Z"
   },
   {
    "duration": 37,
    "start_time": "2024-03-31T11:43:44.549Z"
   },
   {
    "duration": 3,
    "start_time": "2024-03-31T11:44:20.765Z"
   },
   {
    "duration": 3,
    "start_time": "2024-03-31T11:44:21.262Z"
   },
   {
    "duration": 3,
    "start_time": "2024-03-31T11:44:21.687Z"
   },
   {
    "duration": 91,
    "start_time": "2024-03-31T11:44:22.337Z"
   },
   {
    "duration": 3,
    "start_time": "2024-03-31T11:44:30.040Z"
   },
   {
    "duration": 3,
    "start_time": "2024-03-31T11:44:30.251Z"
   },
   {
    "duration": 2,
    "start_time": "2024-03-31T11:44:30.464Z"
   },
   {
    "duration": 89,
    "start_time": "2024-03-31T11:44:30.954Z"
   },
   {
    "duration": 6,
    "start_time": "2024-03-31T11:44:50.123Z"
   },
   {
    "duration": 3,
    "start_time": "2024-03-31T11:44:50.437Z"
   },
   {
    "duration": 3,
    "start_time": "2024-03-31T11:44:50.733Z"
   },
   {
    "duration": 91,
    "start_time": "2024-03-31T11:44:51.138Z"
   },
   {
    "duration": 3,
    "start_time": "2024-03-31T11:45:20.552Z"
   },
   {
    "duration": 3,
    "start_time": "2024-03-31T11:45:25.557Z"
   },
   {
    "duration": 2,
    "start_time": "2024-03-31T11:45:33.962Z"
   },
   {
    "duration": 100,
    "start_time": "2024-03-31T11:45:34.458Z"
   },
   {
    "duration": 2502,
    "start_time": "2024-03-31T11:49:42.400Z"
   },
   {
    "duration": 9,
    "start_time": "2024-03-31T11:49:44.905Z"
   },
   {
    "duration": 2480,
    "start_time": "2024-03-31T11:49:55.009Z"
   },
   {
    "duration": 1787,
    "start_time": "2024-03-31T11:49:57.492Z"
   },
   {
    "duration": 902,
    "start_time": "2024-03-31T11:49:59.281Z"
   },
   {
    "duration": 32,
    "start_time": "2024-03-31T11:50:00.185Z"
   },
   {
    "duration": 21,
    "start_time": "2024-03-31T11:50:00.219Z"
   },
   {
    "duration": 57,
    "start_time": "2024-03-31T11:50:00.242Z"
   },
   {
    "duration": 280,
    "start_time": "2024-03-31T11:50:00.301Z"
   },
   {
    "duration": 5,
    "start_time": "2024-03-31T11:50:00.582Z"
   },
   {
    "duration": 38,
    "start_time": "2024-03-31T11:50:00.589Z"
   },
   {
    "duration": 6,
    "start_time": "2024-03-31T11:50:03.196Z"
   },
   {
    "duration": 17,
    "start_time": "2024-03-31T11:50:04.091Z"
   },
   {
    "duration": 3,
    "start_time": "2024-03-31T11:50:04.239Z"
   },
   {
    "duration": 2,
    "start_time": "2024-03-31T11:50:04.388Z"
   },
   {
    "duration": 4,
    "start_time": "2024-03-31T11:50:04.525Z"
   },
   {
    "duration": 849841,
    "start_time": "2024-03-31T11:50:04.675Z"
   },
   {
    "duration": 7,
    "start_time": "2024-03-31T12:04:14.518Z"
   },
   {
    "duration": 44,
    "start_time": "2024-03-31T12:04:14.527Z"
   },
   {
    "duration": 6,
    "start_time": "2024-03-31T12:04:14.573Z"
   },
   {
    "duration": 4728,
    "start_time": "2024-03-31T12:04:14.580Z"
   },
   {
    "duration": 5,
    "start_time": "2024-03-31T12:04:19.310Z"
   },
   {
    "duration": 12,
    "start_time": "2024-03-31T12:04:19.316Z"
   },
   {
    "duration": 4,
    "start_time": "2024-03-31T12:04:19.330Z"
   },
   {
    "duration": 76680,
    "start_time": "2024-03-31T12:04:19.335Z"
   },
   {
    "duration": 3,
    "start_time": "2024-03-31T12:05:36.018Z"
   },
   {
    "duration": 15,
    "start_time": "2024-03-31T12:05:36.022Z"
   },
   {
    "duration": 5,
    "start_time": "2024-03-31T12:05:36.039Z"
   },
   {
    "duration": 153,
    "start_time": "2024-03-31T12:05:36.114Z"
   },
   {
    "duration": 0,
    "start_time": "2024-03-31T12:05:36.269Z"
   },
   {
    "duration": 0,
    "start_time": "2024-03-31T12:05:36.270Z"
   },
   {
    "duration": 0,
    "start_time": "2024-03-31T12:05:36.271Z"
   },
   {
    "duration": 0,
    "start_time": "2024-03-31T12:05:36.272Z"
   },
   {
    "duration": 0,
    "start_time": "2024-03-31T12:05:36.273Z"
   },
   {
    "duration": 0,
    "start_time": "2024-03-31T12:05:36.274Z"
   },
   {
    "duration": 0,
    "start_time": "2024-03-31T12:05:36.275Z"
   },
   {
    "duration": 0,
    "start_time": "2024-03-31T12:05:36.277Z"
   },
   {
    "duration": 0,
    "start_time": "2024-03-31T12:05:36.278Z"
   },
   {
    "duration": 0,
    "start_time": "2024-03-31T12:05:36.279Z"
   },
   {
    "duration": 4,
    "start_time": "2024-03-31T12:08:41.142Z"
   },
   {
    "duration": 2500,
    "start_time": "2024-03-31T12:30:34.796Z"
   },
   {
    "duration": 1812,
    "start_time": "2024-03-31T12:30:37.298Z"
   },
   {
    "duration": 890,
    "start_time": "2024-03-31T12:30:39.112Z"
   },
   {
    "duration": 30,
    "start_time": "2024-03-31T12:30:40.004Z"
   },
   {
    "duration": 8,
    "start_time": "2024-03-31T12:30:40.036Z"
   },
   {
    "duration": 33,
    "start_time": "2024-03-31T12:30:40.045Z"
   },
   {
    "duration": 248,
    "start_time": "2024-03-31T12:30:40.079Z"
   },
   {
    "duration": 4,
    "start_time": "2024-03-31T12:30:40.328Z"
   },
   {
    "duration": 15,
    "start_time": "2024-03-31T12:30:40.333Z"
   },
   {
    "duration": 18,
    "start_time": "2024-03-31T12:30:40.350Z"
   },
   {
    "duration": 2,
    "start_time": "2024-03-31T12:30:40.370Z"
   },
   {
    "duration": 7,
    "start_time": "2024-03-31T12:30:40.374Z"
   },
   {
    "duration": 11,
    "start_time": "2024-03-31T12:30:40.382Z"
   },
   {
    "duration": 865761,
    "start_time": "2024-03-31T12:30:40.395Z"
   },
   {
    "duration": 6,
    "start_time": "2024-03-31T12:45:06.158Z"
   },
   {
    "duration": 69,
    "start_time": "2024-03-31T12:45:06.165Z"
   },
   {
    "duration": 7,
    "start_time": "2024-03-31T12:45:06.236Z"
   },
   {
    "duration": 4439,
    "start_time": "2024-03-31T12:45:06.245Z"
   },
   {
    "duration": 4,
    "start_time": "2024-03-31T12:45:10.686Z"
   },
   {
    "duration": 5,
    "start_time": "2024-03-31T12:45:10.692Z"
   },
   {
    "duration": 4,
    "start_time": "2024-03-31T12:45:10.698Z"
   },
   {
    "duration": 73704,
    "start_time": "2024-03-31T12:45:10.715Z"
   },
   {
    "duration": 4,
    "start_time": "2024-03-31T12:46:24.421Z"
   },
   {
    "duration": 4,
    "start_time": "2024-03-31T12:46:24.427Z"
   },
   {
    "duration": 4,
    "start_time": "2024-03-31T12:46:24.433Z"
   },
   {
    "duration": 3,
    "start_time": "2024-03-31T12:46:24.438Z"
   },
   {
    "duration": 421459,
    "start_time": "2024-03-31T12:46:24.443Z"
   },
   {
    "duration": 3,
    "start_time": "2024-03-31T12:53:25.905Z"
   },
   {
    "duration": 9,
    "start_time": "2024-03-31T12:53:25.914Z"
   },
   {
    "duration": 6,
    "start_time": "2024-03-31T12:53:25.924Z"
   },
   {
    "duration": 5,
    "start_time": "2024-03-31T12:53:25.931Z"
   },
   {
    "duration": 11831736,
    "start_time": "2024-03-31T12:53:25.937Z"
   },
   {
    "duration": 3,
    "start_time": "2024-03-31T16:10:37.675Z"
   },
   {
    "duration": 16,
    "start_time": "2024-03-31T16:10:37.679Z"
   },
   {
    "duration": 4,
    "start_time": "2024-03-31T16:10:37.696Z"
   },
   {
    "duration": 13,
    "start_time": "2024-03-31T16:10:37.702Z"
   },
   {
    "duration": 21,
    "start_time": "2024-03-31T16:10:37.716Z"
   },
   {
    "duration": 3,
    "start_time": "2024-03-31T16:10:37.738Z"
   },
   {
    "duration": 155,
    "start_time": "2024-03-31T16:10:37.742Z"
   },
   {
    "duration": 8801,
    "start_time": "2024-04-03T05:30:59.711Z"
   },
   {
    "duration": 3064,
    "start_time": "2024-04-03T05:31:08.516Z"
   },
   {
    "duration": 3366,
    "start_time": "2024-04-03T05:31:11.583Z"
   },
   {
    "duration": 36,
    "start_time": "2024-04-03T05:31:14.951Z"
   },
   {
    "duration": 10,
    "start_time": "2024-04-03T05:31:14.988Z"
   },
   {
    "duration": 66,
    "start_time": "2024-04-03T05:31:14.999Z"
   },
   {
    "duration": 339,
    "start_time": "2024-04-03T05:31:15.067Z"
   },
   {
    "duration": 5,
    "start_time": "2024-04-03T05:31:15.407Z"
   },
   {
    "duration": 38,
    "start_time": "2024-04-03T05:31:15.414Z"
   },
   {
    "duration": 40,
    "start_time": "2024-04-03T05:31:15.456Z"
   },
   {
    "duration": 16,
    "start_time": "2024-04-03T05:31:15.498Z"
   },
   {
    "duration": 38,
    "start_time": "2024-04-03T05:31:15.516Z"
   },
   {
    "duration": 26,
    "start_time": "2024-04-03T05:31:15.556Z"
   },
   {
    "duration": 898418,
    "start_time": "2024-04-03T05:31:15.584Z"
   },
   {
    "duration": 9,
    "start_time": "2024-04-03T05:46:14.004Z"
   },
   {
    "duration": 45,
    "start_time": "2024-04-03T05:46:14.014Z"
   },
   {
    "duration": 9,
    "start_time": "2024-04-03T05:46:14.060Z"
   },
   {
    "duration": 4532,
    "start_time": "2024-04-03T05:46:14.071Z"
   },
   {
    "duration": 3,
    "start_time": "2024-04-03T05:46:18.606Z"
   },
   {
    "duration": 25,
    "start_time": "2024-04-03T05:46:18.611Z"
   },
   {
    "duration": 9,
    "start_time": "2024-04-03T05:46:18.638Z"
   },
   {
    "duration": 75341,
    "start_time": "2024-04-03T05:46:18.652Z"
   },
   {
    "duration": 84,
    "start_time": "2024-04-03T05:47:33.996Z"
   },
   {
    "duration": 100,
    "start_time": "2024-04-03T05:47:34.082Z"
   },
   {
    "duration": 14,
    "start_time": "2024-04-03T05:47:34.184Z"
   },
   {
    "duration": 14,
    "start_time": "2024-04-03T05:47:34.200Z"
   },
   {
    "duration": 425397,
    "start_time": "2024-04-03T05:47:34.216Z"
   },
   {
    "duration": 2,
    "start_time": "2024-04-03T05:54:39.616Z"
   },
   {
    "duration": 11,
    "start_time": "2024-04-03T05:54:39.620Z"
   },
   {
    "duration": 3,
    "start_time": "2024-04-03T05:54:39.633Z"
   },
   {
    "duration": 7,
    "start_time": "2024-04-03T05:54:39.638Z"
   },
   {
    "duration": 12592505,
    "start_time": "2024-04-03T05:54:39.646Z"
   },
   {
    "duration": 4,
    "start_time": "2024-04-03T09:24:32.154Z"
   },
   {
    "duration": 24,
    "start_time": "2024-04-03T09:24:32.160Z"
   },
   {
    "duration": 13,
    "start_time": "2024-04-03T09:24:32.185Z"
   },
   {
    "duration": 30,
    "start_time": "2024-04-03T09:24:32.199Z"
   },
   {
    "duration": 52,
    "start_time": "2024-04-03T09:24:32.232Z"
   },
   {
    "duration": 12,
    "start_time": "2024-04-03T09:24:32.286Z"
   },
   {
    "duration": 160,
    "start_time": "2024-04-03T09:24:32.300Z"
   },
   {
    "duration": 339,
    "start_time": "2024-04-03T09:58:30.292Z"
   },
   {
    "duration": 21,
    "start_time": "2024-04-03T09:58:35.748Z"
   },
   {
    "duration": 31,
    "start_time": "2024-04-03T10:00:00.691Z"
   },
   {
    "duration": 8317,
    "start_time": "2024-04-05T07:25:00.151Z"
   },
   {
    "duration": 2389,
    "start_time": "2024-04-05T07:25:08.470Z"
   },
   {
    "duration": 3471,
    "start_time": "2024-04-05T07:25:10.861Z"
   },
   {
    "duration": 33,
    "start_time": "2024-04-05T07:25:17.696Z"
   },
   {
    "duration": 10,
    "start_time": "2024-04-05T07:25:18.527Z"
   },
   {
    "duration": 26,
    "start_time": "2024-04-05T07:25:19.346Z"
   },
   {
    "duration": 232,
    "start_time": "2024-04-05T07:25:37.773Z"
   },
   {
    "duration": 5,
    "start_time": "2024-04-05T07:25:38.094Z"
   },
   {
    "duration": 11,
    "start_time": "2024-04-05T07:25:38.758Z"
   },
   {
    "duration": 20,
    "start_time": "2024-04-05T07:25:52.646Z"
   },
   {
    "duration": 2,
    "start_time": "2024-04-05T07:25:54.872Z"
   },
   {
    "duration": 3,
    "start_time": "2024-04-05T07:25:54.902Z"
   },
   {
    "duration": 5,
    "start_time": "2024-04-05T07:25:56.790Z"
   },
   {
    "duration": 438561,
    "start_time": "2024-04-05T07:25:57.317Z"
   },
   {
    "duration": 6,
    "start_time": "2024-04-05T07:33:15.880Z"
   },
   {
    "duration": 43,
    "start_time": "2024-04-05T07:33:15.887Z"
   },
   {
    "duration": 5,
    "start_time": "2024-04-05T07:33:15.932Z"
   },
   {
    "duration": 2285,
    "start_time": "2024-04-05T07:33:15.939Z"
   },
   {
    "duration": 3,
    "start_time": "2024-04-05T07:33:18.226Z"
   },
   {
    "duration": 31,
    "start_time": "2024-04-05T07:33:18.231Z"
   },
   {
    "duration": 9,
    "start_time": "2024-04-05T07:33:18.264Z"
   },
   {
    "duration": 378425,
    "start_time": "2024-04-05T07:33:18.275Z"
   },
   {
    "duration": 4,
    "start_time": "2024-04-05T07:39:36.796Z"
   },
   {
    "duration": 96,
    "start_time": "2024-04-05T07:39:36.802Z"
   },
   {
    "duration": 4,
    "start_time": "2024-04-05T07:42:45.412Z"
   },
   {
    "duration": 3,
    "start_time": "2024-04-05T07:42:45.761Z"
   },
   {
    "duration": 439534,
    "start_time": "2024-04-05T07:42:45.959Z"
   },
   {
    "duration": 3,
    "start_time": "2024-04-05T07:50:05.497Z"
   },
   {
    "duration": 91,
    "start_time": "2024-04-05T07:50:05.504Z"
   },
   {
    "duration": 19,
    "start_time": "2024-04-05T07:51:09.255Z"
   },
   {
    "duration": 8,
    "start_time": "2024-04-05T07:51:28.231Z"
   },
   {
    "duration": 3,
    "start_time": "2024-04-05T07:52:35.931Z"
   },
   {
    "duration": 3,
    "start_time": "2024-04-05T07:52:36.236Z"
   },
   {
    "duration": 818245,
    "start_time": "2024-04-05T07:52:36.447Z"
   },
   {
    "duration": 3,
    "start_time": "2024-04-05T08:06:14.695Z"
   },
   {
    "duration": 112,
    "start_time": "2024-04-05T08:06:14.700Z"
   },
   {
    "duration": 3,
    "start_time": "2024-04-05T08:08:27.158Z"
   },
   {
    "duration": 3,
    "start_time": "2024-04-05T08:08:27.426Z"
   },
   {
    "duration": 2729,
    "start_time": "2024-04-05T12:23:01.854Z"
   },
   {
    "duration": 1945,
    "start_time": "2024-04-05T12:23:04.585Z"
   },
   {
    "duration": 1000,
    "start_time": "2024-04-05T12:23:06.532Z"
   },
   {
    "duration": 33,
    "start_time": "2024-04-05T12:23:07.534Z"
   },
   {
    "duration": 9,
    "start_time": "2024-04-05T12:23:07.569Z"
   },
   {
    "duration": 36,
    "start_time": "2024-04-05T12:23:07.592Z"
   },
   {
    "duration": 251,
    "start_time": "2024-04-05T12:23:07.630Z"
   },
   {
    "duration": 10,
    "start_time": "2024-04-05T12:23:07.883Z"
   },
   {
    "duration": 45,
    "start_time": "2024-04-05T12:23:07.894Z"
   },
   {
    "duration": 13,
    "start_time": "2024-04-05T12:23:07.941Z"
   },
   {
    "duration": 3,
    "start_time": "2024-04-05T12:23:07.955Z"
   },
   {
    "duration": 5,
    "start_time": "2024-04-05T12:23:07.960Z"
   },
   {
    "duration": 10,
    "start_time": "2024-04-05T12:23:07.967Z"
   },
   {
    "duration": 461612,
    "start_time": "2024-04-05T12:23:07.980Z"
   },
   {
    "duration": 6,
    "start_time": "2024-04-05T12:30:49.594Z"
   },
   {
    "duration": 36,
    "start_time": "2024-04-05T12:30:49.601Z"
   },
   {
    "duration": 16,
    "start_time": "2024-04-05T12:30:49.638Z"
   },
   {
    "duration": 2448,
    "start_time": "2024-04-05T12:30:49.656Z"
   },
   {
    "duration": 3,
    "start_time": "2024-04-05T12:30:52.105Z"
   },
   {
    "duration": 21,
    "start_time": "2024-04-05T12:30:52.111Z"
   },
   {
    "duration": 31,
    "start_time": "2024-04-05T12:30:52.134Z"
   },
   {
    "duration": 2792,
    "start_time": "2024-04-05T13:18:29.124Z"
   },
   {
    "duration": 1899,
    "start_time": "2024-04-05T13:18:31.919Z"
   },
   {
    "duration": 981,
    "start_time": "2024-04-05T13:46:13.870Z"
   },
   {
    "duration": 42,
    "start_time": "2024-04-05T14:27:52.897Z"
   },
   {
    "duration": 11,
    "start_time": "2024-04-05T14:27:54.482Z"
   },
   {
    "duration": 29,
    "start_time": "2024-04-05T14:27:55.086Z"
   },
   {
    "duration": 254,
    "start_time": "2024-04-05T14:27:55.390Z"
   },
   {
    "duration": 5,
    "start_time": "2024-04-05T14:27:55.693Z"
   },
   {
    "duration": 26,
    "start_time": "2024-04-05T14:27:56.636Z"
   },
   {
    "duration": 15,
    "start_time": "2024-04-05T14:27:58.501Z"
   },
   {
    "duration": 3,
    "start_time": "2024-04-05T14:28:00.408Z"
   },
   {
    "duration": 3,
    "start_time": "2024-04-05T14:28:03.250Z"
   },
   {
    "duration": 6,
    "start_time": "2024-04-05T14:28:03.448Z"
   },
   {
    "duration": 447461,
    "start_time": "2024-04-05T14:28:03.634Z"
   },
   {
    "duration": 7,
    "start_time": "2024-04-05T14:35:31.097Z"
   },
   {
    "duration": 92,
    "start_time": "2024-04-05T14:35:31.105Z"
   },
   {
    "duration": 168,
    "start_time": "2024-04-05T14:35:31.199Z"
   },
   {
    "duration": 2574,
    "start_time": "2024-04-05T14:35:31.368Z"
   },
   {
    "duration": 3,
    "start_time": "2024-04-05T14:35:33.944Z"
   },
   {
    "duration": 73,
    "start_time": "2024-04-05T14:37:09.421Z"
   },
   {
    "duration": 4,
    "start_time": "2024-04-05T14:37:15.823Z"
   },
   {
    "duration": 3,
    "start_time": "2024-04-05T14:37:16.571Z"
   },
   {
    "duration": 827149,
    "start_time": "2024-04-05T14:37:17.812Z"
   },
   {
    "duration": 3,
    "start_time": "2024-04-05T14:59:11.291Z"
   },
   {
    "duration": 4,
    "start_time": "2024-04-05T14:59:11.558Z"
   },
   {
    "duration": 14,
    "start_time": "2024-04-05T14:59:19.390Z"
   },
   {
    "duration": 7,
    "start_time": "2024-04-05T14:59:21.776Z"
   },
   {
    "duration": 4,
    "start_time": "2024-04-05T15:12:56.662Z"
   },
   {
    "duration": 3,
    "start_time": "2024-04-05T15:12:57.009Z"
   },
   {
    "duration": 21091,
    "start_time": "2024-04-05T15:12:57.272Z"
   },
   {
    "duration": 3,
    "start_time": "2024-04-05T15:13:18.365Z"
   },
   {
    "duration": 11,
    "start_time": "2024-04-05T15:13:18.370Z"
   },
   {
    "duration": 6,
    "start_time": "2024-04-05T15:16:09.178Z"
   },
   {
    "duration": 13,
    "start_time": "2024-04-05T15:16:11.625Z"
   },
   {
    "duration": 3,
    "start_time": "2024-04-05T15:16:24.930Z"
   },
   {
    "duration": 3,
    "start_time": "2024-04-05T15:16:25.220Z"
   },
   {
    "duration": 319629,
    "start_time": "2024-04-05T15:16:25.410Z"
   },
   {
    "duration": 2,
    "start_time": "2024-04-05T15:21:45.042Z"
   },
   {
    "duration": 113,
    "start_time": "2024-04-05T15:21:45.046Z"
   },
   {
    "duration": 6,
    "start_time": "2024-04-05T15:22:54.200Z"
   },
   {
    "duration": 15,
    "start_time": "2024-04-05T15:22:54.823Z"
   },
   {
    "duration": 4,
    "start_time": "2024-04-05T15:23:02.126Z"
   },
   {
    "duration": 3,
    "start_time": "2024-04-05T15:23:02.514Z"
   },
   {
    "duration": 2293,
    "start_time": "2024-04-05T15:23:02.790Z"
   },
   {
    "duration": 3,
    "start_time": "2024-04-05T15:23:05.086Z"
   },
   {
    "duration": 20,
    "start_time": "2024-04-05T15:23:05.091Z"
   },
   {
    "duration": 8,
    "start_time": "2024-04-05T15:23:13.187Z"
   },
   {
    "duration": 14,
    "start_time": "2024-04-05T15:23:13.346Z"
   },
   {
    "duration": 3,
    "start_time": "2024-04-05T15:23:21.767Z"
   },
   {
    "duration": 3,
    "start_time": "2024-04-05T15:23:22.235Z"
   },
   {
    "duration": 435,
    "start_time": "2024-04-05T15:23:22.395Z"
   },
   {
    "duration": 2,
    "start_time": "2024-04-05T15:23:22.832Z"
   },
   {
    "duration": 23,
    "start_time": "2024-04-05T15:23:22.836Z"
   },
   {
    "duration": 3,
    "start_time": "2024-04-05T15:23:27.128Z"
   },
   {
    "duration": 3,
    "start_time": "2024-04-05T15:23:27.637Z"
   },
   {
    "duration": 660,
    "start_time": "2024-04-05T15:23:27.785Z"
   },
   {
    "duration": 3,
    "start_time": "2024-04-05T15:23:28.447Z"
   },
   {
    "duration": 17,
    "start_time": "2024-04-05T15:23:28.452Z"
   },
   {
    "duration": 4,
    "start_time": "2024-04-05T15:23:31.762Z"
   },
   {
    "duration": 92,
    "start_time": "2024-04-05T15:23:31.906Z"
   },
   {
    "duration": 1426,
    "start_time": "2024-04-05T15:23:32.043Z"
   },
   {
    "duration": 2,
    "start_time": "2024-04-05T15:23:33.471Z"
   },
   {
    "duration": 17,
    "start_time": "2024-04-05T15:23:33.475Z"
   },
   {
    "duration": 3,
    "start_time": "2024-04-05T15:23:38.546Z"
   },
   {
    "duration": 3,
    "start_time": "2024-04-05T15:23:38.712Z"
   },
   {
    "duration": 4144,
    "start_time": "2024-04-05T15:23:38.837Z"
   },
   {
    "duration": 2,
    "start_time": "2024-04-05T15:23:42.983Z"
   },
   {
    "duration": 13,
    "start_time": "2024-04-05T15:23:42.987Z"
   },
   {
    "duration": 14,
    "start_time": "2024-04-05T15:23:50.873Z"
   },
   {
    "duration": 3,
    "start_time": "2024-04-05T15:23:59.209Z"
   },
   {
    "duration": 3,
    "start_time": "2024-04-05T15:23:59.349Z"
   },
   {
    "duration": 6454,
    "start_time": "2024-04-05T15:23:59.499Z"
   },
   {
    "duration": 2,
    "start_time": "2024-04-05T15:24:05.955Z"
   },
   {
    "duration": 14,
    "start_time": "2024-04-05T15:24:05.959Z"
   },
   {
    "duration": 15,
    "start_time": "2024-04-05T15:24:25.197Z"
   },
   {
    "duration": 3,
    "start_time": "2024-04-05T15:24:45.311Z"
   },
   {
    "duration": 3,
    "start_time": "2024-04-05T15:24:45.510Z"
   },
   {
    "duration": 316453,
    "start_time": "2024-04-05T15:24:45.670Z"
   },
   {
    "duration": 3,
    "start_time": "2024-04-05T15:30:02.125Z"
   },
   {
    "duration": 51,
    "start_time": "2024-04-05T15:30:02.130Z"
   },
   {
    "duration": 6,
    "start_time": "2024-04-05T15:32:01.543Z"
   },
   {
    "duration": 13,
    "start_time": "2024-04-05T15:32:01.878Z"
   },
   {
    "duration": 3,
    "start_time": "2024-04-05T15:32:28.201Z"
   },
   {
    "duration": 3,
    "start_time": "2024-04-05T15:32:28.448Z"
   },
   {
    "duration": 2318,
    "start_time": "2024-04-05T15:32:28.631Z"
   },
   {
    "duration": 3,
    "start_time": "2024-04-05T15:32:30.951Z"
   },
   {
    "duration": 49,
    "start_time": "2024-04-05T15:32:30.955Z"
   },
   {
    "duration": 3,
    "start_time": "2024-04-05T15:32:52.189Z"
   },
   {
    "duration": 3,
    "start_time": "2024-04-05T15:32:52.529Z"
   },
   {
    "duration": 3,
    "start_time": "2024-04-05T15:32:52.704Z"
   },
   {
    "duration": 1136,
    "start_time": "2024-04-05T15:32:52.871Z"
   },
   {
    "duration": 3,
    "start_time": "2024-04-05T15:32:54.009Z"
   },
   {
    "duration": 15,
    "start_time": "2024-04-05T15:32:54.013Z"
   },
   {
    "duration": 40,
    "start_time": "2024-04-05T15:35:14.355Z"
   },
   {
    "duration": 150,
    "start_time": "2024-04-05T15:42:50.966Z"
   },
   {
    "duration": 36,
    "start_time": "2024-04-05T15:43:26.782Z"
   },
   {
    "duration": 222,
    "start_time": "2024-04-05T15:44:00.780Z"
   },
   {
    "duration": 4,
    "start_time": "2024-04-05T15:55:54.351Z"
   },
   {
    "duration": 4,
    "start_time": "2024-04-05T15:56:44.181Z"
   },
   {
    "duration": 12,
    "start_time": "2024-04-05T15:56:52.965Z"
   },
   {
    "duration": 4,
    "start_time": "2024-04-05T15:57:12.822Z"
   },
   {
    "duration": 3,
    "start_time": "2024-04-05T15:57:13.153Z"
   },
   {
    "duration": 10,
    "start_time": "2024-04-05T15:57:13.869Z"
   },
   {
    "duration": 4,
    "start_time": "2024-04-05T15:58:02.204Z"
   },
   {
    "duration": 3,
    "start_time": "2024-04-05T15:58:04.287Z"
   },
   {
    "duration": 10,
    "start_time": "2024-04-05T15:58:04.476Z"
   },
   {
    "duration": 3,
    "start_time": "2024-04-05T15:58:22.343Z"
   },
   {
    "duration": 3,
    "start_time": "2024-04-05T15:58:22.567Z"
   },
   {
    "duration": 15,
    "start_time": "2024-04-05T15:58:22.800Z"
   },
   {
    "duration": 4,
    "start_time": "2024-04-05T15:58:27.050Z"
   },
   {
    "duration": 3,
    "start_time": "2024-04-05T15:58:27.222Z"
   },
   {
    "duration": 6995,
    "start_time": "2024-04-05T15:58:27.598Z"
   },
   {
    "duration": 2541,
    "start_time": "2024-04-05T18:52:37.983Z"
   },
   {
    "duration": 1931,
    "start_time": "2024-04-05T18:52:40.965Z"
   },
   {
    "duration": 933,
    "start_time": "2024-04-05T18:52:46.666Z"
   },
   {
    "duration": 33,
    "start_time": "2024-04-05T18:52:52.539Z"
   },
   {
    "duration": 10,
    "start_time": "2024-04-05T18:52:53.091Z"
   },
   {
    "duration": 26,
    "start_time": "2024-04-05T18:52:53.753Z"
   },
   {
    "duration": 238,
    "start_time": "2024-04-05T18:52:55.161Z"
   },
   {
    "duration": 5,
    "start_time": "2024-04-05T18:52:56.423Z"
   },
   {
    "duration": 201,
    "start_time": "2024-04-05T18:54:23.940Z"
   },
   {
    "duration": 1812,
    "start_time": "2024-04-05T18:54:35.042Z"
   },
   {
    "duration": 926,
    "start_time": "2024-04-05T18:54:36.856Z"
   },
   {
    "duration": 37,
    "start_time": "2024-04-05T18:54:37.784Z"
   },
   {
    "duration": 10,
    "start_time": "2024-04-05T18:54:37.823Z"
   },
   {
    "duration": 27,
    "start_time": "2024-04-05T18:54:37.835Z"
   },
   {
    "duration": 231,
    "start_time": "2024-04-05T18:54:37.892Z"
   },
   {
    "duration": 5,
    "start_time": "2024-04-05T18:54:38.125Z"
   },
   {
    "duration": 9,
    "start_time": "2024-04-05T18:54:38.940Z"
   },
   {
    "duration": 13,
    "start_time": "2024-04-05T18:54:52.650Z"
   },
   {
    "duration": 3,
    "start_time": "2024-04-05T18:54:52.807Z"
   },
   {
    "duration": 3,
    "start_time": "2024-04-05T18:54:52.945Z"
   },
   {
    "duration": 4,
    "start_time": "2024-04-05T18:54:53.092Z"
   },
   {
    "duration": 421184,
    "start_time": "2024-04-05T18:54:53.246Z"
   },
   {
    "duration": 6,
    "start_time": "2024-04-05T19:01:54.432Z"
   },
   {
    "duration": 30,
    "start_time": "2024-04-05T19:01:54.439Z"
   },
   {
    "duration": 6,
    "start_time": "2024-04-05T19:01:54.471Z"
   },
   {
    "duration": 2214,
    "start_time": "2024-04-05T19:01:54.479Z"
   },
   {
    "duration": 3,
    "start_time": "2024-04-05T19:12:33.476Z"
   },
   {
    "duration": 3,
    "start_time": "2024-04-05T19:12:35.906Z"
   },
   {
    "duration": 2,
    "start_time": "2024-04-05T19:12:36.067Z"
   },
   {
    "duration": 2127,
    "start_time": "2024-04-05T19:12:36.228Z"
   },
   {
    "duration": 3,
    "start_time": "2024-04-05T19:12:38.356Z"
   },
   {
    "duration": 22,
    "start_time": "2024-04-05T19:12:38.360Z"
   },
   {
    "duration": 4,
    "start_time": "2024-04-05T19:12:38.865Z"
   },
   {
    "duration": 3,
    "start_time": "2024-04-05T19:12:39.045Z"
   },
   {
    "duration": 598366,
    "start_time": "2024-04-05T19:12:40.299Z"
   },
   {
    "duration": 3,
    "start_time": "2024-04-05T19:22:38.667Z"
   },
   {
    "duration": 7,
    "start_time": "2024-04-05T19:22:38.671Z"
   },
   {
    "duration": 14,
    "start_time": "2024-04-05T19:34:09.445Z"
   },
   {
    "duration": 7,
    "start_time": "2024-04-05T19:34:14.545Z"
   },
   {
    "duration": 14,
    "start_time": "2024-04-05T19:34:17.966Z"
   },
   {
    "duration": 4,
    "start_time": "2024-04-05T19:34:49.193Z"
   },
   {
    "duration": 4,
    "start_time": "2024-04-05T19:34:49.987Z"
   },
   {
    "duration": 10726728,
    "start_time": "2024-04-05T19:34:50.347Z"
   },
   {
    "duration": 3,
    "start_time": "2024-04-05T22:33:37.077Z"
   },
   {
    "duration": 4,
    "start_time": "2024-04-05T22:33:37.081Z"
   },
   {
    "duration": 3,
    "start_time": "2024-04-05T22:33:37.087Z"
   },
   {
    "duration": 6,
    "start_time": "2024-04-05T22:33:37.092Z"
   },
   {
    "duration": 51125226,
    "start_time": "2024-04-05T22:33:37.100Z"
   },
   {
    "duration": 0,
    "start_time": "2024-04-06T12:45:42.328Z"
   },
   {
    "duration": 0,
    "start_time": "2024-04-06T12:45:42.330Z"
   },
   {
    "duration": 0,
    "start_time": "2024-04-06T12:45:42.338Z"
   },
   {
    "duration": 4,
    "start_time": "2024-04-06T12:45:46.055Z"
   },
   {
    "duration": 9,
    "start_time": "2024-04-06T12:45:46.251Z"
   },
   {
    "duration": 6,
    "start_time": "2024-04-06T12:45:51.484Z"
   },
   {
    "duration": 20,
    "start_time": "2024-04-06T12:45:51.699Z"
   },
   {
    "duration": 246,
    "start_time": "2024-04-06T12:45:56.859Z"
   },
   {
    "duration": 15,
    "start_time": "2024-04-06T12:46:01.052Z"
   },
   {
    "duration": 3,
    "start_time": "2024-04-06T12:47:56.481Z"
   },
   {
    "duration": 3,
    "start_time": "2024-04-06T12:47:56.994Z"
   },
   {
    "duration": 1105213,
    "start_time": "2024-04-06T12:47:57.702Z"
   },
   {
    "duration": 0,
    "start_time": "2024-04-06T13:06:22.930Z"
   },
   {
    "duration": 0,
    "start_time": "2024-04-06T13:06:22.932Z"
   },
   {
    "duration": 3,
    "start_time": "2024-04-06T13:07:06.312Z"
   },
   {
    "duration": 4,
    "start_time": "2024-04-06T13:07:06.494Z"
   },
   {
    "duration": 141,
    "start_time": "2024-04-06T13:07:23.062Z"
   },
   {
    "duration": 4,
    "start_time": "2024-04-06T13:08:04.694Z"
   },
   {
    "duration": 8,
    "start_time": "2024-04-06T13:08:05.186Z"
   },
   {
    "duration": 1575527,
    "start_time": "2024-04-06T13:08:05.690Z"
   },
   {
    "duration": 3,
    "start_time": "2024-04-06T13:34:21.219Z"
   },
   {
    "duration": 4,
    "start_time": "2024-04-06T13:47:25.305Z"
   },
   {
    "duration": 3,
    "start_time": "2024-04-06T13:47:28.887Z"
   },
   {
    "duration": 3,
    "start_time": "2024-04-06T13:47:29.023Z"
   },
   {
    "duration": 3,
    "start_time": "2024-04-06T13:47:37.160Z"
   },
   {
    "duration": 8,
    "start_time": "2024-04-06T13:47:37.333Z"
   },
   {
    "duration": 1635730,
    "start_time": "2024-04-06T13:47:37.482Z"
   },
   {
    "duration": 3,
    "start_time": "2024-04-06T14:14:53.214Z"
   },
   {
    "duration": 37,
    "start_time": "2024-04-06T14:14:53.218Z"
   },
   {
    "duration": 4,
    "start_time": "2024-04-06T14:17:32.122Z"
   },
   {
    "duration": 3,
    "start_time": "2024-04-06T14:17:46.922Z"
   },
   {
    "duration": 10,
    "start_time": "2024-04-06T14:17:47.092Z"
   },
   {
    "duration": 159,
    "start_time": "2024-04-06T14:17:54.345Z"
   },
   {
    "duration": 5,
    "start_time": "2024-04-06T14:18:08.723Z"
   },
   {
    "duration": 3,
    "start_time": "2024-04-06T14:18:49.065Z"
   },
   {
    "duration": 3,
    "start_time": "2024-04-06T14:18:49.255Z"
   },
   {
    "duration": 4862797,
    "start_time": "2024-04-06T14:18:49.407Z"
   },
   {
    "duration": 2,
    "start_time": "2024-04-06T15:39:52.206Z"
   },
   {
    "duration": 42,
    "start_time": "2024-04-06T15:39:52.210Z"
   },
   {
    "duration": 724,
    "start_time": "2024-04-06T16:06:33.578Z"
   },
   {
    "duration": 5,
    "start_time": "2024-04-06T16:07:11.380Z"
   },
   {
    "duration": 3,
    "start_time": "2024-04-06T16:09:05.578Z"
   },
   {
    "duration": 3,
    "start_time": "2024-04-06T16:09:05.823Z"
   },
   {
    "duration": 11559208,
    "start_time": "2024-04-06T16:09:05.993Z"
   },
   {
    "duration": 3,
    "start_time": "2024-04-06T19:21:45.203Z"
   },
   {
    "duration": 89,
    "start_time": "2024-04-06T19:21:45.207Z"
   },
   {
    "duration": 5,
    "start_time": "2024-04-06T21:37:37.204Z"
   },
   {
    "duration": 719,
    "start_time": "2024-04-06T21:37:39.682Z"
   },
   {
    "duration": 3,
    "start_time": "2024-04-06T22:17:19.928Z"
   },
   {
    "duration": 10,
    "start_time": "2024-04-06T22:17:20.724Z"
   },
   {
    "duration": 59140,
    "start_time": "2024-04-06T22:17:21.424Z"
   },
   {
    "duration": 3,
    "start_time": "2024-04-06T22:19:35.832Z"
   },
   {
    "duration": 4,
    "start_time": "2024-04-06T22:19:35.985Z"
   },
   {
    "duration": 41907245,
    "start_time": "2024-04-06T22:19:36.868Z"
   },
   {
    "duration": 0,
    "start_time": "2024-04-07T09:58:04.115Z"
   },
   {
    "duration": 0,
    "start_time": "2024-04-07T09:58:04.116Z"
   },
   {
    "duration": 10,
    "start_time": "2024-04-07T09:58:32.415Z"
   },
   {
    "duration": 5,
    "start_time": "2024-04-07T09:58:55.093Z"
   },
   {
    "duration": 3,
    "start_time": "2024-04-07T09:58:55.580Z"
   },
   {
    "duration": 7069,
    "start_time": "2024-04-07T17:21:44.851Z"
   },
   {
    "duration": 2268,
    "start_time": "2024-04-07T17:21:51.922Z"
   },
   {
    "duration": 2342,
    "start_time": "2024-04-07T17:21:54.192Z"
   },
   {
    "duration": 29,
    "start_time": "2024-04-07T17:21:56.536Z"
   },
   {
    "duration": 9,
    "start_time": "2024-04-07T17:21:56.566Z"
   },
   {
    "duration": 25,
    "start_time": "2024-04-07T17:21:56.577Z"
   },
   {
    "duration": 218,
    "start_time": "2024-04-07T17:21:56.604Z"
   },
   {
    "duration": 4,
    "start_time": "2024-04-07T17:21:56.824Z"
   },
   {
    "duration": 15,
    "start_time": "2024-04-07T17:21:56.829Z"
   },
   {
    "duration": 11,
    "start_time": "2024-04-07T17:21:56.846Z"
   },
   {
    "duration": 2,
    "start_time": "2024-04-07T17:21:56.859Z"
   },
   {
    "duration": 5,
    "start_time": "2024-04-07T17:21:56.863Z"
   },
   {
    "duration": 5,
    "start_time": "2024-04-07T17:21:56.870Z"
   },
   {
    "duration": 391610,
    "start_time": "2024-04-07T17:21:56.876Z"
   },
   {
    "duration": 5,
    "start_time": "2024-04-07T17:28:28.487Z"
   },
   {
    "duration": 31,
    "start_time": "2024-04-07T17:28:28.494Z"
   },
   {
    "duration": 6,
    "start_time": "2024-04-07T17:28:28.526Z"
   },
   {
    "duration": 2042,
    "start_time": "2024-04-07T17:28:28.534Z"
   },
   {
    "duration": 3,
    "start_time": "2024-04-07T17:28:30.578Z"
   },
   {
    "duration": 64,
    "start_time": "2024-04-07T17:28:30.582Z"
   },
   {
    "duration": 27,
    "start_time": "2024-04-07T17:28:30.648Z"
   },
   {
    "duration": 2189,
    "start_time": "2024-04-07T17:28:30.677Z"
   },
   {
    "duration": 3,
    "start_time": "2024-04-07T17:28:32.868Z"
   },
   {
    "duration": 7,
    "start_time": "2024-04-07T17:28:32.872Z"
   },
   {
    "duration": 5,
    "start_time": "2024-04-07T17:28:32.880Z"
   },
   {
    "duration": 9,
    "start_time": "2024-04-07T17:28:32.887Z"
   },
   {
    "duration": 558443,
    "start_time": "2024-04-07T17:28:32.897Z"
   },
   {
    "duration": 3,
    "start_time": "2024-04-07T17:37:51.344Z"
   },
   {
    "duration": 34,
    "start_time": "2024-04-07T17:37:51.348Z"
   },
   {
    "duration": 5,
    "start_time": "2024-04-07T17:37:51.383Z"
   },
   {
    "duration": 19,
    "start_time": "2024-04-07T17:37:51.390Z"
   },
   {
    "duration": 2330,
    "start_time": "2024-04-08T16:32:26.157Z"
   },
   {
    "duration": 1879,
    "start_time": "2024-04-08T16:32:28.490Z"
   },
   {
    "duration": 876,
    "start_time": "2024-04-08T16:32:30.371Z"
   },
   {
    "duration": 30,
    "start_time": "2024-04-08T16:32:31.249Z"
   },
   {
    "duration": 25,
    "start_time": "2024-04-08T16:32:31.281Z"
   },
   {
    "duration": 76,
    "start_time": "2024-04-08T16:32:31.307Z"
   },
   {
    "duration": 258,
    "start_time": "2024-04-08T16:32:31.385Z"
   },
   {
    "duration": 5,
    "start_time": "2024-04-08T16:32:31.644Z"
   },
   {
    "duration": 52,
    "start_time": "2024-04-08T16:32:31.650Z"
   },
   {
    "duration": 37,
    "start_time": "2024-04-08T16:32:31.706Z"
   },
   {
    "duration": 11,
    "start_time": "2024-04-08T16:32:31.744Z"
   },
   {
    "duration": 20,
    "start_time": "2024-04-08T16:32:31.757Z"
   },
   {
    "duration": 32,
    "start_time": "2024-04-08T16:32:31.778Z"
   },
   {
    "duration": 392829,
    "start_time": "2024-04-08T16:32:31.812Z"
   },
   {
    "duration": 5,
    "start_time": "2024-04-08T16:39:04.642Z"
   },
   {
    "duration": 24,
    "start_time": "2024-04-08T16:39:04.649Z"
   },
   {
    "duration": 6,
    "start_time": "2024-04-08T16:39:04.674Z"
   },
   {
    "duration": 2099,
    "start_time": "2024-04-08T16:39:04.681Z"
   },
   {
    "duration": 3,
    "start_time": "2024-04-08T16:39:06.781Z"
   },
   {
    "duration": 22,
    "start_time": "2024-04-08T16:39:06.786Z"
   },
   {
    "duration": 45,
    "start_time": "2024-04-08T16:39:06.810Z"
   },
   {
    "duration": 1995,
    "start_time": "2024-04-08T16:39:06.857Z"
   },
   {
    "duration": 2,
    "start_time": "2024-04-08T16:39:08.854Z"
   },
   {
    "duration": 6,
    "start_time": "2024-04-08T16:39:08.858Z"
   },
   {
    "duration": 3,
    "start_time": "2024-04-08T16:39:08.866Z"
   },
   {
    "duration": 3,
    "start_time": "2024-04-08T16:39:08.870Z"
   },
   {
    "duration": 564147,
    "start_time": "2024-04-08T16:39:08.875Z"
   },
   {
    "duration": 2,
    "start_time": "2024-04-08T16:48:33.026Z"
   },
   {
    "duration": 6,
    "start_time": "2024-04-08T16:48:33.029Z"
   },
   {
    "duration": 5,
    "start_time": "2024-04-08T16:48:33.036Z"
   },
   {
    "duration": 5,
    "start_time": "2024-04-08T16:48:33.043Z"
   },
   {
    "duration": 6134762,
    "start_time": "2024-04-08T16:48:33.049Z"
   },
   {
    "duration": 3,
    "start_time": "2024-04-08T18:30:47.812Z"
   },
   {
    "duration": 10,
    "start_time": "2024-04-08T18:30:47.816Z"
   },
   {
    "duration": 9,
    "start_time": "2024-04-08T18:30:47.828Z"
   },
   {
    "duration": 13,
    "start_time": "2024-04-08T18:30:47.839Z"
   },
   {
    "duration": 160,
    "start_time": "2024-04-08T18:30:47.854Z"
   },
   {
    "duration": 0,
    "start_time": "2024-04-08T18:30:48.016Z"
   },
   {
    "duration": 0,
    "start_time": "2024-04-08T18:30:48.017Z"
   },
   {
    "duration": 0,
    "start_time": "2024-04-08T18:30:48.019Z"
   },
   {
    "duration": 164,
    "start_time": "2024-04-08T19:30:05.284Z"
   },
   {
    "duration": 13,
    "start_time": "2024-04-08T19:30:09.873Z"
   },
   {
    "duration": 3,
    "start_time": "2024-04-08T19:30:12.260Z"
   },
   {
    "duration": 13,
    "start_time": "2024-04-08T19:30:12.553Z"
   },
   {
    "duration": 3,
    "start_time": "2024-04-08T19:31:17.554Z"
   },
   {
    "duration": 4,
    "start_time": "2024-04-08T19:31:17.744Z"
   },
   {
    "duration": 36292,
    "start_time": "2024-04-08T19:31:17.925Z"
   },
   {
    "duration": 3,
    "start_time": "2024-04-08T19:31:54.219Z"
   },
   {
    "duration": 12,
    "start_time": "2024-04-08T19:31:54.223Z"
   },
   {
    "duration": 4,
    "start_time": "2024-04-08T19:32:02.461Z"
   },
   {
    "duration": 4,
    "start_time": "2024-04-08T19:32:02.651Z"
   },
   {
    "duration": 41589,
    "start_time": "2024-04-08T19:32:02.829Z"
   },
   {
    "duration": 3,
    "start_time": "2024-04-08T19:32:44.421Z"
   },
   {
    "duration": 92,
    "start_time": "2024-04-08T19:32:44.427Z"
   },
   {
    "duration": 12,
    "start_time": "2024-04-08T19:32:55.910Z"
   },
   {
    "duration": 7182,
    "start_time": "2024-04-09T16:14:14.366Z"
   },
   {
    "duration": 2282,
    "start_time": "2024-04-09T16:14:21.551Z"
   },
   {
    "duration": 2311,
    "start_time": "2024-04-09T16:14:23.836Z"
   },
   {
    "duration": 31,
    "start_time": "2024-04-09T16:14:26.149Z"
   },
   {
    "duration": 11,
    "start_time": "2024-04-09T16:14:26.181Z"
   },
   {
    "duration": 35,
    "start_time": "2024-04-09T16:14:26.194Z"
   },
   {
    "duration": 214,
    "start_time": "2024-04-09T16:14:26.230Z"
   },
   {
    "duration": 4,
    "start_time": "2024-04-09T16:14:26.446Z"
   },
   {
    "duration": 6,
    "start_time": "2024-04-09T16:14:26.452Z"
   },
   {
    "duration": 11,
    "start_time": "2024-04-09T16:14:26.461Z"
   },
   {
    "duration": 2,
    "start_time": "2024-04-09T16:14:26.474Z"
   },
   {
    "duration": 7,
    "start_time": "2024-04-09T16:14:26.478Z"
   },
   {
    "duration": 32,
    "start_time": "2024-04-09T16:14:26.486Z"
   },
   {
    "duration": 396037,
    "start_time": "2024-04-09T16:14:26.520Z"
   },
   {
    "duration": 5,
    "start_time": "2024-04-09T16:21:02.559Z"
   },
   {
    "duration": 46,
    "start_time": "2024-04-09T16:21:02.565Z"
   },
   {
    "duration": 5,
    "start_time": "2024-04-09T16:21:02.612Z"
   },
   {
    "duration": 2195,
    "start_time": "2024-04-09T16:21:02.619Z"
   },
   {
    "duration": 2,
    "start_time": "2024-04-09T16:21:04.817Z"
   },
   {
    "duration": 17,
    "start_time": "2024-04-09T16:21:04.820Z"
   },
   {
    "duration": 4,
    "start_time": "2024-04-09T16:21:04.838Z"
   },
   {
    "duration": 710779,
    "start_time": "2024-04-09T16:21:04.844Z"
   },
   {
    "duration": 3,
    "start_time": "2024-04-09T16:32:55.625Z"
   },
   {
    "duration": 93,
    "start_time": "2024-04-09T16:32:55.630Z"
   },
   {
    "duration": 14,
    "start_time": "2024-04-09T17:09:34.882Z"
   },
   {
    "duration": 3,
    "start_time": "2024-04-09T17:10:01.018Z"
   },
   {
    "duration": 2,
    "start_time": "2024-04-09T17:10:01.904Z"
   },
   {
    "duration": 48,
    "start_time": "2024-04-10T13:22:51.616Z"
   },
   {
    "duration": 2434,
    "start_time": "2024-04-10T14:47:28.286Z"
   },
   {
    "duration": 1800,
    "start_time": "2024-04-10T14:47:30.723Z"
   },
   {
    "duration": 879,
    "start_time": "2024-04-10T14:47:32.525Z"
   },
   {
    "duration": 27,
    "start_time": "2024-04-10T14:47:33.406Z"
   },
   {
    "duration": 15,
    "start_time": "2024-04-10T14:47:33.435Z"
   },
   {
    "duration": 38,
    "start_time": "2024-04-10T14:47:33.451Z"
   },
   {
    "duration": 220,
    "start_time": "2024-04-10T14:47:33.490Z"
   },
   {
    "duration": 9,
    "start_time": "2024-04-10T14:47:33.712Z"
   },
   {
    "duration": 8,
    "start_time": "2024-04-10T14:47:33.723Z"
   },
   {
    "duration": 13,
    "start_time": "2024-04-10T14:47:33.734Z"
   },
   {
    "duration": 3,
    "start_time": "2024-04-10T14:47:33.749Z"
   },
   {
    "duration": 8,
    "start_time": "2024-04-10T14:47:33.754Z"
   },
   {
    "duration": 6,
    "start_time": "2024-04-10T14:47:33.763Z"
   },
   {
    "duration": 394526,
    "start_time": "2024-04-10T14:47:33.771Z"
   },
   {
    "duration": 5,
    "start_time": "2024-04-10T14:54:08.300Z"
   },
   {
    "duration": 20,
    "start_time": "2024-04-10T14:54:08.318Z"
   },
   {
    "duration": 4,
    "start_time": "2024-04-10T14:54:08.340Z"
   },
   {
    "duration": 2143,
    "start_time": "2024-04-10T14:54:08.346Z"
   },
   {
    "duration": 2,
    "start_time": "2024-04-10T14:54:10.492Z"
   },
   {
    "duration": 5,
    "start_time": "2024-04-10T15:27:19.457Z"
   },
   {
    "duration": 2,
    "start_time": "2024-04-10T15:27:19.970Z"
   },
   {
    "duration": 2546,
    "start_time": "2024-04-10T16:24:54.355Z"
   },
   {
    "duration": 962981,
    "start_time": "2024-04-10T16:24:56.904Z"
   },
   {
    "duration": 883,
    "start_time": "2024-04-10T16:40:59.888Z"
   },
   {
    "duration": 32,
    "start_time": "2024-04-10T16:41:00.773Z"
   },
   {
    "duration": 49,
    "start_time": "2024-04-10T16:41:00.807Z"
   },
   {
    "duration": 49,
    "start_time": "2024-04-10T16:41:00.858Z"
   },
   {
    "duration": 246,
    "start_time": "2024-04-10T16:41:00.909Z"
   },
   {
    "duration": 4,
    "start_time": "2024-04-10T16:41:01.157Z"
   },
   {
    "duration": 53,
    "start_time": "2024-04-10T16:41:01.162Z"
   },
   {
    "duration": 28,
    "start_time": "2024-04-10T16:41:01.218Z"
   },
   {
    "duration": 25,
    "start_time": "2024-04-10T16:41:01.247Z"
   },
   {
    "duration": 36,
    "start_time": "2024-04-10T16:41:01.273Z"
   },
   {
    "duration": 41,
    "start_time": "2024-04-10T16:41:01.311Z"
   },
   {
    "duration": 395436,
    "start_time": "2024-04-10T16:41:01.354Z"
   },
   {
    "duration": 5,
    "start_time": "2024-04-10T16:47:36.791Z"
   },
   {
    "duration": 27,
    "start_time": "2024-04-10T16:47:36.797Z"
   },
   {
    "duration": 2339,
    "start_time": "2024-04-10T16:51:44.014Z"
   },
   {
    "duration": 1737,
    "start_time": "2024-04-10T16:51:46.356Z"
   },
   {
    "duration": 875,
    "start_time": "2024-04-10T16:51:48.094Z"
   },
   {
    "duration": 32,
    "start_time": "2024-04-10T16:51:48.971Z"
   },
   {
    "duration": 20,
    "start_time": "2024-04-10T16:51:49.004Z"
   },
   {
    "duration": 31,
    "start_time": "2024-04-10T16:51:49.026Z"
   },
   {
    "duration": 249,
    "start_time": "2024-04-10T16:51:49.059Z"
   },
   {
    "duration": 8,
    "start_time": "2024-04-10T16:51:49.309Z"
   },
   {
    "duration": 6,
    "start_time": "2024-04-10T16:51:49.319Z"
   },
   {
    "duration": 13,
    "start_time": "2024-04-10T16:51:49.560Z"
   },
   {
    "duration": 2,
    "start_time": "2024-04-10T16:51:50.729Z"
   },
   {
    "duration": 2,
    "start_time": "2024-04-10T16:51:51.295Z"
   },
   {
    "duration": 6,
    "start_time": "2024-04-10T16:51:51.819Z"
   },
   {
    "duration": 391385,
    "start_time": "2024-04-10T16:51:52.395Z"
   },
   {
    "duration": 8,
    "start_time": "2024-04-10T17:12:56.434Z"
   },
   {
    "duration": 25,
    "start_time": "2024-04-10T17:12:57.108Z"
   },
   {
    "duration": 5,
    "start_time": "2024-04-10T17:12:57.408Z"
   },
   {
    "duration": 2139,
    "start_time": "2024-04-10T17:12:58.379Z"
   },
   {
    "duration": 3,
    "start_time": "2024-04-10T17:13:07.413Z"
   },
   {
    "duration": 4,
    "start_time": "2024-04-10T17:13:13.225Z"
   },
   {
    "duration": 3,
    "start_time": "2024-04-10T17:13:14.996Z"
   },
   {
    "duration": 789,
    "start_time": "2024-04-10T17:13:15.586Z"
   },
   {
    "duration": 3,
    "start_time": "2024-04-10T17:13:24.999Z"
   },
   {
    "duration": 3,
    "start_time": "2024-04-10T17:13:25.431Z"
   },
   {
    "duration": 2441,
    "start_time": "2024-04-10T17:16:37.414Z"
   },
   {
    "duration": 1902,
    "start_time": "2024-04-10T17:16:39.857Z"
   },
   {
    "duration": 980,
    "start_time": "2024-04-10T17:16:41.760Z"
   },
   {
    "duration": 30,
    "start_time": "2024-04-10T17:16:42.742Z"
   },
   {
    "duration": 22,
    "start_time": "2024-04-10T17:16:42.774Z"
   },
   {
    "duration": 39,
    "start_time": "2024-04-10T17:16:42.797Z"
   },
   {
    "duration": 227,
    "start_time": "2024-04-10T17:16:42.838Z"
   },
   {
    "duration": 4,
    "start_time": "2024-04-10T17:16:43.066Z"
   },
   {
    "duration": 7,
    "start_time": "2024-04-10T17:16:43.072Z"
   },
   {
    "duration": 12,
    "start_time": "2024-04-10T17:16:43.749Z"
   },
   {
    "duration": 2,
    "start_time": "2024-04-10T17:16:44.399Z"
   },
   {
    "duration": 3,
    "start_time": "2024-04-10T17:16:44.572Z"
   },
   {
    "duration": 5,
    "start_time": "2024-04-10T17:16:44.733Z"
   },
   {
    "duration": 401718,
    "start_time": "2024-04-10T17:16:44.887Z"
   },
   {
    "duration": 11,
    "start_time": "2024-04-10T17:23:26.607Z"
   },
   {
    "duration": 21,
    "start_time": "2024-04-10T17:23:26.619Z"
   },
   {
    "duration": 6,
    "start_time": "2024-04-10T17:23:26.642Z"
   },
   {
    "duration": 2105,
    "start_time": "2024-04-10T17:23:26.650Z"
   },
   {
    "duration": 2,
    "start_time": "2024-04-10T17:25:10.061Z"
   },
   {
    "duration": 3,
    "start_time": "2024-04-10T17:25:10.892Z"
   },
   {
    "duration": 3,
    "start_time": "2024-04-10T17:25:13.047Z"
   },
   {
    "duration": 45088,
    "start_time": "2024-04-10T17:25:13.567Z"
   },
   {
    "duration": 3,
    "start_time": "2024-04-10T17:25:58.657Z"
   },
   {
    "duration": 3,
    "start_time": "2024-04-10T17:43:35.262Z"
   },
   {
    "duration": 2379,
    "start_time": "2024-04-10T17:43:49.593Z"
   },
   {
    "duration": 1665,
    "start_time": "2024-04-10T17:43:51.974Z"
   },
   {
    "duration": 902,
    "start_time": "2024-04-10T17:43:57.990Z"
   },
   {
    "duration": 36,
    "start_time": "2024-04-10T17:43:58.894Z"
   },
   {
    "duration": 10,
    "start_time": "2024-04-10T17:43:58.932Z"
   },
   {
    "duration": 35,
    "start_time": "2024-04-10T17:43:58.944Z"
   },
   {
    "duration": 276,
    "start_time": "2024-04-10T17:43:58.981Z"
   },
   {
    "duration": 4,
    "start_time": "2024-04-10T17:43:59.260Z"
   },
   {
    "duration": 9,
    "start_time": "2024-04-10T17:43:59.280Z"
   },
   {
    "duration": 12,
    "start_time": "2024-04-10T17:44:02.860Z"
   },
   {
    "duration": 3,
    "start_time": "2024-04-10T17:44:03.084Z"
   },
   {
    "duration": 2,
    "start_time": "2024-04-10T17:44:03.500Z"
   },
   {
    "duration": 927,
    "start_time": "2024-04-10T17:49:17.140Z"
   },
   {
    "duration": 32,
    "start_time": "2024-04-10T17:49:19.253Z"
   },
   {
    "duration": 7,
    "start_time": "2024-04-10T17:49:19.440Z"
   },
   {
    "duration": 28,
    "start_time": "2024-04-10T17:49:19.581Z"
   },
   {
    "duration": 238,
    "start_time": "2024-04-10T17:49:19.749Z"
   },
   {
    "duration": 4,
    "start_time": "2024-04-10T17:49:19.989Z"
   },
   {
    "duration": 8,
    "start_time": "2024-04-10T17:49:20.132Z"
   },
   {
    "duration": 13,
    "start_time": "2024-04-10T17:49:23.552Z"
   },
   {
    "duration": 3,
    "start_time": "2024-04-10T17:49:23.813Z"
   },
   {
    "duration": 2,
    "start_time": "2024-04-10T17:49:24.294Z"
   },
   {
    "duration": 4,
    "start_time": "2024-04-10T17:49:24.782Z"
   },
   {
    "duration": 45245,
    "start_time": "2024-04-10T17:49:25.060Z"
   },
   {
    "duration": 12,
    "start_time": "2024-04-10T17:50:10.307Z"
   },
   {
    "duration": 33,
    "start_time": "2024-04-10T17:50:56.483Z"
   },
   {
    "duration": 6,
    "start_time": "2024-04-10T17:50:56.735Z"
   },
   {
    "duration": 2191,
    "start_time": "2024-04-10T17:50:56.946Z"
   },
   {
    "duration": 2,
    "start_time": "2024-04-10T17:50:59.139Z"
   },
   {
    "duration": 8,
    "start_time": "2024-04-10T17:50:59.143Z"
   },
   {
    "duration": 3,
    "start_time": "2024-04-10T17:50:59.209Z"
   },
   {
    "duration": 70068,
    "start_time": "2024-04-10T17:50:59.533Z"
   },
   {
    "duration": 3,
    "start_time": "2024-04-10T17:52:09.603Z"
   },
   {
    "duration": 17,
    "start_time": "2024-04-10T17:52:09.608Z"
   },
   {
    "duration": 2494,
    "start_time": "2024-04-10T18:18:37.787Z"
   },
   {
    "duration": 1811,
    "start_time": "2024-04-10T18:18:40.283Z"
   },
   {
    "duration": 845,
    "start_time": "2024-04-10T18:18:42.096Z"
   },
   {
    "duration": 32,
    "start_time": "2024-04-10T18:18:42.943Z"
   },
   {
    "duration": 10,
    "start_time": "2024-04-10T18:18:42.976Z"
   },
   {
    "duration": 48,
    "start_time": "2024-04-10T18:18:42.987Z"
   },
   {
    "duration": 260,
    "start_time": "2024-04-10T18:18:43.036Z"
   },
   {
    "duration": 4,
    "start_time": "2024-04-10T18:18:43.298Z"
   },
   {
    "duration": 16,
    "start_time": "2024-04-10T18:18:43.304Z"
   },
   {
    "duration": 19,
    "start_time": "2024-04-10T18:18:48.954Z"
   },
   {
    "duration": 3,
    "start_time": "2024-04-10T18:18:49.289Z"
   },
   {
    "duration": 2,
    "start_time": "2024-04-10T18:18:49.869Z"
   },
   {
    "duration": 4,
    "start_time": "2024-04-10T18:19:01.667Z"
   },
   {
    "duration": 6371,
    "start_time": "2024-04-10T18:19:02.246Z"
   },
   {
    "duration": 5,
    "start_time": "2024-04-10T18:19:08.620Z"
   },
   {
    "duration": 26,
    "start_time": "2024-04-10T18:19:08.627Z"
   },
   {
    "duration": 6,
    "start_time": "2024-04-10T18:19:08.654Z"
   },
   {
    "duration": 884,
    "start_time": "2024-04-10T18:19:08.661Z"
   },
   {
    "duration": 0,
    "start_time": "2024-04-10T18:19:09.547Z"
   },
   {
    "duration": 6,
    "start_time": "2024-04-10T18:19:39.637Z"
   },
   {
    "duration": 2,
    "start_time": "2024-04-10T18:19:51.052Z"
   },
   {
    "duration": 936,
    "start_time": "2024-04-10T18:19:51.491Z"
   },
   {
    "duration": 0,
    "start_time": "2024-04-10T18:19:52.429Z"
   },
   {
    "duration": 22,
    "start_time": "2024-04-10T18:19:52.984Z"
   },
   {
    "duration": 876,
    "start_time": "2024-04-10T18:20:01.001Z"
   },
   {
    "duration": 29,
    "start_time": "2024-04-10T18:20:01.879Z"
   },
   {
    "duration": 123,
    "start_time": "2024-04-10T18:20:01.918Z"
   },
   {
    "duration": 52,
    "start_time": "2024-04-10T18:20:02.044Z"
   },
   {
    "duration": 336,
    "start_time": "2024-04-10T18:20:02.097Z"
   },
   {
    "duration": 4,
    "start_time": "2024-04-10T18:20:02.435Z"
   },
   {
    "duration": 38,
    "start_time": "2024-04-10T18:20:02.441Z"
   },
   {
    "duration": 13,
    "start_time": "2024-04-10T18:20:03.219Z"
   },
   {
    "duration": 2,
    "start_time": "2024-04-10T18:20:03.457Z"
   },
   {
    "duration": 3,
    "start_time": "2024-04-10T18:20:03.633Z"
   },
   {
    "duration": 3,
    "start_time": "2024-04-10T18:20:03.890Z"
   },
   {
    "duration": 1882,
    "start_time": "2024-04-10T18:20:04.388Z"
   },
   {
    "duration": 6,
    "start_time": "2024-04-10T18:20:06.272Z"
   },
   {
    "duration": 19,
    "start_time": "2024-04-10T18:20:11.900Z"
   },
   {
    "duration": 11,
    "start_time": "2024-04-10T18:20:12.132Z"
   },
   {
    "duration": 5,
    "start_time": "2024-04-10T18:20:43.524Z"
   },
   {
    "duration": 11,
    "start_time": "2024-04-10T18:21:07.754Z"
   },
   {
    "duration": 2317,
    "start_time": "2024-04-10T18:23:35.379Z"
   },
   {
    "duration": 1750,
    "start_time": "2024-04-10T18:23:37.699Z"
   },
   {
    "duration": 858,
    "start_time": "2024-04-10T18:23:39.450Z"
   },
   {
    "duration": 29,
    "start_time": "2024-04-10T18:23:40.310Z"
   },
   {
    "duration": 10,
    "start_time": "2024-04-10T18:23:40.340Z"
   },
   {
    "duration": 34,
    "start_time": "2024-04-10T18:23:40.351Z"
   },
   {
    "duration": 226,
    "start_time": "2024-04-10T18:23:40.387Z"
   },
   {
    "duration": 7,
    "start_time": "2024-04-10T18:23:40.615Z"
   },
   {
    "duration": 7,
    "start_time": "2024-04-10T18:23:40.624Z"
   },
   {
    "duration": 14,
    "start_time": "2024-04-10T18:23:41.205Z"
   },
   {
    "duration": 2,
    "start_time": "2024-04-10T18:23:41.767Z"
   },
   {
    "duration": 3,
    "start_time": "2024-04-10T18:23:42.164Z"
   },
   {
    "duration": 4,
    "start_time": "2024-04-10T18:23:42.410Z"
   },
   {
    "duration": 3076,
    "start_time": "2024-04-10T18:23:42.613Z"
   },
   {
    "duration": 4,
    "start_time": "2024-04-10T18:23:45.691Z"
   },
   {
    "duration": 32,
    "start_time": "2024-04-10T18:23:45.696Z"
   },
   {
    "duration": 5,
    "start_time": "2024-04-10T18:23:46.457Z"
   },
   {
    "duration": 2147,
    "start_time": "2024-04-10T18:23:47.263Z"
   },
   {
    "duration": 2,
    "start_time": "2024-04-10T18:23:54.693Z"
   },
   {
    "duration": 61,
    "start_time": "2024-04-10T18:23:55.170Z"
   },
   {
    "duration": 3,
    "start_time": "2024-04-10T18:24:04.501Z"
   },
   {
    "duration": 4,
    "start_time": "2024-04-10T18:24:05.228Z"
   },
   {
    "duration": 129148,
    "start_time": "2024-04-10T18:24:07.470Z"
   },
   {
    "duration": 3,
    "start_time": "2024-04-10T18:26:16.620Z"
   },
   {
    "duration": 109,
    "start_time": "2024-04-10T18:26:16.625Z"
   },
   {
    "duration": 16,
    "start_time": "2024-04-10T18:26:16.736Z"
   },
   {
    "duration": 19,
    "start_time": "2024-04-10T18:26:16.754Z"
   },
   {
    "duration": 133578,
    "start_time": "2024-04-10T18:26:16.774Z"
   },
   {
    "duration": 0,
    "start_time": "2024-04-10T18:28:30.354Z"
   },
   {
    "duration": 0,
    "start_time": "2024-04-10T18:28:30.355Z"
   },
   {
    "duration": 0,
    "start_time": "2024-04-10T18:28:30.356Z"
   },
   {
    "duration": 0,
    "start_time": "2024-04-10T18:28:30.358Z"
   },
   {
    "duration": 0,
    "start_time": "2024-04-10T18:28:30.359Z"
   },
   {
    "duration": 0,
    "start_time": "2024-04-10T18:28:30.360Z"
   },
   {
    "duration": 0,
    "start_time": "2024-04-10T18:28:30.361Z"
   },
   {
    "duration": 0,
    "start_time": "2024-04-10T18:28:30.362Z"
   },
   {
    "duration": 0,
    "start_time": "2024-04-10T18:28:30.363Z"
   },
   {
    "duration": 16,
    "start_time": "2024-04-10T18:28:35.550Z"
   },
   {
    "duration": 2353,
    "start_time": "2024-04-10T18:29:14.272Z"
   },
   {
    "duration": 1800,
    "start_time": "2024-04-10T18:29:16.627Z"
   },
   {
    "duration": 868,
    "start_time": "2024-04-10T18:29:18.428Z"
   },
   {
    "duration": 34,
    "start_time": "2024-04-10T18:29:19.298Z"
   },
   {
    "duration": 26,
    "start_time": "2024-04-10T18:29:19.333Z"
   },
   {
    "duration": 35,
    "start_time": "2024-04-10T18:29:19.361Z"
   },
   {
    "duration": 235,
    "start_time": "2024-04-10T18:29:19.398Z"
   },
   {
    "duration": 5,
    "start_time": "2024-04-10T18:29:19.635Z"
   },
   {
    "duration": 9,
    "start_time": "2024-04-10T18:29:19.642Z"
   },
   {
    "duration": 35,
    "start_time": "2024-04-10T18:29:19.653Z"
   },
   {
    "duration": 2,
    "start_time": "2024-04-10T18:29:19.690Z"
   },
   {
    "duration": 5,
    "start_time": "2024-04-10T18:29:46.220Z"
   },
   {
    "duration": 16,
    "start_time": "2024-04-10T18:29:51.097Z"
   },
   {
    "duration": 6,
    "start_time": "2024-04-10T18:29:52.530Z"
   },
   {
    "duration": 22,
    "start_time": "2024-04-10T18:29:52.823Z"
   },
   {
    "duration": 6,
    "start_time": "2024-04-10T18:29:53.212Z"
   },
   {
    "duration": 2430,
    "start_time": "2024-04-10T18:29:53.571Z"
   },
   {
    "duration": 3,
    "start_time": "2024-04-10T18:29:59.778Z"
   },
   {
    "duration": 3,
    "start_time": "2024-04-10T18:30:00.465Z"
   },
   {
    "duration": 3,
    "start_time": "2024-04-10T18:30:02.450Z"
   },
   {
    "duration": 171393,
    "start_time": "2024-04-10T18:30:03.031Z"
   },
   {
    "duration": 86,
    "start_time": "2024-04-10T18:32:54.432Z"
   },
   {
    "duration": 11,
    "start_time": "2024-04-10T18:32:54.520Z"
   },
   {
    "duration": 17,
    "start_time": "2024-04-10T18:36:28.462Z"
   },
   {
    "duration": 48,
    "start_time": "2024-04-10T18:37:20.193Z"
   },
   {
    "duration": 2406,
    "start_time": "2024-04-10T18:37:24.042Z"
   },
   {
    "duration": 2494,
    "start_time": "2024-04-10T18:39:17.569Z"
   },
   {
    "duration": 1758,
    "start_time": "2024-04-10T18:39:20.065Z"
   },
   {
    "duration": 883,
    "start_time": "2024-04-10T18:39:21.824Z"
   },
   {
    "duration": 36,
    "start_time": "2024-04-10T18:39:22.709Z"
   },
   {
    "duration": 13,
    "start_time": "2024-04-10T18:39:22.747Z"
   },
   {
    "duration": 25,
    "start_time": "2024-04-10T18:39:22.762Z"
   },
   {
    "duration": 240,
    "start_time": "2024-04-10T18:39:22.789Z"
   },
   {
    "duration": 4,
    "start_time": "2024-04-10T18:39:23.031Z"
   },
   {
    "duration": 7,
    "start_time": "2024-04-10T18:39:23.037Z"
   },
   {
    "duration": 13,
    "start_time": "2024-04-10T18:39:26.055Z"
   },
   {
    "duration": 2,
    "start_time": "2024-04-10T18:39:26.459Z"
   },
   {
    "duration": 3,
    "start_time": "2024-04-10T18:39:28.313Z"
   },
   {
    "duration": 5,
    "start_time": "2024-04-10T18:39:34.672Z"
   },
   {
    "duration": 89197,
    "start_time": "2024-04-10T18:39:38.132Z"
   },
   {
    "duration": 0,
    "start_time": "2024-04-10T18:41:07.331Z"
   },
   {
    "duration": 0,
    "start_time": "2024-04-10T18:41:07.332Z"
   },
   {
    "duration": 0,
    "start_time": "2024-04-10T18:41:07.333Z"
   },
   {
    "duration": 0,
    "start_time": "2024-04-10T18:41:07.334Z"
   },
   {
    "duration": 2497,
    "start_time": "2024-04-10T18:41:19.591Z"
   },
   {
    "duration": 1785,
    "start_time": "2024-04-10T18:41:22.090Z"
   },
   {
    "duration": 887,
    "start_time": "2024-04-10T18:41:23.877Z"
   },
   {
    "duration": 29,
    "start_time": "2024-04-10T18:41:24.766Z"
   },
   {
    "duration": 23,
    "start_time": "2024-04-10T18:41:24.796Z"
   },
   {
    "duration": 25,
    "start_time": "2024-04-10T18:41:24.821Z"
   },
   {
    "duration": 225,
    "start_time": "2024-04-10T18:41:24.847Z"
   },
   {
    "duration": 4,
    "start_time": "2024-04-10T18:41:25.073Z"
   },
   {
    "duration": 15,
    "start_time": "2024-04-10T18:41:25.079Z"
   },
   {
    "duration": 13,
    "start_time": "2024-04-10T18:41:33.994Z"
   },
   {
    "duration": 3,
    "start_time": "2024-04-10T18:41:36.880Z"
   },
   {
    "duration": 2,
    "start_time": "2024-04-10T18:41:38.696Z"
   },
   {
    "duration": 6,
    "start_time": "2024-04-10T18:41:38.902Z"
   },
   {
    "duration": 61729,
    "start_time": "2024-04-10T18:41:40.483Z"
   },
   {
    "duration": 403450,
    "start_time": "2024-04-10T18:43:35.797Z"
   },
   {
    "duration": 9,
    "start_time": "2024-04-10T18:50:19.249Z"
   },
   {
    "duration": 41,
    "start_time": "2024-04-10T18:50:19.260Z"
   },
   {
    "duration": 18,
    "start_time": "2024-04-10T18:50:19.303Z"
   },
   {
    "duration": 4533,
    "start_time": "2024-04-10T18:50:19.322Z"
   },
   {
    "duration": 3,
    "start_time": "2024-04-10T18:50:23.856Z"
   },
   {
    "duration": 5,
    "start_time": "2024-04-10T18:54:46.520Z"
   },
   {
    "duration": 92,
    "start_time": "2024-04-10T18:54:46.527Z"
   },
   {
    "duration": 120403,
    "start_time": "2024-04-10T18:54:46.621Z"
   },
   {
    "duration": 92,
    "start_time": "2024-04-10T18:56:47.027Z"
   },
   {
    "duration": 5,
    "start_time": "2024-04-10T18:56:47.121Z"
   },
   {
    "duration": 126090,
    "start_time": "2024-04-10T18:56:47.127Z"
   },
   {
    "duration": 3,
    "start_time": "2024-04-10T18:58:53.219Z"
   },
   {
    "duration": 96,
    "start_time": "2024-04-10T18:58:53.224Z"
   },
   {
    "duration": 5,
    "start_time": "2024-04-10T18:58:53.322Z"
   },
   {
    "duration": 3,
    "start_time": "2024-04-10T18:58:53.329Z"
   },
   {
    "duration": 594843,
    "start_time": "2024-04-10T18:58:53.334Z"
   },
   {
    "duration": 2,
    "start_time": "2024-04-10T19:08:48.179Z"
   },
   {
    "duration": 4,
    "start_time": "2024-04-10T19:08:48.183Z"
   },
   {
    "duration": 563817,
    "start_time": "2024-04-10T19:08:48.189Z"
   },
   {
    "duration": 9,
    "start_time": "2024-04-10T19:18:12.009Z"
   },
   {
    "duration": 4,
    "start_time": "2024-04-10T19:18:12.023Z"
   },
   {
    "duration": 4,
    "start_time": "2024-04-10T19:18:12.029Z"
   },
   {
    "duration": 7,
    "start_time": "2024-04-10T19:18:12.035Z"
   },
   {
    "duration": 7333102,
    "start_time": "2024-04-10T19:18:12.043Z"
   },
   {
    "duration": 2,
    "start_time": "2024-04-10T21:20:25.147Z"
   },
   {
    "duration": 16,
    "start_time": "2024-04-10T21:20:25.151Z"
   },
   {
    "duration": 8651,
    "start_time": "2024-04-11T05:07:43.676Z"
   },
   {
    "duration": 2916,
    "start_time": "2024-04-11T05:19:41.923Z"
   },
   {
    "duration": 2400,
    "start_time": "2024-04-11T05:19:44.843Z"
   },
   {
    "duration": 3417,
    "start_time": "2024-04-11T05:19:47.248Z"
   },
   {
    "duration": 38,
    "start_time": "2024-04-11T05:19:50.667Z"
   },
   {
    "duration": 26,
    "start_time": "2024-04-11T05:19:50.706Z"
   },
   {
    "duration": 37,
    "start_time": "2024-04-11T05:19:50.733Z"
   },
   {
    "duration": 257,
    "start_time": "2024-04-11T05:19:50.773Z"
   },
   {
    "duration": 6,
    "start_time": "2024-04-11T05:19:51.032Z"
   },
   {
    "duration": 28,
    "start_time": "2024-04-11T05:19:51.041Z"
   },
   {
    "duration": 24,
    "start_time": "2024-04-11T05:19:51.070Z"
   },
   {
    "duration": 46,
    "start_time": "2024-04-11T05:19:51.096Z"
   },
   {
    "duration": 18,
    "start_time": "2024-04-11T05:19:51.144Z"
   },
   {
    "duration": 38,
    "start_time": "2024-04-11T05:19:51.164Z"
   },
   {
    "duration": 486027,
    "start_time": "2024-04-11T05:19:51.204Z"
   },
   {
    "duration": 11,
    "start_time": "2024-04-11T05:27:57.233Z"
   },
   {
    "duration": 79,
    "start_time": "2024-04-11T05:27:57.245Z"
   },
   {
    "duration": 6,
    "start_time": "2024-04-11T05:27:57.326Z"
   },
   {
    "duration": 6416,
    "start_time": "2024-04-11T05:27:57.334Z"
   },
   {
    "duration": 3,
    "start_time": "2024-04-11T05:28:03.752Z"
   },
   {
    "duration": 16,
    "start_time": "2024-04-11T05:28:03.757Z"
   },
   {
    "duration": 14,
    "start_time": "2024-04-11T05:28:03.775Z"
   },
   {
    "duration": 157182,
    "start_time": "2024-04-11T05:28:03.791Z"
   },
   {
    "duration": 11,
    "start_time": "2024-04-11T05:30:40.978Z"
   },
   {
    "duration": 16,
    "start_time": "2024-04-11T05:30:41.074Z"
   },
   {
    "duration": 175481,
    "start_time": "2024-04-11T05:30:41.092Z"
   },
   {
    "duration": 3,
    "start_time": "2024-04-11T05:33:36.576Z"
   },
   {
    "duration": 23,
    "start_time": "2024-04-11T05:33:36.585Z"
   },
   {
    "duration": 10,
    "start_time": "2024-04-11T05:33:36.611Z"
   },
   {
    "duration": 5,
    "start_time": "2024-04-11T05:33:36.623Z"
   },
   {
    "duration": 776780,
    "start_time": "2024-04-11T05:33:36.629Z"
   },
   {
    "duration": 3,
    "start_time": "2024-04-11T05:46:33.411Z"
   },
   {
    "duration": 20,
    "start_time": "2024-04-11T05:46:33.415Z"
   },
   {
    "duration": 715755,
    "start_time": "2024-04-11T05:46:33.438Z"
   },
   {
    "duration": 2,
    "start_time": "2024-04-11T05:58:29.195Z"
   },
   {
    "duration": 10,
    "start_time": "2024-04-11T05:58:29.198Z"
   },
   {
    "duration": 3,
    "start_time": "2024-04-11T05:58:29.210Z"
   },
   {
    "duration": 7,
    "start_time": "2024-04-11T05:58:29.215Z"
   },
   {
    "duration": 8695647,
    "start_time": "2024-04-11T05:58:29.224Z"
   },
   {
    "duration": 4,
    "start_time": "2024-04-11T08:23:24.878Z"
   },
   {
    "duration": 35,
    "start_time": "2024-04-11T08:23:24.884Z"
   },
   {
    "duration": 7310134,
    "start_time": "2024-04-11T08:23:24.921Z"
   },
   {
    "duration": 3,
    "start_time": "2024-04-11T10:25:15.058Z"
   },
   {
    "duration": 84,
    "start_time": "2024-04-11T10:25:15.063Z"
   },
   {
    "duration": 39,
    "start_time": "2024-04-11T10:25:15.149Z"
   },
   {
    "duration": 59,
    "start_time": "2024-04-11T10:25:15.190Z"
   },
   {
    "duration": 22,
    "start_time": "2024-04-11T10:25:15.250Z"
   },
   {
    "duration": 54,
    "start_time": "2024-04-11T10:25:15.274Z"
   },
   {
    "duration": 238,
    "start_time": "2024-04-11T10:25:15.330Z"
   },
   {
    "duration": 0,
    "start_time": "2024-04-11T10:25:15.569Z"
   },
   {
    "duration": 0,
    "start_time": "2024-04-11T10:25:15.571Z"
   },
   {
    "duration": 20,
    "start_time": "2024-04-11T12:51:33.989Z"
   },
   {
    "duration": 2698,
    "start_time": "2024-04-11T12:51:55.717Z"
   },
   {
    "duration": 2777,
    "start_time": "2024-04-11T12:55:21.241Z"
   },
   {
    "duration": 1984,
    "start_time": "2024-04-11T12:55:24.021Z"
   },
   {
    "duration": 1008,
    "start_time": "2024-04-11T12:55:26.007Z"
   },
   {
    "duration": 33,
    "start_time": "2024-04-11T12:55:27.017Z"
   },
   {
    "duration": 29,
    "start_time": "2024-04-11T12:55:27.052Z"
   },
   {
    "duration": 39,
    "start_time": "2024-04-11T12:55:27.083Z"
   },
   {
    "duration": 271,
    "start_time": "2024-04-11T12:55:27.124Z"
   },
   {
    "duration": 5,
    "start_time": "2024-04-11T12:55:27.397Z"
   },
   {
    "duration": 20,
    "start_time": "2024-04-11T12:55:27.403Z"
   },
   {
    "duration": 14,
    "start_time": "2024-04-11T12:55:28.382Z"
   },
   {
    "duration": 3,
    "start_time": "2024-04-11T12:55:29.401Z"
   },
   {
    "duration": 3,
    "start_time": "2024-04-11T12:55:29.814Z"
   },
   {
    "duration": 5,
    "start_time": "2024-04-11T12:55:31.534Z"
   },
   {
    "duration": 453466,
    "start_time": "2024-04-11T12:55:41.742Z"
   },
   {
    "duration": 14,
    "start_time": "2024-04-11T13:03:15.210Z"
   },
   {
    "duration": 101,
    "start_time": "2024-04-11T13:03:15.225Z"
   },
   {
    "duration": 6,
    "start_time": "2024-04-11T13:03:15.328Z"
   },
   {
    "duration": 4796,
    "start_time": "2024-04-11T13:03:15.336Z"
   },
   {
    "duration": 4,
    "start_time": "2024-04-11T13:03:20.134Z"
   },
   {
    "duration": 19,
    "start_time": "2024-04-11T13:03:20.140Z"
   },
   {
    "duration": 6,
    "start_time": "2024-04-11T13:03:20.161Z"
   },
   {
    "duration": 139008,
    "start_time": "2024-04-11T13:03:20.169Z"
   },
   {
    "duration": 92,
    "start_time": "2024-04-11T13:05:39.181Z"
   },
   {
    "duration": 10,
    "start_time": "2024-04-11T13:05:39.275Z"
   },
   {
    "duration": 6,
    "start_time": "2024-04-11T13:05:39.287Z"
   },
   {
    "duration": 133985,
    "start_time": "2024-04-11T13:05:39.294Z"
   },
   {
    "duration": 92,
    "start_time": "2024-04-11T13:07:53.281Z"
   },
   {
    "duration": 22,
    "start_time": "2024-04-11T13:07:53.375Z"
   },
   {
    "duration": 4,
    "start_time": "2024-04-11T13:07:53.399Z"
   },
   {
    "duration": 7,
    "start_time": "2024-04-11T13:07:53.405Z"
   },
   {
    "duration": 714796,
    "start_time": "2024-04-11T13:07:53.413Z"
   },
   {
    "duration": 2,
    "start_time": "2024-04-11T13:19:48.211Z"
   },
   {
    "duration": 20,
    "start_time": "2024-04-11T13:19:48.215Z"
   },
   {
    "duration": 24,
    "start_time": "2024-04-11T13:19:48.237Z"
   },
   {
    "duration": 715062,
    "start_time": "2024-04-11T13:19:48.263Z"
   },
   {
    "duration": 3,
    "start_time": "2024-04-11T13:31:43.326Z"
   },
   {
    "duration": 13,
    "start_time": "2024-04-11T13:31:43.331Z"
   },
   {
    "duration": 14,
    "start_time": "2024-04-11T13:31:43.346Z"
   },
   {
    "duration": 8,
    "start_time": "2024-04-11T13:31:43.368Z"
   },
   {
    "duration": 17,
    "start_time": "2024-04-11T13:31:43.391Z"
   },
   {
    "duration": 8248777,
    "start_time": "2024-04-11T13:31:43.409Z"
   },
   {
    "duration": 3,
    "start_time": "2024-04-11T15:49:12.188Z"
   },
   {
    "duration": 30,
    "start_time": "2024-04-11T15:49:12.193Z"
   },
   {
    "duration": 4,
    "start_time": "2024-04-11T15:49:12.225Z"
   },
   {
    "duration": 3035827,
    "start_time": "2024-04-11T15:49:12.231Z"
   },
   {
    "duration": 0,
    "start_time": "2024-04-11T16:39:48.060Z"
   },
   {
    "duration": 0,
    "start_time": "2024-04-11T16:39:48.061Z"
   },
   {
    "duration": 0,
    "start_time": "2024-04-11T16:39:48.063Z"
   },
   {
    "duration": 0,
    "start_time": "2024-04-11T16:39:48.064Z"
   },
   {
    "duration": 0,
    "start_time": "2024-04-11T16:39:48.065Z"
   },
   {
    "duration": 0,
    "start_time": "2024-04-11T16:39:48.066Z"
   },
   {
    "duration": 7070058,
    "start_time": "2024-04-11T16:39:59.079Z"
   },
   {
    "duration": 3,
    "start_time": "2024-04-11T18:37:49.140Z"
   },
   {
    "duration": 11,
    "start_time": "2024-04-11T18:37:49.145Z"
   },
   {
    "duration": 4,
    "start_time": "2024-04-11T20:33:55.538Z"
   },
   {
    "duration": 9,
    "start_time": "2024-04-11T20:33:56.454Z"
   },
   {
    "duration": 4,
    "start_time": "2024-04-11T20:33:56.791Z"
   },
   {
    "duration": 9,
    "start_time": "2024-04-11T20:33:57.016Z"
   },
   {
    "duration": 14,
    "start_time": "2024-04-11T20:34:55.381Z"
   },
   {
    "duration": 19,
    "start_time": "2024-04-11T20:35:03.085Z"
   },
   {
    "duration": 13,
    "start_time": "2024-04-11T20:35:11.250Z"
   },
   {
    "duration": 14,
    "start_time": "2024-04-11T20:35:26.102Z"
   },
   {
    "duration": 13,
    "start_time": "2024-04-11T20:35:31.757Z"
   },
   {
    "duration": 18,
    "start_time": "2024-04-11T20:35:57.373Z"
   },
   {
    "duration": 38,
    "start_time": "2024-04-11T20:35:57.595Z"
   },
   {
    "duration": 11742,
    "start_time": "2024-04-11T20:35:59.584Z"
   },
   {
    "duration": 0,
    "start_time": "2024-04-11T20:36:11.328Z"
   },
   {
    "duration": 4853,
    "start_time": "2024-04-11T20:36:14.846Z"
   },
   {
    "duration": 13,
    "start_time": "2024-04-11T20:36:28.169Z"
   },
   {
    "duration": 11,
    "start_time": "2024-04-11T20:36:38.405Z"
   },
   {
    "duration": 2,
    "start_time": "2024-04-11T20:36:39.898Z"
   },
   {
    "duration": 3,
    "start_time": "2024-04-11T20:36:40.125Z"
   },
   {
    "duration": 5,
    "start_time": "2024-04-11T20:36:40.397Z"
   },
   {
    "duration": 443356,
    "start_time": "2024-04-11T20:36:41.223Z"
   },
   {
    "duration": 13,
    "start_time": "2024-04-11T20:44:04.581Z"
   },
   {
    "duration": 56,
    "start_time": "2024-04-11T20:44:04.596Z"
   },
   {
    "duration": 163,
    "start_time": "2024-04-11T20:44:04.654Z"
   },
   {
    "duration": 0,
    "start_time": "2024-04-11T20:44:04.819Z"
   },
   {
    "duration": 4,
    "start_time": "2024-04-11T20:45:29.559Z"
   },
   {
    "duration": 15,
    "start_time": "2024-04-11T20:45:29.733Z"
   },
   {
    "duration": 2777,
    "start_time": "2024-04-11T20:46:20.852Z"
   },
   {
    "duration": 2721,
    "start_time": "2024-04-11T20:46:44.094Z"
   },
   {
    "duration": 1951,
    "start_time": "2024-04-11T20:46:46.818Z"
   },
   {
    "duration": 1069,
    "start_time": "2024-04-11T20:46:48.772Z"
   },
   {
    "duration": 40,
    "start_time": "2024-04-11T20:46:49.843Z"
   },
   {
    "duration": 20,
    "start_time": "2024-04-11T20:46:49.886Z"
   },
   {
    "duration": 36,
    "start_time": "2024-04-11T20:46:49.909Z"
   },
   {
    "duration": 321,
    "start_time": "2024-04-11T20:46:49.948Z"
   },
   {
    "duration": 5,
    "start_time": "2024-04-11T20:46:50.326Z"
   },
   {
    "duration": 8,
    "start_time": "2024-04-11T20:46:51.044Z"
   },
   {
    "duration": 14,
    "start_time": "2024-04-11T20:49:30.516Z"
   },
   {
    "duration": 3,
    "start_time": "2024-04-11T20:49:33.874Z"
   },
   {
    "duration": 3,
    "start_time": "2024-04-11T20:49:34.079Z"
   },
   {
    "duration": 5,
    "start_time": "2024-04-11T20:49:36.515Z"
   },
   {
    "duration": 456797,
    "start_time": "2024-04-11T20:52:50.846Z"
   },
   {
    "duration": 13,
    "start_time": "2024-04-11T21:00:27.645Z"
   },
   {
    "duration": 38,
    "start_time": "2024-04-11T21:00:27.659Z"
   },
   {
    "duration": 166,
    "start_time": "2024-04-11T21:00:30.125Z"
   },
   {
    "duration": 0,
    "start_time": "2024-04-11T21:00:30.293Z"
   },
   {
    "duration": 0,
    "start_time": "2024-04-11T21:00:30.294Z"
   },
   {
    "duration": 0,
    "start_time": "2024-04-11T21:00:30.297Z"
   },
   {
    "duration": 9232,
    "start_time": "2024-04-12T07:15:51.294Z"
   },
   {
    "duration": 2771,
    "start_time": "2024-04-12T07:16:00.528Z"
   },
   {
    "duration": 3389,
    "start_time": "2024-04-12T07:16:03.301Z"
   },
   {
    "duration": 34,
    "start_time": "2024-04-12T07:16:06.693Z"
   },
   {
    "duration": 20,
    "start_time": "2024-04-12T07:16:06.729Z"
   },
   {
    "duration": 33,
    "start_time": "2024-04-12T07:16:06.751Z"
   },
   {
    "duration": 226,
    "start_time": "2024-04-12T07:16:06.786Z"
   },
   {
    "duration": 5,
    "start_time": "2024-04-12T07:16:07.014Z"
   },
   {
    "duration": 8,
    "start_time": "2024-04-12T07:16:07.021Z"
   },
   {
    "duration": 20,
    "start_time": "2024-04-12T07:16:07.031Z"
   },
   {
    "duration": 16,
    "start_time": "2024-04-12T07:16:07.053Z"
   },
   {
    "duration": 8,
    "start_time": "2024-04-12T07:16:07.071Z"
   },
   {
    "duration": 20,
    "start_time": "2024-04-12T07:16:07.080Z"
   },
   {
    "duration": 412625,
    "start_time": "2024-04-12T07:16:14.894Z"
   },
   {
    "duration": 11,
    "start_time": "2024-04-12T07:23:07.521Z"
   },
   {
    "duration": 20,
    "start_time": "2024-04-12T07:23:07.534Z"
   },
   {
    "duration": 16,
    "start_time": "2024-04-12T07:23:07.556Z"
   },
   {
    "duration": 2107,
    "start_time": "2024-04-12T07:23:07.574Z"
   },
   {
    "duration": 3,
    "start_time": "2024-04-12T07:23:09.683Z"
   },
   {
    "duration": 5,
    "start_time": "2024-04-12T07:24:51.065Z"
   },
   {
    "duration": 3,
    "start_time": "2024-04-12T07:24:53.746Z"
   },
   {
    "duration": 143,
    "start_time": "2024-04-12T07:25:01.761Z"
   },
   {
    "duration": 4,
    "start_time": "2024-04-12T07:25:10.564Z"
   },
   {
    "duration": 3,
    "start_time": "2024-04-12T07:25:11.184Z"
   },
   {
    "duration": 14,
    "start_time": "2024-04-12T07:25:11.714Z"
   },
   {
    "duration": 4,
    "start_time": "2024-04-12T07:25:41.180Z"
   },
   {
    "duration": 2,
    "start_time": "2024-04-12T07:25:41.983Z"
   },
   {
    "duration": 43,
    "start_time": "2024-04-12T07:25:42.517Z"
   },
   {
    "duration": 4,
    "start_time": "2024-04-12T07:29:47.357Z"
   },
   {
    "duration": 3,
    "start_time": "2024-04-12T07:29:48.276Z"
   },
   {
    "duration": 15,
    "start_time": "2024-04-12T07:29:49.302Z"
   },
   {
    "duration": 12,
    "start_time": "2024-04-12T07:30:08.053Z"
   },
   {
    "duration": 3,
    "start_time": "2024-04-12T07:30:16.192Z"
   },
   {
    "duration": 44,
    "start_time": "2024-04-12T07:30:16.355Z"
   },
   {
    "duration": 4,
    "start_time": "2024-04-12T07:30:28.991Z"
   },
   {
    "duration": 3,
    "start_time": "2024-04-12T07:30:29.908Z"
   },
   {
    "duration": 45,
    "start_time": "2024-04-12T07:30:30.511Z"
   },
   {
    "duration": 3,
    "start_time": "2024-04-12T07:30:51.780Z"
   },
   {
    "duration": 44,
    "start_time": "2024-04-12T07:30:52.208Z"
   },
   {
    "duration": 3,
    "start_time": "2024-04-12T07:31:22.438Z"
   },
   {
    "duration": 34,
    "start_time": "2024-04-12T07:31:22.924Z"
   },
   {
    "duration": 4,
    "start_time": "2024-04-12T07:31:48.012Z"
   },
   {
    "duration": 3,
    "start_time": "2024-04-12T07:31:48.516Z"
   },
   {
    "duration": 15,
    "start_time": "2024-04-12T07:31:48.895Z"
   },
   {
    "duration": 6,
    "start_time": "2024-04-12T07:32:00.801Z"
   },
   {
    "duration": 2,
    "start_time": "2024-04-12T07:32:01.399Z"
   },
   {
    "duration": 16,
    "start_time": "2024-04-12T07:32:01.741Z"
   },
   {
    "duration": 4,
    "start_time": "2024-04-12T07:32:30.949Z"
   },
   {
    "duration": 3,
    "start_time": "2024-04-12T07:32:31.756Z"
   },
   {
    "duration": 28,
    "start_time": "2024-04-12T07:32:32.131Z"
   },
   {
    "duration": 19,
    "start_time": "2024-04-12T07:37:27.875Z"
   },
   {
    "duration": 12,
    "start_time": "2024-04-12T07:37:33.815Z"
   },
   {
    "duration": 2,
    "start_time": "2024-04-12T07:37:36.727Z"
   },
   {
    "duration": 11,
    "start_time": "2024-04-12T07:37:37.038Z"
   },
   {
    "duration": 42,
    "start_time": "2024-04-12T07:38:36.263Z"
   },
   {
    "duration": 24,
    "start_time": "2024-04-12T07:39:09.178Z"
   },
   {
    "duration": 2,
    "start_time": "2024-04-12T07:46:17.394Z"
   },
   {
    "duration": 2,
    "start_time": "2024-04-12T07:48:47.145Z"
   },
   {
    "duration": 3,
    "start_time": "2024-04-12T07:49:11.609Z"
   },
   {
    "duration": 16360,
    "start_time": "2024-04-12T07:49:13.917Z"
   },
   {
    "duration": 0,
    "start_time": "2024-04-12T07:49:30.279Z"
   },
   {
    "duration": 0,
    "start_time": "2024-04-12T07:49:30.280Z"
   },
   {
    "duration": 3,
    "start_time": "2024-04-12T07:50:01.429Z"
   },
   {
    "duration": 38288,
    "start_time": "2024-04-12T07:50:11.787Z"
   },
   {
    "duration": 94,
    "start_time": "2024-04-12T07:50:50.078Z"
   },
   {
    "duration": 97,
    "start_time": "2024-04-12T07:50:50.174Z"
   },
   {
    "duration": 6,
    "start_time": "2024-04-12T07:52:58.674Z"
   },
   {
    "duration": 929,
    "start_time": "2024-04-12T07:52:59.355Z"
   },
   {
    "duration": 30,
    "start_time": "2024-04-12T07:53:00.286Z"
   },
   {
    "duration": 8,
    "start_time": "2024-04-12T07:53:02.384Z"
   },
   {
    "duration": 26,
    "start_time": "2024-04-12T07:53:02.539Z"
   },
   {
    "duration": 210,
    "start_time": "2024-04-12T07:53:02.690Z"
   },
   {
    "duration": 4,
    "start_time": "2024-04-12T07:53:02.902Z"
   },
   {
    "duration": 2500,
    "start_time": "2024-04-12T07:53:10.630Z"
   },
   {
    "duration": 2006,
    "start_time": "2024-04-12T07:53:13.132Z"
   },
   {
    "duration": 911,
    "start_time": "2024-04-12T07:53:15.140Z"
   },
   {
    "duration": 29,
    "start_time": "2024-04-12T07:53:16.052Z"
   },
   {
    "duration": 9,
    "start_time": "2024-04-12T07:53:16.082Z"
   },
   {
    "duration": 25,
    "start_time": "2024-04-12T07:53:16.093Z"
   },
   {
    "duration": 243,
    "start_time": "2024-04-12T07:53:16.119Z"
   },
   {
    "duration": 6,
    "start_time": "2024-04-12T07:53:16.364Z"
   },
   {
    "duration": 6,
    "start_time": "2024-04-12T07:53:16.371Z"
   },
   {
    "duration": 2,
    "start_time": "2024-04-12T07:53:17.105Z"
   },
   {
    "duration": 3,
    "start_time": "2024-04-12T07:53:17.329Z"
   },
   {
    "duration": 5,
    "start_time": "2024-04-12T07:53:17.526Z"
   },
   {
    "duration": 30204,
    "start_time": "2024-04-12T07:53:17.697Z"
   },
   {
    "duration": 0,
    "start_time": "2024-04-12T07:53:47.903Z"
   },
   {
    "duration": 0,
    "start_time": "2024-04-12T07:53:47.904Z"
   },
   {
    "duration": 0,
    "start_time": "2024-04-12T07:53:47.905Z"
   },
   {
    "duration": 0,
    "start_time": "2024-04-12T07:53:47.906Z"
   },
   {
    "duration": 1,
    "start_time": "2024-04-12T07:53:47.906Z"
   },
   {
    "duration": 0,
    "start_time": "2024-04-12T07:53:47.907Z"
   },
   {
    "duration": 0,
    "start_time": "2024-04-12T07:53:47.909Z"
   },
   {
    "duration": 0,
    "start_time": "2024-04-12T07:53:47.909Z"
   },
   {
    "duration": 0,
    "start_time": "2024-04-12T07:53:47.910Z"
   },
   {
    "duration": 1769,
    "start_time": "2024-04-12T07:53:58.816Z"
   },
   {
    "duration": 917,
    "start_time": "2024-04-12T07:54:00.587Z"
   },
   {
    "duration": 2524,
    "start_time": "2024-04-12T07:54:02.462Z"
   },
   {
    "duration": 8,
    "start_time": "2024-04-12T07:54:04.988Z"
   },
   {
    "duration": 969,
    "start_time": "2024-04-12T07:54:04.998Z"
   },
   {
    "duration": 32,
    "start_time": "2024-04-12T07:54:05.969Z"
   },
   {
    "duration": 11,
    "start_time": "2024-04-12T07:54:07.040Z"
   },
   {
    "duration": 27,
    "start_time": "2024-04-12T07:54:07.206Z"
   },
   {
    "duration": 208,
    "start_time": "2024-04-12T07:54:07.379Z"
   },
   {
    "duration": 4,
    "start_time": "2024-04-12T07:54:07.588Z"
   },
   {
    "duration": 9,
    "start_time": "2024-04-12T07:54:07.741Z"
   },
   {
    "duration": 13,
    "start_time": "2024-04-12T07:54:08.709Z"
   },
   {
    "duration": 2,
    "start_time": "2024-04-12T07:54:08.869Z"
   },
   {
    "duration": 3,
    "start_time": "2024-04-12T07:54:09.167Z"
   },
   {
    "duration": 2433,
    "start_time": "2024-04-12T07:54:23.558Z"
   },
   {
    "duration": 1721,
    "start_time": "2024-04-12T07:54:25.994Z"
   },
   {
    "duration": 895,
    "start_time": "2024-04-12T07:54:27.717Z"
   },
   {
    "duration": 31,
    "start_time": "2024-04-12T07:54:28.614Z"
   },
   {
    "duration": 9,
    "start_time": "2024-04-12T07:54:28.646Z"
   },
   {
    "duration": 25,
    "start_time": "2024-04-12T07:54:28.669Z"
   },
   {
    "duration": 235,
    "start_time": "2024-04-12T07:54:28.696Z"
   },
   {
    "duration": 4,
    "start_time": "2024-04-12T07:54:28.932Z"
   },
   {
    "duration": 12,
    "start_time": "2024-04-12T07:54:28.938Z"
   },
   {
    "duration": 3,
    "start_time": "2024-04-12T07:54:29.545Z"
   },
   {
    "duration": 3,
    "start_time": "2024-04-12T07:54:29.709Z"
   },
   {
    "duration": 6,
    "start_time": "2024-04-12T07:54:29.867Z"
   },
   {
    "duration": 1437484,
    "start_time": "2024-04-12T07:54:30.015Z"
   },
   {
    "duration": 25,
    "start_time": "2024-04-12T08:18:27.501Z"
   },
   {
    "duration": 68,
    "start_time": "2024-04-12T08:18:27.527Z"
   },
   {
    "duration": 4,
    "start_time": "2024-04-12T08:18:27.600Z"
   },
   {
    "duration": 7746,
    "start_time": "2024-04-12T08:18:27.606Z"
   },
   {
    "duration": 3,
    "start_time": "2024-04-12T08:18:35.354Z"
   },
   {
    "duration": 34,
    "start_time": "2024-04-12T08:18:35.359Z"
   },
   {
    "duration": 10,
    "start_time": "2024-04-12T08:18:35.395Z"
   },
   {
    "duration": 195973,
    "start_time": "2024-04-12T08:18:35.407Z"
   },
   {
    "duration": 2,
    "start_time": "2024-04-12T08:21:51.384Z"
   },
   {
    "duration": 97,
    "start_time": "2024-04-12T08:21:51.388Z"
   },
   {
    "duration": 17,
    "start_time": "2024-04-12T08:24:21.198Z"
   },
   {
    "duration": 4,
    "start_time": "2024-04-12T08:24:34.859Z"
   },
   {
    "duration": 3,
    "start_time": "2024-04-12T08:24:36.195Z"
   },
   {
    "duration": 724049,
    "start_time": "2024-04-12T08:24:36.872Z"
   },
   {
    "duration": 3,
    "start_time": "2024-04-12T08:36:40.923Z"
   },
   {
    "duration": 14,
    "start_time": "2024-04-12T08:36:40.927Z"
   },
   {
    "duration": 4,
    "start_time": "2024-04-12T08:36:40.943Z"
   },
   {
    "duration": 8,
    "start_time": "2024-04-12T08:36:40.948Z"
   },
   {
    "duration": 6540361,
    "start_time": "2024-04-12T08:36:40.957Z"
   },
   {
    "duration": 3,
    "start_time": "2024-04-12T10:25:41.320Z"
   },
   {
    "duration": 15,
    "start_time": "2024-04-12T10:25:41.324Z"
   },
   {
    "duration": 18,
    "start_time": "2024-04-12T10:25:41.341Z"
   },
   {
    "duration": 14,
    "start_time": "2024-04-12T10:25:41.361Z"
   },
   {
    "duration": 331,
    "start_time": "2024-04-12T17:34:17.047Z"
   },
   {
    "duration": 21,
    "start_time": "2024-04-12T17:34:22.522Z"
   },
   {
    "duration": 4,
    "start_time": "2024-04-12T17:34:39.156Z"
   },
   {
    "duration": 19,
    "start_time": "2024-04-12T17:34:39.411Z"
   }
  ],
  "kernelspec": {
   "display_name": "Python 3 (ipykernel)",
   "language": "python",
   "name": "python3"
  },
  "language_info": {
   "codemirror_mode": {
    "name": "ipython",
    "version": 3
   },
   "file_extension": ".py",
   "mimetype": "text/x-python",
   "name": "python",
   "nbconvert_exporter": "python",
   "pygments_lexer": "ipython3",
   "version": "3.9.5"
  },
  "toc": {
   "base_numbering": 1,
   "nav_menu": {},
   "number_sections": true,
   "sideBar": true,
   "skip_h1_title": true,
   "title_cell": "Содержание",
   "title_sidebar": "Contents",
   "toc_cell": true,
   "toc_position": {
    "height": "calc(100% - 180px)",
    "left": "10px",
    "top": "150px",
    "width": "302.391px"
   },
   "toc_section_display": true,
   "toc_window_display": false
  }
 },
 "nbformat": 4,
 "nbformat_minor": 2
}
