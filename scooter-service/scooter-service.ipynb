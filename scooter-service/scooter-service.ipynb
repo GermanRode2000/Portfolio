{
 "cells": [
  {
   "cell_type": "markdown",
   "id": "96468956",
   "metadata": {},
   "source": [
    "# Сервис аренды самокатов\n",
    "\n",
    "Необходимо проверить некоторые гипотезы и ответить на вопрос, являются ли пользователи с подпиской более выгодными для компании (приносят ли они больше выручки), чем пользователи без подписки.\n",
    "\n",
    "В распоряжении данные о пользователях, типах и условиях подписки."
   ]
  },
  {
   "cell_type": "code",
   "execution_count": 1,
   "id": "72576667",
   "metadata": {},
   "outputs": [],
   "source": [
    "import pandas as pd\n",
    "import matplotlib.pyplot as plt\n",
    "import seaborn as sns\n",
    "import numpy as np\n",
    "import scipy.stats as st\n",
    "from math import sqrt\n",
    "from scipy.stats import binom, norm\n",
    "from math import factorial\n",
    "\n",
    "sns.set(rc={'figure.figsize':(10,7)})"
   ]
  },
  {
   "cell_type": "markdown",
   "id": "c42cbe00",
   "metadata": {},
   "source": [
    "#### Шаг 1. Загрузка данных"
   ]
  },
  {
   "cell_type": "code",
   "execution_count": 2,
   "id": "aa66bfc1",
   "metadata": {},
   "outputs": [],
   "source": [
    "dt_users = pd.read_csv('/datasets/users_go.csv')\n",
    "\n",
    "dt_rides = pd.read_csv('/datasets/rides_go.csv')\n",
    "\n",
    "dt_subscriptions = pd.read_csv('/datasets/subscriptions_go.csv')"
   ]
  },
  {
   "cell_type": "code",
   "execution_count": 3,
   "id": "16921ead",
   "metadata": {},
   "outputs": [
    {
     "data": {
      "text/html": [
       "<div>\n",
       "<style scoped>\n",
       "    .dataframe tbody tr th:only-of-type {\n",
       "        vertical-align: middle;\n",
       "    }\n",
       "\n",
       "    .dataframe tbody tr th {\n",
       "        vertical-align: top;\n",
       "    }\n",
       "\n",
       "    .dataframe thead th {\n",
       "        text-align: right;\n",
       "    }\n",
       "</style>\n",
       "<table border=\"1\" class=\"dataframe\">\n",
       "  <thead>\n",
       "    <tr style=\"text-align: right;\">\n",
       "      <th></th>\n",
       "      <th>user_id</th>\n",
       "      <th>name</th>\n",
       "      <th>age</th>\n",
       "      <th>city</th>\n",
       "      <th>subscription_type</th>\n",
       "    </tr>\n",
       "  </thead>\n",
       "  <tbody>\n",
       "    <tr>\n",
       "      <th>0</th>\n",
       "      <td>1</td>\n",
       "      <td>Кира</td>\n",
       "      <td>22</td>\n",
       "      <td>Тюмень</td>\n",
       "      <td>ultra</td>\n",
       "    </tr>\n",
       "    <tr>\n",
       "      <th>1</th>\n",
       "      <td>2</td>\n",
       "      <td>Станислав</td>\n",
       "      <td>31</td>\n",
       "      <td>Омск</td>\n",
       "      <td>ultra</td>\n",
       "    </tr>\n",
       "    <tr>\n",
       "      <th>2</th>\n",
       "      <td>3</td>\n",
       "      <td>Алексей</td>\n",
       "      <td>20</td>\n",
       "      <td>Москва</td>\n",
       "      <td>ultra</td>\n",
       "    </tr>\n",
       "    <tr>\n",
       "      <th>3</th>\n",
       "      <td>4</td>\n",
       "      <td>Константин</td>\n",
       "      <td>26</td>\n",
       "      <td>Ростов-на-Дону</td>\n",
       "      <td>ultra</td>\n",
       "    </tr>\n",
       "    <tr>\n",
       "      <th>4</th>\n",
       "      <td>5</td>\n",
       "      <td>Адель</td>\n",
       "      <td>28</td>\n",
       "      <td>Омск</td>\n",
       "      <td>ultra</td>\n",
       "    </tr>\n",
       "    <tr>\n",
       "      <th>5</th>\n",
       "      <td>6</td>\n",
       "      <td>Регина</td>\n",
       "      <td>25</td>\n",
       "      <td>Краснодар</td>\n",
       "      <td>ultra</td>\n",
       "    </tr>\n",
       "    <tr>\n",
       "      <th>6</th>\n",
       "      <td>7</td>\n",
       "      <td>Игорь</td>\n",
       "      <td>23</td>\n",
       "      <td>Омск</td>\n",
       "      <td>ultra</td>\n",
       "    </tr>\n",
       "    <tr>\n",
       "      <th>7</th>\n",
       "      <td>8</td>\n",
       "      <td>Юрий</td>\n",
       "      <td>23</td>\n",
       "      <td>Краснодар</td>\n",
       "      <td>ultra</td>\n",
       "    </tr>\n",
       "    <tr>\n",
       "      <th>8</th>\n",
       "      <td>9</td>\n",
       "      <td>Ян</td>\n",
       "      <td>21</td>\n",
       "      <td>Пятигорск</td>\n",
       "      <td>ultra</td>\n",
       "    </tr>\n",
       "    <tr>\n",
       "      <th>9</th>\n",
       "      <td>10</td>\n",
       "      <td>Валерий</td>\n",
       "      <td>18</td>\n",
       "      <td>Екатеринбург</td>\n",
       "      <td>ultra</td>\n",
       "    </tr>\n",
       "    <tr>\n",
       "      <th>10</th>\n",
       "      <td>11</td>\n",
       "      <td>Агата</td>\n",
       "      <td>31</td>\n",
       "      <td>Краснодар</td>\n",
       "      <td>ultra</td>\n",
       "    </tr>\n",
       "    <tr>\n",
       "      <th>11</th>\n",
       "      <td>12</td>\n",
       "      <td>Марк</td>\n",
       "      <td>27</td>\n",
       "      <td>Тюмень</td>\n",
       "      <td>ultra</td>\n",
       "    </tr>\n",
       "    <tr>\n",
       "      <th>12</th>\n",
       "      <td>13</td>\n",
       "      <td>Ева</td>\n",
       "      <td>24</td>\n",
       "      <td>Краснодар</td>\n",
       "      <td>ultra</td>\n",
       "    </tr>\n",
       "    <tr>\n",
       "      <th>13</th>\n",
       "      <td>14</td>\n",
       "      <td>Антонина</td>\n",
       "      <td>18</td>\n",
       "      <td>Пятигорск</td>\n",
       "      <td>ultra</td>\n",
       "    </tr>\n",
       "    <tr>\n",
       "      <th>14</th>\n",
       "      <td>15</td>\n",
       "      <td>Валерия</td>\n",
       "      <td>24</td>\n",
       "      <td>Тюмень</td>\n",
       "      <td>ultra</td>\n",
       "    </tr>\n",
       "    <tr>\n",
       "      <th>15</th>\n",
       "      <td>16</td>\n",
       "      <td>Амалия</td>\n",
       "      <td>27</td>\n",
       "      <td>Краснодар</td>\n",
       "      <td>ultra</td>\n",
       "    </tr>\n",
       "    <tr>\n",
       "      <th>16</th>\n",
       "      <td>17</td>\n",
       "      <td>Даниил</td>\n",
       "      <td>29</td>\n",
       "      <td>Москва</td>\n",
       "      <td>ultra</td>\n",
       "    </tr>\n",
       "    <tr>\n",
       "      <th>17</th>\n",
       "      <td>18</td>\n",
       "      <td>Аделина</td>\n",
       "      <td>24</td>\n",
       "      <td>Сочи</td>\n",
       "      <td>ultra</td>\n",
       "    </tr>\n",
       "    <tr>\n",
       "      <th>18</th>\n",
       "      <td>19</td>\n",
       "      <td>Регина</td>\n",
       "      <td>32</td>\n",
       "      <td>Тюмень</td>\n",
       "      <td>ultra</td>\n",
       "    </tr>\n",
       "    <tr>\n",
       "      <th>19</th>\n",
       "      <td>20</td>\n",
       "      <td>Игорь</td>\n",
       "      <td>23</td>\n",
       "      <td>Омск</td>\n",
       "      <td>ultra</td>\n",
       "    </tr>\n",
       "    <tr>\n",
       "      <th>20</th>\n",
       "      <td>21</td>\n",
       "      <td>Святогор</td>\n",
       "      <td>14</td>\n",
       "      <td>Ростов-на-Дону</td>\n",
       "      <td>ultra</td>\n",
       "    </tr>\n",
       "    <tr>\n",
       "      <th>21</th>\n",
       "      <td>22</td>\n",
       "      <td>Борис</td>\n",
       "      <td>19</td>\n",
       "      <td>Пятигорск</td>\n",
       "      <td>ultra</td>\n",
       "    </tr>\n",
       "    <tr>\n",
       "      <th>22</th>\n",
       "      <td>23</td>\n",
       "      <td>Игорь</td>\n",
       "      <td>25</td>\n",
       "      <td>Сочи</td>\n",
       "      <td>ultra</td>\n",
       "    </tr>\n",
       "    <tr>\n",
       "      <th>23</th>\n",
       "      <td>24</td>\n",
       "      <td>Вероника</td>\n",
       "      <td>27</td>\n",
       "      <td>Тюмень</td>\n",
       "      <td>ultra</td>\n",
       "    </tr>\n",
       "    <tr>\n",
       "      <th>24</th>\n",
       "      <td>25</td>\n",
       "      <td>Ростислав</td>\n",
       "      <td>26</td>\n",
       "      <td>Ростов-на-Дону</td>\n",
       "      <td>ultra</td>\n",
       "    </tr>\n",
       "    <tr>\n",
       "      <th>25</th>\n",
       "      <td>26</td>\n",
       "      <td>Назар</td>\n",
       "      <td>21</td>\n",
       "      <td>Омск</td>\n",
       "      <td>ultra</td>\n",
       "    </tr>\n",
       "    <tr>\n",
       "      <th>26</th>\n",
       "      <td>27</td>\n",
       "      <td>Эдуард</td>\n",
       "      <td>20</td>\n",
       "      <td>Краснодар</td>\n",
       "      <td>ultra</td>\n",
       "    </tr>\n",
       "    <tr>\n",
       "      <th>27</th>\n",
       "      <td>28</td>\n",
       "      <td>Василий</td>\n",
       "      <td>19</td>\n",
       "      <td>Пятигорск</td>\n",
       "      <td>ultra</td>\n",
       "    </tr>\n",
       "    <tr>\n",
       "      <th>28</th>\n",
       "      <td>29</td>\n",
       "      <td>Денис</td>\n",
       "      <td>20</td>\n",
       "      <td>Омск</td>\n",
       "      <td>ultra</td>\n",
       "    </tr>\n",
       "    <tr>\n",
       "      <th>29</th>\n",
       "      <td>30</td>\n",
       "      <td>Кира</td>\n",
       "      <td>29</td>\n",
       "      <td>Краснодар</td>\n",
       "      <td>ultra</td>\n",
       "    </tr>\n",
       "  </tbody>\n",
       "</table>\n",
       "</div>"
      ],
      "text/plain": [
       "    user_id        name  age            city subscription_type\n",
       "0         1        Кира   22          Тюмень             ultra\n",
       "1         2   Станислав   31            Омск             ultra\n",
       "2         3     Алексей   20          Москва             ultra\n",
       "3         4  Константин   26  Ростов-на-Дону             ultra\n",
       "4         5       Адель   28            Омск             ultra\n",
       "5         6      Регина   25       Краснодар             ultra\n",
       "6         7       Игорь   23            Омск             ultra\n",
       "7         8        Юрий   23       Краснодар             ultra\n",
       "8         9          Ян   21       Пятигорск             ultra\n",
       "9        10     Валерий   18    Екатеринбург             ultra\n",
       "10       11       Агата   31       Краснодар             ultra\n",
       "11       12        Марк   27          Тюмень             ultra\n",
       "12       13         Ева   24       Краснодар             ultra\n",
       "13       14    Антонина   18       Пятигорск             ultra\n",
       "14       15     Валерия   24          Тюмень             ultra\n",
       "15       16      Амалия   27       Краснодар             ultra\n",
       "16       17      Даниил   29          Москва             ultra\n",
       "17       18     Аделина   24            Сочи             ultra\n",
       "18       19      Регина   32          Тюмень             ultra\n",
       "19       20       Игорь   23            Омск             ultra\n",
       "20       21    Святогор   14  Ростов-на-Дону             ultra\n",
       "21       22       Борис   19       Пятигорск             ultra\n",
       "22       23       Игорь   25            Сочи             ultra\n",
       "23       24    Вероника   27          Тюмень             ultra\n",
       "24       25   Ростислав   26  Ростов-на-Дону             ultra\n",
       "25       26       Назар   21            Омск             ultra\n",
       "26       27      Эдуард   20       Краснодар             ultra\n",
       "27       28     Василий   19       Пятигорск             ultra\n",
       "28       29       Денис   20            Омск             ultra\n",
       "29       30        Кира   29       Краснодар             ultra"
      ]
     },
     "execution_count": 3,
     "metadata": {},
     "output_type": "execute_result"
    }
   ],
   "source": [
    "dt_users.head(30)"
   ]
  },
  {
   "cell_type": "code",
   "execution_count": 4,
   "id": "8a459b54",
   "metadata": {
    "scrolled": false
   },
   "outputs": [
    {
     "name": "stdout",
     "output_type": "stream",
     "text": [
      "<class 'pandas.core.frame.DataFrame'>\n",
      "RangeIndex: 1565 entries, 0 to 1564\n",
      "Data columns (total 5 columns):\n",
      " #   Column             Non-Null Count  Dtype \n",
      "---  ------             --------------  ----- \n",
      " 0   user_id            1565 non-null   int64 \n",
      " 1   name               1565 non-null   object\n",
      " 2   age                1565 non-null   int64 \n",
      " 3   city               1565 non-null   object\n",
      " 4   subscription_type  1565 non-null   object\n",
      "dtypes: int64(2), object(3)\n",
      "memory usage: 61.3+ KB\n"
     ]
    }
   ],
   "source": [
    "dt_users.info()"
   ]
  },
  {
   "cell_type": "code",
   "execution_count": 5,
   "id": "f76fdf13",
   "metadata": {},
   "outputs": [
    {
     "data": {
      "text/html": [
       "<div>\n",
       "<style scoped>\n",
       "    .dataframe tbody tr th:only-of-type {\n",
       "        vertical-align: middle;\n",
       "    }\n",
       "\n",
       "    .dataframe tbody tr th {\n",
       "        vertical-align: top;\n",
       "    }\n",
       "\n",
       "    .dataframe thead th {\n",
       "        text-align: right;\n",
       "    }\n",
       "</style>\n",
       "<table border=\"1\" class=\"dataframe\">\n",
       "  <thead>\n",
       "    <tr style=\"text-align: right;\">\n",
       "      <th></th>\n",
       "      <th>user_id</th>\n",
       "      <th>distance</th>\n",
       "      <th>duration</th>\n",
       "      <th>date</th>\n",
       "    </tr>\n",
       "  </thead>\n",
       "  <tbody>\n",
       "    <tr>\n",
       "      <th>0</th>\n",
       "      <td>1</td>\n",
       "      <td>4409.919140</td>\n",
       "      <td>25.599769</td>\n",
       "      <td>2021-01-01</td>\n",
       "    </tr>\n",
       "    <tr>\n",
       "      <th>1</th>\n",
       "      <td>1</td>\n",
       "      <td>2617.592153</td>\n",
       "      <td>15.816871</td>\n",
       "      <td>2021-01-18</td>\n",
       "    </tr>\n",
       "    <tr>\n",
       "      <th>2</th>\n",
       "      <td>1</td>\n",
       "      <td>754.159807</td>\n",
       "      <td>6.232113</td>\n",
       "      <td>2021-04-20</td>\n",
       "    </tr>\n",
       "    <tr>\n",
       "      <th>3</th>\n",
       "      <td>1</td>\n",
       "      <td>2694.783254</td>\n",
       "      <td>18.511000</td>\n",
       "      <td>2021-08-11</td>\n",
       "    </tr>\n",
       "    <tr>\n",
       "      <th>4</th>\n",
       "      <td>1</td>\n",
       "      <td>4028.687306</td>\n",
       "      <td>26.265803</td>\n",
       "      <td>2021-08-28</td>\n",
       "    </tr>\n",
       "    <tr>\n",
       "      <th>5</th>\n",
       "      <td>1</td>\n",
       "      <td>2770.890808</td>\n",
       "      <td>16.650138</td>\n",
       "      <td>2021-10-09</td>\n",
       "    </tr>\n",
       "    <tr>\n",
       "      <th>6</th>\n",
       "      <td>1</td>\n",
       "      <td>3039.020292</td>\n",
       "      <td>14.927879</td>\n",
       "      <td>2021-10-19</td>\n",
       "    </tr>\n",
       "    <tr>\n",
       "      <th>7</th>\n",
       "      <td>1</td>\n",
       "      <td>2842.118050</td>\n",
       "      <td>23.117468</td>\n",
       "      <td>2021-11-06</td>\n",
       "    </tr>\n",
       "    <tr>\n",
       "      <th>8</th>\n",
       "      <td>1</td>\n",
       "      <td>3412.690668</td>\n",
       "      <td>15.238072</td>\n",
       "      <td>2021-11-14</td>\n",
       "    </tr>\n",
       "    <tr>\n",
       "      <th>9</th>\n",
       "      <td>1</td>\n",
       "      <td>748.690645</td>\n",
       "      <td>15.041884</td>\n",
       "      <td>2021-11-22</td>\n",
       "    </tr>\n",
       "    <tr>\n",
       "      <th>10</th>\n",
       "      <td>1</td>\n",
       "      <td>4031.020195</td>\n",
       "      <td>17.674448</td>\n",
       "      <td>2021-12-14</td>\n",
       "    </tr>\n",
       "    <tr>\n",
       "      <th>11</th>\n",
       "      <td>1</td>\n",
       "      <td>2720.609748</td>\n",
       "      <td>9.529463</td>\n",
       "      <td>2021-12-22</td>\n",
       "    </tr>\n",
       "    <tr>\n",
       "      <th>12</th>\n",
       "      <td>2</td>\n",
       "      <td>3105.086678</td>\n",
       "      <td>24.307514</td>\n",
       "      <td>2021-03-15</td>\n",
       "    </tr>\n",
       "    <tr>\n",
       "      <th>13</th>\n",
       "      <td>2</td>\n",
       "      <td>3053.519401</td>\n",
       "      <td>11.543256</td>\n",
       "      <td>2021-03-18</td>\n",
       "    </tr>\n",
       "    <tr>\n",
       "      <th>14</th>\n",
       "      <td>2</td>\n",
       "      <td>4029.116927</td>\n",
       "      <td>25.109188</td>\n",
       "      <td>2021-03-23</td>\n",
       "    </tr>\n",
       "    <tr>\n",
       "      <th>15</th>\n",
       "      <td>2</td>\n",
       "      <td>2805.786329</td>\n",
       "      <td>20.652145</td>\n",
       "      <td>2021-04-08</td>\n",
       "    </tr>\n",
       "    <tr>\n",
       "      <th>16</th>\n",
       "      <td>2</td>\n",
       "      <td>3358.595495</td>\n",
       "      <td>18.396489</td>\n",
       "      <td>2021-04-13</td>\n",
       "    </tr>\n",
       "    <tr>\n",
       "      <th>17</th>\n",
       "      <td>2</td>\n",
       "      <td>3255.338202</td>\n",
       "      <td>13.851127</td>\n",
       "      <td>2021-06-20</td>\n",
       "    </tr>\n",
       "    <tr>\n",
       "      <th>18</th>\n",
       "      <td>2</td>\n",
       "      <td>3942.817648</td>\n",
       "      <td>20.142725</td>\n",
       "      <td>2021-07-02</td>\n",
       "    </tr>\n",
       "    <tr>\n",
       "      <th>19</th>\n",
       "      <td>2</td>\n",
       "      <td>2837.905316</td>\n",
       "      <td>26.027432</td>\n",
       "      <td>2021-07-18</td>\n",
       "    </tr>\n",
       "    <tr>\n",
       "      <th>20</th>\n",
       "      <td>2</td>\n",
       "      <td>923.007439</td>\n",
       "      <td>6.914760</td>\n",
       "      <td>2021-08-03</td>\n",
       "    </tr>\n",
       "    <tr>\n",
       "      <th>21</th>\n",
       "      <td>2</td>\n",
       "      <td>2824.636598</td>\n",
       "      <td>18.779128</td>\n",
       "      <td>2021-10-27</td>\n",
       "    </tr>\n",
       "    <tr>\n",
       "      <th>22</th>\n",
       "      <td>2</td>\n",
       "      <td>3828.248580</td>\n",
       "      <td>11.920514</td>\n",
       "      <td>2021-12-18</td>\n",
       "    </tr>\n",
       "    <tr>\n",
       "      <th>23</th>\n",
       "      <td>3</td>\n",
       "      <td>3061.777147</td>\n",
       "      <td>12.654443</td>\n",
       "      <td>2021-01-31</td>\n",
       "    </tr>\n",
       "    <tr>\n",
       "      <th>24</th>\n",
       "      <td>3</td>\n",
       "      <td>2560.495330</td>\n",
       "      <td>16.534984</td>\n",
       "      <td>2021-02-24</td>\n",
       "    </tr>\n",
       "    <tr>\n",
       "      <th>25</th>\n",
       "      <td>3</td>\n",
       "      <td>2860.656686</td>\n",
       "      <td>21.033653</td>\n",
       "      <td>2021-02-26</td>\n",
       "    </tr>\n",
       "    <tr>\n",
       "      <th>26</th>\n",
       "      <td>3</td>\n",
       "      <td>2956.651632</td>\n",
       "      <td>20.671364</td>\n",
       "      <td>2021-04-12</td>\n",
       "    </tr>\n",
       "    <tr>\n",
       "      <th>27</th>\n",
       "      <td>3</td>\n",
       "      <td>2756.975841</td>\n",
       "      <td>18.519025</td>\n",
       "      <td>2021-05-07</td>\n",
       "    </tr>\n",
       "    <tr>\n",
       "      <th>28</th>\n",
       "      <td>3</td>\n",
       "      <td>2837.317332</td>\n",
       "      <td>24.476276</td>\n",
       "      <td>2021-05-21</td>\n",
       "    </tr>\n",
       "    <tr>\n",
       "      <th>29</th>\n",
       "      <td>3</td>\n",
       "      <td>3469.733745</td>\n",
       "      <td>18.409201</td>\n",
       "      <td>2021-05-22</td>\n",
       "    </tr>\n",
       "  </tbody>\n",
       "</table>\n",
       "</div>"
      ],
      "text/plain": [
       "    user_id     distance   duration        date\n",
       "0         1  4409.919140  25.599769  2021-01-01\n",
       "1         1  2617.592153  15.816871  2021-01-18\n",
       "2         1   754.159807   6.232113  2021-04-20\n",
       "3         1  2694.783254  18.511000  2021-08-11\n",
       "4         1  4028.687306  26.265803  2021-08-28\n",
       "5         1  2770.890808  16.650138  2021-10-09\n",
       "6         1  3039.020292  14.927879  2021-10-19\n",
       "7         1  2842.118050  23.117468  2021-11-06\n",
       "8         1  3412.690668  15.238072  2021-11-14\n",
       "9         1   748.690645  15.041884  2021-11-22\n",
       "10        1  4031.020195  17.674448  2021-12-14\n",
       "11        1  2720.609748   9.529463  2021-12-22\n",
       "12        2  3105.086678  24.307514  2021-03-15\n",
       "13        2  3053.519401  11.543256  2021-03-18\n",
       "14        2  4029.116927  25.109188  2021-03-23\n",
       "15        2  2805.786329  20.652145  2021-04-08\n",
       "16        2  3358.595495  18.396489  2021-04-13\n",
       "17        2  3255.338202  13.851127  2021-06-20\n",
       "18        2  3942.817648  20.142725  2021-07-02\n",
       "19        2  2837.905316  26.027432  2021-07-18\n",
       "20        2   923.007439   6.914760  2021-08-03\n",
       "21        2  2824.636598  18.779128  2021-10-27\n",
       "22        2  3828.248580  11.920514  2021-12-18\n",
       "23        3  3061.777147  12.654443  2021-01-31\n",
       "24        3  2560.495330  16.534984  2021-02-24\n",
       "25        3  2860.656686  21.033653  2021-02-26\n",
       "26        3  2956.651632  20.671364  2021-04-12\n",
       "27        3  2756.975841  18.519025  2021-05-07\n",
       "28        3  2837.317332  24.476276  2021-05-21\n",
       "29        3  3469.733745  18.409201  2021-05-22"
      ]
     },
     "execution_count": 5,
     "metadata": {},
     "output_type": "execute_result"
    }
   ],
   "source": [
    "dt_rides.head(30)"
   ]
  },
  {
   "cell_type": "code",
   "execution_count": 6,
   "id": "880be161",
   "metadata": {},
   "outputs": [
    {
     "name": "stdout",
     "output_type": "stream",
     "text": [
      "<class 'pandas.core.frame.DataFrame'>\n",
      "RangeIndex: 18068 entries, 0 to 18067\n",
      "Data columns (total 4 columns):\n",
      " #   Column    Non-Null Count  Dtype  \n",
      "---  ------    --------------  -----  \n",
      " 0   user_id   18068 non-null  int64  \n",
      " 1   distance  18068 non-null  float64\n",
      " 2   duration  18068 non-null  float64\n",
      " 3   date      18068 non-null  object \n",
      "dtypes: float64(2), int64(1), object(1)\n",
      "memory usage: 564.8+ KB\n"
     ]
    }
   ],
   "source": [
    "dt_rides.info()"
   ]
  },
  {
   "cell_type": "code",
   "execution_count": 7,
   "id": "e67e4cbf",
   "metadata": {},
   "outputs": [
    {
     "data": {
      "text/html": [
       "<div>\n",
       "<style scoped>\n",
       "    .dataframe tbody tr th:only-of-type {\n",
       "        vertical-align: middle;\n",
       "    }\n",
       "\n",
       "    .dataframe tbody tr th {\n",
       "        vertical-align: top;\n",
       "    }\n",
       "\n",
       "    .dataframe thead th {\n",
       "        text-align: right;\n",
       "    }\n",
       "</style>\n",
       "<table border=\"1\" class=\"dataframe\">\n",
       "  <thead>\n",
       "    <tr style=\"text-align: right;\">\n",
       "      <th></th>\n",
       "      <th>subscription_type</th>\n",
       "      <th>minute_price</th>\n",
       "      <th>start_ride_price</th>\n",
       "      <th>subscription_fee</th>\n",
       "    </tr>\n",
       "  </thead>\n",
       "  <tbody>\n",
       "    <tr>\n",
       "      <th>0</th>\n",
       "      <td>free</td>\n",
       "      <td>8</td>\n",
       "      <td>50</td>\n",
       "      <td>0</td>\n",
       "    </tr>\n",
       "    <tr>\n",
       "      <th>1</th>\n",
       "      <td>ultra</td>\n",
       "      <td>6</td>\n",
       "      <td>0</td>\n",
       "      <td>199</td>\n",
       "    </tr>\n",
       "  </tbody>\n",
       "</table>\n",
       "</div>"
      ],
      "text/plain": [
       "  subscription_type  minute_price  start_ride_price  subscription_fee\n",
       "0              free             8                50                 0\n",
       "1             ultra             6                 0               199"
      ]
     },
     "execution_count": 7,
     "metadata": {},
     "output_type": "execute_result"
    }
   ],
   "source": [
    "dt_subscriptions.head(30)"
   ]
  },
  {
   "cell_type": "code",
   "execution_count": 8,
   "id": "193e73d0",
   "metadata": {
    "scrolled": true
   },
   "outputs": [
    {
     "name": "stdout",
     "output_type": "stream",
     "text": [
      "<class 'pandas.core.frame.DataFrame'>\n",
      "RangeIndex: 2 entries, 0 to 1\n",
      "Data columns (total 4 columns):\n",
      " #   Column             Non-Null Count  Dtype \n",
      "---  ------             --------------  ----- \n",
      " 0   subscription_type  2 non-null      object\n",
      " 1   minute_price       2 non-null      int64 \n",
      " 2   start_ride_price   2 non-null      int64 \n",
      " 3   subscription_fee   2 non-null      int64 \n",
      "dtypes: int64(3), object(1)\n",
      "memory usage: 192.0+ bytes\n"
     ]
    }
   ],
   "source": [
    "dt_subscriptions.info()"
   ]
  },
  {
   "cell_type": "markdown",
   "id": "679656f6",
   "metadata": {},
   "source": [
    "##### Вывод\n",
    "- Произвелась выгрузка данных. Был проведен просмотр основной информации о них.\n",
    "- Столбец date в таблице dt_rides необходимо привести к формату datetime.\n",
    "- Пропуски в данных отсутствуют"
   ]
  },
  {
   "cell_type": "markdown",
   "id": "e95ebca7",
   "metadata": {},
   "source": [
    "#### Шаг 2. Предобработка данных"
   ]
  },
  {
   "cell_type": "markdown",
   "id": "2baa6ac2",
   "metadata": {},
   "source": [
    "##### Сделаем преобразование и добавим новый столбец с номером месяца"
   ]
  },
  {
   "cell_type": "code",
   "execution_count": 9,
   "id": "af6d202c",
   "metadata": {
    "scrolled": false
   },
   "outputs": [
    {
     "name": "stdout",
     "output_type": "stream",
     "text": [
      "<class 'pandas.core.frame.DataFrame'>\n",
      "RangeIndex: 18068 entries, 0 to 18067\n",
      "Data columns (total 4 columns):\n",
      " #   Column    Non-Null Count  Dtype         \n",
      "---  ------    --------------  -----         \n",
      " 0   user_id   18068 non-null  int64         \n",
      " 1   distance  18068 non-null  float64       \n",
      " 2   duration  18068 non-null  float64       \n",
      " 3   date      18068 non-null  datetime64[ns]\n",
      "dtypes: datetime64[ns](1), float64(2), int64(1)\n",
      "memory usage: 564.8 KB\n"
     ]
    }
   ],
   "source": [
    "# преобразуем столбец date в датасете dt_rides к формату datetime\n",
    "dt_rides['date'] = pd.to_datetime(dt_rides['date'], format='%Y-%m-%d')\n",
    "\n",
    "dt_rides.info() # проверим"
   ]
  },
  {
   "cell_type": "code",
   "execution_count": 10,
   "id": "840a2369",
   "metadata": {},
   "outputs": [
    {
     "data": {
      "text/plain": [
       "array([2021])"
      ]
     },
     "execution_count": 10,
     "metadata": {},
     "output_type": "execute_result"
    }
   ],
   "source": [
    "dt_rides['date'].dt.year.unique() # проверим, за какие года у нас есть данные"
   ]
  },
  {
   "cell_type": "code",
   "execution_count": 11,
   "id": "06ef157c",
   "metadata": {
    "scrolled": true
   },
   "outputs": [
    {
     "data": {
      "text/html": [
       "<div>\n",
       "<style scoped>\n",
       "    .dataframe tbody tr th:only-of-type {\n",
       "        vertical-align: middle;\n",
       "    }\n",
       "\n",
       "    .dataframe tbody tr th {\n",
       "        vertical-align: top;\n",
       "    }\n",
       "\n",
       "    .dataframe thead th {\n",
       "        text-align: right;\n",
       "    }\n",
       "</style>\n",
       "<table border=\"1\" class=\"dataframe\">\n",
       "  <thead>\n",
       "    <tr style=\"text-align: right;\">\n",
       "      <th></th>\n",
       "      <th>user_id</th>\n",
       "      <th>distance</th>\n",
       "      <th>duration</th>\n",
       "      <th>date</th>\n",
       "      <th>month</th>\n",
       "    </tr>\n",
       "  </thead>\n",
       "  <tbody>\n",
       "    <tr>\n",
       "      <th>0</th>\n",
       "      <td>1</td>\n",
       "      <td>4409.919140</td>\n",
       "      <td>25.599769</td>\n",
       "      <td>2021-01-01</td>\n",
       "      <td>1</td>\n",
       "    </tr>\n",
       "    <tr>\n",
       "      <th>1</th>\n",
       "      <td>1</td>\n",
       "      <td>2617.592153</td>\n",
       "      <td>15.816871</td>\n",
       "      <td>2021-01-18</td>\n",
       "      <td>1</td>\n",
       "    </tr>\n",
       "    <tr>\n",
       "      <th>2</th>\n",
       "      <td>1</td>\n",
       "      <td>754.159807</td>\n",
       "      <td>6.232113</td>\n",
       "      <td>2021-04-20</td>\n",
       "      <td>4</td>\n",
       "    </tr>\n",
       "    <tr>\n",
       "      <th>3</th>\n",
       "      <td>1</td>\n",
       "      <td>2694.783254</td>\n",
       "      <td>18.511000</td>\n",
       "      <td>2021-08-11</td>\n",
       "      <td>8</td>\n",
       "    </tr>\n",
       "    <tr>\n",
       "      <th>4</th>\n",
       "      <td>1</td>\n",
       "      <td>4028.687306</td>\n",
       "      <td>26.265803</td>\n",
       "      <td>2021-08-28</td>\n",
       "      <td>8</td>\n",
       "    </tr>\n",
       "    <tr>\n",
       "      <th>5</th>\n",
       "      <td>1</td>\n",
       "      <td>2770.890808</td>\n",
       "      <td>16.650138</td>\n",
       "      <td>2021-10-09</td>\n",
       "      <td>10</td>\n",
       "    </tr>\n",
       "    <tr>\n",
       "      <th>6</th>\n",
       "      <td>1</td>\n",
       "      <td>3039.020292</td>\n",
       "      <td>14.927879</td>\n",
       "      <td>2021-10-19</td>\n",
       "      <td>10</td>\n",
       "    </tr>\n",
       "    <tr>\n",
       "      <th>7</th>\n",
       "      <td>1</td>\n",
       "      <td>2842.118050</td>\n",
       "      <td>23.117468</td>\n",
       "      <td>2021-11-06</td>\n",
       "      <td>11</td>\n",
       "    </tr>\n",
       "    <tr>\n",
       "      <th>8</th>\n",
       "      <td>1</td>\n",
       "      <td>3412.690668</td>\n",
       "      <td>15.238072</td>\n",
       "      <td>2021-11-14</td>\n",
       "      <td>11</td>\n",
       "    </tr>\n",
       "    <tr>\n",
       "      <th>9</th>\n",
       "      <td>1</td>\n",
       "      <td>748.690645</td>\n",
       "      <td>15.041884</td>\n",
       "      <td>2021-11-22</td>\n",
       "      <td>11</td>\n",
       "    </tr>\n",
       "  </tbody>\n",
       "</table>\n",
       "</div>"
      ],
      "text/plain": [
       "   user_id     distance   duration       date  month\n",
       "0        1  4409.919140  25.599769 2021-01-01      1\n",
       "1        1  2617.592153  15.816871 2021-01-18      1\n",
       "2        1   754.159807   6.232113 2021-04-20      4\n",
       "3        1  2694.783254  18.511000 2021-08-11      8\n",
       "4        1  4028.687306  26.265803 2021-08-28      8\n",
       "5        1  2770.890808  16.650138 2021-10-09     10\n",
       "6        1  3039.020292  14.927879 2021-10-19     10\n",
       "7        1  2842.118050  23.117468 2021-11-06     11\n",
       "8        1  3412.690668  15.238072 2021-11-14     11\n",
       "9        1   748.690645  15.041884 2021-11-22     11"
      ]
     },
     "execution_count": 11,
     "metadata": {},
     "output_type": "execute_result"
    }
   ],
   "source": [
    "# данные представлены только за один год\n",
    "# добавим в данные столбец с номером месяца\n",
    "dt_rides['month'] = dt_rides['date'].dt.month\n",
    "\n",
    "dt_rides.head(10) # проверим"
   ]
  },
  {
   "cell_type": "markdown",
   "id": "09d3a2f7",
   "metadata": {},
   "source": [
    "##### Наличие пропусков"
   ]
  },
  {
   "cell_type": "code",
   "execution_count": 12,
   "id": "4dbf8022",
   "metadata": {},
   "outputs": [
    {
     "data": {
      "text/plain": [
       "user_id              0\n",
       "name                 0\n",
       "age                  0\n",
       "city                 0\n",
       "subscription_type    0\n",
       "dtype: int64"
      ]
     },
     "metadata": {},
     "output_type": "display_data"
    },
    {
     "data": {
      "text/plain": [
       "user_id     0\n",
       "distance    0\n",
       "duration    0\n",
       "date        0\n",
       "month       0\n",
       "dtype: int64"
      ]
     },
     "metadata": {},
     "output_type": "display_data"
    },
    {
     "data": {
      "text/plain": [
       "subscription_type    0\n",
       "minute_price         0\n",
       "start_ride_price     0\n",
       "subscription_fee     0\n",
       "dtype: int64"
      ]
     },
     "metadata": {},
     "output_type": "display_data"
    }
   ],
   "source": [
    "# необходимо проверить данные на наличие пропусков\n",
    "\n",
    "display(dt_users.isna().sum())\n",
    "\n",
    "display(dt_rides.isna().sum())\n",
    "\n",
    "display(dt_subscriptions.isna().sum())"
   ]
  },
  {
   "cell_type": "markdown",
   "id": "7504081b",
   "metadata": {},
   "source": [
    "В таблицах пропуски отсутствуют."
   ]
  },
  {
   "cell_type": "markdown",
   "id": "1201f415",
   "metadata": {},
   "source": [
    "##### Наличие дубликатов"
   ]
  },
  {
   "cell_type": "code",
   "execution_count": 13,
   "id": "6172bd2e",
   "metadata": {},
   "outputs": [
    {
     "data": {
      "text/plain": [
       "31"
      ]
     },
     "metadata": {},
     "output_type": "display_data"
    },
    {
     "data": {
      "text/plain": [
       "0"
      ]
     },
     "metadata": {},
     "output_type": "display_data"
    },
    {
     "data": {
      "text/plain": [
       "0"
      ]
     },
     "metadata": {},
     "output_type": "display_data"
    }
   ],
   "source": [
    "# далее проверим датасеты на наличие дубликатов\n",
    "display(dt_users.duplicated().sum())\n",
    "\n",
    "display(dt_rides.duplicated().sum())\n",
    "\n",
    "display(dt_subscriptions.duplicated().sum())"
   ]
  },
  {
   "cell_type": "code",
   "execution_count": 14,
   "id": "798d7054",
   "metadata": {},
   "outputs": [
    {
     "data": {
      "text/plain": [
       "0"
      ]
     },
     "execution_count": 14,
     "metadata": {},
     "output_type": "execute_result"
    }
   ],
   "source": [
    "# только в таблице с данными о пользователях есть дубликаты \n",
    "# удалим повторяющиеся строки\n",
    "dt_users.drop_duplicates(inplace=True)\n",
    "\n",
    "dt_users.duplicated().sum() # проверим"
   ]
  },
  {
   "cell_type": "code",
   "execution_count": 15,
   "id": "d4790218",
   "metadata": {},
   "outputs": [
    {
     "data": {
      "text/plain": [
       "array(['Тюмень', 'Омск', 'Москва', 'Ростов-на-Дону', 'Краснодар',\n",
       "       'Пятигорск', 'Екатеринбург', 'Сочи'], dtype=object)"
      ]
     },
     "execution_count": 15,
     "metadata": {},
     "output_type": "execute_result"
    }
   ],
   "source": [
    "# также следует проверить стобец с названием города из таблицы dt_users на наличие неявных дубликатов\n",
    "\n",
    "# выведем уникальные значения данного столбца\n",
    "dt_users['city'].unique()"
   ]
  },
  {
   "cell_type": "markdown",
   "id": "59e99e99",
   "metadata": {},
   "source": [
    "Неявные дубликаты отсутствуют."
   ]
  },
  {
   "cell_type": "markdown",
   "id": "ec00b3d8",
   "metadata": {},
   "source": [
    "##### Аномальные значения (выбросы)"
   ]
  },
  {
   "cell_type": "code",
   "execution_count": 16,
   "id": "5230db5e",
   "metadata": {
    "scrolled": true
   },
   "outputs": [
    {
     "data": {
      "text/html": [
       "<div>\n",
       "<style scoped>\n",
       "    .dataframe tbody tr th:only-of-type {\n",
       "        vertical-align: middle;\n",
       "    }\n",
       "\n",
       "    .dataframe tbody tr th {\n",
       "        vertical-align: top;\n",
       "    }\n",
       "\n",
       "    .dataframe thead th {\n",
       "        text-align: right;\n",
       "    }\n",
       "</style>\n",
       "<table border=\"1\" class=\"dataframe\">\n",
       "  <thead>\n",
       "    <tr style=\"text-align: right;\">\n",
       "      <th></th>\n",
       "      <th>user_id</th>\n",
       "      <th>age</th>\n",
       "    </tr>\n",
       "  </thead>\n",
       "  <tbody>\n",
       "    <tr>\n",
       "      <th>count</th>\n",
       "      <td>1534.000000</td>\n",
       "      <td>1534.000000</td>\n",
       "    </tr>\n",
       "    <tr>\n",
       "      <th>mean</th>\n",
       "      <td>767.500000</td>\n",
       "      <td>24.903520</td>\n",
       "    </tr>\n",
       "    <tr>\n",
       "      <th>std</th>\n",
       "      <td>442.971971</td>\n",
       "      <td>4.572367</td>\n",
       "    </tr>\n",
       "    <tr>\n",
       "      <th>min</th>\n",
       "      <td>1.000000</td>\n",
       "      <td>12.000000</td>\n",
       "    </tr>\n",
       "    <tr>\n",
       "      <th>25%</th>\n",
       "      <td>384.250000</td>\n",
       "      <td>22.000000</td>\n",
       "    </tr>\n",
       "    <tr>\n",
       "      <th>50%</th>\n",
       "      <td>767.500000</td>\n",
       "      <td>25.000000</td>\n",
       "    </tr>\n",
       "    <tr>\n",
       "      <th>75%</th>\n",
       "      <td>1150.750000</td>\n",
       "      <td>28.000000</td>\n",
       "    </tr>\n",
       "    <tr>\n",
       "      <th>max</th>\n",
       "      <td>1534.000000</td>\n",
       "      <td>43.000000</td>\n",
       "    </tr>\n",
       "  </tbody>\n",
       "</table>\n",
       "</div>"
      ],
      "text/plain": [
       "           user_id          age\n",
       "count  1534.000000  1534.000000\n",
       "mean    767.500000    24.903520\n",
       "std     442.971971     4.572367\n",
       "min       1.000000    12.000000\n",
       "25%     384.250000    22.000000\n",
       "50%     767.500000    25.000000\n",
       "75%    1150.750000    28.000000\n",
       "max    1534.000000    43.000000"
      ]
     },
     "metadata": {},
     "output_type": "display_data"
    },
    {
     "data": {
      "text/html": [
       "<div>\n",
       "<style scoped>\n",
       "    .dataframe tbody tr th:only-of-type {\n",
       "        vertical-align: middle;\n",
       "    }\n",
       "\n",
       "    .dataframe tbody tr th {\n",
       "        vertical-align: top;\n",
       "    }\n",
       "\n",
       "    .dataframe thead th {\n",
       "        text-align: right;\n",
       "    }\n",
       "</style>\n",
       "<table border=\"1\" class=\"dataframe\">\n",
       "  <thead>\n",
       "    <tr style=\"text-align: right;\">\n",
       "      <th></th>\n",
       "      <th>user_id</th>\n",
       "      <th>distance</th>\n",
       "      <th>duration</th>\n",
       "      <th>month</th>\n",
       "    </tr>\n",
       "  </thead>\n",
       "  <tbody>\n",
       "    <tr>\n",
       "      <th>count</th>\n",
       "      <td>18068.000000</td>\n",
       "      <td>18068.000000</td>\n",
       "      <td>18068.000000</td>\n",
       "      <td>18068.000000</td>\n",
       "    </tr>\n",
       "    <tr>\n",
       "      <th>mean</th>\n",
       "      <td>842.869936</td>\n",
       "      <td>3070.659976</td>\n",
       "      <td>17.805011</td>\n",
       "      <td>6.486772</td>\n",
       "    </tr>\n",
       "    <tr>\n",
       "      <th>std</th>\n",
       "      <td>434.734317</td>\n",
       "      <td>1116.831209</td>\n",
       "      <td>6.091051</td>\n",
       "      <td>3.437410</td>\n",
       "    </tr>\n",
       "    <tr>\n",
       "      <th>min</th>\n",
       "      <td>1.000000</td>\n",
       "      <td>0.855683</td>\n",
       "      <td>0.500000</td>\n",
       "      <td>1.000000</td>\n",
       "    </tr>\n",
       "    <tr>\n",
       "      <th>25%</th>\n",
       "      <td>487.000000</td>\n",
       "      <td>2543.226360</td>\n",
       "      <td>13.597563</td>\n",
       "      <td>4.000000</td>\n",
       "    </tr>\n",
       "    <tr>\n",
       "      <th>50%</th>\n",
       "      <td>889.000000</td>\n",
       "      <td>3133.609994</td>\n",
       "      <td>17.678395</td>\n",
       "      <td>6.000000</td>\n",
       "    </tr>\n",
       "    <tr>\n",
       "      <th>75%</th>\n",
       "      <td>1213.250000</td>\n",
       "      <td>3776.222735</td>\n",
       "      <td>21.724800</td>\n",
       "      <td>9.000000</td>\n",
       "    </tr>\n",
       "    <tr>\n",
       "      <th>max</th>\n",
       "      <td>1534.000000</td>\n",
       "      <td>7211.007745</td>\n",
       "      <td>40.823963</td>\n",
       "      <td>12.000000</td>\n",
       "    </tr>\n",
       "  </tbody>\n",
       "</table>\n",
       "</div>"
      ],
      "text/plain": [
       "            user_id      distance      duration         month\n",
       "count  18068.000000  18068.000000  18068.000000  18068.000000\n",
       "mean     842.869936   3070.659976     17.805011      6.486772\n",
       "std      434.734317   1116.831209      6.091051      3.437410\n",
       "min        1.000000      0.855683      0.500000      1.000000\n",
       "25%      487.000000   2543.226360     13.597563      4.000000\n",
       "50%      889.000000   3133.609994     17.678395      6.000000\n",
       "75%     1213.250000   3776.222735     21.724800      9.000000\n",
       "max     1534.000000   7211.007745     40.823963     12.000000"
      ]
     },
     "metadata": {},
     "output_type": "display_data"
    },
    {
     "data": {
      "text/html": [
       "<div>\n",
       "<style scoped>\n",
       "    .dataframe tbody tr th:only-of-type {\n",
       "        vertical-align: middle;\n",
       "    }\n",
       "\n",
       "    .dataframe tbody tr th {\n",
       "        vertical-align: top;\n",
       "    }\n",
       "\n",
       "    .dataframe thead th {\n",
       "        text-align: right;\n",
       "    }\n",
       "</style>\n",
       "<table border=\"1\" class=\"dataframe\">\n",
       "  <thead>\n",
       "    <tr style=\"text-align: right;\">\n",
       "      <th></th>\n",
       "      <th>minute_price</th>\n",
       "      <th>start_ride_price</th>\n",
       "      <th>subscription_fee</th>\n",
       "    </tr>\n",
       "  </thead>\n",
       "  <tbody>\n",
       "    <tr>\n",
       "      <th>count</th>\n",
       "      <td>2.000000</td>\n",
       "      <td>2.000000</td>\n",
       "      <td>2.000000</td>\n",
       "    </tr>\n",
       "    <tr>\n",
       "      <th>mean</th>\n",
       "      <td>7.000000</td>\n",
       "      <td>25.000000</td>\n",
       "      <td>99.500000</td>\n",
       "    </tr>\n",
       "    <tr>\n",
       "      <th>std</th>\n",
       "      <td>1.414214</td>\n",
       "      <td>35.355339</td>\n",
       "      <td>140.714249</td>\n",
       "    </tr>\n",
       "    <tr>\n",
       "      <th>min</th>\n",
       "      <td>6.000000</td>\n",
       "      <td>0.000000</td>\n",
       "      <td>0.000000</td>\n",
       "    </tr>\n",
       "    <tr>\n",
       "      <th>25%</th>\n",
       "      <td>6.500000</td>\n",
       "      <td>12.500000</td>\n",
       "      <td>49.750000</td>\n",
       "    </tr>\n",
       "    <tr>\n",
       "      <th>50%</th>\n",
       "      <td>7.000000</td>\n",
       "      <td>25.000000</td>\n",
       "      <td>99.500000</td>\n",
       "    </tr>\n",
       "    <tr>\n",
       "      <th>75%</th>\n",
       "      <td>7.500000</td>\n",
       "      <td>37.500000</td>\n",
       "      <td>149.250000</td>\n",
       "    </tr>\n",
       "    <tr>\n",
       "      <th>max</th>\n",
       "      <td>8.000000</td>\n",
       "      <td>50.000000</td>\n",
       "      <td>199.000000</td>\n",
       "    </tr>\n",
       "  </tbody>\n",
       "</table>\n",
       "</div>"
      ],
      "text/plain": [
       "       minute_price  start_ride_price  subscription_fee\n",
       "count      2.000000          2.000000          2.000000\n",
       "mean       7.000000         25.000000         99.500000\n",
       "std        1.414214         35.355339        140.714249\n",
       "min        6.000000          0.000000          0.000000\n",
       "25%        6.500000         12.500000         49.750000\n",
       "50%        7.000000         25.000000         99.500000\n",
       "75%        7.500000         37.500000        149.250000\n",
       "max        8.000000         50.000000        199.000000"
      ]
     },
     "metadata": {},
     "output_type": "display_data"
    }
   ],
   "source": [
    "# посмотрим на основные параметры датафреймов, чтобы оценить наличие выбросов\n",
    "display(dt_users.describe())\n",
    "\n",
    "display(dt_rides.describe())\n",
    "\n",
    "display(dt_subscriptions.describe())"
   ]
  },
  {
   "cell_type": "markdown",
   "id": "fa332774",
   "metadata": {},
   "source": [
    "Аномальные значения в данных отсутствуют."
   ]
  },
  {
   "cell_type": "markdown",
   "id": "f47db4c3",
   "metadata": {},
   "source": [
    "##### Вывод\n",
    "- В данных пропуски отсутствуют.\n",
    "- В таблице dt_users присутствовали дубликаты. Они были удалены.\n",
    "- Аномальные значения в данных отсутствуют.\n",
    "- Также к формату datetime был приведен столбец date из dt_rides и добавлен столбец month с номером месяца."
   ]
  },
  {
   "cell_type": "markdown",
   "id": "212593c7",
   "metadata": {},
   "source": [
    "#### Шаг 3. Исследовательский анализ данных"
   ]
  },
  {
   "cell_type": "markdown",
   "id": "aebc5861",
   "metadata": {},
   "source": [
    "##### Частота встречаемости городов"
   ]
  },
  {
   "cell_type": "code",
   "execution_count": 17,
   "id": "4bb4740e",
   "metadata": {
    "scrolled": false
   },
   "outputs": [
    {
     "data": {
      "image/png": "[encoded data removed]",
      "text/plain": [
       "<Figure size 720x720 with 1 Axes>"
      ]
     },
     "metadata": {},
     "output_type": "display_data"
    }
   ],
   "source": [
    "# посмотрим на распределение по городам\n",
    "# построим график\n",
    "dt_users['city'].value_counts().plot.bar(figsize=(10, 10), legend=True, grid=True)\n",
    "plt.title('Распределение пользователей по городам')\n",
    "plt.show()"
   ]
  },
  {
   "cell_type": "code",
   "execution_count": 18,
   "id": "08ccbe38",
   "metadata": {},
   "outputs": [
    {
     "data": {
      "text/plain": [
       "Пятигорск         219\n",
       "Екатеринбург      204\n",
       "Ростов-на-Дону    198\n",
       "Краснодар         193\n",
       "Сочи              189\n",
       "Омск              183\n",
       "Тюмень            180\n",
       "Москва            168\n",
       "Name: city, dtype: int64"
      ]
     },
     "execution_count": 18,
     "metadata": {},
     "output_type": "execute_result"
    }
   ],
   "source": [
    "dt_users['city'].value_counts()"
   ]
  },
  {
   "cell_type": "markdown",
   "id": "c16e138b",
   "metadata": {},
   "source": [
    "В целом, по городам пользователи распределены равномерно. Только лишь падает значение в области Москвы и пик в области Пятигорска. Пользователи распределились по городам в диапазоне от 169 до 219."
   ]
  },
  {
   "cell_type": "markdown",
   "id": "63b80181",
   "metadata": {},
   "source": [
    "##### Соотношение пользователей с подпиской и без подписки"
   ]
  },
  {
   "cell_type": "code",
   "execution_count": 19,
   "id": "2541a6b1",
   "metadata": {
    "scrolled": false
   },
   "outputs": [
    {
     "data": {
      "image/png": "[encoded data removed]",
      "text/plain": [
       "<Figure size 576x576 with 1 Axes>"
      ]
     },
     "metadata": {},
     "output_type": "display_data"
    }
   ],
   "source": [
    "# построим гистограмму для типа подписки, необходимо посмотреть каких пользователей больше\n",
    "dt_users['subscription_type'].value_counts().plot(kind='pie', figsize=(8, 8))\n",
    "plt.title('Соотношение пользователей с подпиской и без')\n",
    "plt.show()"
   ]
  },
  {
   "cell_type": "markdown",
   "id": "bbe2432d",
   "metadata": {},
   "source": [
    "Пользователей без подписки больше, но ненамного."
   ]
  },
  {
   "cell_type": "code",
   "execution_count": 20,
   "id": "ff1cf192",
   "metadata": {},
   "outputs": [
    {
     "data": {
      "text/plain": [
       "free     54.0\n",
       "ultra    46.0\n",
       "Name: subscription_type, dtype: float64"
      ]
     },
     "metadata": {},
     "output_type": "display_data"
    }
   ],
   "source": [
    "# посмотрим как распределются пользователи с подпиской и без в процентном соотношении\n",
    "sub_perc = dt_users['subscription_type'].value_counts()\n",
    "display(round(dt_users['subscription_type'].value_counts() / sub_perc.sum(), 2) * 100)"
   ]
  },
  {
   "cell_type": "markdown",
   "id": "4c3037e9",
   "metadata": {},
   "source": [
    "Как мы видим, пользователей без подписки примерно 54%, а с подпиской - 46%."
   ]
  },
  {
   "cell_type": "markdown",
   "id": "9da49ef9",
   "metadata": {},
   "source": [
    "##### Возраст пользователей"
   ]
  },
  {
   "cell_type": "code",
   "execution_count": 21,
   "id": "08de94ef",
   "metadata": {
    "scrolled": false
   },
   "outputs": [
    {
     "data": {
      "image/png": "[encoded data removed]",
      "text/plain": [
       "<Figure size 720x504 with 1 Axes>"
      ]
     },
     "metadata": {},
     "output_type": "display_data"
    }
   ],
   "source": [
    "# посмотрим, как распределяется возраст среди пользователей\n",
    "# построим для этого гистограмму\n",
    "dt_users['age'].hist(bins=30, range=(11,45))\n",
    "plt.show()"
   ]
  },
  {
   "cell_type": "code",
   "execution_count": 22,
   "id": "5084f5bb",
   "metadata": {},
   "outputs": [
    {
     "name": "stdout",
     "output_type": "stream",
     "text": [
      "Среднее равно 24.903520208604956\n",
      "Медиана равна 25.0\n"
     ]
    }
   ],
   "source": [
    "# также посмотрим на медиану и среднее\n",
    "print('Среднее равно', dt_users['age'].mean()) # среднее\n",
    "print('Медиана равна', dt_users['age'].median()) # медиана"
   ]
  },
  {
   "cell_type": "markdown",
   "id": "c1172e33",
   "metadata": {},
   "source": [
    "Возраст колеблется от 12 до 43 лет. Большинство пользователей имеют возраст от 19 до 29 лет.\n",
    "\n",
    "Медианное значение равно 25, а среднее 24.9. Они, по сути, равны, что говорит нам о том, что выбросов нет."
   ]
  },
  {
   "cell_type": "markdown",
   "id": "7d787a40",
   "metadata": {},
   "source": [
    "##### Расстояние, которое пользователь преодолел за одну поездку"
   ]
  },
  {
   "cell_type": "code",
   "execution_count": 23,
   "id": "d40eaa10",
   "metadata": {},
   "outputs": [
    {
     "data": {
      "text/plain": [
       "<AxesSubplot:>"
      ]
     },
     "execution_count": 23,
     "metadata": {},
     "output_type": "execute_result"
    },
    {
     "data": {
      "image/png": "[encoded data removed]",
      "text/plain": [
       "<Figure size 288x720 with 1 Axes>"
      ]
     },
     "metadata": {},
     "output_type": "display_data"
    }
   ],
   "source": [
    "# построим график размаха дистанций, которое преодолевали пользователи\n",
    "dt_rides.boxplot(column='distance', grid=True, figsize=(4, 10))"
   ]
  },
  {
   "cell_type": "code",
   "execution_count": 24,
   "id": "54f2dfac",
   "metadata": {},
   "outputs": [
    {
     "data": {
      "text/plain": [
       "<AxesSubplot:>"
      ]
     },
     "execution_count": 24,
     "metadata": {},
     "output_type": "execute_result"
    },
    {
     "data": {
      "image/png": "[encoded data removed]",
      "text/plain": [
       "<Figure size 432x432 with 1 Axes>"
      ]
     },
     "metadata": {},
     "output_type": "display_data"
    }
   ],
   "source": [
    "# также построим гистограмму\n",
    "dt_rides['distance'].hist(bins=50, grid=True, figsize=(6, 6))"
   ]
  },
  {
   "cell_type": "code",
   "execution_count": 25,
   "id": "c87ea4a8",
   "metadata": {},
   "outputs": [
    {
     "data": {
      "text/html": [
       "<div>\n",
       "<style scoped>\n",
       "    .dataframe tbody tr th:only-of-type {\n",
       "        vertical-align: middle;\n",
       "    }\n",
       "\n",
       "    .dataframe tbody tr th {\n",
       "        vertical-align: top;\n",
       "    }\n",
       "\n",
       "    .dataframe thead th {\n",
       "        text-align: right;\n",
       "    }\n",
       "</style>\n",
       "<table border=\"1\" class=\"dataframe\">\n",
       "  <thead>\n",
       "    <tr style=\"text-align: right;\">\n",
       "      <th></th>\n",
       "      <th>user_id</th>\n",
       "      <th>distance</th>\n",
       "      <th>duration</th>\n",
       "      <th>month</th>\n",
       "    </tr>\n",
       "  </thead>\n",
       "  <tbody>\n",
       "    <tr>\n",
       "      <th>count</th>\n",
       "      <td>18068.000000</td>\n",
       "      <td>18068.000000</td>\n",
       "      <td>18068.000000</td>\n",
       "      <td>18068.000000</td>\n",
       "    </tr>\n",
       "    <tr>\n",
       "      <th>mean</th>\n",
       "      <td>842.869936</td>\n",
       "      <td>3070.659976</td>\n",
       "      <td>17.805011</td>\n",
       "      <td>6.486772</td>\n",
       "    </tr>\n",
       "    <tr>\n",
       "      <th>std</th>\n",
       "      <td>434.734317</td>\n",
       "      <td>1116.831209</td>\n",
       "      <td>6.091051</td>\n",
       "      <td>3.437410</td>\n",
       "    </tr>\n",
       "    <tr>\n",
       "      <th>min</th>\n",
       "      <td>1.000000</td>\n",
       "      <td>0.855683</td>\n",
       "      <td>0.500000</td>\n",
       "      <td>1.000000</td>\n",
       "    </tr>\n",
       "    <tr>\n",
       "      <th>25%</th>\n",
       "      <td>487.000000</td>\n",
       "      <td>2543.226360</td>\n",
       "      <td>13.597563</td>\n",
       "      <td>4.000000</td>\n",
       "    </tr>\n",
       "    <tr>\n",
       "      <th>50%</th>\n",
       "      <td>889.000000</td>\n",
       "      <td>3133.609994</td>\n",
       "      <td>17.678395</td>\n",
       "      <td>6.000000</td>\n",
       "    </tr>\n",
       "    <tr>\n",
       "      <th>75%</th>\n",
       "      <td>1213.250000</td>\n",
       "      <td>3776.222735</td>\n",
       "      <td>21.724800</td>\n",
       "      <td>9.000000</td>\n",
       "    </tr>\n",
       "    <tr>\n",
       "      <th>max</th>\n",
       "      <td>1534.000000</td>\n",
       "      <td>7211.007745</td>\n",
       "      <td>40.823963</td>\n",
       "      <td>12.000000</td>\n",
       "    </tr>\n",
       "  </tbody>\n",
       "</table>\n",
       "</div>"
      ],
      "text/plain": [
       "            user_id      distance      duration         month\n",
       "count  18068.000000  18068.000000  18068.000000  18068.000000\n",
       "mean     842.869936   3070.659976     17.805011      6.486772\n",
       "std      434.734317   1116.831209      6.091051      3.437410\n",
       "min        1.000000      0.855683      0.500000      1.000000\n",
       "25%      487.000000   2543.226360     13.597563      4.000000\n",
       "50%      889.000000   3133.609994     17.678395      6.000000\n",
       "75%     1213.250000   3776.222735     21.724800      9.000000\n",
       "max     1534.000000   7211.007745     40.823963     12.000000"
      ]
     },
     "execution_count": 25,
     "metadata": {},
     "output_type": "execute_result"
    }
   ],
   "source": [
    "# изучим столбец distance из датафрейма dt_rides подробнее\n",
    "dt_rides.describe()"
   ]
  },
  {
   "cell_type": "markdown",
   "id": "a8cc7ab1",
   "metadata": {},
   "source": [
    "Большинство пользователей проезжают на арендованом самокате расстояние в диапазон от 2500 м до 3800 м. \n",
    "\n",
    "Есть пользователи, которые проезжают совсем небольшие расстояния. Думаю, это может быть связано либо с тем, что некоторые пользователи берут самокат в аренду, а у них не получается на нём ездить, либо с тем, что пользователи не могут где-то проехать, либо с технической проблемой в самом самокате.\n",
    "\n",
    "Есть пользователи, которые проезжают дистанцию более 5500 м.\n",
    "\n",
    "На гистограмме заметны два пика: в области 600-700 м и в области 3200 м. \n",
    "\n",
    "В целом, поездки можно разделить на длительные (более 2000 м) и короткие (менее 2000 м)."
   ]
  },
  {
   "cell_type": "markdown",
   "id": "9d98f9ee",
   "metadata": {},
   "source": [
    "##### Продолжительность поездки"
   ]
  },
  {
   "cell_type": "code",
   "execution_count": 26,
   "id": "ab1762d8",
   "metadata": {
    "scrolled": false
   },
   "outputs": [
    {
     "data": {
      "text/plain": [
       "<AxesSubplot:>"
      ]
     },
     "execution_count": 26,
     "metadata": {},
     "output_type": "execute_result"
    },
    {
     "data": {
      "image/png": "[encoded data removed]",
      "text/plain": [
       "<Figure size 288x720 with 1 Axes>"
      ]
     },
     "metadata": {},
     "output_type": "display_data"
    }
   ],
   "source": [
    "# построим график размаха продолжительности поездки\n",
    "dt_rides.boxplot(column='duration', grid=True, figsize=(4, 10))"
   ]
  },
  {
   "cell_type": "code",
   "execution_count": 27,
   "id": "cfa546b7",
   "metadata": {
    "scrolled": true
   },
   "outputs": [
    {
     "data": {
      "text/html": [
       "<div>\n",
       "<style scoped>\n",
       "    .dataframe tbody tr th:only-of-type {\n",
       "        vertical-align: middle;\n",
       "    }\n",
       "\n",
       "    .dataframe tbody tr th {\n",
       "        vertical-align: top;\n",
       "    }\n",
       "\n",
       "    .dataframe thead th {\n",
       "        text-align: right;\n",
       "    }\n",
       "</style>\n",
       "<table border=\"1\" class=\"dataframe\">\n",
       "  <thead>\n",
       "    <tr style=\"text-align: right;\">\n",
       "      <th></th>\n",
       "      <th>user_id</th>\n",
       "      <th>distance</th>\n",
       "      <th>duration</th>\n",
       "      <th>date</th>\n",
       "      <th>month</th>\n",
       "    </tr>\n",
       "  </thead>\n",
       "  <tbody>\n",
       "    <tr>\n",
       "      <th>90</th>\n",
       "      <td>1460</td>\n",
       "      <td>5531.335845</td>\n",
       "      <td>0.5</td>\n",
       "      <td>2021-01-19</td>\n",
       "      <td>1</td>\n",
       "    </tr>\n",
       "    <tr>\n",
       "      <th>91</th>\n",
       "      <td>1477</td>\n",
       "      <td>6724.932981</td>\n",
       "      <td>0.5</td>\n",
       "      <td>2021-01-12</td>\n",
       "      <td>1</td>\n",
       "    </tr>\n",
       "    <tr>\n",
       "      <th>92</th>\n",
       "      <td>1483</td>\n",
       "      <td>4445.481070</td>\n",
       "      <td>0.5</td>\n",
       "      <td>2021-03-06</td>\n",
       "      <td>3</td>\n",
       "    </tr>\n",
       "    <tr>\n",
       "      <th>93</th>\n",
       "      <td>1496</td>\n",
       "      <td>5722.551787</td>\n",
       "      <td>0.5</td>\n",
       "      <td>2021-02-14</td>\n",
       "      <td>2</td>\n",
       "    </tr>\n",
       "    <tr>\n",
       "      <th>94</th>\n",
       "      <td>1524</td>\n",
       "      <td>4103.998874</td>\n",
       "      <td>0.5</td>\n",
       "      <td>2021-06-18</td>\n",
       "      <td>6</td>\n",
       "    </tr>\n",
       "  </tbody>\n",
       "</table>\n",
       "</div>"
      ],
      "text/plain": [
       "    user_id     distance  duration       date  month\n",
       "90     1460  5531.335845       0.5 2021-01-19      1\n",
       "91     1477  6724.932981       0.5 2021-01-12      1\n",
       "92     1483  4445.481070       0.5 2021-03-06      3\n",
       "93     1496  5722.551787       0.5 2021-02-14      2\n",
       "94     1524  4103.998874       0.5 2021-06-18      6"
      ]
     },
     "metadata": {},
     "output_type": "display_data"
    }
   ],
   "source": [
    "# рассмотрим поездки длительностью менее 1 минуты\n",
    "rides_small = dt_rides.query('duration <= 1')\n",
    "rides_small.reset_index(drop= True , inplace= True )\n",
    "display(rides_small.tail(5))"
   ]
  },
  {
   "cell_type": "code",
   "execution_count": 28,
   "id": "ee5dff5d",
   "metadata": {},
   "outputs": [
    {
     "data": {
      "text/plain": [
       "<AxesSubplot:>"
      ]
     },
     "execution_count": 28,
     "metadata": {},
     "output_type": "execute_result"
    },
    {
     "data": {
      "image/png": "[encoded data removed]",
      "text/plain": [
       "<Figure size 720x504 with 1 Axes>"
      ]
     },
     "metadata": {},
     "output_type": "display_data"
    }
   ],
   "source": [
    "# посторим гистограмму\n",
    "rides_small['distance'].hist(bins=100)"
   ]
  },
  {
   "cell_type": "markdown",
   "id": "99cd099f",
   "metadata": {},
   "source": [
    "Интересно то, что все поездки длительносьбю менее 1 минуты имеют расстояние поездки более 4 км.. Скорее всего, ошибка приложени или ошибка при выгрузке/загрузке/сохранении данных. Удалим эти строки в исходных данных."
   ]
  },
  {
   "cell_type": "code",
   "execution_count": 29,
   "id": "5412c776",
   "metadata": {},
   "outputs": [
    {
     "name": "stdout",
     "output_type": "stream",
     "text": [
      "Строк в исходной таблице: 18068\n",
      "Строк в обновленной таблице: 17973\n"
     ]
    }
   ],
   "source": [
    "print('Строк в исходной таблице:', len(dt_rides))\n",
    "dt_rides = dt_rides.loc[dt_rides['duration'] > 1]\n",
    "dt_rides.reset_index(drop= True , inplace= True )\n",
    "print('Строк в обновленной таблице:', len(dt_rides))"
   ]
  },
  {
   "cell_type": "markdown",
   "id": "cbd70fe4",
   "metadata": {},
   "source": [
    "В целом, большинство пользователей берут самокат в аренду на длительность от 14 до 22 минут.\n",
    "\n",
    "Есть клиенты, использующие самокаты достаточно долго - более получаса за одну поездку."
   ]
  },
  {
   "cell_type": "markdown",
   "id": "570086aa",
   "metadata": {},
   "source": [
    "##### Вывод\n",
    "Проведя анализ данных, были сделаны следующие выводы:\n",
    "- Наиболее часто встречающийся город среди пользователей - Пятигорск, наименее - Москва.\n",
    "- Пользователей без подписки больше, их доля составляет 54%. Без подписки - 46%, соответственно.\n",
    "- Самому младшему пользователю 12 лет, самому старшему - 43 года. Большинство клиентов имеют возраст от 19 до 29 лет.\n",
    "- Самая короткая по расстоянию поездка - 0.86 м, самая длинная - более 7 км. Чаще всего на самокате за одну поездку проезжают 2500-3800 м.\n",
    "- Самая длительная поездка - 40 минут, самая короткая - менее минуты. Чаще всего за одну поездку самокат находится в действии от 14 до 22 минут.\n",
    "- Слишком короткие поездки по расстоянию и по продолжительности, скорее всего, связаны либо с технической проблемой в самом самокате, либо с тем, что пользователь передумал ехать."
   ]
  },
  {
   "cell_type": "markdown",
   "id": "4ef51331",
   "metadata": {},
   "source": [
    "#### Шаг 4. Объединение данных"
   ]
  },
  {
   "cell_type": "markdown",
   "id": "2a1f0112",
   "metadata": {},
   "source": [
    "##### Объединение данных"
   ]
  },
  {
   "cell_type": "code",
   "execution_count": 30,
   "id": "6bf288b5",
   "metadata": {
    "scrolled": false
   },
   "outputs": [
    {
     "name": "stdout",
     "output_type": "stream",
     "text": [
      "    user_id       name  age    city subscription_type     distance   duration  \\\n",
      "0         1       Кира   22  Тюмень             ultra  4409.919140  25.599769   \n",
      "1         1       Кира   22  Тюмень             ultra  2617.592153  15.816871   \n",
      "2         1       Кира   22  Тюмень             ultra   754.159807   6.232113   \n",
      "3         1       Кира   22  Тюмень             ultra  2694.783254  18.511000   \n",
      "4         1       Кира   22  Тюмень             ultra  4028.687306  26.265803   \n",
      "5         1       Кира   22  Тюмень             ultra  2770.890808  16.650138   \n",
      "6         1       Кира   22  Тюмень             ultra  3039.020292  14.927879   \n",
      "7         1       Кира   22  Тюмень             ultra  2842.118050  23.117468   \n",
      "8         1       Кира   22  Тюмень             ultra  3412.690668  15.238072   \n",
      "9         1       Кира   22  Тюмень             ultra   748.690645  15.041884   \n",
      "10        1       Кира   22  Тюмень             ultra  4031.020195  17.674448   \n",
      "11        1       Кира   22  Тюмень             ultra  2720.609748   9.529463   \n",
      "12        2  Станислав   31    Омск             ultra  3105.086678  24.307514   \n",
      "13        2  Станислав   31    Омск             ultra  3053.519401  11.543256   \n",
      "14        2  Станислав   31    Омск             ultra  4029.116927  25.109188   \n",
      "\n",
      "         date  month  minute_price  start_ride_price  subscription_fee  \n",
      "0  2021-01-01      1             6                 0               199  \n",
      "1  2021-01-18      1             6                 0               199  \n",
      "2  2021-04-20      4             6                 0               199  \n",
      "3  2021-08-11      8             6                 0               199  \n",
      "4  2021-08-28      8             6                 0               199  \n",
      "5  2021-10-09     10             6                 0               199  \n",
      "6  2021-10-19     10             6                 0               199  \n",
      "7  2021-11-06     11             6                 0               199  \n",
      "8  2021-11-14     11             6                 0               199  \n",
      "9  2021-11-22     11             6                 0               199  \n",
      "10 2021-12-14     12             6                 0               199  \n",
      "11 2021-12-22     12             6                 0               199  \n",
      "12 2021-03-15      3             6                 0               199  \n",
      "13 2021-03-18      3             6                 0               199  \n",
      "14 2021-03-23      3             6                 0               199  \n"
     ]
    }
   ],
   "source": [
    "# объеденим наши данные в одну таблицу\n",
    "data = dt_users.merge(dt_rides) # сначала объеденим таблицы dt_users и dt_rides\n",
    "\n",
    "data = data.merge(dt_subscriptions) # затем присоеденим третью таблицу\n",
    "\n",
    "print(data.head(15)) # проверим"
   ]
  },
  {
   "cell_type": "code",
   "execution_count": 31,
   "id": "cb4a1368",
   "metadata": {
    "scrolled": true
   },
   "outputs": [
    {
     "name": "stdout",
     "output_type": "stream",
     "text": [
      "Строк в таблицах до объединения: 17973\n",
      "Строк в таблицах после объединения: 17973\n"
     ]
    }
   ],
   "source": [
    "# проверим результаты объединения\n",
    "print('Строк в таблицах до объединения:', len(dt_rides))\n",
    "print('Строк в таблицах после объединения:', len(data))"
   ]
  },
  {
   "cell_type": "code",
   "execution_count": 32,
   "id": "3514943c",
   "metadata": {},
   "outputs": [
    {
     "data": {
      "text/plain": [
       "user_id              0\n",
       "name                 0\n",
       "age                  0\n",
       "city                 0\n",
       "subscription_type    0\n",
       "distance             0\n",
       "duration             0\n",
       "date                 0\n",
       "month                0\n",
       "minute_price         0\n",
       "start_ride_price     0\n",
       "subscription_fee     0\n",
       "dtype: int64"
      ]
     },
     "execution_count": 32,
     "metadata": {},
     "output_type": "execute_result"
    }
   ],
   "source": [
    "# по количеству строк всё сходится, теперь проверим, не появились ли пропуски\n",
    "data.isna().sum()"
   ]
  },
  {
   "cell_type": "code",
   "execution_count": 33,
   "id": "0a0da5fd",
   "metadata": {},
   "outputs": [
    {
     "data": {
      "text/plain": [
       "user_id      1534\n",
       "distance    17973\n",
       "duration    17973\n",
       "date          364\n",
       "month          12\n",
       "dtype: int64"
      ]
     },
     "metadata": {},
     "output_type": "display_data"
    },
    {
     "data": {
      "text/plain": [
       "user_id              1534\n",
       "name                  194\n",
       "age                    29\n",
       "city                    8\n",
       "subscription_type       2\n",
       "dtype: int64"
      ]
     },
     "metadata": {},
     "output_type": "display_data"
    },
    {
     "data": {
      "text/plain": [
       "subscription_type    2\n",
       "minute_price         2\n",
       "start_ride_price     2\n",
       "subscription_fee     2\n",
       "dtype: int64"
      ]
     },
     "metadata": {},
     "output_type": "display_data"
    },
    {
     "data": {
      "text/plain": [
       "user_id               1534\n",
       "name                   194\n",
       "age                     29\n",
       "city                     8\n",
       "subscription_type        2\n",
       "distance             17973\n",
       "duration             17973\n",
       "date                   364\n",
       "month                   12\n",
       "minute_price             2\n",
       "start_ride_price         2\n",
       "subscription_fee         2\n",
       "dtype: int64"
      ]
     },
     "metadata": {},
     "output_type": "display_data"
    }
   ],
   "source": [
    "# пропусков нет, проверим количество уникальных значений до объединения и после\n",
    "display(dt_rides.nunique())\n",
    "display(dt_users.nunique())\n",
    "display(dt_subscriptions.nunique())\n",
    "display(data.nunique())"
   ]
  },
  {
   "cell_type": "markdown",
   "id": "9edaf167",
   "metadata": {},
   "source": [
    "После объединения таблиц пропусков не появилось, все значения сохранились."
   ]
  },
  {
   "cell_type": "markdown",
   "id": "28a9f372",
   "metadata": {},
   "source": [
    "##### Создадим 2 таблицы: для пользователей с подпиской и без"
   ]
  },
  {
   "cell_type": "code",
   "execution_count": 34,
   "id": "9dcd4097",
   "metadata": {},
   "outputs": [],
   "source": [
    "# созадим еще 2 таблицы: первая с данными о пользователях с подпиской, а вторая - без подписки\n",
    "data_free = data.query(\"subscription_type == 'free'\") \n",
    "                       \n",
    "data_sub = data.query(\"subscription_type == 'ultra'\")"
   ]
  },
  {
   "cell_type": "code",
   "execution_count": 35,
   "id": "875eabe0",
   "metadata": {
    "scrolled": true
   },
   "outputs": [
    {
     "data": {
      "text/html": [
       "<div>\n",
       "<style scoped>\n",
       "    .dataframe tbody tr th:only-of-type {\n",
       "        vertical-align: middle;\n",
       "    }\n",
       "\n",
       "    .dataframe tbody tr th {\n",
       "        vertical-align: top;\n",
       "    }\n",
       "\n",
       "    .dataframe thead th {\n",
       "        text-align: right;\n",
       "    }\n",
       "</style>\n",
       "<table border=\"1\" class=\"dataframe\">\n",
       "  <thead>\n",
       "    <tr style=\"text-align: right;\">\n",
       "      <th></th>\n",
       "      <th>user_id</th>\n",
       "      <th>name</th>\n",
       "      <th>age</th>\n",
       "      <th>city</th>\n",
       "      <th>subscription_type</th>\n",
       "      <th>distance</th>\n",
       "      <th>duration</th>\n",
       "      <th>date</th>\n",
       "      <th>month</th>\n",
       "      <th>minute_price</th>\n",
       "      <th>start_ride_price</th>\n",
       "      <th>subscription_fee</th>\n",
       "    </tr>\n",
       "  </thead>\n",
       "  <tbody>\n",
       "    <tr>\n",
       "      <th>6500</th>\n",
       "      <td>700</td>\n",
       "      <td>Айдар</td>\n",
       "      <td>22</td>\n",
       "      <td>Омск</td>\n",
       "      <td>free</td>\n",
       "      <td>2515.690719</td>\n",
       "      <td>14.944286</td>\n",
       "      <td>2021-01-02</td>\n",
       "      <td>1</td>\n",
       "      <td>8</td>\n",
       "      <td>50</td>\n",
       "      <td>0</td>\n",
       "    </tr>\n",
       "    <tr>\n",
       "      <th>6501</th>\n",
       "      <td>700</td>\n",
       "      <td>Айдар</td>\n",
       "      <td>22</td>\n",
       "      <td>Омск</td>\n",
       "      <td>free</td>\n",
       "      <td>846.932642</td>\n",
       "      <td>16.234663</td>\n",
       "      <td>2021-02-01</td>\n",
       "      <td>2</td>\n",
       "      <td>8</td>\n",
       "      <td>50</td>\n",
       "      <td>0</td>\n",
       "    </tr>\n",
       "    <tr>\n",
       "      <th>6502</th>\n",
       "      <td>700</td>\n",
       "      <td>Айдар</td>\n",
       "      <td>22</td>\n",
       "      <td>Омск</td>\n",
       "      <td>free</td>\n",
       "      <td>4004.434142</td>\n",
       "      <td>20.016628</td>\n",
       "      <td>2021-02-04</td>\n",
       "      <td>2</td>\n",
       "      <td>8</td>\n",
       "      <td>50</td>\n",
       "      <td>0</td>\n",
       "    </tr>\n",
       "    <tr>\n",
       "      <th>6503</th>\n",
       "      <td>700</td>\n",
       "      <td>Айдар</td>\n",
       "      <td>22</td>\n",
       "      <td>Омск</td>\n",
       "      <td>free</td>\n",
       "      <td>1205.911290</td>\n",
       "      <td>9.782872</td>\n",
       "      <td>2021-02-10</td>\n",
       "      <td>2</td>\n",
       "      <td>8</td>\n",
       "      <td>50</td>\n",
       "      <td>0</td>\n",
       "    </tr>\n",
       "    <tr>\n",
       "      <th>6504</th>\n",
       "      <td>700</td>\n",
       "      <td>Айдар</td>\n",
       "      <td>22</td>\n",
       "      <td>Омск</td>\n",
       "      <td>free</td>\n",
       "      <td>3047.379435</td>\n",
       "      <td>17.427673</td>\n",
       "      <td>2021-02-14</td>\n",
       "      <td>2</td>\n",
       "      <td>8</td>\n",
       "      <td>50</td>\n",
       "      <td>0</td>\n",
       "    </tr>\n",
       "    <tr>\n",
       "      <th>6505</th>\n",
       "      <td>700</td>\n",
       "      <td>Айдар</td>\n",
       "      <td>22</td>\n",
       "      <td>Омск</td>\n",
       "      <td>free</td>\n",
       "      <td>4342.002254</td>\n",
       "      <td>22.368009</td>\n",
       "      <td>2021-02-23</td>\n",
       "      <td>2</td>\n",
       "      <td>8</td>\n",
       "      <td>50</td>\n",
       "      <td>0</td>\n",
       "    </tr>\n",
       "    <tr>\n",
       "      <th>6506</th>\n",
       "      <td>700</td>\n",
       "      <td>Айдар</td>\n",
       "      <td>22</td>\n",
       "      <td>Омск</td>\n",
       "      <td>free</td>\n",
       "      <td>3798.334905</td>\n",
       "      <td>18.243756</td>\n",
       "      <td>2021-03-03</td>\n",
       "      <td>3</td>\n",
       "      <td>8</td>\n",
       "      <td>50</td>\n",
       "      <td>0</td>\n",
       "    </tr>\n",
       "    <tr>\n",
       "      <th>6507</th>\n",
       "      <td>700</td>\n",
       "      <td>Айдар</td>\n",
       "      <td>22</td>\n",
       "      <td>Омск</td>\n",
       "      <td>free</td>\n",
       "      <td>2984.551206</td>\n",
       "      <td>15.424899</td>\n",
       "      <td>2021-04-09</td>\n",
       "      <td>4</td>\n",
       "      <td>8</td>\n",
       "      <td>50</td>\n",
       "      <td>0</td>\n",
       "    </tr>\n",
       "    <tr>\n",
       "      <th>6508</th>\n",
       "      <td>700</td>\n",
       "      <td>Айдар</td>\n",
       "      <td>22</td>\n",
       "      <td>Омск</td>\n",
       "      <td>free</td>\n",
       "      <td>3360.107141</td>\n",
       "      <td>16.765497</td>\n",
       "      <td>2021-06-12</td>\n",
       "      <td>6</td>\n",
       "      <td>8</td>\n",
       "      <td>50</td>\n",
       "      <td>0</td>\n",
       "    </tr>\n",
       "    <tr>\n",
       "      <th>6509</th>\n",
       "      <td>700</td>\n",
       "      <td>Айдар</td>\n",
       "      <td>22</td>\n",
       "      <td>Омск</td>\n",
       "      <td>free</td>\n",
       "      <td>2567.543847</td>\n",
       "      <td>11.312160</td>\n",
       "      <td>2021-06-23</td>\n",
       "      <td>6</td>\n",
       "      <td>8</td>\n",
       "      <td>50</td>\n",
       "      <td>0</td>\n",
       "    </tr>\n",
       "    <tr>\n",
       "      <th>6510</th>\n",
       "      <td>700</td>\n",
       "      <td>Айдар</td>\n",
       "      <td>22</td>\n",
       "      <td>Омск</td>\n",
       "      <td>free</td>\n",
       "      <td>4110.232038</td>\n",
       "      <td>15.807640</td>\n",
       "      <td>2021-07-08</td>\n",
       "      <td>7</td>\n",
       "      <td>8</td>\n",
       "      <td>50</td>\n",
       "      <td>0</td>\n",
       "    </tr>\n",
       "    <tr>\n",
       "      <th>6511</th>\n",
       "      <td>700</td>\n",
       "      <td>Айдар</td>\n",
       "      <td>22</td>\n",
       "      <td>Омск</td>\n",
       "      <td>free</td>\n",
       "      <td>288.974241</td>\n",
       "      <td>4.788112</td>\n",
       "      <td>2021-07-18</td>\n",
       "      <td>7</td>\n",
       "      <td>8</td>\n",
       "      <td>50</td>\n",
       "      <td>0</td>\n",
       "    </tr>\n",
       "    <tr>\n",
       "      <th>6512</th>\n",
       "      <td>700</td>\n",
       "      <td>Айдар</td>\n",
       "      <td>22</td>\n",
       "      <td>Омск</td>\n",
       "      <td>free</td>\n",
       "      <td>4071.654669</td>\n",
       "      <td>16.370546</td>\n",
       "      <td>2021-08-17</td>\n",
       "      <td>8</td>\n",
       "      <td>8</td>\n",
       "      <td>50</td>\n",
       "      <td>0</td>\n",
       "    </tr>\n",
       "    <tr>\n",
       "      <th>6513</th>\n",
       "      <td>700</td>\n",
       "      <td>Айдар</td>\n",
       "      <td>22</td>\n",
       "      <td>Омск</td>\n",
       "      <td>free</td>\n",
       "      <td>1920.188901</td>\n",
       "      <td>9.608453</td>\n",
       "      <td>2021-10-08</td>\n",
       "      <td>10</td>\n",
       "      <td>8</td>\n",
       "      <td>50</td>\n",
       "      <td>0</td>\n",
       "    </tr>\n",
       "    <tr>\n",
       "      <th>6514</th>\n",
       "      <td>700</td>\n",
       "      <td>Айдар</td>\n",
       "      <td>22</td>\n",
       "      <td>Омск</td>\n",
       "      <td>free</td>\n",
       "      <td>4402.389717</td>\n",
       "      <td>33.013035</td>\n",
       "      <td>2021-10-15</td>\n",
       "      <td>10</td>\n",
       "      <td>8</td>\n",
       "      <td>50</td>\n",
       "      <td>0</td>\n",
       "    </tr>\n",
       "  </tbody>\n",
       "</table>\n",
       "</div>"
      ],
      "text/plain": [
       "      user_id   name  age  city subscription_type     distance   duration  \\\n",
       "6500      700  Айдар   22  Омск              free  2515.690719  14.944286   \n",
       "6501      700  Айдар   22  Омск              free   846.932642  16.234663   \n",
       "6502      700  Айдар   22  Омск              free  4004.434142  20.016628   \n",
       "6503      700  Айдар   22  Омск              free  1205.911290   9.782872   \n",
       "6504      700  Айдар   22  Омск              free  3047.379435  17.427673   \n",
       "6505      700  Айдар   22  Омск              free  4342.002254  22.368009   \n",
       "6506      700  Айдар   22  Омск              free  3798.334905  18.243756   \n",
       "6507      700  Айдар   22  Омск              free  2984.551206  15.424899   \n",
       "6508      700  Айдар   22  Омск              free  3360.107141  16.765497   \n",
       "6509      700  Айдар   22  Омск              free  2567.543847  11.312160   \n",
       "6510      700  Айдар   22  Омск              free  4110.232038  15.807640   \n",
       "6511      700  Айдар   22  Омск              free   288.974241   4.788112   \n",
       "6512      700  Айдар   22  Омск              free  4071.654669  16.370546   \n",
       "6513      700  Айдар   22  Омск              free  1920.188901   9.608453   \n",
       "6514      700  Айдар   22  Омск              free  4402.389717  33.013035   \n",
       "\n",
       "           date  month  minute_price  start_ride_price  subscription_fee  \n",
       "6500 2021-01-02      1             8                50                 0  \n",
       "6501 2021-02-01      2             8                50                 0  \n",
       "6502 2021-02-04      2             8                50                 0  \n",
       "6503 2021-02-10      2             8                50                 0  \n",
       "6504 2021-02-14      2             8                50                 0  \n",
       "6505 2021-02-23      2             8                50                 0  \n",
       "6506 2021-03-03      3             8                50                 0  \n",
       "6507 2021-04-09      4             8                50                 0  \n",
       "6508 2021-06-12      6             8                50                 0  \n",
       "6509 2021-06-23      6             8                50                 0  \n",
       "6510 2021-07-08      7             8                50                 0  \n",
       "6511 2021-07-18      7             8                50                 0  \n",
       "6512 2021-08-17      8             8                50                 0  \n",
       "6513 2021-10-08     10             8                50                 0  \n",
       "6514 2021-10-15     10             8                50                 0  "
      ]
     },
     "metadata": {},
     "output_type": "display_data"
    },
    {
     "data": {
      "text/html": [
       "<div>\n",
       "<style scoped>\n",
       "    .dataframe tbody tr th:only-of-type {\n",
       "        vertical-align: middle;\n",
       "    }\n",
       "\n",
       "    .dataframe tbody tr th {\n",
       "        vertical-align: top;\n",
       "    }\n",
       "\n",
       "    .dataframe thead th {\n",
       "        text-align: right;\n",
       "    }\n",
       "</style>\n",
       "<table border=\"1\" class=\"dataframe\">\n",
       "  <thead>\n",
       "    <tr style=\"text-align: right;\">\n",
       "      <th></th>\n",
       "      <th>user_id</th>\n",
       "      <th>name</th>\n",
       "      <th>age</th>\n",
       "      <th>city</th>\n",
       "      <th>subscription_type</th>\n",
       "      <th>distance</th>\n",
       "      <th>duration</th>\n",
       "      <th>date</th>\n",
       "      <th>month</th>\n",
       "      <th>minute_price</th>\n",
       "      <th>start_ride_price</th>\n",
       "      <th>subscription_fee</th>\n",
       "    </tr>\n",
       "  </thead>\n",
       "  <tbody>\n",
       "    <tr>\n",
       "      <th>0</th>\n",
       "      <td>1</td>\n",
       "      <td>Кира</td>\n",
       "      <td>22</td>\n",
       "      <td>Тюмень</td>\n",
       "      <td>ultra</td>\n",
       "      <td>4409.919140</td>\n",
       "      <td>25.599769</td>\n",
       "      <td>2021-01-01</td>\n",
       "      <td>1</td>\n",
       "      <td>6</td>\n",
       "      <td>0</td>\n",
       "      <td>199</td>\n",
       "    </tr>\n",
       "    <tr>\n",
       "      <th>1</th>\n",
       "      <td>1</td>\n",
       "      <td>Кира</td>\n",
       "      <td>22</td>\n",
       "      <td>Тюмень</td>\n",
       "      <td>ultra</td>\n",
       "      <td>2617.592153</td>\n",
       "      <td>15.816871</td>\n",
       "      <td>2021-01-18</td>\n",
       "      <td>1</td>\n",
       "      <td>6</td>\n",
       "      <td>0</td>\n",
       "      <td>199</td>\n",
       "    </tr>\n",
       "    <tr>\n",
       "      <th>2</th>\n",
       "      <td>1</td>\n",
       "      <td>Кира</td>\n",
       "      <td>22</td>\n",
       "      <td>Тюмень</td>\n",
       "      <td>ultra</td>\n",
       "      <td>754.159807</td>\n",
       "      <td>6.232113</td>\n",
       "      <td>2021-04-20</td>\n",
       "      <td>4</td>\n",
       "      <td>6</td>\n",
       "      <td>0</td>\n",
       "      <td>199</td>\n",
       "    </tr>\n",
       "    <tr>\n",
       "      <th>3</th>\n",
       "      <td>1</td>\n",
       "      <td>Кира</td>\n",
       "      <td>22</td>\n",
       "      <td>Тюмень</td>\n",
       "      <td>ultra</td>\n",
       "      <td>2694.783254</td>\n",
       "      <td>18.511000</td>\n",
       "      <td>2021-08-11</td>\n",
       "      <td>8</td>\n",
       "      <td>6</td>\n",
       "      <td>0</td>\n",
       "      <td>199</td>\n",
       "    </tr>\n",
       "    <tr>\n",
       "      <th>4</th>\n",
       "      <td>1</td>\n",
       "      <td>Кира</td>\n",
       "      <td>22</td>\n",
       "      <td>Тюмень</td>\n",
       "      <td>ultra</td>\n",
       "      <td>4028.687306</td>\n",
       "      <td>26.265803</td>\n",
       "      <td>2021-08-28</td>\n",
       "      <td>8</td>\n",
       "      <td>6</td>\n",
       "      <td>0</td>\n",
       "      <td>199</td>\n",
       "    </tr>\n",
       "    <tr>\n",
       "      <th>5</th>\n",
       "      <td>1</td>\n",
       "      <td>Кира</td>\n",
       "      <td>22</td>\n",
       "      <td>Тюмень</td>\n",
       "      <td>ultra</td>\n",
       "      <td>2770.890808</td>\n",
       "      <td>16.650138</td>\n",
       "      <td>2021-10-09</td>\n",
       "      <td>10</td>\n",
       "      <td>6</td>\n",
       "      <td>0</td>\n",
       "      <td>199</td>\n",
       "    </tr>\n",
       "    <tr>\n",
       "      <th>6</th>\n",
       "      <td>1</td>\n",
       "      <td>Кира</td>\n",
       "      <td>22</td>\n",
       "      <td>Тюмень</td>\n",
       "      <td>ultra</td>\n",
       "      <td>3039.020292</td>\n",
       "      <td>14.927879</td>\n",
       "      <td>2021-10-19</td>\n",
       "      <td>10</td>\n",
       "      <td>6</td>\n",
       "      <td>0</td>\n",
       "      <td>199</td>\n",
       "    </tr>\n",
       "    <tr>\n",
       "      <th>7</th>\n",
       "      <td>1</td>\n",
       "      <td>Кира</td>\n",
       "      <td>22</td>\n",
       "      <td>Тюмень</td>\n",
       "      <td>ultra</td>\n",
       "      <td>2842.118050</td>\n",
       "      <td>23.117468</td>\n",
       "      <td>2021-11-06</td>\n",
       "      <td>11</td>\n",
       "      <td>6</td>\n",
       "      <td>0</td>\n",
       "      <td>199</td>\n",
       "    </tr>\n",
       "    <tr>\n",
       "      <th>8</th>\n",
       "      <td>1</td>\n",
       "      <td>Кира</td>\n",
       "      <td>22</td>\n",
       "      <td>Тюмень</td>\n",
       "      <td>ultra</td>\n",
       "      <td>3412.690668</td>\n",
       "      <td>15.238072</td>\n",
       "      <td>2021-11-14</td>\n",
       "      <td>11</td>\n",
       "      <td>6</td>\n",
       "      <td>0</td>\n",
       "      <td>199</td>\n",
       "    </tr>\n",
       "    <tr>\n",
       "      <th>9</th>\n",
       "      <td>1</td>\n",
       "      <td>Кира</td>\n",
       "      <td>22</td>\n",
       "      <td>Тюмень</td>\n",
       "      <td>ultra</td>\n",
       "      <td>748.690645</td>\n",
       "      <td>15.041884</td>\n",
       "      <td>2021-11-22</td>\n",
       "      <td>11</td>\n",
       "      <td>6</td>\n",
       "      <td>0</td>\n",
       "      <td>199</td>\n",
       "    </tr>\n",
       "    <tr>\n",
       "      <th>10</th>\n",
       "      <td>1</td>\n",
       "      <td>Кира</td>\n",
       "      <td>22</td>\n",
       "      <td>Тюмень</td>\n",
       "      <td>ultra</td>\n",
       "      <td>4031.020195</td>\n",
       "      <td>17.674448</td>\n",
       "      <td>2021-12-14</td>\n",
       "      <td>12</td>\n",
       "      <td>6</td>\n",
       "      <td>0</td>\n",
       "      <td>199</td>\n",
       "    </tr>\n",
       "    <tr>\n",
       "      <th>11</th>\n",
       "      <td>1</td>\n",
       "      <td>Кира</td>\n",
       "      <td>22</td>\n",
       "      <td>Тюмень</td>\n",
       "      <td>ultra</td>\n",
       "      <td>2720.609748</td>\n",
       "      <td>9.529463</td>\n",
       "      <td>2021-12-22</td>\n",
       "      <td>12</td>\n",
       "      <td>6</td>\n",
       "      <td>0</td>\n",
       "      <td>199</td>\n",
       "    </tr>\n",
       "    <tr>\n",
       "      <th>12</th>\n",
       "      <td>2</td>\n",
       "      <td>Станислав</td>\n",
       "      <td>31</td>\n",
       "      <td>Омск</td>\n",
       "      <td>ultra</td>\n",
       "      <td>3105.086678</td>\n",
       "      <td>24.307514</td>\n",
       "      <td>2021-03-15</td>\n",
       "      <td>3</td>\n",
       "      <td>6</td>\n",
       "      <td>0</td>\n",
       "      <td>199</td>\n",
       "    </tr>\n",
       "    <tr>\n",
       "      <th>13</th>\n",
       "      <td>2</td>\n",
       "      <td>Станислав</td>\n",
       "      <td>31</td>\n",
       "      <td>Омск</td>\n",
       "      <td>ultra</td>\n",
       "      <td>3053.519401</td>\n",
       "      <td>11.543256</td>\n",
       "      <td>2021-03-18</td>\n",
       "      <td>3</td>\n",
       "      <td>6</td>\n",
       "      <td>0</td>\n",
       "      <td>199</td>\n",
       "    </tr>\n",
       "    <tr>\n",
       "      <th>14</th>\n",
       "      <td>2</td>\n",
       "      <td>Станислав</td>\n",
       "      <td>31</td>\n",
       "      <td>Омск</td>\n",
       "      <td>ultra</td>\n",
       "      <td>4029.116927</td>\n",
       "      <td>25.109188</td>\n",
       "      <td>2021-03-23</td>\n",
       "      <td>3</td>\n",
       "      <td>6</td>\n",
       "      <td>0</td>\n",
       "      <td>199</td>\n",
       "    </tr>\n",
       "  </tbody>\n",
       "</table>\n",
       "</div>"
      ],
      "text/plain": [
       "    user_id       name  age    city subscription_type     distance   duration  \\\n",
       "0         1       Кира   22  Тюмень             ultra  4409.919140  25.599769   \n",
       "1         1       Кира   22  Тюмень             ultra  2617.592153  15.816871   \n",
       "2         1       Кира   22  Тюмень             ultra   754.159807   6.232113   \n",
       "3         1       Кира   22  Тюмень             ultra  2694.783254  18.511000   \n",
       "4         1       Кира   22  Тюмень             ultra  4028.687306  26.265803   \n",
       "5         1       Кира   22  Тюмень             ultra  2770.890808  16.650138   \n",
       "6         1       Кира   22  Тюмень             ultra  3039.020292  14.927879   \n",
       "7         1       Кира   22  Тюмень             ultra  2842.118050  23.117468   \n",
       "8         1       Кира   22  Тюмень             ultra  3412.690668  15.238072   \n",
       "9         1       Кира   22  Тюмень             ultra   748.690645  15.041884   \n",
       "10        1       Кира   22  Тюмень             ultra  4031.020195  17.674448   \n",
       "11        1       Кира   22  Тюмень             ultra  2720.609748   9.529463   \n",
       "12        2  Станислав   31    Омск             ultra  3105.086678  24.307514   \n",
       "13        2  Станислав   31    Омск             ultra  3053.519401  11.543256   \n",
       "14        2  Станислав   31    Омск             ultra  4029.116927  25.109188   \n",
       "\n",
       "         date  month  minute_price  start_ride_price  subscription_fee  \n",
       "0  2021-01-01      1             6                 0               199  \n",
       "1  2021-01-18      1             6                 0               199  \n",
       "2  2021-04-20      4             6                 0               199  \n",
       "3  2021-08-11      8             6                 0               199  \n",
       "4  2021-08-28      8             6                 0               199  \n",
       "5  2021-10-09     10             6                 0               199  \n",
       "6  2021-10-19     10             6                 0               199  \n",
       "7  2021-11-06     11             6                 0               199  \n",
       "8  2021-11-14     11             6                 0               199  \n",
       "9  2021-11-22     11             6                 0               199  \n",
       "10 2021-12-14     12             6                 0               199  \n",
       "11 2021-12-22     12             6                 0               199  \n",
       "12 2021-03-15      3             6                 0               199  \n",
       "13 2021-03-18      3             6                 0               199  \n",
       "14 2021-03-23      3             6                 0               199  "
      ]
     },
     "metadata": {},
     "output_type": "display_data"
    }
   ],
   "source": [
    "# выведем данные таблицы для проверки\n",
    "display(data_free.head(15))\n",
    "\n",
    "display(data_sub.head(15))"
   ]
  },
  {
   "cell_type": "markdown",
   "id": "d333812f",
   "metadata": {},
   "source": [
    "##### Расстояние для каждой категории"
   ]
  },
  {
   "cell_type": "code",
   "execution_count": 36,
   "id": "d37e8968",
   "metadata": {},
   "outputs": [
    {
     "data": {
      "image/png": "[encoded data removed]",
      "text/plain": [
       "<Figure size 288x720 with 1 Axes>"
      ]
     },
     "metadata": {},
     "output_type": "display_data"
    },
    {
     "data": {
      "image/png": "[encoded data removed]",
      "text/plain": [
       "<Figure size 720x504 with 1 Axes>"
      ]
     },
     "metadata": {},
     "output_type": "display_data"
    }
   ],
   "source": [
    "# посмотрим на расстояние для категории с подпиской\n",
    "# построим график рахмаха и гистограмму\n",
    "data_sub.boxplot(column='distance', grid=True, figsize=(4, 10))\n",
    "plt.show()\n",
    "\n",
    "data_sub['distance'].hist(bins=50)\n",
    "plt.show()"
   ]
  },
  {
   "cell_type": "code",
   "execution_count": 37,
   "id": "4a53cdd1",
   "metadata": {},
   "outputs": [
    {
     "data": {
      "image/png": "[encoded data removed]",
      "text/plain": [
       "<Figure size 288x720 with 1 Axes>"
      ]
     },
     "metadata": {},
     "output_type": "display_data"
    },
    {
     "data": {
      "image/png": "[encoded data removed]",
      "text/plain": [
       "<Figure size 720x504 with 1 Axes>"
      ]
     },
     "metadata": {},
     "output_type": "display_data"
    }
   ],
   "source": [
    "# далее построим те же графики, но для пользователей без подписки\n",
    "data_free.boxplot(column='distance', grid=True, figsize=(4, 10))\n",
    "plt.show()\n",
    "\n",
    "data_free['distance'].hist(bins=50)\n",
    "plt.show()"
   ]
  },
  {
   "cell_type": "markdown",
   "id": "6f9930b2",
   "metadata": {},
   "source": [
    "Судя по графикам, большинство пользователей с подпиской проезжают расстояние от 2500 м до 4200 м. Пик приходится на расстояние 3000-3100 м.\n",
    "\n",
    "Без подписки пользователи совершают более длительные поездки - от 2000 м до 5000 м. Пик приходится на расстояние 2500-3800 м."
   ]
  },
  {
   "cell_type": "markdown",
   "id": "8cdff07b",
   "metadata": {},
   "source": [
    "##### Длительность поездки для каждой категории"
   ]
  },
  {
   "cell_type": "code",
   "execution_count": 38,
   "id": "01353ef9",
   "metadata": {},
   "outputs": [
    {
     "data": {
      "image/png": "[encoded data removed]",
      "text/plain": [
       "<Figure size 288x720 with 1 Axes>"
      ]
     },
     "metadata": {},
     "output_type": "display_data"
    },
    {
     "data": {
      "image/png": "[encoded data removed]",
      "text/plain": [
       "<Figure size 720x504 with 1 Axes>"
      ]
     },
     "metadata": {},
     "output_type": "display_data"
    }
   ],
   "source": [
    "# построим график размаха и гистограмму для пользователей с подпиской\n",
    "data_sub.boxplot(column='duration', grid=True, figsize=(4, 10))\n",
    "plt.show()\n",
    "\n",
    "data_sub['duration'].hist(bins=50)\n",
    "plt.show()"
   ]
  },
  {
   "cell_type": "code",
   "execution_count": 39,
   "id": "b729c109",
   "metadata": {},
   "outputs": [
    {
     "data": {
      "image/png": "[encoded data removed]",
      "text/plain": [
       "<Figure size 288x720 with 1 Axes>"
      ]
     },
     "metadata": {},
     "output_type": "display_data"
    },
    {
     "data": {
      "image/png": "[encoded data removed]",
      "text/plain": [
       "<Figure size 720x504 with 1 Axes>"
      ]
     },
     "metadata": {},
     "output_type": "display_data"
    }
   ],
   "source": [
    "# то же самое построим для пользователей без подписки\n",
    "data_free.boxplot(column='duration', grid=True, figsize=(4, 10))\n",
    "plt.show()\n",
    "\n",
    "data_free['duration'].hist(bins=50)\n",
    "plt.show()"
   ]
  },
  {
   "cell_type": "markdown",
   "id": "d60b3ae9",
   "metadata": {},
   "source": [
    "Пик времени для пользователей с подпиской приходится 13-21 минуту, большинство пользователей берут самокат как раз на этот период. Но есть и длительные поездки - более 30 минут.\n",
    "\n",
    "Пик времени для пользователей без подписки приходится на 12-21 минуту. Большинство пользователей без подписки берут самокат в аренду на 10-25 минут. Поездки более 35 минут отсутствуют, по сравнению с пользователями с подпиской."
   ]
  },
  {
   "cell_type": "markdown",
   "id": "a740c2c8",
   "metadata": {},
   "source": [
    "##### Вывод\n",
    "В данном разделе были выполнены следующие задачи и сделаны следующие выводы:\n",
    "- Было произведено объеденение данных в одну таблицу для более удобной работы. После объединения таблиц пропусков не появилось, все значения сохранились.\n",
    "- Также данные были разделены на две таблицы: пользователи с подпиской и пользователи без подписки.\n",
    "- Был проведен анализ и визуализация данных о длительности: большинство пользователей с подпиской совершают поездки расстоянием в 2500-4200 м и длительностью в 13-21 минуту. Пользователи без подписки совершают поездки расстоянием в 2000-5000 м и длительностью в 10-25 минуту.\n",
    "- Можно заметить, что пользователи без подписки совершают более дальние поездки, а пользователи с подпиской - более длительные."
   ]
  },
  {
   "cell_type": "markdown",
   "id": "402d620f",
   "metadata": {},
   "source": [
    "#### Шаг 5. Подсчёт выручки"
   ]
  },
  {
   "cell_type": "markdown",
   "id": "d5ab4bb7",
   "metadata": {},
   "source": [
    "##### Создадим датафрейм с агрегированными данными о поездках"
   ]
  },
  {
   "cell_type": "code",
   "execution_count": 40,
   "id": "b8e9e23a",
   "metadata": {},
   "outputs": [],
   "source": [
    "# так как деньги за минуту списываются после её начала, округлим длительность поездок до большего значения\n",
    "data['duration'] = np.ceil(data['duration'])"
   ]
  },
  {
   "cell_type": "code",
   "execution_count": 41,
   "id": "aae5a1f2",
   "metadata": {},
   "outputs": [
    {
     "data": {
      "text/html": [
       "<div>\n",
       "<style scoped>\n",
       "    .dataframe tbody tr th:only-of-type {\n",
       "        vertical-align: middle;\n",
       "    }\n",
       "\n",
       "    .dataframe tbody tr th {\n",
       "        vertical-align: top;\n",
       "    }\n",
       "\n",
       "    .dataframe thead th {\n",
       "        text-align: right;\n",
       "    }\n",
       "</style>\n",
       "<table border=\"1\" class=\"dataframe\">\n",
       "  <thead>\n",
       "    <tr style=\"text-align: right;\">\n",
       "      <th></th>\n",
       "      <th></th>\n",
       "      <th>distance</th>\n",
       "      <th>duration</th>\n",
       "      <th>count_trips</th>\n",
       "      <th>subscription_type</th>\n",
       "    </tr>\n",
       "    <tr>\n",
       "      <th>user_id</th>\n",
       "      <th>month</th>\n",
       "      <th></th>\n",
       "      <th></th>\n",
       "      <th></th>\n",
       "      <th></th>\n",
       "    </tr>\n",
       "  </thead>\n",
       "  <tbody>\n",
       "    <tr>\n",
       "      <th rowspan=\"5\" valign=\"top\">1</th>\n",
       "      <th>1</th>\n",
       "      <td>7027.511294</td>\n",
       "      <td>42.0</td>\n",
       "      <td>2</td>\n",
       "      <td>ultra</td>\n",
       "    </tr>\n",
       "    <tr>\n",
       "      <th>4</th>\n",
       "      <td>754.159807</td>\n",
       "      <td>7.0</td>\n",
       "      <td>1</td>\n",
       "      <td>ultra</td>\n",
       "    </tr>\n",
       "    <tr>\n",
       "      <th>8</th>\n",
       "      <td>6723.470560</td>\n",
       "      <td>46.0</td>\n",
       "      <td>2</td>\n",
       "      <td>ultra</td>\n",
       "    </tr>\n",
       "    <tr>\n",
       "      <th>10</th>\n",
       "      <td>5809.911100</td>\n",
       "      <td>32.0</td>\n",
       "      <td>2</td>\n",
       "      <td>ultra</td>\n",
       "    </tr>\n",
       "    <tr>\n",
       "      <th>11</th>\n",
       "      <td>7003.499363</td>\n",
       "      <td>56.0</td>\n",
       "      <td>3</td>\n",
       "      <td>ultra</td>\n",
       "    </tr>\n",
       "    <tr>\n",
       "      <th>...</th>\n",
       "      <th>...</th>\n",
       "      <td>...</td>\n",
       "      <td>...</td>\n",
       "      <td>...</td>\n",
       "      <td>...</td>\n",
       "    </tr>\n",
       "    <tr>\n",
       "      <th rowspan=\"5\" valign=\"top\">1534</th>\n",
       "      <th>6</th>\n",
       "      <td>3409.468534</td>\n",
       "      <td>26.0</td>\n",
       "      <td>2</td>\n",
       "      <td>free</td>\n",
       "    </tr>\n",
       "    <tr>\n",
       "      <th>8</th>\n",
       "      <td>7622.453034</td>\n",
       "      <td>48.0</td>\n",
       "      <td>2</td>\n",
       "      <td>free</td>\n",
       "    </tr>\n",
       "    <tr>\n",
       "      <th>9</th>\n",
       "      <td>4928.173852</td>\n",
       "      <td>23.0</td>\n",
       "      <td>1</td>\n",
       "      <td>free</td>\n",
       "    </tr>\n",
       "    <tr>\n",
       "      <th>11</th>\n",
       "      <td>13350.015305</td>\n",
       "      <td>78.0</td>\n",
       "      <td>4</td>\n",
       "      <td>free</td>\n",
       "    </tr>\n",
       "    <tr>\n",
       "      <th>12</th>\n",
       "      <td>2371.711192</td>\n",
       "      <td>16.0</td>\n",
       "      <td>1</td>\n",
       "      <td>free</td>\n",
       "    </tr>\n",
       "  </tbody>\n",
       "</table>\n",
       "<p>11300 rows × 4 columns</p>\n",
       "</div>"
      ],
      "text/plain": [
       "                   distance  duration  count_trips subscription_type\n",
       "user_id month                                                       \n",
       "1       1       7027.511294      42.0            2             ultra\n",
       "        4        754.159807       7.0            1             ultra\n",
       "        8       6723.470560      46.0            2             ultra\n",
       "        10      5809.911100      32.0            2             ultra\n",
       "        11      7003.499363      56.0            3             ultra\n",
       "...                     ...       ...          ...               ...\n",
       "1534    6       3409.468534      26.0            2              free\n",
       "        8       7622.453034      48.0            2              free\n",
       "        9       4928.173852      23.0            1              free\n",
       "        11     13350.015305      78.0            4              free\n",
       "        12      2371.711192      16.0            1              free\n",
       "\n",
       "[11300 rows x 4 columns]"
      ]
     },
     "execution_count": 41,
     "metadata": {},
     "output_type": "execute_result"
    }
   ],
   "source": [
    "agg_data = pd.pivot_table(data, index=['user_id', 'month'], \\\n",
    "                          values = ['distance', 'duration', 'name', 'subscription_type'], \\\n",
    "                          aggfunc = {'distance': sum, 'duration' : sum, 'name' : len, 'subscription_type' : max})\n",
    "\n",
    "\n",
    "# переименуем столбец name на count_trips\n",
    "agg_data = agg_data.rename(columns={'name' : 'count_trips'})\n",
    "\n",
    "agg_data"
   ]
  },
  {
   "cell_type": "markdown",
   "id": "79ad04c6",
   "metadata": {},
   "source": [
    "##### Добавление столбца с месячной выручкой для каждого пользователя"
   ]
  },
  {
   "cell_type": "code",
   "execution_count": 42,
   "id": "40fc3b02",
   "metadata": {},
   "outputs": [],
   "source": [
    "# создадим функцию для подсчёта выручки по месяцам\n",
    "def mv(df):\n",
    "    if df['subscription_type'] == 'free':\n",
    "        return 8 * df['duration'] + 50 * df['count_trips'] # для пользователей без подписки умножаем цену минуты поездки \n",
    "    else:                                                  # на длительность и прибавляем количество поездок умноженное на цену старта  \n",
    "        return 6 * df['duration'] + 199                    # с подпиской: умножаем цену минуты на длительность плюс цена подписки"
   ]
  },
  {
   "cell_type": "code",
   "execution_count": 43,
   "id": "ea63de7a",
   "metadata": {
    "scrolled": false
   },
   "outputs": [
    {
     "data": {
      "text/html": [
       "<div>\n",
       "<style scoped>\n",
       "    .dataframe tbody tr th:only-of-type {\n",
       "        vertical-align: middle;\n",
       "    }\n",
       "\n",
       "    .dataframe tbody tr th {\n",
       "        vertical-align: top;\n",
       "    }\n",
       "\n",
       "    .dataframe thead th {\n",
       "        text-align: right;\n",
       "    }\n",
       "</style>\n",
       "<table border=\"1\" class=\"dataframe\">\n",
       "  <thead>\n",
       "    <tr style=\"text-align: right;\">\n",
       "      <th></th>\n",
       "      <th></th>\n",
       "      <th>distance</th>\n",
       "      <th>duration</th>\n",
       "      <th>count_trips</th>\n",
       "      <th>subscription_type</th>\n",
       "      <th>monthly_revenue</th>\n",
       "    </tr>\n",
       "    <tr>\n",
       "      <th>user_id</th>\n",
       "      <th>month</th>\n",
       "      <th></th>\n",
       "      <th></th>\n",
       "      <th></th>\n",
       "      <th></th>\n",
       "      <th></th>\n",
       "    </tr>\n",
       "  </thead>\n",
       "  <tbody>\n",
       "    <tr>\n",
       "      <th rowspan=\"5\" valign=\"top\">1</th>\n",
       "      <th>1</th>\n",
       "      <td>7027.511294</td>\n",
       "      <td>42.0</td>\n",
       "      <td>2</td>\n",
       "      <td>ultra</td>\n",
       "      <td>451.0</td>\n",
       "    </tr>\n",
       "    <tr>\n",
       "      <th>4</th>\n",
       "      <td>754.159807</td>\n",
       "      <td>7.0</td>\n",
       "      <td>1</td>\n",
       "      <td>ultra</td>\n",
       "      <td>241.0</td>\n",
       "    </tr>\n",
       "    <tr>\n",
       "      <th>8</th>\n",
       "      <td>6723.470560</td>\n",
       "      <td>46.0</td>\n",
       "      <td>2</td>\n",
       "      <td>ultra</td>\n",
       "      <td>475.0</td>\n",
       "    </tr>\n",
       "    <tr>\n",
       "      <th>10</th>\n",
       "      <td>5809.911100</td>\n",
       "      <td>32.0</td>\n",
       "      <td>2</td>\n",
       "      <td>ultra</td>\n",
       "      <td>391.0</td>\n",
       "    </tr>\n",
       "    <tr>\n",
       "      <th>11</th>\n",
       "      <td>7003.499363</td>\n",
       "      <td>56.0</td>\n",
       "      <td>3</td>\n",
       "      <td>ultra</td>\n",
       "      <td>535.0</td>\n",
       "    </tr>\n",
       "    <tr>\n",
       "      <th>...</th>\n",
       "      <th>...</th>\n",
       "      <td>...</td>\n",
       "      <td>...</td>\n",
       "      <td>...</td>\n",
       "      <td>...</td>\n",
       "      <td>...</td>\n",
       "    </tr>\n",
       "    <tr>\n",
       "      <th rowspan=\"5\" valign=\"top\">1534</th>\n",
       "      <th>6</th>\n",
       "      <td>3409.468534</td>\n",
       "      <td>26.0</td>\n",
       "      <td>2</td>\n",
       "      <td>free</td>\n",
       "      <td>308.0</td>\n",
       "    </tr>\n",
       "    <tr>\n",
       "      <th>8</th>\n",
       "      <td>7622.453034</td>\n",
       "      <td>48.0</td>\n",
       "      <td>2</td>\n",
       "      <td>free</td>\n",
       "      <td>484.0</td>\n",
       "    </tr>\n",
       "    <tr>\n",
       "      <th>9</th>\n",
       "      <td>4928.173852</td>\n",
       "      <td>23.0</td>\n",
       "      <td>1</td>\n",
       "      <td>free</td>\n",
       "      <td>234.0</td>\n",
       "    </tr>\n",
       "    <tr>\n",
       "      <th>11</th>\n",
       "      <td>13350.015305</td>\n",
       "      <td>78.0</td>\n",
       "      <td>4</td>\n",
       "      <td>free</td>\n",
       "      <td>824.0</td>\n",
       "    </tr>\n",
       "    <tr>\n",
       "      <th>12</th>\n",
       "      <td>2371.711192</td>\n",
       "      <td>16.0</td>\n",
       "      <td>1</td>\n",
       "      <td>free</td>\n",
       "      <td>178.0</td>\n",
       "    </tr>\n",
       "  </tbody>\n",
       "</table>\n",
       "<p>11300 rows × 5 columns</p>\n",
       "</div>"
      ],
      "text/plain": [
       "                   distance  duration  count_trips subscription_type  \\\n",
       "user_id month                                                          \n",
       "1       1       7027.511294      42.0            2             ultra   \n",
       "        4        754.159807       7.0            1             ultra   \n",
       "        8       6723.470560      46.0            2             ultra   \n",
       "        10      5809.911100      32.0            2             ultra   \n",
       "        11      7003.499363      56.0            3             ultra   \n",
       "...                     ...       ...          ...               ...   \n",
       "1534    6       3409.468534      26.0            2              free   \n",
       "        8       7622.453034      48.0            2              free   \n",
       "        9       4928.173852      23.0            1              free   \n",
       "        11     13350.015305      78.0            4              free   \n",
       "        12      2371.711192      16.0            1              free   \n",
       "\n",
       "               monthly_revenue  \n",
       "user_id month                   \n",
       "1       1                451.0  \n",
       "        4                241.0  \n",
       "        8                475.0  \n",
       "        10               391.0  \n",
       "        11               535.0  \n",
       "...                        ...  \n",
       "1534    6                308.0  \n",
       "        8                484.0  \n",
       "        9                234.0  \n",
       "        11               824.0  \n",
       "        12               178.0  \n",
       "\n",
       "[11300 rows x 5 columns]"
      ]
     },
     "execution_count": 43,
     "metadata": {},
     "output_type": "execute_result"
    }
   ],
   "source": [
    "# добавим столбец monthly_revenue, применив функцю mv\n",
    "agg_data['monthly_revenue'] = agg_data.apply(mv, axis='columns')\n",
    "\n",
    "agg_data # проверим"
   ]
  },
  {
   "cell_type": "markdown",
   "id": "3565ccf2",
   "metadata": {},
   "source": [
    "##### Вывод\n",
    "- Была создана таблица с агрегированными данными: суммарное расстояние, количество поездок и суммарное время для каждого пользователя за каждый месяц.\n",
    "- Был добавлен столбец с выручкой за каждый месяц у каждого пользователя."
   ]
  },
  {
   "cell_type": "markdown",
   "id": "41545ac0",
   "metadata": {},
   "source": [
    "#### Шаг 6. Проверка гипотез"
   ]
  },
  {
   "cell_type": "markdown",
   "id": "fa6dc621",
   "metadata": {},
   "source": [
    "##### Тратят ли пользователи с подпиской больше времени на поездки"
   ]
  },
  {
   "cell_type": "markdown",
   "id": "4f714c39",
   "metadata": {},
   "source": [
    "Необходимо проверить гипотезу: пользователи с подпиской тратят больше времени на поездки, чем пользователи без подписки.\n",
    "- H0: Время подписчиков = время пользователей без подписки\n",
    "- H1: Время подписчиков > время пользователей без подписки\n",
    "\n",
    "Альтернативная гипотеза у нас правосторонняя.\n",
    "\n",
    "Статистическу значимость (alpha) примем за 0.05 (5%)\n",
    "\n",
    "Так как данных не слишком много, то будем брать генеральные совокупности, а не выборки."
   ]
  },
  {
   "cell_type": "code",
   "execution_count": 44,
   "id": "932a9e80",
   "metadata": {
    "scrolled": true
   },
   "outputs": [
    {
     "name": "stdout",
     "output_type": "stream",
     "text": [
      "Pvalue равно: 4.704468074453899e-28\n",
      "Отвергаем нулевую гипотезу\n"
     ]
    }
   ],
   "source": [
    "# будем сравнивать две генеральные совокупности\n",
    "sub = data_sub['duration'] # первая генеральная совокупность\n",
    "free = data_free['duration'] # вторая генеральная совокупность\n",
    "\n",
    "alpha = 0.05 # уровень статистической значимости\n",
    "\n",
    "results = st.ttest_ind(sub, free, alternative='greater') # проводим ttest  с альтернативной правосторонней гипотезой (больше)\n",
    "\n",
    "print('Pvalue равно:', results.pvalue)\n",
    "\n",
    "# далее сравним pvalue с уровнем статистической значимости\n",
    "if results.pvalue < alpha:\n",
    "    print('Отвергаем нулевую гипотезу')\n",
    "else:\n",
    "    print('Нет оснований отвергнуть нулевую гипотезу')\n"
   ]
  },
  {
   "cell_type": "markdown",
   "id": "e0068ca0",
   "metadata": {},
   "source": [
    "Есть основания говорить, что пользователи с подпиской тратят в сервисе больше времени на поездки. Соответственно, пользователи с подпиской могут быть \"выгоднее\" для компании."
   ]
  },
  {
   "cell_type": "markdown",
   "id": "a90cfeee",
   "metadata": {},
   "source": [
    "##### Расстояние поездки в 3130 м"
   ]
  },
  {
   "cell_type": "markdown",
   "id": "ecb4cbcf",
   "metadata": {},
   "source": [
    "Следует проверить гипотезу: среднее расстояние, которое проезжают пользователи с подпиской за одну поездку, не превышает \n",
    "3130 метров.\n",
    "- H0: Среднее расстояние пользователей по подписке = 3130\n",
    "- H1: Среднее расстояние пользователей по подписке > 3130\n",
    "\n",
    "Статистическу значимость (alpha) примем за 0.05 (5%)"
   ]
  },
  {
   "cell_type": "code",
   "execution_count": 45,
   "id": "8e0d43fe",
   "metadata": {
    "scrolled": true
   },
   "outputs": [
    {
     "name": "stdout",
     "output_type": "stream",
     "text": [
      "Pvalue равно: 0.9195368847849785\n",
      "Нет оснований отвергнуть нулевую гипотезу\n"
     ]
    }
   ],
   "source": [
    "sub_dist = data_sub['distance'] # генеральная выборка\n",
    "opt_dist = 3130 # оптимальное расстояние\n",
    "\n",
    "alpha = 0.05 # уровень статистической значимости\n",
    "\n",
    "results = st.ttest_1samp(sub_dist, opt_dist, alternative='greater') # проводим ttest  с альтернативной левосторонней гипотезой (меньше)\n",
    "\n",
    "print('Pvalue равно:', results.pvalue)\n",
    "\n",
    "# далее сравним pvalue с уровнем статистической значимости\n",
    "if results.pvalue < alpha:\n",
    "    print('Отвергаем нулевую гипотезу')\n",
    "else:\n",
    "    print('Нет оснований отвергнуть нулевую гипотезу')"
   ]
  },
  {
   "cell_type": "markdown",
   "id": "8c103cb1",
   "metadata": {},
   "source": [
    "Оснований отвергать нулевую гипотезу нет. Можно сказать, что среднее расстояние пользователей по подписке равно 3130 м. Соответственно, самокат не изнашивается раньше срока."
   ]
  },
  {
   "cell_type": "markdown",
   "id": "9d2138aa",
   "metadata": {},
   "source": [
    "##### Помесячная выручка пользователей с подпиской и без"
   ]
  },
  {
   "cell_type": "markdown",
   "id": "fa903c62",
   "metadata": {},
   "source": [
    "Необходимо проверить гипотезу: помесячная выручка от пользователей с подпиской по месяцам выше, чем выручка от пользователей без подписки.\n",
    "- H0: Помесячная выручка от пользователей с подпиской = помесяная выручка от пользователей без подписки\n",
    "- H1: Помесячная выручка от пользователей с подпиской > помесяная выручка от пользователей без подписки\n",
    "\n",
    "Статистическу значимость (alpha) примем за 0.05 (5%)"
   ]
  },
  {
   "cell_type": "code",
   "execution_count": 46,
   "id": "7bb8abb1",
   "metadata": {},
   "outputs": [
    {
     "name": "stdout",
     "output_type": "stream",
     "text": [
      "Pvalue равно: 2.0314113674863288e-30\n",
      "Отвергаем нулевую гипотезу\n"
     ]
    }
   ],
   "source": [
    "# будем сравнивать две генеральные совокупности\n",
    "sub_r = agg_data.query('subscription_type == \"ultra\"')\n",
    "free_r = agg_data.query('subscription_type == \"free\"')\n",
    "\n",
    "sub_rev = sub_r['monthly_revenue'] # первая генеральная выборка\n",
    "free_rev = free_r['monthly_revenue'] # вторая генеральная выборка\n",
    "\n",
    "alpha = 0.05 # уровень статистической значимости\n",
    "\n",
    "results = st.ttest_ind(sub_rev, free_rev, alternative='greater') # проводим ttest  с альтернативной правосторонней гипотезой (больше)\n",
    "\n",
    "print('Pvalue равно:', results.pvalue)\n",
    "\n",
    "# далее сравним pvalue с уровнем статистической значимости\n",
    "if results.pvalue < alpha:\n",
    "    print('Отвергаем нулевую гипотезу')\n",
    "else:\n",
    "    print('Нет оснований отвергнуть нулевую гипотезу')"
   ]
  },
  {
   "cell_type": "markdown",
   "id": "230e7f22",
   "metadata": {},
   "source": [
    "Нулевая гипотеза отвергается. Есть основания полагать, что пользователи с подпиской  приносят больше выручки, чем пользователи без подписки."
   ]
  },
  {
   "cell_type": "markdown",
   "id": "dc9001d8",
   "metadata": {},
   "source": [
    "##### Вопрос, связанный с обновлением сервера"
   ]
  },
  {
   "cell_type": "markdown",
   "id": "005e2ab7",
   "metadata": {},
   "source": [
    "Представьте такую ситуацию: техническая команда сервиса обновила сервера, с которыми взаимодействует мобильное приложение. Она надеется, что из-за этого количество обращений в техподдержку значимо снизилось. Некоторый файл содержит для каждого пользователя данные о количестве обращений до обновления и после него. Какой тест вам понадобился бы для проверки этой гипотезы?"
   ]
  },
  {
   "cell_type": "markdown",
   "id": "d6fe1184",
   "metadata": {},
   "source": [
    "В данном случае гипотезы будут выглядеть следующим образом:\n",
    "- H0: Количество обращений после обновления = количество обращений до обновление\n",
    "- H1: Количество обращений после обновления != количество обращений до обновления\n",
    "\n",
    "Для данной ситуации понадобился бы тест для проверки гипотезы о равенстве средних для зависимых (парных) выборок, так как мы анализируем одну генеральную совокупность, с которой произошли некоторые изменения: st.ttest_rel (scipy.stats.ttest_rel())"
   ]
  },
  {
   "cell_type": "markdown",
   "id": "0aed5e34",
   "metadata": {},
   "source": [
    "##### Вывод\n",
    "После проверки гипотез были сделаны следующие выводы:\n",
    "- Есть основания говорить, что пользователи с подпиской тратят в сервисе больше времени на поездки. Соответственно, пользователи с подпиской могут быть \"выгоднее\" для компании.\n",
    "- Среднее расстояние пользователей по подписке не превышает 3130 м. Соответственно, самокат не изнашивается раньше срока.\n",
    "- Пользователи с подпиской приносят больше выручки, чем пользователи без подписки."
   ]
  },
  {
   "cell_type": "markdown",
   "id": "61213c5e",
   "metadata": {},
   "source": [
    "#### Шаг 7. Распределения"
   ]
  },
  {
   "cell_type": "markdown",
   "id": "7ace3e84",
   "metadata": {},
   "source": [
    "##### Push-уведомления"
   ]
  },
  {
   "cell_type": "markdown",
   "id": "17321a5e",
   "metadata": {},
   "source": [
    "Известно, что уведомления открывают около 40% получивших клиентов. \n",
    "Отдел планирует разослать 1 млн уведомлений. \n",
    "Следует оценить вероятность того, что уведомление откроют не более 399,5 тыс. пользователей."
   ]
  },
  {
   "cell_type": "markdown",
   "id": "86f4bc31",
   "metadata": {},
   "source": [
    "В данном случае необходимо биномиальное распределение аппроксимировать нормалным распределением.\n",
    "\n",
    "В нашем случае n = 1 млн (количество экспериментов по схеме Бернулли) и p = 0.4 (вероятность успеха в каждом испытании)."
   ]
  },
  {
   "cell_type": "code",
   "execution_count": 47,
   "id": "990e9e47",
   "metadata": {
    "scrolled": true
   },
   "outputs": [
    {
     "data": {
      "image/png": "[encoded data removed]",
      "text/plain": [
       "<Figure size 720x504 with 1 Axes>"
      ]
     },
     "metadata": {},
     "output_type": "display_data"
    },
    {
     "name": "stdout",
     "output_type": "stream",
     "text": [
      "Условие выполняется\n"
     ]
    }
   ],
   "source": [
    "# зададим функцию, которая понадобится для визуализации нормального распределения\n",
    "def linspace(start, stop, num):\n",
    "    step = (stop - start) / (num - 1)\n",
    "    result = []\n",
    "    for i in range(num):\n",
    "        result.append(start + step * i)\n",
    "    return result\n",
    "\n",
    "n = 1000000\n",
    "p = 0.4\n",
    "\n",
    "# посчитаем границы промежутка, в котором будем строить аппроксимацию\n",
    "left = int(n * p - 4 * sqrt(n * p * (1 - p)))\n",
    "right = int(n * p + 4 * sqrt(n * p * (1 - p)))\n",
    "\n",
    "# зададим набор значений биномиальной величины на выбранном промежутке: все неотрицательные целые числа от left до right\n",
    "x = list(range(max(0, left), right))\n",
    "\n",
    "# рисуем график биномиального распределения\n",
    "ax = plt.subplot()\n",
    "# используем синие о-образные маркеры и размер маркера 5\n",
    "ax.plot(x, binom.pmf(x, n, p), 'bo', ms=1, label='вероятности биномиального распределения')\n",
    "\n",
    "# зададим параметры нормального распределения равными мат.ожиданию и дисперсии биномиального распределения\n",
    "mu = n * p\n",
    "sigma = sqrt(n * p * (1 - p))\n",
    " \n",
    "# рисуем график нормального распределения: получим список из 100 чисел от left до right\n",
    "x = linspace(left, right, 100)\n",
    "# используем красную линию ширины 3 и прозрачности 0.3\n",
    "ax.plot(x, norm.pdf(x, mu, sigma), 'r-', lw=3, alpha=0.3, label='плотность вероятности нормального распределения')\n",
    " \n",
    "# зададим подписи по оси x в пределах 3 ст.отклонений от мат.ожидания\n",
    "x_ticks = list(range(int(mu - 3 * sigma), int(mu + 3 * sigma), 1))\n",
    "ax.set_xticks(x_ticks)\n",
    "ax.legend(loc='lower center', fontsize=9)\n",
    "plt.show()\n",
    "\n",
    "# выводим, выполняется ли наше условие аппроксимации:\n",
    "# лежит ли mu ± 3 sigma в промежутке от 0 до n:\n",
    "if (mu - (3 * sigma) >= 0) and ((mu + (3 * sigma) <= n)):\n",
    "    print('Условие выполняется')\n",
    "else:\n",
    "    print('Условие не выполняется')"
   ]
  },
  {
   "cell_type": "markdown",
   "id": "4b2c0f52",
   "metadata": {},
   "source": [
    "Для того, чтобы оценить вероятность того, что уведомление откроют не более 399,5 тыс пользователей, будем использовать функцию cdf()."
   ]
  },
  {
   "cell_type": "code",
   "execution_count": 48,
   "id": "22297815",
   "metadata": {},
   "outputs": [
    {
     "name": "stdout",
     "output_type": "stream",
     "text": [
      "0.15\n"
     ]
    }
   ],
   "source": [
    "distr = st.norm(mu, sigma) # задаем нормальное распределение\n",
    "\n",
    "# считаем вероятность хвоста слева от 399,5 тысяч\n",
    "result = distr.cdf(399500)\n",
    "print(round(result,2))"
   ]
  },
  {
   "cell_type": "markdown",
   "id": "732cc1c4",
   "metadata": {},
   "source": [
    "Вероятность получить менее 399,5 тысяч кликов равна 15%, что довольно немало. Думаю, следует разослать больше уведомлений. "
   ]
  },
  {
   "cell_type": "markdown",
   "id": "06153981",
   "metadata": {},
   "source": [
    "##### Вывод"
   ]
  },
  {
   "cell_type": "markdown",
   "id": "aef4d557",
   "metadata": {},
   "source": [
    "Вероятность получить менее 399,5 тыс кликов равна 15%, что по моему мнению достаточно много. Считаю, что отделу маркетинга следует разослать больше уведомлений, чтоб сократить вероятность невыполнения плана."
   ]
  },
  {
   "cell_type": "markdown",
   "id": "945f9c59",
   "metadata": {},
   "source": [
    "#### Шаг 8. Общий вывод"
   ]
  },
  {
   "cell_type": "markdown",
   "id": "77a43c4a",
   "metadata": {},
   "source": [
    "##### Выводы по пункту 1:\n",
    "- Было произведена выгрузка данных, а именно 3-х таблиц.\n",
    "- Был произведен просмотр основной информации о них."
   ]
  },
  {
   "cell_type": "markdown",
   "id": "4361b4db",
   "metadata": {},
   "source": [
    "##### Выводы по пункту 2:\n",
    "- В данных пропуски отсутствуют.\n",
    "- В таблице dt_users присутствовали дубликаты. Они были удалены.\n",
    "- Аномальные значения в данных отсутствуют.\n",
    "- Также к формату datetime был приведен столбец date из dt_rides и добавлен столбец month с номером месяца."
   ]
  },
  {
   "cell_type": "markdown",
   "id": "c85c3328",
   "metadata": {},
   "source": [
    "##### Выводы по пункту 3:\n",
    "Проведя анализ данных, были сделаны следующие выводы:\n",
    "- Наиболее часто встречающийся город среди пользователей - Пятигорск, наименее - Москва.\n",
    "- Пользователей без подписки больше, их доля составляет 54%. Без подписки - 46%, соответственно.\n",
    "- Самому младшему пользователю 12 лет, самому старшему - 43 года. Большинство клиентов имеют возраст от 19 до 29 лет.\n",
    "- Самая короткая по расстоянию поездка - 0.86 м, самая длинная - более 7 км. Чаще всего на самокате за одну поездку проезжают 2500-3800 м.\n",
    "- Самая длительная поездка - 40 минут, самая короткая - менее минуты. Чаще всего за одну поездку самокат находится в действии от 14 до 22 минут.\n",
    "- Были удалены поездки, длительность которых меньше 1 минуты, так как после проверки было выявлено, что дальность таких поездов более 4000 м, что, конечно же, является ошибкой."
   ]
  },
  {
   "cell_type": "markdown",
   "id": "69e95bd4",
   "metadata": {},
   "source": [
    "##### Выводы по пункту 4:\n",
    "\n",
    "- Было произведено объеденение данных в одну таблицу для более удобной работы. Пропусков не появилось, все значения сохранились.\n",
    "- Также данные были разделены на две таблицы: пользователи с подпиской и пользователи без подписки.\n",
    "- Был проведен анализ и визуализация данных о длительности: большинство пользователей с подпиской совершают поездки расстоянием в 2500-4200 м и длительностью в 13-21 минуту. Пользователи без подписки совершают поездки расстоянием в 2000-5000 м и длительностью в 10-25 минуту.\n",
    "- Можно заметить, что пользователи без подписки совершают более дальние поездки, а пользователи с подпиской - более длительные."
   ]
  },
  {
   "cell_type": "markdown",
   "id": "478c264b",
   "metadata": {},
   "source": [
    "##### Выводы по пункту 5:\n",
    "- Была создана таблица с агрегированными данными: суммарное расстояние, количество поездок и суммарное время для каждого пользователя за каждый месяц.\n",
    "- Был добавлен столбец с выручкой за каждый месяц у каждого пользователя."
   ]
  },
  {
   "cell_type": "markdown",
   "id": "0c1337e9",
   "metadata": {},
   "source": [
    "##### Выводы по пункту 6:\n",
    "В данном разделе были проверены следующие гипотезы:\n",
    "- пользователи с подпиской тратят больше времени на поездки, чем пользователи без подписки.\n",
    "- Среднее расстояние, которое проезжают пользователи с подпиской за одну поездку, не превышает 3130 метров.\n",
    "- Помесячная выручка от пользователей с подпиской по месяцам выше, чем выручка от пользователей без подписки.\n",
    "\n",
    "По итогам проверки данных гипотез были сделаны следующие выводы:\n",
    "- Есть основания говорить, что пользователи с подпиской тратят в сервисе больше времени на поездки. Соответственно, пользователи с подпиской могут быть \"выгоднее\" для компании.\n",
    "- Среднее расстояние пользователей по подписке равно 3130 м. Соответственно, самокат не изнашивается раньше срока.\n",
    "- Пользователи с подпиской приносят больше выручки, чем пользователи без подписки."
   ]
  },
  {
   "cell_type": "markdown",
   "id": "10e17487",
   "metadata": {},
   "source": [
    "##### Выводы по пункту 7:\n",
    "- Вероятность получить менее 399,5 тыс кликов равна 15%, что по моему мнению достаточно много. \n",
    "- Считаю, что отделу маркетинга следует разослать больше уведомлений, чтоб сократить вероятность невыполнения плана."
   ]
  },
  {
   "cell_type": "markdown",
   "id": "b2f2ab29",
   "metadata": {},
   "source": [
    "##### Заключение"
   ]
  },
  {
   "cell_type": "markdown",
   "id": "b74ea888",
   "metadata": {},
   "source": [
    "Исходя из результатов исследования, делаю вывод, что пользователи с подпиской являются более выгодными, так как:\n",
    "1. Было выявлено, что подписчики тратят в сервисе больше времени на поездки.\n",
    "2. По результатам проверки гипотезы было выявлено, что пользователи с подпиской приносят больше выручки, без пользователи без подписки.\n",
    "\n",
    "Считаю, что компании следует проводить акции для того, чтобы больше пользователей подключали подписку."
   ]
  }
 ],
 "metadata": {
  "ExecuteTimeLog": [
   {
    "duration": 1393,
    "start_time": "2023-09-20T06:46:15.651Z"
   },
   {
    "duration": 202,
    "start_time": "2023-09-20T06:46:17.046Z"
   },
   {
    "duration": 10,
    "start_time": "2023-09-20T06:46:17.250Z"
   },
   {
    "duration": 10,
    "start_time": "2023-09-20T06:46:40.057Z"
   },
   {
    "duration": 71,
    "start_time": "2023-09-20T06:47:33.037Z"
   },
   {
    "duration": 10,
    "start_time": "2023-09-20T06:47:35.532Z"
   },
   {
    "duration": 3,
    "start_time": "2023-09-20T06:47:43.959Z"
   },
   {
    "duration": 67,
    "start_time": "2023-09-20T06:47:44.551Z"
   },
   {
    "duration": 10,
    "start_time": "2023-09-20T06:47:45.021Z"
   },
   {
    "duration": 11,
    "start_time": "2023-09-20T06:47:45.387Z"
   },
   {
    "duration": 10,
    "start_time": "2023-09-20T06:48:10.415Z"
   },
   {
    "duration": 11,
    "start_time": "2023-09-20T06:48:26.255Z"
   },
   {
    "duration": 6,
    "start_time": "2023-09-20T06:48:58.602Z"
   },
   {
    "duration": 10,
    "start_time": "2023-09-20T06:49:07.328Z"
   },
   {
    "duration": 7,
    "start_time": "2023-09-20T06:53:12.129Z"
   },
   {
    "duration": 19,
    "start_time": "2023-09-20T06:53:32.665Z"
   },
   {
    "duration": 9,
    "start_time": "2023-09-20T06:55:17.487Z"
   },
   {
    "duration": 97,
    "start_time": "2023-09-20T06:55:34.665Z"
   },
   {
    "duration": 1050,
    "start_time": "2023-09-20T06:55:52.690Z"
   },
   {
    "duration": 73,
    "start_time": "2023-09-20T06:55:53.742Z"
   },
   {
    "duration": 13,
    "start_time": "2023-09-20T06:55:53.816Z"
   },
   {
    "duration": 40,
    "start_time": "2023-09-20T06:55:53.831Z"
   },
   {
    "duration": 45,
    "start_time": "2023-09-20T06:55:53.872Z"
   },
   {
    "duration": 41,
    "start_time": "2023-09-20T06:55:53.919Z"
   },
   {
    "duration": 21,
    "start_time": "2023-09-20T06:55:53.963Z"
   },
   {
    "duration": 75,
    "start_time": "2023-09-20T06:55:53.999Z"
   },
   {
    "duration": 15,
    "start_time": "2023-09-20T06:55:55.025Z"
   },
   {
    "duration": 10,
    "start_time": "2023-09-20T06:55:55.193Z"
   },
   {
    "duration": 5,
    "start_time": "2023-09-20T06:57:27.800Z"
   },
   {
    "duration": 8,
    "start_time": "2023-09-20T06:57:54.265Z"
   },
   {
    "duration": 12,
    "start_time": "2023-09-20T06:58:13.203Z"
   },
   {
    "duration": 10,
    "start_time": "2023-09-20T07:05:51.007Z"
   },
   {
    "duration": 115,
    "start_time": "2023-09-20T07:07:56.040Z"
   },
   {
    "duration": 6,
    "start_time": "2023-09-20T07:09:01.815Z"
   },
   {
    "duration": 12,
    "start_time": "2023-09-20T07:10:28.114Z"
   },
   {
    "duration": 14,
    "start_time": "2023-09-20T07:11:50.230Z"
   },
   {
    "duration": 7,
    "start_time": "2023-09-20T07:13:28.414Z"
   },
   {
    "duration": 9,
    "start_time": "2023-09-20T07:13:44.793Z"
   },
   {
    "duration": 8,
    "start_time": "2023-09-20T07:14:03.214Z"
   },
   {
    "duration": 5,
    "start_time": "2023-09-20T07:19:53.348Z"
   },
   {
    "duration": 5,
    "start_time": "2023-09-20T07:19:59.595Z"
   },
   {
    "duration": 157,
    "start_time": "2023-09-20T07:22:23.905Z"
   },
   {
    "duration": 21,
    "start_time": "2023-09-20T07:24:11.539Z"
   },
   {
    "duration": 8,
    "start_time": "2023-09-20T07:24:51.537Z"
   },
   {
    "duration": 159,
    "start_time": "2023-09-20T07:25:05.970Z"
   },
   {
    "duration": 255,
    "start_time": "2023-09-20T07:25:23.953Z"
   },
   {
    "duration": 1921,
    "start_time": "2023-09-20T07:28:32.934Z"
   },
   {
    "duration": 122,
    "start_time": "2023-09-20T07:28:40.040Z"
   },
   {
    "duration": 123,
    "start_time": "2023-09-20T07:28:50.897Z"
   },
   {
    "duration": 130,
    "start_time": "2023-09-20T07:29:17.990Z"
   },
   {
    "duration": 132,
    "start_time": "2023-09-20T07:31:08.594Z"
   },
   {
    "duration": 145,
    "start_time": "2023-09-20T07:31:19.713Z"
   },
   {
    "duration": 104,
    "start_time": "2023-09-20T07:34:19.462Z"
   },
   {
    "duration": 2,
    "start_time": "2023-09-20T07:36:35.459Z"
   },
   {
    "duration": 40,
    "start_time": "2023-09-20T07:40:09.275Z"
   },
   {
    "duration": 143,
    "start_time": "2023-09-20T07:46:29.364Z"
   },
   {
    "duration": 141,
    "start_time": "2023-09-20T07:47:29.899Z"
   },
   {
    "duration": 88,
    "start_time": "2023-09-20T07:48:25.628Z"
   },
   {
    "duration": 86,
    "start_time": "2023-09-20T07:48:31.971Z"
   },
   {
    "duration": 19,
    "start_time": "2023-09-20T07:52:56.008Z"
   },
   {
    "duration": 4,
    "start_time": "2023-09-20T07:53:09.065Z"
   },
   {
    "duration": 15,
    "start_time": "2023-09-20T07:54:03.310Z"
   },
   {
    "duration": 14,
    "start_time": "2023-09-20T07:54:16.475Z"
   },
   {
    "duration": 25,
    "start_time": "2023-09-20T07:54:45.271Z"
   },
   {
    "duration": 25,
    "start_time": "2023-09-20T07:55:15.748Z"
   },
   {
    "duration": 1491,
    "start_time": "2023-09-20T16:22:45.223Z"
   },
   {
    "duration": 264,
    "start_time": "2023-09-20T16:22:46.716Z"
   },
   {
    "duration": 21,
    "start_time": "2023-09-20T16:22:46.982Z"
   },
   {
    "duration": 14,
    "start_time": "2023-09-20T16:22:47.007Z"
   },
   {
    "duration": 55,
    "start_time": "2023-09-20T16:22:47.023Z"
   },
   {
    "duration": 17,
    "start_time": "2023-09-20T16:22:47.081Z"
   },
   {
    "duration": 38,
    "start_time": "2023-09-20T16:22:47.100Z"
   },
   {
    "duration": 22,
    "start_time": "2023-09-20T16:22:47.140Z"
   },
   {
    "duration": 56,
    "start_time": "2023-09-20T16:22:47.166Z"
   },
   {
    "duration": 8,
    "start_time": "2023-09-20T16:22:47.226Z"
   },
   {
    "duration": 45,
    "start_time": "2023-09-20T16:22:47.236Z"
   },
   {
    "duration": 17,
    "start_time": "2023-09-20T16:22:47.284Z"
   },
   {
    "duration": 14,
    "start_time": "2023-09-20T16:22:47.302Z"
   },
   {
    "duration": 10,
    "start_time": "2023-09-20T16:22:47.317Z"
   },
   {
    "duration": 9,
    "start_time": "2023-09-20T16:22:47.329Z"
   },
   {
    "duration": 55,
    "start_time": "2023-09-20T16:22:47.349Z"
   },
   {
    "duration": 189,
    "start_time": "2023-09-20T16:22:47.406Z"
   },
   {
    "duration": 122,
    "start_time": "2023-09-20T16:22:47.597Z"
   },
   {
    "duration": 133,
    "start_time": "2023-09-20T16:22:47.720Z"
   },
   {
    "duration": 0,
    "start_time": "2023-09-20T16:22:47.857Z"
   },
   {
    "duration": 37,
    "start_time": "2023-09-20T16:26:27.769Z"
   },
   {
    "duration": 174,
    "start_time": "2023-09-20T16:26:53.001Z"
   },
   {
    "duration": 28,
    "start_time": "2023-09-20T16:32:40.602Z"
   },
   {
    "duration": 1401,
    "start_time": "2023-09-20T16:38:17.693Z"
   },
   {
    "duration": 91,
    "start_time": "2023-09-20T16:38:19.096Z"
   },
   {
    "duration": 16,
    "start_time": "2023-09-20T16:38:19.189Z"
   },
   {
    "duration": 23,
    "start_time": "2023-09-20T16:38:19.207Z"
   },
   {
    "duration": 19,
    "start_time": "2023-09-20T16:38:19.233Z"
   },
   {
    "duration": 29,
    "start_time": "2023-09-20T16:38:19.253Z"
   },
   {
    "duration": 17,
    "start_time": "2023-09-20T16:38:19.284Z"
   },
   {
    "duration": 15,
    "start_time": "2023-09-20T16:38:19.302Z"
   },
   {
    "duration": 29,
    "start_time": "2023-09-20T16:38:19.319Z"
   },
   {
    "duration": 17,
    "start_time": "2023-09-20T16:38:19.356Z"
   },
   {
    "duration": 12,
    "start_time": "2023-09-20T16:38:19.374Z"
   },
   {
    "duration": 15,
    "start_time": "2023-09-20T16:38:19.388Z"
   },
   {
    "duration": 18,
    "start_time": "2023-09-20T16:38:19.405Z"
   },
   {
    "duration": 21,
    "start_time": "2023-09-20T16:38:19.451Z"
   },
   {
    "duration": 5,
    "start_time": "2023-09-20T16:38:19.474Z"
   },
   {
    "duration": 90,
    "start_time": "2023-09-20T16:38:19.482Z"
   },
   {
    "duration": 167,
    "start_time": "2023-09-20T16:38:19.574Z"
   },
   {
    "duration": 164,
    "start_time": "2023-09-20T16:38:19.743Z"
   },
   {
    "duration": 135,
    "start_time": "2023-09-20T16:38:19.909Z"
   },
   {
    "duration": 0,
    "start_time": "2023-09-20T16:38:20.047Z"
   },
   {
    "duration": 0,
    "start_time": "2023-09-20T16:38:20.049Z"
   },
   {
    "duration": 0,
    "start_time": "2023-09-20T16:38:20.050Z"
   },
   {
    "duration": 237,
    "start_time": "2023-09-20T16:38:28.472Z"
   },
   {
    "duration": 131,
    "start_time": "2023-09-20T16:38:29.843Z"
   },
   {
    "duration": 27,
    "start_time": "2023-09-20T16:38:30.114Z"
   },
   {
    "duration": 186,
    "start_time": "2023-09-20T16:38:48.876Z"
   },
   {
    "duration": 266,
    "start_time": "2023-09-20T16:39:44.929Z"
   },
   {
    "duration": 438,
    "start_time": "2023-09-20T16:39:57.636Z"
   },
   {
    "duration": 11,
    "start_time": "2023-09-20T16:46:03.711Z"
   },
   {
    "duration": 126,
    "start_time": "2023-09-20T16:46:19.888Z"
   },
   {
    "duration": 28,
    "start_time": "2023-09-20T16:48:21.087Z"
   },
   {
    "duration": 8,
    "start_time": "2023-09-20T16:49:20.104Z"
   },
   {
    "duration": 14,
    "start_time": "2023-09-20T16:49:27.902Z"
   },
   {
    "duration": 9,
    "start_time": "2023-09-20T16:49:36.833Z"
   },
   {
    "duration": 11,
    "start_time": "2023-09-20T16:50:44.606Z"
   },
   {
    "duration": 8,
    "start_time": "2023-09-20T16:51:04.030Z"
   },
   {
    "duration": 11,
    "start_time": "2023-09-20T16:51:08.872Z"
   },
   {
    "duration": 10,
    "start_time": "2023-09-20T16:51:14.699Z"
   },
   {
    "duration": 19,
    "start_time": "2023-09-20T16:51:18.944Z"
   },
   {
    "duration": 12,
    "start_time": "2023-09-20T16:51:49.049Z"
   },
   {
    "duration": 14,
    "start_time": "2023-09-20T16:53:23.799Z"
   },
   {
    "duration": 7,
    "start_time": "2023-09-20T16:53:39.679Z"
   },
   {
    "duration": 137,
    "start_time": "2023-09-20T17:00:05.344Z"
   },
   {
    "duration": 141,
    "start_time": "2023-09-20T17:02:05.685Z"
   },
   {
    "duration": 33,
    "start_time": "2023-09-20T17:17:28.382Z"
   },
   {
    "duration": 30,
    "start_time": "2023-09-20T17:18:01.000Z"
   },
   {
    "duration": 81,
    "start_time": "2023-09-20T17:58:06.286Z"
   },
   {
    "duration": 38,
    "start_time": "2023-09-20T17:58:19.499Z"
   },
   {
    "duration": 35,
    "start_time": "2023-09-20T17:58:43.733Z"
   },
   {
    "duration": 26,
    "start_time": "2023-09-20T17:58:54.878Z"
   },
   {
    "duration": 11,
    "start_time": "2023-09-20T17:59:05.831Z"
   },
   {
    "duration": 39,
    "start_time": "2023-09-20T17:59:44.766Z"
   },
   {
    "duration": 46,
    "start_time": "2023-09-20T18:00:47.042Z"
   },
   {
    "duration": 8,
    "start_time": "2023-09-20T18:05:05.819Z"
   },
   {
    "duration": 117,
    "start_time": "2023-09-20T18:05:12.393Z"
   },
   {
    "duration": 305,
    "start_time": "2023-09-20T18:07:18.505Z"
   },
   {
    "duration": 309,
    "start_time": "2023-09-20T18:07:25.625Z"
   },
   {
    "duration": 321,
    "start_time": "2023-09-20T18:09:11.405Z"
   },
   {
    "duration": 397,
    "start_time": "2023-09-20T18:16:03.020Z"
   },
   {
    "duration": 309,
    "start_time": "2023-09-20T18:17:02.550Z"
   },
   {
    "duration": 421,
    "start_time": "2023-09-20T18:46:41.678Z"
   },
   {
    "duration": 63,
    "start_time": "2023-09-20T18:48:24.491Z"
   },
   {
    "duration": 94,
    "start_time": "2023-09-20T18:48:37.696Z"
   },
   {
    "duration": 131,
    "start_time": "2023-09-20T18:48:43.139Z"
   },
   {
    "duration": 3,
    "start_time": "2023-09-20T18:50:04.476Z"
   },
   {
    "duration": 5,
    "start_time": "2023-09-20T18:50:11.317Z"
   },
   {
    "duration": 5,
    "start_time": "2023-09-20T18:50:34.204Z"
   },
   {
    "duration": 3,
    "start_time": "2023-09-20T18:50:40.387Z"
   },
   {
    "duration": 4,
    "start_time": "2023-09-20T18:50:45.728Z"
   },
   {
    "duration": 79,
    "start_time": "2023-09-20T18:53:58.344Z"
   },
   {
    "duration": 11,
    "start_time": "2023-09-20T18:54:13.915Z"
   },
   {
    "duration": 87,
    "start_time": "2023-09-20T18:55:11.796Z"
   },
   {
    "duration": 95,
    "start_time": "2023-09-20T18:55:21.547Z"
   },
   {
    "duration": 105,
    "start_time": "2023-09-20T18:56:29.127Z"
   },
   {
    "duration": 871,
    "start_time": "2023-09-20T18:56:43.773Z"
   },
   {
    "duration": 859,
    "start_time": "2023-09-20T18:57:09.073Z"
   },
   {
    "duration": 5,
    "start_time": "2023-09-20T18:58:44.869Z"
   },
   {
    "duration": 17,
    "start_time": "2023-09-20T18:58:51.718Z"
   },
   {
    "duration": 950,
    "start_time": "2023-09-20T18:59:18.891Z"
   },
   {
    "duration": 1416,
    "start_time": "2023-09-20T19:03:52.904Z"
   },
   {
    "duration": 1151,
    "start_time": "2023-09-20T19:03:59.010Z"
   },
   {
    "duration": 9,
    "start_time": "2023-09-20T19:15:30.906Z"
   },
   {
    "duration": 5,
    "start_time": "2023-09-20T19:15:34.754Z"
   },
   {
    "duration": 1521,
    "start_time": "2023-09-20T19:15:35.292Z"
   },
   {
    "duration": 4,
    "start_time": "2023-09-20T19:21:49.538Z"
   },
   {
    "duration": 150,
    "start_time": "2023-09-20T19:23:58.189Z"
   },
   {
    "duration": 139,
    "start_time": "2023-09-20T19:24:34.103Z"
   },
   {
    "duration": 3,
    "start_time": "2023-09-20T19:24:42.411Z"
   },
   {
    "duration": 197,
    "start_time": "2023-09-20T19:24:42.536Z"
   },
   {
    "duration": 144,
    "start_time": "2023-09-20T19:24:51.493Z"
   },
   {
    "duration": 3,
    "start_time": "2023-09-20T19:27:06.529Z"
   },
   {
    "duration": 3,
    "start_time": "2023-09-20T19:27:44.619Z"
   },
   {
    "duration": 199,
    "start_time": "2023-09-20T19:27:44.903Z"
   },
   {
    "duration": 4,
    "start_time": "2023-09-20T19:30:23.920Z"
   },
   {
    "duration": 9,
    "start_time": "2023-09-20T19:42:32.720Z"
   },
   {
    "duration": 3,
    "start_time": "2023-09-20T19:42:54.118Z"
   },
   {
    "duration": 6,
    "start_time": "2023-09-20T19:43:03.514Z"
   },
   {
    "duration": 10,
    "start_time": "2023-09-20T19:44:02.493Z"
   },
   {
    "duration": 6,
    "start_time": "2023-09-20T19:44:11.225Z"
   },
   {
    "duration": 5,
    "start_time": "2023-09-20T19:54:44.018Z"
   },
   {
    "duration": 1998,
    "start_time": "2023-09-20T20:02:59.604Z"
   },
   {
    "duration": 13,
    "start_time": "2023-09-20T20:03:58.338Z"
   },
   {
    "duration": 2094,
    "start_time": "2023-09-20T20:05:35.417Z"
   },
   {
    "duration": 7,
    "start_time": "2023-09-20T20:05:43.793Z"
   },
   {
    "duration": 20,
    "start_time": "2023-09-20T20:06:08.396Z"
   },
   {
    "duration": 29,
    "start_time": "2023-09-20T20:08:01.077Z"
   },
   {
    "duration": 27,
    "start_time": "2023-09-20T20:38:58.272Z"
   },
   {
    "duration": 5,
    "start_time": "2023-09-20T20:39:16.096Z"
   },
   {
    "duration": 138,
    "start_time": "2023-09-20T20:39:22.298Z"
   },
   {
    "duration": 8,
    "start_time": "2023-09-20T20:39:35.287Z"
   },
   {
    "duration": 39110,
    "start_time": "2023-09-20T20:39:40.115Z"
   },
   {
    "duration": 1665,
    "start_time": "2023-09-21T12:24:15.354Z"
   },
   {
    "duration": 249,
    "start_time": "2023-09-21T12:24:17.021Z"
   },
   {
    "duration": 15,
    "start_time": "2023-09-21T12:24:17.272Z"
   },
   {
    "duration": 11,
    "start_time": "2023-09-21T12:24:17.289Z"
   },
   {
    "duration": 34,
    "start_time": "2023-09-21T12:24:17.302Z"
   },
   {
    "duration": 20,
    "start_time": "2023-09-21T12:24:17.339Z"
   },
   {
    "duration": 7,
    "start_time": "2023-09-21T12:24:17.361Z"
   },
   {
    "duration": 14,
    "start_time": "2023-09-21T12:24:17.370Z"
   },
   {
    "duration": 19,
    "start_time": "2023-09-21T12:24:17.386Z"
   },
   {
    "duration": 39,
    "start_time": "2023-09-21T12:24:17.407Z"
   },
   {
    "duration": 30,
    "start_time": "2023-09-21T12:24:17.448Z"
   },
   {
    "duration": 12,
    "start_time": "2023-09-21T12:24:17.480Z"
   },
   {
    "duration": 24,
    "start_time": "2023-09-21T12:24:17.494Z"
   },
   {
    "duration": 13,
    "start_time": "2023-09-21T12:24:17.520Z"
   },
   {
    "duration": 7,
    "start_time": "2023-09-21T12:24:17.534Z"
   },
   {
    "duration": 54,
    "start_time": "2023-09-21T12:24:17.542Z"
   },
   {
    "duration": 233,
    "start_time": "2023-09-21T12:24:17.598Z"
   },
   {
    "duration": 15,
    "start_time": "2023-09-21T12:24:17.833Z"
   },
   {
    "duration": 122,
    "start_time": "2023-09-21T12:24:17.854Z"
   },
   {
    "duration": 7,
    "start_time": "2023-09-21T12:24:17.978Z"
   },
   {
    "duration": 225,
    "start_time": "2023-09-21T12:24:17.986Z"
   },
   {
    "duration": 197,
    "start_time": "2023-09-21T12:24:18.213Z"
   },
   {
    "duration": 46,
    "start_time": "2023-09-21T12:24:18.412Z"
   },
   {
    "duration": 248,
    "start_time": "2023-09-21T12:24:18.461Z"
   },
   {
    "duration": 46,
    "start_time": "2023-09-21T12:24:18.711Z"
   },
   {
    "duration": 66,
    "start_time": "2023-09-21T12:24:18.760Z"
   },
   {
    "duration": 97,
    "start_time": "2023-09-21T12:24:18.827Z"
   },
   {
    "duration": 422,
    "start_time": "2023-09-21T12:24:18.932Z"
   },
   {
    "duration": 486,
    "start_time": "2023-09-21T12:24:19.357Z"
   },
   {
    "duration": 332,
    "start_time": "2023-09-21T12:24:19.845Z"
   },
   {
    "duration": 387,
    "start_time": "2023-09-21T12:24:20.178Z"
   },
   {
    "duration": 1088,
    "start_time": "2023-09-21T12:24:20.567Z"
   },
   {
    "duration": 5,
    "start_time": "2023-09-21T12:24:21.656Z"
   },
   {
    "duration": 262,
    "start_time": "2023-09-21T12:24:21.663Z"
   },
   {
    "duration": 8,
    "start_time": "2023-09-21T12:24:21.930Z"
   },
   {
    "duration": 69,
    "start_time": "2023-09-21T12:24:21.940Z"
   },
   {
    "duration": 142,
    "start_time": "2023-09-21T12:24:22.011Z"
   },
   {
    "duration": 41262,
    "start_time": "2023-09-21T12:24:22.155Z"
   },
   {
    "duration": 281,
    "start_time": "2023-09-21T12:26:24.387Z"
   },
   {
    "duration": 42091,
    "start_time": "2023-09-21T12:26:54.093Z"
   },
   {
    "duration": 41495,
    "start_time": "2023-09-21T12:29:40.370Z"
   },
   {
    "duration": 40411,
    "start_time": "2023-09-21T12:31:44.071Z"
   },
   {
    "duration": 7,
    "start_time": "2023-09-21T12:43:03.776Z"
   },
   {
    "duration": 1358,
    "start_time": "2023-09-21T12:46:06.571Z"
   },
   {
    "duration": 44048,
    "start_time": "2023-09-21T12:46:37.300Z"
   },
   {
    "duration": 17,
    "start_time": "2023-09-21T12:55:07.952Z"
   },
   {
    "duration": 6,
    "start_time": "2023-09-21T12:55:21.747Z"
   },
   {
    "duration": 1932,
    "start_time": "2023-09-21T12:55:29.766Z"
   },
   {
    "duration": 401,
    "start_time": "2023-09-21T12:55:54.202Z"
   },
   {
    "duration": 2315,
    "start_time": "2023-09-21T12:56:48.443Z"
   },
   {
    "duration": 330,
    "start_time": "2023-09-21T12:57:13.865Z"
   },
   {
    "duration": 357,
    "start_time": "2023-09-21T12:57:21.349Z"
   },
   {
    "duration": 430,
    "start_time": "2023-09-21T12:57:28.019Z"
   },
   {
    "duration": 2039,
    "start_time": "2023-09-21T12:57:32.351Z"
   },
   {
    "duration": 223,
    "start_time": "2023-09-21T12:58:32.559Z"
   },
   {
    "duration": 2014,
    "start_time": "2023-09-21T12:58:44.843Z"
   },
   {
    "duration": 1380,
    "start_time": "2023-09-21T18:37:57.412Z"
   },
   {
    "duration": 373,
    "start_time": "2023-09-21T18:37:58.794Z"
   },
   {
    "duration": 19,
    "start_time": "2023-09-21T18:37:59.169Z"
   },
   {
    "duration": 12,
    "start_time": "2023-09-21T18:37:59.191Z"
   },
   {
    "duration": 16,
    "start_time": "2023-09-21T18:37:59.205Z"
   },
   {
    "duration": 13,
    "start_time": "2023-09-21T18:37:59.222Z"
   },
   {
    "duration": 27,
    "start_time": "2023-09-21T18:37:59.236Z"
   },
   {
    "duration": 15,
    "start_time": "2023-09-21T18:37:59.266Z"
   },
   {
    "duration": 19,
    "start_time": "2023-09-21T18:37:59.283Z"
   },
   {
    "duration": 5,
    "start_time": "2023-09-21T18:37:59.305Z"
   },
   {
    "duration": 16,
    "start_time": "2023-09-21T18:37:59.311Z"
   },
   {
    "duration": 23,
    "start_time": "2023-09-21T18:37:59.328Z"
   },
   {
    "duration": 38,
    "start_time": "2023-09-21T18:37:59.358Z"
   },
   {
    "duration": 9,
    "start_time": "2023-09-21T18:37:59.398Z"
   },
   {
    "duration": 4,
    "start_time": "2023-09-21T18:37:59.409Z"
   },
   {
    "duration": 78,
    "start_time": "2023-09-21T18:37:59.414Z"
   },
   {
    "duration": 188,
    "start_time": "2023-09-21T18:37:59.494Z"
   },
   {
    "duration": 10,
    "start_time": "2023-09-21T18:37:59.685Z"
   },
   {
    "duration": 107,
    "start_time": "2023-09-21T18:37:59.697Z"
   },
   {
    "duration": 9,
    "start_time": "2023-09-21T18:37:59.806Z"
   },
   {
    "duration": 198,
    "start_time": "2023-09-21T18:37:59.817Z"
   },
   {
    "duration": 150,
    "start_time": "2023-09-21T18:38:00.017Z"
   },
   {
    "duration": 28,
    "start_time": "2023-09-21T18:38:00.170Z"
   },
   {
    "duration": 198,
    "start_time": "2023-09-21T18:38:00.199Z"
   },
   {
    "duration": 111,
    "start_time": "2023-09-21T18:38:00.399Z"
   },
   {
    "duration": 24,
    "start_time": "2023-09-21T18:38:00.511Z"
   },
   {
    "duration": 85,
    "start_time": "2023-09-21T18:38:00.536Z"
   },
   {
    "duration": 325,
    "start_time": "2023-09-21T18:38:00.624Z"
   },
   {
    "duration": 421,
    "start_time": "2023-09-21T18:38:00.957Z"
   },
   {
    "duration": 305,
    "start_time": "2023-09-21T18:38:01.380Z"
   },
   {
    "duration": 298,
    "start_time": "2023-09-21T18:38:01.687Z"
   },
   {
    "duration": 973,
    "start_time": "2023-09-21T18:38:01.986Z"
   },
   {
    "duration": 3,
    "start_time": "2023-09-21T18:38:02.970Z"
   },
   {
    "duration": 164,
    "start_time": "2023-09-21T18:38:02.978Z"
   },
   {
    "duration": 10,
    "start_time": "2023-09-21T18:38:03.143Z"
   },
   {
    "duration": 20,
    "start_time": "2023-09-21T18:38:03.160Z"
   },
   {
    "duration": 15,
    "start_time": "2023-09-21T18:38:03.181Z"
   },
   {
    "duration": 37004,
    "start_time": "2023-09-21T18:38:03.198Z"
   },
   {
    "duration": 5,
    "start_time": "2023-09-21T18:38:40.203Z"
   },
   {
    "duration": 132,
    "start_time": "2023-09-21T19:15:32.644Z"
   },
   {
    "duration": 8,
    "start_time": "2023-09-21T19:15:39.012Z"
   },
   {
    "duration": 128,
    "start_time": "2023-09-21T19:23:38.498Z"
   },
   {
    "duration": 11,
    "start_time": "2023-09-21T19:24:04.105Z"
   },
   {
    "duration": 5,
    "start_time": "2023-09-21T19:25:09.129Z"
   },
   {
    "duration": 9,
    "start_time": "2023-09-21T19:30:34.767Z"
   },
   {
    "duration": 12,
    "start_time": "2023-09-21T19:36:59.442Z"
   },
   {
    "duration": 67,
    "start_time": "2023-09-22T08:22:57.872Z"
   },
   {
    "duration": 1581,
    "start_time": "2023-09-22T08:23:05.367Z"
   },
   {
    "duration": 207,
    "start_time": "2023-09-22T08:23:06.950Z"
   },
   {
    "duration": 16,
    "start_time": "2023-09-22T08:23:07.159Z"
   },
   {
    "duration": 12,
    "start_time": "2023-09-22T08:23:07.177Z"
   },
   {
    "duration": 17,
    "start_time": "2023-09-22T08:23:07.192Z"
   },
   {
    "duration": 17,
    "start_time": "2023-09-22T08:23:07.210Z"
   },
   {
    "duration": 8,
    "start_time": "2023-09-22T08:23:07.229Z"
   },
   {
    "duration": 29,
    "start_time": "2023-09-22T08:23:07.238Z"
   },
   {
    "duration": 23,
    "start_time": "2023-09-22T08:23:07.269Z"
   },
   {
    "duration": 12,
    "start_time": "2023-09-22T08:23:07.294Z"
   },
   {
    "duration": 16,
    "start_time": "2023-09-22T08:23:07.308Z"
   },
   {
    "duration": 101,
    "start_time": "2023-09-22T08:23:07.326Z"
   },
   {
    "duration": 58,
    "start_time": "2023-09-22T08:23:07.429Z"
   },
   {
    "duration": 9,
    "start_time": "2023-09-22T08:23:07.491Z"
   },
   {
    "duration": 15,
    "start_time": "2023-09-22T08:23:07.501Z"
   },
   {
    "duration": 56,
    "start_time": "2023-09-22T08:23:07.517Z"
   },
   {
    "duration": 362,
    "start_time": "2023-09-22T08:23:07.575Z"
   },
   {
    "duration": 6,
    "start_time": "2023-09-22T08:23:07.939Z"
   },
   {
    "duration": 111,
    "start_time": "2023-09-22T08:23:07.946Z"
   },
   {
    "duration": 9,
    "start_time": "2023-09-22T08:23:08.059Z"
   },
   {
    "duration": 187,
    "start_time": "2023-09-22T08:23:08.070Z"
   },
   {
    "duration": 173,
    "start_time": "2023-09-22T08:23:08.259Z"
   },
   {
    "duration": 27,
    "start_time": "2023-09-22T08:23:08.434Z"
   },
   {
    "duration": 178,
    "start_time": "2023-09-22T08:23:08.463Z"
   },
   {
    "duration": 39,
    "start_time": "2023-09-22T08:23:08.643Z"
   },
   {
    "duration": 28,
    "start_time": "2023-09-22T08:23:08.684Z"
   },
   {
    "duration": 28,
    "start_time": "2023-09-22T08:23:08.714Z"
   },
   {
    "duration": 320,
    "start_time": "2023-09-22T08:23:08.744Z"
   },
   {
    "duration": 408,
    "start_time": "2023-09-22T08:23:09.066Z"
   },
   {
    "duration": 324,
    "start_time": "2023-09-22T08:23:09.476Z"
   },
   {
    "duration": 319,
    "start_time": "2023-09-22T08:23:09.810Z"
   },
   {
    "duration": 926,
    "start_time": "2023-09-22T08:23:10.131Z"
   },
   {
    "duration": 4,
    "start_time": "2023-09-22T08:23:11.060Z"
   },
   {
    "duration": 162,
    "start_time": "2023-09-22T08:23:11.066Z"
   },
   {
    "duration": 7,
    "start_time": "2023-09-22T08:23:11.230Z"
   },
   {
    "duration": 23,
    "start_time": "2023-09-22T08:23:11.239Z"
   },
   {
    "duration": 23,
    "start_time": "2023-09-22T08:23:11.264Z"
   },
   {
    "duration": 38549,
    "start_time": "2023-09-22T08:23:11.290Z"
   },
   {
    "duration": 6,
    "start_time": "2023-09-22T08:23:49.842Z"
   },
   {
    "duration": 420,
    "start_time": "2023-09-22T08:23:51.642Z"
   },
   {
    "duration": 299,
    "start_time": "2023-09-22T08:24:42.136Z"
   },
   {
    "duration": 201,
    "start_time": "2023-09-22T08:25:20.153Z"
   },
   {
    "duration": 216,
    "start_time": "2023-09-22T08:25:49.272Z"
   },
   {
    "duration": 101,
    "start_time": "2023-09-22T08:27:39.124Z"
   },
   {
    "duration": 215,
    "start_time": "2023-09-22T08:28:19.049Z"
   },
   {
    "duration": 12,
    "start_time": "2023-09-22T08:29:42.537Z"
   },
   {
    "duration": 5,
    "start_time": "2023-09-22T08:30:06.203Z"
   },
   {
    "duration": 138,
    "start_time": "2023-09-22T08:32:34.665Z"
   },
   {
    "duration": 198,
    "start_time": "2023-09-22T08:33:14.699Z"
   },
   {
    "duration": 207,
    "start_time": "2023-09-22T08:33:30.583Z"
   },
   {
    "duration": 12,
    "start_time": "2023-09-22T08:39:36.964Z"
   },
   {
    "duration": 13,
    "start_time": "2023-09-22T08:41:51.070Z"
   },
   {
    "duration": 13,
    "start_time": "2023-09-22T08:42:42.989Z"
   },
   {
    "duration": 12,
    "start_time": "2023-09-22T08:42:51.190Z"
   },
   {
    "duration": 12,
    "start_time": "2023-09-22T08:43:12.810Z"
   },
   {
    "duration": 12,
    "start_time": "2023-09-22T08:43:27.046Z"
   },
   {
    "duration": 1349,
    "start_time": "2023-09-22T08:45:45.196Z"
   },
   {
    "duration": 264,
    "start_time": "2023-09-22T08:46:04.086Z"
   },
   {
    "duration": 14,
    "start_time": "2023-09-22T08:47:36.854Z"
   },
   {
    "duration": 19,
    "start_time": "2023-09-22T08:48:07.639Z"
   },
   {
    "duration": 424,
    "start_time": "2023-09-22T08:48:10.491Z"
   },
   {
    "duration": 7,
    "start_time": "2023-09-22T08:48:15.101Z"
   },
   {
    "duration": 9,
    "start_time": "2023-09-22T08:49:25.652Z"
   },
   {
    "duration": 10,
    "start_time": "2023-09-22T08:49:31.436Z"
   },
   {
    "duration": 9,
    "start_time": "2023-09-22T08:51:41.432Z"
   },
   {
    "duration": 8,
    "start_time": "2023-09-22T08:59:23.987Z"
   },
   {
    "duration": 7,
    "start_time": "2023-09-22T09:01:55.850Z"
   },
   {
    "duration": 219,
    "start_time": "2023-09-22T09:02:46.873Z"
   },
   {
    "duration": 207,
    "start_time": "2023-09-22T09:02:58.327Z"
   },
   {
    "duration": 96,
    "start_time": "2023-09-22T09:03:04.305Z"
   },
   {
    "duration": 34,
    "start_time": "2023-09-22T09:03:09.536Z"
   },
   {
    "duration": 4,
    "start_time": "2023-09-22T09:04:19.225Z"
   },
   {
    "duration": 1036,
    "start_time": "2023-09-22T09:04:21.088Z"
   },
   {
    "duration": 1479,
    "start_time": "2023-09-22T14:52:07.305Z"
   },
   {
    "duration": 529,
    "start_time": "2023-09-22T14:52:08.786Z"
   },
   {
    "duration": 13,
    "start_time": "2023-09-22T14:52:09.317Z"
   },
   {
    "duration": 11,
    "start_time": "2023-09-22T14:52:09.332Z"
   },
   {
    "duration": 24,
    "start_time": "2023-09-22T14:52:09.345Z"
   },
   {
    "duration": 24,
    "start_time": "2023-09-22T14:52:09.371Z"
   },
   {
    "duration": 6,
    "start_time": "2023-09-22T14:52:09.397Z"
   },
   {
    "duration": 14,
    "start_time": "2023-09-22T14:52:09.405Z"
   },
   {
    "duration": 37,
    "start_time": "2023-09-22T14:52:09.421Z"
   },
   {
    "duration": 12,
    "start_time": "2023-09-22T14:52:09.462Z"
   },
   {
    "duration": 20,
    "start_time": "2023-09-22T14:52:09.476Z"
   },
   {
    "duration": 14,
    "start_time": "2023-09-22T14:52:09.498Z"
   },
   {
    "duration": 33,
    "start_time": "2023-09-22T14:52:09.514Z"
   },
   {
    "duration": 16,
    "start_time": "2023-09-22T14:52:09.550Z"
   },
   {
    "duration": 8,
    "start_time": "2023-09-22T14:52:09.567Z"
   },
   {
    "duration": 54,
    "start_time": "2023-09-22T14:52:09.576Z"
   },
   {
    "duration": 199,
    "start_time": "2023-09-22T14:52:09.631Z"
   },
   {
    "duration": 5,
    "start_time": "2023-09-22T14:52:09.832Z"
   },
   {
    "duration": 111,
    "start_time": "2023-09-22T14:52:09.850Z"
   },
   {
    "duration": 11,
    "start_time": "2023-09-22T14:52:09.964Z"
   },
   {
    "duration": 162,
    "start_time": "2023-09-22T14:52:09.977Z"
   },
   {
    "duration": 7,
    "start_time": "2023-09-22T14:52:10.144Z"
   },
   {
    "duration": 148,
    "start_time": "2023-09-22T14:52:10.155Z"
   },
   {
    "duration": 210,
    "start_time": "2023-09-22T14:52:10.305Z"
   },
   {
    "duration": 20,
    "start_time": "2023-09-22T14:52:10.516Z"
   },
   {
    "duration": 154,
    "start_time": "2023-09-22T14:52:10.545Z"
   },
   {
    "duration": 11,
    "start_time": "2023-09-22T14:52:10.701Z"
   },
   {
    "duration": 261,
    "start_time": "2023-09-22T14:52:10.715Z"
   },
   {
    "duration": 6,
    "start_time": "2023-09-22T14:52:10.977Z"
   },
   {
    "duration": 45,
    "start_time": "2023-09-22T14:52:10.985Z"
   },
   {
    "duration": 14,
    "start_time": "2023-09-22T14:52:11.031Z"
   },
   {
    "duration": 31,
    "start_time": "2023-09-22T14:52:11.047Z"
   },
   {
    "duration": 360,
    "start_time": "2023-09-22T14:52:11.080Z"
   },
   {
    "duration": 323,
    "start_time": "2023-09-22T14:52:11.444Z"
   },
   {
    "duration": 308,
    "start_time": "2023-09-22T14:52:11.769Z"
   },
   {
    "duration": 314,
    "start_time": "2023-09-22T14:52:12.078Z"
   },
   {
    "duration": 4,
    "start_time": "2023-09-22T14:52:12.393Z"
   },
   {
    "duration": 947,
    "start_time": "2023-09-22T14:52:12.399Z"
   },
   {
    "duration": 3,
    "start_time": "2023-09-22T14:52:13.348Z"
   },
   {
    "duration": 157,
    "start_time": "2023-09-22T14:52:13.352Z"
   },
   {
    "duration": 5,
    "start_time": "2023-09-22T14:52:13.511Z"
   },
   {
    "duration": 47,
    "start_time": "2023-09-22T14:52:13.518Z"
   },
   {
    "duration": 17,
    "start_time": "2023-09-22T14:52:13.567Z"
   },
   {
    "duration": 34761,
    "start_time": "2023-09-22T14:52:13.586Z"
   },
   {
    "duration": 12,
    "start_time": "2023-09-22T14:52:48.350Z"
   },
   {
    "duration": 116,
    "start_time": "2023-09-22T14:55:05.553Z"
   },
   {
    "duration": 4,
    "start_time": "2023-09-22T14:55:13.982Z"
   },
   {
    "duration": 5,
    "start_time": "2023-09-22T14:55:23.459Z"
   },
   {
    "duration": 17,
    "start_time": "2023-09-22T14:56:21.255Z"
   },
   {
    "duration": 22,
    "start_time": "2023-09-22T14:57:19.696Z"
   },
   {
    "duration": 11,
    "start_time": "2023-09-22T14:57:51.225Z"
   },
   {
    "duration": 19,
    "start_time": "2023-09-22T14:58:03.822Z"
   },
   {
    "duration": 33,
    "start_time": "2023-09-22T14:58:45.265Z"
   },
   {
    "duration": 1298,
    "start_time": "2023-09-22T15:01:18.330Z"
   },
   {
    "duration": 69,
    "start_time": "2023-09-22T15:01:19.630Z"
   },
   {
    "duration": 14,
    "start_time": "2023-09-22T15:01:19.700Z"
   },
   {
    "duration": 16,
    "start_time": "2023-09-22T15:01:19.715Z"
   },
   {
    "duration": 17,
    "start_time": "2023-09-22T15:01:19.732Z"
   },
   {
    "duration": 16,
    "start_time": "2023-09-22T15:01:19.751Z"
   },
   {
    "duration": 20,
    "start_time": "2023-09-22T15:01:19.768Z"
   },
   {
    "duration": 19,
    "start_time": "2023-09-22T15:01:19.789Z"
   },
   {
    "duration": 17,
    "start_time": "2023-09-22T15:01:19.809Z"
   },
   {
    "duration": 5,
    "start_time": "2023-09-22T15:01:19.828Z"
   },
   {
    "duration": 28,
    "start_time": "2023-09-22T15:01:19.835Z"
   },
   {
    "duration": 13,
    "start_time": "2023-09-22T15:01:19.866Z"
   },
   {
    "duration": 13,
    "start_time": "2023-09-22T15:01:19.880Z"
   },
   {
    "duration": 9,
    "start_time": "2023-09-22T15:01:19.894Z"
   },
   {
    "duration": 11,
    "start_time": "2023-09-22T15:01:19.905Z"
   },
   {
    "duration": 87,
    "start_time": "2023-09-22T15:01:19.918Z"
   },
   {
    "duration": 205,
    "start_time": "2023-09-22T15:01:20.006Z"
   },
   {
    "duration": 6,
    "start_time": "2023-09-22T15:01:20.212Z"
   },
   {
    "duration": 106,
    "start_time": "2023-09-22T15:01:20.219Z"
   },
   {
    "duration": 9,
    "start_time": "2023-09-22T15:01:20.346Z"
   },
   {
    "duration": 231,
    "start_time": "2023-09-22T15:01:20.359Z"
   },
   {
    "duration": 5,
    "start_time": "2023-09-22T15:01:20.591Z"
   },
   {
    "duration": 282,
    "start_time": "2023-09-22T15:01:20.598Z"
   },
   {
    "duration": 222,
    "start_time": "2023-09-22T15:01:20.881Z"
   },
   {
    "duration": 19,
    "start_time": "2023-09-22T15:01:21.104Z"
   },
   {
    "duration": 158,
    "start_time": "2023-09-22T15:01:21.124Z"
   },
   {
    "duration": 11,
    "start_time": "2023-09-22T15:01:21.284Z"
   },
   {
    "duration": 265,
    "start_time": "2023-09-22T15:01:21.298Z"
   },
   {
    "duration": 8,
    "start_time": "2023-09-22T15:01:21.566Z"
   },
   {
    "duration": 21,
    "start_time": "2023-09-22T15:01:21.576Z"
   },
   {
    "duration": 4,
    "start_time": "2023-09-22T15:01:21.599Z"
   },
   {
    "duration": 41,
    "start_time": "2023-09-22T15:01:21.605Z"
   },
   {
    "duration": 37,
    "start_time": "2023-09-22T15:01:21.649Z"
   },
   {
    "duration": 110,
    "start_time": "2023-09-22T15:01:21.688Z"
   },
   {
    "duration": 28,
    "start_time": "2023-09-22T15:01:21.799Z"
   },
   {
    "duration": 312,
    "start_time": "2023-09-22T15:01:21.845Z"
   },
   {
    "duration": 347,
    "start_time": "2023-09-22T15:01:22.159Z"
   },
   {
    "duration": 295,
    "start_time": "2023-09-22T15:01:22.507Z"
   },
   {
    "duration": 280,
    "start_time": "2023-09-22T15:01:22.803Z"
   },
   {
    "duration": 3,
    "start_time": "2023-09-22T15:01:23.085Z"
   },
   {
    "duration": 866,
    "start_time": "2023-09-22T15:01:23.090Z"
   },
   {
    "duration": 3,
    "start_time": "2023-09-22T15:01:23.958Z"
   },
   {
    "duration": 198,
    "start_time": "2023-09-22T15:01:23.963Z"
   },
   {
    "duration": 6,
    "start_time": "2023-09-22T15:01:24.173Z"
   },
   {
    "duration": 12,
    "start_time": "2023-09-22T15:01:24.180Z"
   },
   {
    "duration": 13,
    "start_time": "2023-09-22T15:01:24.194Z"
   },
   {
    "duration": 36162,
    "start_time": "2023-09-22T15:01:24.209Z"
   },
   {
    "duration": 6,
    "start_time": "2023-09-22T15:02:00.372Z"
   },
   {
    "duration": 7,
    "start_time": "2023-09-22T15:19:04.114Z"
   },
   {
    "duration": 7,
    "start_time": "2023-09-22T15:20:28.962Z"
   },
   {
    "duration": 6,
    "start_time": "2023-09-22T15:20:39.889Z"
   },
   {
    "duration": 6,
    "start_time": "2023-09-22T15:20:49.857Z"
   },
   {
    "duration": 11,
    "start_time": "2023-09-22T15:21:25.387Z"
   },
   {
    "duration": 5,
    "start_time": "2023-09-22T15:21:48.101Z"
   },
   {
    "duration": 1174,
    "start_time": "2023-09-22T18:33:42.181Z"
   },
   {
    "duration": 65,
    "start_time": "2023-09-22T18:33:43.357Z"
   },
   {
    "duration": 13,
    "start_time": "2023-09-22T18:33:43.424Z"
   },
   {
    "duration": 10,
    "start_time": "2023-09-22T18:33:43.439Z"
   },
   {
    "duration": 12,
    "start_time": "2023-09-22T18:33:43.451Z"
   },
   {
    "duration": 11,
    "start_time": "2023-09-22T18:33:43.464Z"
   },
   {
    "duration": 9,
    "start_time": "2023-09-22T18:33:43.477Z"
   },
   {
    "duration": 11,
    "start_time": "2023-09-22T18:33:43.488Z"
   },
   {
    "duration": 13,
    "start_time": "2023-09-22T18:33:43.501Z"
   },
   {
    "duration": 33,
    "start_time": "2023-09-22T18:33:43.516Z"
   },
   {
    "duration": 11,
    "start_time": "2023-09-22T18:33:43.550Z"
   },
   {
    "duration": 11,
    "start_time": "2023-09-22T18:33:43.562Z"
   },
   {
    "duration": 12,
    "start_time": "2023-09-22T18:33:43.574Z"
   },
   {
    "duration": 8,
    "start_time": "2023-09-22T18:33:43.589Z"
   },
   {
    "duration": 4,
    "start_time": "2023-09-22T18:33:43.599Z"
   },
   {
    "duration": 57,
    "start_time": "2023-09-22T18:33:43.644Z"
   },
   {
    "duration": 200,
    "start_time": "2023-09-22T18:33:43.703Z"
   },
   {
    "duration": 5,
    "start_time": "2023-09-22T18:33:43.904Z"
   },
   {
    "duration": 97,
    "start_time": "2023-09-22T18:33:43.911Z"
   },
   {
    "duration": 19,
    "start_time": "2023-09-22T18:33:44.010Z"
   },
   {
    "duration": 236,
    "start_time": "2023-09-22T18:33:44.030Z"
   },
   {
    "duration": 7,
    "start_time": "2023-09-22T18:33:44.268Z"
   },
   {
    "duration": 137,
    "start_time": "2023-09-22T18:33:44.278Z"
   },
   {
    "duration": 208,
    "start_time": "2023-09-22T18:33:44.416Z"
   },
   {
    "duration": 27,
    "start_time": "2023-09-22T18:33:44.626Z"
   },
   {
    "duration": 125,
    "start_time": "2023-09-22T18:33:44.654Z"
   },
   {
    "duration": 10,
    "start_time": "2023-09-22T18:33:44.781Z"
   },
   {
    "duration": 242,
    "start_time": "2023-09-22T18:33:44.793Z"
   },
   {
    "duration": 11,
    "start_time": "2023-09-22T18:33:45.037Z"
   },
   {
    "duration": 62,
    "start_time": "2023-09-22T18:33:45.050Z"
   },
   {
    "duration": 4,
    "start_time": "2023-09-22T18:33:45.114Z"
   },
   {
    "duration": 36,
    "start_time": "2023-09-22T18:33:45.119Z"
   },
   {
    "duration": 37,
    "start_time": "2023-09-22T18:33:45.157Z"
   },
   {
    "duration": 76,
    "start_time": "2023-09-22T18:33:45.195Z"
   },
   {
    "duration": 22,
    "start_time": "2023-09-22T18:33:45.273Z"
   },
   {
    "duration": 273,
    "start_time": "2023-09-22T18:33:45.296Z"
   },
   {
    "duration": 298,
    "start_time": "2023-09-22T18:33:45.570Z"
   },
   {
    "duration": 283,
    "start_time": "2023-09-22T18:33:45.870Z"
   },
   {
    "duration": 281,
    "start_time": "2023-09-22T18:33:46.154Z"
   },
   {
    "duration": 10,
    "start_time": "2023-09-22T18:33:46.436Z"
   },
   {
    "duration": 67,
    "start_time": "2023-09-22T18:33:46.449Z"
   },
   {
    "duration": 0,
    "start_time": "2023-09-22T18:33:46.518Z"
   },
   {
    "duration": 0,
    "start_time": "2023-09-22T18:33:46.519Z"
   },
   {
    "duration": 0,
    "start_time": "2023-09-22T18:33:46.520Z"
   },
   {
    "duration": 0,
    "start_time": "2023-09-22T18:33:46.522Z"
   },
   {
    "duration": 0,
    "start_time": "2023-09-22T18:33:46.523Z"
   },
   {
    "duration": 0,
    "start_time": "2023-09-22T18:33:46.524Z"
   },
   {
    "duration": 0,
    "start_time": "2023-09-22T18:33:46.525Z"
   },
   {
    "duration": 69,
    "start_time": "2023-09-22T18:34:28.648Z"
   },
   {
    "duration": 817,
    "start_time": "2023-09-22T18:34:47.386Z"
   },
   {
    "duration": 1182,
    "start_time": "2023-09-22T18:34:54.152Z"
   },
   {
    "duration": 66,
    "start_time": "2023-09-22T18:34:55.336Z"
   },
   {
    "duration": 12,
    "start_time": "2023-09-22T18:34:55.404Z"
   },
   {
    "duration": 34,
    "start_time": "2023-09-22T18:34:55.417Z"
   },
   {
    "duration": 28,
    "start_time": "2023-09-22T18:34:55.453Z"
   },
   {
    "duration": 9,
    "start_time": "2023-09-22T18:34:55.483Z"
   },
   {
    "duration": 6,
    "start_time": "2023-09-22T18:34:55.494Z"
   },
   {
    "duration": 11,
    "start_time": "2023-09-22T18:34:55.501Z"
   },
   {
    "duration": 12,
    "start_time": "2023-09-22T18:34:55.514Z"
   },
   {
    "duration": 17,
    "start_time": "2023-09-22T18:34:55.527Z"
   },
   {
    "duration": 9,
    "start_time": "2023-09-22T18:34:55.546Z"
   },
   {
    "duration": 19,
    "start_time": "2023-09-22T18:34:55.557Z"
   },
   {
    "duration": 12,
    "start_time": "2023-09-22T18:34:55.577Z"
   },
   {
    "duration": 7,
    "start_time": "2023-09-22T18:34:55.591Z"
   },
   {
    "duration": 11,
    "start_time": "2023-09-22T18:34:55.599Z"
   },
   {
    "duration": 62,
    "start_time": "2023-09-22T18:34:55.611Z"
   },
   {
    "duration": 181,
    "start_time": "2023-09-22T18:34:55.675Z"
   },
   {
    "duration": 5,
    "start_time": "2023-09-22T18:34:55.858Z"
   },
   {
    "duration": 114,
    "start_time": "2023-09-22T18:34:55.864Z"
   },
   {
    "duration": 7,
    "start_time": "2023-09-22T18:34:55.980Z"
   },
   {
    "duration": 157,
    "start_time": "2023-09-22T18:34:55.989Z"
   },
   {
    "duration": 5,
    "start_time": "2023-09-22T18:34:56.148Z"
   },
   {
    "duration": 135,
    "start_time": "2023-09-22T18:34:56.155Z"
   },
   {
    "duration": 189,
    "start_time": "2023-09-22T18:34:56.291Z"
   },
   {
    "duration": 21,
    "start_time": "2023-09-22T18:34:56.482Z"
   },
   {
    "duration": 127,
    "start_time": "2023-09-22T18:34:56.505Z"
   },
   {
    "duration": 18,
    "start_time": "2023-09-22T18:34:56.634Z"
   },
   {
    "duration": 217,
    "start_time": "2023-09-22T18:34:56.654Z"
   },
   {
    "duration": 6,
    "start_time": "2023-09-22T18:34:56.872Z"
   },
   {
    "duration": 25,
    "start_time": "2023-09-22T18:34:56.879Z"
   },
   {
    "duration": 3,
    "start_time": "2023-09-22T18:34:56.905Z"
   },
   {
    "duration": 9,
    "start_time": "2023-09-22T18:34:56.910Z"
   },
   {
    "duration": 44,
    "start_time": "2023-09-22T18:34:56.921Z"
   },
   {
    "duration": 87,
    "start_time": "2023-09-22T18:34:56.966Z"
   },
   {
    "duration": 23,
    "start_time": "2023-09-22T18:34:57.055Z"
   },
   {
    "duration": 267,
    "start_time": "2023-09-22T18:34:57.079Z"
   },
   {
    "duration": 262,
    "start_time": "2023-09-22T18:34:57.348Z"
   },
   {
    "duration": 268,
    "start_time": "2023-09-22T18:34:57.612Z"
   },
   {
    "duration": 247,
    "start_time": "2023-09-22T18:34:57.882Z"
   },
   {
    "duration": 4,
    "start_time": "2023-09-22T18:34:58.130Z"
   },
   {
    "duration": 835,
    "start_time": "2023-09-22T18:34:58.144Z"
   },
   {
    "duration": 3,
    "start_time": "2023-09-22T18:34:58.980Z"
   },
   {
    "duration": 146,
    "start_time": "2023-09-22T18:34:58.984Z"
   },
   {
    "duration": 12,
    "start_time": "2023-09-22T18:34:59.132Z"
   },
   {
    "duration": 5,
    "start_time": "2023-09-22T18:34:59.146Z"
   },
   {
    "duration": 23,
    "start_time": "2023-09-22T18:34:59.153Z"
   },
   {
    "duration": 32545,
    "start_time": "2023-09-22T18:34:59.178Z"
   },
   {
    "duration": 4,
    "start_time": "2023-09-22T18:35:31.725Z"
   },
   {
    "duration": 1939,
    "start_time": "2023-09-23T15:22:07.133Z"
   },
   {
    "duration": 505,
    "start_time": "2023-09-23T15:22:09.076Z"
   },
   {
    "duration": 33,
    "start_time": "2023-09-23T15:22:09.587Z"
   },
   {
    "duration": 22,
    "start_time": "2023-09-23T15:22:09.630Z"
   },
   {
    "duration": 39,
    "start_time": "2023-09-23T15:22:09.656Z"
   },
   {
    "duration": 19,
    "start_time": "2023-09-23T15:22:09.701Z"
   },
   {
    "duration": 11,
    "start_time": "2023-09-23T15:22:09.722Z"
   },
   {
    "duration": 31,
    "start_time": "2023-09-23T15:22:09.735Z"
   },
   {
    "duration": 35,
    "start_time": "2023-09-23T15:22:09.769Z"
   },
   {
    "duration": 7,
    "start_time": "2023-09-23T15:22:09.808Z"
   },
   {
    "duration": 22,
    "start_time": "2023-09-23T15:22:09.817Z"
   },
   {
    "duration": 36,
    "start_time": "2023-09-23T15:22:09.842Z"
   },
   {
    "duration": 30,
    "start_time": "2023-09-23T15:22:09.880Z"
   },
   {
    "duration": 12,
    "start_time": "2023-09-23T15:22:09.913Z"
   },
   {
    "duration": 5,
    "start_time": "2023-09-23T15:22:09.928Z"
   },
   {
    "duration": 87,
    "start_time": "2023-09-23T15:22:09.963Z"
   },
   {
    "duration": 280,
    "start_time": "2023-09-23T15:22:10.052Z"
   },
   {
    "duration": 25,
    "start_time": "2023-09-23T15:22:10.335Z"
   },
   {
    "duration": 557,
    "start_time": "2023-09-23T15:22:10.365Z"
   },
   {
    "duration": 12,
    "start_time": "2023-09-23T15:22:10.924Z"
   },
   {
    "duration": 308,
    "start_time": "2023-09-23T15:22:10.938Z"
   },
   {
    "duration": 18,
    "start_time": "2023-09-23T15:22:11.249Z"
   },
   {
    "duration": 234,
    "start_time": "2023-09-23T15:22:11.271Z"
   },
   {
    "duration": 311,
    "start_time": "2023-09-23T15:22:11.507Z"
   },
   {
    "duration": 43,
    "start_time": "2023-09-23T15:22:11.821Z"
   },
   {
    "duration": 251,
    "start_time": "2023-09-23T15:22:11.867Z"
   },
   {
    "duration": 19,
    "start_time": "2023-09-23T15:22:12.121Z"
   },
   {
    "duration": 409,
    "start_time": "2023-09-23T15:22:12.145Z"
   },
   {
    "duration": 10,
    "start_time": "2023-09-23T15:22:12.556Z"
   },
   {
    "duration": 62,
    "start_time": "2023-09-23T15:22:12.568Z"
   },
   {
    "duration": 6,
    "start_time": "2023-09-23T15:22:12.634Z"
   },
   {
    "duration": 25,
    "start_time": "2023-09-23T15:22:12.642Z"
   },
   {
    "duration": 54,
    "start_time": "2023-09-23T15:22:12.670Z"
   },
   {
    "duration": 136,
    "start_time": "2023-09-23T15:22:12.727Z"
   },
   {
    "duration": 49,
    "start_time": "2023-09-23T15:22:12.871Z"
   },
   {
    "duration": 427,
    "start_time": "2023-09-23T15:22:12.927Z"
   },
   {
    "duration": 471,
    "start_time": "2023-09-23T15:22:13.356Z"
   },
   {
    "duration": 452,
    "start_time": "2023-09-23T15:22:13.832Z"
   },
   {
    "duration": 393,
    "start_time": "2023-09-23T15:22:14.287Z"
   },
   {
    "duration": 5,
    "start_time": "2023-09-23T15:22:14.682Z"
   },
   {
    "duration": 1252,
    "start_time": "2023-09-23T15:22:14.690Z"
   },
   {
    "duration": 13,
    "start_time": "2023-09-23T15:22:15.944Z"
   },
   {
    "duration": 252,
    "start_time": "2023-09-23T15:22:15.960Z"
   },
   {
    "duration": 7,
    "start_time": "2023-09-23T15:22:16.215Z"
   },
   {
    "duration": 22,
    "start_time": "2023-09-23T15:22:16.224Z"
   },
   {
    "duration": 28,
    "start_time": "2023-09-23T15:22:16.248Z"
   },
   {
    "duration": 52621,
    "start_time": "2023-09-23T15:22:16.279Z"
   },
   {
    "duration": 6,
    "start_time": "2023-09-23T15:23:08.903Z"
   },
   {
    "duration": 13,
    "start_time": "2023-09-23T15:30:47.829Z"
   },
   {
    "duration": 13,
    "start_time": "2023-09-23T15:31:32.326Z"
   },
   {
    "duration": 372,
    "start_time": "2024-01-18T19:20:35.157Z"
   },
   {
    "duration": 4,
    "start_time": "2024-01-18T19:21:07.082Z"
   },
   {
    "duration": 2,
    "start_time": "2024-01-18T19:21:16.868Z"
   },
   {
    "duration": 3,
    "start_time": "2024-01-18T19:21:24.061Z"
   },
   {
    "duration": 4,
    "start_time": "2024-01-18T19:21:31.519Z"
   },
   {
    "duration": 49,
    "start_time": "2024-01-18T19:21:40.454Z"
   },
   {
    "duration": 21,
    "start_time": "2024-01-18T19:22:01.815Z"
   },
   {
    "duration": 4,
    "start_time": "2024-01-18T19:22:05.058Z"
   },
   {
    "duration": 2,
    "start_time": "2024-01-18T19:22:05.214Z"
   },
   {
    "duration": 5,
    "start_time": "2024-01-18T19:22:05.377Z"
   },
   {
    "duration": 5,
    "start_time": "2024-01-18T19:22:05.558Z"
   },
   {
    "duration": 32,
    "start_time": "2024-01-18T19:22:06.122Z"
   },
   {
    "duration": 3,
    "start_time": "2024-01-18T19:22:37.040Z"
   },
   {
    "duration": 3,
    "start_time": "2024-01-18T19:22:37.321Z"
   },
   {
    "duration": 2,
    "start_time": "2024-01-18T19:22:37.654Z"
   },
   {
    "duration": 3,
    "start_time": "2024-01-18T19:22:38.039Z"
   },
   {
    "duration": 4,
    "start_time": "2024-01-18T19:22:38.743Z"
   },
   {
    "duration": 61,
    "start_time": "2024-01-18T19:22:41.975Z"
   },
   {
    "duration": 3,
    "start_time": "2024-01-18T19:22:59.516Z"
   },
   {
    "duration": 2,
    "start_time": "2024-01-18T19:23:01.123Z"
   },
   {
    "duration": 182,
    "start_time": "2024-01-18T19:23:01.156Z"
   },
   {
    "duration": 4,
    "start_time": "2024-01-18T19:23:01.903Z"
   },
   {
    "duration": 12,
    "start_time": "2024-01-18T19:23:17.648Z"
   },
   {
    "duration": 3,
    "start_time": "2024-01-18T19:23:30.106Z"
   },
   {
    "duration": 34,
    "start_time": "2024-01-18T19:23:30.809Z"
   },
   {
    "duration": 2,
    "start_time": "2024-01-18T19:29:19.449Z"
   },
   {
    "duration": 17,
    "start_time": "2024-01-18T19:29:19.788Z"
   },
   {
    "duration": 10,
    "start_time": "2024-01-18T19:29:52.769Z"
   },
   {
    "duration": 4,
    "start_time": "2024-01-18T19:30:07.003Z"
   },
   {
    "duration": 2,
    "start_time": "2024-01-18T19:30:10.139Z"
   },
   {
    "duration": 4,
    "start_time": "2024-01-18T19:30:10.314Z"
   },
   {
    "duration": 2,
    "start_time": "2024-01-18T19:30:10.627Z"
   },
   {
    "duration": 3,
    "start_time": "2024-01-18T19:30:10.999Z"
   },
   {
    "duration": 5,
    "start_time": "2024-01-18T19:30:11.319Z"
   },
   {
    "duration": 47,
    "start_time": "2024-01-18T19:30:11.873Z"
   },
   {
    "duration": 3,
    "start_time": "2024-01-18T19:30:55.109Z"
   },
   {
    "duration": 4,
    "start_time": "2024-01-18T19:30:55.296Z"
   },
   {
    "duration": 2,
    "start_time": "2024-01-18T19:30:55.461Z"
   },
   {
    "duration": 3,
    "start_time": "2024-01-18T19:30:55.622Z"
   },
   {
    "duration": 5,
    "start_time": "2024-01-18T19:30:55.797Z"
   },
   {
    "duration": 39,
    "start_time": "2024-01-18T19:30:56.403Z"
   },
   {
    "duration": 34,
    "start_time": "2024-01-18T19:31:00.442Z"
   },
   {
    "duration": 3,
    "start_time": "2024-01-18T19:37:22.879Z"
   },
   {
    "duration": 4,
    "start_time": "2024-01-18T19:37:23.141Z"
   },
   {
    "duration": 3,
    "start_time": "2024-01-18T19:37:23.552Z"
   },
   {
    "duration": 3,
    "start_time": "2024-01-18T19:37:23.885Z"
   },
   {
    "duration": 4,
    "start_time": "2024-01-18T19:37:24.311Z"
   },
   {
    "duration": 75,
    "start_time": "2024-01-18T19:38:18.393Z"
   },
   {
    "duration": 61,
    "start_time": "2024-01-18T19:38:23.462Z"
   },
   {
    "duration": 2,
    "start_time": "2024-01-18T19:38:31.614Z"
   },
   {
    "duration": 4,
    "start_time": "2024-01-18T19:38:31.983Z"
   },
   {
    "duration": 3,
    "start_time": "2024-01-18T19:38:32.359Z"
   },
   {
    "duration": 4,
    "start_time": "2024-01-18T19:38:32.751Z"
   },
   {
    "duration": 5,
    "start_time": "2024-01-18T19:38:33.232Z"
   },
   {
    "duration": 58,
    "start_time": "2024-01-18T19:38:36.191Z"
   },
   {
    "duration": 396,
    "start_time": "2024-01-23T19:25:47.026Z"
   },
   {
    "duration": 5,
    "start_time": "2024-01-23T19:25:47.924Z"
   },
   {
    "duration": 2,
    "start_time": "2024-01-23T19:25:48.436Z"
   },
   {
    "duration": 4,
    "start_time": "2024-01-23T19:25:48.783Z"
   },
   {
    "duration": 5,
    "start_time": "2024-01-23T19:25:49.113Z"
   },
   {
    "duration": 62,
    "start_time": "2024-01-23T19:25:49.709Z"
   },
   {
    "duration": 1048,
    "start_time": "2024-04-14T08:39:37.974Z"
   },
   {
    "duration": 295,
    "start_time": "2024-04-14T08:39:39.024Z"
   },
   {
    "duration": 12,
    "start_time": "2024-04-14T08:39:39.321Z"
   },
   {
    "duration": 13,
    "start_time": "2024-04-14T08:39:39.334Z"
   },
   {
    "duration": 16,
    "start_time": "2024-04-14T08:39:39.348Z"
   },
   {
    "duration": 13,
    "start_time": "2024-04-14T08:39:39.365Z"
   },
   {
    "duration": 10,
    "start_time": "2024-04-14T08:39:39.379Z"
   },
   {
    "duration": 24,
    "start_time": "2024-04-14T08:39:39.391Z"
   },
   {
    "duration": 11,
    "start_time": "2024-04-14T08:39:39.416Z"
   },
   {
    "duration": 4,
    "start_time": "2024-04-14T08:39:39.429Z"
   },
   {
    "duration": 10,
    "start_time": "2024-04-14T08:39:39.435Z"
   },
   {
    "duration": 9,
    "start_time": "2024-04-14T08:39:39.446Z"
   },
   {
    "duration": 11,
    "start_time": "2024-04-14T08:39:39.456Z"
   },
   {
    "duration": 17,
    "start_time": "2024-04-14T08:39:39.468Z"
   },
   {
    "duration": 3,
    "start_time": "2024-04-14T08:39:39.486Z"
   },
   {
    "duration": 55,
    "start_time": "2024-04-14T08:39:39.491Z"
   },
   {
    "duration": 175,
    "start_time": "2024-04-14T08:39:39.548Z"
   },
   {
    "duration": 4,
    "start_time": "2024-04-14T08:39:39.724Z"
   },
   {
    "duration": 87,
    "start_time": "2024-04-14T08:39:39.730Z"
   },
   {
    "duration": 6,
    "start_time": "2024-04-14T08:39:39.819Z"
   },
   {
    "duration": 168,
    "start_time": "2024-04-14T08:39:39.826Z"
   },
   {
    "duration": 3,
    "start_time": "2024-04-14T08:39:39.995Z"
   },
   {
    "duration": 117,
    "start_time": "2024-04-14T08:39:40.000Z"
   },
   {
    "duration": 182,
    "start_time": "2024-04-14T08:39:40.118Z"
   },
   {
    "duration": 17,
    "start_time": "2024-04-14T08:39:40.301Z"
   },
   {
    "duration": 112,
    "start_time": "2024-04-14T08:39:40.319Z"
   },
   {
    "duration": 10,
    "start_time": "2024-04-14T08:39:40.432Z"
   },
   {
    "duration": 233,
    "start_time": "2024-04-14T08:39:40.445Z"
   },
   {
    "duration": 7,
    "start_time": "2024-04-14T08:39:40.679Z"
   },
   {
    "duration": 18,
    "start_time": "2024-04-14T08:39:40.687Z"
   },
   {
    "duration": 3,
    "start_time": "2024-04-14T08:39:40.706Z"
   },
   {
    "duration": 7,
    "start_time": "2024-04-14T08:39:40.711Z"
   },
   {
    "duration": 26,
    "start_time": "2024-04-14T08:39:40.720Z"
   },
   {
    "duration": 82,
    "start_time": "2024-04-14T08:39:40.747Z"
   },
   {
    "duration": 23,
    "start_time": "2024-04-14T08:39:40.831Z"
   },
   {
    "duration": 266,
    "start_time": "2024-04-14T08:39:40.856Z"
   },
   {
    "duration": 279,
    "start_time": "2024-04-14T08:39:41.123Z"
   },
   {
    "duration": 277,
    "start_time": "2024-04-14T08:39:41.403Z"
   },
   {
    "duration": 263,
    "start_time": "2024-04-14T08:39:41.681Z"
   },
   {
    "duration": 3,
    "start_time": "2024-04-14T08:39:41.946Z"
   },
   {
    "duration": 821,
    "start_time": "2024-04-14T08:39:41.950Z"
   },
   {
    "duration": 13,
    "start_time": "2024-04-14T08:39:42.772Z"
   },
   {
    "duration": 135,
    "start_time": "2024-04-14T08:39:42.786Z"
   },
   {
    "duration": 4,
    "start_time": "2024-04-14T08:39:42.922Z"
   },
   {
    "duration": 19,
    "start_time": "2024-04-14T08:39:42.927Z"
   },
   {
    "duration": 59,
    "start_time": "2024-04-14T08:39:42.947Z"
   },
   {
    "duration": 67828,
    "start_time": "2024-04-14T08:39:43.007Z"
   },
   {
    "duration": 4,
    "start_time": "2024-04-14T08:40:50.836Z"
   },
   {
    "duration": 26,
    "start_time": "2024-04-14T08:40:50.841Z"
   },
   {
    "duration": 11,
    "start_time": "2024-04-14T08:40:50.868Z"
   },
   {
    "duration": 14,
    "start_time": "2024-04-14T08:40:50.880Z"
   },
   {
    "duration": 14,
    "start_time": "2024-04-14T08:40:50.895Z"
   },
   {
    "duration": 18,
    "start_time": "2024-04-14T08:40:50.910Z"
   },
   {
    "duration": 61,
    "start_time": "2024-04-14T08:40:50.929Z"
   },
   {
    "duration": 1043,
    "start_time": "2024-04-14T08:41:07.363Z"
   },
   {
    "duration": 62,
    "start_time": "2024-04-14T08:41:08.408Z"
   },
   {
    "duration": 12,
    "start_time": "2024-04-14T08:41:08.471Z"
   },
   {
    "duration": 32,
    "start_time": "2024-04-14T08:41:08.484Z"
   },
   {
    "duration": 47,
    "start_time": "2024-04-14T08:41:08.518Z"
   },
   {
    "duration": 33,
    "start_time": "2024-04-14T08:41:08.566Z"
   },
   {
    "duration": 23,
    "start_time": "2024-04-14T08:41:08.600Z"
   },
   {
    "duration": 29,
    "start_time": "2024-04-14T08:41:08.625Z"
   },
   {
    "duration": 37,
    "start_time": "2024-04-14T08:41:08.655Z"
   },
   {
    "duration": 16,
    "start_time": "2024-04-14T08:41:08.694Z"
   },
   {
    "duration": 31,
    "start_time": "2024-04-14T08:41:08.712Z"
   },
   {
    "duration": 24,
    "start_time": "2024-04-14T08:41:08.744Z"
   },
   {
    "duration": 34,
    "start_time": "2024-04-14T08:41:08.769Z"
   },
   {
    "duration": 21,
    "start_time": "2024-04-14T08:41:08.805Z"
   },
   {
    "duration": 24,
    "start_time": "2024-04-14T08:41:08.827Z"
   },
   {
    "duration": 56,
    "start_time": "2024-04-14T08:41:08.852Z"
   },
   {
    "duration": 162,
    "start_time": "2024-04-14T08:41:08.910Z"
   },
   {
    "duration": 4,
    "start_time": "2024-04-14T08:41:09.073Z"
   },
   {
    "duration": 76,
    "start_time": "2024-04-14T08:41:09.084Z"
   },
   {
    "duration": 5,
    "start_time": "2024-04-14T08:41:09.161Z"
   },
   {
    "duration": 134,
    "start_time": "2024-04-14T08:41:09.167Z"
   },
   {
    "duration": 3,
    "start_time": "2024-04-14T08:41:09.302Z"
   },
   {
    "duration": 105,
    "start_time": "2024-04-14T08:41:09.306Z"
   },
   {
    "duration": 171,
    "start_time": "2024-04-14T08:41:09.413Z"
   },
   {
    "duration": 18,
    "start_time": "2024-04-14T08:41:09.586Z"
   },
   {
    "duration": 104,
    "start_time": "2024-04-14T08:41:09.606Z"
   },
   {
    "duration": 10,
    "start_time": "2024-04-14T08:41:09.711Z"
   },
   {
    "duration": 183,
    "start_time": "2024-04-14T08:41:09.722Z"
   },
   {
    "duration": 4,
    "start_time": "2024-04-14T08:41:09.906Z"
   },
   {
    "duration": 17,
    "start_time": "2024-04-14T08:41:09.912Z"
   },
   {
    "duration": 2,
    "start_time": "2024-04-14T08:41:09.931Z"
   },
   {
    "duration": 15,
    "start_time": "2024-04-14T08:41:09.935Z"
   },
   {
    "duration": 38,
    "start_time": "2024-04-14T08:41:09.952Z"
   },
   {
    "duration": 56,
    "start_time": "2024-04-14T08:41:09.992Z"
   },
   {
    "duration": 36,
    "start_time": "2024-04-14T08:41:10.049Z"
   },
   {
    "duration": 219,
    "start_time": "2024-04-14T08:41:10.087Z"
   },
   {
    "duration": 233,
    "start_time": "2024-04-14T08:41:10.308Z"
   },
   {
    "duration": 238,
    "start_time": "2024-04-14T08:41:10.542Z"
   },
   {
    "duration": 216,
    "start_time": "2024-04-14T08:41:10.781Z"
   },
   {
    "duration": 2,
    "start_time": "2024-04-14T08:41:10.999Z"
   },
   {
    "duration": 810,
    "start_time": "2024-04-14T08:41:11.004Z"
   },
   {
    "duration": 3,
    "start_time": "2024-04-14T08:41:11.815Z"
   },
   {
    "duration": 124,
    "start_time": "2024-04-14T08:41:11.819Z"
   },
   {
    "duration": 5,
    "start_time": "2024-04-14T08:41:11.944Z"
   },
   {
    "duration": 4,
    "start_time": "2024-04-14T08:41:11.950Z"
   },
   {
    "duration": 11,
    "start_time": "2024-04-14T08:41:11.955Z"
   },
   {
    "duration": 25353,
    "start_time": "2024-04-14T08:41:11.967Z"
   },
   {
    "duration": 4,
    "start_time": "2024-04-14T08:41:37.321Z"
   },
   {
    "duration": 24943,
    "start_time": "2024-04-14T09:07:01.929Z"
   },
   {
    "duration": 963,
    "start_time": "2024-04-14T09:08:56.423Z"
   },
   {
    "duration": 62,
    "start_time": "2024-04-14T09:08:57.387Z"
   },
   {
    "duration": 12,
    "start_time": "2024-04-14T09:08:57.450Z"
   },
   {
    "duration": 8,
    "start_time": "2024-04-14T09:08:57.464Z"
   },
   {
    "duration": 16,
    "start_time": "2024-04-14T09:08:57.473Z"
   },
   {
    "duration": 11,
    "start_time": "2024-04-14T09:08:57.491Z"
   },
   {
    "duration": 5,
    "start_time": "2024-04-14T09:08:57.503Z"
   },
   {
    "duration": 7,
    "start_time": "2024-04-14T09:08:57.509Z"
   },
   {
    "duration": 10,
    "start_time": "2024-04-14T09:08:57.517Z"
   },
   {
    "duration": 4,
    "start_time": "2024-04-14T09:08:57.529Z"
   },
   {
    "duration": 8,
    "start_time": "2024-04-14T09:08:57.534Z"
   },
   {
    "duration": 20,
    "start_time": "2024-04-14T09:08:57.543Z"
   },
   {
    "duration": 28,
    "start_time": "2024-04-14T09:08:57.564Z"
   },
   {
    "duration": 6,
    "start_time": "2024-04-14T09:08:57.593Z"
   },
   {
    "duration": 13,
    "start_time": "2024-04-14T09:08:57.600Z"
   },
   {
    "duration": 37,
    "start_time": "2024-04-14T09:08:57.614Z"
   },
   {
    "duration": 176,
    "start_time": "2024-04-14T09:08:57.653Z"
   },
   {
    "duration": 4,
    "start_time": "2024-04-14T09:08:57.830Z"
   },
   {
    "duration": 87,
    "start_time": "2024-04-14T09:08:57.835Z"
   },
   {
    "duration": 6,
    "start_time": "2024-04-14T09:08:57.923Z"
   },
   {
    "duration": 160,
    "start_time": "2024-04-14T09:08:57.930Z"
   },
   {
    "duration": 4,
    "start_time": "2024-04-14T09:08:58.091Z"
   },
   {
    "duration": 108,
    "start_time": "2024-04-14T09:08:58.096Z"
   },
   {
    "duration": 190,
    "start_time": "2024-04-14T09:08:58.205Z"
   },
   {
    "duration": 23,
    "start_time": "2024-04-14T09:08:58.396Z"
   },
   {
    "duration": 112,
    "start_time": "2024-04-14T09:08:58.421Z"
   },
   {
    "duration": 9,
    "start_time": "2024-04-14T09:08:58.534Z"
   },
   {
    "duration": 222,
    "start_time": "2024-04-14T09:08:58.546Z"
   },
   {
    "duration": 5,
    "start_time": "2024-04-14T09:08:58.769Z"
   },
   {
    "duration": 25,
    "start_time": "2024-04-14T09:08:58.775Z"
   },
   {
    "duration": 3,
    "start_time": "2024-04-14T09:08:58.801Z"
   },
   {
    "duration": 10,
    "start_time": "2024-04-14T09:08:58.805Z"
   },
   {
    "duration": 26,
    "start_time": "2024-04-14T09:08:58.816Z"
   },
   {
    "duration": 79,
    "start_time": "2024-04-14T09:08:58.843Z"
   },
   {
    "duration": 22,
    "start_time": "2024-04-14T09:08:58.923Z"
   },
   {
    "duration": 254,
    "start_time": "2024-04-14T09:08:58.946Z"
   },
   {
    "duration": 262,
    "start_time": "2024-04-14T09:08:59.201Z"
   },
   {
    "duration": 275,
    "start_time": "2024-04-14T09:08:59.465Z"
   },
   {
    "duration": 255,
    "start_time": "2024-04-14T09:08:59.742Z"
   },
   {
    "duration": 3,
    "start_time": "2024-04-14T09:08:59.998Z"
   },
   {
    "duration": 819,
    "start_time": "2024-04-14T09:09:00.002Z"
   },
   {
    "duration": 2,
    "start_time": "2024-04-14T09:09:00.823Z"
   },
   {
    "duration": 217,
    "start_time": "2024-04-14T09:09:00.826Z"
   },
   {
    "duration": 4,
    "start_time": "2024-04-14T09:09:01.045Z"
   },
   {
    "duration": 53,
    "start_time": "2024-04-14T09:09:01.050Z"
   },
   {
    "duration": 91,
    "start_time": "2024-04-14T09:09:01.105Z"
   },
   {
    "duration": 66660,
    "start_time": "2024-04-14T09:09:01.197Z"
   },
   {
    "duration": 3,
    "start_time": "2024-04-14T09:10:07.858Z"
   },
   {
    "duration": 67493,
    "start_time": "2024-04-14T09:13:54.901Z"
   },
   {
    "duration": 66744,
    "start_time": "2024-04-14T09:16:01.955Z"
   },
   {
    "duration": 67261,
    "start_time": "2024-04-14T09:17:32.205Z"
   },
   {
    "duration": 3,
    "start_time": "2024-04-14T09:18:59.822Z"
   },
   {
    "duration": 970,
    "start_time": "2024-04-14T09:19:11.132Z"
   },
   {
    "duration": 62,
    "start_time": "2024-04-14T09:19:12.104Z"
   },
   {
    "duration": 12,
    "start_time": "2024-04-14T09:19:12.168Z"
   },
   {
    "duration": 11,
    "start_time": "2024-04-14T09:19:12.182Z"
   },
   {
    "duration": 15,
    "start_time": "2024-04-14T09:19:12.195Z"
   },
   {
    "duration": 9,
    "start_time": "2024-04-14T09:19:12.212Z"
   },
   {
    "duration": 6,
    "start_time": "2024-04-14T09:19:12.222Z"
   },
   {
    "duration": 8,
    "start_time": "2024-04-14T09:19:12.229Z"
   },
   {
    "duration": 11,
    "start_time": "2024-04-14T09:19:12.238Z"
   },
   {
    "duration": 6,
    "start_time": "2024-04-14T09:19:12.251Z"
   },
   {
    "duration": 33,
    "start_time": "2024-04-14T09:19:12.258Z"
   },
   {
    "duration": 10,
    "start_time": "2024-04-14T09:19:12.293Z"
   },
   {
    "duration": 9,
    "start_time": "2024-04-14T09:19:12.304Z"
   },
   {
    "duration": 6,
    "start_time": "2024-04-14T09:19:12.314Z"
   },
   {
    "duration": 3,
    "start_time": "2024-04-14T09:19:12.321Z"
   },
   {
    "duration": 71,
    "start_time": "2024-04-14T09:19:12.326Z"
   },
   {
    "duration": 176,
    "start_time": "2024-04-14T09:19:12.399Z"
   },
   {
    "duration": 4,
    "start_time": "2024-04-14T09:19:12.584Z"
   },
   {
    "duration": 77,
    "start_time": "2024-04-14T09:19:12.590Z"
   },
   {
    "duration": 16,
    "start_time": "2024-04-14T09:19:12.669Z"
   },
   {
    "duration": 168,
    "start_time": "2024-04-14T09:19:12.687Z"
   },
   {
    "duration": 4,
    "start_time": "2024-04-14T09:19:12.857Z"
   },
   {
    "duration": 108,
    "start_time": "2024-04-14T09:19:12.862Z"
   },
   {
    "duration": 171,
    "start_time": "2024-04-14T09:19:12.971Z"
   },
   {
    "duration": 17,
    "start_time": "2024-04-14T09:19:13.143Z"
   },
   {
    "duration": 111,
    "start_time": "2024-04-14T09:19:13.161Z"
   },
   {
    "duration": 13,
    "start_time": "2024-04-14T09:19:13.273Z"
   },
   {
    "duration": 219,
    "start_time": "2024-04-14T09:19:13.288Z"
   },
   {
    "duration": 4,
    "start_time": "2024-04-14T09:19:13.508Z"
   },
   {
    "duration": 20,
    "start_time": "2024-04-14T09:19:13.514Z"
   },
   {
    "duration": 3,
    "start_time": "2024-04-14T09:19:13.535Z"
   },
   {
    "duration": 20,
    "start_time": "2024-04-14T09:19:13.539Z"
   },
   {
    "duration": 30,
    "start_time": "2024-04-14T09:19:13.561Z"
   },
   {
    "duration": 51,
    "start_time": "2024-04-14T09:19:13.592Z"
   },
   {
    "duration": 39,
    "start_time": "2024-04-14T09:19:13.644Z"
   },
   {
    "duration": 268,
    "start_time": "2024-04-14T09:19:13.684Z"
   },
   {
    "duration": 273,
    "start_time": "2024-04-14T09:19:13.953Z"
   },
   {
    "duration": 269,
    "start_time": "2024-04-14T09:19:14.227Z"
   },
   {
    "duration": 253,
    "start_time": "2024-04-14T09:19:14.497Z"
   },
   {
    "duration": 3,
    "start_time": "2024-04-14T09:19:14.751Z"
   },
   {
    "duration": 777,
    "start_time": "2024-04-14T09:19:14.755Z"
   },
   {
    "duration": 3,
    "start_time": "2024-04-14T09:19:15.533Z"
   },
   {
    "duration": 141,
    "start_time": "2024-04-14T09:19:15.537Z"
   },
   {
    "duration": 5,
    "start_time": "2024-04-14T09:19:15.684Z"
   },
   {
    "duration": 27,
    "start_time": "2024-04-14T09:19:15.690Z"
   },
   {
    "duration": 31,
    "start_time": "2024-04-14T09:19:15.718Z"
   },
   {
    "duration": 67297,
    "start_time": "2024-04-14T09:19:15.750Z"
   },
   {
    "duration": 3,
    "start_time": "2024-04-14T09:20:23.049Z"
   }
  ],
  "kernelspec": {
   "display_name": "Python 3 (ipykernel)",
   "language": "python",
   "name": "python3"
  },
  "language_info": {
   "codemirror_mode": {
    "name": "ipython",
    "version": 3
   },
   "file_extension": ".py",
   "mimetype": "text/x-python",
   "name": "python",
   "nbconvert_exporter": "python",
   "pygments_lexer": "ipython3",
   "version": "3.9.5"
  },
  "toc": {
   "base_numbering": 1,
   "nav_menu": {},
   "number_sections": true,
   "sideBar": true,
   "skip_h1_title": true,
   "title_cell": "Table of Contents",
   "title_sidebar": "Contents",
   "toc_cell": false,
   "toc_position": {},
   "toc_section_display": true,
   "toc_window_display": false
  }
 },
 "nbformat": 4,
 "nbformat_minor": 5
}
