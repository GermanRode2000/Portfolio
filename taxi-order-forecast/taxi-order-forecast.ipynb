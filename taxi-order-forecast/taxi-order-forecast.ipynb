{
 "cells": [
  {
   "cell_type": "markdown",
   "metadata": {},
   "source": [
    "#  Прогнозирование заказов такси"
   ]
  },
  {
   "cell_type": "markdown",
   "metadata": {},
   "source": [
    "Имеются исторические данные о заказах такси в аэропортах. Чтобы привлекать больше водителей в период пиковой нагрузки, необходимо спрогнозировать количество заказов такси на следующий час. Нужно построить модель для такого предсказания.\n",
    "\n",
    "Требование:\n",
    "* Метрика *RMSE* на тестовой выборке <= 48."
   ]
  },
  {
   "cell_type": "markdown",
   "metadata": {
    "toc": true
   },
   "source": [
    "<h1>Содержание<span class=\"tocSkip\"></span></h1>\n",
    "<div class=\"toc\"><ul class=\"toc-item\"><li><span><a href=\"#Подготовка\" data-toc-modified-id=\"Подготовка-1\"><span class=\"toc-item-num\">1&nbsp;&nbsp;</span>Подготовка</a></span><ul class=\"toc-item\"><li><span><a href=\"#Вывод\" data-toc-modified-id=\"Вывод-1.1\"><span class=\"toc-item-num\">1.1&nbsp;&nbsp;</span>Вывод</a></span></li></ul></li><li><span><a href=\"#Анализ\" data-toc-modified-id=\"Анализ-2\"><span class=\"toc-item-num\">2&nbsp;&nbsp;</span>Анализ</a></span></li><li><span><a href=\"#Обучение\" data-toc-modified-id=\"Обучение-3\"><span class=\"toc-item-num\">3&nbsp;&nbsp;</span>Обучение</a></span><ul class=\"toc-item\"><li><span><a href=\"#Добавление-новых-признаков\" data-toc-modified-id=\"Добавление-новых-признаков-3.1\"><span class=\"toc-item-num\">3.1&nbsp;&nbsp;</span>Добавление новых признаков</a></span></li><li><span><a href=\"#Обучение-моделей\" data-toc-modified-id=\"Обучение-моделей-3.2\"><span class=\"toc-item-num\">3.2&nbsp;&nbsp;</span>Обучение моделей</a></span><ul class=\"toc-item\"><li><span><a href=\"#LinearRegression\" data-toc-modified-id=\"LinearRegression-3.2.1\"><span class=\"toc-item-num\">3.2.1&nbsp;&nbsp;</span>LinearRegression</a></span></li><li><span><a href=\"#DecisionTreeRegressor\" data-toc-modified-id=\"DecisionTreeRegressor-3.2.2\"><span class=\"toc-item-num\">3.2.2&nbsp;&nbsp;</span>DecisionTreeRegressor</a></span></li><li><span><a href=\"#CatBoostRegressor\" data-toc-modified-id=\"CatBoostRegressor-3.2.3\"><span class=\"toc-item-num\">3.2.3&nbsp;&nbsp;</span>CatBoostRegressor</a></span></li></ul></li><li><span><a href=\"#Вывод\" data-toc-modified-id=\"Вывод-3.3\"><span class=\"toc-item-num\">3.3&nbsp;&nbsp;</span>Вывод</a></span></li></ul></li><li><span><a href=\"#Тестирование\" data-toc-modified-id=\"Тестирование-4\"><span class=\"toc-item-num\">4&nbsp;&nbsp;</span>Тестирование</a></span><ul class=\"toc-item\"><li><span><a href=\"#Заключение\" data-toc-modified-id=\"Заключение-4.1\"><span class=\"toc-item-num\">4.1&nbsp;&nbsp;</span>Заключение</a></span></li></ul></li><li><span><a href=\"#Заключени\" data-toc-modified-id=\"Заключени-5\"><span class=\"toc-item-num\">5&nbsp;&nbsp;</span>Заключени</a></span></li></ul></div>"
   ]
  },
  {
   "cell_type": "markdown",
   "metadata": {},
   "source": [
    "## Подготовка"
   ]
  },
  {
   "cell_type": "code",
   "execution_count": 1,
   "metadata": {},
   "outputs": [],
   "source": [
    "import pandas as pd\n",
    "import numpy as np\n",
    "from statsmodels.tsa.seasonal import seasonal_decompose\n",
    "import matplotlib.pyplot as plt\n",
    "from sklearn.model_selection import train_test_split\n",
    "from sklearn.preprocessing import StandardScaler\n",
    "from sklearn.metrics import mean_squared_error\n",
    "from sklearn.linear_model import LinearRegression\n",
    "from sklearn.tree import DecisionTreeRegressor\n",
    "from catboost import CatBoostRegressor\n",
    "from sklearn.model_selection import GridSearchCV, TimeSeriesSplit\n",
    "from sklearn.dummy import DummyRegressor\n",
    "from statsmodels. tsa.stattools import adfuller\n",
    "import seaborn as sns\n",
    "\n",
    "sns.set(rc={'figure.figsize':(10,7)})"
   ]
  },
  {
   "cell_type": "code",
   "execution_count": 2,
   "metadata": {},
   "outputs": [],
   "source": [
    "df = pd.read_csv('/datasets/taxi.csv', index_col=[0], parse_dates=[0])"
   ]
  },
  {
   "cell_type": "code",
   "execution_count": 3,
   "metadata": {},
   "outputs": [
    {
     "data": {
      "text/html": [
       "<div>\n",
       "<style scoped>\n",
       "    .dataframe tbody tr th:only-of-type {\n",
       "        vertical-align: middle;\n",
       "    }\n",
       "\n",
       "    .dataframe tbody tr th {\n",
       "        vertical-align: top;\n",
       "    }\n",
       "\n",
       "    .dataframe thead th {\n",
       "        text-align: right;\n",
       "    }\n",
       "</style>\n",
       "<table border=\"1\" class=\"dataframe\">\n",
       "  <thead>\n",
       "    <tr style=\"text-align: right;\">\n",
       "      <th></th>\n",
       "      <th>num_orders</th>\n",
       "    </tr>\n",
       "    <tr>\n",
       "      <th>datetime</th>\n",
       "      <th></th>\n",
       "    </tr>\n",
       "  </thead>\n",
       "  <tbody>\n",
       "    <tr>\n",
       "      <th>2018-03-01 00:00:00</th>\n",
       "      <td>9</td>\n",
       "    </tr>\n",
       "    <tr>\n",
       "      <th>2018-03-01 00:10:00</th>\n",
       "      <td>14</td>\n",
       "    </tr>\n",
       "    <tr>\n",
       "      <th>2018-03-01 00:20:00</th>\n",
       "      <td>28</td>\n",
       "    </tr>\n",
       "    <tr>\n",
       "      <th>2018-03-01 00:30:00</th>\n",
       "      <td>20</td>\n",
       "    </tr>\n",
       "    <tr>\n",
       "      <th>2018-03-01 00:40:00</th>\n",
       "      <td>32</td>\n",
       "    </tr>\n",
       "    <tr>\n",
       "      <th>2018-03-01 00:50:00</th>\n",
       "      <td>21</td>\n",
       "    </tr>\n",
       "    <tr>\n",
       "      <th>2018-03-01 01:00:00</th>\n",
       "      <td>7</td>\n",
       "    </tr>\n",
       "    <tr>\n",
       "      <th>2018-03-01 01:10:00</th>\n",
       "      <td>5</td>\n",
       "    </tr>\n",
       "    <tr>\n",
       "      <th>2018-03-01 01:20:00</th>\n",
       "      <td>17</td>\n",
       "    </tr>\n",
       "    <tr>\n",
       "      <th>2018-03-01 01:30:00</th>\n",
       "      <td>12</td>\n",
       "    </tr>\n",
       "  </tbody>\n",
       "</table>\n",
       "</div>"
      ],
      "text/plain": [
       "                     num_orders\n",
       "datetime                       \n",
       "2018-03-01 00:00:00           9\n",
       "2018-03-01 00:10:00          14\n",
       "2018-03-01 00:20:00          28\n",
       "2018-03-01 00:30:00          20\n",
       "2018-03-01 00:40:00          32\n",
       "2018-03-01 00:50:00          21\n",
       "2018-03-01 01:00:00           7\n",
       "2018-03-01 01:10:00           5\n",
       "2018-03-01 01:20:00          17\n",
       "2018-03-01 01:30:00          12"
      ]
     },
     "execution_count": 3,
     "metadata": {},
     "output_type": "execute_result"
    }
   ],
   "source": [
    "df.head(10)"
   ]
  },
  {
   "cell_type": "code",
   "execution_count": 4,
   "metadata": {},
   "outputs": [
    {
     "name": "stdout",
     "output_type": "stream",
     "text": [
      "<class 'pandas.core.frame.DataFrame'>\n",
      "DatetimeIndex: 26496 entries, 2018-03-01 00:00:00 to 2018-08-31 23:50:00\n",
      "Data columns (total 1 columns):\n",
      " #   Column      Non-Null Count  Dtype\n",
      "---  ------      --------------  -----\n",
      " 0   num_orders  26496 non-null  int64\n",
      "dtypes: int64(1)\n",
      "memory usage: 414.0 KB\n"
     ]
    }
   ],
   "source": [
    "df.info()"
   ]
  },
  {
   "cell_type": "code",
   "execution_count": 5,
   "metadata": {},
   "outputs": [],
   "source": [
    "df.sort_index(inplace=True)"
   ]
  },
  {
   "cell_type": "markdown",
   "metadata": {},
   "source": [
    "- Данные загружены, в качестве индекса выбран столбец с датой.\n",
    "- Тип данные в столбце num_orders имеет нужный тип\n",
    "- Далее проведем ресемплирование по 1 часу."
   ]
  },
  {
   "cell_type": "code",
   "execution_count": 6,
   "metadata": {},
   "outputs": [],
   "source": [
    "# ресемплируем по одному часу\n",
    "df = df.resample('1H').sum()"
   ]
  },
  {
   "cell_type": "markdown",
   "metadata": {},
   "source": [
    "### Вывод\n",
    "- Произвели выгрузку данные\n",
    "- Проверили типы данных\n",
    "- Произвели ресемплирование по одному часу"
   ]
  },
  {
   "cell_type": "markdown",
   "metadata": {},
   "source": [
    "## Анализ"
   ]
  },
  {
   "cell_type": "code",
   "execution_count": 7,
   "metadata": {
    "scrolled": false
   },
   "outputs": [
    {
     "data": {
      "image/png": "[encoded data removed]",
      "text/plain": [
       "<Figure size 1080x864 with 1 Axes>"
      ]
     },
     "metadata": {},
     "output_type": "display_data"
    }
   ],
   "source": [
    "# построим график заказов по часам\n",
    "df.plot(figsize = (15,12))\n",
    "plt.xlabel(\"Дата\")\n",
    "plt.ylabel(\"Количество заказов\")\n",
    "plt.title('График заказов такси по дате')\n",
    "plt.show()"
   ]
  },
  {
   "cell_type": "code",
   "execution_count": 8,
   "metadata": {},
   "outputs": [],
   "source": [
    "# добавим скользящее среднее\n",
    "df['rolling_mean'] = df.rolling(24, closed='left').mean()"
   ]
  },
  {
   "cell_type": "code",
   "execution_count": 9,
   "metadata": {},
   "outputs": [
    {
     "data": {
      "image/png": "[encoded data removed]",
      "text/plain": [
       "<Figure size 1080x864 with 1 Axes>"
      ]
     },
     "metadata": {},
     "output_type": "display_data"
    }
   ],
   "source": [
    "# также построим график\n",
    "df.plot(figsize = (15,12))\n",
    "plt.xlabel(\"Дата\")\n",
    "plt.ylabel(\"Количество заказов\")\n",
    "plt.title('График заказов такси по дате')\n",
    "plt.show()"
   ]
  },
  {
   "cell_type": "code",
   "execution_count": 10,
   "metadata": {},
   "outputs": [],
   "source": [
    "df = df.drop('rolling_mean', axis=1)"
   ]
  },
  {
   "cell_type": "markdown",
   "metadata": {},
   "source": [
    "Проверим тест на стационарность при помощи теста Дики-Фуллера.\n",
    "- Нулевая гипотеза - временной ряд не стационарен\n",
    "- Альтернативная гипотеза - нулевой ряд стационарен"
   ]
  },
  {
   "cell_type": "code",
   "execution_count": 11,
   "metadata": {},
   "outputs": [],
   "source": [
    "pvalue = adfuller(df['num_orders'])[1]\n",
    "\n",
    "alpha = 0.05"
   ]
  },
  {
   "cell_type": "code",
   "execution_count": 12,
   "metadata": {},
   "outputs": [
    {
     "name": "stdout",
     "output_type": "stream",
     "text": [
      "При alpha равному 0.01:\n",
      "P value не меньше alpha - не можем отвергнуть нулевую гипотезу\n",
      " \n",
      "При alpha равному 0.05:\n",
      "P value меньше alpha - отвергаем нулевую гипотезу\n",
      " \n"
     ]
    }
   ],
   "source": [
    "for alpha in [0.01, 0.05]:\n",
    "    if pvalue < alpha:\n",
    "        print(f'При alpha равному {alpha}:')\n",
    "        print('P value меньше alpha - отвергаем нулевую гипотезу')\n",
    "        print(' ')\n",
    "    else:\n",
    "        print(f'При alpha равному {alpha}:')\n",
    "        print('P value не меньше alpha - не можем отвергнуть нулевую гипотезу')\n",
    "        print(' ')"
   ]
  },
  {
   "cell_type": "markdown",
   "metadata": {},
   "source": [
    "- По итогу теста Дики-Фуллера вывод неоднозначен: при значении alpha 0.01 мы не можем отвергнуть нулевую гипотезу и считаем, что ряд стационарен. При alpha равному 0.05 мы можем её отвегнуть и считать, что ряд нестационарен.\n",
    "- Будем считать данный ряд= нестационарным, так как с течением времени у него меняется и среднее, и стандартное отклонение среднего."
   ]
  },
  {
   "cell_type": "code",
   "execution_count": 13,
   "metadata": {},
   "outputs": [],
   "source": [
    "# теперь посмотрим на тренд\n",
    "decomposed = seasonal_decompose(df)"
   ]
  },
  {
   "cell_type": "code",
   "execution_count": 14,
   "metadata": {},
   "outputs": [
    {
     "data": {
      "image/png": "[encoded data removed]",
      "text/plain": [
       "<Figure size 1080x720 with 1 Axes>"
      ]
     },
     "metadata": {},
     "output_type": "display_data"
    }
   ],
   "source": [
    "# построим график тренда\n",
    "decomposed.trend.plot(ax=plt.gca(), figsize=(15, 10))\n",
    "plt.xlabel(\"Дата\")\n",
    "plt.ylabel(\"Количество заказов\")\n",
    "plt.title('Trend')\n",
    "plt.show()"
   ]
  },
  {
   "cell_type": "markdown",
   "metadata": {},
   "source": [
    "- К концу 2018 года спрос на такси вырос."
   ]
  },
  {
   "cell_type": "code",
   "execution_count": 15,
   "metadata": {},
   "outputs": [
    {
     "data": {
      "image/png": "[encoded data removed]",
      "text/plain": [
       "<Figure size 720x720 with 1 Axes>"
      ]
     },
     "metadata": {},
     "output_type": "display_data"
    }
   ],
   "source": [
    "# построим график сезонности за пару дней августа\n",
    "decomposed.seasonal['2018-08-01':'2018-08-02'].plot(ax=plt.gca(), figsize=(10, 10))\n",
    "plt.xlabel(\"Дата\")\n",
    "plt.ylabel(\"Количество заказов\")\n",
    "plt.title('Сезонность')\n",
    "plt.show()"
   ]
  },
  {
   "cell_type": "markdown",
   "metadata": {},
   "source": [
    "- Видно, что после 3 часов ночи и до 6 утра идет спад заказов.\n",
    "- В утренние часы спрос снова возрастает. Вероятно, под утром прилетает большее количество рейсов.\n",
    "- Максимальное количество заказов наблюдается в период с 21:00 до 03:00. Думаю, это связано с тем, что общественный транспорт уже не работает, либо в данное время не очень много прилетающих самолетов."
   ]
  },
  {
   "cell_type": "markdown",
   "metadata": {},
   "source": [
    "## Обучение"
   ]
  },
  {
   "cell_type": "markdown",
   "metadata": {},
   "source": [
    "### Добавление новых признаков"
   ]
  },
  {
   "cell_type": "code",
   "execution_count": 16,
   "metadata": {},
   "outputs": [],
   "source": [
    "# создадим функцию для добавления новых признаков признаков\n",
    "def make_features(df, max_lag, rolling_mean_size):\n",
    "    data = df.copy()\n",
    "    data['day'] = data.index.day\n",
    "    data['dayofweek'] = data.index.dayofweek\n",
    "    \n",
    "    for lag in range(1, max_lag + 1):\n",
    "        data['lag_{}'.format(lag)] = data['num_orders'].shift(lag)\n",
    "\n",
    "    data['rolling_mean'] = data['num_orders'].shift().rolling(rolling_mean_size).mean()\n",
    "    \n",
    "    return data"
   ]
  },
  {
   "cell_type": "code",
   "execution_count": 17,
   "metadata": {},
   "outputs": [],
   "source": [
    "# применим функцию к нашему датасету\n",
    "df = make_features(df, 24, 24)"
   ]
  },
  {
   "cell_type": "code",
   "execution_count": 18,
   "metadata": {},
   "outputs": [
    {
     "data": {
      "text/html": [
       "<div>\n",
       "<style scoped>\n",
       "    .dataframe tbody tr th:only-of-type {\n",
       "        vertical-align: middle;\n",
       "    }\n",
       "\n",
       "    .dataframe tbody tr th {\n",
       "        vertical-align: top;\n",
       "    }\n",
       "\n",
       "    .dataframe thead th {\n",
       "        text-align: right;\n",
       "    }\n",
       "</style>\n",
       "<table border=\"1\" class=\"dataframe\">\n",
       "  <thead>\n",
       "    <tr style=\"text-align: right;\">\n",
       "      <th></th>\n",
       "      <th>num_orders</th>\n",
       "      <th>day</th>\n",
       "      <th>dayofweek</th>\n",
       "      <th>lag_1</th>\n",
       "      <th>lag_2</th>\n",
       "      <th>lag_3</th>\n",
       "      <th>lag_4</th>\n",
       "      <th>lag_5</th>\n",
       "      <th>lag_6</th>\n",
       "      <th>lag_7</th>\n",
       "      <th>...</th>\n",
       "      <th>lag_16</th>\n",
       "      <th>lag_17</th>\n",
       "      <th>lag_18</th>\n",
       "      <th>lag_19</th>\n",
       "      <th>lag_20</th>\n",
       "      <th>lag_21</th>\n",
       "      <th>lag_22</th>\n",
       "      <th>lag_23</th>\n",
       "      <th>lag_24</th>\n",
       "      <th>rolling_mean</th>\n",
       "    </tr>\n",
       "    <tr>\n",
       "      <th>datetime</th>\n",
       "      <th></th>\n",
       "      <th></th>\n",
       "      <th></th>\n",
       "      <th></th>\n",
       "      <th></th>\n",
       "      <th></th>\n",
       "      <th></th>\n",
       "      <th></th>\n",
       "      <th></th>\n",
       "      <th></th>\n",
       "      <th></th>\n",
       "      <th></th>\n",
       "      <th></th>\n",
       "      <th></th>\n",
       "      <th></th>\n",
       "      <th></th>\n",
       "      <th></th>\n",
       "      <th></th>\n",
       "      <th></th>\n",
       "      <th></th>\n",
       "      <th></th>\n",
       "    </tr>\n",
       "  </thead>\n",
       "  <tbody>\n",
       "    <tr>\n",
       "      <th>2018-03-01 00:00:00</th>\n",
       "      <td>124</td>\n",
       "      <td>1</td>\n",
       "      <td>3</td>\n",
       "      <td>NaN</td>\n",
       "      <td>NaN</td>\n",
       "      <td>NaN</td>\n",
       "      <td>NaN</td>\n",
       "      <td>NaN</td>\n",
       "      <td>NaN</td>\n",
       "      <td>NaN</td>\n",
       "      <td>...</td>\n",
       "      <td>NaN</td>\n",
       "      <td>NaN</td>\n",
       "      <td>NaN</td>\n",
       "      <td>NaN</td>\n",
       "      <td>NaN</td>\n",
       "      <td>NaN</td>\n",
       "      <td>NaN</td>\n",
       "      <td>NaN</td>\n",
       "      <td>NaN</td>\n",
       "      <td>NaN</td>\n",
       "    </tr>\n",
       "    <tr>\n",
       "      <th>2018-03-01 01:00:00</th>\n",
       "      <td>85</td>\n",
       "      <td>1</td>\n",
       "      <td>3</td>\n",
       "      <td>124.0</td>\n",
       "      <td>NaN</td>\n",
       "      <td>NaN</td>\n",
       "      <td>NaN</td>\n",
       "      <td>NaN</td>\n",
       "      <td>NaN</td>\n",
       "      <td>NaN</td>\n",
       "      <td>...</td>\n",
       "      <td>NaN</td>\n",
       "      <td>NaN</td>\n",
       "      <td>NaN</td>\n",
       "      <td>NaN</td>\n",
       "      <td>NaN</td>\n",
       "      <td>NaN</td>\n",
       "      <td>NaN</td>\n",
       "      <td>NaN</td>\n",
       "      <td>NaN</td>\n",
       "      <td>NaN</td>\n",
       "    </tr>\n",
       "    <tr>\n",
       "      <th>2018-03-01 02:00:00</th>\n",
       "      <td>71</td>\n",
       "      <td>1</td>\n",
       "      <td>3</td>\n",
       "      <td>85.0</td>\n",
       "      <td>124.0</td>\n",
       "      <td>NaN</td>\n",
       "      <td>NaN</td>\n",
       "      <td>NaN</td>\n",
       "      <td>NaN</td>\n",
       "      <td>NaN</td>\n",
       "      <td>...</td>\n",
       "      <td>NaN</td>\n",
       "      <td>NaN</td>\n",
       "      <td>NaN</td>\n",
       "      <td>NaN</td>\n",
       "      <td>NaN</td>\n",
       "      <td>NaN</td>\n",
       "      <td>NaN</td>\n",
       "      <td>NaN</td>\n",
       "      <td>NaN</td>\n",
       "      <td>NaN</td>\n",
       "    </tr>\n",
       "    <tr>\n",
       "      <th>2018-03-01 03:00:00</th>\n",
       "      <td>66</td>\n",
       "      <td>1</td>\n",
       "      <td>3</td>\n",
       "      <td>71.0</td>\n",
       "      <td>85.0</td>\n",
       "      <td>124.0</td>\n",
       "      <td>NaN</td>\n",
       "      <td>NaN</td>\n",
       "      <td>NaN</td>\n",
       "      <td>NaN</td>\n",
       "      <td>...</td>\n",
       "      <td>NaN</td>\n",
       "      <td>NaN</td>\n",
       "      <td>NaN</td>\n",
       "      <td>NaN</td>\n",
       "      <td>NaN</td>\n",
       "      <td>NaN</td>\n",
       "      <td>NaN</td>\n",
       "      <td>NaN</td>\n",
       "      <td>NaN</td>\n",
       "      <td>NaN</td>\n",
       "    </tr>\n",
       "    <tr>\n",
       "      <th>2018-03-01 04:00:00</th>\n",
       "      <td>43</td>\n",
       "      <td>1</td>\n",
       "      <td>3</td>\n",
       "      <td>66.0</td>\n",
       "      <td>71.0</td>\n",
       "      <td>85.0</td>\n",
       "      <td>124.0</td>\n",
       "      <td>NaN</td>\n",
       "      <td>NaN</td>\n",
       "      <td>NaN</td>\n",
       "      <td>...</td>\n",
       "      <td>NaN</td>\n",
       "      <td>NaN</td>\n",
       "      <td>NaN</td>\n",
       "      <td>NaN</td>\n",
       "      <td>NaN</td>\n",
       "      <td>NaN</td>\n",
       "      <td>NaN</td>\n",
       "      <td>NaN</td>\n",
       "      <td>NaN</td>\n",
       "      <td>NaN</td>\n",
       "    </tr>\n",
       "  </tbody>\n",
       "</table>\n",
       "<p>5 rows × 28 columns</p>\n",
       "</div>"
      ],
      "text/plain": [
       "                     num_orders  day  dayofweek  lag_1  lag_2  lag_3  lag_4  \\\n",
       "datetime                                                                      \n",
       "2018-03-01 00:00:00         124    1          3    NaN    NaN    NaN    NaN   \n",
       "2018-03-01 01:00:00          85    1          3  124.0    NaN    NaN    NaN   \n",
       "2018-03-01 02:00:00          71    1          3   85.0  124.0    NaN    NaN   \n",
       "2018-03-01 03:00:00          66    1          3   71.0   85.0  124.0    NaN   \n",
       "2018-03-01 04:00:00          43    1          3   66.0   71.0   85.0  124.0   \n",
       "\n",
       "                     lag_5  lag_6  lag_7  ...  lag_16  lag_17  lag_18  lag_19  \\\n",
       "datetime                                  ...                                   \n",
       "2018-03-01 00:00:00    NaN    NaN    NaN  ...     NaN     NaN     NaN     NaN   \n",
       "2018-03-01 01:00:00    NaN    NaN    NaN  ...     NaN     NaN     NaN     NaN   \n",
       "2018-03-01 02:00:00    NaN    NaN    NaN  ...     NaN     NaN     NaN     NaN   \n",
       "2018-03-01 03:00:00    NaN    NaN    NaN  ...     NaN     NaN     NaN     NaN   \n",
       "2018-03-01 04:00:00    NaN    NaN    NaN  ...     NaN     NaN     NaN     NaN   \n",
       "\n",
       "                     lag_20  lag_21  lag_22  lag_23  lag_24  rolling_mean  \n",
       "datetime                                                                   \n",
       "2018-03-01 00:00:00     NaN     NaN     NaN     NaN     NaN           NaN  \n",
       "2018-03-01 01:00:00     NaN     NaN     NaN     NaN     NaN           NaN  \n",
       "2018-03-01 02:00:00     NaN     NaN     NaN     NaN     NaN           NaN  \n",
       "2018-03-01 03:00:00     NaN     NaN     NaN     NaN     NaN           NaN  \n",
       "2018-03-01 04:00:00     NaN     NaN     NaN     NaN     NaN           NaN  \n",
       "\n",
       "[5 rows x 28 columns]"
      ]
     },
     "execution_count": 18,
     "metadata": {},
     "output_type": "execute_result"
    }
   ],
   "source": [
    "df.head()"
   ]
  },
  {
   "cell_type": "markdown",
   "metadata": {},
   "source": [
    "### Обучение моделей"
   ]
  },
  {
   "cell_type": "code",
   "execution_count": 19,
   "metadata": {},
   "outputs": [],
   "source": [
    "RANDOM_STATE = 74\n",
    "tss = TimeSeriesSplit(n_splits=2)"
   ]
  },
  {
   "cell_type": "code",
   "execution_count": 20,
   "metadata": {},
   "outputs": [],
   "source": [
    "# разобъем данные на тренировочную и тестовую выборки\n",
    "train, test = train_test_split(df, shuffle=False, test_size=0.1, random_state=RANDOM_STATE)\n",
    "\n",
    "train = train.dropna()"
   ]
  },
  {
   "cell_type": "code",
   "execution_count": 21,
   "metadata": {},
   "outputs": [
    {
     "name": "stdout",
     "output_type": "stream",
     "text": [
      "2018-03-02 00:00:00 2018-08-13 13:00:00\n",
      "2018-08-13 14:00:00 2018-08-31 23:00:00\n"
     ]
    }
   ],
   "source": [
    "# проверим, не перемешались ли данные\n",
    "print(train.index.min(), train.index.max())\n",
    "print(test.index.min(), test.index.max())"
   ]
  },
  {
   "cell_type": "code",
   "execution_count": 22,
   "metadata": {},
   "outputs": [],
   "source": [
    "y_train = train['num_orders']\n",
    "X_train = train.drop(['num_orders'], axis=1)\n",
    "y_test = test['num_orders']\n",
    "X_test = test.drop(['num_orders'], axis=1)"
   ]
  },
  {
   "cell_type": "markdown",
   "metadata": {},
   "source": [
    "- Разбили данные на тренировочную и тестовую выборки\n",
    "- Данные не перемешались"
   ]
  },
  {
   "cell_type": "code",
   "execution_count": 23,
   "metadata": {},
   "outputs": [],
   "source": [
    "# масштабируем данные\n",
    "scaler = StandardScaler()\n",
    "\n",
    "X_train_scal = scaler.fit_transform(X_train)\n",
    "X_test_scal = scaler.transform(X_test)\n",
    "\n",
    "X_train = pd.DataFrame(X_train_scal, columns=train.drop(['num_orders'], axis=1).columns, index=X_train.index)\n",
    "X_test = pd.DataFrame(X_test_scal, columns=test.drop(['num_orders'], axis=1).columns, index=X_test.index)"
   ]
  },
  {
   "cell_type": "code",
   "execution_count": 24,
   "metadata": {},
   "outputs": [
    {
     "data": {
      "text/html": [
       "<div>\n",
       "<style scoped>\n",
       "    .dataframe tbody tr th:only-of-type {\n",
       "        vertical-align: middle;\n",
       "    }\n",
       "\n",
       "    .dataframe tbody tr th {\n",
       "        vertical-align: top;\n",
       "    }\n",
       "\n",
       "    .dataframe thead th {\n",
       "        text-align: right;\n",
       "    }\n",
       "</style>\n",
       "<table border=\"1\" class=\"dataframe\">\n",
       "  <thead>\n",
       "    <tr style=\"text-align: right;\">\n",
       "      <th></th>\n",
       "      <th>day</th>\n",
       "      <th>dayofweek</th>\n",
       "      <th>lag_1</th>\n",
       "      <th>lag_2</th>\n",
       "      <th>lag_3</th>\n",
       "      <th>lag_4</th>\n",
       "      <th>lag_5</th>\n",
       "      <th>lag_6</th>\n",
       "      <th>lag_7</th>\n",
       "      <th>lag_8</th>\n",
       "      <th>...</th>\n",
       "      <th>lag_16</th>\n",
       "      <th>lag_17</th>\n",
       "      <th>lag_18</th>\n",
       "      <th>lag_19</th>\n",
       "      <th>lag_20</th>\n",
       "      <th>lag_21</th>\n",
       "      <th>lag_22</th>\n",
       "      <th>lag_23</th>\n",
       "      <th>lag_24</th>\n",
       "      <th>rolling_mean</th>\n",
       "    </tr>\n",
       "    <tr>\n",
       "      <th>datetime</th>\n",
       "      <th></th>\n",
       "      <th></th>\n",
       "      <th></th>\n",
       "      <th></th>\n",
       "      <th></th>\n",
       "      <th></th>\n",
       "      <th></th>\n",
       "      <th></th>\n",
       "      <th></th>\n",
       "      <th></th>\n",
       "      <th></th>\n",
       "      <th></th>\n",
       "      <th></th>\n",
       "      <th></th>\n",
       "      <th></th>\n",
       "      <th></th>\n",
       "      <th></th>\n",
       "      <th></th>\n",
       "      <th></th>\n",
       "      <th></th>\n",
       "      <th></th>\n",
       "    </tr>\n",
       "  </thead>\n",
       "  <tbody>\n",
       "    <tr>\n",
       "      <th>2018-03-02 00:00:00</th>\n",
       "      <td>-1.494371</td>\n",
       "      <td>0.48532</td>\n",
       "      <td>-0.527564</td>\n",
       "      <td>0.894187</td>\n",
       "      <td>-0.320444</td>\n",
       "      <td>-0.449344</td>\n",
       "      <td>-0.862885</td>\n",
       "      <td>-0.138173</td>\n",
       "      <td>-0.888716</td>\n",
       "      <td>-0.914359</td>\n",
       "      <td>...</td>\n",
       "      <td>-1.158737</td>\n",
       "      <td>-1.657638</td>\n",
       "      <td>-1.735376</td>\n",
       "      <td>-1.891784</td>\n",
       "      <td>-0.918985</td>\n",
       "      <td>-0.314251</td>\n",
       "      <td>-0.182379</td>\n",
       "      <td>0.186269</td>\n",
       "      <td>1.211966</td>\n",
       "      <td>-1.106319</td>\n",
       "    </tr>\n",
       "    <tr>\n",
       "      <th>2018-03-02 01:00:00</th>\n",
       "      <td>-1.494371</td>\n",
       "      <td>0.48532</td>\n",
       "      <td>0.299761</td>\n",
       "      <td>-0.527656</td>\n",
       "      <td>0.895012</td>\n",
       "      <td>-0.319978</td>\n",
       "      <td>-0.448830</td>\n",
       "      <td>-0.862776</td>\n",
       "      <td>-0.138210</td>\n",
       "      <td>-0.888482</td>\n",
       "      <td>...</td>\n",
       "      <td>-0.238042</td>\n",
       "      <td>-1.157864</td>\n",
       "      <td>-1.656492</td>\n",
       "      <td>-1.734086</td>\n",
       "      <td>-1.891348</td>\n",
       "      <td>-0.918758</td>\n",
       "      <td>-0.313858</td>\n",
       "      <td>-0.182033</td>\n",
       "      <td>0.186112</td>\n",
       "      <td>-1.179778</td>\n",
       "    </tr>\n",
       "    <tr>\n",
       "      <th>2018-03-02 02:00:00</th>\n",
       "      <td>-1.494371</td>\n",
       "      <td>0.48532</td>\n",
       "      <td>1.075379</td>\n",
       "      <td>0.299598</td>\n",
       "      <td>-0.527331</td>\n",
       "      <td>0.896068</td>\n",
       "      <td>-0.319438</td>\n",
       "      <td>-0.448717</td>\n",
       "      <td>-0.862836</td>\n",
       "      <td>-0.138046</td>\n",
       "      <td>...</td>\n",
       "      <td>-0.369570</td>\n",
       "      <td>-0.237228</td>\n",
       "      <td>-1.156891</td>\n",
       "      <td>-1.655237</td>\n",
       "      <td>-1.733668</td>\n",
       "      <td>-1.891226</td>\n",
       "      <td>-0.918661</td>\n",
       "      <td>-0.313569</td>\n",
       "      <td>-0.182143</td>\n",
       "      <td>-1.104159</td>\n",
       "    </tr>\n",
       "    <tr>\n",
       "      <th>2018-03-02 03:00:00</th>\n",
       "      <td>-1.494371</td>\n",
       "      <td>0.48532</td>\n",
       "      <td>-0.088047</td>\n",
       "      <td>1.075149</td>\n",
       "      <td>0.300214</td>\n",
       "      <td>-0.526964</td>\n",
       "      <td>0.896848</td>\n",
       "      <td>-0.319324</td>\n",
       "      <td>-0.448764</td>\n",
       "      <td>-0.862605</td>\n",
       "      <td>...</td>\n",
       "      <td>0.472208</td>\n",
       "      <td>-0.368747</td>\n",
       "      <td>-0.236573</td>\n",
       "      <td>-1.155862</td>\n",
       "      <td>-1.654828</td>\n",
       "      <td>-1.733528</td>\n",
       "      <td>-1.891604</td>\n",
       "      <td>-0.918637</td>\n",
       "      <td>-0.313663</td>\n",
       "      <td>-1.095517</td>\n",
       "    </tr>\n",
       "    <tr>\n",
       "      <th>2018-03-02 04:00:00</th>\n",
       "      <td>-1.494371</td>\n",
       "      <td>0.48532</td>\n",
       "      <td>-0.372440</td>\n",
       "      <td>-0.088177</td>\n",
       "      <td>1.076037</td>\n",
       "      <td>0.300982</td>\n",
       "      <td>-0.526465</td>\n",
       "      <td>0.896976</td>\n",
       "      <td>-0.319366</td>\n",
       "      <td>-0.448572</td>\n",
       "      <td>...</td>\n",
       "      <td>-1.263960</td>\n",
       "      <td>0.472977</td>\n",
       "      <td>-0.368047</td>\n",
       "      <td>-0.235961</td>\n",
       "      <td>-1.155506</td>\n",
       "      <td>-1.654679</td>\n",
       "      <td>-1.733829</td>\n",
       "      <td>-1.892006</td>\n",
       "      <td>-0.918654</td>\n",
       "      <td>-1.099838</td>\n",
       "    </tr>\n",
       "  </tbody>\n",
       "</table>\n",
       "<p>5 rows × 27 columns</p>\n",
       "</div>"
      ],
      "text/plain": [
       "                          day  dayofweek     lag_1     lag_2     lag_3  \\\n",
       "datetime                                                                 \n",
       "2018-03-02 00:00:00 -1.494371    0.48532 -0.527564  0.894187 -0.320444   \n",
       "2018-03-02 01:00:00 -1.494371    0.48532  0.299761 -0.527656  0.895012   \n",
       "2018-03-02 02:00:00 -1.494371    0.48532  1.075379  0.299598 -0.527331   \n",
       "2018-03-02 03:00:00 -1.494371    0.48532 -0.088047  1.075149  0.300214   \n",
       "2018-03-02 04:00:00 -1.494371    0.48532 -0.372440 -0.088177  1.076037   \n",
       "\n",
       "                        lag_4     lag_5     lag_6     lag_7     lag_8  ...  \\\n",
       "datetime                                                               ...   \n",
       "2018-03-02 00:00:00 -0.449344 -0.862885 -0.138173 -0.888716 -0.914359  ...   \n",
       "2018-03-02 01:00:00 -0.319978 -0.448830 -0.862776 -0.138210 -0.888482  ...   \n",
       "2018-03-02 02:00:00  0.896068 -0.319438 -0.448717 -0.862836 -0.138046  ...   \n",
       "2018-03-02 03:00:00 -0.526964  0.896848 -0.319324 -0.448764 -0.862605  ...   \n",
       "2018-03-02 04:00:00  0.300982 -0.526465  0.896976 -0.319366 -0.448572  ...   \n",
       "\n",
       "                       lag_16    lag_17    lag_18    lag_19    lag_20  \\\n",
       "datetime                                                                \n",
       "2018-03-02 00:00:00 -1.158737 -1.657638 -1.735376 -1.891784 -0.918985   \n",
       "2018-03-02 01:00:00 -0.238042 -1.157864 -1.656492 -1.734086 -1.891348   \n",
       "2018-03-02 02:00:00 -0.369570 -0.237228 -1.156891 -1.655237 -1.733668   \n",
       "2018-03-02 03:00:00  0.472208 -0.368747 -0.236573 -1.155862 -1.654828   \n",
       "2018-03-02 04:00:00 -1.263960  0.472977 -0.368047 -0.235961 -1.155506   \n",
       "\n",
       "                       lag_21    lag_22    lag_23    lag_24  rolling_mean  \n",
       "datetime                                                                   \n",
       "2018-03-02 00:00:00 -0.314251 -0.182379  0.186269  1.211966     -1.106319  \n",
       "2018-03-02 01:00:00 -0.918758 -0.313858 -0.182033  0.186112     -1.179778  \n",
       "2018-03-02 02:00:00 -1.891226 -0.918661 -0.313569 -0.182143     -1.104159  \n",
       "2018-03-02 03:00:00 -1.733528 -1.891604 -0.918637 -0.313663     -1.095517  \n",
       "2018-03-02 04:00:00 -1.654679 -1.733829 -1.892006 -0.918654     -1.099838  \n",
       "\n",
       "[5 rows x 27 columns]"
      ]
     },
     "execution_count": 24,
     "metadata": {},
     "output_type": "execute_result"
    }
   ],
   "source": [
    "X_train.head()"
   ]
  },
  {
   "cell_type": "code",
   "execution_count": 25,
   "metadata": {},
   "outputs": [
    {
     "data": {
      "text/html": [
       "<div>\n",
       "<style scoped>\n",
       "    .dataframe tbody tr th:only-of-type {\n",
       "        vertical-align: middle;\n",
       "    }\n",
       "\n",
       "    .dataframe tbody tr th {\n",
       "        vertical-align: top;\n",
       "    }\n",
       "\n",
       "    .dataframe thead th {\n",
       "        text-align: right;\n",
       "    }\n",
       "</style>\n",
       "<table border=\"1\" class=\"dataframe\">\n",
       "  <thead>\n",
       "    <tr style=\"text-align: right;\">\n",
       "      <th></th>\n",
       "      <th>day</th>\n",
       "      <th>dayofweek</th>\n",
       "      <th>lag_1</th>\n",
       "      <th>lag_2</th>\n",
       "      <th>lag_3</th>\n",
       "      <th>lag_4</th>\n",
       "      <th>lag_5</th>\n",
       "      <th>lag_6</th>\n",
       "      <th>lag_7</th>\n",
       "      <th>lag_8</th>\n",
       "      <th>...</th>\n",
       "      <th>lag_16</th>\n",
       "      <th>lag_17</th>\n",
       "      <th>lag_18</th>\n",
       "      <th>lag_19</th>\n",
       "      <th>lag_20</th>\n",
       "      <th>lag_21</th>\n",
       "      <th>lag_22</th>\n",
       "      <th>lag_23</th>\n",
       "      <th>lag_24</th>\n",
       "      <th>rolling_mean</th>\n",
       "    </tr>\n",
       "    <tr>\n",
       "      <th>datetime</th>\n",
       "      <th></th>\n",
       "      <th></th>\n",
       "      <th></th>\n",
       "      <th></th>\n",
       "      <th></th>\n",
       "      <th></th>\n",
       "      <th></th>\n",
       "      <th></th>\n",
       "      <th></th>\n",
       "      <th></th>\n",
       "      <th></th>\n",
       "      <th></th>\n",
       "      <th></th>\n",
       "      <th></th>\n",
       "      <th></th>\n",
       "      <th></th>\n",
       "      <th></th>\n",
       "      <th></th>\n",
       "      <th></th>\n",
       "      <th></th>\n",
       "      <th></th>\n",
       "    </tr>\n",
       "  </thead>\n",
       "  <tbody>\n",
       "    <tr>\n",
       "      <th>2018-08-13 14:00:00</th>\n",
       "      <td>-0.249587</td>\n",
       "      <td>-1.507418</td>\n",
       "      <td>1.049525</td>\n",
       "      <td>0.351302</td>\n",
       "      <td>1.696696</td>\n",
       "      <td>2.008621</td>\n",
       "      <td>1.517930</td>\n",
       "      <td>0.327644</td>\n",
       "      <td>-1.018113</td>\n",
       "      <td>-0.319186</td>\n",
       "      <td>...</td>\n",
       "      <td>1.050931</td>\n",
       "      <td>1.498829</td>\n",
       "      <td>0.525976</td>\n",
       "      <td>0.105717</td>\n",
       "      <td>0.000818</td>\n",
       "      <td>0.973612</td>\n",
       "      <td>1.973873</td>\n",
       "      <td>1.869935</td>\n",
       "      <td>0.685887</td>\n",
       "      <td>3.130539</td>\n",
       "    </tr>\n",
       "    <tr>\n",
       "      <th>2018-08-13 15:00:00</th>\n",
       "      <td>-0.249587</td>\n",
       "      <td>-1.507418</td>\n",
       "      <td>0.610008</td>\n",
       "      <td>1.049298</td>\n",
       "      <td>0.351936</td>\n",
       "      <td>1.698141</td>\n",
       "      <td>2.009620</td>\n",
       "      <td>1.518065</td>\n",
       "      <td>0.327622</td>\n",
       "      <td>-1.017868</td>\n",
       "      <td>...</td>\n",
       "      <td>2.813405</td>\n",
       "      <td>1.051663</td>\n",
       "      <td>1.498883</td>\n",
       "      <td>0.526244</td>\n",
       "      <td>0.105939</td>\n",
       "      <td>0.001144</td>\n",
       "      <td>0.974634</td>\n",
       "      <td>1.975164</td>\n",
       "      <td>1.869565</td>\n",
       "      <td>3.126218</td>\n",
       "    </tr>\n",
       "    <tr>\n",
       "      <th>2018-08-13 16:00:00</th>\n",
       "      <td>-0.249587</td>\n",
       "      <td>-1.507418</td>\n",
       "      <td>2.497344</td>\n",
       "      <td>0.609819</td>\n",
       "      <td>1.050177</td>\n",
       "      <td>0.352729</td>\n",
       "      <td>1.699079</td>\n",
       "      <td>2.009760</td>\n",
       "      <td>1.518079</td>\n",
       "      <td>0.327742</td>\n",
       "      <td>...</td>\n",
       "      <td>2.155765</td>\n",
       "      <td>2.814024</td>\n",
       "      <td>1.051871</td>\n",
       "      <td>1.498711</td>\n",
       "      <td>0.526420</td>\n",
       "      <td>0.106276</td>\n",
       "      <td>0.001691</td>\n",
       "      <td>0.975487</td>\n",
       "      <td>1.974781</td>\n",
       "      <td>3.182392</td>\n",
       "    </tr>\n",
       "    <tr>\n",
       "      <th>2018-08-13 17:00:00</th>\n",
       "      <td>-0.249587</td>\n",
       "      <td>-1.507418</td>\n",
       "      <td>1.695873</td>\n",
       "      <td>2.496993</td>\n",
       "      <td>0.610543</td>\n",
       "      <td>1.051308</td>\n",
       "      <td>0.353401</td>\n",
       "      <td>1.699216</td>\n",
       "      <td>2.009790</td>\n",
       "      <td>1.518089</td>\n",
       "      <td>...</td>\n",
       "      <td>5.128295</td>\n",
       "      <td>2.156427</td>\n",
       "      <td>2.813622</td>\n",
       "      <td>1.051902</td>\n",
       "      <td>1.498784</td>\n",
       "      <td>0.526803</td>\n",
       "      <td>0.106874</td>\n",
       "      <td>0.002118</td>\n",
       "      <td>0.975231</td>\n",
       "      <td>3.162947</td>\n",
       "    </tr>\n",
       "    <tr>\n",
       "      <th>2018-08-13 18:00:00</th>\n",
       "      <td>-0.249587</td>\n",
       "      <td>-1.507418</td>\n",
       "      <td>1.902704</td>\n",
       "      <td>1.695590</td>\n",
       "      <td>2.498380</td>\n",
       "      <td>0.611462</td>\n",
       "      <td>1.052118</td>\n",
       "      <td>0.353523</td>\n",
       "      <td>1.699236</td>\n",
       "      <td>2.009754</td>\n",
       "      <td>...</td>\n",
       "      <td>9.442409</td>\n",
       "      <td>5.128767</td>\n",
       "      <td>2.156252</td>\n",
       "      <td>2.812856</td>\n",
       "      <td>1.052022</td>\n",
       "      <td>1.499271</td>\n",
       "      <td>0.527606</td>\n",
       "      <td>0.107347</td>\n",
       "      <td>0.001984</td>\n",
       "      <td>3.242888</td>\n",
       "    </tr>\n",
       "  </tbody>\n",
       "</table>\n",
       "<p>5 rows × 27 columns</p>\n",
       "</div>"
      ],
      "text/plain": [
       "                          day  dayofweek     lag_1     lag_2     lag_3  \\\n",
       "datetime                                                                 \n",
       "2018-08-13 14:00:00 -0.249587  -1.507418  1.049525  0.351302  1.696696   \n",
       "2018-08-13 15:00:00 -0.249587  -1.507418  0.610008  1.049298  0.351936   \n",
       "2018-08-13 16:00:00 -0.249587  -1.507418  2.497344  0.609819  1.050177   \n",
       "2018-08-13 17:00:00 -0.249587  -1.507418  1.695873  2.496993  0.610543   \n",
       "2018-08-13 18:00:00 -0.249587  -1.507418  1.902704  1.695590  2.498380   \n",
       "\n",
       "                        lag_4     lag_5     lag_6     lag_7     lag_8  ...  \\\n",
       "datetime                                                               ...   \n",
       "2018-08-13 14:00:00  2.008621  1.517930  0.327644 -1.018113 -0.319186  ...   \n",
       "2018-08-13 15:00:00  1.698141  2.009620  1.518065  0.327622 -1.017868  ...   \n",
       "2018-08-13 16:00:00  0.352729  1.699079  2.009760  1.518079  0.327742  ...   \n",
       "2018-08-13 17:00:00  1.051308  0.353401  1.699216  2.009790  1.518089  ...   \n",
       "2018-08-13 18:00:00  0.611462  1.052118  0.353523  1.699236  2.009754  ...   \n",
       "\n",
       "                       lag_16    lag_17    lag_18    lag_19    lag_20  \\\n",
       "datetime                                                                \n",
       "2018-08-13 14:00:00  1.050931  1.498829  0.525976  0.105717  0.000818   \n",
       "2018-08-13 15:00:00  2.813405  1.051663  1.498883  0.526244  0.105939   \n",
       "2018-08-13 16:00:00  2.155765  2.814024  1.051871  1.498711  0.526420   \n",
       "2018-08-13 17:00:00  5.128295  2.156427  2.813622  1.051902  1.498784   \n",
       "2018-08-13 18:00:00  9.442409  5.128767  2.156252  2.812856  1.052022   \n",
       "\n",
       "                       lag_21    lag_22    lag_23    lag_24  rolling_mean  \n",
       "datetime                                                                   \n",
       "2018-08-13 14:00:00  0.973612  1.973873  1.869935  0.685887      3.130539  \n",
       "2018-08-13 15:00:00  0.001144  0.974634  1.975164  1.869565      3.126218  \n",
       "2018-08-13 16:00:00  0.106276  0.001691  0.975487  1.974781      3.182392  \n",
       "2018-08-13 17:00:00  0.526803  0.106874  0.002118  0.975231      3.162947  \n",
       "2018-08-13 18:00:00  1.499271  0.527606  0.107347  0.001984      3.242888  \n",
       "\n",
       "[5 rows x 27 columns]"
      ]
     },
     "execution_count": 25,
     "metadata": {},
     "output_type": "execute_result"
    }
   ],
   "source": [
    "X_test.head()"
   ]
  },
  {
   "cell_type": "markdown",
   "metadata": {},
   "source": [
    "#### LinearRegression"
   ]
  },
  {
   "cell_type": "code",
   "execution_count": 26,
   "metadata": {},
   "outputs": [],
   "source": [
    "lin_model = LinearRegression()\n",
    "param_lr = {}"
   ]
  },
  {
   "cell_type": "code",
   "execution_count": 27,
   "metadata": {},
   "outputs": [],
   "source": [
    "gs_lr = GridSearchCV(\n",
    "        lin_model,\n",
    "        param_lr,\n",
    "        scoring='neg_root_mean_squared_error',\n",
    "        cv=tss) "
   ]
  },
  {
   "cell_type": "code",
   "execution_count": 28,
   "metadata": {},
   "outputs": [
    {
     "data": {
      "text/html": [
       "<style>#sk-container-id-1 {\n",
       "  /* Definition of color scheme common for light and dark mode */\n",
       "  --sklearn-color-text: black;\n",
       "  --sklearn-color-line: gray;\n",
       "  /* Definition of color scheme for unfitted estimators */\n",
       "  --sklearn-color-unfitted-level-0: #fff5e6;\n",
       "  --sklearn-color-unfitted-level-1: #f6e4d2;\n",
       "  --sklearn-color-unfitted-level-2: #ffe0b3;\n",
       "  --sklearn-color-unfitted-level-3: chocolate;\n",
       "  /* Definition of color scheme for fitted estimators */\n",
       "  --sklearn-color-fitted-level-0: #f0f8ff;\n",
       "  --sklearn-color-fitted-level-1: #d4ebff;\n",
       "  --sklearn-color-fitted-level-2: #b3dbfd;\n",
       "  --sklearn-color-fitted-level-3: cornflowerblue;\n",
       "\n",
       "  /* Specific color for light theme */\n",
       "  --sklearn-color-text-on-default-background: var(--sg-text-color, var(--theme-code-foreground, var(--jp-content-font-color1, black)));\n",
       "  --sklearn-color-background: var(--sg-background-color, var(--theme-background, var(--jp-layout-color0, white)));\n",
       "  --sklearn-color-border-box: var(--sg-text-color, var(--theme-code-foreground, var(--jp-content-font-color1, black)));\n",
       "  --sklearn-color-icon: #696969;\n",
       "\n",
       "  @media (prefers-color-scheme: dark) {\n",
       "    /* Redefinition of color scheme for dark theme */\n",
       "    --sklearn-color-text-on-default-background: var(--sg-text-color, var(--theme-code-foreground, var(--jp-content-font-color1, white)));\n",
       "    --sklearn-color-background: var(--sg-background-color, var(--theme-background, var(--jp-layout-color0, #111)));\n",
       "    --sklearn-color-border-box: var(--sg-text-color, var(--theme-code-foreground, var(--jp-content-font-color1, white)));\n",
       "    --sklearn-color-icon: #878787;\n",
       "  }\n",
       "}\n",
       "\n",
       "#sk-container-id-1 {\n",
       "  color: var(--sklearn-color-text);\n",
       "}\n",
       "\n",
       "#sk-container-id-1 pre {\n",
       "  padding: 0;\n",
       "}\n",
       "\n",
       "#sk-container-id-1 input.sk-hidden--visually {\n",
       "  border: 0;\n",
       "  clip: rect(1px 1px 1px 1px);\n",
       "  clip: rect(1px, 1px, 1px, 1px);\n",
       "  height: 1px;\n",
       "  margin: -1px;\n",
       "  overflow: hidden;\n",
       "  padding: 0;\n",
       "  position: absolute;\n",
       "  width: 1px;\n",
       "}\n",
       "\n",
       "#sk-container-id-1 div.sk-dashed-wrapped {\n",
       "  border: 1px dashed var(--sklearn-color-line);\n",
       "  margin: 0 0.4em 0.5em 0.4em;\n",
       "  box-sizing: border-box;\n",
       "  padding-bottom: 0.4em;\n",
       "  background-color: var(--sklearn-color-background);\n",
       "}\n",
       "\n",
       "#sk-container-id-1 div.sk-container {\n",
       "  /* jupyter's `normalize.less` sets `[hidden] { display: none; }`\n",
       "     but bootstrap.min.css set `[hidden] { display: none !important; }`\n",
       "     so we also need the `!important` here to be able to override the\n",
       "     default hidden behavior on the sphinx rendered scikit-learn.org.\n",
       "     See: https://github.com/scikit-learn/scikit-learn/issues/21755 */\n",
       "  display: inline-block !important;\n",
       "  position: relative;\n",
       "}\n",
       "\n",
       "#sk-container-id-1 div.sk-text-repr-fallback {\n",
       "  display: none;\n",
       "}\n",
       "\n",
       "div.sk-parallel-item,\n",
       "div.sk-serial,\n",
       "div.sk-item {\n",
       "  /* draw centered vertical line to link estimators */\n",
       "  background-image: linear-gradient(var(--sklearn-color-text-on-default-background), var(--sklearn-color-text-on-default-background));\n",
       "  background-size: 2px 100%;\n",
       "  background-repeat: no-repeat;\n",
       "  background-position: center center;\n",
       "}\n",
       "\n",
       "/* Parallel-specific style estimator block */\n",
       "\n",
       "#sk-container-id-1 div.sk-parallel-item::after {\n",
       "  content: \"\";\n",
       "  width: 100%;\n",
       "  border-bottom: 2px solid var(--sklearn-color-text-on-default-background);\n",
       "  flex-grow: 1;\n",
       "}\n",
       "\n",
       "#sk-container-id-1 div.sk-parallel {\n",
       "  display: flex;\n",
       "  align-items: stretch;\n",
       "  justify-content: center;\n",
       "  background-color: var(--sklearn-color-background);\n",
       "  position: relative;\n",
       "}\n",
       "\n",
       "#sk-container-id-1 div.sk-parallel-item {\n",
       "  display: flex;\n",
       "  flex-direction: column;\n",
       "}\n",
       "\n",
       "#sk-container-id-1 div.sk-parallel-item:first-child::after {\n",
       "  align-self: flex-end;\n",
       "  width: 50%;\n",
       "}\n",
       "\n",
       "#sk-container-id-1 div.sk-parallel-item:last-child::after {\n",
       "  align-self: flex-start;\n",
       "  width: 50%;\n",
       "}\n",
       "\n",
       "#sk-container-id-1 div.sk-parallel-item:only-child::after {\n",
       "  width: 0;\n",
       "}\n",
       "\n",
       "/* Serial-specific style estimator block */\n",
       "\n",
       "#sk-container-id-1 div.sk-serial {\n",
       "  display: flex;\n",
       "  flex-direction: column;\n",
       "  align-items: center;\n",
       "  background-color: var(--sklearn-color-background);\n",
       "  padding-right: 1em;\n",
       "  padding-left: 1em;\n",
       "}\n",
       "\n",
       "\n",
       "/* Toggleable style: style used for estimator/Pipeline/ColumnTransformer box that is\n",
       "clickable and can be expanded/collapsed.\n",
       "- Pipeline and ColumnTransformer use this feature and define the default style\n",
       "- Estimators will overwrite some part of the style using the `sk-estimator` class\n",
       "*/\n",
       "\n",
       "/* Pipeline and ColumnTransformer style (default) */\n",
       "\n",
       "#sk-container-id-1 div.sk-toggleable {\n",
       "  /* Default theme specific background. It is overwritten whether we have a\n",
       "  specific estimator or a Pipeline/ColumnTransformer */\n",
       "  background-color: var(--sklearn-color-background);\n",
       "}\n",
       "\n",
       "/* Toggleable label */\n",
       "#sk-container-id-1 label.sk-toggleable__label {\n",
       "  cursor: pointer;\n",
       "  display: block;\n",
       "  width: 100%;\n",
       "  margin-bottom: 0;\n",
       "  padding: 0.5em;\n",
       "  box-sizing: border-box;\n",
       "  text-align: center;\n",
       "}\n",
       "\n",
       "#sk-container-id-1 label.sk-toggleable__label-arrow:before {\n",
       "  /* Arrow on the left of the label */\n",
       "  content: \"▸\";\n",
       "  float: left;\n",
       "  margin-right: 0.25em;\n",
       "  color: var(--sklearn-color-icon);\n",
       "}\n",
       "\n",
       "#sk-container-id-1 label.sk-toggleable__label-arrow:hover:before {\n",
       "  color: var(--sklearn-color-text);\n",
       "}\n",
       "\n",
       "/* Toggleable content - dropdown */\n",
       "\n",
       "#sk-container-id-1 div.sk-toggleable__content {\n",
       "  max-height: 0;\n",
       "  max-width: 0;\n",
       "  overflow: hidden;\n",
       "  text-align: left;\n",
       "  /* unfitted */\n",
       "  background-color: var(--sklearn-color-unfitted-level-0);\n",
       "}\n",
       "\n",
       "#sk-container-id-1 div.sk-toggleable__content.fitted {\n",
       "  /* fitted */\n",
       "  background-color: var(--sklearn-color-fitted-level-0);\n",
       "}\n",
       "\n",
       "#sk-container-id-1 div.sk-toggleable__content pre {\n",
       "  margin: 0.2em;\n",
       "  border-radius: 0.25em;\n",
       "  color: var(--sklearn-color-text);\n",
       "  /* unfitted */\n",
       "  background-color: var(--sklearn-color-unfitted-level-0);\n",
       "}\n",
       "\n",
       "#sk-container-id-1 div.sk-toggleable__content.fitted pre {\n",
       "  /* unfitted */\n",
       "  background-color: var(--sklearn-color-fitted-level-0);\n",
       "}\n",
       "\n",
       "#sk-container-id-1 input.sk-toggleable__control:checked~div.sk-toggleable__content {\n",
       "  /* Expand drop-down */\n",
       "  max-height: 200px;\n",
       "  max-width: 100%;\n",
       "  overflow: auto;\n",
       "}\n",
       "\n",
       "#sk-container-id-1 input.sk-toggleable__control:checked~label.sk-toggleable__label-arrow:before {\n",
       "  content: \"▾\";\n",
       "}\n",
       "\n",
       "/* Pipeline/ColumnTransformer-specific style */\n",
       "\n",
       "#sk-container-id-1 div.sk-label input.sk-toggleable__control:checked~label.sk-toggleable__label {\n",
       "  color: var(--sklearn-color-text);\n",
       "  background-color: var(--sklearn-color-unfitted-level-2);\n",
       "}\n",
       "\n",
       "#sk-container-id-1 div.sk-label.fitted input.sk-toggleable__control:checked~label.sk-toggleable__label {\n",
       "  background-color: var(--sklearn-color-fitted-level-2);\n",
       "}\n",
       "\n",
       "/* Estimator-specific style */\n",
       "\n",
       "/* Colorize estimator box */\n",
       "#sk-container-id-1 div.sk-estimator input.sk-toggleable__control:checked~label.sk-toggleable__label {\n",
       "  /* unfitted */\n",
       "  background-color: var(--sklearn-color-unfitted-level-2);\n",
       "}\n",
       "\n",
       "#sk-container-id-1 div.sk-estimator.fitted input.sk-toggleable__control:checked~label.sk-toggleable__label {\n",
       "  /* fitted */\n",
       "  background-color: var(--sklearn-color-fitted-level-2);\n",
       "}\n",
       "\n",
       "#sk-container-id-1 div.sk-label label.sk-toggleable__label,\n",
       "#sk-container-id-1 div.sk-label label {\n",
       "  /* The background is the default theme color */\n",
       "  color: var(--sklearn-color-text-on-default-background);\n",
       "}\n",
       "\n",
       "/* On hover, darken the color of the background */\n",
       "#sk-container-id-1 div.sk-label:hover label.sk-toggleable__label {\n",
       "  color: var(--sklearn-color-text);\n",
       "  background-color: var(--sklearn-color-unfitted-level-2);\n",
       "}\n",
       "\n",
       "/* Label box, darken color on hover, fitted */\n",
       "#sk-container-id-1 div.sk-label.fitted:hover label.sk-toggleable__label.fitted {\n",
       "  color: var(--sklearn-color-text);\n",
       "  background-color: var(--sklearn-color-fitted-level-2);\n",
       "}\n",
       "\n",
       "/* Estimator label */\n",
       "\n",
       "#sk-container-id-1 div.sk-label label {\n",
       "  font-family: monospace;\n",
       "  font-weight: bold;\n",
       "  display: inline-block;\n",
       "  line-height: 1.2em;\n",
       "}\n",
       "\n",
       "#sk-container-id-1 div.sk-label-container {\n",
       "  text-align: center;\n",
       "}\n",
       "\n",
       "/* Estimator-specific */\n",
       "#sk-container-id-1 div.sk-estimator {\n",
       "  font-family: monospace;\n",
       "  border: 1px dotted var(--sklearn-color-border-box);\n",
       "  border-radius: 0.25em;\n",
       "  box-sizing: border-box;\n",
       "  margin-bottom: 0.5em;\n",
       "  /* unfitted */\n",
       "  background-color: var(--sklearn-color-unfitted-level-0);\n",
       "}\n",
       "\n",
       "#sk-container-id-1 div.sk-estimator.fitted {\n",
       "  /* fitted */\n",
       "  background-color: var(--sklearn-color-fitted-level-0);\n",
       "}\n",
       "\n",
       "/* on hover */\n",
       "#sk-container-id-1 div.sk-estimator:hover {\n",
       "  /* unfitted */\n",
       "  background-color: var(--sklearn-color-unfitted-level-2);\n",
       "}\n",
       "\n",
       "#sk-container-id-1 div.sk-estimator.fitted:hover {\n",
       "  /* fitted */\n",
       "  background-color: var(--sklearn-color-fitted-level-2);\n",
       "}\n",
       "\n",
       "/* Specification for estimator info (e.g. \"i\" and \"?\") */\n",
       "\n",
       "/* Common style for \"i\" and \"?\" */\n",
       "\n",
       ".sk-estimator-doc-link,\n",
       "a:link.sk-estimator-doc-link,\n",
       "a:visited.sk-estimator-doc-link {\n",
       "  float: right;\n",
       "  font-size: smaller;\n",
       "  line-height: 1em;\n",
       "  font-family: monospace;\n",
       "  background-color: var(--sklearn-color-background);\n",
       "  border-radius: 1em;\n",
       "  height: 1em;\n",
       "  width: 1em;\n",
       "  text-decoration: none !important;\n",
       "  margin-left: 1ex;\n",
       "  /* unfitted */\n",
       "  border: var(--sklearn-color-unfitted-level-1) 1pt solid;\n",
       "  color: var(--sklearn-color-unfitted-level-1);\n",
       "}\n",
       "\n",
       ".sk-estimator-doc-link.fitted,\n",
       "a:link.sk-estimator-doc-link.fitted,\n",
       "a:visited.sk-estimator-doc-link.fitted {\n",
       "  /* fitted */\n",
       "  border: var(--sklearn-color-fitted-level-1) 1pt solid;\n",
       "  color: var(--sklearn-color-fitted-level-1);\n",
       "}\n",
       "\n",
       "/* On hover */\n",
       "div.sk-estimator:hover .sk-estimator-doc-link:hover,\n",
       ".sk-estimator-doc-link:hover,\n",
       "div.sk-label-container:hover .sk-estimator-doc-link:hover,\n",
       ".sk-estimator-doc-link:hover {\n",
       "  /* unfitted */\n",
       "  background-color: var(--sklearn-color-unfitted-level-3);\n",
       "  color: var(--sklearn-color-background);\n",
       "  text-decoration: none;\n",
       "}\n",
       "\n",
       "div.sk-estimator.fitted:hover .sk-estimator-doc-link.fitted:hover,\n",
       ".sk-estimator-doc-link.fitted:hover,\n",
       "div.sk-label-container:hover .sk-estimator-doc-link.fitted:hover,\n",
       ".sk-estimator-doc-link.fitted:hover {\n",
       "  /* fitted */\n",
       "  background-color: var(--sklearn-color-fitted-level-3);\n",
       "  color: var(--sklearn-color-background);\n",
       "  text-decoration: none;\n",
       "}\n",
       "\n",
       "/* Span, style for the box shown on hovering the info icon */\n",
       ".sk-estimator-doc-link span {\n",
       "  display: none;\n",
       "  z-index: 9999;\n",
       "  position: relative;\n",
       "  font-weight: normal;\n",
       "  right: .2ex;\n",
       "  padding: .5ex;\n",
       "  margin: .5ex;\n",
       "  width: min-content;\n",
       "  min-width: 20ex;\n",
       "  max-width: 50ex;\n",
       "  color: var(--sklearn-color-text);\n",
       "  box-shadow: 2pt 2pt 4pt #999;\n",
       "  /* unfitted */\n",
       "  background: var(--sklearn-color-unfitted-level-0);\n",
       "  border: .5pt solid var(--sklearn-color-unfitted-level-3);\n",
       "}\n",
       "\n",
       ".sk-estimator-doc-link.fitted span {\n",
       "  /* fitted */\n",
       "  background: var(--sklearn-color-fitted-level-0);\n",
       "  border: var(--sklearn-color-fitted-level-3);\n",
       "}\n",
       "\n",
       ".sk-estimator-doc-link:hover span {\n",
       "  display: block;\n",
       "}\n",
       "\n",
       "/* \"?\"-specific style due to the `<a>` HTML tag */\n",
       "\n",
       "#sk-container-id-1 a.estimator_doc_link {\n",
       "  float: right;\n",
       "  font-size: 1rem;\n",
       "  line-height: 1em;\n",
       "  font-family: monospace;\n",
       "  background-color: var(--sklearn-color-background);\n",
       "  border-radius: 1rem;\n",
       "  height: 1rem;\n",
       "  width: 1rem;\n",
       "  text-decoration: none;\n",
       "  /* unfitted */\n",
       "  color: var(--sklearn-color-unfitted-level-1);\n",
       "  border: var(--sklearn-color-unfitted-level-1) 1pt solid;\n",
       "}\n",
       "\n",
       "#sk-container-id-1 a.estimator_doc_link.fitted {\n",
       "  /* fitted */\n",
       "  border: var(--sklearn-color-fitted-level-1) 1pt solid;\n",
       "  color: var(--sklearn-color-fitted-level-1);\n",
       "}\n",
       "\n",
       "/* On hover */\n",
       "#sk-container-id-1 a.estimator_doc_link:hover {\n",
       "  /* unfitted */\n",
       "  background-color: var(--sklearn-color-unfitted-level-3);\n",
       "  color: var(--sklearn-color-background);\n",
       "  text-decoration: none;\n",
       "}\n",
       "\n",
       "#sk-container-id-1 a.estimator_doc_link.fitted:hover {\n",
       "  /* fitted */\n",
       "  background-color: var(--sklearn-color-fitted-level-3);\n",
       "}\n",
       "</style><div id=\"sk-container-id-1\" class=\"sk-top-container\"><div class=\"sk-text-repr-fallback\"><pre>GridSearchCV(cv=TimeSeriesSplit(gap=0, max_train_size=None, n_splits=2, test_size=None),\n",
       "             estimator=LinearRegression(), param_grid={},\n",
       "             scoring=&#x27;neg_root_mean_squared_error&#x27;)</pre><b>In a Jupyter environment, please rerun this cell to show the HTML representation or trust the notebook. <br />On GitHub, the HTML representation is unable to render, please try loading this page with nbviewer.org.</b></div><div class=\"sk-container\" hidden><div class=\"sk-item sk-dashed-wrapped\"><div class=\"sk-label-container\"><div class=\"sk-label fitted sk-toggleable\"><input class=\"sk-toggleable__control sk-hidden--visually\" id=\"sk-estimator-id-1\" type=\"checkbox\" ><label for=\"sk-estimator-id-1\" class=\"sk-toggleable__label fitted sk-toggleable__label-arrow fitted\">&nbsp;&nbsp;GridSearchCV<a class=\"sk-estimator-doc-link fitted\" rel=\"noreferrer\" target=\"_blank\" href=\"https://scikit-learn.org/1.4/modules/generated/sklearn.model_selection.GridSearchCV.html\">?<span>Documentation for GridSearchCV</span></a><span class=\"sk-estimator-doc-link fitted\">i<span>Fitted</span></span></label><div class=\"sk-toggleable__content fitted\"><pre>GridSearchCV(cv=TimeSeriesSplit(gap=0, max_train_size=None, n_splits=2, test_size=None),\n",
       "             estimator=LinearRegression(), param_grid={},\n",
       "             scoring=&#x27;neg_root_mean_squared_error&#x27;)</pre></div> </div></div><div class=\"sk-parallel\"><div class=\"sk-parallel-item\"><div class=\"sk-item\"><div class=\"sk-label-container\"><div class=\"sk-label fitted sk-toggleable\"><input class=\"sk-toggleable__control sk-hidden--visually\" id=\"sk-estimator-id-2\" type=\"checkbox\" ><label for=\"sk-estimator-id-2\" class=\"sk-toggleable__label fitted sk-toggleable__label-arrow fitted\">estimator: LinearRegression</label><div class=\"sk-toggleable__content fitted\"><pre>LinearRegression()</pre></div> </div></div><div class=\"sk-serial\"><div class=\"sk-item\"><div class=\"sk-estimator fitted sk-toggleable\"><input class=\"sk-toggleable__control sk-hidden--visually\" id=\"sk-estimator-id-3\" type=\"checkbox\" ><label for=\"sk-estimator-id-3\" class=\"sk-toggleable__label fitted sk-toggleable__label-arrow fitted\">&nbsp;LinearRegression<a class=\"sk-estimator-doc-link fitted\" rel=\"noreferrer\" target=\"_blank\" href=\"https://scikit-learn.org/1.4/modules/generated/sklearn.linear_model.LinearRegression.html\">?<span>Documentation for LinearRegression</span></a></label><div class=\"sk-toggleable__content fitted\"><pre>LinearRegression()</pre></div> </div></div></div></div></div></div></div></div></div>"
      ],
      "text/plain": [
       "GridSearchCV(cv=TimeSeriesSplit(gap=0, max_train_size=None, n_splits=2, test_size=None),\n",
       "             estimator=LinearRegression(), param_grid={},\n",
       "             scoring='neg_root_mean_squared_error')"
      ]
     },
     "execution_count": 28,
     "metadata": {},
     "output_type": "execute_result"
    }
   ],
   "source": [
    "gs_lr.fit(X_train, y_train)"
   ]
  },
  {
   "cell_type": "code",
   "execution_count": 29,
   "metadata": {},
   "outputs": [
    {
     "name": "stdout",
     "output_type": "stream",
     "text": [
      "RMSE для LinearRegression: 28.213811464347604\n"
     ]
    }
   ],
   "source": [
    "# замеряем RMSE на кросс-валидации\n",
    "rmse_lin_model = -(gs_lr.best_score_)\n",
    "\n",
    "print(f'RMSE для LinearRegression: {rmse_lin_model}')"
   ]
  },
  {
   "cell_type": "markdown",
   "metadata": {},
   "source": [
    "#### DecisionTreeRegressor"
   ]
  },
  {
   "cell_type": "code",
   "execution_count": 30,
   "metadata": {},
   "outputs": [],
   "source": [
    "dtr_model = DecisionTreeRegressor(random_state=RANDOM_STATE) "
   ]
  },
  {
   "cell_type": "code",
   "execution_count": 31,
   "metadata": {},
   "outputs": [],
   "source": [
    "param_dtr = {\"splitter\":[\"best\",\"random\"],\n",
    "             \"max_depth\" :range(1, 25),\n",
    "             \"min_samples_leaf\":range(1,25),\n",
    "             'min_samples_split':range(2,8,1)}"
   ]
  },
  {
   "cell_type": "code",
   "execution_count": 32,
   "metadata": {},
   "outputs": [],
   "source": [
    "gs_dtr = GridSearchCV(\n",
    "         dtr_model,\n",
    "         param_dtr,\n",
    "         scoring='neg_root_mean_squared_error',\n",
    "         cv=tss) "
   ]
  },
  {
   "cell_type": "code",
   "execution_count": 33,
   "metadata": {},
   "outputs": [
    {
     "data": {
      "text/html": [
       "<style>#sk-container-id-2 {\n",
       "  /* Definition of color scheme common for light and dark mode */\n",
       "  --sklearn-color-text: black;\n",
       "  --sklearn-color-line: gray;\n",
       "  /* Definition of color scheme for unfitted estimators */\n",
       "  --sklearn-color-unfitted-level-0: #fff5e6;\n",
       "  --sklearn-color-unfitted-level-1: #f6e4d2;\n",
       "  --sklearn-color-unfitted-level-2: #ffe0b3;\n",
       "  --sklearn-color-unfitted-level-3: chocolate;\n",
       "  /* Definition of color scheme for fitted estimators */\n",
       "  --sklearn-color-fitted-level-0: #f0f8ff;\n",
       "  --sklearn-color-fitted-level-1: #d4ebff;\n",
       "  --sklearn-color-fitted-level-2: #b3dbfd;\n",
       "  --sklearn-color-fitted-level-3: cornflowerblue;\n",
       "\n",
       "  /* Specific color for light theme */\n",
       "  --sklearn-color-text-on-default-background: var(--sg-text-color, var(--theme-code-foreground, var(--jp-content-font-color1, black)));\n",
       "  --sklearn-color-background: var(--sg-background-color, var(--theme-background, var(--jp-layout-color0, white)));\n",
       "  --sklearn-color-border-box: var(--sg-text-color, var(--theme-code-foreground, var(--jp-content-font-color1, black)));\n",
       "  --sklearn-color-icon: #696969;\n",
       "\n",
       "  @media (prefers-color-scheme: dark) {\n",
       "    /* Redefinition of color scheme for dark theme */\n",
       "    --sklearn-color-text-on-default-background: var(--sg-text-color, var(--theme-code-foreground, var(--jp-content-font-color1, white)));\n",
       "    --sklearn-color-background: var(--sg-background-color, var(--theme-background, var(--jp-layout-color0, #111)));\n",
       "    --sklearn-color-border-box: var(--sg-text-color, var(--theme-code-foreground, var(--jp-content-font-color1, white)));\n",
       "    --sklearn-color-icon: #878787;\n",
       "  }\n",
       "}\n",
       "\n",
       "#sk-container-id-2 {\n",
       "  color: var(--sklearn-color-text);\n",
       "}\n",
       "\n",
       "#sk-container-id-2 pre {\n",
       "  padding: 0;\n",
       "}\n",
       "\n",
       "#sk-container-id-2 input.sk-hidden--visually {\n",
       "  border: 0;\n",
       "  clip: rect(1px 1px 1px 1px);\n",
       "  clip: rect(1px, 1px, 1px, 1px);\n",
       "  height: 1px;\n",
       "  margin: -1px;\n",
       "  overflow: hidden;\n",
       "  padding: 0;\n",
       "  position: absolute;\n",
       "  width: 1px;\n",
       "}\n",
       "\n",
       "#sk-container-id-2 div.sk-dashed-wrapped {\n",
       "  border: 1px dashed var(--sklearn-color-line);\n",
       "  margin: 0 0.4em 0.5em 0.4em;\n",
       "  box-sizing: border-box;\n",
       "  padding-bottom: 0.4em;\n",
       "  background-color: var(--sklearn-color-background);\n",
       "}\n",
       "\n",
       "#sk-container-id-2 div.sk-container {\n",
       "  /* jupyter's `normalize.less` sets `[hidden] { display: none; }`\n",
       "     but bootstrap.min.css set `[hidden] { display: none !important; }`\n",
       "     so we also need the `!important` here to be able to override the\n",
       "     default hidden behavior on the sphinx rendered scikit-learn.org.\n",
       "     See: https://github.com/scikit-learn/scikit-learn/issues/21755 */\n",
       "  display: inline-block !important;\n",
       "  position: relative;\n",
       "}\n",
       "\n",
       "#sk-container-id-2 div.sk-text-repr-fallback {\n",
       "  display: none;\n",
       "}\n",
       "\n",
       "div.sk-parallel-item,\n",
       "div.sk-serial,\n",
       "div.sk-item {\n",
       "  /* draw centered vertical line to link estimators */\n",
       "  background-image: linear-gradient(var(--sklearn-color-text-on-default-background), var(--sklearn-color-text-on-default-background));\n",
       "  background-size: 2px 100%;\n",
       "  background-repeat: no-repeat;\n",
       "  background-position: center center;\n",
       "}\n",
       "\n",
       "/* Parallel-specific style estimator block */\n",
       "\n",
       "#sk-container-id-2 div.sk-parallel-item::after {\n",
       "  content: \"\";\n",
       "  width: 100%;\n",
       "  border-bottom: 2px solid var(--sklearn-color-text-on-default-background);\n",
       "  flex-grow: 1;\n",
       "}\n",
       "\n",
       "#sk-container-id-2 div.sk-parallel {\n",
       "  display: flex;\n",
       "  align-items: stretch;\n",
       "  justify-content: center;\n",
       "  background-color: var(--sklearn-color-background);\n",
       "  position: relative;\n",
       "}\n",
       "\n",
       "#sk-container-id-2 div.sk-parallel-item {\n",
       "  display: flex;\n",
       "  flex-direction: column;\n",
       "}\n",
       "\n",
       "#sk-container-id-2 div.sk-parallel-item:first-child::after {\n",
       "  align-self: flex-end;\n",
       "  width: 50%;\n",
       "}\n",
       "\n",
       "#sk-container-id-2 div.sk-parallel-item:last-child::after {\n",
       "  align-self: flex-start;\n",
       "  width: 50%;\n",
       "}\n",
       "\n",
       "#sk-container-id-2 div.sk-parallel-item:only-child::after {\n",
       "  width: 0;\n",
       "}\n",
       "\n",
       "/* Serial-specific style estimator block */\n",
       "\n",
       "#sk-container-id-2 div.sk-serial {\n",
       "  display: flex;\n",
       "  flex-direction: column;\n",
       "  align-items: center;\n",
       "  background-color: var(--sklearn-color-background);\n",
       "  padding-right: 1em;\n",
       "  padding-left: 1em;\n",
       "}\n",
       "\n",
       "\n",
       "/* Toggleable style: style used for estimator/Pipeline/ColumnTransformer box that is\n",
       "clickable and can be expanded/collapsed.\n",
       "- Pipeline and ColumnTransformer use this feature and define the default style\n",
       "- Estimators will overwrite some part of the style using the `sk-estimator` class\n",
       "*/\n",
       "\n",
       "/* Pipeline and ColumnTransformer style (default) */\n",
       "\n",
       "#sk-container-id-2 div.sk-toggleable {\n",
       "  /* Default theme specific background. It is overwritten whether we have a\n",
       "  specific estimator or a Pipeline/ColumnTransformer */\n",
       "  background-color: var(--sklearn-color-background);\n",
       "}\n",
       "\n",
       "/* Toggleable label */\n",
       "#sk-container-id-2 label.sk-toggleable__label {\n",
       "  cursor: pointer;\n",
       "  display: block;\n",
       "  width: 100%;\n",
       "  margin-bottom: 0;\n",
       "  padding: 0.5em;\n",
       "  box-sizing: border-box;\n",
       "  text-align: center;\n",
       "}\n",
       "\n",
       "#sk-container-id-2 label.sk-toggleable__label-arrow:before {\n",
       "  /* Arrow on the left of the label */\n",
       "  content: \"▸\";\n",
       "  float: left;\n",
       "  margin-right: 0.25em;\n",
       "  color: var(--sklearn-color-icon);\n",
       "}\n",
       "\n",
       "#sk-container-id-2 label.sk-toggleable__label-arrow:hover:before {\n",
       "  color: var(--sklearn-color-text);\n",
       "}\n",
       "\n",
       "/* Toggleable content - dropdown */\n",
       "\n",
       "#sk-container-id-2 div.sk-toggleable__content {\n",
       "  max-height: 0;\n",
       "  max-width: 0;\n",
       "  overflow: hidden;\n",
       "  text-align: left;\n",
       "  /* unfitted */\n",
       "  background-color: var(--sklearn-color-unfitted-level-0);\n",
       "}\n",
       "\n",
       "#sk-container-id-2 div.sk-toggleable__content.fitted {\n",
       "  /* fitted */\n",
       "  background-color: var(--sklearn-color-fitted-level-0);\n",
       "}\n",
       "\n",
       "#sk-container-id-2 div.sk-toggleable__content pre {\n",
       "  margin: 0.2em;\n",
       "  border-radius: 0.25em;\n",
       "  color: var(--sklearn-color-text);\n",
       "  /* unfitted */\n",
       "  background-color: var(--sklearn-color-unfitted-level-0);\n",
       "}\n",
       "\n",
       "#sk-container-id-2 div.sk-toggleable__content.fitted pre {\n",
       "  /* unfitted */\n",
       "  background-color: var(--sklearn-color-fitted-level-0);\n",
       "}\n",
       "\n",
       "#sk-container-id-2 input.sk-toggleable__control:checked~div.sk-toggleable__content {\n",
       "  /* Expand drop-down */\n",
       "  max-height: 200px;\n",
       "  max-width: 100%;\n",
       "  overflow: auto;\n",
       "}\n",
       "\n",
       "#sk-container-id-2 input.sk-toggleable__control:checked~label.sk-toggleable__label-arrow:before {\n",
       "  content: \"▾\";\n",
       "}\n",
       "\n",
       "/* Pipeline/ColumnTransformer-specific style */\n",
       "\n",
       "#sk-container-id-2 div.sk-label input.sk-toggleable__control:checked~label.sk-toggleable__label {\n",
       "  color: var(--sklearn-color-text);\n",
       "  background-color: var(--sklearn-color-unfitted-level-2);\n",
       "}\n",
       "\n",
       "#sk-container-id-2 div.sk-label.fitted input.sk-toggleable__control:checked~label.sk-toggleable__label {\n",
       "  background-color: var(--sklearn-color-fitted-level-2);\n",
       "}\n",
       "\n",
       "/* Estimator-specific style */\n",
       "\n",
       "/* Colorize estimator box */\n",
       "#sk-container-id-2 div.sk-estimator input.sk-toggleable__control:checked~label.sk-toggleable__label {\n",
       "  /* unfitted */\n",
       "  background-color: var(--sklearn-color-unfitted-level-2);\n",
       "}\n",
       "\n",
       "#sk-container-id-2 div.sk-estimator.fitted input.sk-toggleable__control:checked~label.sk-toggleable__label {\n",
       "  /* fitted */\n",
       "  background-color: var(--sklearn-color-fitted-level-2);\n",
       "}\n",
       "\n",
       "#sk-container-id-2 div.sk-label label.sk-toggleable__label,\n",
       "#sk-container-id-2 div.sk-label label {\n",
       "  /* The background is the default theme color */\n",
       "  color: var(--sklearn-color-text-on-default-background);\n",
       "}\n",
       "\n",
       "/* On hover, darken the color of the background */\n",
       "#sk-container-id-2 div.sk-label:hover label.sk-toggleable__label {\n",
       "  color: var(--sklearn-color-text);\n",
       "  background-color: var(--sklearn-color-unfitted-level-2);\n",
       "}\n",
       "\n",
       "/* Label box, darken color on hover, fitted */\n",
       "#sk-container-id-2 div.sk-label.fitted:hover label.sk-toggleable__label.fitted {\n",
       "  color: var(--sklearn-color-text);\n",
       "  background-color: var(--sklearn-color-fitted-level-2);\n",
       "}\n",
       "\n",
       "/* Estimator label */\n",
       "\n",
       "#sk-container-id-2 div.sk-label label {\n",
       "  font-family: monospace;\n",
       "  font-weight: bold;\n",
       "  display: inline-block;\n",
       "  line-height: 1.2em;\n",
       "}\n",
       "\n",
       "#sk-container-id-2 div.sk-label-container {\n",
       "  text-align: center;\n",
       "}\n",
       "\n",
       "/* Estimator-specific */\n",
       "#sk-container-id-2 div.sk-estimator {\n",
       "  font-family: monospace;\n",
       "  border: 1px dotted var(--sklearn-color-border-box);\n",
       "  border-radius: 0.25em;\n",
       "  box-sizing: border-box;\n",
       "  margin-bottom: 0.5em;\n",
       "  /* unfitted */\n",
       "  background-color: var(--sklearn-color-unfitted-level-0);\n",
       "}\n",
       "\n",
       "#sk-container-id-2 div.sk-estimator.fitted {\n",
       "  /* fitted */\n",
       "  background-color: var(--sklearn-color-fitted-level-0);\n",
       "}\n",
       "\n",
       "/* on hover */\n",
       "#sk-container-id-2 div.sk-estimator:hover {\n",
       "  /* unfitted */\n",
       "  background-color: var(--sklearn-color-unfitted-level-2);\n",
       "}\n",
       "\n",
       "#sk-container-id-2 div.sk-estimator.fitted:hover {\n",
       "  /* fitted */\n",
       "  background-color: var(--sklearn-color-fitted-level-2);\n",
       "}\n",
       "\n",
       "/* Specification for estimator info (e.g. \"i\" and \"?\") */\n",
       "\n",
       "/* Common style for \"i\" and \"?\" */\n",
       "\n",
       ".sk-estimator-doc-link,\n",
       "a:link.sk-estimator-doc-link,\n",
       "a:visited.sk-estimator-doc-link {\n",
       "  float: right;\n",
       "  font-size: smaller;\n",
       "  line-height: 1em;\n",
       "  font-family: monospace;\n",
       "  background-color: var(--sklearn-color-background);\n",
       "  border-radius: 1em;\n",
       "  height: 1em;\n",
       "  width: 1em;\n",
       "  text-decoration: none !important;\n",
       "  margin-left: 1ex;\n",
       "  /* unfitted */\n",
       "  border: var(--sklearn-color-unfitted-level-1) 1pt solid;\n",
       "  color: var(--sklearn-color-unfitted-level-1);\n",
       "}\n",
       "\n",
       ".sk-estimator-doc-link.fitted,\n",
       "a:link.sk-estimator-doc-link.fitted,\n",
       "a:visited.sk-estimator-doc-link.fitted {\n",
       "  /* fitted */\n",
       "  border: var(--sklearn-color-fitted-level-1) 1pt solid;\n",
       "  color: var(--sklearn-color-fitted-level-1);\n",
       "}\n",
       "\n",
       "/* On hover */\n",
       "div.sk-estimator:hover .sk-estimator-doc-link:hover,\n",
       ".sk-estimator-doc-link:hover,\n",
       "div.sk-label-container:hover .sk-estimator-doc-link:hover,\n",
       ".sk-estimator-doc-link:hover {\n",
       "  /* unfitted */\n",
       "  background-color: var(--sklearn-color-unfitted-level-3);\n",
       "  color: var(--sklearn-color-background);\n",
       "  text-decoration: none;\n",
       "}\n",
       "\n",
       "div.sk-estimator.fitted:hover .sk-estimator-doc-link.fitted:hover,\n",
       ".sk-estimator-doc-link.fitted:hover,\n",
       "div.sk-label-container:hover .sk-estimator-doc-link.fitted:hover,\n",
       ".sk-estimator-doc-link.fitted:hover {\n",
       "  /* fitted */\n",
       "  background-color: var(--sklearn-color-fitted-level-3);\n",
       "  color: var(--sklearn-color-background);\n",
       "  text-decoration: none;\n",
       "}\n",
       "\n",
       "/* Span, style for the box shown on hovering the info icon */\n",
       ".sk-estimator-doc-link span {\n",
       "  display: none;\n",
       "  z-index: 9999;\n",
       "  position: relative;\n",
       "  font-weight: normal;\n",
       "  right: .2ex;\n",
       "  padding: .5ex;\n",
       "  margin: .5ex;\n",
       "  width: min-content;\n",
       "  min-width: 20ex;\n",
       "  max-width: 50ex;\n",
       "  color: var(--sklearn-color-text);\n",
       "  box-shadow: 2pt 2pt 4pt #999;\n",
       "  /* unfitted */\n",
       "  background: var(--sklearn-color-unfitted-level-0);\n",
       "  border: .5pt solid var(--sklearn-color-unfitted-level-3);\n",
       "}\n",
       "\n",
       ".sk-estimator-doc-link.fitted span {\n",
       "  /* fitted */\n",
       "  background: var(--sklearn-color-fitted-level-0);\n",
       "  border: var(--sklearn-color-fitted-level-3);\n",
       "}\n",
       "\n",
       ".sk-estimator-doc-link:hover span {\n",
       "  display: block;\n",
       "}\n",
       "\n",
       "/* \"?\"-specific style due to the `<a>` HTML tag */\n",
       "\n",
       "#sk-container-id-2 a.estimator_doc_link {\n",
       "  float: right;\n",
       "  font-size: 1rem;\n",
       "  line-height: 1em;\n",
       "  font-family: monospace;\n",
       "  background-color: var(--sklearn-color-background);\n",
       "  border-radius: 1rem;\n",
       "  height: 1rem;\n",
       "  width: 1rem;\n",
       "  text-decoration: none;\n",
       "  /* unfitted */\n",
       "  color: var(--sklearn-color-unfitted-level-1);\n",
       "  border: var(--sklearn-color-unfitted-level-1) 1pt solid;\n",
       "}\n",
       "\n",
       "#sk-container-id-2 a.estimator_doc_link.fitted {\n",
       "  /* fitted */\n",
       "  border: var(--sklearn-color-fitted-level-1) 1pt solid;\n",
       "  color: var(--sklearn-color-fitted-level-1);\n",
       "}\n",
       "\n",
       "/* On hover */\n",
       "#sk-container-id-2 a.estimator_doc_link:hover {\n",
       "  /* unfitted */\n",
       "  background-color: var(--sklearn-color-unfitted-level-3);\n",
       "  color: var(--sklearn-color-background);\n",
       "  text-decoration: none;\n",
       "}\n",
       "\n",
       "#sk-container-id-2 a.estimator_doc_link.fitted:hover {\n",
       "  /* fitted */\n",
       "  background-color: var(--sklearn-color-fitted-level-3);\n",
       "}\n",
       "</style><div id=\"sk-container-id-2\" class=\"sk-top-container\"><div class=\"sk-text-repr-fallback\"><pre>GridSearchCV(cv=TimeSeriesSplit(gap=0, max_train_size=None, n_splits=2, test_size=None),\n",
       "             estimator=DecisionTreeRegressor(random_state=74),\n",
       "             param_grid={&#x27;max_depth&#x27;: range(1, 25),\n",
       "                         &#x27;min_samples_leaf&#x27;: range(1, 25),\n",
       "                         &#x27;min_samples_split&#x27;: range(2, 8),\n",
       "                         &#x27;splitter&#x27;: [&#x27;best&#x27;, &#x27;random&#x27;]},\n",
       "             scoring=&#x27;neg_root_mean_squared_error&#x27;)</pre><b>In a Jupyter environment, please rerun this cell to show the HTML representation or trust the notebook. <br />On GitHub, the HTML representation is unable to render, please try loading this page with nbviewer.org.</b></div><div class=\"sk-container\" hidden><div class=\"sk-item sk-dashed-wrapped\"><div class=\"sk-label-container\"><div class=\"sk-label fitted sk-toggleable\"><input class=\"sk-toggleable__control sk-hidden--visually\" id=\"sk-estimator-id-4\" type=\"checkbox\" ><label for=\"sk-estimator-id-4\" class=\"sk-toggleable__label fitted sk-toggleable__label-arrow fitted\">&nbsp;&nbsp;GridSearchCV<a class=\"sk-estimator-doc-link fitted\" rel=\"noreferrer\" target=\"_blank\" href=\"https://scikit-learn.org/1.4/modules/generated/sklearn.model_selection.GridSearchCV.html\">?<span>Documentation for GridSearchCV</span></a><span class=\"sk-estimator-doc-link fitted\">i<span>Fitted</span></span></label><div class=\"sk-toggleable__content fitted\"><pre>GridSearchCV(cv=TimeSeriesSplit(gap=0, max_train_size=None, n_splits=2, test_size=None),\n",
       "             estimator=DecisionTreeRegressor(random_state=74),\n",
       "             param_grid={&#x27;max_depth&#x27;: range(1, 25),\n",
       "                         &#x27;min_samples_leaf&#x27;: range(1, 25),\n",
       "                         &#x27;min_samples_split&#x27;: range(2, 8),\n",
       "                         &#x27;splitter&#x27;: [&#x27;best&#x27;, &#x27;random&#x27;]},\n",
       "             scoring=&#x27;neg_root_mean_squared_error&#x27;)</pre></div> </div></div><div class=\"sk-parallel\"><div class=\"sk-parallel-item\"><div class=\"sk-item\"><div class=\"sk-label-container\"><div class=\"sk-label fitted sk-toggleable\"><input class=\"sk-toggleable__control sk-hidden--visually\" id=\"sk-estimator-id-5\" type=\"checkbox\" ><label for=\"sk-estimator-id-5\" class=\"sk-toggleable__label fitted sk-toggleable__label-arrow fitted\">estimator: DecisionTreeRegressor</label><div class=\"sk-toggleable__content fitted\"><pre>DecisionTreeRegressor(random_state=74)</pre></div> </div></div><div class=\"sk-serial\"><div class=\"sk-item\"><div class=\"sk-estimator fitted sk-toggleable\"><input class=\"sk-toggleable__control sk-hidden--visually\" id=\"sk-estimator-id-6\" type=\"checkbox\" ><label for=\"sk-estimator-id-6\" class=\"sk-toggleable__label fitted sk-toggleable__label-arrow fitted\">&nbsp;DecisionTreeRegressor<a class=\"sk-estimator-doc-link fitted\" rel=\"noreferrer\" target=\"_blank\" href=\"https://scikit-learn.org/1.4/modules/generated/sklearn.tree.DecisionTreeRegressor.html\">?<span>Documentation for DecisionTreeRegressor</span></a></label><div class=\"sk-toggleable__content fitted\"><pre>DecisionTreeRegressor(random_state=74)</pre></div> </div></div></div></div></div></div></div></div></div>"
      ],
      "text/plain": [
       "GridSearchCV(cv=TimeSeriesSplit(gap=0, max_train_size=None, n_splits=2, test_size=None),\n",
       "             estimator=DecisionTreeRegressor(random_state=74),\n",
       "             param_grid={'max_depth': range(1, 25),\n",
       "                         'min_samples_leaf': range(1, 25),\n",
       "                         'min_samples_split': range(2, 8),\n",
       "                         'splitter': ['best', 'random']},\n",
       "             scoring='neg_root_mean_squared_error')"
      ]
     },
     "execution_count": 33,
     "metadata": {},
     "output_type": "execute_result"
    }
   ],
   "source": [
    "gs_dtr.fit(X_train, y_train)"
   ]
  },
  {
   "cell_type": "code",
   "execution_count": 34,
   "metadata": {},
   "outputs": [
    {
     "name": "stdout",
     "output_type": "stream",
     "text": [
      "RMSE для DecisionTreeRegressor: 31.04507888664034\n"
     ]
    }
   ],
   "source": [
    "# замеряем RMSE на кросс-валидации\n",
    "rmse_dtr_model = -(gs_dtr.best_score_) \n",
    "\n",
    "print(f'RMSE для DecisionTreeRegressor: {rmse_dtr_model}')"
   ]
  },
  {
   "cell_type": "markdown",
   "metadata": {},
   "source": [
    "#### CatBoostRegressor"
   ]
  },
  {
   "cell_type": "code",
   "execution_count": 35,
   "metadata": {},
   "outputs": [],
   "source": [
    "cat_model = CatBoostRegressor(random_state=RANDOM_STATE, \n",
    "                              verbose=False) "
   ]
  },
  {
   "cell_type": "code",
   "execution_count": 36,
   "metadata": {},
   "outputs": [],
   "source": [
    "param_cat = {'iterations':[100,200],\n",
    "             'learning_rate':[0.01,0.02,0.03]}"
   ]
  },
  {
   "cell_type": "code",
   "execution_count": 37,
   "metadata": {},
   "outputs": [],
   "source": [
    "gs_cat = GridSearchCV(\n",
    "         cat_model,\n",
    "         param_cat,\n",
    "         scoring='neg_root_mean_squared_error',\n",
    "         cv=tss) "
   ]
  },
  {
   "cell_type": "code",
   "execution_count": 38,
   "metadata": {},
   "outputs": [
    {
     "data": {
      "text/html": [
       "<style>#sk-container-id-3 {\n",
       "  /* Definition of color scheme common for light and dark mode */\n",
       "  --sklearn-color-text: black;\n",
       "  --sklearn-color-line: gray;\n",
       "  /* Definition of color scheme for unfitted estimators */\n",
       "  --sklearn-color-unfitted-level-0: #fff5e6;\n",
       "  --sklearn-color-unfitted-level-1: #f6e4d2;\n",
       "  --sklearn-color-unfitted-level-2: #ffe0b3;\n",
       "  --sklearn-color-unfitted-level-3: chocolate;\n",
       "  /* Definition of color scheme for fitted estimators */\n",
       "  --sklearn-color-fitted-level-0: #f0f8ff;\n",
       "  --sklearn-color-fitted-level-1: #d4ebff;\n",
       "  --sklearn-color-fitted-level-2: #b3dbfd;\n",
       "  --sklearn-color-fitted-level-3: cornflowerblue;\n",
       "\n",
       "  /* Specific color for light theme */\n",
       "  --sklearn-color-text-on-default-background: var(--sg-text-color, var(--theme-code-foreground, var(--jp-content-font-color1, black)));\n",
       "  --sklearn-color-background: var(--sg-background-color, var(--theme-background, var(--jp-layout-color0, white)));\n",
       "  --sklearn-color-border-box: var(--sg-text-color, var(--theme-code-foreground, var(--jp-content-font-color1, black)));\n",
       "  --sklearn-color-icon: #696969;\n",
       "\n",
       "  @media (prefers-color-scheme: dark) {\n",
       "    /* Redefinition of color scheme for dark theme */\n",
       "    --sklearn-color-text-on-default-background: var(--sg-text-color, var(--theme-code-foreground, var(--jp-content-font-color1, white)));\n",
       "    --sklearn-color-background: var(--sg-background-color, var(--theme-background, var(--jp-layout-color0, #111)));\n",
       "    --sklearn-color-border-box: var(--sg-text-color, var(--theme-code-foreground, var(--jp-content-font-color1, white)));\n",
       "    --sklearn-color-icon: #878787;\n",
       "  }\n",
       "}\n",
       "\n",
       "#sk-container-id-3 {\n",
       "  color: var(--sklearn-color-text);\n",
       "}\n",
       "\n",
       "#sk-container-id-3 pre {\n",
       "  padding: 0;\n",
       "}\n",
       "\n",
       "#sk-container-id-3 input.sk-hidden--visually {\n",
       "  border: 0;\n",
       "  clip: rect(1px 1px 1px 1px);\n",
       "  clip: rect(1px, 1px, 1px, 1px);\n",
       "  height: 1px;\n",
       "  margin: -1px;\n",
       "  overflow: hidden;\n",
       "  padding: 0;\n",
       "  position: absolute;\n",
       "  width: 1px;\n",
       "}\n",
       "\n",
       "#sk-container-id-3 div.sk-dashed-wrapped {\n",
       "  border: 1px dashed var(--sklearn-color-line);\n",
       "  margin: 0 0.4em 0.5em 0.4em;\n",
       "  box-sizing: border-box;\n",
       "  padding-bottom: 0.4em;\n",
       "  background-color: var(--sklearn-color-background);\n",
       "}\n",
       "\n",
       "#sk-container-id-3 div.sk-container {\n",
       "  /* jupyter's `normalize.less` sets `[hidden] { display: none; }`\n",
       "     but bootstrap.min.css set `[hidden] { display: none !important; }`\n",
       "     so we also need the `!important` here to be able to override the\n",
       "     default hidden behavior on the sphinx rendered scikit-learn.org.\n",
       "     See: https://github.com/scikit-learn/scikit-learn/issues/21755 */\n",
       "  display: inline-block !important;\n",
       "  position: relative;\n",
       "}\n",
       "\n",
       "#sk-container-id-3 div.sk-text-repr-fallback {\n",
       "  display: none;\n",
       "}\n",
       "\n",
       "div.sk-parallel-item,\n",
       "div.sk-serial,\n",
       "div.sk-item {\n",
       "  /* draw centered vertical line to link estimators */\n",
       "  background-image: linear-gradient(var(--sklearn-color-text-on-default-background), var(--sklearn-color-text-on-default-background));\n",
       "  background-size: 2px 100%;\n",
       "  background-repeat: no-repeat;\n",
       "  background-position: center center;\n",
       "}\n",
       "\n",
       "/* Parallel-specific style estimator block */\n",
       "\n",
       "#sk-container-id-3 div.sk-parallel-item::after {\n",
       "  content: \"\";\n",
       "  width: 100%;\n",
       "  border-bottom: 2px solid var(--sklearn-color-text-on-default-background);\n",
       "  flex-grow: 1;\n",
       "}\n",
       "\n",
       "#sk-container-id-3 div.sk-parallel {\n",
       "  display: flex;\n",
       "  align-items: stretch;\n",
       "  justify-content: center;\n",
       "  background-color: var(--sklearn-color-background);\n",
       "  position: relative;\n",
       "}\n",
       "\n",
       "#sk-container-id-3 div.sk-parallel-item {\n",
       "  display: flex;\n",
       "  flex-direction: column;\n",
       "}\n",
       "\n",
       "#sk-container-id-3 div.sk-parallel-item:first-child::after {\n",
       "  align-self: flex-end;\n",
       "  width: 50%;\n",
       "}\n",
       "\n",
       "#sk-container-id-3 div.sk-parallel-item:last-child::after {\n",
       "  align-self: flex-start;\n",
       "  width: 50%;\n",
       "}\n",
       "\n",
       "#sk-container-id-3 div.sk-parallel-item:only-child::after {\n",
       "  width: 0;\n",
       "}\n",
       "\n",
       "/* Serial-specific style estimator block */\n",
       "\n",
       "#sk-container-id-3 div.sk-serial {\n",
       "  display: flex;\n",
       "  flex-direction: column;\n",
       "  align-items: center;\n",
       "  background-color: var(--sklearn-color-background);\n",
       "  padding-right: 1em;\n",
       "  padding-left: 1em;\n",
       "}\n",
       "\n",
       "\n",
       "/* Toggleable style: style used for estimator/Pipeline/ColumnTransformer box that is\n",
       "clickable and can be expanded/collapsed.\n",
       "- Pipeline and ColumnTransformer use this feature and define the default style\n",
       "- Estimators will overwrite some part of the style using the `sk-estimator` class\n",
       "*/\n",
       "\n",
       "/* Pipeline and ColumnTransformer style (default) */\n",
       "\n",
       "#sk-container-id-3 div.sk-toggleable {\n",
       "  /* Default theme specific background. It is overwritten whether we have a\n",
       "  specific estimator or a Pipeline/ColumnTransformer */\n",
       "  background-color: var(--sklearn-color-background);\n",
       "}\n",
       "\n",
       "/* Toggleable label */\n",
       "#sk-container-id-3 label.sk-toggleable__label {\n",
       "  cursor: pointer;\n",
       "  display: block;\n",
       "  width: 100%;\n",
       "  margin-bottom: 0;\n",
       "  padding: 0.5em;\n",
       "  box-sizing: border-box;\n",
       "  text-align: center;\n",
       "}\n",
       "\n",
       "#sk-container-id-3 label.sk-toggleable__label-arrow:before {\n",
       "  /* Arrow on the left of the label */\n",
       "  content: \"▸\";\n",
       "  float: left;\n",
       "  margin-right: 0.25em;\n",
       "  color: var(--sklearn-color-icon);\n",
       "}\n",
       "\n",
       "#sk-container-id-3 label.sk-toggleable__label-arrow:hover:before {\n",
       "  color: var(--sklearn-color-text);\n",
       "}\n",
       "\n",
       "/* Toggleable content - dropdown */\n",
       "\n",
       "#sk-container-id-3 div.sk-toggleable__content {\n",
       "  max-height: 0;\n",
       "  max-width: 0;\n",
       "  overflow: hidden;\n",
       "  text-align: left;\n",
       "  /* unfitted */\n",
       "  background-color: var(--sklearn-color-unfitted-level-0);\n",
       "}\n",
       "\n",
       "#sk-container-id-3 div.sk-toggleable__content.fitted {\n",
       "  /* fitted */\n",
       "  background-color: var(--sklearn-color-fitted-level-0);\n",
       "}\n",
       "\n",
       "#sk-container-id-3 div.sk-toggleable__content pre {\n",
       "  margin: 0.2em;\n",
       "  border-radius: 0.25em;\n",
       "  color: var(--sklearn-color-text);\n",
       "  /* unfitted */\n",
       "  background-color: var(--sklearn-color-unfitted-level-0);\n",
       "}\n",
       "\n",
       "#sk-container-id-3 div.sk-toggleable__content.fitted pre {\n",
       "  /* unfitted */\n",
       "  background-color: var(--sklearn-color-fitted-level-0);\n",
       "}\n",
       "\n",
       "#sk-container-id-3 input.sk-toggleable__control:checked~div.sk-toggleable__content {\n",
       "  /* Expand drop-down */\n",
       "  max-height: 200px;\n",
       "  max-width: 100%;\n",
       "  overflow: auto;\n",
       "}\n",
       "\n",
       "#sk-container-id-3 input.sk-toggleable__control:checked~label.sk-toggleable__label-arrow:before {\n",
       "  content: \"▾\";\n",
       "}\n",
       "\n",
       "/* Pipeline/ColumnTransformer-specific style */\n",
       "\n",
       "#sk-container-id-3 div.sk-label input.sk-toggleable__control:checked~label.sk-toggleable__label {\n",
       "  color: var(--sklearn-color-text);\n",
       "  background-color: var(--sklearn-color-unfitted-level-2);\n",
       "}\n",
       "\n",
       "#sk-container-id-3 div.sk-label.fitted input.sk-toggleable__control:checked~label.sk-toggleable__label {\n",
       "  background-color: var(--sklearn-color-fitted-level-2);\n",
       "}\n",
       "\n",
       "/* Estimator-specific style */\n",
       "\n",
       "/* Colorize estimator box */\n",
       "#sk-container-id-3 div.sk-estimator input.sk-toggleable__control:checked~label.sk-toggleable__label {\n",
       "  /* unfitted */\n",
       "  background-color: var(--sklearn-color-unfitted-level-2);\n",
       "}\n",
       "\n",
       "#sk-container-id-3 div.sk-estimator.fitted input.sk-toggleable__control:checked~label.sk-toggleable__label {\n",
       "  /* fitted */\n",
       "  background-color: var(--sklearn-color-fitted-level-2);\n",
       "}\n",
       "\n",
       "#sk-container-id-3 div.sk-label label.sk-toggleable__label,\n",
       "#sk-container-id-3 div.sk-label label {\n",
       "  /* The background is the default theme color */\n",
       "  color: var(--sklearn-color-text-on-default-background);\n",
       "}\n",
       "\n",
       "/* On hover, darken the color of the background */\n",
       "#sk-container-id-3 div.sk-label:hover label.sk-toggleable__label {\n",
       "  color: var(--sklearn-color-text);\n",
       "  background-color: var(--sklearn-color-unfitted-level-2);\n",
       "}\n",
       "\n",
       "/* Label box, darken color on hover, fitted */\n",
       "#sk-container-id-3 div.sk-label.fitted:hover label.sk-toggleable__label.fitted {\n",
       "  color: var(--sklearn-color-text);\n",
       "  background-color: var(--sklearn-color-fitted-level-2);\n",
       "}\n",
       "\n",
       "/* Estimator label */\n",
       "\n",
       "#sk-container-id-3 div.sk-label label {\n",
       "  font-family: monospace;\n",
       "  font-weight: bold;\n",
       "  display: inline-block;\n",
       "  line-height: 1.2em;\n",
       "}\n",
       "\n",
       "#sk-container-id-3 div.sk-label-container {\n",
       "  text-align: center;\n",
       "}\n",
       "\n",
       "/* Estimator-specific */\n",
       "#sk-container-id-3 div.sk-estimator {\n",
       "  font-family: monospace;\n",
       "  border: 1px dotted var(--sklearn-color-border-box);\n",
       "  border-radius: 0.25em;\n",
       "  box-sizing: border-box;\n",
       "  margin-bottom: 0.5em;\n",
       "  /* unfitted */\n",
       "  background-color: var(--sklearn-color-unfitted-level-0);\n",
       "}\n",
       "\n",
       "#sk-container-id-3 div.sk-estimator.fitted {\n",
       "  /* fitted */\n",
       "  background-color: var(--sklearn-color-fitted-level-0);\n",
       "}\n",
       "\n",
       "/* on hover */\n",
       "#sk-container-id-3 div.sk-estimator:hover {\n",
       "  /* unfitted */\n",
       "  background-color: var(--sklearn-color-unfitted-level-2);\n",
       "}\n",
       "\n",
       "#sk-container-id-3 div.sk-estimator.fitted:hover {\n",
       "  /* fitted */\n",
       "  background-color: var(--sklearn-color-fitted-level-2);\n",
       "}\n",
       "\n",
       "/* Specification for estimator info (e.g. \"i\" and \"?\") */\n",
       "\n",
       "/* Common style for \"i\" and \"?\" */\n",
       "\n",
       ".sk-estimator-doc-link,\n",
       "a:link.sk-estimator-doc-link,\n",
       "a:visited.sk-estimator-doc-link {\n",
       "  float: right;\n",
       "  font-size: smaller;\n",
       "  line-height: 1em;\n",
       "  font-family: monospace;\n",
       "  background-color: var(--sklearn-color-background);\n",
       "  border-radius: 1em;\n",
       "  height: 1em;\n",
       "  width: 1em;\n",
       "  text-decoration: none !important;\n",
       "  margin-left: 1ex;\n",
       "  /* unfitted */\n",
       "  border: var(--sklearn-color-unfitted-level-1) 1pt solid;\n",
       "  color: var(--sklearn-color-unfitted-level-1);\n",
       "}\n",
       "\n",
       ".sk-estimator-doc-link.fitted,\n",
       "a:link.sk-estimator-doc-link.fitted,\n",
       "a:visited.sk-estimator-doc-link.fitted {\n",
       "  /* fitted */\n",
       "  border: var(--sklearn-color-fitted-level-1) 1pt solid;\n",
       "  color: var(--sklearn-color-fitted-level-1);\n",
       "}\n",
       "\n",
       "/* On hover */\n",
       "div.sk-estimator:hover .sk-estimator-doc-link:hover,\n",
       ".sk-estimator-doc-link:hover,\n",
       "div.sk-label-container:hover .sk-estimator-doc-link:hover,\n",
       ".sk-estimator-doc-link:hover {\n",
       "  /* unfitted */\n",
       "  background-color: var(--sklearn-color-unfitted-level-3);\n",
       "  color: var(--sklearn-color-background);\n",
       "  text-decoration: none;\n",
       "}\n",
       "\n",
       "div.sk-estimator.fitted:hover .sk-estimator-doc-link.fitted:hover,\n",
       ".sk-estimator-doc-link.fitted:hover,\n",
       "div.sk-label-container:hover .sk-estimator-doc-link.fitted:hover,\n",
       ".sk-estimator-doc-link.fitted:hover {\n",
       "  /* fitted */\n",
       "  background-color: var(--sklearn-color-fitted-level-3);\n",
       "  color: var(--sklearn-color-background);\n",
       "  text-decoration: none;\n",
       "}\n",
       "\n",
       "/* Span, style for the box shown on hovering the info icon */\n",
       ".sk-estimator-doc-link span {\n",
       "  display: none;\n",
       "  z-index: 9999;\n",
       "  position: relative;\n",
       "  font-weight: normal;\n",
       "  right: .2ex;\n",
       "  padding: .5ex;\n",
       "  margin: .5ex;\n",
       "  width: min-content;\n",
       "  min-width: 20ex;\n",
       "  max-width: 50ex;\n",
       "  color: var(--sklearn-color-text);\n",
       "  box-shadow: 2pt 2pt 4pt #999;\n",
       "  /* unfitted */\n",
       "  background: var(--sklearn-color-unfitted-level-0);\n",
       "  border: .5pt solid var(--sklearn-color-unfitted-level-3);\n",
       "}\n",
       "\n",
       ".sk-estimator-doc-link.fitted span {\n",
       "  /* fitted */\n",
       "  background: var(--sklearn-color-fitted-level-0);\n",
       "  border: var(--sklearn-color-fitted-level-3);\n",
       "}\n",
       "\n",
       ".sk-estimator-doc-link:hover span {\n",
       "  display: block;\n",
       "}\n",
       "\n",
       "/* \"?\"-specific style due to the `<a>` HTML tag */\n",
       "\n",
       "#sk-container-id-3 a.estimator_doc_link {\n",
       "  float: right;\n",
       "  font-size: 1rem;\n",
       "  line-height: 1em;\n",
       "  font-family: monospace;\n",
       "  background-color: var(--sklearn-color-background);\n",
       "  border-radius: 1rem;\n",
       "  height: 1rem;\n",
       "  width: 1rem;\n",
       "  text-decoration: none;\n",
       "  /* unfitted */\n",
       "  color: var(--sklearn-color-unfitted-level-1);\n",
       "  border: var(--sklearn-color-unfitted-level-1) 1pt solid;\n",
       "}\n",
       "\n",
       "#sk-container-id-3 a.estimator_doc_link.fitted {\n",
       "  /* fitted */\n",
       "  border: var(--sklearn-color-fitted-level-1) 1pt solid;\n",
       "  color: var(--sklearn-color-fitted-level-1);\n",
       "}\n",
       "\n",
       "/* On hover */\n",
       "#sk-container-id-3 a.estimator_doc_link:hover {\n",
       "  /* unfitted */\n",
       "  background-color: var(--sklearn-color-unfitted-level-3);\n",
       "  color: var(--sklearn-color-background);\n",
       "  text-decoration: none;\n",
       "}\n",
       "\n",
       "#sk-container-id-3 a.estimator_doc_link.fitted:hover {\n",
       "  /* fitted */\n",
       "  background-color: var(--sklearn-color-fitted-level-3);\n",
       "}\n",
       "</style><div id=\"sk-container-id-3\" class=\"sk-top-container\"><div class=\"sk-text-repr-fallback\"><pre>GridSearchCV(cv=TimeSeriesSplit(gap=0, max_train_size=None, n_splits=2, test_size=None),\n",
       "             estimator=&lt;catboost.core.CatBoostRegressor object at 0x7f714051e850&gt;,\n",
       "             param_grid={&#x27;iterations&#x27;: [100, 200],\n",
       "                         &#x27;learning_rate&#x27;: [0.01, 0.02, 0.03]},\n",
       "             scoring=&#x27;neg_root_mean_squared_error&#x27;)</pre><b>In a Jupyter environment, please rerun this cell to show the HTML representation or trust the notebook. <br />On GitHub, the HTML representation is unable to render, please try loading this page with nbviewer.org.</b></div><div class=\"sk-container\" hidden><div class=\"sk-item sk-dashed-wrapped\"><div class=\"sk-label-container\"><div class=\"sk-label fitted sk-toggleable\"><input class=\"sk-toggleable__control sk-hidden--visually\" id=\"sk-estimator-id-7\" type=\"checkbox\" ><label for=\"sk-estimator-id-7\" class=\"sk-toggleable__label fitted sk-toggleable__label-arrow fitted\">&nbsp;&nbsp;GridSearchCV<a class=\"sk-estimator-doc-link fitted\" rel=\"noreferrer\" target=\"_blank\" href=\"https://scikit-learn.org/1.4/modules/generated/sklearn.model_selection.GridSearchCV.html\">?<span>Documentation for GridSearchCV</span></a><span class=\"sk-estimator-doc-link fitted\">i<span>Fitted</span></span></label><div class=\"sk-toggleable__content fitted\"><pre>GridSearchCV(cv=TimeSeriesSplit(gap=0, max_train_size=None, n_splits=2, test_size=None),\n",
       "             estimator=&lt;catboost.core.CatBoostRegressor object at 0x7f714051e850&gt;,\n",
       "             param_grid={&#x27;iterations&#x27;: [100, 200],\n",
       "                         &#x27;learning_rate&#x27;: [0.01, 0.02, 0.03]},\n",
       "             scoring=&#x27;neg_root_mean_squared_error&#x27;)</pre></div> </div></div><div class=\"sk-parallel\"><div class=\"sk-parallel-item\"><div class=\"sk-item\"><div class=\"sk-label-container\"><div class=\"sk-label fitted sk-toggleable\"><input class=\"sk-toggleable__control sk-hidden--visually\" id=\"sk-estimator-id-8\" type=\"checkbox\" ><label for=\"sk-estimator-id-8\" class=\"sk-toggleable__label fitted sk-toggleable__label-arrow fitted\">estimator: CatBoostRegressor</label><div class=\"sk-toggleable__content fitted\"><pre>&lt;catboost.core.CatBoostRegressor object at 0x7f714051e850&gt;</pre></div> </div></div><div class=\"sk-serial\"><div class=\"sk-item\"><div class=\"sk-estimator fitted sk-toggleable\"><input class=\"sk-toggleable__control sk-hidden--visually\" id=\"sk-estimator-id-9\" type=\"checkbox\" ><label for=\"sk-estimator-id-9\" class=\"sk-toggleable__label fitted sk-toggleable__label-arrow fitted\">CatBoostRegressor</label><div class=\"sk-toggleable__content fitted\"><pre>&lt;catboost.core.CatBoostRegressor object at 0x7f714051e850&gt;</pre></div> </div></div></div></div></div></div></div></div></div>"
      ],
      "text/plain": [
       "GridSearchCV(cv=TimeSeriesSplit(gap=0, max_train_size=None, n_splits=2, test_size=None),\n",
       "             estimator=<catboost.core.CatBoostRegressor object at 0x7f714051e850>,\n",
       "             param_grid={'iterations': [100, 200],\n",
       "                         'learning_rate': [0.01, 0.02, 0.03]},\n",
       "             scoring='neg_root_mean_squared_error')"
      ]
     },
     "execution_count": 38,
     "metadata": {},
     "output_type": "execute_result"
    }
   ],
   "source": [
    "gs_cat.fit(X_train, y_train)"
   ]
  },
  {
   "cell_type": "code",
   "execution_count": 39,
   "metadata": {},
   "outputs": [
    {
     "name": "stdout",
     "output_type": "stream",
     "text": [
      "RMSE для CatBoostRegressor: 28.774552112046102\n"
     ]
    }
   ],
   "source": [
    "# замеряем RMSE на кросс-валидации\n",
    "rmse_cat_model = -(gs_cat.best_score_)\n",
    "\n",
    "print(f'RMSE для CatBoostRegressor: {rmse_cat_model}')"
   ]
  },
  {
   "cell_type": "code",
   "execution_count": 40,
   "metadata": {},
   "outputs": [],
   "source": [
    "res = [[rmse_lin_model],\n",
    "      [rmse_dtr_model],\n",
    "      [rmse_cat_model]]\n",
    "model = [\"LinearRegressor\", \"DecisionTreeRegressor\", \"CatBoostRegressor\"]"
   ]
  },
  {
   "cell_type": "code",
   "execution_count": 41,
   "metadata": {},
   "outputs": [
    {
     "data": {
      "text/html": [
       "<div>\n",
       "<style scoped>\n",
       "    .dataframe tbody tr th:only-of-type {\n",
       "        vertical-align: middle;\n",
       "    }\n",
       "\n",
       "    .dataframe tbody tr th {\n",
       "        vertical-align: top;\n",
       "    }\n",
       "\n",
       "    .dataframe thead th {\n",
       "        text-align: right;\n",
       "    }\n",
       "</style>\n",
       "<table border=\"1\" class=\"dataframe\">\n",
       "  <thead>\n",
       "    <tr style=\"text-align: right;\">\n",
       "      <th></th>\n",
       "      <th>RMSE на CV</th>\n",
       "    </tr>\n",
       "  </thead>\n",
       "  <tbody>\n",
       "    <tr>\n",
       "      <th>LinearRegressor</th>\n",
       "      <td>28.213811</td>\n",
       "    </tr>\n",
       "    <tr>\n",
       "      <th>DecisionTreeRegressor</th>\n",
       "      <td>31.045079</td>\n",
       "    </tr>\n",
       "    <tr>\n",
       "      <th>CatBoostRegressor</th>\n",
       "      <td>28.774552</td>\n",
       "    </tr>\n",
       "  </tbody>\n",
       "</table>\n",
       "</div>"
      ],
      "text/plain": [
       "                       RMSE на CV\n",
       "LinearRegressor         28.213811\n",
       "DecisionTreeRegressor   31.045079\n",
       "CatBoostRegressor       28.774552"
      ]
     },
     "execution_count": 41,
     "metadata": {},
     "output_type": "execute_result"
    }
   ],
   "source": [
    "results = pd.DataFrame(data=res, index=model, columns=[ \"RMSE на CV\"])\n",
    "\n",
    "results"
   ]
  },
  {
   "cell_type": "markdown",
   "metadata": {},
   "source": [
    "### Вывод\n",
    "- Было обучено 3 регрессионные модели\n",
    "- Лучше всего себя показала линейная регрессия\n",
    "- Проведет тестирование данной модели на тестовой выборке и проверим на адекватность"
   ]
  },
  {
   "cell_type": "markdown",
   "metadata": {},
   "source": [
    "## Тестирование"
   ]
  },
  {
   "cell_type": "code",
   "execution_count": 42,
   "metadata": {},
   "outputs": [
    {
     "name": "stdout",
     "output_type": "stream",
     "text": [
      "RMSE для линейной регрессии на тестовой выборке: 45\n"
     ]
    }
   ],
   "source": [
    "# проверим лучшую модель на тестовой выборке\n",
    "pred = gs_lr.best_estimator_.predict(X_test)\n",
    "print(f'RMSE для линейной регрессии на тестовой выборке: {round(mean_squared_error(y_test, pred) ** 0.5)}')"
   ]
  },
  {
   "cell_type": "code",
   "execution_count": 43,
   "metadata": {},
   "outputs": [
    {
     "data": {
      "image/png": "[encoded data removed]",
      "text/plain": [
       "<Figure size 1296x720 with 1 Axes>"
      ]
     },
     "metadata": {},
     "output_type": "display_data"
    }
   ],
   "source": [
    "# визуализируем результат\n",
    "plt.figure(figsize=(18,10))\n",
    "plt.plot(y_test.index, \n",
    "         y_test, \n",
    "         'r-', \n",
    "         y_test.index, \n",
    "         pred,\n",
    "         'b-')\n",
    "plt.xlabel(\"Дата\")\n",
    "plt.ylabel(\"Количество заказов\")\n",
    "plt.title('Сравнение предсказаний с истинными ответами')\n",
    "plt.legend(labels=['y_test', 'pred'])\n",
    "plt.show()"
   ]
  },
  {
   "cell_type": "markdown",
   "metadata": {},
   "source": [
    "- Модель с задачей справилась - RMSE < 48\n",
    "- По визуализации видно, что модель неплохо улавливает закономерности временного ряда\n",
    "- Однако, можно заметить, что плохо предсказывает значения, сильно отклрняющиеся от среднего значения, что и логично\n",
    "- Далее проверим модель на адекватность"
   ]
  },
  {
   "cell_type": "code",
   "execution_count": 44,
   "metadata": {},
   "outputs": [],
   "source": [
    "model = DummyRegressor(strategy=\"mean\")"
   ]
  },
  {
   "cell_type": "code",
   "execution_count": 45,
   "metadata": {},
   "outputs": [
    {
     "name": "stdout",
     "output_type": "stream",
     "text": [
      "RMSE для линейной модели: 84.65\n"
     ]
    }
   ],
   "source": [
    "model.fit(X_train, y_train)\n",
    "\n",
    "pred_dummy = model.predict(X_test)\n",
    "\n",
    "mse_dummy_model = mean_squared_error(y_test, pred_dummy)\n",
    "\n",
    "print(\"RMSE для линейной модели:\", round((mse_dummy_model) ** 0.5, 2))"
   ]
  },
  {
   "cell_type": "markdown",
   "metadata": {},
   "source": [
    "### Заключение\n",
    "- Модель хорошо показала себя на тестовой выборке, условия заказчика соблюдены\n",
    "- Модель проверена на адеквартность"
   ]
  },
  {
   "cell_type": "markdown",
   "metadata": {},
   "source": [
    "## Заключени"
   ]
  },
  {
   "cell_type": "markdown",
   "metadata": {},
   "source": [
    "- По итогу выполненной работы была выбрана лучшая модель - LinearRegression\n",
    "- Данная модель имеет лучший показатель метрики (RMSE)\n",
    "- Остальные модели не подходят под условия заказчика (RMSE > 48)"
   ]
  }
 ],
 "metadata": {
  "ExecuteTimeLog": [
   {
    "duration": 448,
    "start_time": "2024-02-27T09:13:12.288Z"
   },
   {
    "duration": 142,
    "start_time": "2024-02-27T09:14:11.108Z"
   },
   {
    "duration": 14,
    "start_time": "2024-02-27T09:14:16.372Z"
   },
   {
    "duration": 7,
    "start_time": "2024-02-27T09:14:20.225Z"
   },
   {
    "duration": 13,
    "start_time": "2024-02-27T09:14:45.308Z"
   },
   {
    "duration": 49,
    "start_time": "2024-02-27T09:16:04.718Z"
   },
   {
    "duration": 7,
    "start_time": "2024-02-27T09:16:05.948Z"
   },
   {
    "duration": 13,
    "start_time": "2024-02-27T09:16:07.376Z"
   },
   {
    "duration": 6,
    "start_time": "2024-02-27T09:23:29.945Z"
   },
   {
    "duration": 68,
    "start_time": "2024-02-27T09:23:35.665Z"
   },
   {
    "duration": 4,
    "start_time": "2024-02-27T09:23:41.528Z"
   },
   {
    "duration": 5,
    "start_time": "2024-02-27T09:24:00.792Z"
   },
   {
    "duration": 65,
    "start_time": "2024-02-27T09:24:00.934Z"
   },
   {
    "duration": 10,
    "start_time": "2024-02-27T09:24:01.098Z"
   },
   {
    "duration": 11,
    "start_time": "2024-02-27T09:24:01.256Z"
   },
   {
    "duration": 7,
    "start_time": "2024-02-27T09:24:03.096Z"
   },
   {
    "duration": 3,
    "start_time": "2024-02-27T09:24:07.034Z"
   },
   {
    "duration": 7,
    "start_time": "2024-02-27T09:25:05.864Z"
   },
   {
    "duration": 9,
    "start_time": "2024-02-27T09:25:09.848Z"
   },
   {
    "duration": 6,
    "start_time": "2024-02-27T09:25:14.694Z"
   },
   {
    "duration": 690,
    "start_time": "2024-02-27T09:28:46.707Z"
   },
   {
    "duration": 8,
    "start_time": "2024-02-27T09:29:25.018Z"
   },
   {
    "duration": 145,
    "start_time": "2024-02-27T09:29:25.318Z"
   },
   {
    "duration": 6,
    "start_time": "2024-02-27T09:29:34.186Z"
   },
   {
    "duration": 190,
    "start_time": "2024-02-27T09:29:34.610Z"
   },
   {
    "duration": 2,
    "start_time": "2024-02-27T09:29:39.943Z"
   },
   {
    "duration": 48,
    "start_time": "2024-02-27T09:29:40.111Z"
   },
   {
    "duration": 8,
    "start_time": "2024-02-27T09:29:40.261Z"
   },
   {
    "duration": 12,
    "start_time": "2024-02-27T09:29:40.413Z"
   },
   {
    "duration": 2,
    "start_time": "2024-02-27T09:29:41.250Z"
   },
   {
    "duration": 7,
    "start_time": "2024-02-27T09:29:42.593Z"
   },
   {
    "duration": 275,
    "start_time": "2024-02-27T09:29:43.354Z"
   },
   {
    "duration": 7,
    "start_time": "2024-02-27T09:30:19.746Z"
   },
   {
    "duration": 245,
    "start_time": "2024-02-27T09:30:20.172Z"
   },
   {
    "duration": 3,
    "start_time": "2024-02-27T09:30:27.613Z"
   },
   {
    "duration": 49,
    "start_time": "2024-02-27T09:30:27.780Z"
   },
   {
    "duration": 7,
    "start_time": "2024-02-27T09:30:27.967Z"
   },
   {
    "duration": 10,
    "start_time": "2024-02-27T09:30:28.295Z"
   },
   {
    "duration": 3,
    "start_time": "2024-02-27T09:30:28.739Z"
   },
   {
    "duration": 8,
    "start_time": "2024-02-27T09:30:29.521Z"
   },
   {
    "duration": 250,
    "start_time": "2024-02-27T09:30:30.057Z"
   },
   {
    "duration": 4,
    "start_time": "2024-02-27T09:31:09.328Z"
   },
   {
    "duration": 4,
    "start_time": "2024-02-27T09:31:18.293Z"
   },
   {
    "duration": 4,
    "start_time": "2024-02-27T09:36:27.258Z"
   },
   {
    "duration": 223,
    "start_time": "2024-02-27T09:38:05.310Z"
   },
   {
    "duration": 198,
    "start_time": "2024-02-27T09:38:53.218Z"
   },
   {
    "duration": 214,
    "start_time": "2024-02-27T09:38:58.692Z"
   },
   {
    "duration": 435,
    "start_time": "2024-02-27T09:39:03.017Z"
   },
   {
    "duration": 326,
    "start_time": "2024-02-27T09:39:09.759Z"
   },
   {
    "duration": 321,
    "start_time": "2024-02-27T09:39:14.694Z"
   },
   {
    "duration": 8,
    "start_time": "2024-02-27T09:43:11.681Z"
   },
   {
    "duration": 388,
    "start_time": "2024-02-27T09:43:35.995Z"
   },
   {
    "duration": 611,
    "start_time": "2024-02-27T09:45:48.277Z"
   },
   {
    "duration": 51,
    "start_time": "2024-02-27T09:47:58.638Z"
   },
   {
    "duration": 3,
    "start_time": "2024-02-27T09:48:18.704Z"
   },
   {
    "duration": 11,
    "start_time": "2024-02-27T09:48:24.358Z"
   },
   {
    "duration": 3,
    "start_time": "2024-02-27T09:50:49.040Z"
   },
   {
    "duration": 47,
    "start_time": "2024-02-27T09:50:49.177Z"
   },
   {
    "duration": 6,
    "start_time": "2024-02-27T09:50:49.332Z"
   },
   {
    "duration": 10,
    "start_time": "2024-02-27T09:50:49.478Z"
   },
   {
    "duration": 3,
    "start_time": "2024-02-27T09:50:50.111Z"
   },
   {
    "duration": 7,
    "start_time": "2024-02-27T09:51:34.486Z"
   },
   {
    "duration": 9,
    "start_time": "2024-02-27T09:51:35.499Z"
   },
   {
    "duration": 234,
    "start_time": "2024-02-27T09:51:56.688Z"
   },
   {
    "duration": 233,
    "start_time": "2024-02-27T09:53:32.024Z"
   },
   {
    "duration": 225,
    "start_time": "2024-02-27T09:54:04.248Z"
   },
   {
    "duration": 251,
    "start_time": "2024-02-27T09:54:09.031Z"
   },
   {
    "duration": 366,
    "start_time": "2024-02-27T09:54:12.933Z"
   },
   {
    "duration": 373,
    "start_time": "2024-02-27T09:55:28.678Z"
   },
   {
    "duration": 411,
    "start_time": "2024-02-27T09:55:34.761Z"
   },
   {
    "duration": 117,
    "start_time": "2024-02-27T09:56:04.112Z"
   },
   {
    "duration": 182,
    "start_time": "2024-02-27T09:56:10.233Z"
   },
   {
    "duration": 305,
    "start_time": "2024-02-27T09:57:13.827Z"
   },
   {
    "duration": 247,
    "start_time": "2024-02-27T09:57:21.841Z"
   },
   {
    "duration": 239,
    "start_time": "2024-02-27T09:57:33.722Z"
   },
   {
    "duration": 185,
    "start_time": "2024-02-27T09:57:43.097Z"
   },
   {
    "duration": 180,
    "start_time": "2024-02-27T09:57:54.137Z"
   },
   {
    "duration": 288,
    "start_time": "2024-02-27T09:59:43.800Z"
   },
   {
    "duration": 2528,
    "start_time": "2024-02-27T10:01:06.698Z"
   },
   {
    "duration": 195,
    "start_time": "2024-02-27T10:01:14.117Z"
   },
   {
    "duration": 3,
    "start_time": "2024-02-27T10:07:24.894Z"
   },
   {
    "duration": 47,
    "start_time": "2024-02-27T10:07:25.039Z"
   },
   {
    "duration": 7,
    "start_time": "2024-02-27T10:07:25.184Z"
   },
   {
    "duration": 11,
    "start_time": "2024-02-27T10:07:25.334Z"
   },
   {
    "duration": 3,
    "start_time": "2024-02-27T10:07:25.475Z"
   },
   {
    "duration": 7,
    "start_time": "2024-02-27T10:07:26.179Z"
   },
   {
    "duration": 339,
    "start_time": "2024-02-27T10:07:27.766Z"
   },
   {
    "duration": 3,
    "start_time": "2024-02-27T10:07:41.683Z"
   },
   {
    "duration": 63,
    "start_time": "2024-02-27T10:07:41.688Z"
   },
   {
    "duration": 8,
    "start_time": "2024-02-27T10:07:41.752Z"
   },
   {
    "duration": 20,
    "start_time": "2024-02-27T10:07:41.762Z"
   },
   {
    "duration": 16,
    "start_time": "2024-02-27T10:07:41.784Z"
   },
   {
    "duration": 27,
    "start_time": "2024-02-27T10:07:41.802Z"
   },
   {
    "duration": 317,
    "start_time": "2024-02-27T10:07:41.831Z"
   },
   {
    "duration": 8,
    "start_time": "2024-02-27T10:07:42.150Z"
   },
   {
    "duration": 417,
    "start_time": "2024-02-27T10:07:42.159Z"
   },
   {
    "duration": 213,
    "start_time": "2024-02-27T10:07:42.578Z"
   },
   {
    "duration": 5,
    "start_time": "2024-02-27T10:07:42.793Z"
   },
   {
    "duration": 383,
    "start_time": "2024-02-27T10:07:42.800Z"
   },
   {
    "duration": 4,
    "start_time": "2024-02-27T10:11:30.259Z"
   },
   {
    "duration": 9,
    "start_time": "2024-02-27T10:12:12.487Z"
   },
   {
    "duration": 47,
    "start_time": "2024-02-27T10:12:12.640Z"
   },
   {
    "duration": 8,
    "start_time": "2024-02-27T10:12:12.794Z"
   },
   {
    "duration": 11,
    "start_time": "2024-02-27T10:12:12.936Z"
   },
   {
    "duration": 3,
    "start_time": "2024-02-27T10:12:13.080Z"
   },
   {
    "duration": 8,
    "start_time": "2024-02-27T10:12:13.380Z"
   },
   {
    "duration": 328,
    "start_time": "2024-02-27T10:12:13.825Z"
   },
   {
    "duration": 9,
    "start_time": "2024-02-27T10:12:14.372Z"
   },
   {
    "duration": 282,
    "start_time": "2024-02-27T10:12:14.533Z"
   },
   {
    "duration": 190,
    "start_time": "2024-02-27T10:12:15.021Z"
   },
   {
    "duration": 5,
    "start_time": "2024-02-27T10:12:15.882Z"
   },
   {
    "duration": 375,
    "start_time": "2024-02-27T10:12:16.206Z"
   },
   {
    "duration": 5,
    "start_time": "2024-02-27T10:12:54.159Z"
   },
   {
    "duration": 314,
    "start_time": "2024-02-27T10:16:16.525Z"
   },
   {
    "duration": 348,
    "start_time": "2024-02-27T10:16:26.704Z"
   },
   {
    "duration": 613,
    "start_time": "2024-02-27T10:16:40.855Z"
   },
   {
    "duration": 277,
    "start_time": "2024-02-27T10:18:45.571Z"
   },
   {
    "duration": 6,
    "start_time": "2024-02-27T10:23:07.038Z"
   },
   {
    "duration": 5,
    "start_time": "2024-02-27T10:24:46.168Z"
   },
   {
    "duration": 5,
    "start_time": "2024-02-27T10:31:00.624Z"
   },
   {
    "duration": 3,
    "start_time": "2024-02-27T10:32:06.987Z"
   },
   {
    "duration": 48,
    "start_time": "2024-02-27T10:32:07.149Z"
   },
   {
    "duration": 8,
    "start_time": "2024-02-27T10:32:07.317Z"
   },
   {
    "duration": 14,
    "start_time": "2024-02-27T10:32:07.847Z"
   },
   {
    "duration": 3,
    "start_time": "2024-02-27T10:32:08.576Z"
   },
   {
    "duration": 7,
    "start_time": "2024-02-27T10:32:10.669Z"
   },
   {
    "duration": 329,
    "start_time": "2024-02-27T10:32:12.215Z"
   },
   {
    "duration": 8,
    "start_time": "2024-02-27T10:32:15.424Z"
   },
   {
    "duration": 317,
    "start_time": "2024-02-27T10:32:15.711Z"
   },
   {
    "duration": 189,
    "start_time": "2024-02-27T10:32:16.512Z"
   },
   {
    "duration": 5,
    "start_time": "2024-02-27T10:32:50.131Z"
   },
   {
    "duration": 387,
    "start_time": "2024-02-27T10:32:50.619Z"
   },
   {
    "duration": 5,
    "start_time": "2024-02-27T10:32:57.872Z"
   },
   {
    "duration": 468,
    "start_time": "2024-02-27T10:32:58.018Z"
   },
   {
    "duration": 5,
    "start_time": "2024-02-27T10:33:46.016Z"
   },
   {
    "duration": 4,
    "start_time": "2024-02-27T10:34:02.124Z"
   },
   {
    "duration": 472,
    "start_time": "2024-02-27T10:34:02.621Z"
   },
   {
    "duration": 4,
    "start_time": "2024-02-27T10:34:07.553Z"
   },
   {
    "duration": 4,
    "start_time": "2024-02-27T10:34:08.198Z"
   },
   {
    "duration": 5,
    "start_time": "2024-02-27T10:35:13.646Z"
   },
   {
    "duration": 4,
    "start_time": "2024-02-27T10:43:56.471Z"
   },
   {
    "duration": 5,
    "start_time": "2024-02-27T10:45:02.931Z"
   },
   {
    "duration": 1543,
    "start_time": "2024-02-27T16:36:44.154Z"
   },
   {
    "duration": 118,
    "start_time": "2024-02-27T16:36:47.015Z"
   },
   {
    "duration": 13,
    "start_time": "2024-02-27T16:36:47.349Z"
   },
   {
    "duration": 13,
    "start_time": "2024-02-27T16:36:47.808Z"
   },
   {
    "duration": 3,
    "start_time": "2024-02-27T16:36:48.214Z"
   },
   {
    "duration": 8,
    "start_time": "2024-02-27T16:36:51.844Z"
   },
   {
    "duration": 326,
    "start_time": "2024-02-27T16:36:53.770Z"
   },
   {
    "duration": 7,
    "start_time": "2024-02-27T16:36:55.578Z"
   },
   {
    "duration": 254,
    "start_time": "2024-02-27T16:36:56.405Z"
   },
   {
    "duration": 171,
    "start_time": "2024-02-27T16:37:00.115Z"
   },
   {
    "duration": 5,
    "start_time": "2024-02-27T16:37:07.947Z"
   },
   {
    "duration": 380,
    "start_time": "2024-02-27T16:37:09.008Z"
   },
   {
    "duration": 3,
    "start_time": "2024-02-27T16:37:27.041Z"
   },
   {
    "duration": 4,
    "start_time": "2024-02-27T16:37:28.296Z"
   },
   {
    "duration": 395,
    "start_time": "2024-02-27T16:37:35.880Z"
   },
   {
    "duration": 5,
    "start_time": "2024-02-27T16:37:47.400Z"
   },
   {
    "duration": 4,
    "start_time": "2024-02-27T16:37:47.683Z"
   },
   {
    "duration": 3,
    "start_time": "2024-02-27T16:38:07.936Z"
   },
   {
    "duration": 13,
    "start_time": "2024-02-27T16:43:22.805Z"
   },
   {
    "duration": 15,
    "start_time": "2024-02-27T16:43:31.530Z"
   },
   {
    "duration": 18,
    "start_time": "2024-02-27T16:43:49.975Z"
   },
   {
    "duration": 18,
    "start_time": "2024-02-27T16:43:56.096Z"
   },
   {
    "duration": 34,
    "start_time": "2024-02-27T16:44:01.481Z"
   },
   {
    "duration": 3,
    "start_time": "2024-02-27T16:44:40.431Z"
   },
   {
    "duration": 43,
    "start_time": "2024-02-27T16:44:40.619Z"
   },
   {
    "duration": 11,
    "start_time": "2024-02-27T16:44:40.771Z"
   },
   {
    "duration": 18,
    "start_time": "2024-02-27T16:44:40.916Z"
   },
   {
    "duration": 3,
    "start_time": "2024-02-27T16:44:41.085Z"
   },
   {
    "duration": 6,
    "start_time": "2024-02-27T16:44:41.331Z"
   },
   {
    "duration": 310,
    "start_time": "2024-02-27T16:44:41.754Z"
   },
   {
    "duration": 7,
    "start_time": "2024-02-27T16:44:42.427Z"
   },
   {
    "duration": 2,
    "start_time": "2024-02-27T16:46:02.993Z"
   },
   {
    "duration": 44,
    "start_time": "2024-02-27T16:46:03.477Z"
   },
   {
    "duration": 7,
    "start_time": "2024-02-27T16:46:03.790Z"
   },
   {
    "duration": 10,
    "start_time": "2024-02-27T16:46:03.952Z"
   },
   {
    "duration": 3,
    "start_time": "2024-02-27T16:46:04.131Z"
   },
   {
    "duration": 6,
    "start_time": "2024-02-27T16:46:04.507Z"
   },
   {
    "duration": 297,
    "start_time": "2024-02-27T16:46:05.681Z"
   },
   {
    "duration": 8,
    "start_time": "2024-02-27T16:48:10.524Z"
   },
   {
    "duration": 246,
    "start_time": "2024-02-27T16:48:10.740Z"
   },
   {
    "duration": 253,
    "start_time": "2024-02-27T16:48:11.430Z"
   },
   {
    "duration": 5,
    "start_time": "2024-02-27T16:48:15.205Z"
   },
   {
    "duration": 362,
    "start_time": "2024-02-27T16:48:15.582Z"
   },
   {
    "duration": 4,
    "start_time": "2024-02-27T16:48:24.037Z"
   },
   {
    "duration": 319,
    "start_time": "2024-02-27T16:48:24.402Z"
   },
   {
    "duration": 4,
    "start_time": "2024-02-27T16:48:28.331Z"
   },
   {
    "duration": 4,
    "start_time": "2024-02-27T16:48:29.288Z"
   },
   {
    "duration": 426,
    "start_time": "2024-02-27T16:48:32.077Z"
   },
   {
    "duration": 414,
    "start_time": "2024-02-27T16:48:39.176Z"
   },
   {
    "duration": 4,
    "start_time": "2024-02-27T16:48:45.837Z"
   },
   {
    "duration": 4,
    "start_time": "2024-02-27T16:48:46.343Z"
   },
   {
    "duration": 4,
    "start_time": "2024-02-27T16:48:47.833Z"
   },
   {
    "duration": 9,
    "start_time": "2024-02-27T16:49:01.299Z"
   },
   {
    "duration": 33,
    "start_time": "2024-02-27T16:49:02.593Z"
   },
   {
    "duration": 24,
    "start_time": "2024-02-27T16:51:11.829Z"
   },
   {
    "duration": 1591,
    "start_time": "2024-02-27T19:45:24.001Z"
   },
   {
    "duration": 119,
    "start_time": "2024-02-27T19:45:25.594Z"
   },
   {
    "duration": 11,
    "start_time": "2024-02-27T19:45:25.714Z"
   },
   {
    "duration": 10,
    "start_time": "2024-02-27T19:45:25.727Z"
   },
   {
    "duration": 3,
    "start_time": "2024-02-27T19:45:25.738Z"
   },
   {
    "duration": 8,
    "start_time": "2024-02-27T19:45:28.868Z"
   },
   {
    "duration": 371,
    "start_time": "2024-02-27T19:45:29.313Z"
   },
   {
    "duration": 7,
    "start_time": "2024-02-27T19:45:29.686Z"
   },
   {
    "duration": 285,
    "start_time": "2024-02-27T19:45:29.767Z"
   },
   {
    "duration": 184,
    "start_time": "2024-02-27T19:45:30.920Z"
   },
   {
    "duration": 4,
    "start_time": "2024-02-27T19:45:31.577Z"
   },
   {
    "duration": 456,
    "start_time": "2024-02-27T19:45:31.834Z"
   },
   {
    "duration": 3,
    "start_time": "2024-02-27T19:45:32.297Z"
   },
   {
    "duration": 4,
    "start_time": "2024-02-27T19:45:33.073Z"
   },
   {
    "duration": 432,
    "start_time": "2024-02-27T19:45:33.459Z"
   },
   {
    "duration": 4,
    "start_time": "2024-02-27T19:45:34.901Z"
   },
   {
    "duration": 4,
    "start_time": "2024-02-27T19:45:35.273Z"
   },
   {
    "duration": 4,
    "start_time": "2024-02-27T19:45:48.502Z"
   },
   {
    "duration": 11,
    "start_time": "2024-02-27T19:45:48.753Z"
   },
   {
    "duration": 18,
    "start_time": "2024-02-27T19:45:49.357Z"
   },
   {
    "duration": 5,
    "start_time": "2024-02-27T19:46:52.653Z"
   },
   {
    "duration": 4,
    "start_time": "2024-02-27T19:46:53.041Z"
   },
   {
    "duration": 7,
    "start_time": "2024-02-27T19:49:00.028Z"
   },
   {
    "duration": 3,
    "start_time": "2024-02-27T19:49:00.506Z"
   },
   {
    "duration": 114,
    "start_time": "2024-02-27T19:50:36.586Z"
   },
   {
    "duration": 5,
    "start_time": "2024-02-27T19:50:48.306Z"
   },
   {
    "duration": 21,
    "start_time": "2024-02-27T19:51:15.460Z"
   },
   {
    "duration": 1641,
    "start_time": "2024-02-28T06:11:16.943Z"
   },
   {
    "duration": 122,
    "start_time": "2024-02-28T06:11:20.742Z"
   },
   {
    "duration": 12,
    "start_time": "2024-02-28T06:11:21.035Z"
   },
   {
    "duration": 15,
    "start_time": "2024-02-28T06:11:21.249Z"
   },
   {
    "duration": 4,
    "start_time": "2024-02-28T06:11:21.438Z"
   },
   {
    "duration": 11,
    "start_time": "2024-02-28T06:11:29.412Z"
   },
   {
    "duration": 328,
    "start_time": "2024-02-28T06:11:29.887Z"
   },
   {
    "duration": 10,
    "start_time": "2024-02-28T06:11:30.217Z"
   },
   {
    "duration": 273,
    "start_time": "2024-02-28T06:11:30.359Z"
   },
   {
    "duration": 180,
    "start_time": "2024-02-28T06:11:30.662Z"
   },
   {
    "duration": 6,
    "start_time": "2024-02-28T06:11:30.951Z"
   },
   {
    "duration": 427,
    "start_time": "2024-02-28T06:11:31.099Z"
   },
   {
    "duration": 4,
    "start_time": "2024-02-28T06:11:31.528Z"
   },
   {
    "duration": 34,
    "start_time": "2024-02-28T06:11:31.534Z"
   },
   {
    "duration": 460,
    "start_time": "2024-02-28T06:11:31.570Z"
   },
   {
    "duration": 4,
    "start_time": "2024-02-28T06:11:32.032Z"
   },
   {
    "duration": 11,
    "start_time": "2024-02-28T06:11:32.152Z"
   },
   {
    "duration": 24,
    "start_time": "2024-02-28T06:11:32.309Z"
   },
   {
    "duration": 8,
    "start_time": "2024-02-28T06:11:32.636Z"
   },
   {
    "duration": 5,
    "start_time": "2024-02-28T06:11:32.793Z"
   },
   {
    "duration": 6,
    "start_time": "2024-02-28T06:11:37.981Z"
   },
   {
    "duration": 112,
    "start_time": "2024-02-28T06:20:09.610Z"
   },
   {
    "duration": 2,
    "start_time": "2024-02-28T06:22:05.183Z"
   },
   {
    "duration": 3,
    "start_time": "2024-02-28T06:22:06.151Z"
   },
   {
    "duration": 38,
    "start_time": "2024-02-28T06:22:31.005Z"
   },
   {
    "duration": 6,
    "start_time": "2024-02-28T06:23:19.905Z"
   },
   {
    "duration": 3,
    "start_time": "2024-02-28T06:23:31.559Z"
   },
   {
    "duration": 44,
    "start_time": "2024-02-28T06:23:43.593Z"
   },
   {
    "duration": 8,
    "start_time": "2024-02-28T06:24:17.815Z"
   },
   {
    "duration": 2,
    "start_time": "2024-02-28T06:27:12.647Z"
   },
   {
    "duration": 3,
    "start_time": "2024-02-28T06:27:15.061Z"
   },
   {
    "duration": 5,
    "start_time": "2024-02-28T06:27:23.934Z"
   },
   {
    "duration": 3,
    "start_time": "2024-02-28T06:31:35.909Z"
   },
   {
    "duration": 5841,
    "start_time": "2024-02-28T06:31:45.602Z"
   },
   {
    "duration": 134,
    "start_time": "2024-02-28T06:32:19.114Z"
   },
   {
    "duration": 3,
    "start_time": "2024-02-28T06:32:24.096Z"
   },
   {
    "duration": 8,
    "start_time": "2024-02-28T06:32:28.925Z"
   },
   {
    "duration": 4,
    "start_time": "2024-02-28T06:35:16.656Z"
   },
   {
    "duration": 4,
    "start_time": "2024-02-28T06:35:19.429Z"
   },
   {
    "duration": 3,
    "start_time": "2024-02-28T06:35:52.635Z"
   },
   {
    "duration": 73121,
    "start_time": "2024-02-28T06:36:02.800Z"
   },
   {
    "duration": 4,
    "start_time": "2024-02-28T06:37:15.944Z"
   },
   {
    "duration": 63,
    "start_time": "2024-02-28T06:37:41.531Z"
   },
   {
    "duration": 3,
    "start_time": "2024-02-28T06:37:45.594Z"
   },
   {
    "duration": 9,
    "start_time": "2024-02-28T06:37:58.688Z"
   },
   {
    "duration": 3,
    "start_time": "2024-02-28T06:38:04.835Z"
   },
   {
    "duration": 8,
    "start_time": "2024-02-28T06:38:08.034Z"
   },
   {
    "duration": 3,
    "start_time": "2024-02-28T06:38:24.949Z"
   },
   {
    "duration": 3,
    "start_time": "2024-02-28T06:38:32.799Z"
   },
   {
    "duration": 34,
    "start_time": "2024-02-28T06:41:01.813Z"
   },
   {
    "duration": 12,
    "start_time": "2024-02-28T06:41:33.789Z"
   },
   {
    "duration": 17,
    "start_time": "2024-02-28T06:41:42.371Z"
   },
   {
    "duration": 5,
    "start_time": "2024-02-28T06:42:47.992Z"
   },
   {
    "duration": 12,
    "start_time": "2024-02-28T06:42:57.258Z"
   },
   {
    "duration": 14,
    "start_time": "2024-02-28T06:43:13.077Z"
   },
   {
    "duration": 33,
    "start_time": "2024-02-28T06:46:50.467Z"
   },
   {
    "duration": 13,
    "start_time": "2024-02-28T06:46:52.175Z"
   },
   {
    "duration": 25,
    "start_time": "2024-02-28T06:47:06.832Z"
   },
   {
    "duration": 11,
    "start_time": "2024-02-28T06:47:07.841Z"
   },
   {
    "duration": 31,
    "start_time": "2024-02-28T06:47:26.374Z"
   },
   {
    "duration": 11,
    "start_time": "2024-02-28T06:47:27.080Z"
   },
   {
    "duration": 2,
    "start_time": "2024-02-28T06:47:52.292Z"
   },
   {
    "duration": 8,
    "start_time": "2024-02-28T06:47:52.600Z"
   },
   {
    "duration": 4,
    "start_time": "2024-02-28T06:47:53.111Z"
   },
   {
    "duration": 5,
    "start_time": "2024-02-28T06:47:54.039Z"
   },
   {
    "duration": 117,
    "start_time": "2024-02-28T06:47:55.475Z"
   },
   {
    "duration": 18,
    "start_time": "2024-02-28T06:47:55.594Z"
   },
   {
    "duration": 17,
    "start_time": "2024-02-28T06:48:04.589Z"
   },
   {
    "duration": 13,
    "start_time": "2024-02-28T06:49:55.862Z"
   },
   {
    "duration": 11,
    "start_time": "2024-02-28T06:50:32.700Z"
   },
   {
    "duration": 19,
    "start_time": "2024-02-28T06:50:33.707Z"
   },
   {
    "duration": 6,
    "start_time": "2024-02-28T06:50:36.919Z"
   },
   {
    "duration": 6,
    "start_time": "2024-02-28T06:50:37.083Z"
   },
   {
    "duration": 3,
    "start_time": "2024-02-28T06:50:37.232Z"
   },
   {
    "duration": 5,
    "start_time": "2024-02-28T06:50:37.384Z"
   },
   {
    "duration": 21,
    "start_time": "2024-02-28T06:50:38.428Z"
   },
   {
    "duration": 3,
    "start_time": "2024-02-28T06:51:14.587Z"
   },
   {
    "duration": 6,
    "start_time": "2024-02-28T06:51:14.610Z"
   },
   {
    "duration": 3,
    "start_time": "2024-02-28T06:51:14.731Z"
   },
   {
    "duration": 5,
    "start_time": "2024-02-28T06:51:14.882Z"
   },
   {
    "duration": 11,
    "start_time": "2024-02-28T06:51:15.783Z"
   },
   {
    "duration": 13,
    "start_time": "2024-02-28T06:51:16.785Z"
   },
   {
    "duration": 13,
    "start_time": "2024-02-28T06:51:18.545Z"
   },
   {
    "duration": 2,
    "start_time": "2024-02-28T06:51:44.582Z"
   },
   {
    "duration": 3,
    "start_time": "2024-02-28T06:51:44.836Z"
   },
   {
    "duration": 28,
    "start_time": "2024-02-28T06:51:45.185Z"
   },
   {
    "duration": 4,
    "start_time": "2024-02-28T06:51:45.659Z"
   },
   {
    "duration": 3,
    "start_time": "2024-02-28T06:51:47.277Z"
   },
   {
    "duration": 3,
    "start_time": "2024-02-28T06:51:47.650Z"
   },
   {
    "duration": 3,
    "start_time": "2024-02-28T06:51:47.887Z"
   },
   {
    "duration": 5243,
    "start_time": "2024-02-28T06:51:48.231Z"
   },
   {
    "duration": 3,
    "start_time": "2024-02-28T06:51:53.476Z"
   },
   {
    "duration": 3,
    "start_time": "2024-02-28T06:52:08.801Z"
   },
   {
    "duration": 3,
    "start_time": "2024-02-28T06:52:08.967Z"
   },
   {
    "duration": 3,
    "start_time": "2024-02-28T06:52:09.146Z"
   },
   {
    "duration": 69286,
    "start_time": "2024-02-28T06:52:09.391Z"
   },
   {
    "duration": 3,
    "start_time": "2024-02-28T06:53:18.679Z"
   },
   {
    "duration": 5,
    "start_time": "2024-02-28T06:53:18.690Z"
   },
   {
    "duration": 4,
    "start_time": "2024-02-28T06:53:18.696Z"
   },
   {
    "duration": 2,
    "start_time": "2024-02-28T06:53:36.374Z"
   },
   {
    "duration": 373875,
    "start_time": "2024-02-28T06:53:54.967Z"
   },
   {
    "duration": 0,
    "start_time": "2024-02-28T07:00:08.845Z"
   },
   {
    "duration": 4,
    "start_time": "2024-02-28T07:00:26.554Z"
   },
   {
    "duration": 51,
    "start_time": "2024-02-28T07:00:26.560Z"
   },
   {
    "duration": 18,
    "start_time": "2024-02-28T07:00:26.613Z"
   },
   {
    "duration": 10,
    "start_time": "2024-02-28T07:00:26.633Z"
   },
   {
    "duration": 2,
    "start_time": "2024-02-28T07:00:26.645Z"
   },
   {
    "duration": 17,
    "start_time": "2024-02-28T07:00:26.716Z"
   },
   {
    "duration": 302,
    "start_time": "2024-02-28T07:00:27.102Z"
   },
   {
    "duration": 16,
    "start_time": "2024-02-28T07:00:27.406Z"
   },
   {
    "duration": 283,
    "start_time": "2024-02-28T07:00:27.496Z"
   },
   {
    "duration": 188,
    "start_time": "2024-02-28T07:00:27.780Z"
   },
   {
    "duration": 5,
    "start_time": "2024-02-28T07:00:28.030Z"
   },
   {
    "duration": 337,
    "start_time": "2024-02-28T07:00:28.177Z"
   },
   {
    "duration": 7,
    "start_time": "2024-02-28T07:00:28.519Z"
   },
   {
    "duration": 8,
    "start_time": "2024-02-28T07:00:28.527Z"
   },
   {
    "duration": 407,
    "start_time": "2024-02-28T07:00:28.735Z"
   },
   {
    "duration": 14,
    "start_time": "2024-02-28T07:00:29.816Z"
   },
   {
    "duration": 9,
    "start_time": "2024-02-28T07:00:42.230Z"
   },
   {
    "duration": 13,
    "start_time": "2024-02-28T07:00:42.683Z"
   },
   {
    "duration": 3,
    "start_time": "2024-02-28T07:00:44.273Z"
   },
   {
    "duration": 7,
    "start_time": "2024-02-28T07:00:44.840Z"
   },
   {
    "duration": 4,
    "start_time": "2024-02-28T07:01:02.370Z"
   },
   {
    "duration": 45,
    "start_time": "2024-02-28T07:01:02.511Z"
   },
   {
    "duration": 7,
    "start_time": "2024-02-28T07:01:02.677Z"
   },
   {
    "duration": 9,
    "start_time": "2024-02-28T07:01:02.823Z"
   },
   {
    "duration": 3,
    "start_time": "2024-02-28T07:01:02.960Z"
   },
   {
    "duration": 7,
    "start_time": "2024-02-28T07:01:03.228Z"
   },
   {
    "duration": 384,
    "start_time": "2024-02-28T07:01:03.608Z"
   },
   {
    "duration": 7,
    "start_time": "2024-02-28T07:01:04.224Z"
   },
   {
    "duration": 253,
    "start_time": "2024-02-28T07:01:04.652Z"
   },
   {
    "duration": 179,
    "start_time": "2024-02-28T07:01:05.220Z"
   },
   {
    "duration": 4,
    "start_time": "2024-02-28T07:01:15.260Z"
   },
   {
    "duration": 329,
    "start_time": "2024-02-28T07:01:15.587Z"
   },
   {
    "duration": 4,
    "start_time": "2024-02-28T07:01:15.918Z"
   },
   {
    "duration": 3,
    "start_time": "2024-02-28T07:01:16.081Z"
   },
   {
    "duration": 426,
    "start_time": "2024-02-28T07:01:16.308Z"
   },
   {
    "duration": 4,
    "start_time": "2024-02-28T07:01:17.418Z"
   },
   {
    "duration": 11,
    "start_time": "2024-02-28T07:01:17.730Z"
   },
   {
    "duration": 12,
    "start_time": "2024-02-28T07:01:18.343Z"
   },
   {
    "duration": 2,
    "start_time": "2024-02-28T07:01:19.772Z"
   },
   {
    "duration": 7,
    "start_time": "2024-02-28T07:01:20.125Z"
   },
   {
    "duration": 5,
    "start_time": "2024-02-28T07:01:20.503Z"
   },
   {
    "duration": 5,
    "start_time": "2024-02-28T07:01:21.023Z"
   },
   {
    "duration": 14,
    "start_time": "2024-02-28T07:01:21.851Z"
   },
   {
    "duration": 11,
    "start_time": "2024-02-28T07:01:22.703Z"
   },
   {
    "duration": 11,
    "start_time": "2024-02-28T07:01:24.911Z"
   },
   {
    "duration": 2,
    "start_time": "2024-02-28T07:01:26.000Z"
   },
   {
    "duration": 2,
    "start_time": "2024-02-28T07:01:26.382Z"
   },
   {
    "duration": 28,
    "start_time": "2024-02-28T07:01:26.660Z"
   },
   {
    "duration": 4,
    "start_time": "2024-02-28T07:01:27.183Z"
   },
   {
    "duration": 2,
    "start_time": "2024-02-28T07:01:28.596Z"
   },
   {
    "duration": 3,
    "start_time": "2024-02-28T07:01:28.853Z"
   },
   {
    "duration": 2,
    "start_time": "2024-02-28T07:01:29.048Z"
   },
   {
    "duration": 4789,
    "start_time": "2024-02-28T07:01:29.260Z"
   },
   {
    "duration": 3,
    "start_time": "2024-02-28T07:01:34.051Z"
   },
   {
    "duration": 12,
    "start_time": "2024-02-28T07:01:34.056Z"
   },
   {
    "duration": 19,
    "start_time": "2024-02-28T07:01:34.070Z"
   },
   {
    "duration": 7,
    "start_time": "2024-02-28T07:01:34.090Z"
   },
   {
    "duration": 23157,
    "start_time": "2024-02-28T07:01:34.099Z"
   },
   {
    "duration": 0,
    "start_time": "2024-02-28T07:01:57.258Z"
   },
   {
    "duration": 0,
    "start_time": "2024-02-28T07:01:57.260Z"
   },
   {
    "duration": 0,
    "start_time": "2024-02-28T07:01:57.261Z"
   },
   {
    "duration": 0,
    "start_time": "2024-02-28T07:01:57.262Z"
   },
   {
    "duration": 0,
    "start_time": "2024-02-28T07:01:57.263Z"
   },
   {
    "duration": 0,
    "start_time": "2024-02-28T07:01:57.264Z"
   },
   {
    "duration": 7,
    "start_time": "2024-02-28T07:02:03.600Z"
   },
   {
    "duration": 4,
    "start_time": "2024-02-28T07:02:03.797Z"
   },
   {
    "duration": 5,
    "start_time": "2024-02-28T07:02:03.948Z"
   },
   {
    "duration": 10,
    "start_time": "2024-02-28T07:02:08.712Z"
   },
   {
    "duration": 10,
    "start_time": "2024-02-28T07:02:09.307Z"
   },
   {
    "duration": 3,
    "start_time": "2024-02-28T07:02:10.400Z"
   },
   {
    "duration": 2,
    "start_time": "2024-02-28T07:02:10.853Z"
   },
   {
    "duration": 30,
    "start_time": "2024-02-28T07:02:11.156Z"
   },
   {
    "duration": 3,
    "start_time": "2024-02-28T07:02:11.516Z"
   },
   {
    "duration": 2,
    "start_time": "2024-02-28T07:02:12.936Z"
   },
   {
    "duration": 2,
    "start_time": "2024-02-28T07:02:13.335Z"
   },
   {
    "duration": 3,
    "start_time": "2024-02-28T07:02:13.634Z"
   },
   {
    "duration": 4932,
    "start_time": "2024-02-28T07:02:14.216Z"
   },
   {
    "duration": 3,
    "start_time": "2024-02-28T07:02:19.150Z"
   },
   {
    "duration": 10,
    "start_time": "2024-02-28T07:02:28.327Z"
   },
   {
    "duration": 11,
    "start_time": "2024-02-28T07:02:29.173Z"
   },
   {
    "duration": 11,
    "start_time": "2024-02-28T07:02:29.358Z"
   },
   {
    "duration": 2,
    "start_time": "2024-02-28T07:02:29.676Z"
   },
   {
    "duration": 2,
    "start_time": "2024-02-28T07:02:30.024Z"
   },
   {
    "duration": 30,
    "start_time": "2024-02-28T07:02:30.394Z"
   },
   {
    "duration": 3,
    "start_time": "2024-02-28T07:02:31.135Z"
   },
   {
    "duration": 2,
    "start_time": "2024-02-28T07:02:34.854Z"
   },
   {
    "duration": 2,
    "start_time": "2024-02-28T07:02:35.011Z"
   },
   {
    "duration": 2,
    "start_time": "2024-02-28T07:02:35.161Z"
   },
   {
    "duration": 4643,
    "start_time": "2024-02-28T07:02:35.302Z"
   },
   {
    "duration": 3,
    "start_time": "2024-02-28T07:02:39.947Z"
   },
   {
    "duration": 7,
    "start_time": "2024-02-28T07:02:39.951Z"
   },
   {
    "duration": 22,
    "start_time": "2024-02-28T07:02:39.960Z"
   },
   {
    "duration": 4,
    "start_time": "2024-02-28T07:02:39.984Z"
   },
   {
    "duration": 47361,
    "start_time": "2024-02-28T07:02:39.990Z"
   },
   {
    "duration": 4,
    "start_time": "2024-02-28T07:03:27.352Z"
   },
   {
    "duration": 4,
    "start_time": "2024-02-28T07:03:27.357Z"
   },
   {
    "duration": 21,
    "start_time": "2024-02-28T07:03:27.362Z"
   },
   {
    "duration": 5,
    "start_time": "2024-02-28T07:03:27.385Z"
   },
   {
    "duration": 30354,
    "start_time": "2024-02-28T07:03:27.391Z"
   },
   {
    "duration": 4,
    "start_time": "2024-02-28T07:04:03.319Z"
   },
   {
    "duration": 45,
    "start_time": "2024-02-28T07:04:03.463Z"
   },
   {
    "duration": 7,
    "start_time": "2024-02-28T07:04:03.628Z"
   },
   {
    "duration": 11,
    "start_time": "2024-02-28T07:04:03.777Z"
   },
   {
    "duration": 3,
    "start_time": "2024-02-28T07:04:03.916Z"
   },
   {
    "duration": 7,
    "start_time": "2024-02-28T07:04:04.201Z"
   },
   {
    "duration": 381,
    "start_time": "2024-02-28T07:04:04.630Z"
   },
   {
    "duration": 11,
    "start_time": "2024-02-28T07:04:05.012Z"
   },
   {
    "duration": 248,
    "start_time": "2024-02-28T07:04:05.079Z"
   },
   {
    "duration": 185,
    "start_time": "2024-02-28T07:04:05.578Z"
   },
   {
    "duration": 4,
    "start_time": "2024-02-28T07:04:06.534Z"
   },
   {
    "duration": 317,
    "start_time": "2024-02-28T07:04:06.775Z"
   },
   {
    "duration": 3,
    "start_time": "2024-02-28T07:04:07.094Z"
   },
   {
    "duration": 3,
    "start_time": "2024-02-28T07:04:07.405Z"
   },
   {
    "duration": 409,
    "start_time": "2024-02-28T07:04:07.817Z"
   },
   {
    "duration": 4,
    "start_time": "2024-02-28T07:04:48.205Z"
   },
   {
    "duration": 13,
    "start_time": "2024-02-28T07:05:40.423Z"
   },
   {
    "duration": 21,
    "start_time": "2024-02-28T07:05:40.972Z"
   },
   {
    "duration": 2,
    "start_time": "2024-02-28T07:05:42.239Z"
   },
   {
    "duration": 8,
    "start_time": "2024-02-28T07:05:42.921Z"
   },
   {
    "duration": 5,
    "start_time": "2024-02-28T07:05:43.245Z"
   },
   {
    "duration": 6,
    "start_time": "2024-02-28T07:05:43.579Z"
   },
   {
    "duration": 14,
    "start_time": "2024-02-28T07:05:45.340Z"
   },
   {
    "duration": 18,
    "start_time": "2024-02-28T07:05:45.730Z"
   },
   {
    "duration": 22,
    "start_time": "2024-02-28T07:05:46.186Z"
   },
   {
    "duration": 4,
    "start_time": "2024-02-28T07:05:49.845Z"
   },
   {
    "duration": 3,
    "start_time": "2024-02-28T07:05:50.046Z"
   },
   {
    "duration": 30,
    "start_time": "2024-02-28T07:05:50.260Z"
   },
   {
    "duration": 3,
    "start_time": "2024-02-28T07:05:50.437Z"
   },
   {
    "duration": 4,
    "start_time": "2024-02-28T07:05:51.904Z"
   },
   {
    "duration": 4,
    "start_time": "2024-02-28T07:05:52.087Z"
   },
   {
    "duration": 3,
    "start_time": "2024-02-28T07:05:52.282Z"
   },
   {
    "duration": 5734,
    "start_time": "2024-02-28T07:05:52.542Z"
   },
   {
    "duration": 4,
    "start_time": "2024-02-28T07:05:58.278Z"
   },
   {
    "duration": 4,
    "start_time": "2024-02-28T07:06:10.494Z"
   },
   {
    "duration": 3,
    "start_time": "2024-02-28T07:06:10.737Z"
   },
   {
    "duration": 2,
    "start_time": "2024-02-28T07:06:10.998Z"
   },
   {
    "duration": 95033,
    "start_time": "2024-02-28T07:06:11.902Z"
   },
   {
    "duration": 3,
    "start_time": "2024-02-28T07:07:46.937Z"
   },
   {
    "duration": 3,
    "start_time": "2024-02-28T07:09:10.351Z"
   },
   {
    "duration": 3,
    "start_time": "2024-02-28T07:09:10.523Z"
   },
   {
    "duration": 3,
    "start_time": "2024-02-28T07:09:10.692Z"
   },
   {
    "duration": 207630,
    "start_time": "2024-02-28T07:09:11.200Z"
   },
   {
    "duration": 86,
    "start_time": "2024-02-28T07:12:38.832Z"
   },
   {
    "duration": 3,
    "start_time": "2024-02-28T07:19:40.191Z"
   },
   {
    "duration": 22,
    "start_time": "2024-02-28T07:22:00.882Z"
   },
   {
    "duration": 16,
    "start_time": "2024-02-28T07:22:09.272Z"
   },
   {
    "duration": 9,
    "start_time": "2024-02-28T07:24:34.943Z"
   },
   {
    "duration": 10,
    "start_time": "2024-02-28T07:24:42.184Z"
   },
   {
    "duration": 8,
    "start_time": "2024-02-28T07:24:50.386Z"
   },
   {
    "duration": 12,
    "start_time": "2024-02-28T07:25:03.754Z"
   },
   {
    "duration": 6,
    "start_time": "2024-02-28T07:25:12.556Z"
   },
   {
    "duration": 5,
    "start_time": "2024-02-28T07:28:43.349Z"
   },
   {
    "duration": 43,
    "start_time": "2024-02-28T07:28:43.509Z"
   },
   {
    "duration": 7,
    "start_time": "2024-02-28T07:28:43.646Z"
   },
   {
    "duration": 10,
    "start_time": "2024-02-28T07:28:43.787Z"
   },
   {
    "duration": 2,
    "start_time": "2024-02-28T07:28:43.925Z"
   },
   {
    "duration": 7,
    "start_time": "2024-02-28T07:28:44.186Z"
   },
   {
    "duration": 293,
    "start_time": "2024-02-28T07:28:53.791Z"
   },
   {
    "duration": 8,
    "start_time": "2024-02-28T07:28:54.085Z"
   },
   {
    "duration": 255,
    "start_time": "2024-02-28T07:28:54.225Z"
   },
   {
    "duration": 170,
    "start_time": "2024-02-28T07:28:54.503Z"
   },
   {
    "duration": 4,
    "start_time": "2024-02-28T07:28:54.798Z"
   },
   {
    "duration": 460,
    "start_time": "2024-02-28T07:28:54.950Z"
   },
   {
    "duration": 4,
    "start_time": "2024-02-28T07:28:55.688Z"
   },
   {
    "duration": 3,
    "start_time": "2024-02-28T07:28:56.543Z"
   },
   {
    "duration": 411,
    "start_time": "2024-02-28T07:28:56.695Z"
   },
   {
    "duration": 5,
    "start_time": "2024-02-28T07:29:00.758Z"
   },
   {
    "duration": 26,
    "start_time": "2024-02-28T07:29:06.514Z"
   },
   {
    "duration": 35,
    "start_time": "2024-02-28T07:29:06.996Z"
   },
   {
    "duration": 2,
    "start_time": "2024-02-28T07:29:08.316Z"
   },
   {
    "duration": 10,
    "start_time": "2024-02-28T07:29:09.617Z"
   },
   {
    "duration": 4,
    "start_time": "2024-02-28T07:29:10.543Z"
   },
   {
    "duration": 6,
    "start_time": "2024-02-28T07:29:10.850Z"
   },
   {
    "duration": 12,
    "start_time": "2024-02-28T07:29:11.544Z"
   },
   {
    "duration": 24,
    "start_time": "2024-02-28T07:29:11.892Z"
   },
   {
    "duration": 20,
    "start_time": "2024-02-28T07:29:12.694Z"
   },
   {
    "duration": 3,
    "start_time": "2024-02-28T07:29:13.728Z"
   },
   {
    "duration": 3,
    "start_time": "2024-02-28T07:29:14.281Z"
   },
   {
    "duration": 308,
    "start_time": "2024-02-28T07:29:15.213Z"
   },
   {
    "duration": 4,
    "start_time": "2024-02-28T07:29:15.806Z"
   },
   {
    "duration": 2,
    "start_time": "2024-02-28T07:29:17.533Z"
   },
   {
    "duration": 3,
    "start_time": "2024-02-28T07:29:17.726Z"
   },
   {
    "duration": 3,
    "start_time": "2024-02-28T07:29:17.890Z"
   },
   {
    "duration": 7084,
    "start_time": "2024-02-28T07:29:18.067Z"
   },
   {
    "duration": 4,
    "start_time": "2024-02-28T07:29:25.153Z"
   },
   {
    "duration": 14,
    "start_time": "2024-02-28T07:29:25.158Z"
   },
   {
    "duration": 12,
    "start_time": "2024-02-28T07:29:25.174Z"
   },
   {
    "duration": 14,
    "start_time": "2024-02-28T07:29:25.188Z"
   },
   {
    "duration": 134403,
    "start_time": "2024-02-28T07:29:25.203Z"
   },
   {
    "duration": 4,
    "start_time": "2024-02-28T07:31:39.608Z"
   },
   {
    "duration": 5,
    "start_time": "2024-02-28T07:31:39.614Z"
   },
   {
    "duration": 17,
    "start_time": "2024-02-28T07:31:39.621Z"
   },
   {
    "duration": 13,
    "start_time": "2024-02-28T07:31:39.642Z"
   },
   {
    "duration": 4050180,
    "start_time": "2024-02-28T07:31:39.657Z"
   },
   {
    "duration": 81,
    "start_time": "2024-02-28T08:39:09.838Z"
   },
   {
    "duration": 1800,
    "start_time": "2024-02-29T22:16:30.761Z"
   },
   {
    "duration": 134,
    "start_time": "2024-02-29T22:16:32.564Z"
   },
   {
    "duration": 12,
    "start_time": "2024-02-29T22:16:32.701Z"
   },
   {
    "duration": 30,
    "start_time": "2024-02-29T22:16:32.715Z"
   },
   {
    "duration": 3,
    "start_time": "2024-02-29T22:16:40.404Z"
   },
   {
    "duration": 9,
    "start_time": "2024-02-29T22:16:40.983Z"
   },
   {
    "duration": 374,
    "start_time": "2024-02-29T22:16:41.887Z"
   },
   {
    "duration": 8,
    "start_time": "2024-02-29T22:16:42.370Z"
   },
   {
    "duration": 350,
    "start_time": "2024-02-29T22:16:42.561Z"
   },
   {
    "duration": 202,
    "start_time": "2024-02-29T22:16:42.918Z"
   },
   {
    "duration": 4,
    "start_time": "2024-02-29T22:16:43.284Z"
   },
   {
    "duration": 344,
    "start_time": "2024-02-29T22:16:43.464Z"
   },
   {
    "duration": 4,
    "start_time": "2024-02-29T22:16:43.810Z"
   },
   {
    "duration": 3,
    "start_time": "2024-02-29T22:16:43.840Z"
   },
   {
    "duration": 431,
    "start_time": "2024-02-29T22:16:44.015Z"
   },
   {
    "duration": 4,
    "start_time": "2024-02-29T22:16:45.154Z"
   },
   {
    "duration": 21,
    "start_time": "2024-02-29T22:16:45.456Z"
   },
   {
    "duration": 32,
    "start_time": "2024-02-29T22:16:46.019Z"
   },
   {
    "duration": 35,
    "start_time": "2024-02-29T22:17:12.351Z"
   },
   {
    "duration": 49,
    "start_time": "2024-02-29T22:17:23.014Z"
   },
   {
    "duration": 24,
    "start_time": "2024-02-29T22:17:33.133Z"
   },
   {
    "duration": 3,
    "start_time": "2024-02-29T22:17:53.298Z"
   },
   {
    "duration": 9,
    "start_time": "2024-02-29T22:17:54.732Z"
   },
   {
    "duration": 4,
    "start_time": "2024-02-29T22:17:54.962Z"
   },
   {
    "duration": 5,
    "start_time": "2024-02-29T22:17:55.149Z"
   },
   {
    "duration": 15,
    "start_time": "2024-02-29T22:17:55.639Z"
   },
   {
    "duration": 28,
    "start_time": "2024-02-29T22:17:55.897Z"
   },
   {
    "duration": 21,
    "start_time": "2024-02-29T22:17:56.342Z"
   },
   {
    "duration": 3,
    "start_time": "2024-02-29T22:17:57.440Z"
   },
   {
    "duration": 3,
    "start_time": "2024-02-29T22:17:57.706Z"
   },
   {
    "duration": 241,
    "start_time": "2024-02-29T22:17:57.944Z"
   },
   {
    "duration": 4,
    "start_time": "2024-02-29T22:17:58.282Z"
   },
   {
    "duration": 3,
    "start_time": "2024-02-29T22:17:59.227Z"
   },
   {
    "duration": 2,
    "start_time": "2024-02-29T22:17:59.893Z"
   },
   {
    "duration": 3,
    "start_time": "2024-02-29T22:18:00.275Z"
   },
   {
    "duration": 7401,
    "start_time": "2024-02-29T22:18:00.581Z"
   },
   {
    "duration": 3,
    "start_time": "2024-02-29T22:18:07.984Z"
   },
   {
    "duration": 6,
    "start_time": "2024-02-29T22:18:07.989Z"
   },
   {
    "duration": 4,
    "start_time": "2024-02-29T22:18:07.997Z"
   },
   {
    "duration": 11,
    "start_time": "2024-02-29T22:18:08.002Z"
   },
   {
    "duration": 144331,
    "start_time": "2024-02-29T22:18:08.015Z"
   },
   {
    "duration": 3,
    "start_time": "2024-02-29T22:20:32.348Z"
   },
   {
    "duration": 134,
    "start_time": "2024-02-29T22:20:41.389Z"
   },
   {
    "duration": 9,
    "start_time": "2024-02-29T22:20:42.077Z"
   },
   {
    "duration": 13,
    "start_time": "2024-02-29T22:20:42.440Z"
   },
   {
    "duration": 6,
    "start_time": "2024-02-29T22:20:42.997Z"
   },
   {
    "duration": 6,
    "start_time": "2024-02-29T22:22:23.094Z"
   },
   {
    "duration": 8,
    "start_time": "2024-02-29T22:22:55.364Z"
   },
   {
    "duration": 7,
    "start_time": "2024-02-29T22:24:03.438Z"
   },
   {
    "duration": 3,
    "start_time": "2024-02-29T22:34:56.060Z"
   },
   {
    "duration": 4,
    "start_time": "2024-02-29T22:34:56.947Z"
   },
   {
    "duration": 11,
    "start_time": "2024-02-29T22:35:01.935Z"
   },
   {
    "duration": 3,
    "start_time": "2024-02-29T22:35:20.268Z"
   },
   {
    "duration": 5,
    "start_time": "2024-02-29T22:35:20.656Z"
   },
   {
    "duration": 3,
    "start_time": "2024-02-29T22:35:21.395Z"
   },
   {
    "duration": 143444,
    "start_time": "2024-02-29T22:35:21.764Z"
   },
   {
    "duration": 3,
    "start_time": "2024-02-29T22:37:45.210Z"
   },
   {
    "duration": 26,
    "start_time": "2024-02-29T22:37:45.215Z"
   },
   {
    "duration": 5,
    "start_time": "2024-02-29T22:39:43.211Z"
   },
   {
    "duration": 55,
    "start_time": "2024-03-01T18:59:38.170Z"
   },
   {
    "duration": 1695,
    "start_time": "2024-03-01T18:59:43.663Z"
   },
   {
    "duration": 123,
    "start_time": "2024-03-01T18:59:45.360Z"
   },
   {
    "duration": 11,
    "start_time": "2024-03-01T18:59:45.485Z"
   },
   {
    "duration": 13,
    "start_time": "2024-03-01T18:59:45.498Z"
   },
   {
    "duration": 3,
    "start_time": "2024-03-01T18:59:45.512Z"
   },
   {
    "duration": 14,
    "start_time": "2024-03-01T18:59:45.517Z"
   },
   {
    "duration": 378,
    "start_time": "2024-03-01T18:59:46.220Z"
   },
   {
    "duration": 403,
    "start_time": "2024-03-01T18:59:54.352Z"
   },
   {
    "duration": 318,
    "start_time": "2024-03-01T19:11:15.591Z"
   },
   {
    "duration": 6,
    "start_time": "2024-03-01T19:11:31.467Z"
   },
   {
    "duration": 48,
    "start_time": "2024-03-01T19:11:31.915Z"
   },
   {
    "duration": 12,
    "start_time": "2024-03-01T19:11:32.258Z"
   },
   {
    "duration": 11,
    "start_time": "2024-03-01T19:11:32.562Z"
   },
   {
    "duration": 3,
    "start_time": "2024-03-01T19:11:40.805Z"
   },
   {
    "duration": 6,
    "start_time": "2024-03-01T19:11:41.605Z"
   },
   {
    "duration": 325,
    "start_time": "2024-03-01T19:11:45.543Z"
   },
   {
    "duration": 6,
    "start_time": "2024-03-01T19:11:56.855Z"
   },
   {
    "duration": 348,
    "start_time": "2024-03-01T19:11:57.601Z"
   },
   {
    "duration": 367,
    "start_time": "2024-03-01T19:12:40.084Z"
   },
   {
    "duration": 366,
    "start_time": "2024-03-01T19:12:48.661Z"
   },
   {
    "duration": 4,
    "start_time": "2024-03-01T19:12:59.075Z"
   },
   {
    "duration": 411,
    "start_time": "2024-03-01T19:13:03.062Z"
   },
   {
    "duration": 7,
    "start_time": "2024-03-01T19:13:18.894Z"
   },
   {
    "duration": 272,
    "start_time": "2024-03-01T19:13:19.194Z"
   },
   {
    "duration": 183,
    "start_time": "2024-03-01T19:13:21.040Z"
   },
   {
    "duration": 272,
    "start_time": "2024-03-01T19:17:13.100Z"
   },
   {
    "duration": 190,
    "start_time": "2024-03-01T19:17:26.238Z"
   },
   {
    "duration": 3,
    "start_time": "2024-03-01T19:18:23.889Z"
   },
   {
    "duration": 4,
    "start_time": "2024-03-01T19:20:48.845Z"
   },
   {
    "duration": 4,
    "start_time": "2024-03-01T19:21:07.216Z"
   },
   {
    "duration": 21,
    "start_time": "2024-03-01T19:21:14.585Z"
   },
   {
    "duration": 24,
    "start_time": "2024-03-01T19:21:16.402Z"
   },
   {
    "duration": 4,
    "start_time": "2024-03-01T19:22:02.636Z"
   },
   {
    "duration": 9,
    "start_time": "2024-03-01T19:22:02.866Z"
   },
   {
    "duration": 5,
    "start_time": "2024-03-01T19:22:03.083Z"
   },
   {
    "duration": 5,
    "start_time": "2024-03-01T19:22:03.247Z"
   },
   {
    "duration": 13,
    "start_time": "2024-03-01T19:22:12.795Z"
   },
   {
    "duration": 25,
    "start_time": "2024-03-01T19:22:13.007Z"
   },
   {
    "duration": 22,
    "start_time": "2024-03-01T19:22:13.183Z"
   },
   {
    "duration": 4,
    "start_time": "2024-03-01T19:24:37.897Z"
   },
   {
    "duration": 3,
    "start_time": "2024-03-01T19:25:42.754Z"
   },
   {
    "duration": 3,
    "start_time": "2024-03-01T19:26:32.252Z"
   },
   {
    "duration": 2,
    "start_time": "2024-03-01T19:26:47.842Z"
   },
   {
    "duration": 158,
    "start_time": "2024-03-01T19:26:51.067Z"
   },
   {
    "duration": 3,
    "start_time": "2024-03-01T19:26:52.626Z"
   },
   {
    "duration": 2,
    "start_time": "2024-03-01T19:27:05.822Z"
   },
   {
    "duration": 335,
    "start_time": "2024-03-01T19:27:06.790Z"
   },
   {
    "duration": 4,
    "start_time": "2024-03-01T19:27:07.242Z"
   },
   {
    "duration": 3,
    "start_time": "2024-03-01T19:27:18.719Z"
   },
   {
    "duration": 121,
    "start_time": "2024-03-01T19:27:19.608Z"
   },
   {
    "duration": 3,
    "start_time": "2024-03-01T19:27:21.449Z"
   },
   {
    "duration": 3,
    "start_time": "2024-03-01T19:27:49.369Z"
   },
   {
    "duration": 2,
    "start_time": "2024-03-01T19:28:10.604Z"
   },
   {
    "duration": 3,
    "start_time": "2024-03-01T19:28:13.913Z"
   },
   {
    "duration": 3,
    "start_time": "2024-03-01T19:28:26.678Z"
   },
   {
    "duration": 10096,
    "start_time": "2024-03-01T19:28:27.409Z"
   },
   {
    "duration": 3,
    "start_time": "2024-03-01T19:28:37.507Z"
   },
   {
    "duration": 3,
    "start_time": "2024-03-01T19:29:49.114Z"
   },
   {
    "duration": 2,
    "start_time": "2024-03-01T19:29:49.681Z"
   },
   {
    "duration": 76,
    "start_time": "2024-03-01T19:29:58.232Z"
   },
   {
    "duration": 2,
    "start_time": "2024-03-01T19:30:03.777Z"
   },
   {
    "duration": 169364,
    "start_time": "2024-03-01T19:30:04.258Z"
   },
   {
    "duration": 3,
    "start_time": "2024-03-01T19:32:53.624Z"
   },
   {
    "duration": 13,
    "start_time": "2024-03-01T19:32:53.628Z"
   },
   {
    "duration": 6,
    "start_time": "2024-03-01T19:37:33.749Z"
   },
   {
    "duration": 12,
    "start_time": "2024-03-01T19:37:40.757Z"
   },
   {
    "duration": 3,
    "start_time": "2024-03-01T19:37:54.315Z"
   },
   {
    "duration": 4,
    "start_time": "2024-03-01T19:38:10.655Z"
   },
   {
    "duration": 3,
    "start_time": "2024-03-01T19:38:11.132Z"
   },
   {
    "duration": 47980,
    "start_time": "2024-03-01T19:38:11.469Z"
   },
   {
    "duration": 3,
    "start_time": "2024-03-01T19:38:59.451Z"
   },
   {
    "duration": 6,
    "start_time": "2024-03-01T19:40:08.192Z"
   },
   {
    "duration": 3,
    "start_time": "2024-03-01T19:41:58.268Z"
   },
   {
    "duration": 3,
    "start_time": "2024-03-01T19:42:00.906Z"
   },
   {
    "duration": 2,
    "start_time": "2024-03-01T19:43:13.059Z"
   },
   {
    "duration": 3,
    "start_time": "2024-03-01T19:43:13.527Z"
   },
   {
    "duration": 2,
    "start_time": "2024-03-01T19:43:13.991Z"
   },
   {
    "duration": 832844,
    "start_time": "2024-03-01T19:43:15.040Z"
   },
   {
    "duration": 4,
    "start_time": "2024-03-01T19:57:07.886Z"
   },
   {
    "duration": 7,
    "start_time": "2024-03-01T20:17:36.002Z"
   },
   {
    "duration": 3,
    "start_time": "2024-03-01T20:17:59.902Z"
   },
   {
    "duration": 2,
    "start_time": "2024-03-01T20:18:00.228Z"
   },
   {
    "duration": 2,
    "start_time": "2024-03-01T20:18:00.651Z"
   },
   {
    "duration": 47858,
    "start_time": "2024-03-01T20:18:01.107Z"
   },
   {
    "duration": 4,
    "start_time": "2024-03-01T20:18:48.966Z"
   },
   {
    "duration": 7,
    "start_time": "2024-03-01T20:19:03.908Z"
   },
   {
    "duration": 3,
    "start_time": "2024-03-01T20:23:51.225Z"
   },
   {
    "duration": 8,
    "start_time": "2024-03-01T20:23:51.393Z"
   },
   {
    "duration": 5,
    "start_time": "2024-03-01T20:23:51.650Z"
   },
   {
    "duration": 6,
    "start_time": "2024-03-01T20:23:51.929Z"
   },
   {
    "duration": 15,
    "start_time": "2024-03-01T20:23:52.994Z"
   },
   {
    "duration": 21,
    "start_time": "2024-03-01T20:23:53.299Z"
   },
   {
    "duration": 20,
    "start_time": "2024-03-01T20:23:53.540Z"
   },
   {
    "duration": 3,
    "start_time": "2024-03-01T20:23:55.194Z"
   },
   {
    "duration": 3,
    "start_time": "2024-03-01T20:23:55.223Z"
   },
   {
    "duration": 95,
    "start_time": "2024-03-01T20:23:56.230Z"
   },
   {
    "duration": 3,
    "start_time": "2024-03-01T20:23:59.459Z"
   },
   {
    "duration": 2,
    "start_time": "2024-03-01T20:24:34.128Z"
   },
   {
    "duration": 3,
    "start_time": "2024-03-01T20:24:39.670Z"
   },
   {
    "duration": 3,
    "start_time": "2024-03-01T20:24:39.847Z"
   },
   {
    "duration": 397,
    "start_time": "2024-03-01T20:24:40.530Z"
   },
   {
    "duration": 3,
    "start_time": "2024-03-01T20:24:41.159Z"
   },
   {
    "duration": 4,
    "start_time": "2024-03-01T20:24:51.746Z"
   },
   {
    "duration": 7,
    "start_time": "2024-03-01T20:24:51.923Z"
   },
   {
    "duration": 4,
    "start_time": "2024-03-01T20:24:52.057Z"
   },
   {
    "duration": 6,
    "start_time": "2024-03-01T20:24:52.204Z"
   },
   {
    "duration": 13,
    "start_time": "2024-03-01T20:24:52.613Z"
   },
   {
    "duration": 22,
    "start_time": "2024-03-01T20:24:52.768Z"
   },
   {
    "duration": 21,
    "start_time": "2024-03-01T20:24:52.876Z"
   },
   {
    "duration": 2,
    "start_time": "2024-03-01T20:24:53.266Z"
   },
   {
    "duration": 3,
    "start_time": "2024-03-01T20:24:53.647Z"
   },
   {
    "duration": 665,
    "start_time": "2024-03-01T20:24:54.169Z"
   },
   {
    "duration": 89,
    "start_time": "2024-03-01T20:24:54.836Z"
   },
   {
    "duration": 3,
    "start_time": "2024-03-01T20:25:46.655Z"
   },
   {
    "duration": 2,
    "start_time": "2024-03-01T20:25:50.809Z"
   },
   {
    "duration": 2,
    "start_time": "2024-03-01T20:25:50.971Z"
   },
   {
    "duration": 86,
    "start_time": "2024-03-01T20:25:51.343Z"
   },
   {
    "duration": 4,
    "start_time": "2024-03-01T20:25:51.873Z"
   },
   {
    "duration": 3,
    "start_time": "2024-03-01T20:26:01.057Z"
   },
   {
    "duration": 8,
    "start_time": "2024-03-01T20:26:01.210Z"
   },
   {
    "duration": 4,
    "start_time": "2024-03-01T20:26:01.363Z"
   },
   {
    "duration": 6,
    "start_time": "2024-03-01T20:26:01.508Z"
   },
   {
    "duration": 13,
    "start_time": "2024-03-01T20:26:01.931Z"
   },
   {
    "duration": 21,
    "start_time": "2024-03-01T20:26:02.081Z"
   },
   {
    "duration": 23,
    "start_time": "2024-03-01T20:26:02.229Z"
   },
   {
    "duration": 3,
    "start_time": "2024-03-01T20:26:03.858Z"
   },
   {
    "duration": 3,
    "start_time": "2024-03-01T20:26:04.028Z"
   },
   {
    "duration": 108,
    "start_time": "2024-03-01T20:26:04.616Z"
   },
   {
    "duration": 3,
    "start_time": "2024-03-01T20:26:05.223Z"
   },
   {
    "duration": 2,
    "start_time": "2024-03-01T20:26:18.135Z"
   },
   {
    "duration": 2,
    "start_time": "2024-03-01T20:26:23.115Z"
   },
   {
    "duration": 3,
    "start_time": "2024-03-01T20:26:23.350Z"
   },
   {
    "duration": 23,
    "start_time": "2024-03-01T20:26:24.209Z"
   },
   {
    "duration": 4,
    "start_time": "2024-03-01T20:26:25.621Z"
   },
   {
    "duration": 71,
    "start_time": "2024-03-01T20:26:51.054Z"
   },
   {
    "duration": 3,
    "start_time": "2024-03-01T20:26:56.431Z"
   },
   {
    "duration": 3,
    "start_time": "2024-03-01T20:26:56.474Z"
   },
   {
    "duration": 3,
    "start_time": "2024-03-01T20:26:56.593Z"
   },
   {
    "duration": 12225,
    "start_time": "2024-03-01T20:26:56.765Z"
   },
   {
    "duration": 3,
    "start_time": "2024-03-01T20:27:08.992Z"
   },
   {
    "duration": 6,
    "start_time": "2024-03-01T20:27:48.474Z"
   },
   {
    "duration": 2,
    "start_time": "2024-03-01T20:29:22.094Z"
   },
   {
    "duration": 8,
    "start_time": "2024-03-01T20:29:22.608Z"
   },
   {
    "duration": 4,
    "start_time": "2024-03-01T20:29:22.774Z"
   },
   {
    "duration": 6,
    "start_time": "2024-03-01T20:29:22.904Z"
   },
   {
    "duration": 14,
    "start_time": "2024-03-01T20:29:23.393Z"
   },
   {
    "duration": 31,
    "start_time": "2024-03-01T20:29:23.548Z"
   },
   {
    "duration": 23,
    "start_time": "2024-03-01T20:29:23.938Z"
   },
   {
    "duration": 3,
    "start_time": "2024-03-01T20:29:24.817Z"
   },
   {
    "duration": 3,
    "start_time": "2024-03-01T20:29:25.043Z"
   },
   {
    "duration": 22,
    "start_time": "2024-03-01T20:29:25.849Z"
   },
   {
    "duration": 3,
    "start_time": "2024-03-01T20:29:26.476Z"
   },
   {
    "duration": 6,
    "start_time": "2024-03-01T20:29:34.642Z"
   },
   {
    "duration": 6,
    "start_time": "2024-03-01T20:30:52.662Z"
   },
   {
    "duration": 8,
    "start_time": "2024-03-01T20:30:57.729Z"
   },
   {
    "duration": 81,
    "start_time": "2024-03-01T20:35:15.997Z"
   },
   {
    "duration": 3,
    "start_time": "2024-03-01T20:35:20.448Z"
   },
   {
    "duration": 3,
    "start_time": "2024-03-01T20:35:21.066Z"
   },
   {
    "duration": 35677,
    "start_time": "2024-03-01T20:35:21.358Z"
   },
   {
    "duration": 3,
    "start_time": "2024-03-01T20:35:57.037Z"
   },
   {
    "duration": 6,
    "start_time": "2024-03-01T20:36:13.164Z"
   },
   {
    "duration": 36583,
    "start_time": "2024-03-01T20:36:56.229Z"
   },
   {
    "duration": 9,
    "start_time": "2024-03-01T20:37:32.814Z"
   },
   {
    "duration": 3,
    "start_time": "2024-03-01T20:37:37.652Z"
   },
   {
    "duration": 2,
    "start_time": "2024-03-01T20:37:39.194Z"
   },
   {
    "duration": 4,
    "start_time": "2024-03-01T20:37:39.713Z"
   },
   {
    "duration": 22865,
    "start_time": "2024-03-01T20:37:40.416Z"
   },
   {
    "duration": 3,
    "start_time": "2024-03-01T20:38:03.283Z"
   },
   {
    "duration": 7,
    "start_time": "2024-03-01T20:38:45.701Z"
   },
   {
    "duration": 2,
    "start_time": "2024-03-01T20:38:49.281Z"
   },
   {
    "duration": 3,
    "start_time": "2024-03-01T20:38:49.500Z"
   },
   {
    "duration": 4,
    "start_time": "2024-03-01T20:38:49.768Z"
   },
   {
    "duration": 10036,
    "start_time": "2024-03-01T20:38:50.121Z"
   },
   {
    "duration": 3,
    "start_time": "2024-03-01T20:39:00.159Z"
   },
   {
    "duration": 8,
    "start_time": "2024-03-01T20:39:04.921Z"
   },
   {
    "duration": 3,
    "start_time": "2024-03-01T20:39:16.131Z"
   },
   {
    "duration": 3,
    "start_time": "2024-03-01T20:39:16.463Z"
   },
   {
    "duration": 71536,
    "start_time": "2024-03-01T20:39:16.700Z"
   },
   {
    "duration": 3,
    "start_time": "2024-03-01T20:40:28.239Z"
   },
   {
    "duration": 4,
    "start_time": "2024-03-01T20:42:20.384Z"
   },
   {
    "duration": 11,
    "start_time": "2024-03-01T20:42:32.400Z"
   },
   {
    "duration": 20,
    "start_time": "2024-03-01T20:42:32.603Z"
   },
   {
    "duration": 3,
    "start_time": "2024-03-01T20:42:33.334Z"
   },
   {
    "duration": 8,
    "start_time": "2024-03-01T20:42:33.869Z"
   },
   {
    "duration": 4,
    "start_time": "2024-03-01T20:42:34.194Z"
   },
   {
    "duration": 6,
    "start_time": "2024-03-01T20:42:34.416Z"
   },
   {
    "duration": 12,
    "start_time": "2024-03-01T20:42:35.052Z"
   },
   {
    "duration": 22,
    "start_time": "2024-03-01T20:42:35.355Z"
   },
   {
    "duration": 21,
    "start_time": "2024-03-01T20:42:35.624Z"
   },
   {
    "duration": 3,
    "start_time": "2024-03-01T20:42:36.531Z"
   },
   {
    "duration": 3,
    "start_time": "2024-03-01T20:42:36.799Z"
   },
   {
    "duration": 22,
    "start_time": "2024-03-01T20:42:37.396Z"
   },
   {
    "duration": 3,
    "start_time": "2024-03-01T20:42:37.881Z"
   },
   {
    "duration": 2,
    "start_time": "2024-03-01T20:42:39.740Z"
   },
   {
    "duration": 3,
    "start_time": "2024-03-01T20:42:40.008Z"
   },
   {
    "duration": 3,
    "start_time": "2024-03-01T20:42:40.217Z"
   },
   {
    "duration": 73241,
    "start_time": "2024-03-01T20:42:40.419Z"
   },
   {
    "duration": 4,
    "start_time": "2024-03-01T20:43:53.662Z"
   },
   {
    "duration": 24,
    "start_time": "2024-03-01T20:43:53.668Z"
   },
   {
    "duration": 21,
    "start_time": "2024-03-01T20:43:53.694Z"
   },
   {
    "duration": 20,
    "start_time": "2024-03-01T20:43:53.717Z"
   },
   {
    "duration": 10953,
    "start_time": "2024-03-01T20:43:53.739Z"
   },
   {
    "duration": 4,
    "start_time": "2024-03-01T20:44:04.693Z"
   },
   {
    "duration": 7,
    "start_time": "2024-03-01T20:44:12.135Z"
   },
   {
    "duration": 7,
    "start_time": "2024-03-01T20:44:17.756Z"
   },
   {
    "duration": 11,
    "start_time": "2024-03-01T20:44:23.059Z"
   },
   {
    "duration": 12,
    "start_time": "2024-03-01T20:44:27.136Z"
   },
   {
    "duration": 1532,
    "start_time": "2024-03-01T20:45:03.004Z"
   },
   {
    "duration": 60,
    "start_time": "2024-03-01T20:45:04.538Z"
   },
   {
    "duration": 13,
    "start_time": "2024-03-01T20:45:04.601Z"
   },
   {
    "duration": 10,
    "start_time": "2024-03-01T20:45:04.616Z"
   },
   {
    "duration": 2,
    "start_time": "2024-03-01T20:45:04.628Z"
   },
   {
    "duration": 12,
    "start_time": "2024-03-01T20:45:04.632Z"
   },
   {
    "duration": 417,
    "start_time": "2024-03-01T20:45:04.645Z"
   },
   {
    "duration": 6,
    "start_time": "2024-03-01T20:45:05.064Z"
   },
   {
    "duration": 369,
    "start_time": "2024-03-01T20:45:05.071Z"
   },
   {
    "duration": 4,
    "start_time": "2024-03-01T20:45:05.441Z"
   },
   {
    "duration": 23,
    "start_time": "2024-03-01T20:45:05.446Z"
   },
   {
    "duration": 359,
    "start_time": "2024-03-01T20:45:05.471Z"
   },
   {
    "duration": 209,
    "start_time": "2024-03-01T20:45:05.831Z"
   },
   {
    "duration": 4,
    "start_time": "2024-03-01T20:45:06.043Z"
   },
   {
    "duration": 31,
    "start_time": "2024-03-01T20:45:06.048Z"
   },
   {
    "duration": 23,
    "start_time": "2024-03-01T20:45:06.080Z"
   },
   {
    "duration": 18,
    "start_time": "2024-03-01T20:45:06.105Z"
   },
   {
    "duration": 20,
    "start_time": "2024-03-01T20:45:06.125Z"
   },
   {
    "duration": 14,
    "start_time": "2024-03-01T20:45:06.146Z"
   },
   {
    "duration": 7,
    "start_time": "2024-03-01T20:45:06.161Z"
   },
   {
    "duration": 15,
    "start_time": "2024-03-01T20:45:06.169Z"
   },
   {
    "duration": 38,
    "start_time": "2024-03-01T20:45:06.186Z"
   },
   {
    "duration": 21,
    "start_time": "2024-03-01T20:45:06.226Z"
   },
   {
    "duration": 6,
    "start_time": "2024-03-01T20:45:06.248Z"
   },
   {
    "duration": 9,
    "start_time": "2024-03-01T20:45:06.255Z"
   },
   {
    "duration": 59,
    "start_time": "2024-03-01T20:45:06.266Z"
   },
   {
    "duration": 5,
    "start_time": "2024-03-01T20:45:06.329Z"
   },
   {
    "duration": 87,
    "start_time": "2024-03-01T20:45:06.336Z"
   },
   {
    "duration": 3,
    "start_time": "2024-03-01T20:45:06.425Z"
   },
   {
    "duration": 12,
    "start_time": "2024-03-01T20:45:06.430Z"
   },
   {
    "duration": 71067,
    "start_time": "2024-03-01T20:45:06.443Z"
   },
   {
    "duration": 4,
    "start_time": "2024-03-01T20:46:17.512Z"
   },
   {
    "duration": 3,
    "start_time": "2024-03-01T20:46:17.523Z"
   },
   {
    "duration": 6,
    "start_time": "2024-03-01T20:46:17.528Z"
   },
   {
    "duration": 11,
    "start_time": "2024-03-01T20:46:17.536Z"
   },
   {
    "duration": 9961,
    "start_time": "2024-03-01T20:46:17.549Z"
   },
   {
    "duration": 4,
    "start_time": "2024-03-01T20:46:27.511Z"
   },
   {
    "duration": 15,
    "start_time": "2024-03-01T20:46:27.516Z"
   },
   {
    "duration": 8,
    "start_time": "2024-03-01T20:54:38.792Z"
   },
   {
    "duration": 6,
    "start_time": "2024-03-01T20:54:43.746Z"
   },
   {
    "duration": 2,
    "start_time": "2024-03-01T21:04:59.005Z"
   },
   {
    "duration": 3,
    "start_time": "2024-03-01T21:04:59.347Z"
   },
   {
    "duration": 22605,
    "start_time": "2024-03-01T21:04:59.681Z"
   },
   {
    "duration": 3,
    "start_time": "2024-03-01T21:05:22.288Z"
   },
   {
    "duration": 11,
    "start_time": "2024-03-01T21:05:36.977Z"
   },
   {
    "duration": 3,
    "start_time": "2024-03-01T21:09:34.605Z"
   },
   {
    "duration": 3,
    "start_time": "2024-03-01T21:09:36.458Z"
   },
   {
    "duration": 1730060,
    "start_time": "2024-03-01T21:09:37.876Z"
   },
   {
    "duration": 0,
    "start_time": "2024-03-01T21:38:27.937Z"
   },
   {
    "duration": 2,
    "start_time": "2024-03-01T21:38:31.519Z"
   },
   {
    "duration": 3,
    "start_time": "2024-03-01T21:38:34.284Z"
   },
   {
    "duration": 3,
    "start_time": "2024-03-01T21:38:34.951Z"
   },
   {
    "duration": 824870,
    "start_time": "2024-03-01T21:38:34.980Z"
   },
   {
    "duration": 3,
    "start_time": "2024-03-01T21:52:19.852Z"
   },
   {
    "duration": 8,
    "start_time": "2024-03-01T21:55:35.536Z"
   },
   {
    "duration": 2,
    "start_time": "2024-03-01T21:55:53.810Z"
   },
   {
    "duration": 3,
    "start_time": "2024-03-01T21:55:55.736Z"
   },
   {
    "duration": 11343,
    "start_time": "2024-03-01T21:55:55.885Z"
   },
   {
    "duration": 3,
    "start_time": "2024-03-01T21:56:07.230Z"
   },
   {
    "duration": 7,
    "start_time": "2024-03-01T21:57:19.963Z"
   },
   {
    "duration": 3,
    "start_time": "2024-03-01T21:57:26.783Z"
   },
   {
    "duration": 3,
    "start_time": "2024-03-01T21:57:33.661Z"
   },
   {
    "duration": 3,
    "start_time": "2024-03-01T21:57:33.863Z"
   },
   {
    "duration": 3,
    "start_time": "2024-03-01T21:57:34.022Z"
   },
   {
    "duration": 9845,
    "start_time": "2024-03-01T21:57:34.177Z"
   },
   {
    "duration": 3,
    "start_time": "2024-03-01T21:57:44.024Z"
   },
   {
    "duration": 7,
    "start_time": "2024-03-01T21:57:51.901Z"
   },
   {
    "duration": 3,
    "start_time": "2024-03-01T21:57:59.192Z"
   },
   {
    "duration": 7,
    "start_time": "2024-03-01T21:57:59.359Z"
   },
   {
    "duration": 4,
    "start_time": "2024-03-01T21:57:59.496Z"
   },
   {
    "duration": 5,
    "start_time": "2024-03-01T21:57:59.649Z"
   },
   {
    "duration": 12,
    "start_time": "2024-03-01T21:58:00.290Z"
   },
   {
    "duration": 21,
    "start_time": "2024-03-01T21:58:03.599Z"
   },
   {
    "duration": 22,
    "start_time": "2024-03-01T21:58:03.823Z"
   },
   {
    "duration": 3,
    "start_time": "2024-03-01T21:58:05.976Z"
   },
   {
    "duration": 2,
    "start_time": "2024-03-01T21:58:06.324Z"
   },
   {
    "duration": 28,
    "start_time": "2024-03-01T21:58:08.310Z"
   },
   {
    "duration": 3,
    "start_time": "2024-03-01T21:58:08.789Z"
   },
   {
    "duration": 3,
    "start_time": "2024-03-01T21:58:12.590Z"
   },
   {
    "duration": 4,
    "start_time": "2024-03-01T21:58:13.036Z"
   },
   {
    "duration": 3,
    "start_time": "2024-03-01T21:58:13.374Z"
   },
   {
    "duration": 70936,
    "start_time": "2024-03-01T21:58:14.251Z"
   },
   {
    "duration": 4,
    "start_time": "2024-03-01T21:59:25.190Z"
   },
   {
    "duration": 24,
    "start_time": "2024-03-01T21:59:25.196Z"
   },
   {
    "duration": 4,
    "start_time": "2024-03-01T21:59:25.223Z"
   },
   {
    "duration": 12,
    "start_time": "2024-03-01T21:59:25.229Z"
   },
   {
    "duration": 10344,
    "start_time": "2024-03-01T21:59:25.243Z"
   },
   {
    "duration": 3,
    "start_time": "2024-03-01T21:59:35.589Z"
   },
   {
    "duration": 10,
    "start_time": "2024-03-01T21:59:43.019Z"
   },
   {
    "duration": 4,
    "start_time": "2024-03-01T22:00:07.224Z"
   },
   {
    "duration": 46,
    "start_time": "2024-03-01T22:00:07.529Z"
   },
   {
    "duration": 7,
    "start_time": "2024-03-01T22:00:07.829Z"
   },
   {
    "duration": 9,
    "start_time": "2024-03-01T22:00:07.978Z"
   },
   {
    "duration": 2,
    "start_time": "2024-03-01T22:00:08.125Z"
   },
   {
    "duration": 8,
    "start_time": "2024-03-01T22:00:08.407Z"
   },
   {
    "duration": 328,
    "start_time": "2024-03-01T22:00:08.997Z"
   },
   {
    "duration": 6,
    "start_time": "2024-03-01T22:00:09.327Z"
   },
   {
    "duration": 384,
    "start_time": "2024-03-01T22:00:09.334Z"
   },
   {
    "duration": 3,
    "start_time": "2024-03-01T22:00:09.720Z"
   },
   {
    "duration": 7,
    "start_time": "2024-03-01T22:00:10.326Z"
   },
   {
    "duration": 292,
    "start_time": "2024-03-01T22:00:10.475Z"
   },
   {
    "duration": 178,
    "start_time": "2024-03-01T22:00:10.905Z"
   },
   {
    "duration": 4,
    "start_time": "2024-03-01T22:00:12.280Z"
   },
   {
    "duration": 14,
    "start_time": "2024-03-01T22:00:27.992Z"
   },
   {
    "duration": 17,
    "start_time": "2024-03-01T22:00:28.164Z"
   },
   {
    "duration": 3,
    "start_time": "2024-03-01T22:00:28.496Z"
   },
   {
    "duration": 9,
    "start_time": "2024-03-01T22:00:29.455Z"
   },
   {
    "duration": 4,
    "start_time": "2024-03-01T22:00:29.650Z"
   },
   {
    "duration": 5,
    "start_time": "2024-03-01T22:00:30.019Z"
   },
   {
    "duration": 12,
    "start_time": "2024-03-01T22:00:30.611Z"
   },
   {
    "duration": 16,
    "start_time": "2024-03-01T22:00:30.906Z"
   },
   {
    "duration": 22,
    "start_time": "2024-03-01T22:00:31.134Z"
   },
   {
    "duration": 3,
    "start_time": "2024-03-01T22:00:31.801Z"
   },
   {
    "duration": 2,
    "start_time": "2024-03-01T22:00:32.021Z"
   },
   {
    "duration": 17,
    "start_time": "2024-03-01T22:00:32.500Z"
   },
   {
    "duration": 3,
    "start_time": "2024-03-01T22:00:33.014Z"
   },
   {
    "duration": 3,
    "start_time": "2024-03-01T22:00:34.542Z"
   },
   {
    "duration": 3,
    "start_time": "2024-03-01T22:00:34.721Z"
   },
   {
    "duration": 3,
    "start_time": "2024-03-01T22:00:34.910Z"
   },
   {
    "duration": 64127,
    "start_time": "2024-03-01T22:00:35.521Z"
   },
   {
    "duration": 3,
    "start_time": "2024-03-01T22:01:39.652Z"
   },
   {
    "duration": 3,
    "start_time": "2024-03-01T22:01:48.946Z"
   },
   {
    "duration": 3,
    "start_time": "2024-03-01T22:01:49.116Z"
   },
   {
    "duration": 3,
    "start_time": "2024-03-01T22:01:49.270Z"
   },
   {
    "duration": 7924,
    "start_time": "2024-03-01T22:01:49.446Z"
   },
   {
    "duration": 4,
    "start_time": "2024-03-01T22:01:57.373Z"
   },
   {
    "duration": 7,
    "start_time": "2024-03-01T22:02:01.297Z"
   },
   {
    "duration": 4,
    "start_time": "2024-03-01T22:03:07.583Z"
   },
   {
    "duration": 45,
    "start_time": "2024-03-01T22:03:07.860Z"
   },
   {
    "duration": 7,
    "start_time": "2024-03-01T22:03:08.165Z"
   },
   {
    "duration": 9,
    "start_time": "2024-03-01T22:03:08.325Z"
   },
   {
    "duration": 3,
    "start_time": "2024-03-01T22:03:08.465Z"
   },
   {
    "duration": 7,
    "start_time": "2024-03-01T22:03:08.754Z"
   },
   {
    "duration": 330,
    "start_time": "2024-03-01T22:03:09.348Z"
   },
   {
    "duration": 5,
    "start_time": "2024-03-01T22:03:09.680Z"
   },
   {
    "duration": 352,
    "start_time": "2024-03-01T22:03:09.686Z"
   },
   {
    "duration": 4,
    "start_time": "2024-03-01T22:03:10.082Z"
   },
   {
    "duration": 8,
    "start_time": "2024-03-01T22:03:11.299Z"
   },
   {
    "duration": 355,
    "start_time": "2024-03-01T22:03:11.923Z"
   },
   {
    "duration": 190,
    "start_time": "2024-03-01T22:03:12.467Z"
   },
   {
    "duration": 4,
    "start_time": "2024-03-01T22:03:18.760Z"
   },
   {
    "duration": 35,
    "start_time": "2024-03-01T22:04:17.048Z"
   },
   {
    "duration": 23,
    "start_time": "2024-03-01T22:04:21.499Z"
   },
   {
    "duration": 3,
    "start_time": "2024-03-01T22:04:23.572Z"
   },
   {
    "duration": 9,
    "start_time": "2024-03-01T22:04:23.882Z"
   },
   {
    "duration": 4,
    "start_time": "2024-03-01T22:04:24.192Z"
   },
   {
    "duration": 5,
    "start_time": "2024-03-01T22:04:24.480Z"
   },
   {
    "duration": 15,
    "start_time": "2024-03-01T22:04:25.408Z"
   },
   {
    "duration": 21,
    "start_time": "2024-03-01T22:04:25.942Z"
   },
   {
    "duration": 24,
    "start_time": "2024-03-01T22:04:26.226Z"
   },
   {
    "duration": 2,
    "start_time": "2024-03-01T22:04:28.045Z"
   },
   {
    "duration": 2,
    "start_time": "2024-03-01T22:04:28.318Z"
   },
   {
    "duration": 99,
    "start_time": "2024-03-01T22:04:29.031Z"
   },
   {
    "duration": 4,
    "start_time": "2024-03-01T22:04:29.514Z"
   },
   {
    "duration": 4,
    "start_time": "2024-03-01T22:04:45.388Z"
   },
   {
    "duration": 44,
    "start_time": "2024-03-01T22:04:45.687Z"
   },
   {
    "duration": 7,
    "start_time": "2024-03-01T22:04:45.994Z"
   },
   {
    "duration": 9,
    "start_time": "2024-03-01T22:04:46.132Z"
   },
   {
    "duration": 3,
    "start_time": "2024-03-01T22:04:46.259Z"
   },
   {
    "duration": 7,
    "start_time": "2024-03-01T22:04:46.552Z"
   },
   {
    "duration": 308,
    "start_time": "2024-03-01T22:04:47.139Z"
   },
   {
    "duration": 5,
    "start_time": "2024-03-01T22:04:47.449Z"
   },
   {
    "duration": 389,
    "start_time": "2024-03-01T22:04:47.455Z"
   },
   {
    "duration": 4,
    "start_time": "2024-03-01T22:04:47.846Z"
   },
   {
    "duration": 7,
    "start_time": "2024-03-01T22:04:48.516Z"
   },
   {
    "duration": 291,
    "start_time": "2024-03-01T22:04:49.103Z"
   },
   {
    "duration": 193,
    "start_time": "2024-03-01T22:04:49.559Z"
   },
   {
    "duration": 3,
    "start_time": "2024-03-01T22:04:51.836Z"
   },
   {
    "duration": 20,
    "start_time": "2024-03-01T22:05:02.055Z"
   },
   {
    "duration": 23,
    "start_time": "2024-03-01T22:05:02.255Z"
   },
   {
    "duration": 3,
    "start_time": "2024-03-01T22:05:02.680Z"
   },
   {
    "duration": 9,
    "start_time": "2024-03-01T22:05:02.898Z"
   },
   {
    "duration": 4,
    "start_time": "2024-03-01T22:05:03.080Z"
   },
   {
    "duration": 5,
    "start_time": "2024-03-01T22:05:03.265Z"
   },
   {
    "duration": 13,
    "start_time": "2024-03-01T22:05:03.802Z"
   },
   {
    "duration": 21,
    "start_time": "2024-03-01T22:05:03.987Z"
   },
   {
    "duration": 20,
    "start_time": "2024-03-01T22:05:04.502Z"
   },
   {
    "duration": 3,
    "start_time": "2024-03-01T22:05:05.565Z"
   },
   {
    "duration": 2,
    "start_time": "2024-03-01T22:05:05.794Z"
   },
   {
    "duration": 23,
    "start_time": "2024-03-01T22:05:06.807Z"
   },
   {
    "duration": 104,
    "start_time": "2024-03-01T22:05:06.924Z"
   },
   {
    "duration": 3,
    "start_time": "2024-03-01T22:05:09.321Z"
   },
   {
    "duration": 4,
    "start_time": "2024-03-01T22:05:09.502Z"
   },
   {
    "duration": 3,
    "start_time": "2024-03-01T22:05:09.663Z"
   },
   {
    "duration": 70279,
    "start_time": "2024-03-01T22:05:09.825Z"
   },
   {
    "duration": 4,
    "start_time": "2024-03-01T22:06:20.105Z"
   },
   {
    "duration": 5,
    "start_time": "2024-03-01T22:06:20.122Z"
   },
   {
    "duration": 23,
    "start_time": "2024-03-01T22:06:20.130Z"
   },
   {
    "duration": 11,
    "start_time": "2024-03-01T22:06:20.154Z"
   },
   {
    "duration": 10541,
    "start_time": "2024-03-01T22:06:20.167Z"
   },
   {
    "duration": 3,
    "start_time": "2024-03-01T22:06:30.710Z"
   },
   {
    "duration": 7,
    "start_time": "2024-03-01T22:06:40.986Z"
   },
   {
    "duration": 7,
    "start_time": "2024-03-01T22:06:46.221Z"
   },
   {
    "duration": 6,
    "start_time": "2024-03-01T22:06:53.090Z"
   },
   {
    "duration": 4,
    "start_time": "2024-03-01T22:07:22.768Z"
   },
   {
    "duration": 3,
    "start_time": "2024-03-01T22:07:23.265Z"
   },
   {
    "duration": 5788,
    "start_time": "2024-03-01T22:07:23.870Z"
   },
   {
    "duration": 3,
    "start_time": "2024-03-01T22:07:29.659Z"
   },
   {
    "duration": 3,
    "start_time": "2024-03-01T22:07:36.304Z"
   },
   {
    "duration": 3,
    "start_time": "2024-03-01T22:07:36.472Z"
   },
   {
    "duration": 5871,
    "start_time": "2024-03-01T22:07:36.641Z"
   },
   {
    "duration": 3,
    "start_time": "2024-03-01T22:07:42.514Z"
   },
   {
    "duration": 3,
    "start_time": "2024-03-01T22:08:09.431Z"
   },
   {
    "duration": 3,
    "start_time": "2024-03-01T22:08:09.629Z"
   },
   {
    "duration": 5892,
    "start_time": "2024-03-01T22:08:09.966Z"
   },
   {
    "duration": 4,
    "start_time": "2024-03-01T22:08:15.861Z"
   },
   {
    "duration": 3,
    "start_time": "2024-03-01T22:08:22.940Z"
   },
   {
    "duration": 2,
    "start_time": "2024-03-01T22:08:23.490Z"
   },
   {
    "duration": 5739,
    "start_time": "2024-03-01T22:08:23.885Z"
   },
   {
    "duration": 3,
    "start_time": "2024-03-01T22:08:29.626Z"
   },
   {
    "duration": 6,
    "start_time": "2024-03-01T22:08:34.297Z"
   },
   {
    "duration": 6,
    "start_time": "2024-03-01T22:08:39.025Z"
   },
   {
    "duration": 2,
    "start_time": "2024-03-01T22:08:43.946Z"
   },
   {
    "duration": 3,
    "start_time": "2024-03-01T22:08:44.134Z"
   },
   {
    "duration": 5999,
    "start_time": "2024-03-01T22:08:44.324Z"
   },
   {
    "duration": 4,
    "start_time": "2024-03-01T22:08:50.324Z"
   },
   {
    "duration": 6,
    "start_time": "2024-03-01T22:08:54.493Z"
   },
   {
    "duration": 3,
    "start_time": "2024-03-01T22:09:12.787Z"
   },
   {
    "duration": 3,
    "start_time": "2024-03-01T22:09:12.954Z"
   },
   {
    "duration": 6329,
    "start_time": "2024-03-01T22:09:13.126Z"
   },
   {
    "duration": 4,
    "start_time": "2024-03-01T22:09:19.456Z"
   },
   {
    "duration": 7,
    "start_time": "2024-03-01T22:09:22.840Z"
   },
   {
    "duration": 3,
    "start_time": "2024-03-01T22:09:54.198Z"
   },
   {
    "duration": 3,
    "start_time": "2024-03-01T22:09:56.203Z"
   },
   {
    "duration": 6482,
    "start_time": "2024-03-01T22:09:56.422Z"
   },
   {
    "duration": 3,
    "start_time": "2024-03-01T22:10:02.906Z"
   },
   {
    "duration": 3,
    "start_time": "2024-03-01T22:10:30.014Z"
   },
   {
    "duration": 3,
    "start_time": "2024-03-01T22:10:30.338Z"
   },
   {
    "duration": 6388,
    "start_time": "2024-03-01T22:10:30.541Z"
   },
   {
    "duration": 3,
    "start_time": "2024-03-01T22:10:36.931Z"
   },
   {
    "duration": 7,
    "start_time": "2024-03-01T22:10:41.492Z"
   },
   {
    "duration": 3,
    "start_time": "2024-03-01T22:10:47.371Z"
   },
   {
    "duration": 3,
    "start_time": "2024-03-01T22:10:47.557Z"
   },
   {
    "duration": 6059,
    "start_time": "2024-03-01T22:10:47.721Z"
   },
   {
    "duration": 3,
    "start_time": "2024-03-01T22:10:53.782Z"
   },
   {
    "duration": 3,
    "start_time": "2024-03-01T22:11:07.775Z"
   },
   {
    "duration": 2,
    "start_time": "2024-03-01T22:11:07.961Z"
   },
   {
    "duration": 14931,
    "start_time": "2024-03-01T22:11:08.131Z"
   },
   {
    "duration": 3,
    "start_time": "2024-03-01T22:11:23.064Z"
   },
   {
    "duration": 7,
    "start_time": "2024-03-01T22:11:27.115Z"
   },
   {
    "duration": 10,
    "start_time": "2024-03-01T22:14:12.162Z"
   },
   {
    "duration": 3,
    "start_time": "2024-03-01T22:14:18.999Z"
   },
   {
    "duration": 4,
    "start_time": "2024-03-01T22:14:23.164Z"
   },
   {
    "duration": 15,
    "start_time": "2024-03-01T22:14:44.974Z"
   },
   {
    "duration": 7,
    "start_time": "2024-03-01T22:14:57.759Z"
   },
   {
    "duration": 9,
    "start_time": "2024-03-01T22:17:31.416Z"
   },
   {
    "duration": 2,
    "start_time": "2024-03-01T22:18:32.427Z"
   },
   {
    "duration": 4,
    "start_time": "2024-03-01T22:18:51.838Z"
   },
   {
    "duration": 10,
    "start_time": "2024-03-01T22:20:33.774Z"
   },
   {
    "duration": 280,
    "start_time": "2024-03-01T22:20:47.255Z"
   },
   {
    "duration": 339,
    "start_time": "2024-03-01T22:21:25.702Z"
   },
   {
    "duration": 269,
    "start_time": "2024-03-01T22:21:50.951Z"
   },
   {
    "duration": 260,
    "start_time": "2024-03-01T22:21:56.750Z"
   },
   {
    "duration": 1831,
    "start_time": "2024-03-02T08:52:27.157Z"
   },
   {
    "duration": 154,
    "start_time": "2024-03-02T08:52:28.990Z"
   },
   {
    "duration": 11,
    "start_time": "2024-03-02T08:52:29.146Z"
   },
   {
    "duration": 15,
    "start_time": "2024-03-02T08:52:29.159Z"
   },
   {
    "duration": 3,
    "start_time": "2024-03-02T08:52:29.175Z"
   },
   {
    "duration": 12,
    "start_time": "2024-03-02T08:52:29.179Z"
   },
   {
    "duration": 382,
    "start_time": "2024-03-02T08:52:29.192Z"
   },
   {
    "duration": 6,
    "start_time": "2024-03-02T08:52:29.575Z"
   },
   {
    "duration": 428,
    "start_time": "2024-03-02T08:52:29.583Z"
   },
   {
    "duration": 4,
    "start_time": "2024-03-02T08:52:30.013Z"
   },
   {
    "duration": 39,
    "start_time": "2024-03-02T08:52:30.019Z"
   },
   {
    "duration": 297,
    "start_time": "2024-03-02T08:52:30.059Z"
   },
   {
    "duration": 192,
    "start_time": "2024-03-02T08:52:30.357Z"
   },
   {
    "duration": 4,
    "start_time": "2024-03-02T08:52:30.551Z"
   },
   {
    "duration": 174,
    "start_time": "2024-03-02T08:52:30.557Z"
   },
   {
    "duration": 33,
    "start_time": "2024-03-02T08:52:30.732Z"
   },
   {
    "duration": 43,
    "start_time": "2024-03-02T08:52:30.766Z"
   },
   {
    "duration": 54,
    "start_time": "2024-03-02T08:52:30.811Z"
   },
   {
    "duration": 36,
    "start_time": "2024-03-02T08:52:30.867Z"
   },
   {
    "duration": 48,
    "start_time": "2024-03-02T08:52:30.905Z"
   },
   {
    "duration": 73,
    "start_time": "2024-03-02T08:52:30.955Z"
   },
   {
    "duration": 60,
    "start_time": "2024-03-02T08:52:31.029Z"
   },
   {
    "duration": 88,
    "start_time": "2024-03-02T08:52:31.091Z"
   },
   {
    "duration": 32,
    "start_time": "2024-03-02T08:52:31.181Z"
   },
   {
    "duration": 46,
    "start_time": "2024-03-02T08:52:31.215Z"
   },
   {
    "duration": 62,
    "start_time": "2024-03-02T08:52:31.263Z"
   },
   {
    "duration": 51,
    "start_time": "2024-03-02T08:52:31.328Z"
   },
   {
    "duration": 124,
    "start_time": "2024-03-02T08:52:31.386Z"
   },
   {
    "duration": 36,
    "start_time": "2024-03-02T08:52:31.512Z"
   },
   {
    "duration": 59,
    "start_time": "2024-03-02T08:52:31.550Z"
   },
   {
    "duration": 71292,
    "start_time": "2024-03-02T08:52:31.610Z"
   },
   {
    "duration": 4,
    "start_time": "2024-03-02T08:53:42.904Z"
   },
   {
    "duration": 5,
    "start_time": "2024-03-02T08:53:42.909Z"
   },
   {
    "duration": 18,
    "start_time": "2024-03-02T08:53:42.915Z"
   },
   {
    "duration": 5,
    "start_time": "2024-03-02T08:53:42.935Z"
   },
   {
    "duration": 16432,
    "start_time": "2024-03-02T08:53:42.941Z"
   },
   {
    "duration": 3,
    "start_time": "2024-03-02T08:53:59.375Z"
   },
   {
    "duration": 5,
    "start_time": "2024-03-02T08:53:59.379Z"
   },
   {
    "duration": 8,
    "start_time": "2024-03-02T08:53:59.385Z"
   },
   {
    "duration": 9,
    "start_time": "2024-03-02T08:53:59.394Z"
   },
   {
    "duration": 443,
    "start_time": "2024-03-02T08:53:59.474Z"
   },
   {
    "duration": 3,
    "start_time": "2024-03-02T08:53:59.919Z"
   },
   {
    "duration": 11,
    "start_time": "2024-03-02T08:53:59.924Z"
   },
   {
    "duration": 265,
    "start_time": "2024-03-02T08:57:35.974Z"
   },
   {
    "duration": 86,
    "start_time": "2024-03-02T09:00:26.891Z"
   },
   {
    "duration": 249,
    "start_time": "2024-03-02T09:00:29.390Z"
   },
   {
    "duration": 6,
    "start_time": "2024-03-02T09:01:57.544Z"
   },
   {
    "duration": 5,
    "start_time": "2024-03-02T09:04:06.975Z"
   },
   {
    "duration": 48,
    "start_time": "2024-03-02T09:04:07.283Z"
   },
   {
    "duration": 6,
    "start_time": "2024-03-02T09:04:07.555Z"
   },
   {
    "duration": 10,
    "start_time": "2024-03-02T09:04:07.694Z"
   },
   {
    "duration": 2,
    "start_time": "2024-03-02T09:04:07.792Z"
   },
   {
    "duration": 9,
    "start_time": "2024-03-02T09:04:08.074Z"
   },
   {
    "duration": 330,
    "start_time": "2024-03-02T09:04:08.640Z"
   },
   {
    "duration": 6,
    "start_time": "2024-03-02T09:04:08.973Z"
   },
   {
    "duration": 382,
    "start_time": "2024-03-02T09:04:08.985Z"
   },
   {
    "duration": 5,
    "start_time": "2024-03-02T09:04:09.368Z"
   },
   {
    "duration": 8,
    "start_time": "2024-03-02T09:04:11.229Z"
   },
   {
    "duration": 376,
    "start_time": "2024-03-02T09:04:11.877Z"
   },
   {
    "duration": 211,
    "start_time": "2024-03-02T09:04:13.219Z"
   },
   {
    "duration": 4,
    "start_time": "2024-03-02T09:04:16.479Z"
   },
   {
    "duration": 22,
    "start_time": "2024-03-02T09:04:19.126Z"
   },
   {
    "duration": 23,
    "start_time": "2024-03-02T09:04:20.151Z"
   },
   {
    "duration": 3,
    "start_time": "2024-03-02T09:04:21.415Z"
   },
   {
    "duration": 8,
    "start_time": "2024-03-02T09:04:22.968Z"
   },
   {
    "duration": 7,
    "start_time": "2024-03-02T09:05:46.911Z"
   },
   {
    "duration": 7,
    "start_time": "2024-03-02T09:05:54.146Z"
   },
   {
    "duration": 4,
    "start_time": "2024-03-02T09:06:08.568Z"
   },
   {
    "duration": 7,
    "start_time": "2024-03-02T09:06:32.091Z"
   },
   {
    "duration": 14,
    "start_time": "2024-03-02T09:06:33.483Z"
   },
   {
    "duration": 21,
    "start_time": "2024-03-02T09:06:33.745Z"
   },
   {
    "duration": 21,
    "start_time": "2024-03-02T09:06:34.004Z"
   },
   {
    "duration": 3,
    "start_time": "2024-03-02T09:06:35.062Z"
   },
   {
    "duration": 3,
    "start_time": "2024-03-02T09:06:36.172Z"
   },
   {
    "duration": 386,
    "start_time": "2024-03-02T09:06:37.693Z"
   },
   {
    "duration": 4,
    "start_time": "2024-03-02T09:06:39.210Z"
   },
   {
    "duration": 3,
    "start_time": "2024-03-02T09:06:44.415Z"
   },
   {
    "duration": 3,
    "start_time": "2024-03-02T09:06:44.919Z"
   },
   {
    "duration": 3,
    "start_time": "2024-03-02T09:06:45.127Z"
   },
   {
    "duration": 244073,
    "start_time": "2024-03-02T09:06:45.323Z"
   },
   {
    "duration": 4,
    "start_time": "2024-03-02T09:10:49.398Z"
   },
   {
    "duration": 5,
    "start_time": "2024-03-02T09:10:49.404Z"
   },
   {
    "duration": 5,
    "start_time": "2024-03-02T09:10:49.411Z"
   },
   {
    "duration": 5,
    "start_time": "2024-03-02T09:10:49.418Z"
   },
   {
    "duration": 19406,
    "start_time": "2024-03-02T09:10:49.424Z"
   },
   {
    "duration": 3,
    "start_time": "2024-03-02T09:11:08.832Z"
   },
   {
    "duration": 24,
    "start_time": "2024-03-02T09:11:08.837Z"
   },
   {
    "duration": 28,
    "start_time": "2024-03-02T09:11:08.863Z"
   },
   {
    "duration": 277,
    "start_time": "2024-03-02T09:12:58.516Z"
   },
   {
    "duration": 4,
    "start_time": "2024-03-02T09:13:39.104Z"
   },
   {
    "duration": 3,
    "start_time": "2024-03-02T09:13:44.347Z"
   },
   {
    "duration": 85,
    "start_time": "2024-03-02T09:14:06.690Z"
   },
   {
    "duration": 7,
    "start_time": "2024-03-02T09:14:18.014Z"
   },
   {
    "duration": 6,
    "start_time": "2024-03-02T09:14:24.899Z"
   },
   {
    "duration": 6,
    "start_time": "2024-03-02T09:14:29.358Z"
   },
   {
    "duration": 10,
    "start_time": "2024-03-02T09:14:33.790Z"
   },
   {
    "duration": 7,
    "start_time": "2024-03-02T09:14:39.209Z"
   },
   {
    "duration": 252,
    "start_time": "2024-03-02T09:14:39.637Z"
   },
   {
    "duration": 265,
    "start_time": "2024-03-02T09:16:07.594Z"
   },
   {
    "duration": 255,
    "start_time": "2024-03-02T09:16:12.583Z"
   },
   {
    "duration": 260,
    "start_time": "2024-03-02T09:16:16.921Z"
   },
   {
    "duration": 251,
    "start_time": "2024-03-02T09:16:22.830Z"
   },
   {
    "duration": 250,
    "start_time": "2024-03-02T09:16:28.707Z"
   },
   {
    "duration": 167,
    "start_time": "2024-03-02T09:17:14.774Z"
   },
   {
    "duration": 256,
    "start_time": "2024-03-02T09:17:25.409Z"
   },
   {
    "duration": 268,
    "start_time": "2024-03-02T09:18:30.422Z"
   },
   {
    "duration": 280,
    "start_time": "2024-03-02T09:19:16.447Z"
   },
   {
    "duration": 300,
    "start_time": "2024-03-02T09:19:45.169Z"
   },
   {
    "duration": 290,
    "start_time": "2024-03-02T09:20:05.475Z"
   },
   {
    "duration": 3,
    "start_time": "2024-03-02T09:21:56.315Z"
   },
   {
    "duration": 6,
    "start_time": "2024-03-02T09:21:56.514Z"
   },
   {
    "duration": 27,
    "start_time": "2024-03-02T09:24:33.034Z"
   },
   {
    "duration": 16,
    "start_time": "2024-03-02T09:27:28.394Z"
   },
   {
    "duration": 1826,
    "start_time": "2024-03-02T09:27:48.647Z"
   },
   {
    "duration": 1930,
    "start_time": "2024-03-02T09:29:01.445Z"
   },
   {
    "duration": 2046,
    "start_time": "2024-03-02T09:29:05.831Z"
   },
   {
    "duration": 2023,
    "start_time": "2024-03-02T09:29:55.752Z"
   },
   {
    "duration": 2076,
    "start_time": "2024-03-02T09:30:02.201Z"
   },
   {
    "duration": 2094,
    "start_time": "2024-03-02T09:30:52.986Z"
   },
   {
    "duration": 1741,
    "start_time": "2024-03-02T09:30:59.537Z"
   },
   {
    "duration": 55,
    "start_time": "2024-03-03T09:10:24.386Z"
   },
   {
    "duration": 2118,
    "start_time": "2024-03-03T09:10:29.107Z"
   },
   {
    "duration": 118,
    "start_time": "2024-03-03T09:10:31.228Z"
   },
   {
    "duration": 61,
    "start_time": "2024-03-03T09:10:31.348Z"
   },
   {
    "duration": 80,
    "start_time": "2024-03-03T09:10:31.412Z"
   },
   {
    "duration": 121,
    "start_time": "2024-03-03T09:10:31.494Z"
   },
   {
    "duration": 87,
    "start_time": "2024-03-03T09:10:31.618Z"
   },
   {
    "duration": 427,
    "start_time": "2024-03-03T09:10:31.707Z"
   },
   {
    "duration": 7,
    "start_time": "2024-03-03T09:10:32.137Z"
   },
   {
    "duration": 583,
    "start_time": "2024-03-03T09:10:32.146Z"
   },
   {
    "duration": 20,
    "start_time": "2024-03-03T09:10:32.733Z"
   },
   {
    "duration": 1914,
    "start_time": "2024-03-03T09:10:34.113Z"
   },
   {
    "duration": 1706,
    "start_time": "2024-03-03T09:10:50.017Z"
   },
   {
    "duration": 1641,
    "start_time": "2024-03-03T09:11:01.084Z"
   },
   {
    "duration": 4,
    "start_time": "2024-03-03T09:12:32.886Z"
   },
   {
    "duration": 4,
    "start_time": "2024-03-03T09:13:46.099Z"
   },
   {
    "duration": 1507,
    "start_time": "2024-03-03T09:15:36.718Z"
   },
   {
    "duration": 50,
    "start_time": "2024-03-03T09:15:38.227Z"
   },
   {
    "duration": 11,
    "start_time": "2024-03-03T09:15:38.279Z"
   },
   {
    "duration": 11,
    "start_time": "2024-03-03T09:15:38.292Z"
   },
   {
    "duration": 3,
    "start_time": "2024-03-03T09:15:38.305Z"
   },
   {
    "duration": 20,
    "start_time": "2024-03-03T09:15:38.310Z"
   },
   {
    "duration": 402,
    "start_time": "2024-03-03T09:15:38.332Z"
   },
   {
    "duration": 8,
    "start_time": "2024-03-03T09:15:38.736Z"
   },
   {
    "duration": 391,
    "start_time": "2024-03-03T09:15:38.746Z"
   },
   {
    "duration": 6,
    "start_time": "2024-03-03T09:15:39.141Z"
   },
   {
    "duration": 1882,
    "start_time": "2024-03-03T09:15:39.149Z"
   },
   {
    "duration": 100,
    "start_time": "2024-03-03T09:15:41.033Z"
   },
   {
    "duration": 97,
    "start_time": "2024-03-03T09:15:41.137Z"
   },
   {
    "duration": 312,
    "start_time": "2024-03-03T09:15:41.236Z"
   },
   {
    "duration": 228,
    "start_time": "2024-03-03T09:15:41.550Z"
   },
   {
    "duration": 4,
    "start_time": "2024-03-03T09:15:41.780Z"
   },
   {
    "duration": 39,
    "start_time": "2024-03-03T09:15:41.786Z"
   },
   {
    "duration": 24,
    "start_time": "2024-03-03T09:15:41.827Z"
   },
   {
    "duration": 22,
    "start_time": "2024-03-03T09:15:41.853Z"
   },
   {
    "duration": 22,
    "start_time": "2024-03-03T09:15:41.877Z"
   },
   {
    "duration": 11,
    "start_time": "2024-03-03T09:15:41.901Z"
   },
   {
    "duration": 21,
    "start_time": "2024-03-03T09:15:41.913Z"
   },
   {
    "duration": 133,
    "start_time": "2024-03-03T09:15:41.935Z"
   },
   {
    "duration": 0,
    "start_time": "2024-03-03T09:15:42.070Z"
   },
   {
    "duration": 0,
    "start_time": "2024-03-03T09:15:42.072Z"
   },
   {
    "duration": 0,
    "start_time": "2024-03-03T09:15:42.073Z"
   },
   {
    "duration": 0,
    "start_time": "2024-03-03T09:15:42.074Z"
   },
   {
    "duration": 0,
    "start_time": "2024-03-03T09:15:42.075Z"
   },
   {
    "duration": 0,
    "start_time": "2024-03-03T09:15:42.077Z"
   },
   {
    "duration": 0,
    "start_time": "2024-03-03T09:15:42.080Z"
   },
   {
    "duration": 0,
    "start_time": "2024-03-03T09:15:42.081Z"
   },
   {
    "duration": 0,
    "start_time": "2024-03-03T09:15:42.083Z"
   },
   {
    "duration": 0,
    "start_time": "2024-03-03T09:15:42.085Z"
   },
   {
    "duration": 0,
    "start_time": "2024-03-03T09:15:42.087Z"
   },
   {
    "duration": 0,
    "start_time": "2024-03-03T09:15:42.088Z"
   },
   {
    "duration": 0,
    "start_time": "2024-03-03T09:15:42.090Z"
   },
   {
    "duration": 0,
    "start_time": "2024-03-03T09:15:42.092Z"
   },
   {
    "duration": 0,
    "start_time": "2024-03-03T09:15:42.122Z"
   },
   {
    "duration": 0,
    "start_time": "2024-03-03T09:15:42.124Z"
   },
   {
    "duration": 1,
    "start_time": "2024-03-03T09:15:42.126Z"
   },
   {
    "duration": 0,
    "start_time": "2024-03-03T09:15:42.128Z"
   },
   {
    "duration": 0,
    "start_time": "2024-03-03T09:15:42.129Z"
   },
   {
    "duration": 0,
    "start_time": "2024-03-03T09:15:42.131Z"
   },
   {
    "duration": 0,
    "start_time": "2024-03-03T09:15:42.133Z"
   },
   {
    "duration": 0,
    "start_time": "2024-03-03T09:15:42.135Z"
   },
   {
    "duration": 1664,
    "start_time": "2024-03-03T09:20:34.702Z"
   },
   {
    "duration": 51,
    "start_time": "2024-03-03T09:20:36.369Z"
   },
   {
    "duration": 13,
    "start_time": "2024-03-03T09:20:36.422Z"
   },
   {
    "duration": 23,
    "start_time": "2024-03-03T09:20:36.437Z"
   },
   {
    "duration": 3,
    "start_time": "2024-03-03T09:20:36.464Z"
   },
   {
    "duration": 14,
    "start_time": "2024-03-03T09:20:36.470Z"
   },
   {
    "duration": 444,
    "start_time": "2024-03-03T09:20:36.486Z"
   },
   {
    "duration": 6,
    "start_time": "2024-03-03T09:20:36.932Z"
   },
   {
    "duration": 387,
    "start_time": "2024-03-03T09:20:36.940Z"
   },
   {
    "duration": 5,
    "start_time": "2024-03-03T09:20:37.330Z"
   },
   {
    "duration": 2387,
    "start_time": "2024-03-03T09:20:37.337Z"
   },
   {
    "duration": 10,
    "start_time": "2024-03-03T09:20:39.727Z"
   },
   {
    "duration": 113,
    "start_time": "2024-03-03T09:20:39.738Z"
   },
   {
    "duration": 308,
    "start_time": "2024-03-03T09:20:39.950Z"
   },
   {
    "duration": 206,
    "start_time": "2024-03-03T09:20:40.260Z"
   },
   {
    "duration": 5,
    "start_time": "2024-03-03T09:20:40.468Z"
   },
   {
    "duration": 28,
    "start_time": "2024-03-03T09:20:40.475Z"
   },
   {
    "duration": 38,
    "start_time": "2024-03-03T09:20:40.504Z"
   },
   {
    "duration": 4,
    "start_time": "2024-03-03T09:20:40.544Z"
   },
   {
    "duration": 20,
    "start_time": "2024-03-03T09:20:40.550Z"
   },
   {
    "duration": 9,
    "start_time": "2024-03-03T09:20:40.572Z"
   },
   {
    "duration": 18,
    "start_time": "2024-03-03T09:20:40.583Z"
   },
   {
    "duration": 35,
    "start_time": "2024-03-03T09:20:40.604Z"
   },
   {
    "duration": 27,
    "start_time": "2024-03-03T09:20:40.641Z"
   },
   {
    "duration": 33,
    "start_time": "2024-03-03T09:20:40.670Z"
   },
   {
    "duration": 18,
    "start_time": "2024-03-03T09:20:40.705Z"
   },
   {
    "duration": 3,
    "start_time": "2024-03-03T09:20:40.725Z"
   },
   {
    "duration": 200,
    "start_time": "2024-03-03T09:20:40.730Z"
   },
   {
    "duration": 94,
    "start_time": "2024-03-03T09:20:40.932Z"
   },
   {
    "duration": 5,
    "start_time": "2024-03-03T09:20:41.034Z"
   },
   {
    "duration": 83,
    "start_time": "2024-03-03T09:20:41.043Z"
   },
   {
    "duration": 6,
    "start_time": "2024-03-03T09:20:41.129Z"
   },
   {
    "duration": 257167,
    "start_time": "2024-03-03T09:20:41.137Z"
   },
   {
    "duration": 4,
    "start_time": "2024-03-03T09:24:58.306Z"
   },
   {
    "duration": 18,
    "start_time": "2024-03-03T09:24:58.312Z"
   },
   {
    "duration": 15,
    "start_time": "2024-03-03T09:24:58.332Z"
   },
   {
    "duration": 29,
    "start_time": "2024-03-03T09:24:58.349Z"
   },
   {
    "duration": 20496,
    "start_time": "2024-03-03T09:24:58.380Z"
   },
   {
    "duration": 7,
    "start_time": "2024-03-03T09:25:18.878Z"
   },
   {
    "duration": 12,
    "start_time": "2024-03-03T09:25:18.887Z"
   },
   {
    "duration": 9,
    "start_time": "2024-03-03T09:25:18.903Z"
   },
   {
    "duration": 13,
    "start_time": "2024-03-03T09:25:18.914Z"
   },
   {
    "duration": 606,
    "start_time": "2024-03-03T09:25:18.930Z"
   },
   {
    "duration": 3,
    "start_time": "2024-03-03T09:25:19.539Z"
   },
   {
    "duration": 11,
    "start_time": "2024-03-03T09:25:19.544Z"
   },
   {
    "duration": 1856,
    "start_time": "2024-04-14T14:44:11.852Z"
   },
   {
    "duration": 171,
    "start_time": "2024-04-14T14:44:19.268Z"
   },
   {
    "duration": 1997,
    "start_time": "2024-04-14T14:44:29.133Z"
   },
   {
    "duration": 92,
    "start_time": "2024-04-14T14:44:31.132Z"
   },
   {
    "duration": 69,
    "start_time": "2024-04-14T14:44:31.226Z"
   },
   {
    "duration": 65,
    "start_time": "2024-04-14T14:44:31.300Z"
   },
   {
    "duration": 9,
    "start_time": "2024-04-14T14:44:31.391Z"
   },
   {
    "duration": 103,
    "start_time": "2024-04-14T14:44:31.402Z"
   },
   {
    "duration": 883,
    "start_time": "2024-04-14T14:44:31.507Z"
   },
   {
    "duration": 9,
    "start_time": "2024-04-14T14:44:32.391Z"
   },
   {
    "duration": 887,
    "start_time": "2024-04-14T14:44:32.402Z"
   },
   {
    "duration": 8,
    "start_time": "2024-04-14T14:44:33.294Z"
   },
   {
    "duration": 1404,
    "start_time": "2024-04-14T14:44:33.304Z"
   },
   {
    "duration": 76,
    "start_time": "2024-04-14T14:44:34.712Z"
   },
   {
    "duration": 18,
    "start_time": "2024-04-14T14:44:34.795Z"
   },
   {
    "duration": 703,
    "start_time": "2024-04-14T14:44:34.887Z"
   },
   {
    "duration": 435,
    "start_time": "2024-04-14T14:44:35.591Z"
   },
   {
    "duration": 56,
    "start_time": "2024-04-14T14:44:36.028Z"
   },
   {
    "duration": 20,
    "start_time": "2024-04-14T14:44:36.086Z"
   },
   {
    "duration": 23,
    "start_time": "2024-04-14T14:44:36.107Z"
   },
   {
    "duration": 56,
    "start_time": "2024-04-14T14:44:36.131Z"
   },
   {
    "duration": 20,
    "start_time": "2024-04-14T14:44:36.189Z"
   },
   {
    "duration": 7,
    "start_time": "2024-04-14T14:44:36.210Z"
   },
   {
    "duration": 22,
    "start_time": "2024-04-14T14:44:36.218Z"
   },
   {
    "duration": 60,
    "start_time": "2024-04-14T14:44:36.241Z"
   },
   {
    "duration": 18,
    "start_time": "2024-04-14T14:44:36.303Z"
   },
   {
    "duration": 82,
    "start_time": "2024-04-14T14:44:36.323Z"
   },
   {
    "duration": 3,
    "start_time": "2024-04-14T14:44:36.406Z"
   },
   {
    "duration": 5,
    "start_time": "2024-04-14T14:44:36.411Z"
   },
   {
    "duration": 583,
    "start_time": "2024-04-14T14:44:36.419Z"
   },
   {
    "duration": 6,
    "start_time": "2024-04-14T14:44:37.005Z"
   },
   {
    "duration": 79,
    "start_time": "2024-04-14T14:44:37.012Z"
   },
   {
    "duration": 8,
    "start_time": "2024-04-14T14:44:37.096Z"
   },
   {
    "duration": 85,
    "start_time": "2024-04-14T14:44:37.108Z"
   },
   {
    "duration": 30991,
    "start_time": "2024-04-14T14:44:37.196Z"
   },
   {
    "duration": 0,
    "start_time": "2024-04-14T14:45:08.189Z"
   },
   {
    "duration": 0,
    "start_time": "2024-04-14T14:45:08.190Z"
   },
   {
    "duration": 0,
    "start_time": "2024-04-14T14:45:08.191Z"
   },
   {
    "duration": 0,
    "start_time": "2024-04-14T14:45:08.192Z"
   },
   {
    "duration": 0,
    "start_time": "2024-04-14T14:45:08.193Z"
   },
   {
    "duration": 0,
    "start_time": "2024-04-14T14:45:08.195Z"
   },
   {
    "duration": 0,
    "start_time": "2024-04-14T14:45:08.196Z"
   },
   {
    "duration": 0,
    "start_time": "2024-04-14T14:45:08.197Z"
   },
   {
    "duration": 0,
    "start_time": "2024-04-14T14:45:08.198Z"
   },
   {
    "duration": 0,
    "start_time": "2024-04-14T14:45:08.199Z"
   },
   {
    "duration": 0,
    "start_time": "2024-04-14T14:45:08.200Z"
   },
   {
    "duration": 0,
    "start_time": "2024-04-14T14:45:08.202Z"
   },
   {
    "duration": 10,
    "start_time": "2024-04-14T14:50:39.599Z"
   },
   {
    "duration": 9,
    "start_time": "2024-04-14T14:50:42.188Z"
   },
   {
    "duration": 10,
    "start_time": "2024-04-14T14:50:42.589Z"
   },
   {
    "duration": 5,
    "start_time": "2024-04-14T14:50:43.085Z"
   },
   {
    "duration": 5320,
    "start_time": "2024-04-14T14:51:13.884Z"
   },
   {
    "duration": 195,
    "start_time": "2024-04-14T14:51:19.205Z"
   },
   {
    "duration": 99,
    "start_time": "2024-04-14T14:51:19.401Z"
   },
   {
    "duration": 88,
    "start_time": "2024-04-14T14:51:19.502Z"
   },
   {
    "duration": 22,
    "start_time": "2024-04-14T14:51:19.592Z"
   },
   {
    "duration": 74,
    "start_time": "2024-04-14T14:51:19.617Z"
   },
   {
    "duration": 2609,
    "start_time": "2024-04-14T14:51:19.699Z"
   },
   {
    "duration": 25,
    "start_time": "2024-04-14T14:51:22.384Z"
   },
   {
    "duration": 2997,
    "start_time": "2024-04-14T14:51:22.411Z"
   },
   {
    "duration": 84,
    "start_time": "2024-04-14T14:51:25.418Z"
   },
   {
    "duration": 10289,
    "start_time": "2024-04-14T14:51:25.509Z"
   },
   {
    "duration": 95,
    "start_time": "2024-04-14T14:51:35.809Z"
   },
   {
    "duration": 85,
    "start_time": "2024-04-14T14:51:35.912Z"
   },
   {
    "duration": 2393,
    "start_time": "2024-04-14T14:51:35.999Z"
   },
   {
    "duration": 1218,
    "start_time": "2024-04-14T14:51:38.394Z"
   },
   {
    "duration": 74,
    "start_time": "2024-04-14T14:51:39.615Z"
   },
   {
    "duration": 102,
    "start_time": "2024-04-14T14:51:39.691Z"
   },
   {
    "duration": 108,
    "start_time": "2024-04-14T14:51:39.794Z"
   },
   {
    "duration": 3,
    "start_time": "2024-04-14T14:51:39.903Z"
   },
   {
    "duration": 89,
    "start_time": "2024-04-14T14:51:39.907Z"
   },
   {
    "duration": 5,
    "start_time": "2024-04-14T14:51:39.997Z"
   },
   {
    "duration": 89,
    "start_time": "2024-04-14T14:51:40.003Z"
   },
   {
    "duration": 96,
    "start_time": "2024-04-14T14:51:40.094Z"
   },
   {
    "duration": 113,
    "start_time": "2024-04-14T14:51:40.191Z"
   },
   {
    "duration": 203,
    "start_time": "2024-04-14T14:51:40.393Z"
   },
   {
    "duration": 4,
    "start_time": "2024-04-14T14:51:40.598Z"
   },
   {
    "duration": 8,
    "start_time": "2024-04-14T14:51:40.604Z"
   },
   {
    "duration": 1605,
    "start_time": "2024-04-14T14:51:40.692Z"
   },
   {
    "duration": 15,
    "start_time": "2024-04-14T14:51:42.383Z"
   },
   {
    "duration": 12,
    "start_time": "2024-04-14T14:51:42.400Z"
   },
   {
    "duration": 15,
    "start_time": "2024-04-14T14:51:42.484Z"
   },
   {
    "duration": 87,
    "start_time": "2024-04-14T14:51:42.501Z"
   },
   {
    "duration": 100494,
    "start_time": "2024-04-14T14:51:42.590Z"
   },
   {
    "duration": 0,
    "start_time": "2024-04-14T14:53:23.089Z"
   },
   {
    "duration": 0,
    "start_time": "2024-04-14T14:53:23.092Z"
   },
   {
    "duration": 0,
    "start_time": "2024-04-14T14:53:23.096Z"
   },
   {
    "duration": 0,
    "start_time": "2024-04-14T14:53:23.099Z"
   },
   {
    "duration": 0,
    "start_time": "2024-04-14T14:53:23.102Z"
   },
   {
    "duration": 0,
    "start_time": "2024-04-14T14:53:23.106Z"
   },
   {
    "duration": 0,
    "start_time": "2024-04-14T14:53:23.186Z"
   },
   {
    "duration": 0,
    "start_time": "2024-04-14T14:53:23.190Z"
   },
   {
    "duration": 0,
    "start_time": "2024-04-14T14:53:23.191Z"
   },
   {
    "duration": 0,
    "start_time": "2024-04-14T14:53:23.195Z"
   },
   {
    "duration": 0,
    "start_time": "2024-04-14T14:53:23.196Z"
   },
   {
    "duration": 0,
    "start_time": "2024-04-14T14:53:23.197Z"
   },
   {
    "duration": 8,
    "start_time": "2024-04-14T14:55:50.685Z"
   },
   {
    "duration": 6,
    "start_time": "2024-04-14T14:55:50.885Z"
   },
   {
    "duration": 4,
    "start_time": "2024-04-14T14:55:50.993Z"
   },
   {
    "duration": 5827,
    "start_time": "2024-04-14T15:13:11.190Z"
   },
   {
    "duration": 369,
    "start_time": "2024-04-14T15:13:17.020Z"
   },
   {
    "duration": 98,
    "start_time": "2024-04-14T15:13:17.398Z"
   },
   {
    "duration": 183,
    "start_time": "2024-04-14T15:13:17.500Z"
   },
   {
    "duration": 3,
    "start_time": "2024-04-14T15:13:17.696Z"
   },
   {
    "duration": 87,
    "start_time": "2024-04-14T15:13:17.704Z"
   },
   {
    "duration": 2717,
    "start_time": "2024-04-14T15:13:17.796Z"
   },
   {
    "duration": 71,
    "start_time": "2024-04-14T15:13:20.514Z"
   },
   {
    "duration": 2820,
    "start_time": "2024-04-14T15:13:20.586Z"
   },
   {
    "duration": 84,
    "start_time": "2024-04-14T15:13:23.407Z"
   },
   {
    "duration": 5716,
    "start_time": "2024-04-14T15:13:23.492Z"
   },
   {
    "duration": 79,
    "start_time": "2024-04-14T15:13:29.210Z"
   },
   {
    "duration": 20,
    "start_time": "2024-04-14T15:13:29.291Z"
   },
   {
    "duration": 2483,
    "start_time": "2024-04-14T15:13:29.619Z"
   },
   {
    "duration": 1586,
    "start_time": "2024-04-14T15:13:32.106Z"
   },
   {
    "duration": 10,
    "start_time": "2024-04-14T15:13:33.698Z"
   },
   {
    "duration": 105,
    "start_time": "2024-04-14T15:13:33.783Z"
   },
   {
    "duration": 108,
    "start_time": "2024-04-14T15:13:33.893Z"
   },
   {
    "duration": 80,
    "start_time": "2024-04-14T15:13:34.006Z"
   },
   {
    "duration": 107,
    "start_time": "2024-04-14T15:13:34.091Z"
   },
   {
    "duration": 86,
    "start_time": "2024-04-14T15:13:34.199Z"
   },
   {
    "duration": 13,
    "start_time": "2024-04-14T15:13:34.287Z"
   },
   {
    "duration": 106,
    "start_time": "2024-04-14T15:13:34.306Z"
   },
   {
    "duration": 102,
    "start_time": "2024-04-14T15:13:34.505Z"
   },
   {
    "duration": 185,
    "start_time": "2024-04-14T15:13:34.610Z"
   },
   {
    "duration": 6,
    "start_time": "2024-04-14T15:13:34.796Z"
   },
   {
    "duration": 88,
    "start_time": "2024-04-14T15:13:34.803Z"
   },
   {
    "duration": 813,
    "start_time": "2024-04-14T15:13:34.896Z"
   },
   {
    "duration": 7,
    "start_time": "2024-04-14T15:13:35.710Z"
   },
   {
    "duration": 101,
    "start_time": "2024-04-14T15:13:35.719Z"
   },
   {
    "duration": 72,
    "start_time": "2024-04-14T15:13:35.823Z"
   },
   {
    "duration": 93,
    "start_time": "2024-04-14T15:13:35.901Z"
   },
   {
    "duration": 1565913,
    "start_time": "2024-04-14T15:13:35.995Z"
   },
   {
    "duration": 83,
    "start_time": "2024-04-14T15:39:41.913Z"
   },
   {
    "duration": 81,
    "start_time": "2024-04-14T15:39:42.007Z"
   },
   {
    "duration": 7,
    "start_time": "2024-04-14T15:39:42.090Z"
   },
   {
    "duration": 8,
    "start_time": "2024-04-14T15:39:42.098Z"
   },
   {
    "duration": 107692,
    "start_time": "2024-04-14T15:39:42.112Z"
   },
   {
    "duration": 79,
    "start_time": "2024-04-14T15:41:29.806Z"
   },
   {
    "duration": 12,
    "start_time": "2024-04-14T15:41:29.888Z"
   },
   {
    "duration": 92,
    "start_time": "2024-04-14T15:41:29.919Z"
   },
   {
    "duration": 121,
    "start_time": "2024-04-14T15:41:30.088Z"
   },
   {
    "duration": 2490,
    "start_time": "2024-04-14T15:41:30.217Z"
   },
   {
    "duration": 76,
    "start_time": "2024-04-14T15:41:32.712Z"
   },
   {
    "duration": 109,
    "start_time": "2024-04-14T15:41:32.792Z"
   }
  ],
  "kernelspec": {
   "display_name": "Python 3 (ipykernel)",
   "language": "python",
   "name": "python3"
  },
  "language_info": {
   "codemirror_mode": {
    "name": "ipython",
    "version": 3
   },
   "file_extension": ".py",
   "mimetype": "text/x-python",
   "name": "python",
   "nbconvert_exporter": "python",
   "pygments_lexer": "ipython3",
   "version": "3.9.5"
  },
  "toc": {
   "base_numbering": 1,
   "nav_menu": {},
   "number_sections": true,
   "sideBar": true,
   "skip_h1_title": true,
   "title_cell": "Содержание",
   "title_sidebar": "Contents",
   "toc_cell": true,
   "toc_position": {},
   "toc_section_display": true,
   "toc_window_display": true
  }
 },
 "nbformat": 4,
 "nbformat_minor": 2
}
